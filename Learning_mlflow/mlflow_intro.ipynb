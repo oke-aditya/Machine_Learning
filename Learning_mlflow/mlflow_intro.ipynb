{
  "nbformat": 4,
  "nbformat_minor": 0,
  "metadata": {
    "colab": {
      "name": "mlflow_intro.ipynb",
      "provenance": []
    },
    "kernelspec": {
      "name": "python3",
      "display_name": "Python 3"
    }
  },
  "cells": [
    {
      "cell_type": "markdown",
      "metadata": {
        "id": "3YSHm0cLq8pZ",
        "colab_type": "text"
      },
      "source": [
        "# Using MLflow\n"
      ]
    },
    {
      "cell_type": "markdown",
      "metadata": {
        "id": "05gJJ91OrtZG",
        "colab_type": "text"
      },
      "source": [
        "- Allows us to train, track experiments.\n",
        "- Allows Machine Learning Tracking.\n",
        "- Experiment tracking, epoch tracking, hyperparameter tracking.\n",
        "- Features tracking, model tracking, code tracking.\n",
        "- SageMaker, Azure, GCP supports MLflow\n",
        "- Used in multiple languages, R, Python, Java, Scala\n",
        "- Has UI also"
      ]
    },
    {
      "cell_type": "markdown",
      "metadata": {
        "id": "WDqxEIZ4rqXy",
        "colab_type": "text"
      },
      "source": [
        "# Installing"
      ]
    },
    {
      "cell_type": "code",
      "metadata": {
        "id": "s0e9OvQzqziP",
        "colab_type": "code",
        "colab": {}
      },
      "source": [
        "! pip install --quiet mlflow"
      ],
      "execution_count": 0,
      "outputs": []
    },
    {
      "cell_type": "code",
      "metadata": {
        "id": "dr_u-JdfrE72",
        "colab_type": "code",
        "colab": {}
      },
      "source": [
        "import mlflow\n",
        "import mlflow.sklearn"
      ],
      "execution_count": 0,
      "outputs": []
    },
    {
      "cell_type": "markdown",
      "metadata": {
        "id": "jf9tmGGgsqGu",
        "colab_type": "text"
      },
      "source": [
        "# Load data"
      ]
    },
    {
      "cell_type": "code",
      "metadata": {
        "id": "otSVDSF9rlzB",
        "colab_type": "code",
        "colab": {}
      },
      "source": [
        "from sklearn.datasets import load_iris\n",
        "from sklearn.tree import DecisionTreeClassifier\n",
        "from sklearn.neighbors import KNeighborsClassifier\n",
        "from sklearn.model_selection import train_test_split\n",
        "from sklearn import metrics"
      ],
      "execution_count": 0,
      "outputs": []
    },
    {
      "cell_type": "code",
      "metadata": {
        "id": "D7O3ML9xtGrp",
        "colab_type": "code",
        "colab": {}
      },
      "source": [
        "data = load_iris()"
      ],
      "execution_count": 0,
      "outputs": []
    },
    {
      "cell_type": "code",
      "metadata": {
        "id": "vYn9WaOJt__Z",
        "colab_type": "code",
        "colab": {
          "base_uri": "https://localhost:8080/",
          "height": 35
        },
        "outputId": "cc81d13f-12cf-48b1-cefe-07316be86b61"
      },
      "source": [
        "# print(data)\n",
        "print(data.target_names)"
      ],
      "execution_count": 47,
      "outputs": [
        {
          "output_type": "stream",
          "text": [
            "['setosa' 'versicolor' 'virginica']\n"
          ],
          "name": "stdout"
        }
      ]
    },
    {
      "cell_type": "code",
      "metadata": {
        "id": "k-h-HIgAuo2N",
        "colab_type": "code",
        "colab": {
          "base_uri": "https://localhost:8080/",
          "height": 35
        },
        "outputId": "776fd2e7-16db-4d33-a070-042bd5d8b4c8"
      },
      "source": [
        "print(data.feature_names)"
      ],
      "execution_count": 48,
      "outputs": [
        {
          "output_type": "stream",
          "text": [
            "['sepal length (cm)', 'sepal width (cm)', 'petal length (cm)', 'petal width (cm)']\n"
          ],
          "name": "stdout"
        }
      ]
    },
    {
      "cell_type": "code",
      "metadata": {
        "id": "LKcmMmWvuDiK",
        "colab_type": "code",
        "colab": {}
      },
      "source": [
        "X = data.data\n",
        "Y = data.target"
      ],
      "execution_count": 0,
      "outputs": []
    },
    {
      "cell_type": "code",
      "metadata": {
        "id": "Wo0YPAz8uVjX",
        "colab_type": "code",
        "colab": {}
      },
      "source": [
        "X_train, X_test, y_train, y_test = train_test_split(X, Y, test_size=0.2, stratify=Y, random_state=31)"
      ],
      "execution_count": 0,
      "outputs": []
    },
    {
      "cell_type": "markdown",
      "metadata": {
        "id": "ACdf6p3dNfFT",
        "colab_type": "text"
      },
      "source": [
        "# Some EDA"
      ]
    },
    {
      "cell_type": "markdown",
      "metadata": {
        "id": "H_r9L6ZBPmPP",
        "colab_type": "text"
      },
      "source": [
        "- Even the EDA results can be tracked by MLFlow.\n",
        "- MLFlow will help in tracking data."
      ]
    },
    {
      "cell_type": "code",
      "metadata": {
        "id": "AJHiQvmwNXLa",
        "colab_type": "code",
        "colab": {}
      },
      "source": [
        "\n",
        "import matplotlib.pyplot as plt\n",
        "from mpl_toolkits.mplot3d import Axes3D\n",
        "from sklearn.decomposition import PCA"
      ],
      "execution_count": 0,
      "outputs": []
    },
    {
      "cell_type": "code",
      "metadata": {
        "id": "_ZhfJujvNnCq",
        "colab_type": "code",
        "colab": {}
      },
      "source": [
        "X = data.data[:, :2]\n",
        "y = data.target"
      ],
      "execution_count": 0,
      "outputs": []
    },
    {
      "cell_type": "code",
      "metadata": {
        "id": "5YudKMqVNvwq",
        "colab_type": "code",
        "colab": {}
      },
      "source": [
        "x_min, x_max = X[:, 0].min() - .5, X[:, 0].max() + .5\n",
        "y_min, y_max = X[:, 1].min() - .5, X[:, 1].max() + .5"
      ],
      "execution_count": 0,
      "outputs": []
    },
    {
      "cell_type": "code",
      "metadata": {
        "id": "snqp5kyQN-2Y",
        "colab_type": "code",
        "colab": {
          "base_uri": "https://localhost:8080/",
          "height": 0
        },
        "outputId": "791fc023-e467-4d7a-af60-400fff03acce"
      },
      "source": [
        "plt.figure(2, figsize=(8, 6))\n",
        "plt.clf()"
      ],
      "execution_count": 54,
      "outputs": [
        {
          "output_type": "display_data",
          "data": {
            "text/plain": [
              "<Figure size 576x432 with 0 Axes>"
            ]
          },
          "metadata": {
            "tags": []
          }
        }
      ]
    },
    {
      "cell_type": "code",
      "metadata": {
        "id": "gnixg5pfOPVu",
        "colab_type": "code",
        "colab": {
          "base_uri": "https://localhost:8080/",
          "height": 0
        },
        "outputId": "8e0f419f-fc46-4889-9f98-74b394a379be"
      },
      "source": [
        "plt.scatter(X[:, 0], X[:, 1], c=y, cmap=plt.cm.Set1, edgecolors='k')\n",
        "plt.xlabel('Sepal Length')\n",
        "plt.ylabel('Sepal Width')\n",
        "plt.xlim(x_min, x_max)\n",
        "plt.ylim(y_min, y_max)\n",
        "plt.xticks([])\n",
        "plt.yticks([])"
      ],
      "execution_count": 55,
      "outputs": [
        {
          "output_type": "execute_result",
          "data": {
            "text/plain": [
              "([], <a list of 0 Text major ticklabel objects>)"
            ]
          },
          "metadata": {
            "tags": []
          },
          "execution_count": 55
        },
        {
          "output_type": "display_data",
          "data": {
            "image/png": "[encoded data removed]",
            "text/plain": [
              "<Figure size 432x288 with 1 Axes>"
            ]
          },
          "metadata": {
            "tags": []
          }
        }
      ]
    },
    {
      "cell_type": "code",
      "metadata": {
        "id": "c-t6ljBeOaw-",
        "colab_type": "code",
        "colab": {
          "base_uri": "https://localhost:8080/",
          "height": 0
        },
        "outputId": "99902cf8-7f34-41a6-a7e7-f5aa6b39c636"
      },
      "source": [
        "fig = plt.figure(1, figsize=(8, 6))\n",
        "ax = Axes3D(fig, elev=-150, azim=110)\n",
        "X_reduced = PCA(n_components=3).fit_transform(data.data)\n",
        "ax.scatter(X_reduced[:, 0], X_reduced[:, 1], X_reduced[:, 2], c=y, cmap=plt.cm.Set1)\n",
        "ax.set_title(\"First three PCA dimensions\")\n",
        "ax.set_xlabel(\"First Eigenvector\")\n",
        "ax.w_xaxis.set_ticklabels([])\n",
        "\n",
        "ax.set_ylabel(\"Second Eigenvector\")\n",
        "ax.w_yaxis.set_ticklabels([])\n",
        "\n",
        "ax.set_zlabel(\"Second Eigenvector\")\n",
        "ax.w_zaxis.set_ticklabels([])\n",
        "\n",
        "fig.savefig('iris1.png')"
      ],
      "execution_count": 56,
      "outputs": [
        {
          "output_type": "display_data",
          "data": {
            "image/png": "[encoded data removed]",
            "text/plain": [
              "<Figure size 576x432 with 1 Axes>"
            ]
          },
          "metadata": {
            "tags": []
          }
        }
      ]
    },
    {
      "cell_type": "markdown",
      "metadata": {
        "id": "lXaazWlOReCe",
        "colab_type": "text"
      },
      "source": [
        "# Using MLFlow"
      ]
    },
    {
      "cell_type": "markdown",
      "metadata": {
        "id": "D1Chr_40SmZa",
        "colab_type": "text"
      },
      "source": [
        "- It takes the pickle file and saves along with the experiment.\n",
        "- It saves the png file of eda as well.\n",
        "- It can even log the feature names.\n",
        "- It can track as many artifacts, metrics and models."
      ]
    },
    {
      "cell_type": "code",
      "metadata": {
        "id": "W7KgGN2LO98C",
        "colab_type": "code",
        "colab": {
          "base_uri": "https://localhost:8080/",
          "height": 35
        },
        "outputId": "d907c083-478e-4b89-db9a-f73d5ded4ab6"
      },
      "source": [
        "with mlflow.start_run():\n",
        "    dtc = DecisionTreeClassifier(random_state=10)\n",
        "    dtc.fit(X_train,y_train)\n",
        "    y_pred_class = dtc.predict(X_test)\n",
        "    accuracy = metrics.accuracy_score(y_test, y_pred_class)\n",
        "\n",
        "    print(accuracy)\n",
        "    mlflow.log_param(\"random_state\", 10)\n",
        "    mlflow.log_metric(\"accuracy\", accuracy)\n",
        "    mlflow.sklearn.log_model(dtc, \"model\")\n",
        "    modelpath = \"/content/mlflow/iris/model-%s-%d\" %(\"decision_tree\", 2)\n",
        "    mlflow.sklearn.save_model(dtc, modelpath)\n",
        "    mlflow.log_artifact(\"iris1.png\")"
      ],
      "execution_count": 58,
      "outputs": [
        {
          "output_type": "stream",
          "text": [
            "0.8666666666666667\n"
          ],
          "name": "stdout"
        }
      ]
    },
    {
      "cell_type": "markdown",
      "metadata": {
        "id": "P4h1sHkudxgW",
        "colab_type": "text"
      },
      "source": [
        "- conda.yaml contains all the dependencies.\n",
        "- it saves the plots as well.\n",
        "- it saves the pickle file of the model.\n",
        "- it has mlmodel file which describes the particular run."
      ]
    },
    {
      "cell_type": "code",
      "metadata": {
        "id": "x6Ut_xFPSY0Z",
        "colab_type": "code",
        "colab": {}
      },
      "source": [
        "! mlflow ui"
      ],
      "execution_count": 0,
      "outputs": []
    },
    {
      "cell_type": "code",
      "metadata": {
        "id": "PsG-GTr2df9g",
        "colab_type": "code",
        "colab": {
          "base_uri": "https://localhost:8080/",
          "height": 35
        },
        "outputId": "ff72842c-a9c9-437a-8388-9b4c6e737df9"
      },
      "source": [
        "with mlflow.start_run():\n",
        "    dtc = DecisionTreeClassifier(max_depth=1, random_state=10)\n",
        "    dtc.fit(X_train,y_train)\n",
        "    y_pred_class = dtc.predict(X_test)\n",
        "    accuracy = metrics.accuracy_score(y_test, y_pred_class)\n",
        "\n",
        "    print(accuracy)\n",
        "    mlflow.log_param(\"random_state\", 10)\n",
        "    mlflow.log_param(\"max_depth\", 1)\n",
        "    mlflow.log_metric(\"accuracy\", accuracy)\n",
        "    mlflow.sklearn.log_model(dtc, \"model\")\n",
        "    modelpath = \"/content/mlflow/iris/model-%s-%d\" %(\"decision_tree\", 3)\n",
        "    mlflow.sklearn.save_model(dtc, modelpath)\n",
        "    mlflow.log_artifact(\"iris1.png\")"
      ],
      "execution_count": 61,
      "outputs": [
        {
          "output_type": "stream",
          "text": [
            "0.6666666666666666\n"
          ],
          "name": "stdout"
        }
      ]
    },
    {
      "cell_type": "code",
      "metadata": {
        "id": "usLW1Qxreqjq",
        "colab_type": "code",
        "colab": {
          "base_uri": "https://localhost:8080/",
          "height": 35
        },
        "outputId": "9b0b11e0-aeb7-4898-8ada-ed3132e4a3af"
      },
      "source": [
        "with mlflow.start_run():\n",
        "    dtc = DecisionTreeClassifier(max_depth=1, min_samples_split=5, random_state=10)\n",
        "    dtc.fit(X_train,y_train)\n",
        "    y_pred_class = dtc.predict(X_test)\n",
        "    accuracy = metrics.accuracy_score(y_test, y_pred_class)\n",
        "\n",
        "    print(accuracy)\n",
        "    mlflow.log_param(\"random_state\", 10)\n",
        "    mlflow.log_param(\"max_depth\", 1)\n",
        "    mlflow.log_metric(\"accuracy\", accuracy)\n",
        "    mlflow.log_param(\"min_samples_split\", 5)\n",
        "    mlflow.sklearn.log_model(dtc, \"model\")\n",
        "    modelpath = \"/content/mlflow/iris/model-%s-%d\" %(\"decision_tree\", 4)\n",
        "    mlflow.sklearn.save_model(dtc, modelpath)\n",
        "    mlflow.log_artifact(\"iris1.png\")"
      ],
      "execution_count": 62,
      "outputs": [
        {
          "output_type": "stream",
          "text": [
            "0.6666666666666666\n"
          ],
          "name": "stdout"
        }
      ]
    },
    {
      "cell_type": "markdown",
      "metadata": {
        "id": "GgoXiWlSfFwx",
        "colab_type": "text"
      },
      "source": [
        "Let's trt another classifier"
      ]
    },
    {
      "cell_type": "code",
      "metadata": {
        "id": "Bsnb11hLfECI",
        "colab_type": "code",
        "colab": {
          "base_uri": "https://localhost:8080/",
          "height": 35
        },
        "outputId": "6b28d239-b3c8-4610-a34e-3be0aa21d65e"
      },
      "source": [
        "with mlflow.start_run():\n",
        "    knn = KNeighborsClassifier(n_neighbors=2)\n",
        "    knn.fit(X_train,y_train)\n",
        "    y_pred_class = knn.predict(X_test)\n",
        "    accuracy = metrics.accuracy_score(y_test, y_pred_class)\n",
        "    print(accuracy)\n",
        "    mlflow.log_param(\"n_neighbors\", 2)\n",
        "    mlflow.log_metric(\"accuracy\", accuracy)\n",
        "    mlflow.sklearn.log_model(knn, \"model\")\n",
        "    model_path = \"/content/mlflow/iris/model-%s-%d\" %(\"knn\", 1)\n",
        "    mlflow.sklearn.save_model(knn, model_path)\n",
        "    mlflow.log_artifact(\"iris1.png\")\n"
      ],
      "execution_count": 65,
      "outputs": [
        {
          "output_type": "stream",
          "text": [
            "0.8666666666666667\n"
          ],
          "name": "stdout"
        }
      ]
    },
    {
      "cell_type": "code",
      "metadata": {
        "id": "rIIhcd1ufv47",
        "colab_type": "code",
        "colab": {
          "base_uri": "https://localhost:8080/",
          "height": 35
        },
        "outputId": "4b22852f-b9b9-4dc1-ec39-7378a73a7610"
      },
      "source": [
        "with mlflow.start_run():\n",
        "    knn = KNeighborsClassifier(n_neighbors=5)\n",
        "    knn.fit(X_train,y_train)\n",
        "    y_pred_class = knn.predict(X_test)\n",
        "    accuracy = metrics.accuracy_score(y_test, y_pred_class)\n",
        "    print(accuracy)\n",
        "    mlflow.log_param(\"n_neighbors\", 5)\n",
        "    mlflow.log_metric(\"accuracy\", accuracy)\n",
        "    mlflow.sklearn.log_model(knn, \"model\")\n",
        "    model_path = \"/content/mlflow/iris/model-%s-%d\" %(\"knn\", 5)\n",
        "    mlflow.sklearn.save_model(knn, model_path)\n",
        "    mlflow.log_artifact(\"iris1.png\")\n"
      ],
      "execution_count": 66,
      "outputs": [
        {
          "output_type": "stream",
          "text": [
            "0.9333333333333333\n"
          ],
          "name": "stdout"
        }
      ]
    },
    {
      "cell_type": "code",
      "metadata": {
        "id": "SO2enA8dgJIS",
        "colab_type": "code",
        "colab": {
          "base_uri": "https://localhost:8080/",
          "height": 605
        },
        "outputId": "7eef1264-0ebe-4107-ce1f-9d08aceae890"
      },
      "source": [
        "mlflow.search_runs()"
      ],
      "execution_count": 68,
      "outputs": [
        {
          "output_type": "execute_result",
          "data": {
            "text/html": [
              "<div>\n",
              "<style scoped>\n",
              "    .dataframe tbody tr th:only-of-type {\n",
              "        vertical-align: middle;\n",
              "    }\n",
              "\n",
              "    .dataframe tbody tr th {\n",
              "        vertical-align: top;\n",
              "    }\n",
              "\n",
              "    .dataframe thead th {\n",
              "        text-align: right;\n",
              "    }\n",
              "</style>\n",
              "<table border=\"1\" class=\"dataframe\">\n",
              "  <thead>\n",
              "    <tr style=\"text-align: right;\">\n",
              "      <th></th>\n",
              "      <th>run_id</th>\n",
              "      <th>experiment_id</th>\n",
              "      <th>status</th>\n",
              "      <th>artifact_uri</th>\n",
              "      <th>start_time</th>\n",
              "      <th>end_time</th>\n",
              "      <th>metrics.accuracy</th>\n",
              "      <th>params.n_neighbors</th>\n",
              "      <th>params.random_state</th>\n",
              "      <th>params.min_samples_split</th>\n",
              "      <th>params.max_depth</th>\n",
              "      <th>tags.mlflow.source.type</th>\n",
              "      <th>tags.mlflow.source.name</th>\n",
              "      <th>tags.mlflow.log-model.history</th>\n",
              "      <th>tags.mlflow.user</th>\n",
              "    </tr>\n",
              "  </thead>\n",
              "  <tbody>\n",
              "    <tr>\n",
              "      <th>0</th>\n",
              "      <td>9ac9e0aa8ce648cfab58c70d33da74e4</td>\n",
              "      <td>0</td>\n",
              "      <td>FINISHED</td>\n",
              "      <td>file:///content/mlruns/0/9ac9e0aa8ce648cfab58c...</td>\n",
              "      <td>2020-04-01 16:08:57.486000+00:00</td>\n",
              "      <td>2020-04-01 16:08:57.538000+00:00</td>\n",
              "      <td>0.933333</td>\n",
              "      <td>5</td>\n",
              "      <td>None</td>\n",
              "      <td>None</td>\n",
              "      <td>None</td>\n",
              "      <td>LOCAL</td>\n",
              "      <td>/usr/local/lib/python3.6/dist-packages/ipykern...</td>\n",
              "      <td>[{\"run_id\": \"9ac9e0aa8ce648cfab58c70d33da74e4\"...</td>\n",
              "      <td>root</td>\n",
              "    </tr>\n",
              "    <tr>\n",
              "      <th>1</th>\n",
              "      <td>1b033e14c9a844b898861a85b51399c3</td>\n",
              "      <td>0</td>\n",
              "      <td>FINISHED</td>\n",
              "      <td>file:///content/mlruns/0/1b033e14c9a844b898861...</td>\n",
              "      <td>2020-04-01 16:07:29.345000+00:00</td>\n",
              "      <td>2020-04-01 16:07:29.388000+00:00</td>\n",
              "      <td>0.866667</td>\n",
              "      <td>2</td>\n",
              "      <td>None</td>\n",
              "      <td>None</td>\n",
              "      <td>None</td>\n",
              "      <td>LOCAL</td>\n",
              "      <td>/usr/local/lib/python3.6/dist-packages/ipykern...</td>\n",
              "      <td>[{\"run_id\": \"1b033e14c9a844b898861a85b51399c3\"...</td>\n",
              "      <td>root</td>\n",
              "    </tr>\n",
              "    <tr>\n",
              "      <th>2</th>\n",
              "      <td>0ff287a98bd44fe098b270c91d7c97b1</td>\n",
              "      <td>0</td>\n",
              "      <td>FAILED</td>\n",
              "      <td>file:///content/mlruns/0/0ff287a98bd44fe098b27...</td>\n",
              "      <td>2020-04-01 16:07:23.454000+00:00</td>\n",
              "      <td>2020-04-01 16:07:23.497000+00:00</td>\n",
              "      <td>0.866667</td>\n",
              "      <td>2</td>\n",
              "      <td>None</td>\n",
              "      <td>None</td>\n",
              "      <td>None</td>\n",
              "      <td>LOCAL</td>\n",
              "      <td>/usr/local/lib/python3.6/dist-packages/ipykern...</td>\n",
              "      <td>[{\"run_id\": \"0ff287a98bd44fe098b270c91d7c97b1\"...</td>\n",
              "      <td>root</td>\n",
              "    </tr>\n",
              "    <tr>\n",
              "      <th>3</th>\n",
              "      <td>751d6ae6305c4f7a92fb1732fb211903</td>\n",
              "      <td>0</td>\n",
              "      <td>FAILED</td>\n",
              "      <td>file:///content/mlruns/0/751d6ae6305c4f7a92fb1...</td>\n",
              "      <td>2020-04-01 16:07:14.093000+00:00</td>\n",
              "      <td>2020-04-01 16:07:14.131000+00:00</td>\n",
              "      <td>0.866667</td>\n",
              "      <td>2</td>\n",
              "      <td>None</td>\n",
              "      <td>None</td>\n",
              "      <td>None</td>\n",
              "      <td>LOCAL</td>\n",
              "      <td>/usr/local/lib/python3.6/dist-packages/ipykern...</td>\n",
              "      <td>None</td>\n",
              "      <td>root</td>\n",
              "    </tr>\n",
              "    <tr>\n",
              "      <th>4</th>\n",
              "      <td>385ad072325e4ccf9861870eea07e16d</td>\n",
              "      <td>0</td>\n",
              "      <td>FINISHED</td>\n",
              "      <td>file:///content/mlruns/0/385ad072325e4ccf98618...</td>\n",
              "      <td>2020-04-01 16:04:14.458000+00:00</td>\n",
              "      <td>2020-04-01 16:04:14.518000+00:00</td>\n",
              "      <td>0.666667</td>\n",
              "      <td>None</td>\n",
              "      <td>10</td>\n",
              "      <td>5</td>\n",
              "      <td>1</td>\n",
              "      <td>LOCAL</td>\n",
              "      <td>/usr/local/lib/python3.6/dist-packages/ipykern...</td>\n",
              "      <td>[{\"run_id\": \"385ad072325e4ccf9861870eea07e16d\"...</td>\n",
              "      <td>root</td>\n",
              "    </tr>\n",
              "    <tr>\n",
              "      <th>5</th>\n",
              "      <td>215610a8705946898da499f77be40c5f</td>\n",
              "      <td>0</td>\n",
              "      <td>FINISHED</td>\n",
              "      <td>file:///content/mlruns/0/215610a8705946898da49...</td>\n",
              "      <td>2020-04-01 16:02:53.145000+00:00</td>\n",
              "      <td>2020-04-01 16:02:53.201000+00:00</td>\n",
              "      <td>0.666667</td>\n",
              "      <td>None</td>\n",
              "      <td>10</td>\n",
              "      <td>None</td>\n",
              "      <td>1</td>\n",
              "      <td>LOCAL</td>\n",
              "      <td>/usr/local/lib/python3.6/dist-packages/ipykern...</td>\n",
              "      <td>[{\"run_id\": \"215610a8705946898da499f77be40c5f\"...</td>\n",
              "      <td>root</td>\n",
              "    </tr>\n",
              "    <tr>\n",
              "      <th>6</th>\n",
              "      <td>349375593ae84275a662fb63b8a0c0fe</td>\n",
              "      <td>0</td>\n",
              "      <td>FAILED</td>\n",
              "      <td>file:///content/mlruns/0/349375593ae84275a662f...</td>\n",
              "      <td>2020-04-01 16:02:30.129000+00:00</td>\n",
              "      <td>2020-04-01 16:02:30.177000+00:00</td>\n",
              "      <td>0.666667</td>\n",
              "      <td>None</td>\n",
              "      <td>10</td>\n",
              "      <td>None</td>\n",
              "      <td>1</td>\n",
              "      <td>LOCAL</td>\n",
              "      <td>/usr/local/lib/python3.6/dist-packages/ipykern...</td>\n",
              "      <td>[{\"run_id\": \"349375593ae84275a662fb63b8a0c0fe\"...</td>\n",
              "      <td>root</td>\n",
              "    </tr>\n",
              "    <tr>\n",
              "      <th>7</th>\n",
              "      <td>af9b4ce9ac8b4b958ea86297ecdbcf60</td>\n",
              "      <td>0</td>\n",
              "      <td>FINISHED</td>\n",
              "      <td>file:///content/mlruns/0/af9b4ce9ac8b4b958ea86...</td>\n",
              "      <td>2020-04-01 15:54:58.579000+00:00</td>\n",
              "      <td>2020-04-01 15:54:58.632000+00:00</td>\n",
              "      <td>0.866667</td>\n",
              "      <td>None</td>\n",
              "      <td>10</td>\n",
              "      <td>None</td>\n",
              "      <td>None</td>\n",
              "      <td>LOCAL</td>\n",
              "      <td>/usr/local/lib/python3.6/dist-packages/ipykern...</td>\n",
              "      <td>[{\"run_id\": \"af9b4ce9ac8b4b958ea86297ecdbcf60\"...</td>\n",
              "      <td>root</td>\n",
              "    </tr>\n",
              "    <tr>\n",
              "      <th>8</th>\n",
              "      <td>8bbe2f682f144861abf771eee2c23dc6</td>\n",
              "      <td>0</td>\n",
              "      <td>FAILED</td>\n",
              "      <td>file:///content/mlruns/0/8bbe2f682f144861abf77...</td>\n",
              "      <td>2020-04-01 15:54:46.960000+00:00</td>\n",
              "      <td>2020-04-01 15:54:47.016000+00:00</td>\n",
              "      <td>0.866667</td>\n",
              "      <td>None</td>\n",
              "      <td>10</td>\n",
              "      <td>None</td>\n",
              "      <td>None</td>\n",
              "      <td>LOCAL</td>\n",
              "      <td>/usr/local/lib/python3.6/dist-packages/ipykern...</td>\n",
              "      <td>[{\"run_id\": \"8bbe2f682f144861abf771eee2c23dc6\"...</td>\n",
              "      <td>root</td>\n",
              "    </tr>\n",
              "    <tr>\n",
              "      <th>9</th>\n",
              "      <td>b9dc88612de04892b9e09c0a1d4c2e91</td>\n",
              "      <td>0</td>\n",
              "      <td>FINISHED</td>\n",
              "      <td>file:///content/mlruns/0/b9dc88612de04892b9e09...</td>\n",
              "      <td>2020-04-01 15:09:09.376000+00:00</td>\n",
              "      <td>2020-04-01 15:09:09.428000+00:00</td>\n",
              "      <td>0.866667</td>\n",
              "      <td>None</td>\n",
              "      <td>10</td>\n",
              "      <td>None</td>\n",
              "      <td>None</td>\n",
              "      <td>LOCAL</td>\n",
              "      <td>/usr/local/lib/python3.6/dist-packages/ipykern...</td>\n",
              "      <td>[{\"run_id\": \"b9dc88612de04892b9e09c0a1d4c2e91\"...</td>\n",
              "      <td>root</td>\n",
              "    </tr>\n",
              "    <tr>\n",
              "      <th>10</th>\n",
              "      <td>a0812e61fe0d47f58f64eaef68af9136</td>\n",
              "      <td>0</td>\n",
              "      <td>FAILED</td>\n",
              "      <td>file:///content/mlruns/0/a0812e61fe0d47f58f64e...</td>\n",
              "      <td>2020-04-01 15:08:51.803000+00:00</td>\n",
              "      <td>2020-04-01 15:08:51.844000+00:00</td>\n",
              "      <td>0.866667</td>\n",
              "      <td>None</td>\n",
              "      <td>10</td>\n",
              "      <td>None</td>\n",
              "      <td>None</td>\n",
              "      <td>LOCAL</td>\n",
              "      <td>/usr/local/lib/python3.6/dist-packages/ipykern...</td>\n",
              "      <td>[{\"run_id\": \"a0812e61fe0d47f58f64eaef68af9136\"...</td>\n",
              "      <td>root</td>\n",
              "    </tr>\n",
              "  </tbody>\n",
              "</table>\n",
              "</div>"
            ],
            "text/plain": [
              "                              run_id  ... tags.mlflow.user\n",
              "0   9ac9e0aa8ce648cfab58c70d33da74e4  ...             root\n",
              "1   1b033e14c9a844b898861a85b51399c3  ...             root\n",
              "2   0ff287a98bd44fe098b270c91d7c97b1  ...             root\n",
              "3   751d6ae6305c4f7a92fb1732fb211903  ...             root\n",
              "4   385ad072325e4ccf9861870eea07e16d  ...             root\n",
              "5   215610a8705946898da499f77be40c5f  ...             root\n",
              "6   349375593ae84275a662fb63b8a0c0fe  ...             root\n",
              "7   af9b4ce9ac8b4b958ea86297ecdbcf60  ...             root\n",
              "8   8bbe2f682f144861abf771eee2c23dc6  ...             root\n",
              "9   b9dc88612de04892b9e09c0a1d4c2e91  ...             root\n",
              "10  a0812e61fe0d47f58f64eaef68af9136  ...             root\n",
              "\n",
              "[11 rows x 15 columns]"
            ]
          },
          "metadata": {
            "tags": []
          },
          "execution_count": 68
        }
      ]
    },
    {
      "cell_type": "markdown",
      "metadata": {
        "id": "kgtcFDrBhyCF",
        "colab_type": "text"
      },
      "source": [
        "# Using Models"
      ]
    },
    {
      "cell_type": "markdown",
      "metadata": {
        "id": "NTm9pFqsiHR7",
        "colab_type": "text"
      },
      "source": [
        "Use the run id from mlflow.search_runs()"
      ]
    },
    {
      "cell_type": "code",
      "metadata": {
        "id": "xMiPDZhKhzZF",
        "colab_type": "code",
        "colab": {}
      },
      "source": [
        "run_id1 = \"9ac9e0aa8ce648cfab58c70d33da74e4\"\n",
        "model_uri = \"runs:/\" + run_id1 + \"/model\""
      ],
      "execution_count": 0,
      "outputs": []
    },
    {
      "cell_type": "code",
      "metadata": {
        "id": "pmNfXCw-h9JT",
        "colab_type": "code",
        "colab": {}
      },
      "source": [
        "model = mlflow.sklearn.load_model(model_uri=model_uri)"
      ],
      "execution_count": 0,
      "outputs": []
    },
    {
      "cell_type": "code",
      "metadata": {
        "id": "qgiU_g22iCak",
        "colab_type": "code",
        "colab": {
          "base_uri": "https://localhost:8080/",
          "height": 164
        },
        "outputId": "42399fd6-266f-49a1-9ca2-ea59b292b084"
      },
      "source": [
        "model.get_params()"
      ],
      "execution_count": 71,
      "outputs": [
        {
          "output_type": "execute_result",
          "data": {
            "text/plain": [
              "{'algorithm': 'auto',\n",
              " 'leaf_size': 30,\n",
              " 'metric': 'minkowski',\n",
              " 'metric_params': None,\n",
              " 'n_jobs': None,\n",
              " 'n_neighbors': 5,\n",
              " 'p': 2,\n",
              " 'weights': 'uniform'}"
            ]
          },
          "metadata": {
            "tags": []
          },
          "execution_count": 71
        }
      ]
    },
    {
      "cell_type": "code",
      "metadata": {
        "id": "rPYb2dU1iEFz",
        "colab_type": "code",
        "colab": {}
      },
      "source": [
        "predictions = model.predict_proba(X_test)"
      ],
      "execution_count": 0,
      "outputs": []
    }
  ]
}