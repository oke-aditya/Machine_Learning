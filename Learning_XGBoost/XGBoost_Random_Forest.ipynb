{
  "nbformat": 4,
  "nbformat_minor": 0,
  "metadata": {
    "colab": {
      "name": "XGBoost_Random_Forest.ipynb",
      "provenance": []
    },
    "kernelspec": {
      "name": "python3",
      "display_name": "Python 3"
    }
  },
  "cells": [
    {
      "cell_type": "markdown",
      "metadata": {
        "id": "8MjURLUQRQKR",
        "colab_type": "text"
      },
      "source": [
        "# Random Forests in XGBoost"
      ]
    },
    {
      "cell_type": "markdown",
      "metadata": {
        "id": "CQbEW22qRY1_",
        "colab_type": "text"
      },
      "source": [
        "- XGBoost is normally used to train gradient-boosted decision trees and other gradient boosted models. Random forests use the same model representation and inference, as gradient-boosted decision trees, but a different training algorithm. \n",
        "- One can use XGBoost to train a standalone random forest or use random forest as a base model for gradient boosting. Here we focus on training standalone random forest."
      ]
    },
    {
      "cell_type": "markdown",
      "metadata": {
        "id": "y743rZ-aRsaO",
        "colab_type": "text"
      },
      "source": [
        "# Standalone Random Forest With XGBoost"
      ]
    },
    {
      "cell_type": "markdown",
      "metadata": {
        "id": "TO9GnKQoSUON",
        "colab_type": "text"
      },
      "source": [
        "- The following parameters must be set to enable random forest training.\n",
        "\n",
        "- booster should be set to gbtree, as we are training forests. Note that as this is the default, this parameter needn’t be set explicitly.\n",
        "\n",
        "- subsample must be set to a value less than 1 to enable random selection of training cases (rows).\n",
        "\n",
        "- One of colsample_by* parameters must be set to a value less than 1 to enable random selection of columns. Normally, colsample_bynode would be set to a value less than 1 to randomly sample columns at each tree split.\n",
        "\n",
        "- num_parallel_tree should be set to the size of the forest being trained.\n",
        "\n",
        "- num_boost_round should be set to 1 to prevent XGBoost from boosting multiple random forests. Note that this is a keyword argument to train(), and is not part of the parameter dictionary.\n",
        "\n",
        "- eta (alias: learning_rate) must be set to 1 when training random forest regression.\n",
        "\n",
        "- random_state can be used to seed the random number generator."
      ]
    },
    {
      "cell_type": "markdown",
      "metadata": {
        "id": "_pmEITCMSzR9",
        "colab_type": "text"
      },
      "source": [
        "- Other parameters should be set in a similar way they are set for gradient boosting. \n",
        "- For instance, objective will typically be reg:squarederror for regression and binary:logistic for classification, lambda should be set according to a desired regularization weight, etc.\n",
        "\n",
        "- If both num_parallel_tree and num_boost_round are greater than 1, training will use a combination of random forest and gradient boosting strategy. \n",
        "- It will perform num_boost_round rounds, boosting a random forest of num_parallel_tree trees at each round. If early stopping is not enabled, the final model will consist of num_parallel_tree * num_boost_round trees."
      ]
    },
    {
      "cell_type": "code",
      "metadata": {
        "id": "75pNgPC2h706",
        "colab_type": "code",
        "colab": {}
      },
      "source": [
        "params = {\n",
        "    'colsample_bynode' : 0.8,\n",
        "    'learning_rate' : 0.1,\n",
        "    'max_depth' : 5,\n",
        "    'num_parallel_trees' : 100,\n",
        "    'objective' : 'binary:logistic',\n",
        "    'subsample' : 0.8,\n",
        "    'tree_method' : 'gpu_hist'\n",
        " }"
      ],
      "execution_count": 0,
      "outputs": []
    },
    {
      "cell_type": "markdown",
      "metadata": {
        "id": "lZ1NJ50YWusY",
        "colab_type": "text"
      },
      "source": [
        "- Train random forest as follows"
      ]
    },
    {
      "cell_type": "code",
      "metadata": {
        "id": "ZFZHbUonTg5Y",
        "colab_type": "code",
        "colab": {}
      },
      "source": [
        "bst = train(params, dmatrix, num_boost_rounds = 1)"
      ],
      "execution_count": 0,
      "outputs": []
    },
    {
      "cell_type": "markdown",
      "metadata": {
        "id": "PJSLyRM6W9dv",
        "colab_type": "text"
      },
      "source": [
        "# Standalone Random Forest With Scikit-Learn-Like API"
      ]
    },
    {
      "cell_type": "markdown",
      "metadata": {
        "id": "mfgwzNYHXE2f",
        "colab_type": "text"
      },
      "source": [
        "- XGBRFClassifier and XGBRFRegressor are SKL-like classes that provide random forest functionality. \n",
        "- They are basically versions of XGBClassifier and XGBRegressor that train random forest instead of gradient boosting, and have default values and meaning of some of the parameters adjusted accordingly. \n",
        "In particular:\n",
        "\n",
        "- n_estimators specifies the size of the forest to be trained; it is converted to num_parallel_tree, instead of the number of boosting rounds\n",
        "\n",
        "- learning_rate is set to 1 by default\n",
        "\n",
        "- colsample_bynode and subsample are set to 0.8 by default\n",
        "\n",
        "- booster is always gbtree"
      ]
    },
    {
      "cell_type": "code",
      "metadata": {
        "id": "EmgH4CRkXAPb",
        "colab_type": "code",
        "colab": {}
      },
      "source": [
        "xgb_model = xgb.XGBRFClassifer(random_state = 42)\n",
        "xgb_model.fit(x_train, y_train)"
      ],
      "execution_count": 0,
      "outputs": []
    },
    {
      "cell_type": "markdown",
      "metadata": {
        "id": "RRe-c_dmiKWu",
        "colab_type": "text"
      },
      "source": [
        "# Caveats"
      ]
    },
    {
      "cell_type": "markdown",
      "metadata": {
        "id": "aDnkP19TiNwz",
        "colab_type": "text"
      },
      "source": [
        "-  XGBoost uses 2nd order approximation to the objective function. \n",
        "- This can lead to results that differ from a random forest implementation that uses the exact value of the objective function.\n",
        "- XGBoost does not perform replacement when subsampling training cases. Each training case can occur in a subsampled set either 0 or 1 time.\n",
        "- it is impossible to combine random forests with gradient boosting using this API."
      ]
    }
  ]
}