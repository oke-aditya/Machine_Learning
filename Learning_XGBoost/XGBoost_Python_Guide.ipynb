{
  "nbformat": 4,
  "nbformat_minor": 0,
  "metadata": {
    "colab": {
      "name": "XGBoost_Python_Guide.ipynb",
      "provenance": []
    },
    "kernelspec": {
      "name": "python3",
      "display_name": "Python 3"
    }
  },
  "cells": [
    {
      "cell_type": "markdown",
      "metadata": {
        "id": "MyduxDDtFGrB",
        "colab_type": "text"
      },
      "source": [
        "# Python Guide"
      ]
    },
    {
      "cell_type": "markdown",
      "metadata": {
        "id": "dmX0AQcLZvNG",
        "colab_type": "text"
      },
      "source": [
        "## Loading Data"
      ]
    },
    {
      "cell_type": "markdown",
      "metadata": {
        "id": "_8yXIBlhFPRc",
        "colab_type": "text"
      },
      "source": [
        "The XGBoost python module is able to load data from:\n",
        "\n",
        "- LibSVM text format file\n",
        "\n",
        "- Comma-separated values (CSV) file\n",
        "\n",
        "- NumPy 2D array\n",
        "\n",
        "- SciPy 2D sparse array\n",
        "\n",
        "- cuDF DataFrame\n",
        "\n",
        "- Pandas data frame, and\n",
        "\n",
        "- XGBoost binary buffer file."
      ]
    },
    {
      "cell_type": "markdown",
      "metadata": {
        "id": "vFYS2LMQFVao",
        "colab_type": "text"
      },
      "source": [
        "### Loading LibSVM text file"
      ]
    },
    {
      "cell_type": "code",
      "metadata": {
        "id": "vOJwVapH4Q9m",
        "colab_type": "code",
        "colab": {}
      },
      "source": [
        "dtrain = xgb.DMatrix('train.svm.txt')\n",
        "dtest = xgb.DMatrix('test.svm.buffer')"
      ],
      "execution_count": 0,
      "outputs": []
    },
    {
      "cell_type": "markdown",
      "metadata": {
        "id": "KLzIwM7fFj1j",
        "colab_type": "text"
      },
      "source": [
        "### Loading a CSV File"
      ]
    },
    {
      "cell_type": "markdown",
      "metadata": {
        "id": "fn0qdJyoFn1E",
        "colab_type": "text"
      },
      "source": [
        "Categorical features not supported\n",
        "\n",
        "Note that XGBoost does not provide specialization for categorical features; if your data contains categorical features, load it as a NumPy array first and then perform corresponding preprocessing steps like one-hot encoding."
      ]
    },
    {
      "cell_type": "code",
      "metadata": {
        "id": "GBeoq9vsF9vN",
        "colab_type": "code",
        "colab": {}
      },
      "source": [
        "import xgboost as xgb"
      ],
      "execution_count": 0,
      "outputs": []
    },
    {
      "cell_type": "code",
      "metadata": {
        "id": "8pONLnZnFlaq",
        "colab_type": "code",
        "colab": {}
      },
      "source": [
        "dtrain = xgb.DMatrix('train.csv?format=csv&label_column=0')\n",
        "dtest = xgb.DMatrix('test.csv?format=csv&label_column=0')"
      ],
      "execution_count": 0,
      "outputs": []
    },
    {
      "cell_type": "markdown",
      "metadata": {
        "id": "eGp6cJwTGCo6",
        "colab_type": "text"
      },
      "source": [
        "Use Pandas to load CSV files with headers\n",
        "\n",
        "Currently, the DMLC data parser cannot parse CSV files with headers. Use Pandas (see below) to read CSV files with headers."
      ]
    },
    {
      "cell_type": "markdown",
      "metadata": {
        "id": "Q_TTbvgZGEUt",
        "colab_type": "text"
      },
      "source": [
        "### Loading Numpy Array"
      ]
    },
    {
      "cell_type": "code",
      "metadata": {
        "id": "xnmUKX4pGC-6",
        "colab_type": "code",
        "colab": {}
      },
      "source": [
        "import numpy as np"
      ],
      "execution_count": 0,
      "outputs": []
    },
    {
      "cell_type": "code",
      "metadata": {
        "id": "cntNF9ajGOlB",
        "colab_type": "code",
        "colab": {
          "base_uri": "https://localhost:8080/",
          "height": 221
        },
        "outputId": "bb0cb78b-7363-410e-8667-ab83d787a03b"
      },
      "source": [
        "data = np.random.rand(5,10)\n",
        "print(data.shape)                          # 5 rows and 10 columns\n",
        "print(data)"
      ],
      "execution_count": 6,
      "outputs": [
        {
          "output_type": "stream",
          "text": [
            "(5, 10)\n",
            "[[0.34650435 0.96959556 0.37590924 0.04053457 0.84074108 0.60443536\n",
            "  0.18500431 0.45165124 0.90740282 0.94262351]\n",
            " [0.80151117 0.15329277 0.26991186 0.85996061 0.76673533 0.36360156\n",
            "  0.27042515 0.3736201  0.74103191 0.39593222]\n",
            " [0.6176251  0.28389767 0.0563803  0.3557452  0.46335382 0.88809816\n",
            "  0.67109161 0.89352332 0.83948869 0.64880124]\n",
            " [0.22806585 0.43723511 0.03820966 0.84788656 0.35439614 0.94936312\n",
            "  0.27664777 0.02229596 0.70474659 0.62919792]\n",
            " [0.62069342 0.97258938 0.66994115 0.96339683 0.22351267 0.23808324\n",
            "  0.69661897 0.38953276 0.6236524  0.10591636]]\n"
          ],
          "name": "stdout"
        }
      ]
    },
    {
      "cell_type": "code",
      "metadata": {
        "id": "C1rFh21FGXxp",
        "colab_type": "code",
        "colab": {}
      },
      "source": [
        "label = np.random.randint(2, size=5)  # Binary target"
      ],
      "execution_count": 0,
      "outputs": []
    },
    {
      "cell_type": "code",
      "metadata": {
        "id": "uKnpetfiGmYU",
        "colab_type": "code",
        "colab": {}
      },
      "source": [
        "dtrain = xgb.DMatrix(data, label = label)"
      ],
      "execution_count": 0,
      "outputs": []
    },
    {
      "cell_type": "code",
      "metadata": {
        "id": "t5V70gh8GziS",
        "colab_type": "code",
        "colab": {
          "base_uri": "https://localhost:8080/",
          "height": 36
        },
        "outputId": "9528883a-e34e-49c6-f2f8-c4a4aef73ece"
      },
      "source": [
        "print(dtrain)"
      ],
      "execution_count": 10,
      "outputs": [
        {
          "output_type": "stream",
          "text": [
            "<xgboost.core.DMatrix object at 0x7fcdd0a401d0>\n"
          ],
          "name": "stdout"
        }
      ]
    },
    {
      "cell_type": "markdown",
      "metadata": {
        "id": "55ITP1ShG97I",
        "colab_type": "text"
      },
      "source": [
        "### Loading Pandas DataFrame"
      ]
    },
    {
      "cell_type": "code",
      "metadata": {
        "id": "AxV1aGhRG7Uz",
        "colab_type": "code",
        "colab": {}
      },
      "source": [
        "import pandas as pd"
      ],
      "execution_count": 0,
      "outputs": []
    },
    {
      "cell_type": "code",
      "metadata": {
        "id": "y6STf4dmHD3K",
        "colab_type": "code",
        "colab": {}
      },
      "source": [
        "df = pd.DataFrame(np.arange(12).reshape((4,3)), columns = ['a','b','c'])"
      ],
      "execution_count": 0,
      "outputs": []
    },
    {
      "cell_type": "code",
      "metadata": {
        "id": "tNiokmKoHXHl",
        "colab_type": "code",
        "colab": {
          "base_uri": "https://localhost:8080/",
          "height": 175
        },
        "outputId": "ef897bcf-740b-4d32-f715-6c5388e2d4dc"
      },
      "source": [
        "df.head()"
      ],
      "execution_count": 13,
      "outputs": [
        {
          "output_type": "execute_result",
          "data": {
            "text/html": [
              "<div>\n",
              "<style scoped>\n",
              "    .dataframe tbody tr th:only-of-type {\n",
              "        vertical-align: middle;\n",
              "    }\n",
              "\n",
              "    .dataframe tbody tr th {\n",
              "        vertical-align: top;\n",
              "    }\n",
              "\n",
              "    .dataframe thead th {\n",
              "        text-align: right;\n",
              "    }\n",
              "</style>\n",
              "<table border=\"1\" class=\"dataframe\">\n",
              "  <thead>\n",
              "    <tr style=\"text-align: right;\">\n",
              "      <th></th>\n",
              "      <th>a</th>\n",
              "      <th>b</th>\n",
              "      <th>c</th>\n",
              "    </tr>\n",
              "  </thead>\n",
              "  <tbody>\n",
              "    <tr>\n",
              "      <th>0</th>\n",
              "      <td>0</td>\n",
              "      <td>1</td>\n",
              "      <td>2</td>\n",
              "    </tr>\n",
              "    <tr>\n",
              "      <th>1</th>\n",
              "      <td>3</td>\n",
              "      <td>4</td>\n",
              "      <td>5</td>\n",
              "    </tr>\n",
              "    <tr>\n",
              "      <th>2</th>\n",
              "      <td>6</td>\n",
              "      <td>7</td>\n",
              "      <td>8</td>\n",
              "    </tr>\n",
              "    <tr>\n",
              "      <th>3</th>\n",
              "      <td>9</td>\n",
              "      <td>10</td>\n",
              "      <td>11</td>\n",
              "    </tr>\n",
              "  </tbody>\n",
              "</table>\n",
              "</div>"
            ],
            "text/plain": [
              "   a   b   c\n",
              "0  0   1   2\n",
              "1  3   4   5\n",
              "2  6   7   8\n",
              "3  9  10  11"
            ]
          },
          "metadata": {
            "tags": []
          },
          "execution_count": 13
        }
      ]
    },
    {
      "cell_type": "code",
      "metadata": {
        "id": "q5fxc_t5HX11",
        "colab_type": "code",
        "colab": {}
      },
      "source": [
        "label = pd.DataFrame(np.random.randint(2, size=4))"
      ],
      "execution_count": 0,
      "outputs": []
    },
    {
      "cell_type": "code",
      "metadata": {
        "id": "y0tt4JGvHgaG",
        "colab_type": "code",
        "colab": {
          "base_uri": "https://localhost:8080/",
          "height": 175
        },
        "outputId": "8230a980-4fbe-49b2-b329-f5b90e801c99"
      },
      "source": [
        "label.head()"
      ],
      "execution_count": 15,
      "outputs": [
        {
          "output_type": "execute_result",
          "data": {
            "text/html": [
              "<div>\n",
              "<style scoped>\n",
              "    .dataframe tbody tr th:only-of-type {\n",
              "        vertical-align: middle;\n",
              "    }\n",
              "\n",
              "    .dataframe tbody tr th {\n",
              "        vertical-align: top;\n",
              "    }\n",
              "\n",
              "    .dataframe thead th {\n",
              "        text-align: right;\n",
              "    }\n",
              "</style>\n",
              "<table border=\"1\" class=\"dataframe\">\n",
              "  <thead>\n",
              "    <tr style=\"text-align: right;\">\n",
              "      <th></th>\n",
              "      <th>0</th>\n",
              "    </tr>\n",
              "  </thead>\n",
              "  <tbody>\n",
              "    <tr>\n",
              "      <th>0</th>\n",
              "      <td>1</td>\n",
              "    </tr>\n",
              "    <tr>\n",
              "      <th>1</th>\n",
              "      <td>1</td>\n",
              "    </tr>\n",
              "    <tr>\n",
              "      <th>2</th>\n",
              "      <td>0</td>\n",
              "    </tr>\n",
              "    <tr>\n",
              "      <th>3</th>\n",
              "      <td>1</td>\n",
              "    </tr>\n",
              "  </tbody>\n",
              "</table>\n",
              "</div>"
            ],
            "text/plain": [
              "   0\n",
              "0  1\n",
              "1  1\n",
              "2  0\n",
              "3  1"
            ]
          },
          "metadata": {
            "tags": []
          },
          "execution_count": 15
        }
      ]
    },
    {
      "cell_type": "code",
      "metadata": {
        "id": "nFeleXUUHiZk",
        "colab_type": "code",
        "colab": {}
      },
      "source": [
        "dtrain = xgb.DMatrix(data, label = label)"
      ],
      "execution_count": 0,
      "outputs": []
    },
    {
      "cell_type": "markdown",
      "metadata": {
        "id": "_uNxYWd_HtNr",
        "colab_type": "text"
      },
      "source": [
        "### Saving into XGBoost Buffer file"
      ]
    },
    {
      "cell_type": "code",
      "metadata": {
        "id": "j0d_WDNrHp7q",
        "colab_type": "code",
        "colab": {}
      },
      "source": [
        "dtrain.save_binary('train.buffer')"
      ],
      "execution_count": 0,
      "outputs": []
    },
    {
      "cell_type": "code",
      "metadata": {
        "id": "LXqTIA6hH2s6",
        "colab_type": "code",
        "colab": {
          "base_uri": "https://localhost:8080/",
          "height": 36
        },
        "outputId": "be93b05c-3573-4a90-919c-de4ea89b7377"
      },
      "source": [
        "dtrain2 = xgb.DMatrix('train.buffer')"
      ],
      "execution_count": 18,
      "outputs": [
        {
          "output_type": "stream",
          "text": [
            "[13:08:06] 5x10 matrix with 50 entries loaded from train.buffer\n"
          ],
          "name": "stdout"
        }
      ]
    },
    {
      "cell_type": "markdown",
      "metadata": {
        "id": "0VEQVt2-Ikso",
        "colab_type": "text"
      },
      "source": [
        "## Other Stuff"
      ]
    },
    {
      "cell_type": "code",
      "metadata": {
        "id": "yc9ykZtcIS58",
        "colab_type": "code",
        "colab": {}
      },
      "source": [
        "# Missing values can be replaced by a default value in the DMatrix constructor:\n",
        "dtrain = xgb.DMatrix(data, label=label, missing=-999.0)"
      ],
      "execution_count": 0,
      "outputs": []
    },
    {
      "cell_type": "code",
      "metadata": {
        "id": "Dw23hbrAI2Y6",
        "colab_type": "code",
        "colab": {}
      },
      "source": [
        "# Weights can be set when needed:\n",
        "w = np.random.rand(5, 1)\n",
        "dtrain = xgb.DMatrix(data, label=label, missing=-999.0, weight=w)"
      ],
      "execution_count": 0,
      "outputs": []
    },
    {
      "cell_type": "markdown",
      "metadata": {
        "id": "AXsHHK4dJLSg",
        "colab_type": "text"
      },
      "source": [
        "## Setting Parameters, Training, Saving, Re-Loading, Visualization"
      ]
    },
    {
      "cell_type": "markdown",
      "metadata": {
        "id": "wdhfbLxMH1ut",
        "colab_type": "text"
      },
      "source": [
        "### Parameters Setting"
      ]
    },
    {
      "cell_type": "markdown",
      "metadata": {
        "id": "0WM7ru8UJZSK",
        "colab_type": "text"
      },
      "source": [
        "- XGBoost can use either a list of pairs or a dictionary to set parameters. \n",
        "\n",
        "For instance:\n",
        "\n",
        "- Booster parameters"
      ]
    },
    {
      "cell_type": "code",
      "metadata": {
        "id": "oel5YbL0JVvA",
        "colab_type": "code",
        "colab": {}
      },
      "source": [
        "param = {'max_depth': 2, 'eta': 1, 'objective' : 'binary:logistic'}\n",
        "param['nthread'] = 4\n",
        "param['eval_metric']  = 'auc'"
      ],
      "execution_count": 0,
      "outputs": []
    },
    {
      "cell_type": "code",
      "metadata": {
        "id": "mN7WGg3gJyWH",
        "colab_type": "code",
        "colab": {}
      },
      "source": [
        "# Can set multiple metrics as well\n",
        "param['eval_metric'] = ['auc','rmse']"
      ],
      "execution_count": 0,
      "outputs": []
    },
    {
      "cell_type": "code",
      "metadata": {
        "id": "kKx4bWdfJ8pC",
        "colab_type": "code",
        "colab": {}
      },
      "source": [
        "# Specify validation to watch performance\n",
        "evallist = [(dtest, 'eval'), (dtrain, 'train')]"
      ],
      "execution_count": 0,
      "outputs": []
    },
    {
      "cell_type": "markdown",
      "metadata": {
        "id": "XiZKQ8ClKSiQ",
        "colab_type": "text"
      },
      "source": [
        "### Training example"
      ]
    },
    {
      "cell_type": "markdown",
      "metadata": {
        "id": "hpeU9D0ZMC9h",
        "colab_type": "text"
      },
      "source": [
        "- Training a model requires a parameter list and data set."
      ]
    },
    {
      "cell_type": "code",
      "metadata": {
        "id": "V8RzHT5IKO_E",
        "colab_type": "code",
        "colab": {}
      },
      "source": [
        "df = pd.DataFrame(np.arange(12).reshape((4,3)), columns = ['a','b','c'])\n",
        "label = pd.DataFrame(np.random.randint(2, size=4))"
      ],
      "execution_count": 0,
      "outputs": []
    },
    {
      "cell_type": "code",
      "metadata": {
        "id": "ZKAn-P6yMXlh",
        "colab_type": "code",
        "colab": {
          "base_uri": "https://localhost:8080/",
          "height": 175
        },
        "outputId": "0184e4ba-7bfc-4cc6-ec14-d7d5b62ec946"
      },
      "source": [
        "df.head()"
      ],
      "execution_count": 98,
      "outputs": [
        {
          "output_type": "execute_result",
          "data": {
            "text/html": [
              "<div>\n",
              "<style scoped>\n",
              "    .dataframe tbody tr th:only-of-type {\n",
              "        vertical-align: middle;\n",
              "    }\n",
              "\n",
              "    .dataframe tbody tr th {\n",
              "        vertical-align: top;\n",
              "    }\n",
              "\n",
              "    .dataframe thead th {\n",
              "        text-align: right;\n",
              "    }\n",
              "</style>\n",
              "<table border=\"1\" class=\"dataframe\">\n",
              "  <thead>\n",
              "    <tr style=\"text-align: right;\">\n",
              "      <th></th>\n",
              "      <th>a</th>\n",
              "      <th>b</th>\n",
              "      <th>c</th>\n",
              "    </tr>\n",
              "  </thead>\n",
              "  <tbody>\n",
              "    <tr>\n",
              "      <th>0</th>\n",
              "      <td>0</td>\n",
              "      <td>1</td>\n",
              "      <td>2</td>\n",
              "    </tr>\n",
              "    <tr>\n",
              "      <th>1</th>\n",
              "      <td>3</td>\n",
              "      <td>4</td>\n",
              "      <td>5</td>\n",
              "    </tr>\n",
              "    <tr>\n",
              "      <th>2</th>\n",
              "      <td>6</td>\n",
              "      <td>7</td>\n",
              "      <td>8</td>\n",
              "    </tr>\n",
              "    <tr>\n",
              "      <th>3</th>\n",
              "      <td>9</td>\n",
              "      <td>10</td>\n",
              "      <td>11</td>\n",
              "    </tr>\n",
              "  </tbody>\n",
              "</table>\n",
              "</div>"
            ],
            "text/plain": [
              "   a   b   c\n",
              "0  0   1   2\n",
              "1  3   4   5\n",
              "2  6   7   8\n",
              "3  9  10  11"
            ]
          },
          "metadata": {
            "tags": []
          },
          "execution_count": 98
        }
      ]
    },
    {
      "cell_type": "code",
      "metadata": {
        "id": "AIZvMqgqMXT1",
        "colab_type": "code",
        "colab": {
          "base_uri": "https://localhost:8080/",
          "height": 175
        },
        "outputId": "aa9c678e-9ace-43a8-8b97-c00f6bf88e7e"
      },
      "source": [
        "label.head()"
      ],
      "execution_count": 99,
      "outputs": [
        {
          "output_type": "execute_result",
          "data": {
            "text/html": [
              "<div>\n",
              "<style scoped>\n",
              "    .dataframe tbody tr th:only-of-type {\n",
              "        vertical-align: middle;\n",
              "    }\n",
              "\n",
              "    .dataframe tbody tr th {\n",
              "        vertical-align: top;\n",
              "    }\n",
              "\n",
              "    .dataframe thead th {\n",
              "        text-align: right;\n",
              "    }\n",
              "</style>\n",
              "<table border=\"1\" class=\"dataframe\">\n",
              "  <thead>\n",
              "    <tr style=\"text-align: right;\">\n",
              "      <th></th>\n",
              "      <th>0</th>\n",
              "    </tr>\n",
              "  </thead>\n",
              "  <tbody>\n",
              "    <tr>\n",
              "      <th>0</th>\n",
              "      <td>1</td>\n",
              "    </tr>\n",
              "    <tr>\n",
              "      <th>1</th>\n",
              "      <td>1</td>\n",
              "    </tr>\n",
              "    <tr>\n",
              "      <th>2</th>\n",
              "      <td>1</td>\n",
              "    </tr>\n",
              "    <tr>\n",
              "      <th>3</th>\n",
              "      <td>0</td>\n",
              "    </tr>\n",
              "  </tbody>\n",
              "</table>\n",
              "</div>"
            ],
            "text/plain": [
              "   0\n",
              "0  1\n",
              "1  1\n",
              "2  1\n",
              "3  0"
            ]
          },
          "metadata": {
            "tags": []
          },
          "execution_count": 99
        }
      ]
    },
    {
      "cell_type": "code",
      "metadata": {
        "id": "RFJZrSYOMWbJ",
        "colab_type": "code",
        "colab": {}
      },
      "source": [
        "dtrain = xgb.DMatrix(df, label = label)"
      ],
      "execution_count": 0,
      "outputs": []
    },
    {
      "cell_type": "code",
      "metadata": {
        "id": "EdnFlimOMqSy",
        "colab_type": "code",
        "colab": {}
      },
      "source": [
        "param = {'max_depth' : 2, 'eta' : 0.2, 'objective' : 'binary:logistic', 'eval_metric' : 'error'}"
      ],
      "execution_count": 0,
      "outputs": []
    },
    {
      "cell_type": "code",
      "metadata": {
        "id": "tUuhHvxOOLXf",
        "colab_type": "code",
        "colab": {}
      },
      "source": [
        "num_round = 10"
      ],
      "execution_count": 0,
      "outputs": []
    },
    {
      "cell_type": "code",
      "metadata": {
        "id": "E2jKXtDHOhyn",
        "colab_type": "code",
        "colab": {}
      },
      "source": [
        "bst = xgb.train(params = param, dtrain = dtrain, num_boost_round=num_round)"
      ],
      "execution_count": 0,
      "outputs": []
    },
    {
      "cell_type": "code",
      "metadata": {
        "id": "JLAQkW4bOtg-",
        "colab_type": "code",
        "colab": {}
      },
      "source": [
        "# After training, the model can be saved.\n",
        "bst.save_model('save_model.model')"
      ],
      "execution_count": 0,
      "outputs": []
    },
    {
      "cell_type": "code",
      "metadata": {
        "id": "-m5Zi8aaGCUu",
        "colab_type": "code",
        "colab": {}
      },
      "source": [
        "# dumping model as text file\n",
        "bst.dump_model('dump.raw.txt')"
      ],
      "execution_count": 0,
      "outputs": []
    },
    {
      "cell_type": "code",
      "metadata": {
        "id": "3lXzrcxbGJvI",
        "colab_type": "code",
        "colab": {}
      },
      "source": [
        "# dumping model with feature map\n",
        "bst.dump_model('dump.raw.txt', 'featmap.txt')"
      ],
      "execution_count": 0,
      "outputs": []
    },
    {
      "cell_type": "code",
      "metadata": {
        "id": "84IBAdco4lvO",
        "colab_type": "code",
        "colab": {
          "base_uri": "https://localhost:8080/",
          "height": 36
        },
        "outputId": "596841ae-1566-413f-f497-7626d7071dd0"
      },
      "source": [
        "bst = xgb.Booster()\n",
        "bst.load_model('/content/save_model.model')\n",
        "print(bst)"
      ],
      "execution_count": 115,
      "outputs": [
        {
          "output_type": "stream",
          "text": [
            "<xgboost.core.Booster object at 0x7fcdce97f400>\n"
          ],
          "name": "stdout"
        }
      ]
    },
    {
      "cell_type": "markdown",
      "metadata": {
        "id": "jP9Y5w5u59bP",
        "colab_type": "text"
      },
      "source": [
        "### Early Stopping"
      ]
    },
    {
      "cell_type": "markdown",
      "metadata": {
        "id": "fVasUsDi6BeZ",
        "colab_type": "text"
      },
      "source": [
        "If you have a validation set, you can use early stopping to find the optimal number of boosting rounds. Early stopping requires at least one set in evals. If there’s more than one, it will use the last."
      ]
    },
    {
      "cell_type": "code",
      "metadata": {
        "id": "Z9ZZQrOx4qP8",
        "colab_type": "code",
        "colab": {}
      },
      "source": [
        " bst = xgb.train(params = param, dtrain = dtrain, num_boost_round=num_round, early_stopping_rounds=2)"
      ],
      "execution_count": 0,
      "outputs": []
    },
    {
      "cell_type": "markdown",
      "metadata": {
        "id": "A5fJCZwF6Lx6",
        "colab_type": "text"
      },
      "source": [
        "The model will train until the validation score stops improving. Validation error needs to decrease at least every early_stopping_rounds to continue training.\n",
        "\n",
        "- If early stopping occurs, the model will have three additional fields: bst.best_score, bst.best_iteration and bst.best_ntree_limit. Note that xgboost.train() will return a model from the last iteration, not the best one."
      ]
    },
    {
      "cell_type": "markdown",
      "metadata": {
        "id": "xN36lZRcIBG4",
        "colab_type": "text"
      },
      "source": [
        "### Predictions from Model"
      ]
    },
    {
      "cell_type": "markdown",
      "metadata": {
        "id": "MsYvChlCZOVv",
        "colab_type": "text"
      },
      "source": [
        "- Trained Model can be used to make predictions on dataset"
      ]
    },
    {
      "cell_type": "code",
      "metadata": {
        "id": "XrNy-7m6EGyL",
        "colab_type": "code",
        "colab": {}
      },
      "source": [
        "ypred = bst.predict(dtest)"
      ],
      "execution_count": 0,
      "outputs": []
    },
    {
      "cell_type": "markdown",
      "metadata": {
        "id": "yZads0paZZQW",
        "colab_type": "text"
      },
      "source": [
        "- If early stopping is enabled you can get predictions from the best iteration with bst.best_ntree_limit"
      ]
    },
    {
      "cell_type": "code",
      "metadata": {
        "id": "YnXie33hZckg",
        "colab_type": "code",
        "colab": {}
      },
      "source": [
        "ypred = bst.predict(dtest, ntree_limit=bst.best_ntree_limit)"
      ],
      "execution_count": 0,
      "outputs": []
    },
    {
      "cell_type": "markdown",
      "metadata": {
        "id": "1mU9zRuLZnil",
        "colab_type": "text"
      },
      "source": [
        "### Plotting"
      ]
    },
    {
      "cell_type": "markdown",
      "metadata": {
        "id": "drT-Lr0BaX25",
        "colab_type": "text"
      },
      "source": [
        "You can use plotting module to plot importance and output tree.\n",
        "\n",
        "To plot importance, use xgboost.plot_importance(). This function requires matplotlib to be installed."
      ]
    },
    {
      "cell_type": "code",
      "metadata": {
        "id": "fTs82REcZpBb",
        "colab_type": "code",
        "colab": {}
      },
      "source": [
        "xgb.plot_importance(bst)"
      ],
      "execution_count": 0,
      "outputs": []
    },
    {
      "cell_type": "markdown",
      "metadata": {
        "id": "eJkz_scLafcb",
        "colab_type": "text"
      },
      "source": [
        "To plot the output tree via matplotlib, use xgboost.plot_tree(), specifying the ordinal number of the target tree. This function requires graphviz and matplotlib."
      ]
    },
    {
      "cell_type": "code",
      "metadata": {
        "id": "As2vkZgYafwu",
        "colab_type": "code",
        "colab": {}
      },
      "source": [
        "xgb.plot_tree(bst, num_trees=2)"
      ],
      "execution_count": 0,
      "outputs": []
    },
    {
      "cell_type": "markdown",
      "metadata": {
        "id": "_QLnSWJmao0b",
        "colab_type": "text"
      },
      "source": [
        "When you use IPython, you can use the xgboost.to_graphviz() function, which converts the target tree to a graphviz instance. The graphviz instance is automatically rendered in IPython.\n"
      ]
    },
    {
      "cell_type": "code",
      "metadata": {
        "id": "sXypTme7aq8d",
        "colab_type": "code",
        "colab": {}
      },
      "source": [
        "xgb.to_graphviz(bst, num_trees=2)"
      ],
      "execution_count": 0,
      "outputs": []
    },
    {
      "cell_type": "markdown",
      "metadata": {
        "id": "Kdr95fVXbSxo",
        "colab_type": "text"
      },
      "source": [
        "## Parameter Tuning"
      ]
    },
    {
      "cell_type": "markdown",
      "metadata": {
        "id": "GnZLjZawbVJA",
        "colab_type": "text"
      },
      "source": [
        "- Use the concept of Bias-Variance TradeOff"
      ]
    },
    {
      "cell_type": "markdown",
      "metadata": {
        "id": "w3W4UyKYbkx4",
        "colab_type": "text"
      },
      "source": [
        "### Control Overfitting"
      ]
    },
    {
      "cell_type": "markdown",
      "metadata": {
        "id": "xsAwFJ8-bngZ",
        "colab_type": "text"
      },
      "source": [
        "When you observe high training accuracy, but low test accuracy,it is likely that you encountered overfitting problem.\n",
        "\n",
        "There are in general two ways that you can control overfitting in XGBoost:\n",
        "\n",
        "- The first way is to directly control model complexity.\n",
        "\n",
        "- This includes max_depth, min_child_weight and gamma.\n",
        "\n",
        "- The second way is to add randomness to make training robust to noise.\n",
        "\n",
        "- This includes subsample and colsample_bytree.\n",
        "\n",
        "- You can also reduce stepsize eta. Remember to increase num_round when you do so."
      ]
    },
    {
      "cell_type": "markdown",
      "metadata": {
        "id": "EcLh4igUb1Bv",
        "colab_type": "text"
      },
      "source": [
        "### Handle Imbalanced Dataset"
      ]
    },
    {
      "cell_type": "markdown",
      "metadata": {
        "id": "hL94DtMob6y_",
        "colab_type": "text"
      },
      "source": [
        "For common cases such as ads clickthrough log, the dataset is extremely imbalanced. This can affect the training of XGBoost model, and there are two ways to improve it.\n",
        "\n",
        "If you care only about the overall performance metric (AUC) of your prediction\n",
        "\n",
        "- Balance the positive and negative weights via scale_pos_weight\n",
        "\n",
        "- Use AUC for evaluation\n",
        "\n",
        "If you care about predicting the right probability\n",
        "\n",
        "- In such a case, you cannot re-balance the dataset\n",
        "\n",
        "- Set parameter max_delta_step to a finite number (say 1) to help convergence"
      ]
    },
    {
      "cell_type": "markdown",
      "metadata": {
        "id": "4ocyhPIFcKIJ",
        "colab_type": "text"
      },
      "source": [
        "Parameter tuning is art use the following webpage and master\n",
        "\n",
        "https://xgboost.readthedocs.io/en/latest/parameter.html"
      ]
    },
    {
      "cell_type": "markdown",
      "metadata": {
        "id": "Ed7w3R-Ec3Zo",
        "colab_type": "text"
      },
      "source": [
        "### GPUs for XGBoost"
      ]
    },
    {
      "cell_type": "markdown",
      "metadata": {
        "id": "DYIqfwREc6CH",
        "colab_type": "text"
      },
      "source": [
        "- Can be used.\n",
        "- Specify the tree_method parameter as 'gpu_hist'\n",
        "\n",
        "Equivalent to the XGBoost fast histogram algorithm. Much faster and uses considerably less memory. NOTE: Will run very slowly on GPUs older than Pascal architecture.\n",
        "\n",
        "- Faster performance."
      ]
    }
  ]
}