{
  "nbformat": 4,
  "nbformat_minor": 0,
  "metadata": {
    "colab": {
      "name": "XGBoost1.0_CuDF.ipynb",
      "provenance": []
    },
    "kernelspec": {
      "name": "python3",
      "display_name": "Python 3"
    },
    "accelerator": "GPU"
  },
  "cells": [
    {
      "cell_type": "markdown",
      "metadata": {
        "id": "ZQaQw-1YgIKj",
        "colab_type": "text"
      },
      "source": [
        "# Install Rapids First"
      ]
    },
    {
      "cell_type": "markdown",
      "metadata": {
        "id": "yu-hokRzgOwg",
        "colab_type": "text"
      },
      "source": [
        "- Note use only T4 or P100 Or P4 GPU which is compatible for RAPIDS."
      ]
    },
    {
      "cell_type": "code",
      "metadata": {
        "id": "WMgJNK-Jf7az",
        "colab_type": "code",
        "colab": {
          "base_uri": "https://localhost:8080/",
          "height": 329
        },
        "outputId": "6f282151-bdad-4bbf-982a-9d202ddce5dc"
      },
      "source": [
        "!nvidia-smi"
      ],
      "execution_count": 1,
      "outputs": [
        {
          "output_type": "stream",
          "text": [
            "Sat Mar 21 09:51:13 2020       \n",
            "+-----------------------------------------------------------------------------+\n",
            "| NVIDIA-SMI 440.64.00    Driver Version: 418.67       CUDA Version: 10.1     |\n",
            "|-------------------------------+----------------------+----------------------+\n",
            "| GPU  Name        Persistence-M| Bus-Id        Disp.A | Volatile Uncorr. ECC |\n",
            "| Fan  Temp  Perf  Pwr:Usage/Cap|         Memory-Usage | GPU-Util  Compute M. |\n",
            "|===============================+======================+======================|\n",
            "|   0  Tesla P100-PCIE...  Off  | 00000000:00:04.0 Off |                    0 |\n",
            "| N/A   33C    P0    27W / 250W |      0MiB / 16280MiB |      0%      Default |\n",
            "+-------------------------------+----------------------+----------------------+\n",
            "                                                                               \n",
            "+-----------------------------------------------------------------------------+\n",
            "| Processes:                                                       GPU Memory |\n",
            "|  GPU       PID   Type   Process name                             Usage      |\n",
            "|=============================================================================|\n",
            "|  No running processes found                                                 |\n",
            "+-----------------------------------------------------------------------------+\n"
          ],
          "name": "stdout"
        }
      ]
    },
    {
      "cell_type": "code",
      "metadata": {
        "id": "YGVORgryjEnA",
        "colab_type": "code",
        "colab": {}
      },
      "source": [
        "! cat /proc/cpuinfo"
      ],
      "execution_count": 0,
      "outputs": []
    },
    {
      "cell_type": "code",
      "metadata": {
        "id": "46bn-lfJ4lx8",
        "colab_type": "code",
        "colab": {
          "base_uri": "https://localhost:8080/",
          "height": 1000
        },
        "outputId": "b84edf48-f2fb-4860-9565-6265e4fcf7f0"
      },
      "source": [
        "# Install RAPIDS\n",
        "!git clone https://github.com/rapidsai/rapidsai-csp-utils.git\n",
        "!bash rapidsai-csp-utils/colab/rapids-colab.sh\n",
        "\n",
        "import sys, os\n",
        "\n",
        "dist_package_index = sys.path.index('/usr/local/lib/python3.6/dist-packages')\n",
        "sys.path = sys.path[:dist_package_index] + ['/usr/local/lib/python3.6/site-packages'] + sys.path[dist_package_index:]\n",
        "sys.path\n",
        "exec(open('rapidsai-csp-utils/colab/update_modules.py').read(), globals())"
      ],
      "execution_count": 2,
      "outputs": [
        {
          "output_type": "stream",
          "text": [
            "Cloning into 'rapidsai-csp-utils'...\n",
            "remote: Enumerating objects: 44, done.\u001b[K\n",
            "remote: Counting objects: 100% (44/44), done.\u001b[K\n",
            "remote: Compressing objects: 100% (43/43), done.\u001b[K\n",
            "remote: Total 44 (delta 9), reused 5 (delta 0), pack-reused 0\u001b[K\n",
            "Unpacking objects: 100% (44/44), done.\n",
            "PLEASE READ\n",
            "********************************************************************************************************\n",
            "Colab Notebooks Migration Notice:\n",
            " \n",
            "We have changed the location of the Colab script to our new CSP utilties repo.\n",
            "We are also dropping support for versions below 0.11, as we are on 0.13 nightlies\n",
            " \n",
            "Not all Colab notebooks are updated (like personal Colabs) and/or are using outdated versions of RAPIDS,\n",
            "so we HIGHLY encourage users to update their scripts and Colab notebooks both with the new link AND with \n",
            "to the new API.  Otherwise, your code MAY BREAK\n",
            " \n",
            "This notice will disappear/be updated on our next release.\n",
            " \n",
            "Please enter in the box your desired RAPIDS version (ex: '0.11' or '0.12', between 0.11 to 0.13, without the quotes)\n",
            "and hit Enter. If you need stability, use 0.12. If you want bleeding edge, use our nightlies (0.13), but things can break.\n",
            "0.12\n",
            "Please COMPARE the \"SCRIPT TO COPY\" with the code in the above cell.  If they are the same, just type any key.  If not, do steps 2-4. \n",
            " \n",
            "SCRIPT TO COPY: \n",
            "!git clone https://github.com/rapidsai/rapidsai-csp-utils.git\n",
            "!bash rapidsai-csp-utils/colab/rapids-colab.sh\n",
            "import sys, os\n",
            "dist_package_index = sys.path.index('/usr/local/lib/python3.6/dist-packages')\n",
            "sys.path = sys.path[:dist_package_index] + ['/usr/local/lib/python3.6/site-packages'] + sys.path[dist_package_index:]\n",
            "sys.path\n",
            "exec(open('rapidsai-csp-utils/colab/update_modules.py').read(), globals())\n",
            "********************************************************************************************************\n",
            "Do you have the above version of the script running in your cell? (Y/N).  \n",
            "Please note: If you do not positively affirm with 'Y' or 'y', the script show you have to rectify that issue and then stop the RAPIDS install,\n",
            "without installing RAPIDS, but will still continue update some packages\n",
            "Y\n",
            "Continuing with RAPIDS install\n",
            "Checking for GPU type:\n",
            "***********************************************************************\n",
            "Woo! Your instance has the right kind of GPU, a 'Tesla P100-PCIE-16GB'!\n",
            "***********************************************************************\n",
            "\n",
            "Removing conflicting packages, will replace with RAPIDS compatible versions\n",
            "Uninstalling xgboost-0.90:\n",
            "  Successfully uninstalled xgboost-0.90\n",
            "Uninstalling dask-2.12.0:\n",
            "  Successfully uninstalled dask-2.12.0\n",
            "Uninstalling distributed-1.25.3:\n",
            "  Successfully uninstalled distributed-1.25.3\n",
            "Installing conda\n",
            "--2020-03-21 09:51:50--  https://repo.continuum.io/miniconda/Miniconda3-4.5.4-Linux-x86_64.sh\n",
            "Resolving repo.continuum.io (repo.continuum.io)... 104.18.201.79, 104.18.200.79, 2606:4700::6812:c94f, ...\n",
            "Connecting to repo.continuum.io (repo.continuum.io)|104.18.201.79|:443... connected.\n",
            "HTTP request sent, awaiting response... 200 OK\n",
            "Length: 58468498 (56M) [application/x-sh]\n",
            "Saving to: ‘Miniconda3-4.5.4-Linux-x86_64.sh’\n",
            "\n",
            "Miniconda3-4.5.4-Li 100%[===================>]  55.76M  89.5MB/s    in 0.6s    \n",
            "\n",
            "2020-03-21 09:51:51 (89.5 MB/s) - ‘Miniconda3-4.5.4-Linux-x86_64.sh’ saved [58468498/58468498]\n",
            "\n",
            "PREFIX=/usr/local\n",
            "installing: python-3.6.5-hc3d631a_2 ...\n",
            "Python 3.6.5 :: Anaconda, Inc.\n",
            "installing: ca-certificates-2018.03.07-0 ...\n",
            "installing: conda-env-2.6.0-h36134e3_1 ...\n",
            "installing: libgcc-ng-7.2.0-hdf63c60_3 ...\n",
            "installing: libstdcxx-ng-7.2.0-hdf63c60_3 ...\n",
            "installing: libffi-3.2.1-hd88cf55_4 ...\n",
            "installing: ncurses-6.1-hf484d3e_0 ...\n",
            "installing: openssl-1.0.2o-h20670df_0 ...\n",
            "installing: tk-8.6.7-hc745277_3 ...\n",
            "installing: xz-5.2.4-h14c3975_4 ...\n",
            "installing: yaml-0.1.7-had09818_2 ...\n",
            "installing: zlib-1.2.11-ha838bed_2 ...\n",
            "installing: libedit-3.1.20170329-h6b74fdf_2 ...\n",
            "installing: readline-7.0-ha6073c6_4 ...\n",
            "installing: sqlite-3.23.1-he433501_0 ...\n",
            "installing: asn1crypto-0.24.0-py36_0 ...\n",
            "installing: certifi-2018.4.16-py36_0 ...\n",
            "installing: chardet-3.0.4-py36h0f667ec_1 ...\n",
            "installing: idna-2.6-py36h82fb2a8_1 ...\n",
            "installing: pycosat-0.6.3-py36h0a5515d_0 ...\n",
            "installing: pycparser-2.18-py36hf9f622e_1 ...\n",
            "installing: pysocks-1.6.8-py36_0 ...\n",
            "installing: ruamel_yaml-0.15.37-py36h14c3975_2 ...\n",
            "installing: six-1.11.0-py36h372c433_1 ...\n",
            "installing: cffi-1.11.5-py36h9745a5d_0 ...\n",
            "installing: setuptools-39.2.0-py36_0 ...\n",
            "installing: cryptography-2.2.2-py36h14c3975_0 ...\n",
            "installing: wheel-0.31.1-py36_0 ...\n",
            "installing: pip-10.0.1-py36_0 ...\n",
            "installing: pyopenssl-18.0.0-py36_0 ...\n",
            "installing: urllib3-1.22-py36hbe7ace6_0 ...\n",
            "installing: requests-2.18.4-py36he2e5f8d_1 ...\n",
            "installing: conda-4.5.4-py36_0 ...\n",
            "installation finished.\n",
            "WARNING:\n",
            "    You currently have a PYTHONPATH environment variable set. This may cause\n",
            "    unexpected behavior when running the Python interpreter in Miniconda3.\n",
            "    For best results, please verify that your PYTHONPATH only points to\n",
            "    directories of packages that are compatible with the Python interpreter\n",
            "    in Miniconda3: /usr/local\n",
            "Solving environment: - \b\b\\ \b\b| \b\b/ \b\b- \b\b\\ \b\b| \b\b/ \b\b- \b\b\\ \b\b| \b\b/ \b\b- \b\b\\ \b\b| \b\b/ \b\b- \b\b\\ \b\b| \b\b/ \b\b- \b\b\\ \b\b| \b\b/ \b\b- \b\b\\ \b\b| \b\b/ \b\b- \b\b\\ \b\b| \b\b/ \b\b- \b\b\\ \b\b| \b\b/ \b\b- \b\b\\ \b\b| \b\b/ \b\b- \b\b\\ \b\b| \b\b/ \b\b- \b\b\\ \b\b| \b\b/ \b\b- \b\b\\ \b\b| \b\b/ \b\b- \b\b\\ \b\b| \b\b/ \b\b- \b\b\\ \b\b| \b\b/ \b\b- \b\b\\ \b\b| \b\b/ \b\b- \b\b\\ \b\b| \b\b/ \b\b- \b\b\\ \b\b| \b\b/ \b\b- \b\b\\ \b\b| \b\b/ \b\b- \b\b\\ \b\b| \b\b/ \b\b- \b\b\\ \b\b| \b\b/ \b\b- \b\b\\ \b\b| \b\b/ \b\b- \b\b\\ \b\b| \b\b/ \b\b- \b\b\\ \b\b| \b\b/ \b\b- \b\b\\ \b\b| \b\b/ \b\b- \b\b\\ \b\b| \b\b/ \b\b- \b\b\\ \b\b| \b\b/ \b\b- \b\b\\ \b\b| \b\b/ \b\b- \b\b\\ \b\b| \b\b/ \b\b- \b\b\\ \b\b| \b\b/ \b\b- \b\b\\ \b\b| \b\b/ \b\b- \b\b\\ \b\b| \b\b/ \b\b- \b\b\\ \b\b| \b\b/ \b\b- \b\b\\ \b\b| \b\b/ \b\b- \b\b\\ \b\b| \b\b/ \b\b- \b\b\\ \b\b| \b\b/ \b\b- \b\b\\ \b\b| \b\b/ \b\b- \b\b\\ \b\b| \b\b/ \b\b- \b\b\\ \b\b| \b\b/ \b\b- \b\b\\ \b\b| \b\b/ \b\b- \b\b\\ \b\b| \b\b/ \b\b- \b\b\\ \b\b| \b\b/ \b\b- \b\b\\ \b\b| \b\b/ \b\b- \b\b\\ \b\b| \b\b/ \b\b- \b\b\\ \b\b| \b\b/ \b\b- \b\b\\ \b\b| \b\b/ \b\b- \b\b\\ \b\b| \b\b/ \b\b- \b\b\\ \b\b| \b\b/ \b\b- \b\b\\ \b\b| \b\b/ \b\b- \b\b\\ \b\b| \b\b/ \b\b- \b\b\\ \b\b| \b\b/ \b\b- \b\b\\ \b\b| \b\b/ \b\b- \b\b\\ \b\b| \b\b/ \b\b- \b\b\\ \b\b| \b\b/ \b\b- \b\b\\ \b\b| \b\b/ \b\b- \b\b\\ \b\b| \b\b/ \b\b- \b\b\\ \b\b| \b\b/ \b\b- \b\b\\ \b\b| \b\b/ \b\b- \b\b\\ \b\b| \b\b/ \b\b- \b\b\\ \b\b| \b\b/ \b\b- \b\b\\ \b\b| \b\b/ \b\b- \b\b\\ \b\b| \b\b/ \b\b- \b\b\\ \b\b| \b\b/ \b\b- \b\b\\ \b\b| \b\b/ \b\b- \b\b\\ \b\b| \b\b/ \b\b- \b\b\\ \b\b| \b\b/ \b\b- \b\b\\ \b\b| \b\b/ \b\b- \b\b\\ \b\b| \b\b/ \b\b- \b\b\\ \b\b| \b\b/ \b\b- \b\b\\ \b\b| \b\b/ \b\b- \b\b\\ \b\b| \b\b/ \b\b- \b\b\\ \b\b| \b\b/ \b\b- \b\b\\ \b\b| \b\bdone\n",
            "\n",
            "\n",
            "==> WARNING: A newer version of conda exists. <==\n",
            "  current version: 4.5.4\n",
            "  latest version: 4.8.3\n",
            "\n",
            "Please update conda by running\n",
            "\n",
            "    $ conda update -n base conda\n",
            "\n",
            "\n",
            "\n",
            "## Package Plan ##\n",
            "\n",
            "  environment location: /usr/local\n",
            "\n",
            "  added / updated specs: \n",
            "    - openssl\n",
            "    - python=3.6\n",
            "\n",
            "\n",
            "The following packages will be downloaded:\n",
            "\n",
            "    package                    |            build\n",
            "    ---------------------------|-----------------\n",
            "    readline-8.0               |       hf8c457e_0         441 KB  conda-forge\n",
            "    setuptools-46.0.0          |   py36h9f0ad1d_2         638 KB  conda-forge\n",
            "    ncurses-6.1                |    hf484d3e_1002         1.3 MB  conda-forge\n",
            "    tk-8.6.10                  |       hed695b0_0         3.2 MB  conda-forge\n",
            "    libgcc-ng-9.2.0            |       h24d8f2e_2         8.2 MB  conda-forge\n",
            "    libgomp-9.2.0              |       h24d8f2e_2         816 KB  conda-forge\n",
            "    libffi-3.2.1               |    he1b5a44_1007          47 KB  conda-forge\n",
            "    python_abi-3.6             |          1_cp36m           4 KB  conda-forge\n",
            "    openssl-1.1.1e             |       h516909a_0         2.1 MB  conda-forge\n",
            "    libstdcxx-ng-9.2.0         |       hdf63c60_2         4.5 MB  conda-forge\n",
            "    _libgcc_mutex-0.1          |      conda_forge           3 KB  conda-forge\n",
            "    _openmp_mutex-4.5          |            0_gnu         435 KB  conda-forge\n",
            "    certifi-2019.11.28         |   py36h9f0ad1d_1         149 KB  conda-forge\n",
            "    ca-certificates-2019.11.28 |       hecc5488_0         145 KB  conda-forge\n",
            "    python-3.6.10              |h9d8adfe_1009_cpython        34.1 MB  conda-forge\n",
            "    pip-20.0.2                 |             py_2         1.0 MB  conda-forge\n",
            "    wheel-0.34.2               |             py_1          24 KB  conda-forge\n",
            "    zlib-1.2.11                |    h516909a_1006         105 KB  conda-forge\n",
            "    xz-5.2.4                   |    h516909a_1002         375 KB  conda-forge\n",
            "    ld_impl_linux-64-2.34      |       h53a641e_0         616 KB  conda-forge\n",
            "    sqlite-3.30.1              |       hcee41ef_0         2.0 MB  conda-forge\n",
            "    ------------------------------------------------------------\n",
            "                                           Total:        60.1 MB\n",
            "\n",
            "The following NEW packages will be INSTALLED:\n",
            "\n",
            "    _libgcc_mutex:    0.1-conda_forge   conda-forge\n",
            "    _openmp_mutex:    4.5-0_gnu         conda-forge\n",
            "    ld_impl_linux-64: 2.34-h53a641e_0   conda-forge\n",
            "    libgomp:          9.2.0-h24d8f2e_2  conda-forge\n",
            "    python_abi:       3.6-1_cp36m       conda-forge\n",
            "\n",
            "The following packages will be UPDATED:\n",
            "\n",
            "    ca-certificates:  2018.03.07-0                  --> 2019.11.28-hecc5488_0        conda-forge\n",
            "    certifi:          2018.4.16-py36_0              --> 2019.11.28-py36h9f0ad1d_1    conda-forge\n",
            "    libffi:           3.2.1-hd88cf55_4              --> 3.2.1-he1b5a44_1007          conda-forge\n",
            "    libgcc-ng:        7.2.0-hdf63c60_3              --> 9.2.0-h24d8f2e_2             conda-forge\n",
            "    libstdcxx-ng:     7.2.0-hdf63c60_3              --> 9.2.0-hdf63c60_2             conda-forge\n",
            "    ncurses:          6.1-hf484d3e_0                --> 6.1-hf484d3e_1002            conda-forge\n",
            "    openssl:          1.0.2o-h20670df_0             --> 1.1.1e-h516909a_0            conda-forge\n",
            "    pip:              10.0.1-py36_0                 --> 20.0.2-py_2                  conda-forge\n",
            "    python:           3.6.5-hc3d631a_2              --> 3.6.10-h9d8adfe_1009_cpython conda-forge\n",
            "    readline:         7.0-ha6073c6_4                --> 8.0-hf8c457e_0               conda-forge\n",
            "    setuptools:       39.2.0-py36_0                 --> 46.0.0-py36h9f0ad1d_2        conda-forge\n",
            "    sqlite:           3.23.1-he433501_0             --> 3.30.1-hcee41ef_0            conda-forge\n",
            "    tk:               8.6.7-hc745277_3              --> 8.6.10-hed695b0_0            conda-forge\n",
            "    wheel:            0.31.1-py36_0                 --> 0.34.2-py_1                  conda-forge\n",
            "    xz:               5.2.4-h14c3975_4              --> 5.2.4-h516909a_1002          conda-forge\n",
            "    zlib:             1.2.11-ha838bed_2             --> 1.2.11-h516909a_1006         conda-forge\n",
            "\n",
            "\n",
            "Downloading and Extracting Packages\n",
            "readline-8.0         |  441 KB | : 100% 1.0/1 [00:00<00:00,  7.26it/s]               \n",
            "setuptools-46.0.0    |  638 KB | : 100% 1.0/1 [00:00<00:00,  4.26it/s]               \n",
            "ncurses-6.1          |  1.3 MB | : 100% 1.0/1 [00:00<00:00,  1.25it/s]              \n",
            "tk-8.6.10            |  3.2 MB | : 100% 1.0/1 [00:00<00:00,  1.51it/s]              \n",
            "libgcc-ng-9.2.0      |  8.2 MB | : 100% 1.0/1 [00:01<00:00,  1.16s/it]               \n",
            "libgomp-9.2.0        |  816 KB | : 100% 1.0/1 [00:00<00:00,  7.47it/s]               \n",
            "libffi-3.2.1         |   47 KB | : 100% 1.0/1 [00:00<00:00, 19.44it/s]\n",
            "python_abi-3.6       |    4 KB | : 100% 1.0/1 [00:00<00:00, 15.34it/s]\n",
            "openssl-1.1.1e       |  2.1 MB | : 100% 1.0/1 [00:00<00:00,  2.85it/s]               \n",
            "libstdcxx-ng-9.2.0   |  4.5 MB | : 100% 1.0/1 [00:00<00:00,  1.45it/s]               \n",
            "_libgcc_mutex-0.1    |    3 KB | : 100% 1.0/1 [00:00<00:00, 27.53it/s]\n",
            "_openmp_mutex-4.5    |  435 KB | : 100% 1.0/1 [00:00<00:00, 10.86it/s]\n",
            "certifi-2019.11.28   |  149 KB | : 100% 1.0/1 [00:00<00:00, 16.20it/s]\n",
            "ca-certificates-2019 |  145 KB | : 100% 1.0/1 [00:00<00:00, 18.14it/s]\n",
            "python-3.6.10        | 34.1 MB | : 100% 1.0/1 [00:04<00:00,  4.68s/it]               \n",
            "pip-20.0.2           |  1.0 MB | : 100% 1.0/1 [00:00<00:00,  3.34it/s]               \n",
            "wheel-0.34.2         |   24 KB | : 100% 1.0/1 [00:00<00:00, 21.81it/s]\n",
            "zlib-1.2.11          |  105 KB | : 100% 1.0/1 [00:00<00:00, 18.80it/s]\n",
            "xz-5.2.4             |  375 KB | : 100% 1.0/1 [00:00<00:00,  8.93it/s]               \n",
            "ld_impl_linux-64-2.3 |  616 KB | : 100% 1.0/1 [00:00<00:00,  6.84it/s]               \n",
            "sqlite-3.30.1        |  2.0 MB | : 100% 1.0/1 [00:00<00:00,  2.93it/s]               \n",
            "Preparing transaction: - \b\b\\ \b\b| \b\bdone\n",
            "Verifying transaction: - \b\b\\ \b\b| \b\b/ \b\b- \b\b\\ \b\b| \b\b/ \b\b- \b\b\\ \b\b| \b\b/ \b\b- \b\b\\ \b\b| \b\b/ \b\b- \b\bdone\n",
            "Executing transaction: | \b\b/ \b\b- \b\b\\ \b\b| \b\b/ \b\b- \b\b\\ \b\b| \b\b/ \b\b- \b\b\\ \b\b| \b\b/ \b\b- \b\b\\ \b\b| \b\b/ \b\b- \b\b\\ \b\b| \b\b/ \b\b- \b\b\\ \b\b| \b\b/ \b\b- \b\b\\ \b\b| \b\b/ \b\b- \b\b\\ \b\b| \b\b/ \b\b- \b\b\\ \b\b| \b\b/ \b\b- \b\b\\ \b\b| \b\b/ \b\b- \b\b\\ \b\b| \b\b/ \b\b- \b\b\\ \b\b| \b\b/ \b\b- \b\b\\ \b\b| \b\b/ \b\b- \b\b\\ \b\b| \b\b/ \b\b- \b\b\\ \b\b| \b\b/ \b\b- \b\b\\ \b\b| \b\b/ \b\b- \b\b\\ \b\b| \b\b/ \b\b- \b\b\\ \b\b| \b\b/ \b\b- \b\b\\ \b\b| \b\b/ \b\b- \b\b\\ \b\b| \b\b/ \b\b- \b\b\\ \b\b| \b\b/ \b\b- \b\b\\ \b\b| \b\b/ \b\b- \b\b\\ \b\b| \b\b/ \b\b- \b\b\\ \b\b| \b\b/ \b\b- \b\b\\ \b\b| \b\b/ \b\b- \b\b\\ \b\b| \b\b/ \b\b- \b\b\\ \b\b| \b\b/ \b\b- \b\b\\ \b\b| \b\b/ \b\b- \b\b\\ \b\b| \b\b/ \b\b- \b\b\\ \b\b| \b\b/ \b\b- \b\b\\ \b\b| \b\b/ \b\b- \b\b\\ \b\b| \b\b/ \b\b- \b\b\\ \b\b| \b\b/ \b\b- \b\b\\ \b\b| \b\b/ \b\b- \b\b\\ \b\b| \b\b/ \b\b- \b\b\\ \b\b| \b\b/ \b\b- \b\b\\ \b\b| \b\b/ \b\b- \b\b\\ \b\b| \b\b/ \b\b- \b\b\\ \b\b| \b\b/ \b\b- \b\b\\ \b\b| \b\b/ \b\b- \b\b\\ \b\b| \b\b/ \b\b- \b\b\\ \b\b| \b\b/ \b\b- \b\b\\ \b\b| \b\b/ \b\b- \b\b\\ \b\b| \b\b/ \b\b- \b\b\\ \b\b| \b\b/ \b\b- \b\b\\ \b\b| \b\b/ \b\b- \b\b\\ \b\bdone\n",
            "Installing RAPIDS 0.12 packages from the stable release channel\n",
            "Please standby, this will take a few minutes...\n",
            "Solving environment: - \b\b\\ \b\b| \b\b/ \b\b- \b\b\\ \b\b| \b\b/ \b\b- \b\b\\ \b\b| \b\b/ \b\b- \b\b\\ \b\b| \b\b/ \b\b- \b\b\\ \b\b| \b\b/ \b\b- \b\b\\ \b\b| \b\b/ \b\b- \b\b\\ \b\b| \b\b/ \b\b- \b\b\\ \b\b| \b\b/ \b\b- \b\b\\ \b\b| \b\b/ \b\b- \b\b\\ \b\b| \b\b/ \b\b- \b\b\\ \b\b| \b\b/ \b\b- \b\b\\ \b\b| \b\b/ \b\b- \b\b\\ \b\b| \b\b/ \b\b- \b\b\\ \b\b| \b\b/ \b\b- \b\b\\ \b\b| \b\b/ \b\b- \b\b\\ \b\b| \b\b/ \b\b- \b\b\\ \b\b| \b\b/ \b\b- \b\b\\ \b\b| \b\b/ \b\b- \b\b\\ \b\b| \b\b/ \b\b- \b\b\\ \b\b| \b\b/ \b\b- \b\b\\ \b\b| \b\b/ \b\b- \b\b\\ \b\b| \b\b/ \b\b- \b\b\\ \b\b| \b\b/ \b\b- \b\b\\ \b\b| \b\b/ \b\b- \b\b\\ \b\b| \b\b/ \b\b- \b\b\\ \b\b| \b\b/ \b\b- \b\b\\ \b\b| \b\b/ \b\b- \b\b\\ \b\b| \b\b/ \b\b- \b\b\\ \b\b| \b\b/ \b\b- \b\b\\ \b\b| \b\b/ \b\b- \b\b\\ \b\b| \b\b/ \b\b- \b\b\\ \b\b| \b\b/ \b\b- \b\b\\ \b\b| \b\b/ \b\b- \b\b\\ \b\b| \b\b/ \b\b- \b\b\\ \b\b| \b\b/ \b\b- \b\b\\ \b\b| \b\b/ \b\b- \b\b\\ \b\b| \b\b/ \b\b- \b\b\\ \b\b| \b\b/ \b\b- \b\b\\ \b\b| \b\b/ \b\b- \b\b\\ \b\b| \b\b/ \b\b- \b\b\\ \b\b| \b\b/ \b\b- \b\b\\ \b\b| \b\b/ \b\b- \b\b\\ \b\b| \b\b/ \b\b- \b\b\\ \b\b| \b\b/ \b\b- \b\b\\ \b\b| \b\b/ \b\b- \b\b\\ \b\b| \b\b/ \b\b- \b\b\\ \b\b| \b\b/ \b\b- \b\b\\ \b\b| \b\b/ \b\b- \b\b\\ \b\b| \b\b/ \b\b- \b\b\\ \b\b| \b\b/ \b\b- \b\b\\ \b\b| \b\b/ \b\b- \b\b\\ \b\b| \b\b/ \b\b- \b\b\\ \b\b| \b\b/ \b\b- \b\b\\ \b\b| \b\b/ \b\b- \b\b\\ \b\b| \b\b/ \b\b- \b\b\\ \b\b| \b\b/ \b\b- \b\b\\ \b\b| \b\b/ \b\b- \b\b\\ \b\b| \b\b/ \b\b- \b\b\\ \b\b| \b\b/ \b\b- \b\b\\ \b\b| \b\b/ \b\b- \b\b\\ \b\b| \b\b/ \b\b- \b\b\\ \b\b| \b\b/ \b\b- \b\b\\ \b\b| \b\b/ \b\b- \b\b\\ \b\b| \b\b/ \b\b- \b\b\\ \b\b| \b\b/ \b\b- \b\b\\ \b\b| \b\b/ \b\b- \b\b\\ \b\b| \b\b/ \b\b- \b\b\\ \b\b| \b\b/ \b\b- \b\b\\ \b\b| \b\b/ \b\b- \b\b\\ \b\b| \b\b/ \b\b- \b\b\\ \b\b| \b\b/ \b\b- \b\b\\ \b\b| \b\b/ \b\b- \b\b\\ \b\b| \b\b/ \b\b- \b\b\\ \b\b| \b\b/ \b\b- \b\b\\ \b\b| \b\b/ \b\b- \b\b\\ \b\b| \b\b/ \b\b- \b\b\\ \b\b| \b\b/ \b\b- \b\b\\ \b\b| \b\b/ \b\b- \b\b\\ \b\b| \b\b/ \b\b- \b\b\\ \b\b| \b\b/ \b\b- \b\b\\ \b\b| \b\b/ \b\b- \b\b\\ \b\b| \b\b/ \b\b- \b\b\\ \b\b| \b\b/ \b\b- \b\b\\ \b\b| \b\b/ \b\b- \b\b\\ \b\b| \b\b/ \b\b- \b\b\\ \b\b| \b\b/ \b\b- \b\b\\ \b\b| \b\b/ \b\b- \b\b\\ \b\b| \b\b/ \b\b- \b\b\\ \b\b| \b\b/ \b\b- \b\b\\ \b\b| \b\b/ \b\b- \b\b\\ \b\b| \b\b/ \b\b- \b\b\\ \b\b| \b\b/ \b\b- \b\b\\ \b\b| \b\b/ \b\b- \b\b\\ \b\b| \b\b/ \b\b- \b\b\\ \b\b| \b\b/ \b\b- \b\b\\ \b\b| \b\b/ \b\b- \b\b\\ \b\b| \b\b/ \b\b- \b\b\\ \b\b| \b\b/ \b\b- \b\b\\ \b\b| \b\b/ \b\b- \b\b\\ \b\b| \b\b/ \b\b- \b\b\\ \b\b| \b\b/ \b\b- \b\b\\ \b\b| \b\b/ \b\b- \b\b\\ \b\b| \b\b/ \b\b- \b\b\\ \b\b| \b\b/ \b\b- \b\b\\ \b\b| \b\b/ \b\b- \b\b\\ \b\b| \b\b/ \b\b- \b\b\\ \b\b| \b\b/ \b\b- \b\b\\ \b\b| \b\b/ \b\b- \b\b\\ \b\b| \b\b/ \b\b- \b\b\\ \b\b| \b\b/ \b\b- \b\b\\ \b\b| \b\b/ \b\b- \b\b\\ \b\b| \b\b/ \b\b- \b\b\\ \b\b| \b\b/ \b\b- \b\b\\ \b\b| \b\b/ \b\b- \b\b\\ \b\b| \b\b/ \b\b- \b\b\\ \b\b| \b\b/ \b\b- \b\b\\ \b\b| \b\b/ \b\b- \b\b\\ \b\b| \b\b/ \b\b- \b\b\\ \b\b| \b\b/ \b\b- \b\b\\ \b\b| \b\b/ \b\b- \b\b\\ \b\b| \b\b/ \b\b- \b\b\\ \b\b| \b\b/ \b\b- \b\b\\ \b\b| \b\b/ \b\b- \b\b\\ \b\b| \b\b/ \b\b- \b\b\\ \b\b| \b\b/ \b\b- \b\b\\ \b\b| \b\b/ \b\b- \b\b\\ \b\b| \b\b/ \b\b- \b\b\\ \b\b| \b\b/ \b\b- \b\b\\ \b\b| \b\b/ \b\b- \b\b\\ \b\b| \b\b/ \b\b- \b\b\\ \b\b| \b\b/ \b\b- \b\b\\ \b\b| \b\b/ \b\b- \b\b\\ \b\b| \b\b/ \b\b- \b\b\\ \b\b| \b\b/ \b\b- \b\b\\ \b\b| \b\b/ \b\b- \b\b\\ \b\b| \b\b/ \b\b- \b\b\\ \b\b| \b\b/ \b\b- \b\b\\ \b\b| \b\b/ \b\b- \b\b\\ \b\b| \b\b/ \b\b- \b\b\\ \b\b| \b\b/ \b\b- \b\b\\ \b\b| \b\b/ \b\b- \b\b\\ \b\b| \b\b/ \b\b- \b\b\\ \b\b| \b\b/ \b\b- \b\b\\ \b\b| \b\b/ \b\b- \b\b\\ \b\b| \b\b/ \b\b- \b\b\\ \b\b| \b\b/ \b\b- \b\b\\ \b\b| \b\b/ \b\b- \b\b\\ \b\b| \b\b/ \b\b- \b\b\\ \b\b| \b\b/ \b\b- \b\b\\ \b\b| \b\b/ \b\b- \b\b\\ \b\b| \b\b/ \b\b- \b\b\\ \b\b| \b\b/ \b\b- \b\b\\ \b\b| \b\b/ \b\b- \b\b\\ \b\b| \b\b/ \b\b- \b\b\\ \b\b| \b\b/ \b\b- \b\b\\ \b\b| \b\b/ \b\b- \b\b\\ \b\b| \b\b/ \b\b- \b\b\\ \b\b| \b\b/ \b\b- \b\b\\ \b\b| \b\b/ \b\b- \b\b\\ \b\b| \b\b/ \b\b- \b\b\\ \b\b| \b\b/ \b\b- \b\b\\ \b\b| \b\b/ \b\b- \b\b\\ \b\b| \b\b/ \b\b- \b\b\\ \b\b| \b\b/ \b\b- \b\b\\ \b\b| \b\b/ \b\b- \b\b\\ \b\b| \b\b/ \b\b- \b\b\\ \b\b| \b\b/ \b\b- \b\b\\ \b\b| \b\b/ \b\b- \b\b\\ \b\b| \b\b/ \b\b- \b\b\\ \b\b| \b\b/ \b\b- \b\b\\ \b\b| \b\b/ \b\b- \b\b\\ \b\b| \b\b/ \b\b- \b\b\\ \b\b| \b\b/ \b\b- \b\b\\ \b\b| \b\b/ \b\b- \b\b\\ \b\b| \b\b/ \b\b- \b\b\\ \b\b| \b\b/ \b\b- \b\b\\ \b\b| \b\b/ \b\b- \b\b\\ \b\b| \b\b/ \b\b- \b\b\\ \b\b| \b\b/ \b\b- \b\b\\ \b\b| \b\b/ \b\b- \b\b\\ \b\b| \b\b/ \b\b- \b\b\\ \b\b| \b\b/ \b\b- \b\b\\ \b\b| \b\b/ \b\b- \b\b\\ \b\b| \b\b/ \b\b- \b\b\\ \b\b| \b\b/ \b\b- \b\b\\ \b\b| \b\b/ \b\b- \b\b\\ \b\b| \b\b/ \b\b- \b\b\\ \b\b| \b\b/ \b\b- \b\b\\ \b\b| \b\b/ \b\b- \b\b\\ \b\b| \b\b/ \b\b- \b\b\\ \b\b| \b\b/ \b\b- \b\b\\ \b\b| \b\b/ \b\b- \b\b\\ \b\b| \b\b/ \b\b- \b\b\\ \b\b| \b\b/ \b\b- \b\b\\ \b\b| \b\b/ \b\b- \b\b\\ \b\b| \b\b/ \b\b- \b\b\\ \b\b| \b\b/ \b\b- \b\b\\ \b\b| \b\b/ \b\b- \b\b\\ \b\b| \b\b/ \b\b- \b\b\\ \b\b| \b\b/ \b\b- \b\b\\ \b\b| \b\b/ \b\b- \b\b\\ \b\b| \b\b/ \b\b- \b\b\\ \b\b| \b\b/ \b\b- \b\b\\ \b\b| \b\b/ \b\b- \b\b\\ \b\b| \b\b/ \b\b- \b\b\\ \b\b| \b\b/ \b\b- \b\b\\ \b\b| \b\b/ \b\b- \b\b\\ \b\b| \b\b/ \b\b- \b\b\\ \b\b| \b\b/ \b\b- \b\b\\ \b\b| \b\b/ \b\b- \b\b\\ \b\b| \b\b/ \b\b- \b\b\\ \b\b| \b\b/ \b\b- \b\b\\ \b\b| \b\b/ \b\b- \b\b\\ \b\b| \b\b/ \b\b- \b\b\\ \b\b| \b\b/ \b\b- \b\b\\ \b\b| \b\b/ \b\b- \b\b\\ \b\b| \b\b/ \b\b- \b\b\\ \b\b| \b\b/ \b\b- \b\b\\ \b\b| \b\b/ \b\b- \b\b\\ \b\b| \b\b/ \b\b- \b\b\\ \b\b| \b\b/ \b\b- \b\b\\ \b\b| \b\b/ \b\b- \b\b\\ \b\b| \b\b/ \b\b- \b\b\\ \b\b| \b\b/ \b\b- \b\b\\ \b\b| \b\b/ \b\b- \b\b\\ \b\b| \b\b/ \b\b- \b\b\\ \b\b| \b\b/ \b\b- \b\b\\ \b\b| \b\b/ \b\b- \b\b\\ \b\b| \b\b/ \b\b- \b\b\\ \b\b| \b\b/ \b\b- \b\b\\ \b\b| \b\b/ \b\b- \b\b\\ \b\b| \b\b/ \b\b- \b\b\\ \b\b| \b\b/ \b\b- \b\b\\ \b\b| \b\b/ \b\b- \b\b\\ \b\b| \b\b/ \b\b- \b\b\\ \b\b| \b\b/ \b\b- \b\b\\ \b\b| \b\b/ \b\b- \b\b\\ \b\b| \b\b/ \b\b- \b\b\\ \b\b| \b\b/ \b\b- \b\b\\ \b\b| \b\b/ \b\b- \b\b\\ \b\b| \b\b/ \b\b- \b\b\\ \b\b| \b\b/ \b\b- \b\b\\ \b\b| \b\b/ \b\b- \b\b\\ \b\b| \b\b/ \b\b- \b\b\\ \b\b| \b\b/ \b\b- \b\b\\ \b\b| \b\b/ \b\b- \b\b\\ \b\b| \b\b/ \b\b- \b\b\\ \b\b| \b\b/ \b\b- \b\b\\ \b\b| \b\b/ \b\b- \b\b\\ \b\b| \b\b/ \b\b- \b\b\\ \b\b| \b\b/ \b\b- \b\b\\ \b\b| \b\b/ \b\b- \b\b\\ \b\b| \b\b/ \b\b- \b\b\\ \b\b| \b\b/ \b\b- \b\b\\ \b\b| \b\b/ \b\b- \b\b\\ \b\b| \b\b/ \b\b- \b\b\\ \b\b| \b\b/ \b\b- \b\b\\ \b\b| \b\b/ \b\b- \b\b\\ \b\b| \b\b/ \b\b- \b\b\\ \b\b| \b\b/ \b\b- \b\b\\ \b\b| \b\b/ \b\b- \b\b\\ \b\b| \b\b/ \b\b- \b\b\\ \b\b| \b\b/ \b\b- \b\b\\ \b\b| \b\b/ \b\b- \b\b\\ \b\b| \b\b/ \b\b- \b\b\\ \b\b| \b\b/ \b\b- \b\b\\ \b\b| \b\b/ \b\b- \b\b\\ \b\b| \b\b/ \b\b- \b\b\\ \b\b| \b\b/ \b\b- \b\b\\ \b\b| \b\b/ \b\b- \b\b\\ \b\b| \b\b/ \b\b- \b\b\\ \b\b| \b\b/ \b\b- \b\b\\ \b\b| \b\b/ \b\b- \b\b\\ \b\b| \b\b/ \b\b- \b\b\\ \b\b| \b\b/ \b\b- \b\b\\ \b\b| \b\b/ \b\b- \b\b\\ \b\b| \b\b/ \b\b- \b\b\\ \b\b| \b\b/ \b\b- \b\b\\ \b\b| \b\b/ \b\b- \b\b\\ \b\b| \b\b/ \b\b- \b\b\\ \b\b| \b\b/ \b\b- \b\b\\ \b\b| \b\b/ \b\b- \b\b\\ \b\b| \b\b/ \b\b- \b\b\\ \b\b| \b\b/ \b\b- \b\b\\ \b\b| \b\b/ \b\b- \b\b\\ \b\b| \b\b/ \b\b- \b\b\\ \b\b| \b\b/ \b\b- \b\b\\ \b\b| \b\b/ \b\b- \b\b\\ \b\b| \b\b/ \b\b- \b\b\\ \b\b| \b\b/ \b\b- \b\b\\ \b\b| \b\b/ \b\b- \b\b\\ \b\b| \b\b/ \b\b- \b\b\\ \b\b| \b\b/ \b\b- \b\b\\ \b\b| \b\b/ \b\b- \b\b\\ \b\b| \b\b/ \b\b- \b\b\\ \b\b| \b\b/ \b\b- \b\b\\ \b\b| \b\b/ \b\b- \b\b\\ \b\b| \b\b/ \b\b- \b\b\\ \b\b| \b\b/ \b\b- \b\b\\ \b\b| \b\b/ \b\b- \b\b\\ \b\b| \b\b/ \b\b- \b\b\\ \b\b| \b\b/ \b\b- \b\b\\ \b\b| \b\b/ \b\b- \b\b\\ \b\b| \b\b/ \b\b- \b\b\\ \b\b| \b\b/ \b\b- \b\b\\ \b\b| \b\b/ \b\b- \b\b\\ \b\b| \b\b/ \b\b- \b\b\\ \b\b| \b\b/ \b\b- \b\b\\ \b\b| \b\b/ \b\b- \b\b\\ \b\b| \b\b/ \b\b- \b\b\\ \b\b| \b\b/ \b\b- \b\b\\ \b\b| \b\b/ \b\b- \b\b\\ \b\b| \b\b/ \b\b- \b\b\\ \b\b| \b\b/ \b\b- \b\b\\ \b\b| \b\b/ \b\b- \b\b\\ \b\b| \b\b/ \b\b- \b\b\\ \b\b| \b\b/ \b\b- \b\b\\ \b\b| \b\b/ \b\b- \b\b\\ \b\b| \b\b/ \b\b- \b\b\\ \b\b| \b\b/ \b\b- \b\b\\ \b\b| \b\b/ \b\b- \b\b\\ \b\b| \b\b/ \b\b- \b\b\\ \b\b| \b\b/ \b\b- \b\b\\ \b\b| \b\b/ \b\b- \b\b\\ \b\b| \b\b/ \b\b- \b\b\\ \b\b| \b\b/ \b\b- \b\b\\ \b\b| \b\b/ \b\b- \b\b\\ \b\b| \b\b/ \b\b- \b\b\\ \b\b| \b\b/ \b\b- \b\b\\ \b\b| \b\b/ \b\b- \b\b\\ \b\b| \b\b/ \b\b- \b\b\\ \b\b| \b\b/ \b\b- \b\b\\ \b\b| \b\b/ \b\b- \b\b\\ \b\b| \b\b/ \b\b- \b\b\\ \b\b| \b\b/ \b\b- \b\b\\ \b\b| \b\b/ \b\b- \b\b\\ \b\b| \b\b/ \b\b- \b\b\\ \b\b| \b\b/ \b\b- \b\b\\ \b\b| \b\b/ \b\b- \b\b\\ \b\b| \b\b/ \b\b- \b\b\\ \b\b| \b\b/ \b\b- \b\b\\ \b\b| \b\b/ \b\b- \b\b\\ \b\b| \b\b/ \b\b- \b\b\\ \b\b| \b\b/ \b\b- \b\b\\ \b\b| \b\b/ \b\b- \b\b\\ \b\b| \b\b/ \b\b- \b\b\\ \b\b| \b\b/ \b\b- \b\b\\ \b\b| \b\b/ \b\b- \b\b\\ \b\b| \b\b/ \b\b- \b\b\\ \b\b| \b\b/ \b\b- \b\b\\ \b\b| \b\b/ \b\b- \b\b\\ \b\b| \b\b/ \b\b- \b\b\\ \b\b| \b\b/ \b\b- \b\b\\ \b\b| \b\b/ \b\b- \b\b\\ \b\b| \b\b/ \b\b- \b\b\\ \b\b| \b\b/ \b\b- \b\b\\ \b\b| \b\b/ \b\b- \b\b\\ \b\b| \b\b/ \b\b- \b\b\\ \b\b| \b\b/ \b\b- \b\b\\ \b\b| \b\b/ \b\b- \b\b\\ \b\b| \b\b/ \b\b- \b\b\\ \b\b| \b\b/ \b\b- \b\b\\ \b\b| \b\b/ \b\b- \b\b\\ \b\b| \b\b/ \b\b- \b\b\\ \b\b| \b\b/ \b\b- \b\b\\ \b\b| \b\b/ \b\b- \b\b\\ \b\b| \b\b/ \b\b- \b\b\\ \b\b| \b\b/ \b\b- \b\b\\ \b\b| \b\b/ \b\b- \b\b\\ \b\b| \b\b/ \b\b- \b\b\\ \b\b| \b\b/ \b\b- \b\b\\ \b\b| \b\b/ \b\b- \b\b\\ \b\b| \b\b/ \b\b- \b\b\\ \b\b| \b\b/ \b\b- \b\b\\ \b\b| \b\b/ \b\b- \b\b\\ \b\b| \b\b/ \b\b- \b\b\\ \b\b| \b\b/ \b\b- \b\b\\ \b\b| \b\b/ \b\b- \b\b\\ \b\b| \b\b/ \b\b- \b\b\\ \b\b| \b\b/ \b\b- \b\b\\ \b\b| \b\b/ \b\b- \b\b\\ \b\b| \b\b/ \b\b- \b\b\\ \b\b| \b\b/ \b\b- \b\b\\ \b\b| \b\b/ \b\b- \b\b\\ \b\b| \b\b/ \b\b- \b\b\\ \b\b| \b\b/ \b\b- \b\b\\ \b\b| \b\b/ \b\b- \b\b\\ \b\b| \b\b/ \b\b- \b\b\\ \b\b| \b\b/ \b\b- \b\b\\ \b\b| \b\b/ \b\b- \b\b\\ \b\b| \b\b/ \b\b- \b\b\\ \b\b| \b\b/ \b\b- \b\b\\ \b\b| \b\b/ \b\b- \b\b\\ \b\b| \b\b/ \b\b- \b\b\\ \b\b| \b\b/ \b\b- \b\b\\ \b\b| \b\b/ \b\b- \b\b\\ \b\b| \b\b/ \b\b- \b\b\\ \b\b| \b\b/ \b\b- \b\b\\ \b\b| \b\b/ \b\b- \b\b\\ \b\b| \b\b/ \b\b- \b\b\\ \b\b| \b\b/ \b\b- \b\b\\ \b\b| \b\b/ \b\b- \b\b\\ \b\b| \b\b/ \b\b- \b\b\\ \b\b| \b\b/ \b\b- \b\b\\ \b\b| \b\b/ \b\b- \b\b\\ \b\b| \b\b/ \b\b- \b\b\\ \b\b| \b\b/ \b\b- \b\b\\ \b\b| \b\b/ \b\b- \b\b\\ \b\b| \b\b/ \b\b- \b\b\\ \b\b| \b\b/ \b\b- \b\b\\ \b\b| \b\b/ \b\b- \b\b\\ \b\b| \b\b/ \b\b- \b\b\\ \b\b| \b\b/ \b\b- \b\b\\ \b\b| \b\b/ \b\b- \b\b\\ \b\b| \b\b/ \b\b- \b\b\\ \b\b| \b\b/ \b\b- \b\b\\ \b\b| \b\b/ \b\b- \b\b\\ \b\b| \b\b/ \b\b- \b\b\\ \b\b| \b\b/ \b\b- \b\b\\ \b\b| \b\b/ \b\b- \b\b\\ \b\b| \b\b/ \b\b- \b\b\\ \b\b| \b\b/ \b\b- \b\b\\ \b\b| \b\b/ \b\b- \b\b\\ \b\b| \b\b/ \b\b- \b\b\\ \b\b| \b\b/ \b\b- \b\b\\ \b\b| \b\b/ \b\b- \b\b\\ \b\b| \b\b/ \b\b- \b\b\\ \b\b| \b\b/ \b\b- \b\b\\ \b\b| \b\b/ \b\b- \b\b\\ \b\b| \b\b/ \b\b- \b\b\\ \b\b| \b\b/ \b\b- \b\b\\ \b\b| \b\b/ \b\b- \b\b\\ \b\b| \b\b/ \b\b- \b\b\\ \b\b| \b\b/ \b\b- \b\b\\ \b\b| \b\b/ \b\b- \b\b\\ \b\b| \b\b/ \b\b- \b\b\\ \b\b| \b\b/ \b\b- \b\b\\ \b\b| \b\b/ \b\b- \b\b\\ \b\b| \b\b/ \b\b- \b\b\\ \b\b| \b\b/ \b\b- \b\b\\ \b\b| \b\b/ \b\b- \b\b\\ \b\b| \b\b/ \b\b- \b\b\\ \b\b| \b\b/ \b\b- \b\b\\ \b\b| \b\b/ \b\b- \b\b\\ \b\b| \b\b/ \b\b- \b\b\\ \b\b| \b\b/ \b\b- \b\b\\ \b\b| \b\b/ \b\b- \b\b\\ \b\b| \b\b/ \b\b- \b\b\\ \b\b| \b\b/ \b\b- \b\b\\ \b\b| \b\b/ \b\b- \b\b\\ \b\b| \b\b/ \b\b- \b\b\\ \b\b| \b\b/ \b\b- \b\b\\ \b\b| \b\b/ \b\b- \b\b\\ \b\b| \b\b/ \b\b- \b\b\\ \b\b| \b\b/ \b\b- \b\b\\ \b\b| \b\b/ \b\b- \b\b\\ \b\b| \b\b/ \b\b- \b\b\\ \b\b| \b\b/ \b\b- \b\b\\ \b\b| \b\b/ \b\b- \b\b\\ \b\b| \b\b/ \b\b- \b\b\\ \b\b| \b\b/ \b\b- \b\b\\ \b\b| \b\b/ \b\b- \b\b\\ \b\b| \b\b/ \b\b- \b\b\\ \b\b| \b\b/ \b\b- \b\b\\ \b\b| \b\b/ \b\b- \b\b\\ \b\b| \b\b/ \b\b- \b\b\\ \b\b| \b\b/ \b\b- \b\b\\ \b\b| \b\b/ \b\b- \b\b\\ \b\b| \b\b/ \b\bdone\n",
            "\n",
            "\n",
            "==> WARNING: A newer version of conda exists. <==\n",
            "  current version: 4.5.4\n",
            "  latest version: 4.8.3\n",
            "\n",
            "Please update conda by running\n",
            "\n",
            "    $ conda update -n base conda\n",
            "\n",
            "\n",
            "\n",
            "## Package Plan ##\n",
            "\n",
            "  environment location: /usr/local\n",
            "\n",
            "  added / updated specs: \n",
            "    - cudatoolkit=10.0\n",
            "    - cudf=0.12\n",
            "    - cugraph\n",
            "    - cuml\n",
            "    - cuspatial\n",
            "    - dask-cudf\n",
            "    - gcsfs\n",
            "    - pynvml\n",
            "    - python=3.6\n",
            "    - xgboost\n",
            "\n",
            "\n",
            "The following packages will be downloaded:\n",
            "\n",
            "    package                    |            build\n",
            "    ---------------------------|-----------------\n",
            "    llvmlite-0.31.0            |   py36hfa65bc7_1         325 KB  conda-forge\n",
            "    cuml-0.12.0                |  cuda10.0_py36_0         9.1 MB  rapidsai\n",
            "    freetype-2.10.1            |       he06d7ca_0         877 KB  conda-forge\n",
            "    python-dateutil-2.8.1      |             py_0         220 KB  conda-forge\n",
            "    packaging-20.1             |             py_0          31 KB  conda-forge\n",
            "    libpq-12.2                 |       hae5116b_0         2.6 MB  conda-forge\n",
            "    libopenblas-0.3.7          |       h5ec1e0e_6         7.6 MB  conda-forge\n",
            "    cairo-1.16.0               |    hcf35c78_1003         1.5 MB  conda-forge\n",
            "    scikit-learn-0.22.2.post1  |   py36hcdab131_0         7.1 MB  conda-forge\n",
            "    libcuspatial-0.12.0        |       cuda10.0_0         1.6 MB  rapidsai\n",
            "    partd-1.1.0                |             py_0          17 KB  conda-forge\n",
            "    jinja2-2.11.1              |             py_0          94 KB  conda-forge\n",
            "    dask-cudf-0.12.0           |           py36_0          70 KB  rapidsai\n",
            "    pyopenssl-19.1.0           |             py_1          47 KB  conda-forge\n",
            "    libkml-1.3.0               |    h4fcabce_1010         643 KB  conda-forge\n",
            "    libcuml-0.12.0             |       cuda10.0_0        51.8 MB  rapidsai\n",
            "    hdf4-4.2.13                |    hf30be14_1003         964 KB  conda-forge\n",
            "    ucx-py-0.12.0+g9d06c3a     |           py36_0         270 KB  rapidsai\n",
            "    postgresql-12.2            |       hf1211e9_0         5.0 MB  conda-forge\n",
            "    rmm-0.12.0                 |           py36_0         353 KB  rapidsai\n",
            "    libgdal-2.4.4              |       h2b6fda6_0        18.7 MB  conda-forge\n",
            "    pyasn1-modules-0.2.7       |             py_0          60 KB  conda-forge\n",
            "    fastrlock-0.4              |py36h831f99a_1001          32 KB  conda-forge\n",
            "    kealib-1.4.12              |       hec59c27_0         172 KB  conda-forge\n",
            "    xorg-libxdmcp-1.1.3        |       h516909a_0          18 KB  conda-forge\n",
            "    re2-2020.03.03             |       he1b5a44_0         435 KB  conda-forge\n",
            "    requests-2.23.0            |     pyh8c360ce_2          47 KB  conda-forge\n",
            "    cfitsio-3.470              |       hb60a0a2_2         1.4 MB  conda-forge\n",
            "    glog-0.4.0                 |       he1b5a44_1         104 KB  conda-forge\n",
            "    giflib-5.1.7               |       h516909a_1         455 KB  conda-forge\n",
            "    proj-6.3.0                 |       hc80f0dc_0        10.3 MB  conda-forge\n",
            "    libspatialite-4.3.0a       |    ha48a99a_1034         3.1 MB  conda-forge\n",
            "    distributed-2.12.0         |           py36_0         993 KB  conda-forge\n",
            "    blinker-1.4                |             py_1          13 KB  conda-forge\n",
            "    gcsfs-0.6.0                |             py_0          19 KB  conda-forge\n",
            "    parquet-cpp-1.5.1          |                2           3 KB  conda-forge\n",
            "    libevent-2.1.10            |       h72c5cf5_0         1.3 MB  conda-forge\n",
            "    libnetcdf-4.7.3            |nompi_h9f9fd6a_101         1.3 MB  conda-forge\n",
            "    decorator-4.4.2            |             py_0          11 KB  conda-forge\n",
            "    bokeh-2.0.0                |   py36h9f0ad1d_0         6.9 MB  conda-forge\n",
            "    dlpack-0.2                 |       he1b5a44_1          13 KB  conda-forge\n",
            "    xorg-libsm-1.2.3           |    h84519dc_1000          25 KB  conda-forge\n",
            "    cytoolz-0.10.1             |   py36h516909a_0         431 KB  conda-forge\n",
            "    xgboost-0.90.rapidsdev1    |   cuda10.0py36_1          12 KB  rapidsai/label/xgboost\n",
            "    zstd-1.4.3                 |       h3b9ef0a_0         935 KB  conda-forge\n",
            "    thrift-cpp-0.12.0          |    hf3afdfd_1004         2.4 MB  conda-forge\n",
            "    xorg-libice-1.0.10         |       h516909a_0          57 KB  conda-forge\n",
            "    cloudpickle-1.3.0          |             py_0          24 KB  conda-forge\n",
            "    joblib-0.14.1              |             py_0         198 KB  conda-forge\n",
            "    libllvm8-8.0.1             |       hc9558a2_0        23.2 MB  conda-forge\n",
            "    libuuid-2.32.1             |    h14c3975_1000          26 KB  conda-forge\n",
            "    liblapack-3.8.0            |      14_openblas          10 KB  conda-forge\n",
            "    py-xgboost-0.90.rapidsdev1 |   cuda10.0py36_1          87 KB  rapidsai/label/xgboost\n",
            "    xorg-xextproto-7.3.0       |    h14c3975_1002          27 KB  conda-forge\n",
            "    glib-2.58.3                |py36hd3ed26a_1003         3.3 MB  conda-forge\n",
            "    urllib3-1.25.7             |   py36h9f0ad1d_1         160 KB  conda-forge\n",
            "    tzcode-2019a               |    h516909a_1002         429 KB  conda-forge\n",
            "    lz4-c-1.8.3                |    he1b5a44_1001         187 KB  conda-forge\n",
            "    tblib-1.6.0                |             py_0          14 KB  conda-forge\n",
            "    pyyaml-5.1.2               |   py36h516909a_0         184 KB  conda-forge\n",
            "    libtiff-4.1.0              |       hfc65ed5_0         595 KB  conda-forge\n",
            "    uriparser-0.9.3            |       he1b5a44_1          49 KB  conda-forge\n",
            "    pthread-stubs-0.4          |    h14c3975_1001           5 KB  conda-forge\n",
            "    libssh2-1.8.2              |       h22169c7_2         257 KB  conda-forge\n",
            "    fastavro-0.22.13           |   py36h8c4c3a4_1         416 KB  conda-forge\n",
            "    libdap4-3.20.4             |       hd3bb157_0        18.5 MB  conda-forge\n",
            "    pandas-0.25.3              |   py36hb3f55d8_0        11.4 MB  conda-forge\n",
            "    poppler-0.67.0             |       h14e79db_8         8.9 MB  conda-forge\n",
            "    tornado-6.0.4              |   py36h8c4c3a4_1         639 KB  conda-forge\n",
            "    xorg-kbproto-1.0.7         |    h14c3975_1002          26 KB  conda-forge\n",
            "    gettext-0.19.8.1           |    hc5be6a0_1002         3.6 MB  conda-forge\n",
            "    cupy-7.2.0                 |   py36he57b8b9_1        15.2 MB  conda-forge\n",
            "    libcudf-0.12.0             |       cuda10.0_0       119.2 MB  rapidsai\n",
            "    ucx-1.7.0+g9d06c3a         |       cuda10.0_0         8.2 MB  rapidsai\n",
            "    bzip2-1.0.8                |       h516909a_2         396 KB  conda-forge\n",
            "    locket-0.2.0               |             py_2           6 KB  conda-forge\n",
            "    snappy-1.1.8               |       he1b5a44_1          39 KB  conda-forge\n",
            "    c-ares-1.15.0              |    h516909a_1001         100 KB  conda-forge\n",
            "    pytz-2019.3                |             py_0         237 KB  conda-forge\n",
            "    boost-cpp-1.70.0           |       h8e57a91_2        21.1 MB  conda-forge\n",
            "    pyjwt-1.7.1                |             py_0          17 KB  conda-forge\n",
            "    jpeg-9c                    |    h14c3975_1001         251 KB  conda-forge\n",
            "    librmm-0.12.0              |       cuda10.0_0          53 KB  rapidsai\n",
            "    google-auth-1.11.2         |             py_0          47 KB  conda-forge\n",
            "    libblas-3.8.0              |      14_openblas          10 KB  conda-forge\n",
            "    curl-7.68.0                |       hf8cf82a_0         137 KB  conda-forge\n",
            "    dask-core-2.12.0           |             py_0         594 KB  conda-forge\n",
            "    libxcb-1.13                |    h14c3975_1002         396 KB  conda-forge\n",
            "    xorg-libxrender-0.9.10     |    h516909a_1002          31 KB  conda-forge\n",
            "    pixman-0.38.0              |    h516909a_1003         594 KB  conda-forge\n",
            "    rsa-4.0                    |             py_0          27 KB  conda-forge\n",
            "    json-c-0.13.1              |    h14c3975_1001          71 KB  conda-forge\n",
            "    xorg-libx11-1.6.9          |       h516909a_0         918 KB  conda-forge\n",
            "    double-conversion-3.1.5    |       he1b5a44_2          85 KB  conda-forge\n",
            "    brotli-1.0.7               |    he1b5a44_1001         1.0 MB  conda-forge\n",
            "    xorg-libxau-1.0.9          |       h14c3975_0          13 KB  conda-forge\n",
            "    xorg-renderproto-0.11.1    |    h14c3975_1002           8 KB  conda-forge\n",
            "    libgfortran-ng-7.3.0       |       hdf63c60_5         1.7 MB  conda-forge\n",
            "    fontconfig-2.13.1          |    h86ecdb6_1001         340 KB  conda-forge\n",
            "    xorg-libxext-1.3.4         |       h516909a_0          51 KB  conda-forge\n",
            "    cuspatial-0.12.0           |           py36_0         574 KB  rapidsai\n",
            "    nccl-2.4.6.1               |       cuda10.0_0        66.5 MB  nvidia\n",
            "    arrow-cpp-0.15.0           |   py36h090bef1_2        18.1 MB  conda-forge\n",
            "    heapdict-1.0.1             |             py_0           7 KB  conda-forge\n",
            "    markupsafe-1.1.1           |   py36h8c4c3a4_1          26 KB  conda-forge\n",
            "    psutil-5.7.0               |   py36h8c4c3a4_1         324 KB  conda-forge\n",
            "    libcurl-7.68.0             |       hda55be3_0         564 KB  conda-forge\n",
            "    xerces-c-3.2.2             |    h8412b87_1004         1.7 MB  conda-forge\n",
            "    typing_extensions-3.7.4.1  |   py36h9f0ad1d_1          38 KB  conda-forge\n",
            "    libiconv-1.15              |    h516909a_1006         2.0 MB  conda-forge\n",
            "    libxgboost-0.90.rapidsdev1 |       cuda10.0_1        32.8 MB  rapidsai/label/xgboost\n",
            "    numpy-1.18.1               |   py36h95a1406_0         5.2 MB  conda-forge\n",
            "    pynvml-8.0.4               |             py_0          31 KB  conda-forge\n",
            "    freexl-1.0.5               |    h14c3975_1002          43 KB  conda-forge\n",
            "    cachetools-3.1.1           |             py_0          11 KB  conda-forge\n",
            "    cugraph-0.12.0             |           py36_0         4.0 MB  rapidsai\n",
            "    msgpack-python-1.0.0       |   py36hdb11119_1          91 KB  conda-forge\n",
            "    libcumlprims-0.12          |       cuda10.0_9         6.5 MB  nvidia\n",
            "    olefile-0.46               |             py_0          31 KB  conda-forge\n",
            "    libhwloc-2.1.0             |       h3c4fd83_0         2.7 MB  conda-forge\n",
            "    click-7.1.1                |     pyh8c360ce_0          64 KB  conda-forge\n",
            "    numba-0.48.0               |   py36hb3f55d8_0         3.4 MB  conda-forge\n",
            "    oauthlib-3.0.1             |             py_0          82 KB  conda-forge\n",
            "    sortedcontainers-2.1.0     |             py_0          25 KB  conda-forge\n",
            "    libxml2-2.9.10             |       hee79883_0         1.3 MB  conda-forge\n",
            "    expat-2.2.9                |       he1b5a44_2         191 KB  conda-forge\n",
            "    hdf5-1.10.5                |nompi_h3c11f04_1104         3.1 MB  conda-forge\n",
            "    pcre-8.44                  |       he1b5a44_0         261 KB  conda-forge\n",
            "    krb5-1.16.4                |       h2fd8d38_0         1.4 MB  conda-forge\n",
            "    pyasn1-0.4.8               |             py_0          53 KB  conda-forge\n",
            "    icu-64.2                   |       he1b5a44_1        12.6 MB  conda-forge\n",
            "    nvstrings-0.12.0           |           py36_0         129 KB  rapidsai\n",
            "    cudf-0.12.0                |           py36_0         9.9 MB  rapidsai\n",
            "    geotiff-1.5.1              |       h38872f0_8         279 KB  conda-forge\n",
            "    dask-2.12.0                |             py_0           4 KB  conda-forge\n",
            "    poppler-data-0.4.9         |                1         3.4 MB  conda-forge\n",
            "    grpc-cpp-1.23.0            |       h18db393_0         4.5 MB  conda-forge\n",
            "    gdal-2.4.4                 |   py36h5f563d9_0         1.4 MB  conda-forge\n",
            "    pyarrow-0.15.0             |   py36h8b68381_1         3.2 MB  conda-forge\n",
            "    xorg-xproto-7.0.31         |    h14c3975_1007          72 KB  conda-forge\n",
            "    zict-2.0.0                 |             py_0          10 KB  conda-forge\n",
            "    libpng-1.6.37              |       hed695b0_1         308 KB  conda-forge\n",
            "    pyparsing-2.4.6            |             py_0          59 KB  conda-forge\n",
            "    libcugraph-0.12.0          |       cuda10.0_0        18.9 MB  rapidsai\n",
            "    libcblas-3.8.0             |      14_openblas          10 KB  conda-forge\n",
            "    gflags-2.2.2               |    he1b5a44_1002         175 KB  conda-forge\n",
            "    scipy-1.4.1                |   py36h921218d_0        18.9 MB  conda-forge\n",
            "    toolz-0.10.0               |             py_0          46 KB  conda-forge\n",
            "    cryptography-2.8           |   py36h45558ae_2         628 KB  conda-forge\n",
            "    google-auth-oauthlib-0.4.1 |             py_2          18 KB  conda-forge\n",
            "    cudatoolkit-10.0.130       |                0       380.0 MB  nvidia\n",
            "    libprotobuf-3.8.0          |       h8b12597_0         4.7 MB  conda-forge\n",
            "    geos-3.8.0                 |       he1b5a44_1         1.0 MB  conda-forge\n",
            "    pillow-7.0.0               |   py36h8328e55_1         652 KB  conda-forge\n",
            "    fsspec-0.6.3               |             py_0          48 KB  conda-forge\n",
            "    openjpeg-2.3.1             |       h981e76c_3         475 KB  conda-forge\n",
            "    libnvstrings-0.12.0        |       cuda10.0_0        30.1 MB  rapidsai\n",
            "    requests-oauthlib-1.2.0    |             py_0          19 KB  conda-forge\n",
            "    cudnn-7.6.0                |       cuda10.0_0       216.6 MB  nvidia\n",
            "    ------------------------------------------------------------\n",
            "                                           Total:        1.21 GB\n",
            "\n",
            "The following NEW packages will be INSTALLED:\n",
            "\n",
            "    arrow-cpp:            0.15.0-py36h090bef1_2          conda-forge           \n",
            "    blinker:              1.4-py_1                       conda-forge           \n",
            "    bokeh:                2.0.0-py36h9f0ad1d_0           conda-forge           \n",
            "    boost-cpp:            1.70.0-h8e57a91_2              conda-forge           \n",
            "    brotli:               1.0.7-he1b5a44_1001            conda-forge           \n",
            "    bzip2:                1.0.8-h516909a_2               conda-forge           \n",
            "    c-ares:               1.15.0-h516909a_1001           conda-forge           \n",
            "    cachetools:           3.1.1-py_0                     conda-forge           \n",
            "    cairo:                1.16.0-hcf35c78_1003           conda-forge           \n",
            "    cfitsio:              3.470-hb60a0a2_2               conda-forge           \n",
            "    click:                7.1.1-pyh8c360ce_0             conda-forge           \n",
            "    cloudpickle:          1.3.0-py_0                     conda-forge           \n",
            "    cudatoolkit:          10.0.130-0                     nvidia                \n",
            "    cudf:                 0.12.0-py36_0                  rapidsai              \n",
            "    cudnn:                7.6.0-cuda10.0_0               nvidia                \n",
            "    cugraph:              0.12.0-py36_0                  rapidsai              \n",
            "    cuml:                 0.12.0-cuda10.0_py36_0         rapidsai              \n",
            "    cupy:                 7.2.0-py36he57b8b9_1           conda-forge           \n",
            "    curl:                 7.68.0-hf8cf82a_0              conda-forge           \n",
            "    cuspatial:            0.12.0-py36_0                  rapidsai              \n",
            "    cytoolz:              0.10.1-py36h516909a_0          conda-forge           \n",
            "    dask:                 2.12.0-py_0                    conda-forge           \n",
            "    dask-core:            2.12.0-py_0                    conda-forge           \n",
            "    dask-cudf:            0.12.0-py36_0                  rapidsai              \n",
            "    decorator:            4.4.2-py_0                     conda-forge           \n",
            "    distributed:          2.12.0-py36_0                  conda-forge           \n",
            "    dlpack:               0.2-he1b5a44_1                 conda-forge           \n",
            "    double-conversion:    3.1.5-he1b5a44_2               conda-forge           \n",
            "    expat:                2.2.9-he1b5a44_2               conda-forge           \n",
            "    fastavro:             0.22.13-py36h8c4c3a4_1         conda-forge           \n",
            "    fastrlock:            0.4-py36h831f99a_1001          conda-forge           \n",
            "    fontconfig:           2.13.1-h86ecdb6_1001           conda-forge           \n",
            "    freetype:             2.10.1-he06d7ca_0              conda-forge           \n",
            "    freexl:               1.0.5-h14c3975_1002            conda-forge           \n",
            "    fsspec:               0.6.3-py_0                     conda-forge           \n",
            "    gcsfs:                0.6.0-py_0                     conda-forge           \n",
            "    gdal:                 2.4.4-py36h5f563d9_0           conda-forge           \n",
            "    geos:                 3.8.0-he1b5a44_1               conda-forge           \n",
            "    geotiff:              1.5.1-h38872f0_8               conda-forge           \n",
            "    gettext:              0.19.8.1-hc5be6a0_1002         conda-forge           \n",
            "    gflags:               2.2.2-he1b5a44_1002            conda-forge           \n",
            "    giflib:               5.1.7-h516909a_1               conda-forge           \n",
            "    glib:                 2.58.3-py36hd3ed26a_1003       conda-forge           \n",
            "    glog:                 0.4.0-he1b5a44_1               conda-forge           \n",
            "    google-auth:          1.11.2-py_0                    conda-forge           \n",
            "    google-auth-oauthlib: 0.4.1-py_2                     conda-forge           \n",
            "    grpc-cpp:             1.23.0-h18db393_0              conda-forge           \n",
            "    hdf4:                 4.2.13-hf30be14_1003           conda-forge           \n",
            "    hdf5:                 1.10.5-nompi_h3c11f04_1104     conda-forge           \n",
            "    heapdict:             1.0.1-py_0                     conda-forge           \n",
            "    icu:                  64.2-he1b5a44_1                conda-forge           \n",
            "    jinja2:               2.11.1-py_0                    conda-forge           \n",
            "    joblib:               0.14.1-py_0                    conda-forge           \n",
            "    jpeg:                 9c-h14c3975_1001               conda-forge           \n",
            "    json-c:               0.13.1-h14c3975_1001           conda-forge           \n",
            "    kealib:               1.4.12-hec59c27_0              conda-forge           \n",
            "    krb5:                 1.16.4-h2fd8d38_0              conda-forge           \n",
            "    libblas:              3.8.0-14_openblas              conda-forge           \n",
            "    libcblas:             3.8.0-14_openblas              conda-forge           \n",
            "    libcudf:              0.12.0-cuda10.0_0              rapidsai              \n",
            "    libcugraph:           0.12.0-cuda10.0_0              rapidsai              \n",
            "    libcuml:              0.12.0-cuda10.0_0              rapidsai              \n",
            "    libcumlprims:         0.12-cuda10.0_9                nvidia                \n",
            "    libcurl:              7.68.0-hda55be3_0              conda-forge           \n",
            "    libcuspatial:         0.12.0-cuda10.0_0              rapidsai              \n",
            "    libdap4:              3.20.4-hd3bb157_0              conda-forge           \n",
            "    libevent:             2.1.10-h72c5cf5_0              conda-forge           \n",
            "    libgdal:              2.4.4-h2b6fda6_0               conda-forge           \n",
            "    libgfortran-ng:       7.3.0-hdf63c60_5               conda-forge           \n",
            "    libhwloc:             2.1.0-h3c4fd83_0               conda-forge           \n",
            "    libiconv:             1.15-h516909a_1006             conda-forge           \n",
            "    libkml:               1.3.0-h4fcabce_1010            conda-forge           \n",
            "    liblapack:            3.8.0-14_openblas              conda-forge           \n",
            "    libllvm8:             8.0.1-hc9558a2_0               conda-forge           \n",
            "    libnetcdf:            4.7.3-nompi_h9f9fd6a_101       conda-forge           \n",
            "    libnvstrings:         0.12.0-cuda10.0_0              rapidsai              \n",
            "    libopenblas:          0.3.7-h5ec1e0e_6               conda-forge           \n",
            "    libpng:               1.6.37-hed695b0_1              conda-forge           \n",
            "    libpq:                12.2-hae5116b_0                conda-forge           \n",
            "    libprotobuf:          3.8.0-h8b12597_0               conda-forge           \n",
            "    librmm:               0.12.0-cuda10.0_0              rapidsai              \n",
            "    libspatialite:        4.3.0a-ha48a99a_1034           conda-forge           \n",
            "    libssh2:              1.8.2-h22169c7_2               conda-forge           \n",
            "    libtiff:              4.1.0-hfc65ed5_0               conda-forge           \n",
            "    libuuid:              2.32.1-h14c3975_1000           conda-forge           \n",
            "    libxcb:               1.13-h14c3975_1002             conda-forge           \n",
            "    libxgboost:           0.90.rapidsdev1-cuda10.0_1     rapidsai/label/xgboost\n",
            "    libxml2:              2.9.10-hee79883_0              conda-forge           \n",
            "    llvmlite:             0.31.0-py36hfa65bc7_1          conda-forge           \n",
            "    locket:               0.2.0-py_2                     conda-forge           \n",
            "    lz4-c:                1.8.3-he1b5a44_1001            conda-forge           \n",
            "    markupsafe:           1.1.1-py36h8c4c3a4_1           conda-forge           \n",
            "    msgpack-python:       1.0.0-py36hdb11119_1           conda-forge           \n",
            "    nccl:                 2.4.6.1-cuda10.0_0             nvidia                \n",
            "    numba:                0.48.0-py36hb3f55d8_0          conda-forge           \n",
            "    numpy:                1.18.1-py36h95a1406_0          conda-forge           \n",
            "    nvstrings:            0.12.0-py36_0                  rapidsai              \n",
            "    oauthlib:             3.0.1-py_0                     conda-forge           \n",
            "    olefile:              0.46-py_0                      conda-forge           \n",
            "    openjpeg:             2.3.1-h981e76c_3               conda-forge           \n",
            "    packaging:            20.1-py_0                      conda-forge           \n",
            "    pandas:               0.25.3-py36hb3f55d8_0          conda-forge           \n",
            "    parquet-cpp:          1.5.1-2                        conda-forge           \n",
            "    partd:                1.1.0-py_0                     conda-forge           \n",
            "    pcre:                 8.44-he1b5a44_0                conda-forge           \n",
            "    pillow:               7.0.0-py36h8328e55_1           conda-forge           \n",
            "    pixman:               0.38.0-h516909a_1003           conda-forge           \n",
            "    poppler:              0.67.0-h14e79db_8              conda-forge           \n",
            "    poppler-data:         0.4.9-1                        conda-forge           \n",
            "    postgresql:           12.2-hf1211e9_0                conda-forge           \n",
            "    proj:                 6.3.0-hc80f0dc_0               conda-forge           \n",
            "    psutil:               5.7.0-py36h8c4c3a4_1           conda-forge           \n",
            "    pthread-stubs:        0.4-h14c3975_1001              conda-forge           \n",
            "    py-xgboost:           0.90.rapidsdev1-cuda10.0py36_1 rapidsai/label/xgboost\n",
            "    pyarrow:              0.15.0-py36h8b68381_1          conda-forge           \n",
            "    pyasn1:               0.4.8-py_0                     conda-forge           \n",
            "    pyasn1-modules:       0.2.7-py_0                     conda-forge           \n",
            "    pyjwt:                1.7.1-py_0                     conda-forge           \n",
            "    pynvml:               8.0.4-py_0                     conda-forge           \n",
            "    pyparsing:            2.4.6-py_0                     conda-forge           \n",
            "    python-dateutil:      2.8.1-py_0                     conda-forge           \n",
            "    pytz:                 2019.3-py_0                    conda-forge           \n",
            "    pyyaml:               5.1.2-py36h516909a_0           conda-forge           \n",
            "    re2:                  2020.03.03-he1b5a44_0          conda-forge           \n",
            "    requests-oauthlib:    1.2.0-py_0                     conda-forge           \n",
            "    rmm:                  0.12.0-py36_0                  rapidsai              \n",
            "    rsa:                  4.0-py_0                       conda-forge           \n",
            "    scikit-learn:         0.22.2.post1-py36hcdab131_0    conda-forge           \n",
            "    scipy:                1.4.1-py36h921218d_0           conda-forge           \n",
            "    snappy:               1.1.8-he1b5a44_1               conda-forge           \n",
            "    sortedcontainers:     2.1.0-py_0                     conda-forge           \n",
            "    tblib:                1.6.0-py_0                     conda-forge           \n",
            "    thrift-cpp:           0.12.0-hf3afdfd_1004           conda-forge           \n",
            "    toolz:                0.10.0-py_0                    conda-forge           \n",
            "    tornado:              6.0.4-py36h8c4c3a4_1           conda-forge           \n",
            "    typing_extensions:    3.7.4.1-py36h9f0ad1d_1         conda-forge           \n",
            "    tzcode:               2019a-h516909a_1002            conda-forge           \n",
            "    ucx:                  1.7.0+g9d06c3a-cuda10.0_0      rapidsai              \n",
            "    ucx-py:               0.12.0+g9d06c3a-py36_0         rapidsai              \n",
            "    uriparser:            0.9.3-he1b5a44_1               conda-forge           \n",
            "    xerces-c:             3.2.2-h8412b87_1004            conda-forge           \n",
            "    xgboost:              0.90.rapidsdev1-cuda10.0py36_1 rapidsai/label/xgboost\n",
            "    xorg-kbproto:         1.0.7-h14c3975_1002            conda-forge           \n",
            "    xorg-libice:          1.0.10-h516909a_0              conda-forge           \n",
            "    xorg-libsm:           1.2.3-h84519dc_1000            conda-forge           \n",
            "    xorg-libx11:          1.6.9-h516909a_0               conda-forge           \n",
            "    xorg-libxau:          1.0.9-h14c3975_0               conda-forge           \n",
            "    xorg-libxdmcp:        1.1.3-h516909a_0               conda-forge           \n",
            "    xorg-libxext:         1.3.4-h516909a_0               conda-forge           \n",
            "    xorg-libxrender:      0.9.10-h516909a_1002           conda-forge           \n",
            "    xorg-renderproto:     0.11.1-h14c3975_1002           conda-forge           \n",
            "    xorg-xextproto:       7.3.0-h14c3975_1002            conda-forge           \n",
            "    xorg-xproto:          7.0.31-h14c3975_1007           conda-forge           \n",
            "    zict:                 2.0.0-py_0                     conda-forge           \n",
            "    zstd:                 1.4.3-h3b9ef0a_0               conda-forge           \n",
            "\n",
            "The following packages will be UPDATED:\n",
            "\n",
            "    cryptography:         2.2.2-py36h14c3975_0                                  --> 2.8-py36h45558ae_2    conda-forge\n",
            "    pyopenssl:            18.0.0-py36_0                                         --> 19.1.0-py_1           conda-forge\n",
            "    requests:             2.18.4-py36he2e5f8d_1                                 --> 2.23.0-pyh8c360ce_2   conda-forge\n",
            "    urllib3:              1.22-py36hbe7ace6_0                                   --> 1.25.7-py36h9f0ad1d_1 conda-forge\n",
            "\n",
            "\n",
            "Downloading and Extracting Packages\n",
            "llvmlite-0.31.0      |  325 KB | : 100% 1.0/1 [00:00<00:00,  8.06it/s]               \n",
            "cuml-0.12.0          |  9.1 MB | : 100% 1.0/1 [00:02<00:00,  2.73s/it]              \n",
            "freetype-2.10.1      |  877 KB | : 100% 1.0/1 [00:00<00:00,  5.00it/s]               \n",
            "python-dateutil-2.8. |  220 KB | : 100% 1.0/1 [00:00<00:00, 14.24it/s]\n",
            "packaging-20.1       |   31 KB | : 100% 1.0/1 [00:00<00:00, 21.44it/s]\n",
            "libpq-12.2           |  2.6 MB | : 100% 1.0/1 [00:00<00:00,  1.53it/s]               \n",
            "libopenblas-0.3.7    |  7.6 MB | : 100% 1.0/1 [00:01<00:00,  1.40s/it]               \n",
            "cairo-1.16.0         |  1.5 MB | : 100% 1.0/1 [00:00<00:00,  3.12it/s]               \n",
            "scikit-learn-0.22.2. |  7.1 MB | : 100% 1.0/1 [00:01<00:00,  1.75s/it]               \n",
            "libcuspatial-0.12.0  |  1.6 MB | : 100% 1.0/1 [00:01<00:00,  1.47s/it]               \n",
            "partd-1.1.0          |   17 KB | : 100% 1.0/1 [00:00<00:00, 21.99it/s]\n",
            "jinja2-2.11.1        |   94 KB | : 100% 1.0/1 [00:00<00:00, 16.11it/s]\n",
            "dask-cudf-0.12.0     |   70 KB | : 100% 1.0/1 [00:00<00:00,  1.54it/s]               \n",
            "pyopenssl-19.1.0     |   47 KB | : 100% 1.0/1 [00:00<00:00, 19.38it/s]\n",
            "libkml-1.3.0         |  643 KB | : 100% 1.0/1 [00:00<00:00,  4.95it/s]             \n",
            "libcuml-0.12.0       | 51.8 MB | : 100% 1.0/1 [00:11<00:00, 11.35s/it]               \n",
            "hdf4-4.2.13          |  964 KB | : 100% 1.0/1 [00:00<00:00,  4.48it/s]               \n",
            "ucx-py-0.12.0+g9d06c |  270 KB | : 100% 1.0/1 [00:01<00:00,  1.08s/it]               \n",
            "postgresql-12.2      |  5.0 MB | : 100% 1.0/1 [00:00<00:00,  1.13it/s]               \n",
            "rmm-0.12.0           |  353 KB | : 100% 1.0/1 [00:00<00:00,  1.97it/s]               \n",
            "libgdal-2.4.4        | 18.7 MB | : 100% 1.0/1 [00:03<00:00,  3.54s/it]               \n",
            "pyasn1-modules-0.2.7 |   60 KB | : 100% 1.0/1 [00:00<00:00, 11.29it/s]\n",
            "fastrlock-0.4        |   32 KB | : 100% 1.0/1 [00:00<00:00, 15.65it/s]\n",
            "kealib-1.4.12        |  172 KB | : 100% 1.0/1 [00:00<00:00, 15.65it/s]\n",
            "xorg-libxdmcp-1.1.3  |   18 KB | : 100% 1.0/1 [00:00<00:00, 28.93it/s]\n",
            "re2-2020.03.03       |  435 KB | : 100% 1.0/1 [00:00<00:00,  9.69it/s]\n",
            "requests-2.23.0      |   47 KB | : 100% 1.0/1 [00:00<00:00, 13.20it/s]\n",
            "cfitsio-3.470        |  1.4 MB | : 100% 1.0/1 [00:00<00:00,  3.81it/s]               \n",
            "glog-0.4.0           |  104 KB | : 100% 1.0/1 [00:00<00:00, 19.61it/s]\n",
            "giflib-5.1.7         |  455 KB | : 100% 1.0/1 [00:00<00:00,  8.00it/s]              \n",
            "proj-6.3.0           | 10.3 MB | : 100% 1.0/1 [00:01<00:00,  1.66s/it]               \n",
            "libspatialite-4.3.0a |  3.1 MB | : 100% 1.0/1 [00:00<00:00,  1.77it/s]               \n",
            "distributed-2.12.0   |  993 KB | : 100% 1.0/1 [00:00<00:00,  1.97it/s]               \n",
            "blinker-1.4          |   13 KB | : 100% 1.0/1 [00:00<00:00, 27.00it/s]\n",
            "gcsfs-0.6.0          |   19 KB | : 100% 1.0/1 [00:00<00:00, 18.54it/s]\n",
            "parquet-cpp-1.5.1    |    3 KB | : 100% 1.0/1 [00:00<00:00, 27.37it/s]\n",
            "libevent-2.1.10      |  1.3 MB | : 100% 1.0/1 [00:00<00:00,  2.76it/s]               \n",
            "libnetcdf-4.7.3      |  1.3 MB | : 100% 1.0/1 [00:00<00:00,  4.16it/s]               \n",
            "decorator-4.4.2      |   11 KB | : 100% 1.0/1 [00:00<00:00, 30.48it/s]\n",
            "bokeh-2.0.0          |  6.9 MB | : 100% 1.0/1 [00:01<00:00,  1.83s/it]               \n",
            "dlpack-0.2           |   13 KB | : 100% 1.0/1 [00:00<00:00, 28.47it/s]\n",
            "xorg-libsm-1.2.3     |   25 KB | : 100% 1.0/1 [00:00<00:00, 11.84it/s]\n",
            "cytoolz-0.10.1       |  431 KB | : 100% 1.0/1 [00:00<00:00,  7.96it/s]\n",
            "xgboost-0.90.rapidsd |   12 KB | : 100% 1.0/1 [00:00<00:00,  2.06it/s] \n",
            "zstd-1.4.3           |  935 KB | : 100% 1.0/1 [00:00<00:00,  5.44it/s]               \n",
            "thrift-cpp-0.12.0    |  2.4 MB | : 100% 1.0/1 [00:00<00:00,  1.85it/s]              \n",
            "xorg-libice-1.0.10   |   57 KB | : 100% 1.0/1 [00:00<00:00, 24.85it/s]\n",
            "cloudpickle-1.3.0    |   24 KB | : 100% 1.0/1 [00:00<00:00, 25.53it/s]\n",
            "joblib-0.14.1        |  198 KB | : 100% 1.0/1 [00:00<00:00,  9.09it/s]\n",
            "libllvm8-8.0.1       | 23.2 MB | : 100% 1.0/1 [00:03<00:00,  3.79s/it]               \n",
            "libuuid-2.32.1       |   26 KB | : 100% 1.0/1 [00:00<00:00, 25.39it/s]\n",
            "liblapack-3.8.0      |   10 KB | : 100% 1.0/1 [00:00<00:00, 23.11it/s]\n",
            "py-xgboost-0.90.rapi |   87 KB | : 100% 1.0/1 [00:00<00:00,  2.31it/s] \n",
            "xorg-xextproto-7.3.0 |   27 KB | : 100% 1.0/1 [00:00<00:00, 17.50it/s]\n",
            "glib-2.58.3          |  3.3 MB | : 100% 1.0/1 [00:00<00:00,  1.33it/s]              \n",
            "urllib3-1.25.7       |  160 KB | : 100% 1.0/1 [00:00<00:00, 12.01it/s]\n",
            "tzcode-2019a         |  429 KB | : 100% 1.0/1 [00:00<00:00,  2.57it/s]               \n",
            "lz4-c-1.8.3          |  187 KB | : 100% 1.0/1 [00:00<00:00, 14.27it/s]\n",
            "tblib-1.6.0          |   14 KB | : 100% 1.0/1 [00:00<00:00, 27.97it/s]\n",
            "pyyaml-5.1.2         |  184 KB | : 100% 1.0/1 [00:00<00:00,  8.25it/s]\n",
            "libtiff-4.1.0        |  595 KB | : 100% 1.0/1 [00:00<00:00,  7.18it/s]               \n",
            "uriparser-0.9.3      |   49 KB | : 100% 1.0/1 [00:00<00:00, 22.21it/s]\n",
            "pthread-stubs-0.4    |    5 KB | : 100% 1.0/1 [00:00<00:00, 30.23it/s]\n",
            "libssh2-1.8.2        |  257 KB | : 100% 1.0/1 [00:00<00:00,  8.57it/s]               \n",
            "fastavro-0.22.13     |  416 KB | : 100% 1.0/1 [00:00<00:00,  8.92it/s]\n",
            "libdap4-3.20.4       | 18.5 MB | : 100% 1.0/1 [00:02<00:00,  2.61s/it]               \n",
            "pandas-0.25.3        | 11.4 MB | : 100% 1.0/1 [00:02<00:00,  2.56s/it]               \n",
            "poppler-0.67.0       |  8.9 MB | : 100% 1.0/1 [00:01<00:00,  1.45s/it]               \n",
            "tornado-6.0.4        |  639 KB | : 100% 1.0/1 [00:00<00:00,  4.25it/s]               \n",
            "xorg-kbproto-1.0.7   |   26 KB | : 100% 1.0/1 [00:00<00:00, 24.97it/s]\n",
            "gettext-0.19.8.1     |  3.6 MB | : 100% 1.0/1 [00:01<00:00,  1.14s/it]               \n",
            "cupy-7.2.0           | 15.2 MB | : 100% 1.0/1 [00:02<00:00,  2.78s/it]               \n",
            "libcudf-0.12.0       | 119.2 MB | : 100% 1.0/1 [00:28<00:00, 28.99s/it]                \n",
            "ucx-1.7.0+g9d06c3a   |  8.2 MB | : 100% 1.0/1 [00:02<00:00,  2.19s/it]               \n",
            "bzip2-1.0.8          |  396 KB | : 100% 1.0/1 [00:00<00:00,  9.94it/s]\n",
            "locket-0.2.0         |    6 KB | : 100% 1.0/1 [00:00<00:00, 27.17it/s]\n",
            "snappy-1.1.8         |   39 KB | : 100% 1.0/1 [00:00<00:00, 23.19it/s]\n",
            "c-ares-1.15.0        |  100 KB | : 100% 1.0/1 [00:00<00:00, 16.98it/s]\n",
            "pytz-2019.3          |  237 KB | : 100% 1.0/1 [00:00<00:00,  4.72it/s]               \n",
            "boost-cpp-1.70.0     | 21.1 MB | : 100% 1.0/1 [00:08<00:00,  8.95s/it]               \n",
            "pyjwt-1.7.1          |   17 KB | : 100% 1.0/1 [00:00<00:00, 21.93it/s]\n",
            "jpeg-9c              |  251 KB | : 100% 1.0/1 [00:00<00:00, 11.74it/s]\n",
            "librmm-0.12.0        |   53 KB | : 100% 1.0/1 [00:00<00:00,  1.90it/s]                \n",
            "google-auth-1.11.2   |   47 KB | : 100% 1.0/1 [00:00<00:00, 17.44it/s]\n",
            "libblas-3.8.0        |   10 KB | : 100% 1.0/1 [00:00<00:00, 22.18it/s]\n",
            "curl-7.68.0          |  137 KB | : 100% 1.0/1 [00:00<00:00, 20.44it/s]\n",
            "dask-core-2.12.0     |  594 KB | : 100% 1.0/1 [00:00<00:00,  3.79it/s]               \n",
            "libxcb-1.13          |  396 KB | : 100% 1.0/1 [00:00<00:00,  5.87it/s]               \n",
            "xorg-libxrender-0.9. |   31 KB | : 100% 1.0/1 [00:00<00:00, 19.94it/s]\n",
            "pixman-0.38.0        |  594 KB | : 100% 1.0/1 [00:00<00:00,  6.11it/s]               \n",
            "rsa-4.0              |   27 KB | : 100% 1.0/1 [00:00<00:00, 20.89it/s]\n",
            "json-c-0.13.1        |   71 KB | : 100% 1.0/1 [00:00<00:00, 16.70it/s]\n",
            "xorg-libx11-1.6.9    |  918 KB | : 100% 1.0/1 [00:00<00:00,  3.81it/s]               \n",
            "double-conversion-3. |   85 KB | : 100% 1.0/1 [00:00<00:00, 16.44it/s]\n",
            "brotli-1.0.7         |  1.0 MB | : 100% 1.0/1 [00:00<00:00,  5.84it/s]               \n",
            "xorg-libxau-1.0.9    |   13 KB | : 100% 1.0/1 [00:00<00:00, 25.83it/s]\n",
            "xorg-renderproto-0.1 |    8 KB | : 100% 1.0/1 [00:00<00:00, 30.10it/s]\n",
            "libgfortran-ng-7.3.0 |  1.7 MB | : 100% 1.0/1 [00:00<00:00,  3.34it/s]               \n",
            "fontconfig-2.13.1    |  340 KB | : 100% 1.0/1 [00:00<00:00,  7.94it/s]               \n",
            "xorg-libxext-1.3.4   |   51 KB | : 100% 1.0/1 [00:00<00:00, 22.44it/s]\n",
            "cuspatial-0.12.0     |  574 KB | : 100% 1.0/1 [00:00<00:00,  1.76it/s]               \n",
            "nccl-2.4.6.1         | 66.5 MB | : 100% 1.0/1 [00:10<00:00, 10.39s/it]               \n",
            "arrow-cpp-0.15.0     | 18.1 MB | : 100% 1.0/1 [00:03<00:00,  3.04s/it]               \n",
            "heapdict-1.0.1       |    7 KB | : 100% 1.0/1 [00:00<00:00, 24.42it/s]\n",
            "markupsafe-1.1.1     |   26 KB | : 100% 1.0/1 [00:00<00:00,  2.17it/s]                \n",
            "psutil-5.7.0         |  324 KB | : 100% 1.0/1 [00:00<00:00,  1.98it/s]              \n",
            "libcurl-7.68.0       |  564 KB | : 100% 1.0/1 [00:00<00:00,  7.07it/s]               \n",
            "xerces-c-3.2.2       |  1.7 MB | : 100% 1.0/1 [00:00<00:00,  1.94it/s]               \n",
            "typing_extensions-3. |   38 KB | : 100% 1.0/1 [00:00<00:00, 24.88it/s]\n",
            "libiconv-1.15        |  2.0 MB | : 100% 1.0/1 [00:00<00:00,  3.80it/s]               \n",
            "libxgboost-0.90.rapi | 32.8 MB | : 100% 1.0/1 [00:09<00:00,  9.17s/it]               \n",
            "numpy-1.18.1         |  5.2 MB | : 100% 1.0/1 [00:01<00:00,  1.18s/it]               \n",
            "pynvml-8.0.4         |   31 KB | : 100% 1.0/1 [00:00<00:00, 20.05it/s]\n",
            "freexl-1.0.5         |   43 KB | : 100% 1.0/1 [00:00<00:00, 22.92it/s]\n",
            "cachetools-3.1.1     |   11 KB | : 100% 1.0/1 [00:00<00:00, 22.88it/s]\n",
            "cugraph-0.12.0       |  4.0 MB | : 100% 1.0/1 [00:02<00:00,  2.12s/it]               \n",
            "msgpack-python-1.0.0 |   91 KB | : 100% 1.0/1 [00:00<00:00, 19.64it/s]\n",
            "libcumlprims-0.12    |  6.5 MB | : 100% 1.0/1 [00:01<00:00,  1.89s/it]               \n",
            "olefile-0.46         |   31 KB | : 100% 1.0/1 [00:00<00:00, 26.15it/s]\n",
            "libhwloc-2.1.0       |  2.7 MB | : 100% 1.0/1 [00:00<00:00,  2.09it/s]               \n",
            "click-7.1.1          |   64 KB | : 100% 1.0/1 [00:00<00:00, 18.74it/s]\n",
            "numba-0.48.0         |  3.4 MB | : 100% 1.0/1 [00:01<00:00,  1.04s/it]               \n",
            "oauthlib-3.0.1       |   82 KB | : 100% 1.0/1 [00:00<00:00, 12.39it/s]\n",
            "sortedcontainers-2.1 |   25 KB | : 100% 1.0/1 [00:00<00:00, 16.96it/s]\n",
            "libxml2-2.9.10       |  1.3 MB | : 100% 1.0/1 [00:00<00:00,  2.61it/s]               \n",
            "expat-2.2.9          |  191 KB | : 100% 1.0/1 [00:00<00:00, 10.31it/s]\n",
            "hdf5-1.10.5          |  3.1 MB | : 100% 1.0/1 [00:00<00:00,  1.97it/s]               \n",
            "pcre-8.44            |  261 KB | : 100% 1.0/1 [00:00<00:00, 11.59it/s]\n",
            "krb5-1.16.4          |  1.4 MB | : 100% 1.0/1 [00:00<00:00,  3.02it/s]               \n",
            "pyasn1-0.4.8         |   53 KB | : 100% 1.0/1 [00:00<00:00, 19.32it/s]\n",
            "icu-64.2             | 12.6 MB | : 100% 1.0/1 [00:02<00:00,  2.48s/it]             \n",
            "nvstrings-0.12.0     |  129 KB | : 100% 1.0/1 [00:00<00:00,  1.46it/s]               \n",
            "cudf-0.12.0          |  9.9 MB | : 100% 1.0/1 [00:02<00:00,  2.27s/it]               \n",
            "geotiff-1.5.1        |  279 KB | : 100% 1.0/1 [00:00<00:00, 11.70it/s]\n",
            "dask-2.12.0          |    4 KB | : 100% 1.0/1 [00:00<00:00, 31.50it/s]\n",
            "poppler-data-0.4.9   |  3.4 MB | : 100% 1.0/1 [00:00<00:00,  1.67it/s]               \n",
            "grpc-cpp-1.23.0      |  4.5 MB | : 100% 1.0/1 [00:01<00:00,  1.06s/it]               \n",
            "gdal-2.4.4           |  1.4 MB | : 100% 1.0/1 [00:00<00:00,  3.40it/s]               \n",
            "pyarrow-0.15.0       |  3.2 MB | : 100% 1.0/1 [00:00<00:00,  1.02it/s]               \n",
            "xorg-xproto-7.0.31   |   72 KB | : 100% 1.0/1 [00:00<00:00, 16.02it/s]\n",
            "zict-2.0.0           |   10 KB | : 100% 1.0/1 [00:00<00:00, 23.07it/s]\n",
            "libpng-1.6.37        |  308 KB | : 100% 1.0/1 [00:00<00:00, 11.65it/s]\n",
            "pyparsing-2.4.6      |   59 KB | : 100% 1.0/1 [00:00<00:00, 19.51it/s]\n",
            "libcugraph-0.12.0    | 18.9 MB | : 100% 1.0/1 [00:03<00:00,  3.74s/it]               \n",
            "libcblas-3.8.0       |   10 KB | : 100% 1.0/1 [00:00<00:00, 25.64it/s]\n",
            "gflags-2.2.2         |  175 KB | : 100% 1.0/1 [00:00<00:00, 11.51it/s]\n",
            "scipy-1.4.1          | 18.9 MB | : 100% 1.0/1 [00:03<00:00,  3.38s/it]               \n",
            "toolz-0.10.0         |   46 KB | : 100% 1.0/1 [00:00<00:00, 20.68it/s]\n",
            "cryptography-2.8     |  628 KB | : 100% 1.0/1 [00:00<00:00,  4.34it/s]               \n",
            "google-auth-oauthlib |   18 KB | : 100% 1.0/1 [00:00<00:00, 23.49it/s]\n",
            "cudatoolkit-10.0.130 | 380.0 MB | : 100% 1.0/1 [00:54<00:00, 54.75s/it]                \n",
            "libprotobuf-3.8.0    |  4.7 MB | : 100% 1.0/1 [00:00<00:00,  1.03it/s]               \n",
            "geos-3.8.0           |  1.0 MB | : 100% 1.0/1 [00:00<00:00,  2.95it/s]               \n",
            "pillow-7.0.0         |  652 KB | : 100% 1.0/1 [00:00<00:00,  5.38it/s]               \n",
            "fsspec-0.6.3         |   48 KB | : 100% 1.0/1 [00:00<00:00, 14.38it/s]\n",
            "openjpeg-2.3.1       |  475 KB | : 100% 1.0/1 [00:00<00:00,  7.91it/s]              \n",
            "libnvstrings-0.12.0  | 30.1 MB | : 100% 1.0/1 [00:08<00:00,  8.43s/it]               \n",
            "requests-oauthlib-1. |   19 KB | : 100% 1.0/1 [00:00<00:00, 14.76it/s]\n",
            "cudnn-7.6.0          | 216.6 MB | : 100% 1.0/1 [00:32<00:00, 32.51s/it]                \n",
            "Preparing transaction: \\ \b\b| \b\b/ \b\b- \b\b\\ \b\b| \b\b/ \b\b- \b\b\\ \b\b| \b\b/ \b\b- \b\b\\ \b\b| \b\b/ \b\b- \b\b\\ \b\b| \b\b/ \b\b- \b\b\\ \b\bdone\n",
            "Verifying transaction: / \b\b- \b\b\\ \b\b| \b\b/ \b\b- \b\b\\ \b\b| \b\b/ \b\b- \b\b\\ \b\b| \b\b/ \b\b- \b\b\\ \b\b| \b\b/ \b\b- \b\b\\ \b\b| \b\b/ \b\b- \b\b\\ \b\b| \b\b/ \b\b- \b\b\\ \b\b| \b\b/ \b\b- \b\b\\ \b\b| \b\b/ \b\b- \b\b\\ \b\b| \b\b/ \b\b- \b\b\\ \b\b| \b\b/ \b\b- \b\b\\ \b\b| \b\b/ \b\b- \b\b\\ \b\b| \b\b/ \b\b- \b\b\\ \b\b| \b\b/ \b\b- \b\b\\ \b\b| \b\b/ \b\b- \b\b\\ \b\b| \b\b/ \b\b- \b\b\\ \b\b| \b\b/ \b\b- \b\b\\ \b\b| \b\b/ \b\b- \b\b\\ \b\b| \b\b/ \b\b- \b\b\\ \b\b| \b\b/ \b\b- \b\b\\ \b\b| \b\b/ \b\b- \b\b\\ \b\b| \b\b/ \b\b- \b\b\\ \b\b| \b\b/ \b\b- \b\b\\ \b\b| \b\b/ \b\b- \b\b\\ \b\b| \b\b/ \b\b- \b\b\\ \b\b| \b\b/ \b\b- \b\b\\ \b\b| \b\b/ \b\b- \b\b\\ \b\b| \b\b/ \b\b- \b\b\\ \b\b| \b\b/ \b\b- \b\b\\ \b\b| \b\b/ \b\b- \b\b\\ \b\b| \b\b/ \b\b- \b\b\\ \b\b| \b\b/ \b\b- \b\b\\ \b\b| \b\b/ \b\b- \b\b\\ \b\b| \b\b/ \b\b- \b\b\\ \b\b| \b\b/ \b\b- \b\b\\ \b\b| \b\b/ \b\b- \b\b\\ \b\b| \b\b/ \b\b- \b\b\\ \b\b| \b\b/ \b\b- \b\b\\ \b\b| \b\b/ \b\b- \b\b\\ \b\b| \b\b/ \b\b- \b\b\\ \b\b| \b\b/ \b\b- \b\b\\ \b\b| \b\b/ \b\b- \b\b\\ \b\b| \b\b/ \b\b- \b\b\\ \b\b| \b\b/ \b\b- \b\b\\ \b\b| \b\b/ \b\b- \b\b\\ \b\b| \b\b/ \b\b- \b\b\\ \b\b| \b\b/ \b\b- \b\b\\ \b\b| \b\b/ \b\b- \b\b\\ \b\b| \b\b/ \b\b- \b\b\\ \b\b| \b\b/ \b\b- \b\b\\ \b\b| \b\b/ \b\b- \b\b\\ \b\b| \b\b/ \b\b- \b\b\\ \b\b| \b\b/ \b\b- \b\b\\ \b\b| \b\b/ \b\b- \b\b\\ \b\b| \b\b/ \b\b- \b\b\\ \b\b| \b\b/ \b\b- \b\b\\ \b\b| \b\b/ \b\b- \b\b\\ \b\b| \b\b/ \b\b- \b\b\\ \b\b| \b\b/ \b\b- \b\b\\ \b\b| \b\b/ \b\b- \b\b\\ \b\b| \b\b/ \b\b- \b\b\\ \b\b| \b\b/ \b\b- \b\b\\ \b\b| \b\b/ \b\b- \b\b\\ \b\b| \b\b/ \b\b- \b\b\\ \b\b| \b\b/ \b\b- \b\b\\ \b\b| \b\b/ \b\b- \b\b\\ \b\b| \b\b/ \b\b- \b\b\\ \b\b| \b\b/ \b\b- \b\b\\ \b\b| \b\b/ \b\b- \b\b\\ \b\b| \b\b/ \b\b- \b\b\\ \b\b| \b\b/ \b\b- \b\b\\ \b\b| \b\b/ \b\b- \b\b\\ \b\b| \b\b/ \b\b- \b\b\\ \b\b| \b\b/ \b\b- \b\b\\ \b\b| \b\b/ \b\b- \b\b\\ \b\b| \b\b/ \b\b- \b\b\\ \b\b| \b\b/ \b\b- \b\b\\ \b\b| \b\b/ \b\b- \b\b\\ \b\b| \b\b/ \b\b- \b\b\\ \b\b| \b\b/ \b\b- \b\b\\ \b\b| \b\b/ \b\b- \b\b\\ \b\b| \b\b/ \b\b- \b\b\\ \b\b| \b\b/ \b\b- \b\b\\ \b\b| \b\b/ \b\b- \b\b\\ \b\b| \b\b/ \b\b- \b\b\\ \b\b| \b\b/ \b\b- \b\b\\ \b\b| \b\b/ \b\b- \b\b\\ \b\b| \b\b/ \b\b- \b\b\\ \b\b| \b\b/ \b\b- \b\b\\ \b\b| \b\b/ \b\b- \b\b\\ \b\b| \b\b/ \b\b- \b\b\\ \b\b| \b\b/ \b\b- \b\b\\ \b\b| \b\b/ \b\b- \b\b\\ \b\b| \b\b/ \b\b- \b\b\\ \b\b| \b\b/ \b\b- \b\b\\ \b\b| \b\b/ \b\b- \b\b\\ \b\b| \b\b/ \b\b- \b\b\\ \b\b| \b\b/ \b\b- \b\b\\ \b\b| \b\b/ \b\b- \b\b\\ \b\b| \b\b/ \b\b- \b\b\\ \b\b| \b\b/ \b\b- \b\b\\ \b\b| \b\b/ \b\b- \b\b\\ \b\b| \b\b/ \b\b- \b\b\\ \b\b| \b\b/ \b\b- \b\b\\ \b\b| \b\b/ \b\b- \b\b\\ \b\b| \b\b/ \b\b- \b\b\\ \b\b| \b\b/ \b\b- \b\b\\ \b\b| \b\b/ \b\b- \b\b\\ \b\b| \b\b/ \b\b- \b\b\\ \b\b| \b\b/ \b\b- \b\b\\ \b\b| \b\b/ \b\b- \b\b\\ \b\b| \b\b/ \b\b- \b\b\\ \b\b| \b\b/ \b\b- \b\b\\ \b\b| \b\b/ \b\b- \b\b\\ \b\b| \b\b/ \b\b- \b\b\\ \b\b| \b\b/ \b\b- \b\b\\ \b\b| \b\b/ \b\b- \b\b\\ \b\b| \b\b/ \b\b- \b\b\\ \b\b| \b\b/ \b\b- \b\b\\ \b\b| \b\b/ \b\b- \b\b\\ \b\b| \b\b/ \b\b- \b\b\\ \b\b| \b\b/ \b\b- \b\b\\ \b\b| \b\b/ \b\b- \b\b\\ \b\b| \b\b/ \b\b- \b\b\\ \b\b| \b\b/ \b\b- \b\b\\ \b\b| \b\b/ \b\b- \b\b\\ \b\b| \b\b/ \b\b- \b\b\\ \b\b| \b\b/ \b\b- \b\b\\ \b\b| \b\b/ \b\b- \b\b\\ \b\b| \b\b/ \b\b- \b\b\\ \b\b| \b\b/ \b\b- \b\b\\ \b\b| \b\b/ \b\b- \b\b\\ \b\b| \b\b/ \b\b- \b\b\\ \b\b| \b\b/ \b\b- \b\b\\ \b\b| \b\b/ \b\b- \b\b\\ \b\b| \b\b/ \b\b- \b\b\\ \b\b| \b\b/ \b\b- \b\b\\ \b\b| \b\b/ \b\b- \b\b\\ \b\b| \b\b/ \b\b- \b\b\\ \b\b| \b\b/ \b\b- \b\b\\ \b\b| \b\b/ \b\b- \b\b\\ \b\b| \b\b/ \b\b- \b\b\\ \b\b| \b\b/ \b\b- \b\b\\ \b\b| \b\b/ \b\b- \b\b\\ \b\b| \b\b/ \b\b- \b\b\\ \b\b| \b\b/ \b\b- \b\b\\ \b\b| \b\b/ \b\b- \b\b\\ \b\b| \b\b/ \b\b- \b\b\\ \b\b| \b\b/ \b\b- \b\b\\ \b\b| \b\b/ \b\b- \b\b\\ \b\b| \b\b/ \b\b- \b\b\\ \b\b| \b\b/ \b\b- \b\b\\ \b\b| \b\b/ \b\b- \b\b\\ \b\b| \b\b/ \b\b- \b\b\\ \b\b| \b\b/ \b\b- \b\b\\ \b\b| \b\b/ \b\b- \b\b\\ \b\b| \b\b/ \b\b- \b\b\\ \b\b| \b\b/ \b\b- \b\b\\ \b\b| \b\b/ \b\b- \b\b\\ \b\b| \b\b/ \b\b- \b\b\\ \b\b| \b\b/ \b\b- \b\b\\ \b\b| \b\b/ \b\b- \b\b\\ \b\b| \b\b/ \b\b- \b\b\\ \b\b| \b\b/ \b\b- \b\b\\ \b\b| \b\b/ \b\b- \b\b\\ \b\b| \b\b/ \b\b- \b\b\\ \b\b| \b\b/ \b\b- \b\b\\ \b\b| \b\b/ \b\b- \b\b\\ \b\b| \b\b/ \b\b- \b\b\\ \b\b| \b\b/ \b\b- \b\b\\ \b\b| \b\b/ \b\b- \b\b\\ \b\b| \b\b/ \b\bdone\n",
            "Executing transaction: \\ \b\b| \b\b/ \b\b- \b\b\\ \b\b| \b\b/ \b\b- \b\b\\ \b\b| \b\b/ \b\b- \b\b\\ \b\b| \b\b/ \b\b- \b\b\\ \b\b| \b\b/ \b\b- \b\b\\ \b\b| \b\b/ \b\b- \b\b\\ \b\b| \b\b/ \b\b- \b\b\\ \b\b| \b\b/ \b\b- \b\b\\ \b\b| \b\b/ \b\b- \b\b\\ \b\b| \b\b/ \b\b- \b\b\\ \b\b| \b\b/ \b\b- \b\b\\ \b\b| \b\b/ \b\b- \b\b\\ \b\b| \b\b/ \b\b- \b\b\\ \b\b| \b\b/ \b\b- \b\b\\ \b\b| \b\b/ \b\b- \b\b\\ \b\b| \b\b/ \b\b- \b\b\\ \b\b| \b\b/ \b\b- \b\b\\ \b\b| \b\b/ \b\b- \b\b\\ \b\b| \b\b/ \b\b- \b\b\\ \b\b| \b\b/ \b\b- \b\b\\ \b\b| \b\b/ \b\b- \b\b\\ \b\b| \b\b/ \b\b- \b\b\\ \b\b| \b\b/ \b\b- \b\b\\ \b\b| \b\b/ \b\b- \b\b\\ \b\b| \b\b/ \b\b- \b\b\\ \b\b| \b\b/ \b\b- \b\b\\ \b\b| \b\b/ \b\b- \b\b\\ \b\b| \b\b/ \b\b- \b\b\\ \b\b| \b\b/ \b\b- \b\b\\ \b\b| \b\b/ \b\b- \b\b\\ \b\b| \b\b/ \b\b- \b\b\\ \b\b| \b\b/ \b\b- \b\b\\ \b\b| \b\b/ \b\b- \b\b\\ \b\b| \b\b/ \b\b- \b\b\\ \b\b| \b\b/ \b\b- \b\b\\ \b\b| \b\b/ \b\b- \b\b\\ \b\b| \b\b/ \b\b- \b\b\\ \b\b| \b\b/ \b\b- \b\b\\ \b\b| \b\b/ \b\b- \b\b\\ \b\b| \b\b/ \b\b- \b\b\\ \b\b| \b\b/ \b\b- \b\b\\ \b\b| \b\b/ \b\b- \b\b\\ \b\b| \b\b/ \b\b- \b\b\\ \b\b| \b\b/ \b\b- \b\b\\ \b\b| \b\b/ \b\b- \b\b\\ \b\b| \b\b/ \b\b- \b\b\\ \b\b| \b\b/ \b\b- \b\b\\ \b\b| \b\b/ \b\b- \b\b\\ \b\b| \b\b/ \b\b- \b\b\\ \b\b| \b\b/ \b\b- \b\b\\ \b\b| \b\b/ \b\b- \b\b\\ \b\b| \b\b/ \b\b- \b\b\\ \b\b| \b\b/ \b\b- \b\b\\ \b\b| \b\b/ \b\b- \b\b\\ \b\b| \b\b/ \b\b- \b\b\\ \b\b| \b\b/ \b\b- \b\b\\ \b\b| \b\b/ \b\b- \b\b\\ \b\b| \b\b/ \b\b- \b\b\\ \b\b| \b\b/ \b\b- \b\b\\ \b\b| \b\b/ \b\b- \b\b\\ \b\b| \b\b/ \b\b- \b\b\\ \b\b| \b\b/ \b\b- \b\b\\ \b\b| \b\b/ \b\b- \b\b\\ \b\b| \b\b/ \b\b- \b\b\\ \b\b| \b\b/ \b\b- \b\b\\ \b\b| \b\b/ \b\b- \b\b\\ \b\b| \b\b/ \b\b- \b\b\\ \b\b| \b\b/ \b\b- \b\b\\ \b\b| \b\b/ \b\b- \b\b\\ \b\b| \b\b/ \b\b- \b\b\\ \b\b| \b\b/ \b\b- \b\b\\ \b\b| \b\b/ \b\b- \b\b\\ \b\b| \b\b/ \b\b- \b\b\\ \b\b| \b\b/ \b\b- \b\b\\ \b\b| \b\b/ \b\b- \b\b\\ \b\b| \b\b/ \b\b- \b\b\\ \b\b| \b\b/ \b\b- \b\b\\ \b\b| \b\b/ \b\b- \b\b\\ \b\b| \b\b/ \b\b- \b\b\\ \b\b| \b\b/ \b\b- \b\b\\ \b\b| \b\b/ \b\b- \b\b\\ \b\b| \b\b/ \b\b- \b\b\\ \b\b| \b\b/ \b\b- \b\b\\ \b\b| \b\b/ \b\b- \b\b\\ \b\b| \b\b/ \b\b- \b\b\\ \b\b| \b\b/ \b\b- \b\b\\ \b\b| \b\b/ \b\b- \b\b\\ \b\b| \b\b/ \b\b- \b\b\\ \b\b| \b\b/ \b\b- \b\b\\ \b\b| \b\b/ \b\b- \b\b\\ \b\b| \b\b/ \b\b- \b\b\\ \b\b| \b\b/ \b\b- \b\b\\ \b\b| \b\b/ \b\b- \b\b\\ \b\b| \b\b/ \b\b- \b\b\\ \b\b| \b\b/ \b\b- \b\b\\ \b\b| \b\b/ \b\b- \b\b\\ \b\b| \b\b/ \b\b- \b\b\\ \b\b| \b\b/ \b\b- \b\b\\ \b\b| \b\b/ \b\b- \b\b\\ \b\b| \b\b/ \b\b- \b\b\\ \b\b| \b\b/ \b\b- \b\b\\ \b\b| \b\b/ \b\b- \b\b\\ \b\b| \b\b/ \b\b- \b\b\\ \b\b| \b\b/ \b\b- \b\b\\ \b\b| \b\b/ \b\b- \b\b\\ \b\b| \b\b/ \b\b- \b\b\\ \b\b| \b\b/ \b\b- \b\b\\ \b\b| \b\b/ \b\b- \b\b\\ \b\b| \b\b/ \b\b- \b\b\\ \b\b| \b\b/ \b\b- \b\b\\ \b\b| \b\b/ \b\b- \b\b\\ \b\b| \b\b/ \b\b- \b\b\\ \b\b| \b\b/ \b\b- \b\b\\ \b\b| \b\b/ \b\b- \b\b\\ \b\b| \b\b/ \b\b- \b\b\\ \b\b| \b\b/ \b\b- \b\b\\ \b\b| \b\b/ \b\b- \b\b\\ \b\b| \b\b/ \b\b- \b\b\\ \b\b| \b\b/ \b\b- \b\b\\ \b\b| \b\b/ \b\b- \b\b\\ \b\b| \b\b/ \b\b- \b\b\\ \b\b| \b\b/ \b\b- \b\b\\ \b\b| \b\b/ \b\b- \b\b\\ \b\b| \b\b/ \b\b- \b\b\\ \b\b| \b\b/ \b\b- \b\b\\ \b\b| \b\b/ \b\b- \b\b\\ \b\b| \b\b/ \b\b- \b\b\\ \b\b| \b\b/ \b\b- \b\b\\ \b\b| \b\b/ \b\b- \b\b\\ \b\b| \b\b/ \b\b- \b\b\\ \b\b| \b\b/ \b\b- \b\b\\ \b\b| \b\b/ \b\b- \b\b\\ \b\b| \b\b/ \b\b- \b\b\\ \b\b| \b\b/ \b\b- \b\b\\ \b\b| \b\b/ \b\b- \b\b\\ \b\b| \b\b/ \b\b- \b\b\\ \b\b| \b\b/ \b\b- \b\b\\ \b\b| \b\b/ \b\b- \b\b\\ \b\b| \b\b/ \b\b- \b\b\\ \b\b| \b\b/ \b\b- \b\b\\ \b\b| \b\b/ \b\b- \b\b\\ \b\b| \b\b/ \b\b- \b\b\\ \b\b| \b\b/ \b\b- \b\b\\ \b\b| \b\b/ \b\b- \b\b\\ \b\b| \b\b/ \b\b- \b\b\\ \b\b| \b\b/ \b\b- \b\b\\ \b\b| \b\b/ \b\b- \b\b\\ \b\b| \b\b/ \b\b- \b\b\\ \b\b| \b\b/ \b\b- \b\b\\ \b\b| \b\b/ \b\b- \b\b\\ \b\b| \b\b/ \b\b- \b\b\\ \b\b| \b\b/ \b\b- \b\b\\ \b\b| \b\b/ \b\b- \b\b\\ \b\b| \b\b/ \b\b- \b\b\\ \b\b| \b\b/ \b\b- \b\b\\ \b\b| \b\b/ \b\b- \b\b\\ \b\b| \b\b/ \b\b- \b\b\\ \b\b| \b\b/ \b\b- \b\b\\ \b\b| \b\b/ \b\b- \b\b\\ \b\b| \b\b/ \b\b- \b\b\\ \b\b| \b\b/ \b\b- \b\b\\ \b\b| \b\b/ \b\b- \b\b\\ \b\b| \b\b/ \b\b- \b\b\\ \b\b| \b\b/ \b\b- \b\b\\ \b\b| \b\b/ \b\b- \b\b\\ \b\b| \b\b/ \b\b- \b\b\\ \b\b| \b\b/ \b\b- \b\b\\ \b\b| \b\b/ \b\b- \b\b\\ \b\b| \b\b/ \b\b- \b\b\\ \b\b| \b\b/ \b\b- \b\b\\ \b\b| \b\b/ \b\b- \b\b\\ \b\b| \b\b/ \b\b- \b\b\\ \b\b| \b\b/ \b\b- \b\b\\ \b\b| \b\b/ \b\b- \b\b\\ \b\b| \b\b/ \b\b- \b\b\\ \b\b| \b\b/ \b\b- \b\b\\ \b\b| \b\b/ \b\b- \b\b\\ \b\b| \b\b/ \b\b- \b\b\\ \b\b| \b\b/ \b\b- \b\b\\ \b\b| \b\b/ \b\b- \b\b\\ \b\b| \b\b/ \b\b- \b\b\\ \b\b| \b\b/ \b\b- \b\b\\ \b\b| \b\b/ \b\b- \b\b\\ \b\b| \b\b/ \b\b- \b\b\\ \b\b| \b\b/ \b\b- \b\b\\ \b\b| \b\b/ \b\b- \b\b\\ \b\b| \b\b/ \b\b- \b\b\\ \b\b| \b\b/ \b\b- \b\b\\ \b\b| \b\b/ \b\b- \b\b\\ \b\b| \b\b/ \b\b- \b\b\\ \b\b| \b\b/ \b\b- \b\b\\ \b\b| \b\b/ \b\b- \b\b\\ \b\b| \b\b/ \b\b- \b\b\\ \b\b| \b\b/ \b\bdone\n",
            "Copying shared object files to /usr/lib\n",
            "Copying RAPIDS compatible xgboost\n",
            "\n",
            "************************************************\n",
            "Your Google Colab instance has RAPIDS installed!\n",
            "************************************************\n",
            "***********************************************************************\n",
            "Let us check on those pyarrow and cffi versions...\n",
            "***********************************************************************\n",
            "\n",
            "unloaded pyarrow 0.14.1\n",
            "unloaded pyarrow 0.14.1\n",
            "unloaded pyarrow 0.14.1\n",
            "unloaded pyarrow 0.14.1\n",
            "unloaded pyarrow 0.14.1\n",
            "unloaded pyarrow 0.14.1\n",
            "unloaded pyarrow 0.14.1\n",
            "unloaded pyarrow 0.14.1\n",
            "unloaded pyarrow 0.14.1\n",
            "unloaded pyarrow 0.14.1\n",
            "unloaded pyarrow 0.14.1\n",
            "unloaded pyarrow 0.14.1\n",
            "loaded pyarrow 0.15.0\n",
            "You're now running pyarrow 0.15.0 and are good to go!\n",
            "unloaded cffi 1.14.0\n",
            "loaded cffi 1.11.5\n"
          ],
          "name": "stdout"
        }
      ]
    },
    {
      "cell_type": "markdown",
      "metadata": {
        "id": "K5EaSlitj65G",
        "colab_type": "text"
      },
      "source": [
        "# XGBoost 1.0 Features and Intro"
      ]
    },
    {
      "cell_type": "markdown",
      "metadata": {
        "id": "Kcklmj9GkAkx",
        "colab_type": "text"
      },
      "source": [
        "New features in XGBoost 1.0\n",
        "\n",
        "- XGBoost supports distributed Computing on Kubernetes\n",
        "- We can use Kubernetes now.\n",
        "- All cloud such as AWS, can use xGBoost\n",
        "- Native Dask interface on XGBoost.\n",
        "- Supports Cudf on RAPIDS.\n",
        "- Already it supports numpy, pandas, libsvm format.\n",
        "- Now it supports CUDA Dataframe.\n",
        "- XGBoost works on GPU already. We can use Cuda Dataframe with end to end on GPU.\n",
        "- Lot of GPU additions.\n",
        "- Learning to rank is GPU accelerated.\n",
        "\n",
        "Internally uses lambda mart ranking algorithm. Uses pairwise ranking approach by sampling many pairs.\n",
        "\n",
        "- Scaling for multi-core CPUs is enhanced.\n"
      ]
    },
    {
      "cell_type": "markdown",
      "metadata": {
        "id": "q6kx5mw2s5Aq",
        "colab_type": "text"
      },
      "source": [
        "## Loading Data"
      ]
    },
    {
      "cell_type": "code",
      "metadata": {
        "id": "sBG0xclgh01I",
        "colab_type": "code",
        "colab": {}
      },
      "source": [
        "import cudf"
      ],
      "execution_count": 0,
      "outputs": []
    },
    {
      "cell_type": "code",
      "metadata": {
        "id": "2Lx6onyjgPsd",
        "colab_type": "code",
        "colab": {}
      },
      "source": [
        "! pip install xgboost"
      ],
      "execution_count": 0,
      "outputs": []
    },
    {
      "cell_type": "code",
      "metadata": {
        "id": "9t3o9r3GlhBr",
        "colab_type": "code",
        "colab": {
          "base_uri": "https://localhost:8080/",
          "height": 35
        },
        "outputId": "3e6c3b35-5b9b-4048-af89-c36c7f226165"
      },
      "source": [
        "import xgboost as xgb\n",
        "print(xgb.__version__)"
      ],
      "execution_count": 7,
      "outputs": [
        {
          "output_type": "stream",
          "text": [
            "1.0.2\n"
          ],
          "name": "stdout"
        }
      ]
    },
    {
      "cell_type": "code",
      "metadata": {
        "id": "1FZoT0DkEy61",
        "colab_type": "code",
        "colab": {}
      },
      "source": [
        "import sys,tempfile, urllib, os\n",
        "import pandas as pd\n",
        "from sklearn.model_selection import train_test_split\n",
        "import numpy as np"
      ],
      "execution_count": 0,
      "outputs": []
    },
    {
      "cell_type": "code",
      "metadata": {
        "id": "Sk8bezXjFIQy",
        "colab_type": "code",
        "colab": {}
      },
      "source": [
        "from sklearn.datasets import fetch_openml\n",
        "covtyp = fetch_openml(name='covertype', version=4)\n",
        "# Predicting the forest cover type using 53 variables.\n",
        "# Predict one categorical class. "
      ],
      "execution_count": 0,
      "outputs": []
    },
    {
      "cell_type": "code",
      "metadata": {
        "id": "ZeJ_4hrwFKqz",
        "colab_type": "code",
        "outputId": "7951785f-016c-40d7-c973-f603941280a0",
        "colab": {
          "base_uri": "https://localhost:8080/",
          "height": 35
        }
      },
      "source": [
        "covtyp.data.shape"
      ],
      "execution_count": 10,
      "outputs": [
        {
          "output_type": "execute_result",
          "data": {
            "text/plain": [
              "(581012, 54)"
            ]
          },
          "metadata": {
            "tags": []
          },
          "execution_count": 10
        }
      ]
    },
    {
      "cell_type": "code",
      "metadata": {
        "id": "kDf5BW2RFL4S",
        "colab_type": "code",
        "outputId": "1ea9bb0f-c980-417f-f792-30c6b47cd5ee",
        "colab": {
          "base_uri": "https://localhost:8080/",
          "height": 35
        }
      },
      "source": [
        "np.unique(covtyp.target)"
      ],
      "execution_count": 13,
      "outputs": [
        {
          "output_type": "execute_result",
          "data": {
            "text/plain": [
              "array(['1', '2', '3', '4', '5', '6', '7'], dtype=object)"
            ]
          },
          "metadata": {
            "tags": []
          },
          "execution_count": 13
        }
      ]
    },
    {
      "cell_type": "code",
      "metadata": {
        "id": "U1hRbHpjKAKL",
        "colab_type": "code",
        "colab": {}
      },
      "source": [
        "cov_df = pd.DataFrame(data=np.c_[covtyp['data'], covtyp['target']], columns=covtyp['feature_names'] + ['target'])"
      ],
      "execution_count": 0,
      "outputs": []
    },
    {
      "cell_type": "code",
      "metadata": {
        "id": "XJ9Pe_8zKlvN",
        "colab_type": "code",
        "outputId": "58231a97-6606-46bc-927a-f0e9af99efad",
        "colab": {
          "base_uri": "https://localhost:8080/",
          "height": 35
        }
      },
      "source": [
        "cov_df.memory_usage().sum()"
      ],
      "execution_count": 12,
      "outputs": [
        {
          "output_type": "execute_result",
          "data": {
            "text/plain": [
              "255645408"
            ]
          },
          "metadata": {
            "tags": []
          },
          "execution_count": 12
        }
      ]
    },
    {
      "cell_type": "code",
      "metadata": {
        "id": "6_PFDHKmKrce",
        "colab_type": "code",
        "outputId": "f61fd5b3-87a3-4fc7-a33e-07b77fb2e962",
        "colab": {
          "base_uri": "https://localhost:8080/",
          "height": 226
        }
      },
      "source": [
        "cov_df.head()"
      ],
      "execution_count": 14,
      "outputs": [
        {
          "output_type": "execute_result",
          "data": {
            "text/html": [
              "<div>\n",
              "<style scoped>\n",
              "    .dataframe tbody tr th:only-of-type {\n",
              "        vertical-align: middle;\n",
              "    }\n",
              "\n",
              "    .dataframe tbody tr th {\n",
              "        vertical-align: top;\n",
              "    }\n",
              "\n",
              "    .dataframe thead th {\n",
              "        text-align: right;\n",
              "    }\n",
              "</style>\n",
              "<table border=\"1\" class=\"dataframe\">\n",
              "  <thead>\n",
              "    <tr style=\"text-align: right;\">\n",
              "      <th></th>\n",
              "      <th>Elevation</th>\n",
              "      <th>Aspect</th>\n",
              "      <th>Slope</th>\n",
              "      <th>Horizontal_Distance_To_Hydrology</th>\n",
              "      <th>Vertical_Distance_To_Hydrology</th>\n",
              "      <th>Horizontal_Distance_To_Roadways</th>\n",
              "      <th>Hillshade_9am</th>\n",
              "      <th>Hillshade_Noon</th>\n",
              "      <th>Hillshade_3pm</th>\n",
              "      <th>Horizontal_Distance_To_Fire_Points</th>\n",
              "      <th>Wilderness_Area1</th>\n",
              "      <th>Wilderness_Area2</th>\n",
              "      <th>Wilderness_Area3</th>\n",
              "      <th>Wilderness_Area4</th>\n",
              "      <th>Soil_Type1</th>\n",
              "      <th>Soil_Type2</th>\n",
              "      <th>Soil_Type3</th>\n",
              "      <th>Soil_Type4</th>\n",
              "      <th>Soil_Type5</th>\n",
              "      <th>Soil_Type6</th>\n",
              "      <th>Soil_Type7</th>\n",
              "      <th>Soil_Type8</th>\n",
              "      <th>Soil_Type9</th>\n",
              "      <th>Soil_Type10</th>\n",
              "      <th>Soil_Type11</th>\n",
              "      <th>Soil_Type12</th>\n",
              "      <th>Soil_Type13</th>\n",
              "      <th>Soil_Type14</th>\n",
              "      <th>Soil_Type15</th>\n",
              "      <th>Soil_Type16</th>\n",
              "      <th>Soil_Type17</th>\n",
              "      <th>Soil_Type18</th>\n",
              "      <th>Soil_Type19</th>\n",
              "      <th>Soil_Type20</th>\n",
              "      <th>Soil_Type21</th>\n",
              "      <th>Soil_Type22</th>\n",
              "      <th>Soil_Type23</th>\n",
              "      <th>Soil_Type24</th>\n",
              "      <th>Soil_Type25</th>\n",
              "      <th>Soil_Type26</th>\n",
              "      <th>Soil_Type27</th>\n",
              "      <th>Soil_Type28</th>\n",
              "      <th>Soil_Type29</th>\n",
              "      <th>Soil_Type30</th>\n",
              "      <th>Soil_Type31</th>\n",
              "      <th>Soil_Type32</th>\n",
              "      <th>Soil_Type33</th>\n",
              "      <th>Soil_Type34</th>\n",
              "      <th>Soil_Type35</th>\n",
              "      <th>Soil_Type36</th>\n",
              "      <th>Soil_Type37</th>\n",
              "      <th>Soil_Type38</th>\n",
              "      <th>Soil_Type39</th>\n",
              "      <th>Soil_Type40</th>\n",
              "      <th>target</th>\n",
              "    </tr>\n",
              "  </thead>\n",
              "  <tbody>\n",
              "    <tr>\n",
              "      <th>0</th>\n",
              "      <td>2596</td>\n",
              "      <td>51</td>\n",
              "      <td>3</td>\n",
              "      <td>258</td>\n",
              "      <td>0</td>\n",
              "      <td>510</td>\n",
              "      <td>221</td>\n",
              "      <td>232</td>\n",
              "      <td>148</td>\n",
              "      <td>6279</td>\n",
              "      <td>1</td>\n",
              "      <td>0</td>\n",
              "      <td>0</td>\n",
              "      <td>0</td>\n",
              "      <td>0</td>\n",
              "      <td>0</td>\n",
              "      <td>0</td>\n",
              "      <td>0</td>\n",
              "      <td>0</td>\n",
              "      <td>0</td>\n",
              "      <td>0</td>\n",
              "      <td>0</td>\n",
              "      <td>0</td>\n",
              "      <td>0</td>\n",
              "      <td>0</td>\n",
              "      <td>0</td>\n",
              "      <td>0</td>\n",
              "      <td>0</td>\n",
              "      <td>0</td>\n",
              "      <td>0</td>\n",
              "      <td>0</td>\n",
              "      <td>0</td>\n",
              "      <td>0</td>\n",
              "      <td>0</td>\n",
              "      <td>0</td>\n",
              "      <td>0</td>\n",
              "      <td>0</td>\n",
              "      <td>0</td>\n",
              "      <td>0</td>\n",
              "      <td>0</td>\n",
              "      <td>0</td>\n",
              "      <td>0</td>\n",
              "      <td>1</td>\n",
              "      <td>0</td>\n",
              "      <td>0</td>\n",
              "      <td>0</td>\n",
              "      <td>0</td>\n",
              "      <td>0</td>\n",
              "      <td>0</td>\n",
              "      <td>0</td>\n",
              "      <td>0</td>\n",
              "      <td>0</td>\n",
              "      <td>0</td>\n",
              "      <td>0</td>\n",
              "      <td>5</td>\n",
              "    </tr>\n",
              "    <tr>\n",
              "      <th>1</th>\n",
              "      <td>2590</td>\n",
              "      <td>56</td>\n",
              "      <td>2</td>\n",
              "      <td>212</td>\n",
              "      <td>-6</td>\n",
              "      <td>390</td>\n",
              "      <td>220</td>\n",
              "      <td>235</td>\n",
              "      <td>151</td>\n",
              "      <td>6225</td>\n",
              "      <td>1</td>\n",
              "      <td>0</td>\n",
              "      <td>0</td>\n",
              "      <td>0</td>\n",
              "      <td>0</td>\n",
              "      <td>0</td>\n",
              "      <td>0</td>\n",
              "      <td>0</td>\n",
              "      <td>0</td>\n",
              "      <td>0</td>\n",
              "      <td>0</td>\n",
              "      <td>0</td>\n",
              "      <td>0</td>\n",
              "      <td>0</td>\n",
              "      <td>0</td>\n",
              "      <td>0</td>\n",
              "      <td>0</td>\n",
              "      <td>0</td>\n",
              "      <td>0</td>\n",
              "      <td>0</td>\n",
              "      <td>0</td>\n",
              "      <td>0</td>\n",
              "      <td>0</td>\n",
              "      <td>0</td>\n",
              "      <td>0</td>\n",
              "      <td>0</td>\n",
              "      <td>0</td>\n",
              "      <td>0</td>\n",
              "      <td>0</td>\n",
              "      <td>0</td>\n",
              "      <td>0</td>\n",
              "      <td>0</td>\n",
              "      <td>1</td>\n",
              "      <td>0</td>\n",
              "      <td>0</td>\n",
              "      <td>0</td>\n",
              "      <td>0</td>\n",
              "      <td>0</td>\n",
              "      <td>0</td>\n",
              "      <td>0</td>\n",
              "      <td>0</td>\n",
              "      <td>0</td>\n",
              "      <td>0</td>\n",
              "      <td>0</td>\n",
              "      <td>5</td>\n",
              "    </tr>\n",
              "    <tr>\n",
              "      <th>2</th>\n",
              "      <td>2804</td>\n",
              "      <td>139</td>\n",
              "      <td>9</td>\n",
              "      <td>268</td>\n",
              "      <td>65</td>\n",
              "      <td>3180</td>\n",
              "      <td>234</td>\n",
              "      <td>238</td>\n",
              "      <td>135</td>\n",
              "      <td>6121</td>\n",
              "      <td>1</td>\n",
              "      <td>0</td>\n",
              "      <td>0</td>\n",
              "      <td>0</td>\n",
              "      <td>0</td>\n",
              "      <td>0</td>\n",
              "      <td>0</td>\n",
              "      <td>0</td>\n",
              "      <td>0</td>\n",
              "      <td>0</td>\n",
              "      <td>0</td>\n",
              "      <td>0</td>\n",
              "      <td>0</td>\n",
              "      <td>0</td>\n",
              "      <td>0</td>\n",
              "      <td>1</td>\n",
              "      <td>0</td>\n",
              "      <td>0</td>\n",
              "      <td>0</td>\n",
              "      <td>0</td>\n",
              "      <td>0</td>\n",
              "      <td>0</td>\n",
              "      <td>0</td>\n",
              "      <td>0</td>\n",
              "      <td>0</td>\n",
              "      <td>0</td>\n",
              "      <td>0</td>\n",
              "      <td>0</td>\n",
              "      <td>0</td>\n",
              "      <td>0</td>\n",
              "      <td>0</td>\n",
              "      <td>0</td>\n",
              "      <td>0</td>\n",
              "      <td>0</td>\n",
              "      <td>0</td>\n",
              "      <td>0</td>\n",
              "      <td>0</td>\n",
              "      <td>0</td>\n",
              "      <td>0</td>\n",
              "      <td>0</td>\n",
              "      <td>0</td>\n",
              "      <td>0</td>\n",
              "      <td>0</td>\n",
              "      <td>0</td>\n",
              "      <td>2</td>\n",
              "    </tr>\n",
              "    <tr>\n",
              "      <th>3</th>\n",
              "      <td>2785</td>\n",
              "      <td>155</td>\n",
              "      <td>18</td>\n",
              "      <td>242</td>\n",
              "      <td>118</td>\n",
              "      <td>3090</td>\n",
              "      <td>238</td>\n",
              "      <td>238</td>\n",
              "      <td>122</td>\n",
              "      <td>6211</td>\n",
              "      <td>1</td>\n",
              "      <td>0</td>\n",
              "      <td>0</td>\n",
              "      <td>0</td>\n",
              "      <td>0</td>\n",
              "      <td>0</td>\n",
              "      <td>0</td>\n",
              "      <td>0</td>\n",
              "      <td>0</td>\n",
              "      <td>0</td>\n",
              "      <td>0</td>\n",
              "      <td>0</td>\n",
              "      <td>0</td>\n",
              "      <td>0</td>\n",
              "      <td>0</td>\n",
              "      <td>0</td>\n",
              "      <td>0</td>\n",
              "      <td>0</td>\n",
              "      <td>0</td>\n",
              "      <td>0</td>\n",
              "      <td>0</td>\n",
              "      <td>0</td>\n",
              "      <td>0</td>\n",
              "      <td>0</td>\n",
              "      <td>0</td>\n",
              "      <td>0</td>\n",
              "      <td>0</td>\n",
              "      <td>0</td>\n",
              "      <td>0</td>\n",
              "      <td>0</td>\n",
              "      <td>0</td>\n",
              "      <td>0</td>\n",
              "      <td>0</td>\n",
              "      <td>1</td>\n",
              "      <td>0</td>\n",
              "      <td>0</td>\n",
              "      <td>0</td>\n",
              "      <td>0</td>\n",
              "      <td>0</td>\n",
              "      <td>0</td>\n",
              "      <td>0</td>\n",
              "      <td>0</td>\n",
              "      <td>0</td>\n",
              "      <td>0</td>\n",
              "      <td>2</td>\n",
              "    </tr>\n",
              "    <tr>\n",
              "      <th>4</th>\n",
              "      <td>2595</td>\n",
              "      <td>45</td>\n",
              "      <td>2</td>\n",
              "      <td>153</td>\n",
              "      <td>-1</td>\n",
              "      <td>391</td>\n",
              "      <td>220</td>\n",
              "      <td>234</td>\n",
              "      <td>150</td>\n",
              "      <td>6172</td>\n",
              "      <td>1</td>\n",
              "      <td>0</td>\n",
              "      <td>0</td>\n",
              "      <td>0</td>\n",
              "      <td>0</td>\n",
              "      <td>0</td>\n",
              "      <td>0</td>\n",
              "      <td>0</td>\n",
              "      <td>0</td>\n",
              "      <td>0</td>\n",
              "      <td>0</td>\n",
              "      <td>0</td>\n",
              "      <td>0</td>\n",
              "      <td>0</td>\n",
              "      <td>0</td>\n",
              "      <td>0</td>\n",
              "      <td>0</td>\n",
              "      <td>0</td>\n",
              "      <td>0</td>\n",
              "      <td>0</td>\n",
              "      <td>0</td>\n",
              "      <td>0</td>\n",
              "      <td>0</td>\n",
              "      <td>0</td>\n",
              "      <td>0</td>\n",
              "      <td>0</td>\n",
              "      <td>0</td>\n",
              "      <td>0</td>\n",
              "      <td>0</td>\n",
              "      <td>0</td>\n",
              "      <td>0</td>\n",
              "      <td>0</td>\n",
              "      <td>1</td>\n",
              "      <td>0</td>\n",
              "      <td>0</td>\n",
              "      <td>0</td>\n",
              "      <td>0</td>\n",
              "      <td>0</td>\n",
              "      <td>0</td>\n",
              "      <td>0</td>\n",
              "      <td>0</td>\n",
              "      <td>0</td>\n",
              "      <td>0</td>\n",
              "      <td>0</td>\n",
              "      <td>5</td>\n",
              "    </tr>\n",
              "  </tbody>\n",
              "</table>\n",
              "</div>"
            ],
            "text/plain": [
              "  Elevation Aspect Slope  ... Soil_Type39 Soil_Type40 target\n",
              "0      2596     51     3  ...           0           0      5\n",
              "1      2590     56     2  ...           0           0      5\n",
              "2      2804    139     9  ...           0           0      2\n",
              "3      2785    155    18  ...           0           0      2\n",
              "4      2595     45     2  ...           0           0      5\n",
              "\n",
              "[5 rows x 55 columns]"
            ]
          },
          "metadata": {
            "tags": []
          },
          "execution_count": 14
        }
      ]
    },
    {
      "cell_type": "code",
      "metadata": {
        "id": "DVKBR7_SKw0n",
        "colab_type": "code",
        "outputId": "10f475e8-4832-4921-db18-2cfb36505e51",
        "colab": {
          "base_uri": "https://localhost:8080/",
          "height": 164
        }
      },
      "source": [
        "cov_df.target.value_counts()"
      ],
      "execution_count": 15,
      "outputs": [
        {
          "output_type": "execute_result",
          "data": {
            "text/plain": [
              "2    283301\n",
              "1    211840\n",
              "3     35754\n",
              "7     20510\n",
              "6     17367\n",
              "5      9493\n",
              "4      2747\n",
              "Name: target, dtype: int64"
            ]
          },
          "metadata": {
            "tags": []
          },
          "execution_count": 15
        }
      ]
    },
    {
      "cell_type": "code",
      "metadata": {
        "id": "aHK5ehEYK1l8",
        "colab_type": "code",
        "colab": {}
      },
      "source": [
        "cov_df.dtypes"
      ],
      "execution_count": 0,
      "outputs": []
    },
    {
      "cell_type": "markdown",
      "metadata": {
        "id": "cUzn6gIAK_M5",
        "colab_type": "text"
      },
      "source": [
        "- Convert all objects into float32 format.\n",
        "- Keep the categorical target as int32"
      ]
    },
    {
      "cell_type": "code",
      "metadata": {
        "id": "N4rb3ucFK5Wt",
        "colab_type": "code",
        "colab": {}
      },
      "source": [
        "for cols in cov_df.columns:\n",
        "    cov_df[cols] = cov_df[cols].astype(np.float32)"
      ],
      "execution_count": 0,
      "outputs": []
    },
    {
      "cell_type": "code",
      "metadata": {
        "id": "weZ-ZhV1LNqL",
        "colab_type": "code",
        "colab": {}
      },
      "source": [
        "cov_df.dtypes"
      ],
      "execution_count": 0,
      "outputs": []
    },
    {
      "cell_type": "code",
      "metadata": {
        "id": "P8Zv--t6LQ6M",
        "colab_type": "code",
        "colab": {}
      },
      "source": [
        "cov_df['target'] = cov_df['target'].astype(np.int32)"
      ],
      "execution_count": 0,
      "outputs": []
    },
    {
      "cell_type": "code",
      "metadata": {
        "id": "cYmz1VbumWDt",
        "colab_type": "code",
        "colab": {}
      },
      "source": [
        "cov_df.dtypes"
      ],
      "execution_count": 0,
      "outputs": []
    },
    {
      "cell_type": "markdown",
      "metadata": {
        "id": "RzmnaQIbLcD0",
        "colab_type": "text"
      },
      "source": [
        "- Keep target variable from 0 - 7 instead of 1 - 8"
      ]
    },
    {
      "cell_type": "code",
      "metadata": {
        "id": "Y2-5gVYwLXmi",
        "colab_type": "code",
        "colab": {}
      },
      "source": [
        "cov_df['target'] = cov_df['target'] - 1"
      ],
      "execution_count": 0,
      "outputs": []
    },
    {
      "cell_type": "code",
      "metadata": {
        "id": "ht74hnlZMN1P",
        "colab_type": "code",
        "colab": {}
      },
      "source": [
        "cov_df_x = cov_df.drop(['target'], axis=1)"
      ],
      "execution_count": 0,
      "outputs": []
    },
    {
      "cell_type": "code",
      "metadata": {
        "id": "2hNQLQScMUnG",
        "colab_type": "code",
        "colab": {}
      },
      "source": [
        "cov_df_y = pd.DataFrame(cov_df['target'])"
      ],
      "execution_count": 0,
      "outputs": []
    },
    {
      "cell_type": "code",
      "metadata": {
        "id": "-l3LJgr-mR8a",
        "colab_type": "code",
        "colab": {}
      },
      "source": [
        "X_train, X_test, y_train, y_test = train_test_split(cov_df_x, cov_df_y, train_size=0.75, stratify=cov_df_y, random_state=31)"
      ],
      "execution_count": 0,
      "outputs": []
    },
    {
      "cell_type": "markdown",
      "metadata": {
        "id": "-MGDDI1ws8PW",
        "colab_type": "text"
      },
      "source": [
        "# Data GPU + XGBoost GPU"
      ]
    },
    {
      "cell_type": "code",
      "metadata": {
        "id": "K305by8EnQ-C",
        "colab_type": "code",
        "colab": {}
      },
      "source": [
        "X_train_gdf = cudf.DataFrame.from_pandas(X_train)\n",
        "X_test_gdf = cudf.DataFrame.from_pandas(X_test)\n",
        "y_train_gdf = cudf.DataFrame.from_pandas(y_train)\n",
        "y_test_gdf = cudf.DataFrame.from_pandas(y_test)"
      ],
      "execution_count": 0,
      "outputs": []
    },
    {
      "cell_type": "code",
      "metadata": {
        "id": "oux1v-JynS9l",
        "colab_type": "code",
        "colab": {}
      },
      "source": [
        "!nvidia-smi"
      ],
      "execution_count": 0,
      "outputs": []
    },
    {
      "cell_type": "code",
      "metadata": {
        "id": "kizcKdNdnVKl",
        "colab_type": "code",
        "colab": {}
      },
      "source": [
        "# New in 1.0 we can directly use the cuda dataframe\n",
        "dtrain = xgb.DMatrix(X_train_gdf, label=y_train_gdf)\n",
        "dtest = xgb.DMatrix(X_test_gdf, label=y_test_gdf)"
      ],
      "execution_count": 0,
      "outputs": []
    },
    {
      "cell_type": "code",
      "metadata": {
        "id": "pOelpRfSogcM",
        "colab_type": "code",
        "colab": {
          "base_uri": "https://localhost:8080/",
          "height": 311
        },
        "outputId": "eed26eee-b5c8-4845-824b-5543c695e7ce"
      },
      "source": [
        "!nvidia-smi"
      ],
      "execution_count": 37,
      "outputs": [
        {
          "output_type": "stream",
          "text": [
            "Sat Mar 21 10:35:30 2020       \n",
            "+-----------------------------------------------------------------------------+\n",
            "| NVIDIA-SMI 440.64.00    Driver Version: 418.67       CUDA Version: 10.1     |\n",
            "|-------------------------------+----------------------+----------------------+\n",
            "| GPU  Name        Persistence-M| Bus-Id        Disp.A | Volatile Uncorr. ECC |\n",
            "| Fan  Temp  Perf  Pwr:Usage/Cap|         Memory-Usage | GPU-Util  Compute M. |\n",
            "|===============================+======================+======================|\n",
            "|   0  Tesla P100-PCIE...  Off  | 00000000:00:04.0 Off |                    0 |\n",
            "| N/A   35C    P0    32W / 250W |   1777MiB / 16280MiB |      0%      Default |\n",
            "+-------------------------------+----------------------+----------------------+\n",
            "                                                                               \n",
            "+-----------------------------------------------------------------------------+\n",
            "| Processes:                                                       GPU Memory |\n",
            "|  GPU       PID   Type   Process name                             Usage      |\n",
            "|=============================================================================|\n",
            "+-----------------------------------------------------------------------------+\n"
          ],
          "name": "stdout"
        }
      ]
    },
    {
      "cell_type": "code",
      "metadata": {
        "id": "BPngv1FZoS0s",
        "colab_type": "code",
        "colab": {}
      },
      "source": [
        "import time"
      ],
      "execution_count": 0,
      "outputs": []
    },
    {
      "cell_type": "code",
      "metadata": {
        "id": "SYCALeEcoc6s",
        "colab_type": "code",
        "colab": {}
      },
      "source": [
        "num_rounds = 200\n",
        "max_depth = 10\n",
        "params = {\n",
        "    'colsample_bylevel' : 1,\n",
        "    'colsample_bytree' : 1,\n",
        "    'learning_rate' : 0.1,\n",
        "    'random_state': 31,\n",
        "    'objective': 'multi:softmax',\n",
        "    'num_class' : 7\n",
        "}"
      ],
      "execution_count": 0,
      "outputs": []
    },
    {
      "cell_type": "code",
      "metadata": {
        "id": "dw0sQNvSo2pa",
        "colab_type": "code",
        "colab": {}
      },
      "source": [
        "params['tree_method'] = 'gpu_hist'\n",
        "params['grow_policy'] = 'depthwise'\n",
        "params['max_depth'] = max_depth\n",
        "params['max_leaves'] = 0\n",
        "params['verbosity'] = 0\n",
        "params['gpu_id'] = 0\n",
        "params['updater'] = 'grow_gpu_hist'\n",
        "params['predictor'] = 'gpu_predictor'"
      ],
      "execution_count": 0,
      "outputs": []
    },
    {
      "cell_type": "code",
      "metadata": {
        "id": "M7t_jeBSp6Ol",
        "colab_type": "code",
        "colab": {
          "base_uri": "https://localhost:8080/",
          "height": 237
        },
        "outputId": "a59590e9-3fdf-4321-dfe5-484c1514e0af"
      },
      "source": [
        "gpu_result = {}\n",
        "start_time = time.time()\n",
        "# Training it\n",
        "xgb.train(params, dtrain, num_rounds, evals = {(dtest, 'test')}, evals_result=gpu_result, verbose_eval=20)\n",
        "end_time = time.time()  \n",
        "print(\"GPU Time taken to train = %s\"%(end_time - start_time))"
      ],
      "execution_count": 45,
      "outputs": [
        {
          "output_type": "stream",
          "text": [
            "[0]\ttest-merror:0.17838\n",
            "[20]\ttest-merror:0.13971\n",
            "[40]\ttest-merror:0.12770\n",
            "[60]\ttest-merror:0.11508\n",
            "[80]\ttest-merror:0.10647\n",
            "[100]\ttest-merror:0.10054\n",
            "[120]\ttest-merror:0.09466\n",
            "[140]\ttest-merror:0.08770\n",
            "[160]\ttest-merror:0.08068\n",
            "[180]\ttest-merror:0.07638\n",
            "[199]\ttest-merror:0.07186\n",
            "Time taken to train = 41.82584619522095\n"
          ],
          "name": "stdout"
        }
      ]
    },
    {
      "cell_type": "markdown",
      "metadata": {
        "id": "U8JddceStD4P",
        "colab_type": "text"
      },
      "source": [
        "# Data RAM + XGBoost GPU"
      ]
    },
    {
      "cell_type": "markdown",
      "metadata": {
        "id": "YMxE7Sz8tMkI",
        "colab_type": "text"
      },
      "source": [
        "- NOTE: Not much time taken to move data from RAM to GPU "
      ]
    },
    {
      "cell_type": "code",
      "metadata": {
        "id": "0laRepLbqN0y",
        "colab_type": "code",
        "colab": {}
      },
      "source": [
        "# Training on GPU but with data on RAM\n",
        "\n",
        "dtrain_cpu = xgb.DMatrix(X_train, label=y_train)\n",
        "dtest_cpu = xgb.DMatrix(X_test, label=y_test)"
      ],
      "execution_count": 0,
      "outputs": []
    },
    {
      "cell_type": "code",
      "metadata": {
        "id": "exixWDGYsPrX",
        "colab_type": "code",
        "colab": {}
      },
      "source": [
        "num_rounds = 200\n",
        "max_depth = 10\n",
        "params = {\n",
        "    'colsample_bylevel' : 1,\n",
        "    'colsample_bytree' : 1,\n",
        "    'learning_rate' : 0.1,\n",
        "    'random_state': 31,\n",
        "    'objective': 'multi:softmax',\n",
        "    'num_class' : 7\n",
        "}"
      ],
      "execution_count": 0,
      "outputs": []
    },
    {
      "cell_type": "code",
      "metadata": {
        "id": "aRehtxGLsIiY",
        "colab_type": "code",
        "colab": {}
      },
      "source": [
        "params['tree_method'] = 'gpu_hist'\n",
        "params['grow_policy'] = 'depthwise'\n",
        "params['max_depth'] = max_depth\n",
        "params['max_leaves'] = 0\n",
        "params['verbosity'] = 0\n",
        "params['gpu_id'] = 0\n",
        "params['updater'] = 'grow_gpu_hist'\n",
        "params['predictor'] = 'gpu_predictor'"
      ],
      "execution_count": 0,
      "outputs": []
    },
    {
      "cell_type": "code",
      "metadata": {
        "id": "UPhvgtcwsRBH",
        "colab_type": "code",
        "colab": {
          "base_uri": "https://localhost:8080/",
          "height": 237
        },
        "outputId": "11e244a2-2398-46df-a162-c82f264ea29f"
      },
      "source": [
        "gpu_result = {}\n",
        "start_time = time.time()\n",
        "# Training it\n",
        "xgb.train(params, dtrain, num_rounds, evals = {(dtest, 'test')}, evals_result=gpu_result, verbose_eval=20)\n",
        "end_time = time.time()  \n",
        "print(\"RAM Time taken to train = %s\" %(end_time - start_time))"
      ],
      "execution_count": 50,
      "outputs": [
        {
          "output_type": "stream",
          "text": [
            "[0]\ttest-merror:0.17838\n",
            "[20]\ttest-merror:0.13971\n",
            "[40]\ttest-merror:0.12770\n",
            "[60]\ttest-merror:0.11508\n",
            "[80]\ttest-merror:0.10647\n",
            "[100]\ttest-merror:0.10054\n",
            "[120]\ttest-merror:0.09466\n",
            "[140]\ttest-merror:0.08770\n",
            "[160]\ttest-merror:0.08068\n",
            "[180]\ttest-merror:0.07638\n",
            "[199]\ttest-merror:0.07186\n",
            "RAM Time taken to train = 41.88491249084473\n"
          ],
          "name": "stdout"
        }
      ]
    },
    {
      "cell_type": "code",
      "metadata": {
        "id": "f7sZZJG4sgtX",
        "colab_type": "code",
        "colab": {
          "base_uri": "https://localhost:8080/",
          "height": 311
        },
        "outputId": "ec480114-cc86-4256-8b52-af7b50c395ef"
      },
      "source": [
        "! nvidia-smi"
      ],
      "execution_count": 51,
      "outputs": [
        {
          "output_type": "stream",
          "text": [
            "Sat Mar 21 10:46:38 2020       \n",
            "+-----------------------------------------------------------------------------+\n",
            "| NVIDIA-SMI 440.64.00    Driver Version: 418.67       CUDA Version: 10.1     |\n",
            "|-------------------------------+----------------------+----------------------+\n",
            "| GPU  Name        Persistence-M| Bus-Id        Disp.A | Volatile Uncorr. ECC |\n",
            "| Fan  Temp  Perf  Pwr:Usage/Cap|         Memory-Usage | GPU-Util  Compute M. |\n",
            "|===============================+======================+======================|\n",
            "|   0  Tesla P100-PCIE...  Off  | 00000000:00:04.0 Off |                    0 |\n",
            "| N/A   40C    P0    40W / 250W |   2433MiB / 16280MiB |      0%      Default |\n",
            "+-------------------------------+----------------------+----------------------+\n",
            "                                                                               \n",
            "+-----------------------------------------------------------------------------+\n",
            "| Processes:                                                       GPU Memory |\n",
            "|  GPU       PID   Type   Process name                             Usage      |\n",
            "|=============================================================================|\n",
            "+-----------------------------------------------------------------------------+\n"
          ],
          "name": "stdout"
        }
      ]
    },
    {
      "cell_type": "markdown",
      "metadata": {
        "id": "u0YF_z-ytU2H",
        "colab_type": "text"
      },
      "source": [
        "# Data RAM + XGBoost CPU"
      ]
    },
    {
      "cell_type": "code",
      "metadata": {
        "id": "xtelppyks0KU",
        "colab_type": "code",
        "colab": {}
      },
      "source": [
        "dtrain_cpu = xgb.DMatrix(X_train, label=y_train)\n",
        "dtest_cpu = xgb.DMatrix(X_test, label=y_test)"
      ],
      "execution_count": 0,
      "outputs": []
    },
    {
      "cell_type": "code",
      "metadata": {
        "id": "4ljH8Xafu-BQ",
        "colab_type": "code",
        "colab": {}
      },
      "source": [
        "params = {}"
      ],
      "execution_count": 0,
      "outputs": []
    },
    {
      "cell_type": "code",
      "metadata": {
        "id": "gKHrtwiEtbqN",
        "colab_type": "code",
        "colab": {}
      },
      "source": [
        "num_rounds = 200\n",
        "max_depth = 10\n",
        "\n",
        "params = {\n",
        "    'colsample_bylevel' : 1,\n",
        "    'colsample_bytree' : 1,\n",
        "    'learning_rate' : 0.1,\n",
        "    'random_state': 31,\n",
        "    'objective': 'multi:softmax',\n",
        "    'num_class' : 7\n",
        "}"
      ],
      "execution_count": 0,
      "outputs": []
    },
    {
      "cell_type": "code",
      "metadata": {
        "id": "6XHMPbGmtdDP",
        "colab_type": "code",
        "colab": {}
      },
      "source": [
        "params['tree_method'] = 'hist'\n",
        "params['grow_policy'] = 'depthwise'\n",
        "params['max_depth'] = max_depth\n",
        "params['max_leaves'] = 0\n",
        "params['verbosity'] = 0\n",
        "# params['gpu_id'] = 0\n",
        "# params['updater'] = 'hist'\n",
        "params['predictor'] = 'cpu_predictor'"
      ],
      "execution_count": 0,
      "outputs": []
    },
    {
      "cell_type": "code",
      "metadata": {
        "id": "qfhEZj4htqnW",
        "colab_type": "code",
        "colab": {
          "base_uri": "https://localhost:8080/",
          "height": 237
        },
        "outputId": "da2fc924-2bbb-4173-80d0-5260a5d0303c"
      },
      "source": [
        "cpu_result = {}\n",
        "start_time = time.time()\n",
        "# Training it\n",
        "xgb.train(params, dtrain, num_rounds, evals = {(dtest, 'test')}, evals_result=cpu_result, verbose_eval=20)\n",
        "end_time = time.time()  \n",
        "print(\"RAM Time taken to train = %s\" %(end_time - start_time))"
      ],
      "execution_count": 67,
      "outputs": [
        {
          "output_type": "stream",
          "text": [
            "[0]\ttest-merror:0.17823\n",
            "[20]\ttest-merror:0.13898\n",
            "[40]\ttest-merror:0.12763\n",
            "[60]\ttest-merror:0.11415\n",
            "[80]\ttest-merror:0.10697\n",
            "[100]\ttest-merror:0.10146\n",
            "[120]\ttest-merror:0.09487\n",
            "[140]\ttest-merror:0.08651\n",
            "[160]\ttest-merror:0.08054\n",
            "[180]\ttest-merror:0.07401\n",
            "[199]\ttest-merror:0.06994\n",
            "RAM Time taken to train = 314.41554594039917\n"
          ],
          "name": "stdout"
        }
      ]
    },
    {
      "cell_type": "markdown",
      "metadata": {
        "id": "q4lytYcUt-DX",
        "colab_type": "text"
      },
      "source": [
        "# Which to use and When "
      ]
    },
    {
      "cell_type": "markdown",
      "metadata": {
        "id": "sVla-jSfuAwA",
        "colab_type": "text"
      },
      "source": [
        "- If data is not big use pandas directly\n",
        "- Pandas works on single node so has limitation with bigger datasets.\n",
        "- For bigger datasets like 3GB if we have GPU available use RAPIDS and directly make a CuDf it will be faster and efficient.\n",
        "- Pandas will give performance issues with huge data.\n",
        "- If data is not fitting into single GPU then use distributed GPU's or use distributed frameworks like Dask.\n",
        "- For CPU only training one can use Intel's DAAL framework."
      ]
    }
  ]
}