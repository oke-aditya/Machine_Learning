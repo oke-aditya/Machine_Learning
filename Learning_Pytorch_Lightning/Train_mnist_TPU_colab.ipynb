{
  "nbformat": 4,
  "nbformat_minor": 0,
  "metadata": {
    "colab": {
      "name": "Train_mnist_TPU_colab.ipynb",
      "provenance": []
    },
    "kernelspec": {
      "name": "python3",
      "display_name": "Python 3"
    },
    "accelerator": "TPU"
  },
  "cells": [
    {
      "cell_type": "markdown",
      "metadata": {
        "id": "lQovp8rWsT8g",
        "colab_type": "text"
      },
      "source": [
        "# Install TPU related libraries"
      ]
    },
    {
      "cell_type": "code",
      "metadata": {
        "id": "F7zHDXmfs4EY",
        "colab_type": "code",
        "colab": {}
      },
      "source": [
        "VERSION = \"1.5\"  #@param [\"1.5\" , \"20200325\", \"nightly\"]\n",
        "!curl https://raw.githubusercontent.com/pytorch/xla/master/contrib/scripts/env-setup.py -o pytorch-xla-env-setup.py\n",
        "!python pytorch-xla-env-setup.py --version $VERSION"
      ],
      "execution_count": 0,
      "outputs": []
    },
    {
      "cell_type": "code",
      "metadata": {
        "id": "2PbmiNONs9ak",
        "colab_type": "code",
        "colab": {
          "base_uri": "https://localhost:8080/",
          "height": 73
        },
        "outputId": "adc88dc0-11eb-4928-e252-baf083a8b025"
      },
      "source": [
        "! pip -q install pytorch-lightning"
      ],
      "execution_count": 2,
      "outputs": [
        {
          "output_type": "stream",
          "text": [
            "\u001b[K     |████████████████████████████████| 256kB 3.5MB/s \n",
            "\u001b[K     |████████████████████████████████| 829kB 10.1MB/s \n",
            "\u001b[?25h  Building wheel for future (setup.py) ... \u001b[?25l\u001b[?25hdone\n"
          ],
          "name": "stdout"
        }
      ]
    },
    {
      "cell_type": "markdown",
      "metadata": {
        "id": "pXfEEWoqt40g",
        "colab_type": "text"
      },
      "source": [
        "# Get your code"
      ]
    },
    {
      "cell_type": "code",
      "metadata": {
        "id": "DdJG48g8xVMv",
        "colab_type": "code",
        "colab": {}
      },
      "source": [
        "rm -r /content/Machine_Learning"
      ],
      "execution_count": 0,
      "outputs": []
    },
    {
      "cell_type": "code",
      "metadata": {
        "id": "5bj3f1vrt07F",
        "colab_type": "code",
        "colab": {
          "base_uri": "https://localhost:8080/",
          "height": 167
        },
        "outputId": "b8bd16e1-7066-4c88-a6c4-2268b129d9bf"
      },
      "source": [
        "! git clone https://github.com/oke-aditya/Machine_Learning.git"
      ],
      "execution_count": 12,
      "outputs": [
        {
          "output_type": "stream",
          "text": [
            "Cloning into 'Machine_Learning'...\n",
            "remote: Enumerating objects: 191, done.\u001b[K\n",
            "remote: Counting objects: 100% (191/191), done.\u001b[K\n",
            "remote: Compressing objects: 100% (148/148), done.\u001b[K\n",
            "remote: Total 1042 (delta 73), reused 156 (delta 40), pack-reused 851\u001b[K\n",
            "Receiving objects: 100% (1042/1042), 148.40 MiB | 30.39 MiB/s, done.\n",
            "Resolving deltas: 100% (438/438), done.\n",
            "Checking out files: 100% (258/258), done.\n"
          ],
          "name": "stdout"
        }
      ]
    },
    {
      "cell_type": "code",
      "metadata": {
        "id": "b88Nr3XkuFDK",
        "colab_type": "code",
        "colab": {
          "base_uri": "https://localhost:8080/",
          "height": 1000
        },
        "outputId": "85fe967d-db47-4c92-852c-89ad44a88b65"
      },
      "source": [
        "!python /content/Machine_Learning/Learning_Pytorch_Lightning/train_tpu_mnist.py"
      ],
      "execution_count": 0,
      "outputs": [
        {
          "output_type": "stream",
          "text": [
            "GPU available: False, used: False\n",
            "No environment variable for node rank defined. Set as 0.\n",
            "training on 8 TPU cores\n",
            "2020-06-09 11:10:38.292095: I tensorflow/compiler/xla/xla_client/mesh_service.cc:208] Waiting to connect to client mesh master (300 seconds) localhost:59661\n",
            "2020-06-09 11:10:38.294127: I tensorflow/compiler/xla/xla_client/mesh_service.cc:208] Waiting to connect to client mesh master (300 seconds) localhost:59661\n",
            "2020-06-09 11:10:38.300990: I tensorflow/compiler/xla/xla_client/mesh_service.cc:208] Waiting to connect to client mesh master (300 seconds) localhost:59661\n",
            "2020-06-09 11:10:38.304342: I tensorflow/compiler/xla/xla_client/mesh_service.cc:208] Waiting to connect to client mesh master (300 seconds) localhost:59661\n",
            "2020-06-09 11:10:38.308945: I tensorflow/compiler/xla/xla_client/mesh_service.cc:208] Waiting to connect to client mesh master (300 seconds) localhost:59661\n",
            "2020-06-09 11:10:38.321736: I tensorflow/compiler/xla/xla_client/mesh_service.cc:208] Waiting to connect to client mesh master (300 seconds) localhost:59661\n",
            "2020-06-09 11:10:38.321736: I tensorflow/compiler/xla/xla_client/mesh_service.cc:208] Waiting to connect to client mesh master (300 seconds) localhost:59661\n",
            "E0609 11:10:48.815235893    2263 server_chttp2.cc:40]        {\"created\":\"@1591701048.815196681\",\"description\":\"Only 1 addresses added out of total 2 resolved\",\"file\":\"external/com_github_grpc_grpc/src/core/ext/transport/chttp2/server/chttp2_server.cc\",\"file_line\":404,\"referenced_errors\":[{\"created\":\"@1591701048.815193610\",\"description\":\"Address family not supported by protocol\",\"errno\":97,\"file\":\"external/com_github_grpc_grpc/src/core/lib/iomgr/socket_utils_common_posix.cc\",\"file_line\":420,\"os_error\":\"Address family not supported by protocol\",\"syscall\":\"socket\",\"target_address\":\"[::1]:59661\"}]}\n",
            "INIT TPU local core: 0, global rank: 0\n",
            "2020-06-09 11:10:48.961303: I tensorflow/compiler/xla/xla_client/computation_client.cc:197] Fetching mesh configuration for worker tpu_worker:0 from mesh service at localhost:59661\n",
            "INIT TPU local core: 2, global rank: 2\n",
            "2020-06-09 11:10:49.107868: I tensorflow/stream_executor/platform/default/dso_loader.cc:44] Successfully opened dynamic library libcudart.so.10.1\n",
            "2020-06-09 11:10:50.687776: I tensorflow/compiler/xla/xla_client/mesh_service.cc:208] Waiting to connect to client mesh master (300 seconds) localhost:59661\n",
            "2020-06-09 11:10:53.925000: I tensorflow/compiler/xla/xla_client/computation_client.cc:197] Fetching mesh configuration for worker tpu_worker:0 from mesh service at localhost:59661\n",
            "INIT TPU local core: 1, global rank: 1\n",
            "2020-06-09 11:10:54.072832: I tensorflow/compiler/xla/xla_client/computation_client.cc:197] Fetching mesh configuration for worker tpu_worker:0 from mesh service at localhost:59661\n",
            "INIT TPU local core: 6, global rank: 6\n",
            "2020-06-09 11:10:54.233244: I tensorflow/compiler/xla/xla_client/computation_client.cc:197] Fetching mesh configuration for worker tpu_worker:0 from mesh service at localhost:59661\n",
            "INIT TPU local core: 5, global rank: 5\n",
            "2020-06-09 11:10:54.384894: I tensorflow/compiler/xla/xla_client/computation_client.cc:197] Fetching mesh configuration for worker tpu_worker:0 from mesh service at localhost:59661\n",
            "INIT TPU local core: 4, global rank: 4\n",
            "2020-06-09 11:10:54.831766: I tensorflow/compiler/xla/xla_client/computation_client.cc:197] Fetching mesh configuration for worker tpu_worker:0 from mesh service at localhost:59661\n",
            "INIT TPU local core: 7, global rank: 7\n",
            "2020-06-09 11:10:55.096937: I tensorflow/compiler/xla/xla_client/computation_client.cc:197] Fetching mesh configuration for worker tpu_worker:0 from mesh service at localhost:59661\n",
            "INIT TPU local core: 3, global rank: 3\n",
            "\n",
            "  | Name | Type   | Params\n",
            "----------------------------\n",
            "0 | l1   | Linear | 7 K   \n",
            "Epoch 1:  84% 230/275 [00:15<00:03, 14.68it/s, loss=0.989, v_num=8]\n",
            "Validating: 0it [00:00, ?it/s]\u001b[A\n",
            "Epoch 1:  87% 240/275 [00:17<00:02, 13.75it/s, loss=0.989, v_num=8]\n",
            "Epoch 1:  91% 250/275 [00:17<00:01, 14.05it/s, loss=0.989, v_num=8]\n",
            "Epoch 1:  95% 260/275 [00:18<00:01, 14.06it/s, loss=0.989, v_num=8]\n",
            "Epoch 1:  98% 270/275 [00:19<00:00, 14.18it/s, loss=0.974, v_num=8]\n",
            "                                               \u001b[A/usr/local/lib/python3.6/dist-packages/pytorch_lightning/utilities/distributed.py:23: UserWarning: Did not find hyperparameters at model hparams. Saving checkpoint without hyperparameters.\n",
            "  warnings.warn(*args, **kwargs)\n",
            "Epoch 2:  84% 230/275 [00:14<00:02, 15.38it/s, loss=0.881, v_num=8]\n",
            "Validating: 0it [00:00, ?it/s]\u001b[A\n",
            "Epoch 2:  87% 240/275 [00:16<00:02, 14.42it/s, loss=0.881, v_num=8]\n",
            "Epoch 2:  91% 250/275 [00:16<00:01, 14.72it/s, loss=0.881, v_num=8]\n",
            "Epoch 2:  98% 270/275 [00:17<00:00, 15.61it/s, loss=0.876, v_num=8]\n",
            "Epoch 3:  84% 230/275 [00:14<00:02, 15.77it/s, loss=0.840, v_num=8]\n",
            "Validating: 0it [00:00, ?it/s]\u001b[A\n",
            "Epoch 3:  87% 240/275 [00:16<00:02, 14.71it/s, loss=0.840, v_num=8]\n",
            "Epoch 3:  91% 250/275 [00:16<00:01, 15.02it/s, loss=0.840, v_num=8]\n",
            "Epoch 3:  95% 260/275 [00:16<00:00, 15.45it/s, loss=0.840, v_num=8]\n",
            "Epoch 3:  98% 270/275 [00:16<00:00, 15.89it/s, loss=0.840, v_num=8]\n",
            "Epoch 4:  84% 230/275 [00:14<00:02, 15.93it/s, loss=0.818, v_num=8]\n",
            "Validating: 0it [00:00, ?it/s]\u001b[A\n",
            "Epoch 4:  87% 240/275 [00:16<00:02, 14.96it/s, loss=0.818, v_num=8]\n",
            "Epoch 4:  91% 250/275 [00:16<00:01, 15.27it/s, loss=0.818, v_num=8]\n",
            "Epoch 4:  95% 260/275 [00:16<00:00, 15.52it/s, loss=0.818, v_num=8]\n",
            "Epoch 4:  98% 270/275 [00:16<00:00, 16.00it/s, loss=0.820, v_num=8]\n",
            "Epoch 5:  84% 230/275 [00:14<00:02, 15.90it/s, loss=0.804, v_num=8]\n",
            "Validating: 0it [00:00, ?it/s]\u001b[A\n",
            "Epoch 5:  87% 240/275 [00:16<00:02, 14.96it/s, loss=0.804, v_num=8]\n",
            "Epoch 5:  91% 250/275 [00:16<00:01, 15.29it/s, loss=0.804, v_num=8]\n",
            "Epoch 5:  95% 260/275 [00:16<00:00, 15.54it/s, loss=0.804, v_num=8]\n",
            "Epoch 5:  98% 270/275 [00:16<00:00, 16.02it/s, loss=0.807, v_num=8]\n",
            "Epoch 6:  84% 230/275 [00:14<00:02, 15.52it/s, loss=0.795, v_num=8]\n",
            "Validating: 0it [00:00, ?it/s]\u001b[A\n",
            "Epoch 6:  87% 240/275 [00:16<00:02, 14.48it/s, loss=0.795, v_num=8]\n",
            "Epoch 6:  91% 250/275 [00:16<00:01, 14.85it/s, loss=0.795, v_num=8]\n",
            "Epoch 6:  95% 260/275 [00:17<00:00, 15.12it/s, loss=0.795, v_num=8]\n",
            "Epoch 6:  98% 270/275 [00:17<00:00, 15.60it/s, loss=0.798, v_num=8]\n",
            "Epoch 7:  84% 230/275 [00:14<00:02, 15.87it/s, loss=0.787, v_num=8]\n",
            "Validating: 0it [00:00, ?it/s]\u001b[A\n",
            "Epoch 7:  87% 240/275 [00:16<00:02, 14.93it/s, loss=0.787, v_num=8]\n",
            "Epoch 7:  91% 250/275 [00:16<00:01, 15.18it/s, loss=0.787, v_num=8]\n",
            "Epoch 7:  98% 270/275 [00:16<00:00, 15.99it/s, loss=0.791, v_num=8]\n",
            "Epoch 8:  84% 230/275 [00:14<00:02, 15.66it/s, loss=0.781, v_num=8]\n",
            "Validating: 0it [00:00, ?it/s]\u001b[A\n",
            "Epoch 8:  87% 240/275 [00:16<00:02, 14.55it/s, loss=0.781, v_num=8]\n",
            "Epoch 8:  91% 250/275 [00:16<00:01, 14.94it/s, loss=0.781, v_num=8]\n",
            "Epoch 8:  95% 260/275 [00:17<00:00, 15.26it/s, loss=0.781, v_num=8]\n",
            "Epoch 8:  98% 270/275 [00:17<00:00, 15.71it/s, loss=0.785, v_num=8]\n",
            "Epoch 9:  84% 230/275 [00:14<00:02, 15.89it/s, loss=0.776, v_num=8]\n",
            "Validating: 0it [00:00, ?it/s]\u001b[A\n",
            "Epoch 9:  87% 240/275 [00:16<00:02, 14.65it/s, loss=0.776, v_num=8]\n",
            "Epoch 9:  91% 250/275 [00:16<00:01, 15.01it/s, loss=0.776, v_num=8]\n",
            "Epoch 9:  98% 270/275 [00:16<00:00, 15.92it/s, loss=0.781, v_num=8]\n",
            "Epoch 10:  84% 230/275 [00:14<00:02, 15.82it/s, loss=0.773, v_num=8]\n",
            "Validating: 0it [00:00, ?it/s]\u001b[A\n",
            "Epoch 10:  87% 240/275 [00:16<00:02, 14.84it/s, loss=0.773, v_num=8]\n",
            "Epoch 10:  91% 250/275 [00:16<00:01, 15.09it/s, loss=0.773, v_num=8]\n",
            "Epoch 10:  98% 270/275 [00:16<00:00, 15.89it/s, loss=0.777, v_num=8]\n",
            "Epoch 10:  98% 270/275 [00:17<00:00, 15.87it/s, loss=0.777, v_num=8]\n"
          ],
          "name": "stdout"
        }
      ]
    },
    {
      "cell_type": "code",
      "metadata": {
        "id": "XhwxYmbrvhk3",
        "colab_type": "code",
        "colab": {}
      },
      "source": [
        ""
      ],
      "execution_count": 0,
      "outputs": []
    }
  ]
}