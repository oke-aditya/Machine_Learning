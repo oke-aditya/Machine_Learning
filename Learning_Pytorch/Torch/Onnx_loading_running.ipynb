{
  "nbformat": 4,
  "nbformat_minor": 0,
  "metadata": {
    "colab": {
      "name": "Onnx_loading_running.ipynb",
      "provenance": [],
      "toc_visible": true
    },
    "kernelspec": {
      "name": "python3",
      "display_name": "Python 3"
    }
  },
  "cells": [
    {
      "cell_type": "markdown",
      "metadata": {
        "id": "pQgN_uleatF-",
        "colab_type": "text"
      },
      "source": [
        "# Running Models with ONNX"
      ]
    },
    {
      "cell_type": "markdown",
      "metadata": {
        "id": "ggG-SvOFgc2C",
        "colab_type": "text"
      },
      "source": [
        "## Running A Dummy Input"
      ]
    },
    {
      "cell_type": "markdown",
      "metadata": {
        "id": "ou_dWxQ3a1ZP",
        "colab_type": "text"
      },
      "source": [
        "But before verifying the model’s output with ONNX Runtime, we will check the ONNX model with ONNX’s API. \n",
        "\n",
        "First, onnx.load(\"super_resolution.onnx\") will load the saved model and will output a onnx.ModelProto structure (a top-level file/container format for bundling a ML model. \n",
        "\n",
        "For more information onnx.proto documentation.). Then, onnx.checker.check_model(onnx_model) will verify the model’s structure and confirm that the model has a valid schema. \n",
        "\n",
        "The validity of the ONNX graph is verified by checking the model’s version, the graph’s structure, as well as the nodes and their inputs and outputs."
      ]
    },
    {
      "cell_type": "code",
      "metadata": {
        "id": "jAMH9UNVa7_a",
        "colab_type": "code",
        "colab": {
          "base_uri": "https://localhost:8080/",
          "height": 36
        },
        "outputId": "36320376-70f1-4ac8-ba51-42867a2b4ec0"
      },
      "source": [
        "! pip install -q onnx\n",
        "! pip install -q onnxruntime"
      ],
      "execution_count": 6,
      "outputs": [
        {
          "output_type": "stream",
          "text": [
            "\u001b[?25l\r\u001b[K     |                                | 10kB 12.9MB/s eta 0:00:01\r\u001b[K     |▏                               | 20kB 1.8MB/s eta 0:00:03\r\u001b[K     |▎                               | 30kB 2.3MB/s eta 0:00:02\r\u001b[K     |▍                               | 40kB 2.6MB/s eta 0:00:02\r\u001b[K     |▌                               | 51kB 2.0MB/s eta 0:00:02\r\u001b[K     |▌                               | 61kB 2.3MB/s eta 0:00:02\r\u001b[K     |▋                               | 71kB 2.5MB/s eta 0:00:02\r\u001b[K     |▊                               | 81kB 2.8MB/s eta 0:00:02\r\u001b[K     |▉                               | 92kB 3.0MB/s eta 0:00:02\r\u001b[K     |█                               | 102kB 2.8MB/s eta 0:00:02\r\u001b[K     |█                               | 112kB 2.8MB/s eta 0:00:02\r\u001b[K     |█                               | 122kB 2.8MB/s eta 0:00:02\r\u001b[K     |█▏                              | 133kB 2.8MB/s eta 0:00:02\r\u001b[K     |█▎                              | 143kB 2.8MB/s eta 0:00:02\r\u001b[K     |█▍                              | 153kB 2.8MB/s eta 0:00:02\r\u001b[K     |█▍                              | 163kB 2.8MB/s eta 0:00:02\r\u001b[K     |█▌                              | 174kB 2.8MB/s eta 0:00:02\r\u001b[K     |█▋                              | 184kB 2.8MB/s eta 0:00:02\r\u001b[K     |█▊                              | 194kB 2.8MB/s eta 0:00:02\r\u001b[K     |█▉                              | 204kB 2.8MB/s eta 0:00:02\r\u001b[K     |█▉                              | 215kB 2.8MB/s eta 0:00:02\r\u001b[K     |██                              | 225kB 2.8MB/s eta 0:00:02\r\u001b[K     |██                              | 235kB 2.8MB/s eta 0:00:02\r\u001b[K     |██▏                             | 245kB 2.8MB/s eta 0:00:02\r\u001b[K     |██▎                             | 256kB 2.8MB/s eta 0:00:02\r\u001b[K     |██▍                             | 266kB 2.8MB/s eta 0:00:02\r\u001b[K     |██▍                             | 276kB 2.8MB/s eta 0:00:02\r\u001b[K     |██▌                             | 286kB 2.8MB/s eta 0:00:02\r\u001b[K     |██▋                             | 296kB 2.8MB/s eta 0:00:02\r\u001b[K     |██▊                             | 307kB 2.8MB/s eta 0:00:02\r\u001b[K     |██▉                             | 317kB 2.8MB/s eta 0:00:02\r\u001b[K     |██▉                             | 327kB 2.8MB/s eta 0:00:02\r\u001b[K     |███                             | 337kB 2.8MB/s eta 0:00:02\r\u001b[K     |███                             | 348kB 2.8MB/s eta 0:00:02\r\u001b[K     |███▏                            | 358kB 2.8MB/s eta 0:00:02\r\u001b[K     |███▎                            | 368kB 2.8MB/s eta 0:00:02\r\u001b[K     |███▎                            | 378kB 2.8MB/s eta 0:00:02\r\u001b[K     |███▍                            | 389kB 2.8MB/s eta 0:00:02\r\u001b[K     |███▌                            | 399kB 2.8MB/s eta 0:00:02\r\u001b[K     |███▋                            | 409kB 2.8MB/s eta 0:00:02\r\u001b[K     |███▊                            | 419kB 2.8MB/s eta 0:00:02\r\u001b[K     |███▊                            | 430kB 2.8MB/s eta 0:00:02\r\u001b[K     |███▉                            | 440kB 2.8MB/s eta 0:00:02\r\u001b[K     |████                            | 450kB 2.8MB/s eta 0:00:02\r\u001b[K     |████                            | 460kB 2.8MB/s eta 0:00:02\r\u001b[K     |████▏                           | 471kB 2.8MB/s eta 0:00:02\r\u001b[K     |████▏                           | 481kB 2.8MB/s eta 0:00:02\r\u001b[K     |████▎                           | 491kB 2.8MB/s eta 0:00:02\r\u001b[K     |████▍                           | 501kB 2.8MB/s eta 0:00:02\r\u001b[K     |████▌                           | 512kB 2.8MB/s eta 0:00:02\r\u001b[K     |████▋                           | 522kB 2.8MB/s eta 0:00:02\r\u001b[K     |████▊                           | 532kB 2.8MB/s eta 0:00:02\r\u001b[K     |████▊                           | 542kB 2.8MB/s eta 0:00:02\r\u001b[K     |████▉                           | 552kB 2.8MB/s eta 0:00:02\r\u001b[K     |█████                           | 563kB 2.8MB/s eta 0:00:02\r\u001b[K     |█████                           | 573kB 2.8MB/s eta 0:00:02\r\u001b[K     |█████▏                          | 583kB 2.8MB/s eta 0:00:02\r\u001b[K     |█████▏                          | 593kB 2.8MB/s eta 0:00:02\r\u001b[K     |█████▎                          | 604kB 2.8MB/s eta 0:00:02\r\u001b[K     |█████▍                          | 614kB 2.8MB/s eta 0:00:02\r\u001b[K     |█████▌                          | 624kB 2.8MB/s eta 0:00:02\r\u001b[K     |█████▋                          | 634kB 2.8MB/s eta 0:00:02\r\u001b[K     |█████▋                          | 645kB 2.8MB/s eta 0:00:02\r\u001b[K     |█████▊                          | 655kB 2.8MB/s eta 0:00:02\r\u001b[K     |█████▉                          | 665kB 2.8MB/s eta 0:00:02\r\u001b[K     |██████                          | 675kB 2.8MB/s eta 0:00:02\r\u001b[K     |██████                          | 686kB 2.8MB/s eta 0:00:02\r\u001b[K     |██████                          | 696kB 2.8MB/s eta 0:00:02\r\u001b[K     |██████▏                         | 706kB 2.8MB/s eta 0:00:02\r\u001b[K     |██████▎                         | 716kB 2.8MB/s eta 0:00:02\r\u001b[K     |██████▍                         | 727kB 2.8MB/s eta 0:00:02\r\u001b[K     |██████▌                         | 737kB 2.8MB/s eta 0:00:02\r\u001b[K     |██████▌                         | 747kB 2.8MB/s eta 0:00:02\r\u001b[K     |██████▋                         | 757kB 2.8MB/s eta 0:00:02\r\u001b[K     |██████▊                         | 768kB 2.8MB/s eta 0:00:02\r\u001b[K     |██████▉                         | 778kB 2.8MB/s eta 0:00:02\r\u001b[K     |███████                         | 788kB 2.8MB/s eta 0:00:02\r\u001b[K     |███████                         | 798kB 2.8MB/s eta 0:00:02\r\u001b[K     |███████                         | 808kB 2.8MB/s eta 0:00:02\r\u001b[K     |███████▏                        | 819kB 2.8MB/s eta 0:00:02\r\u001b[K     |███████▎                        | 829kB 2.8MB/s eta 0:00:01\r\u001b[K     |███████▍                        | 839kB 2.8MB/s eta 0:00:01\r\u001b[K     |███████▌                        | 849kB 2.8MB/s eta 0:00:01\r\u001b[K     |███████▌                        | 860kB 2.8MB/s eta 0:00:01\r\u001b[K     |███████▋                        | 870kB 2.8MB/s eta 0:00:01\r\u001b[K     |███████▊                        | 880kB 2.8MB/s eta 0:00:01\r\u001b[K     |███████▉                        | 890kB 2.8MB/s eta 0:00:01\r\u001b[K     |████████                        | 901kB 2.8MB/s eta 0:00:01\r\u001b[K     |████████                        | 911kB 2.8MB/s eta 0:00:01\r\u001b[K     |████████                        | 921kB 2.8MB/s eta 0:00:01\r\u001b[K     |████████▏                       | 931kB 2.8MB/s eta 0:00:01\r\u001b[K     |████████▎                       | 942kB 2.8MB/s eta 0:00:01\r\u001b[K     |████████▍                       | 952kB 2.8MB/s eta 0:00:01\r\u001b[K     |████████▍                       | 962kB 2.8MB/s eta 0:00:01\r\u001b[K     |████████▌                       | 972kB 2.8MB/s eta 0:00:01\r\u001b[K     |████████▋                       | 983kB 2.8MB/s eta 0:00:01\r\u001b[K     |████████▊                       | 993kB 2.8MB/s eta 0:00:01\r\u001b[K     |████████▉                       | 1.0MB 2.8MB/s eta 0:00:01\r\u001b[K     |████████▉                       | 1.0MB 2.8MB/s eta 0:00:01\r\u001b[K     |█████████                       | 1.0MB 2.8MB/s eta 0:00:01\r\u001b[K     |█████████                       | 1.0MB 2.8MB/s eta 0:00:01\r\u001b[K     |█████████▏                      | 1.0MB 2.8MB/s eta 0:00:01\r\u001b[K     |█████████▎                      | 1.1MB 2.8MB/s eta 0:00:01\r\u001b[K     |█████████▍                      | 1.1MB 2.8MB/s eta 0:00:01\r\u001b[K     |█████████▍                      | 1.1MB 2.8MB/s eta 0:00:01\r\u001b[K     |█████████▌                      | 1.1MB 2.8MB/s eta 0:00:01\r\u001b[K     |█████████▋                      | 1.1MB 2.8MB/s eta 0:00:01\r\u001b[K     |█████████▊                      | 1.1MB 2.8MB/s eta 0:00:01\r\u001b[K     |█████████▉                      | 1.1MB 2.8MB/s eta 0:00:01\r\u001b[K     |█████████▉                      | 1.1MB 2.8MB/s eta 0:00:01\r\u001b[K     |██████████                      | 1.1MB 2.8MB/s eta 0:00:01\r\u001b[K     |██████████                      | 1.1MB 2.8MB/s eta 0:00:01\r\u001b[K     |██████████▏                     | 1.2MB 2.8MB/s eta 0:00:01\r\u001b[K     |██████████▎                     | 1.2MB 2.8MB/s eta 0:00:01\r\u001b[K     |██████████▎                     | 1.2MB 2.8MB/s eta 0:00:01\r\u001b[K     |██████████▍                     | 1.2MB 2.8MB/s eta 0:00:01\r\u001b[K     |██████████▌                     | 1.2MB 2.8MB/s eta 0:00:01\r\u001b[K     |██████████▋                     | 1.2MB 2.8MB/s eta 0:00:01\r\u001b[K     |██████████▊                     | 1.2MB 2.8MB/s eta 0:00:01\r\u001b[K     |██████████▊                     | 1.2MB 2.8MB/s eta 0:00:01\r\u001b[K     |██████████▉                     | 1.2MB 2.8MB/s eta 0:00:01\r\u001b[K     |███████████                     | 1.2MB 2.8MB/s eta 0:00:01\r\u001b[K     |███████████                     | 1.3MB 2.8MB/s eta 0:00:01\r\u001b[K     |███████████▏                    | 1.3MB 2.8MB/s eta 0:00:01\r\u001b[K     |███████████▏                    | 1.3MB 2.8MB/s eta 0:00:01\r\u001b[K     |███████████▎                    | 1.3MB 2.8MB/s eta 0:00:01\r\u001b[K     |███████████▍                    | 1.3MB 2.8MB/s eta 0:00:01\r\u001b[K     |███████████▌                    | 1.3MB 2.8MB/s eta 0:00:01\r\u001b[K     |███████████▋                    | 1.3MB 2.8MB/s eta 0:00:01\r\u001b[K     |███████████▊                    | 1.3MB 2.8MB/s eta 0:00:01\r\u001b[K     |███████████▊                    | 1.3MB 2.8MB/s eta 0:00:01\r\u001b[K     |███████████▉                    | 1.4MB 2.8MB/s eta 0:00:01\r\u001b[K     |████████████                    | 1.4MB 2.8MB/s eta 0:00:01\r\u001b[K     |████████████                    | 1.4MB 2.8MB/s eta 0:00:01\r\u001b[K     |████████████▏                   | 1.4MB 2.8MB/s eta 0:00:01\r\u001b[K     |████████████▏                   | 1.4MB 2.8MB/s eta 0:00:01\r\u001b[K     |████████████▎                   | 1.4MB 2.8MB/s eta 0:00:01\r\u001b[K     |████████████▍                   | 1.4MB 2.8MB/s eta 0:00:01\r\u001b[K     |████████████▌                   | 1.4MB 2.8MB/s eta 0:00:01\r\u001b[K     |████████████▋                   | 1.4MB 2.8MB/s eta 0:00:01\r\u001b[K     |████████████▋                   | 1.4MB 2.8MB/s eta 0:00:01\r\u001b[K     |████████████▊                   | 1.5MB 2.8MB/s eta 0:00:01\r\u001b[K     |████████████▉                   | 1.5MB 2.8MB/s eta 0:00:01\r\u001b[K     |█████████████                   | 1.5MB 2.8MB/s eta 0:00:01\r\u001b[K     |█████████████                   | 1.5MB 2.8MB/s eta 0:00:01\r\u001b[K     |█████████████                   | 1.5MB 2.8MB/s eta 0:00:01\r\u001b[K     |█████████████▏                  | 1.5MB 2.8MB/s eta 0:00:01\r\u001b[K     |█████████████▎                  | 1.5MB 2.8MB/s eta 0:00:01\r\u001b[K     |█████████████▍                  | 1.5MB 2.8MB/s eta 0:00:01\r\u001b[K     |█████████████▌                  | 1.5MB 2.8MB/s eta 0:00:01\r\u001b[K     |█████████████▌                  | 1.5MB 2.8MB/s eta 0:00:01\r\u001b[K     |█████████████▋                  | 1.6MB 2.8MB/s eta 0:00:01\r\u001b[K     |█████████████▊                  | 1.6MB 2.8MB/s eta 0:00:01\r\u001b[K     |█████████████▉                  | 1.6MB 2.8MB/s eta 0:00:01\r\u001b[K     |██████████████                  | 1.6MB 2.8MB/s eta 0:00:01\r\u001b[K     |██████████████                  | 1.6MB 2.8MB/s eta 0:00:01\r\u001b[K     |██████████████                  | 1.6MB 2.8MB/s eta 0:00:01\r\u001b[K     |██████████████▏                 | 1.6MB 2.8MB/s eta 0:00:01\r\u001b[K     |██████████████▎                 | 1.6MB 2.8MB/s eta 0:00:01\r\u001b[K     |██████████████▍                 | 1.6MB 2.8MB/s eta 0:00:01\r\u001b[K     |██████████████▌                 | 1.6MB 2.8MB/s eta 0:00:01\r\u001b[K     |██████████████▌                 | 1.7MB 2.8MB/s eta 0:00:01\r\u001b[K     |██████████████▋                 | 1.7MB 2.8MB/s eta 0:00:01\r\u001b[K     |██████████████▊                 | 1.7MB 2.8MB/s eta 0:00:01\r\u001b[K     |██████████████▉                 | 1.7MB 2.8MB/s eta 0:00:01\r\u001b[K     |███████████████                 | 1.7MB 2.8MB/s eta 0:00:01\r\u001b[K     |███████████████                 | 1.7MB 2.8MB/s eta 0:00:01\r\u001b[K     |███████████████                 | 1.7MB 2.8MB/s eta 0:00:01\r\u001b[K     |███████████████▏                | 1.7MB 2.8MB/s eta 0:00:01\r\u001b[K     |███████████████▎                | 1.7MB 2.8MB/s eta 0:00:01\r\u001b[K     |███████████████▍                | 1.8MB 2.8MB/s eta 0:00:01\r\u001b[K     |███████████████▍                | 1.8MB 2.8MB/s eta 0:00:01\r\u001b[K     |███████████████▌                | 1.8MB 2.8MB/s eta 0:00:01\r\u001b[K     |███████████████▋                | 1.8MB 2.8MB/s eta 0:00:01\r\u001b[K     |███████████████▊                | 1.8MB 2.8MB/s eta 0:00:01\r\u001b[K     |███████████████▉                | 1.8MB 2.8MB/s eta 0:00:01\r\u001b[K     |███████████████▉                | 1.8MB 2.8MB/s eta 0:00:01\r\u001b[K     |████████████████                | 1.8MB 2.8MB/s eta 0:00:01\r\u001b[K     |████████████████                | 1.8MB 2.8MB/s eta 0:00:01\r\u001b[K     |████████████████▏               | 1.8MB 2.8MB/s eta 0:00:01\r\u001b[K     |████████████████▎               | 1.9MB 2.8MB/s eta 0:00:01\r\u001b[K     |████████████████▍               | 1.9MB 2.8MB/s eta 0:00:01\r\u001b[K     |████████████████▍               | 1.9MB 2.8MB/s eta 0:00:01\r\u001b[K     |████████████████▌               | 1.9MB 2.8MB/s eta 0:00:01\r\u001b[K     |████████████████▋               | 1.9MB 2.8MB/s eta 0:00:01\r\u001b[K     |████████████████▊               | 1.9MB 2.8MB/s eta 0:00:01\r\u001b[K     |████████████████▉               | 1.9MB 2.8MB/s eta 0:00:01\r\u001b[K     |████████████████▉               | 1.9MB 2.8MB/s eta 0:00:01\r\u001b[K     |█████████████████               | 1.9MB 2.8MB/s eta 0:00:01\r\u001b[K     |█████████████████               | 1.9MB 2.8MB/s eta 0:00:01\r\u001b[K     |█████████████████▏              | 2.0MB 2.8MB/s eta 0:00:01\r\u001b[K     |█████████████████▎              | 2.0MB 2.8MB/s eta 0:00:01\r\u001b[K     |█████████████████▎              | 2.0MB 2.8MB/s eta 0:00:01\r\u001b[K     |█████████████████▍              | 2.0MB 2.8MB/s eta 0:00:01\r\u001b[K     |█████████████████▌              | 2.0MB 2.8MB/s eta 0:00:01\r\u001b[K     |█████████████████▋              | 2.0MB 2.8MB/s eta 0:00:01\r\u001b[K     |█████████████████▊              | 2.0MB 2.8MB/s eta 0:00:01\r\u001b[K     |█████████████████▊              | 2.0MB 2.8MB/s eta 0:00:01\r\u001b[K     |█████████████████▉              | 2.0MB 2.8MB/s eta 0:00:01\r\u001b[K     |██████████████████              | 2.0MB 2.8MB/s eta 0:00:01\r\u001b[K     |██████████████████              | 2.1MB 2.8MB/s eta 0:00:01\r\u001b[K     |██████████████████▏             | 2.1MB 2.8MB/s eta 0:00:01\r\u001b[K     |██████████████████▏             | 2.1MB 2.8MB/s eta 0:00:01\r\u001b[K     |██████████████████▎             | 2.1MB 2.8MB/s eta 0:00:01\r\u001b[K     |██████████████████▍             | 2.1MB 2.8MB/s eta 0:00:01\r\u001b[K     |██████████████████▌             | 2.1MB 2.8MB/s eta 0:00:01\r\u001b[K     |██████████████████▋             | 2.1MB 2.8MB/s eta 0:00:01\r\u001b[K     |██████████████████▊             | 2.1MB 2.8MB/s eta 0:00:01\r\u001b[K     |██████████████████▊             | 2.1MB 2.8MB/s eta 0:00:01\r\u001b[K     |██████████████████▉             | 2.2MB 99kB/s eta 0:00:16\r\u001b[K     |███████████████████             | 2.2MB 99kB/s eta 0:00:15\r\u001b[K     |███████████████████             | 2.2MB 99kB/s eta 0:00:15\r\u001b[K     |███████████████████▏            | 2.2MB 99kB/s eta 0:00:15\r\u001b[K     |███████████████████▏            | 2.2MB 99kB/s eta 0:00:15\r\u001b[K     |███████████████████▎            | 2.2MB 99kB/s eta 0:00:15\r\u001b[K     |███████████████████▍            | 2.2MB 99kB/s eta 0:00:15\r\u001b[K     |███████████████████▌            | 2.2MB 99kB/s eta 0:00:15\r\u001b[K     |███████████████████▋            | 2.2MB 99kB/s eta 0:00:15\r\u001b[K     |███████████████████▋            | 2.2MB 99kB/s eta 0:00:15\r\u001b[K     |███████████████████▊            | 2.3MB 99kB/s eta 0:00:15\r\u001b[K     |███████████████████▉            | 2.3MB 99kB/s eta 0:00:14\r\u001b[K     |████████████████████            | 2.3MB 99kB/s eta 0:00:14\r\u001b[K     |████████████████████            | 2.3MB 99kB/s eta 0:00:14\r\u001b[K     |████████████████████            | 2.3MB 99kB/s eta 0:00:14\r\u001b[K     |████████████████████▏           | 2.3MB 99kB/s eta 0:00:14\r\u001b[K     |████████████████████▎           | 2.3MB 99kB/s eta 0:00:14\r\u001b[K     |████████████████████▍           | 2.3MB 99kB/s eta 0:00:14\r\u001b[K     |████████████████████▌           | 2.3MB 99kB/s eta 0:00:14\r\u001b[K     |████████████████████▌           | 2.3MB 99kB/s eta 0:00:14\r\u001b[K     |████████████████████▋           | 2.4MB 99kB/s eta 0:00:14\r\u001b[K     |████████████████████▊           | 2.4MB 99kB/s eta 0:00:13\r\u001b[K     |████████████████████▉           | 2.4MB 99kB/s eta 0:00:13\r\u001b[K     |█████████████████████           | 2.4MB 99kB/s eta 0:00:13\r\u001b[K     |█████████████████████           | 2.4MB 99kB/s eta 0:00:13\r\u001b[K     |█████████████████████           | 2.4MB 99kB/s eta 0:00:13\r\u001b[K     |█████████████████████▏          | 2.4MB 99kB/s eta 0:00:13\r\u001b[K     |█████████████████████▎          | 2.4MB 99kB/s eta 0:00:13\r\u001b[K     |█████████████████████▍          | 2.4MB 99kB/s eta 0:00:13\r\u001b[K     |█████████████████████▌          | 2.4MB 99kB/s eta 0:00:13\r\u001b[K     |█████████████████████▌          | 2.5MB 99kB/s eta 0:00:12\r\u001b[K     |█████████████████████▋          | 2.5MB 99kB/s eta 0:00:12\r\u001b[K     |█████████████████████▊          | 2.5MB 99kB/s eta 0:00:12\r\u001b[K     |█████████████████████▉          | 2.5MB 99kB/s eta 0:00:12\r\u001b[K     |██████████████████████          | 2.5MB 99kB/s eta 0:00:12\r\u001b[K     |██████████████████████          | 2.5MB 99kB/s eta 0:00:12\r\u001b[K     |██████████████████████          | 2.5MB 99kB/s eta 0:00:12\r\u001b[K     |██████████████████████▏         | 2.5MB 99kB/s eta 0:00:12\r\u001b[K     |██████████████████████▎         | 2.5MB 99kB/s eta 0:00:12\r\u001b[K     |██████████████████████▍         | 2.5MB 99kB/s eta 0:00:12\r\u001b[K     |██████████████████████▍         | 2.6MB 99kB/s eta 0:00:11\r\u001b[K     |██████████████████████▌         | 2.6MB 99kB/s eta 0:00:11\r\u001b[K     |██████████████████████▋         | 2.6MB 99kB/s eta 0:00:11\r\u001b[K     |██████████████████████▊         | 2.6MB 99kB/s eta 0:00:11\r\u001b[K     |██████████████████████▉         | 2.6MB 99kB/s eta 0:00:11\r\u001b[K     |██████████████████████▉         | 2.6MB 99kB/s eta 0:00:11\r\u001b[K     |███████████████████████         | 2.6MB 99kB/s eta 0:00:11\r\u001b[K     |███████████████████████         | 2.6MB 99kB/s eta 0:00:11\r\u001b[K     |███████████████████████▏        | 2.6MB 99kB/s eta 0:00:11\r\u001b[K     |███████████████████████▎        | 2.7MB 99kB/s eta 0:00:11\r\u001b[K     |███████████████████████▍        | 2.7MB 99kB/s eta 0:00:10\r\u001b[K     |███████████████████████▍        | 2.7MB 99kB/s eta 0:00:10\r\u001b[K     |███████████████████████▌        | 2.7MB 99kB/s eta 0:00:10\r\u001b[K     |███████████████████████▋        | 2.7MB 99kB/s eta 0:00:10\r\u001b[K     |███████████████████████▊        | 2.7MB 99kB/s eta 0:00:10\r\u001b[K     |███████████████████████▉        | 2.7MB 99kB/s eta 0:00:10\r\u001b[K     |███████████████████████▉        | 2.7MB 99kB/s eta 0:00:10\r\u001b[K     |████████████████████████        | 2.7MB 99kB/s eta 0:00:10\r\u001b[K     |████████████████████████        | 2.7MB 99kB/s eta 0:00:10\r\u001b[K     |████████████████████████▏       | 2.8MB 99kB/s eta 0:00:10\r\u001b[K     |████████████████████████▎       | 2.8MB 99kB/s eta 0:00:09\r\u001b[K     |████████████████████████▎       | 2.8MB 99kB/s eta 0:00:09\r\u001b[K     |████████████████████████▍       | 2.8MB 99kB/s eta 0:00:09\r\u001b[K     |████████████████████████▌       | 2.8MB 99kB/s eta 0:00:09\r\u001b[K     |████████████████████████▋       | 2.8MB 99kB/s eta 0:00:09\r\u001b[K     |████████████████████████▊       | 2.8MB 99kB/s eta 0:00:09\r\u001b[K     |████████████████████████▊       | 2.8MB 99kB/s eta 0:00:09\r\u001b[K     |████████████████████████▉       | 2.8MB 99kB/s eta 0:00:09\r\u001b[K     |█████████████████████████       | 2.8MB 99kB/s eta 0:00:09\r\u001b[K     |█████████████████████████       | 2.9MB 99kB/s eta 0:00:08\r\u001b[K     |█████████████████████████▏      | 2.9MB 99kB/s eta 0:00:08\r\u001b[K     |█████████████████████████▏      | 2.9MB 99kB/s eta 0:00:08\r\u001b[K     |█████████████████████████▎      | 2.9MB 99kB/s eta 0:00:08\r\u001b[K     |█████████████████████████▍      | 2.9MB 99kB/s eta 0:00:08\r\u001b[K     |█████████████████████████▌      | 2.9MB 99kB/s eta 0:00:08\r\u001b[K     |█████████████████████████▋      | 2.9MB 99kB/s eta 0:00:08\r\u001b[K     |█████████████████████████▊      | 2.9MB 99kB/s eta 0:00:08\r\u001b[K     |█████████████████████████▊      | 2.9MB 99kB/s eta 0:00:08\r\u001b[K     |█████████████████████████▉      | 2.9MB 99kB/s eta 0:00:08\r\u001b[K     |██████████████████████████      | 3.0MB 99kB/s eta 0:00:07\r\u001b[K     |██████████████████████████      | 3.0MB 99kB/s eta 0:00:07\r\u001b[K     |██████████████████████████▏     | 3.0MB 99kB/s eta 0:00:07\r\u001b[K     |██████████████████████████▏     | 3.0MB 99kB/s eta 0:00:07\r\u001b[K     |██████████████████████████▎     | 3.0MB 99kB/s eta 0:00:07\r\u001b[K     |██████████████████████████▍     | 3.0MB 99kB/s eta 0:00:07\r\u001b[K     |██████████████████████████▌     | 3.0MB 99kB/s eta 0:00:07\r\u001b[K     |██████████████████████████▋     | 3.0MB 99kB/s eta 0:00:07\r\u001b[K     |██████████████████████████▋     | 3.0MB 99kB/s eta 0:00:07\r\u001b[K     |██████████████████████████▊     | 3.1MB 99kB/s eta 0:00:07\r\u001b[K     |██████████████████████████▉     | 3.1MB 99kB/s eta 0:00:06\r\u001b[K     |███████████████████████████     | 3.1MB 99kB/s eta 0:00:06\r\u001b[K     |███████████████████████████     | 3.1MB 99kB/s eta 0:00:06\r\u001b[K     |███████████████████████████     | 3.1MB 99kB/s eta 0:00:06\r\u001b[K     |███████████████████████████▏    | 3.1MB 99kB/s eta 0:00:06\r\u001b[K     |███████████████████████████▎    | 3.1MB 99kB/s eta 0:00:06\r\u001b[K     |███████████████████████████▍    | 3.1MB 99kB/s eta 0:00:06\r\u001b[K     |███████████████████████████▌    | 3.1MB 99kB/s eta 0:00:06\r\u001b[K     |███████████████████████████▌    | 3.1MB 99kB/s eta 0:00:06\r\u001b[K     |███████████████████████████▋    | 3.2MB 99kB/s eta 0:00:05\r\u001b[K     |███████████████████████████▊    | 3.2MB 99kB/s eta 0:00:05\r\u001b[K     |███████████████████████████▉    | 3.2MB 99kB/s eta 0:00:05\r\u001b[K     |████████████████████████████    | 3.2MB 99kB/s eta 0:00:05\r\u001b[K     |████████████████████████████    | 3.2MB 99kB/s eta 0:00:05\r\u001b[K     |████████████████████████████    | 3.2MB 99kB/s eta 0:00:05\r\u001b[K     |████████████████████████████▏   | 3.2MB 99kB/s eta 0:00:05\r\u001b[K     |████████████████████████████▎   | 3.2MB 99kB/s eta 0:00:05\r\u001b[K     |████████████████████████████▍   | 3.2MB 99kB/s eta 0:00:05\r\u001b[K     |████████████████████████████▌   | 3.2MB 99kB/s eta 0:00:05\r\u001b[K     |████████████████████████████▌   | 3.3MB 99kB/s eta 0:00:04\r\u001b[K     |████████████████████████████▋   | 3.3MB 99kB/s eta 0:00:04\r\u001b[K     |████████████████████████████▊   | 3.3MB 99kB/s eta 0:00:04\r\u001b[K     |████████████████████████████▉   | 3.3MB 99kB/s eta 0:00:04\r\u001b[K     |█████████████████████████████   | 3.3MB 99kB/s eta 0:00:04\r\u001b[K     |█████████████████████████████   | 3.3MB 99kB/s eta 0:00:04\r\u001b[K     |█████████████████████████████   | 3.3MB 99kB/s eta 0:00:04\r\u001b[K     |█████████████████████████████▏  | 3.3MB 99kB/s eta 0:00:04\r\u001b[K     |█████████████████████████████▎  | 3.3MB 99kB/s eta 0:00:04\r\u001b[K     |█████████████████████████████▍  | 3.3MB 99kB/s eta 0:00:04\r\u001b[K     |█████████████████████████████▍  | 3.4MB 99kB/s eta 0:00:03\r\u001b[K     |█████████████████████████████▌  | 3.4MB 99kB/s eta 0:00:03\r\u001b[K     |█████████████████████████████▋  | 3.4MB 99kB/s eta 0:00:03\r\u001b[K     |█████████████████████████████▊  | 3.4MB 99kB/s eta 0:00:03\r\u001b[K     |█████████████████████████████▉  | 3.4MB 99kB/s eta 0:00:03\r\u001b[K     |█████████████████████████████▉  | 3.4MB 99kB/s eta 0:00:03\r\u001b[K     |██████████████████████████████  | 3.4MB 99kB/s eta 0:00:03\r\u001b[K     |██████████████████████████████  | 3.4MB 99kB/s eta 0:00:03\r\u001b[K     |██████████████████████████████▏ | 3.4MB 99kB/s eta 0:00:03\r\u001b[K     |██████████████████████████████▎ | 3.5MB 99kB/s eta 0:00:03\r\u001b[K     |██████████████████████████████▍ | 3.5MB 99kB/s eta 0:00:02\r\u001b[K     |██████████████████████████████▍ | 3.5MB 99kB/s eta 0:00:02\r\u001b[K     |██████████████████████████████▌ | 3.5MB 99kB/s eta 0:00:02\r\u001b[K     |██████████████████████████████▋ | 3.5MB 99kB/s eta 0:00:02\r\u001b[K     |██████████████████████████████▊ | 3.5MB 99kB/s eta 0:00:02\r\u001b[K     |██████████████████████████████▉ | 3.5MB 99kB/s eta 0:00:02\r\u001b[K     |██████████████████████████████▉ | 3.5MB 99kB/s eta 0:00:02\r\u001b[K     |███████████████████████████████ | 3.5MB 99kB/s eta 0:00:02\r\u001b[K     |███████████████████████████████ | 3.5MB 99kB/s eta 0:00:02\r\u001b[K     |███████████████████████████████▏| 3.6MB 99kB/s eta 0:00:01\r\u001b[K     |███████████████████████████████▎| 3.6MB 99kB/s eta 0:00:01\r\u001b[K     |███████████████████████████████▎| 3.6MB 99kB/s eta 0:00:01\r\u001b[K     |███████████████████████████████▍| 3.6MB 99kB/s eta 0:00:01\r\u001b[K     |███████████████████████████████▌| 3.6MB 99kB/s eta 0:00:01\r\u001b[K     |███████████████████████████████▋| 3.6MB 99kB/s eta 0:00:01\r\u001b[K     |███████████████████████████████▊| 3.6MB 99kB/s eta 0:00:01\r\u001b[K     |███████████████████████████████▊| 3.6MB 99kB/s eta 0:00:01\r\u001b[K     |███████████████████████████████▉| 3.6MB 99kB/s eta 0:00:01\r\u001b[K     |████████████████████████████████| 3.6MB 99kB/s eta 0:00:01\r\u001b[K     |████████████████████████████████| 3.7MB 99kB/s \n",
            "\u001b[?25h"
          ],
          "name": "stdout"
        }
      ]
    },
    {
      "cell_type": "code",
      "metadata": {
        "id": "lmHVs4upapbC",
        "colab_type": "code",
        "colab": {}
      },
      "source": [
        "import onnx\n",
        "import onnxruntime"
      ],
      "execution_count": 0,
      "outputs": []
    },
    {
      "cell_type": "code",
      "metadata": {
        "id": "4cG-jRs7fz2z",
        "colab_type": "code",
        "colab": {}
      },
      "source": [
        "from PIL import Image\n",
        "import torchvision.transforms as transforms"
      ],
      "execution_count": 0,
      "outputs": []
    },
    {
      "cell_type": "code",
      "metadata": {
        "id": "3PGqleEYgtcR",
        "colab_type": "code",
        "colab": {}
      },
      "source": [
        "import numpy as np"
      ],
      "execution_count": 0,
      "outputs": []
    },
    {
      "cell_type": "code",
      "metadata": {
        "id": "CNEw_Bode5Em",
        "colab_type": "code",
        "colab": {}
      },
      "source": [
        "import torch"
      ],
      "execution_count": 0,
      "outputs": []
    },
    {
      "cell_type": "code",
      "metadata": {
        "id": "7H_3V09Ja6yJ",
        "colab_type": "code",
        "colab": {}
      },
      "source": [
        "onnx_model = onnx.load(\"super_resolution.onnx\")\n",
        "onnx.checker.check_model(onnx_model)"
      ],
      "execution_count": 0,
      "outputs": []
    },
    {
      "cell_type": "code",
      "metadata": {
        "id": "tqPa0MAOckcN",
        "colab_type": "code",
        "colab": {}
      },
      "source": [
        "ort_session = onnxruntime.InferenceSession(\"super_resolution.onnx\")"
      ],
      "execution_count": 0,
      "outputs": []
    },
    {
      "cell_type": "code",
      "metadata": {
        "id": "vffZsOFYeubT",
        "colab_type": "code",
        "colab": {}
      },
      "source": [
        "def to_numpy(tensor):\n",
        "    return tensor.detach().cpu().numpy() if tensor.requires_grad else tensor.cpu().numpy()\n"
      ],
      "execution_count": 0,
      "outputs": []
    },
    {
      "cell_type": "code",
      "metadata": {
        "id": "LLLCXnYfe85j",
        "colab_type": "code",
        "colab": {}
      },
      "source": [
        "batch_size = 1"
      ],
      "execution_count": 0,
      "outputs": []
    },
    {
      "cell_type": "code",
      "metadata": {
        "id": "uPTYFuNce0Ux",
        "colab_type": "code",
        "colab": {}
      },
      "source": [
        "x = torch.randn(batch_size, 1, 224, 224, requires_grad=True)"
      ],
      "execution_count": 0,
      "outputs": []
    },
    {
      "cell_type": "code",
      "metadata": {
        "id": "rVj9PcYjexwI",
        "colab_type": "code",
        "colab": {}
      },
      "source": [
        "# compute ONNX Runtime output prediction\n",
        "ort_inputs = {ort_session.get_inputs()[0].name: to_numpy(x)}\n",
        "ort_outs = ort_session.run(None, ort_inputs)"
      ],
      "execution_count": 0,
      "outputs": []
    },
    {
      "cell_type": "code",
      "metadata": {
        "id": "y4526F7je_U9",
        "colab_type": "code",
        "colab": {
          "base_uri": "https://localhost:8080/",
          "height": 258
        },
        "outputId": "ea0ad314-6c70-4bad-8e9b-912e71017b8a"
      },
      "source": [
        "print(ort_outs[0])"
      ],
      "execution_count": 17,
      "outputs": [
        {
          "output_type": "stream",
          "text": [
            "[[[[ 0.2905327   0.09409931 -0.25207695 ...  0.19432266  0.16818433\n",
            "     0.3392768 ]\n",
            "   [ 0.5156717   0.22253723 -0.14361352 ...  0.43314967  0.39443794\n",
            "     0.47478086]\n",
            "   [ 0.598842    0.61774474  0.44808784 ...  0.7250732   0.97829145\n",
            "     0.9215888 ]\n",
            "   ...\n",
            "   [ 0.60323215  0.6122704   0.52220565 ...  0.0055224  -0.1838183\n",
            "    -0.22857508]\n",
            "   [ 0.42479503  0.35224244  0.40549043 ...  0.00487928 -0.04999856\n",
            "    -0.0598807 ]\n",
            "   [ 0.24426788  0.17307022  0.25811365 ...  0.00270854  0.0311784\n",
            "     0.02342708]]]]\n"
          ],
          "name": "stdout"
        }
      ]
    },
    {
      "cell_type": "markdown",
      "metadata": {
        "id": "KvZ4d3IufZHx",
        "colab_type": "text"
      },
      "source": [
        "We should see that the output of PyTorch and ONNX Runtime runs match numerically with the given precision (rtol=1e-03 and atol=1e-05). As a side-note, if they do not match then there is an issue in the ONNX exporter, so please contact us in that case."
      ]
    },
    {
      "cell_type": "markdown",
      "metadata": {
        "id": "FfafX_X2fbId",
        "colab_type": "text"
      },
      "source": [
        "## Running the model on an image using ONNX Runtime"
      ]
    },
    {
      "cell_type": "markdown",
      "metadata": {
        "id": "0A-csX4zfhx3",
        "colab_type": "text"
      },
      "source": [
        "So far we have exported a model from PyTorch and shown how to load it and run it in ONNX Runtime with a dummy tensor as an input.\n",
        "\n",
        "For this tutorial, we will use a famous cat image used widely which looks like below"
      ]
    },
    {
      "cell_type": "markdown",
      "metadata": {
        "id": "HGjBwpGFfulF",
        "colab_type": "text"
      },
      "source": [
        "First, let’s load the image, pre-process it using standard PIL python library. Note that this preprocessing is the standard practice of processing data for training/testing neural networks.\n",
        "\n",
        "We first resize the image to fit the size of the model’s input (224x224). Then we split the image into its Y, Cb, and Cr components. \n",
        "\n",
        "These components represent a greyscale image (Y), and the blue-difference (Cb) and red-difference (Cr) chroma components. \n",
        "\n",
        "The Y component being more sensitive to the human eye, we are interested in this component which we will be transforming. \n",
        "\n",
        "After extracting the Y component, we convert it to a tensor which will be the input of our model."
      ]
    },
    {
      "cell_type": "code",
      "metadata": {
        "id": "Q8MX6HoEfKBA",
        "colab_type": "code",
        "colab": {}
      },
      "source": [
        "img = Image.open(\"/content/cat.jpg\")"
      ],
      "execution_count": 0,
      "outputs": []
    },
    {
      "cell_type": "code",
      "metadata": {
        "id": "EUMxJxKlf4ZM",
        "colab_type": "code",
        "colab": {}
      },
      "source": [
        "resize = transforms.Resize([224, 224])"
      ],
      "execution_count": 0,
      "outputs": []
    },
    {
      "cell_type": "code",
      "metadata": {
        "id": "AgCZ5TBSf9OA",
        "colab_type": "code",
        "colab": {}
      },
      "source": [
        "img = resize(img)"
      ],
      "execution_count": 0,
      "outputs": []
    },
    {
      "cell_type": "code",
      "metadata": {
        "id": "cwVUll14f-7k",
        "colab_type": "code",
        "colab": {}
      },
      "source": [
        "img_ycbcr = img.convert('YCbCr')\n",
        "img_y, img_cb, img_cr = img_ycbcr.split()"
      ],
      "execution_count": 0,
      "outputs": []
    },
    {
      "cell_type": "code",
      "metadata": {
        "id": "mF2hK0qcgB2O",
        "colab_type": "code",
        "colab": {}
      },
      "source": [
        "to_tensor = transforms.ToTensor()"
      ],
      "execution_count": 0,
      "outputs": []
    },
    {
      "cell_type": "code",
      "metadata": {
        "id": "Qx92R_97gDjF",
        "colab_type": "code",
        "colab": {}
      },
      "source": [
        "img_y = to_tensor(img_y)"
      ],
      "execution_count": 0,
      "outputs": []
    },
    {
      "cell_type": "code",
      "metadata": {
        "id": "tng4y5LPgFXQ",
        "colab_type": "code",
        "colab": {
          "base_uri": "https://localhost:8080/",
          "height": 36
        },
        "outputId": "a5c913b6-1e7b-4d9b-f30c-2aa16f23b9ae"
      },
      "source": [
        "print(img_y.shape)"
      ],
      "execution_count": 36,
      "outputs": [
        {
          "output_type": "stream",
          "text": [
            "torch.Size([1, 224, 224])\n"
          ],
          "name": "stdout"
        }
      ]
    },
    {
      "cell_type": "code",
      "metadata": {
        "id": "mst1UgdcgHus",
        "colab_type": "code",
        "colab": {}
      },
      "source": [
        "# add batch_size dim\n",
        "img_y.unsqueeze_(0)"
      ],
      "execution_count": 0,
      "outputs": []
    },
    {
      "cell_type": "code",
      "metadata": {
        "id": "0vnQH96YgL-h",
        "colab_type": "code",
        "colab": {
          "base_uri": "https://localhost:8080/",
          "height": 36
        },
        "outputId": "c4c7e8ff-ae99-4fd5-c447-9fd51c6cd258"
      },
      "source": [
        "print(img_y.shape)"
      ],
      "execution_count": 40,
      "outputs": [
        {
          "output_type": "stream",
          "text": [
            "torch.Size([1, 1, 224, 224])\n"
          ],
          "name": "stdout"
        }
      ]
    },
    {
      "cell_type": "markdown",
      "metadata": {
        "id": "XFd2zO0igayu",
        "colab_type": "text"
      },
      "source": [
        "Now, as a next step, let’s take the tensor representing the greyscale resized cat image and run the super-resolution model in ONNX Runtime as explained previously."
      ]
    },
    {
      "cell_type": "code",
      "metadata": {
        "id": "-nBgOsNngOWh",
        "colab_type": "code",
        "colab": {}
      },
      "source": [
        "ort_inputs = {ort_session.get_inputs()[0].name: to_numpy(img_y)}\n",
        "ort_outs = ort_session.run(None, ort_inputs)\n",
        "img_out_y = ort_outs[0]"
      ],
      "execution_count": 0,
      "outputs": []
    },
    {
      "cell_type": "code",
      "metadata": {
        "id": "QkptJ4UGgj87",
        "colab_type": "code",
        "colab": {}
      },
      "source": [
        "img_out_y = Image.fromarray(np.uint8((img_out_y[0] * 255.0).clip(0, 255)[0]), mode='L')\n",
        "\n",
        "# get the output image follow post-processing step from PyTorch implementation\n",
        "final_img = Image.merge(\n",
        "    \"YCbCr\", [\n",
        "        img_out_y,\n",
        "        img_cb.resize(img_out_y.size, Image.BICUBIC),\n",
        "        img_cr.resize(img_out_y.size, Image.BICUBIC),\n",
        "    ]).convert(\"RGB\")"
      ],
      "execution_count": 0,
      "outputs": []
    },
    {
      "cell_type": "code",
      "metadata": {
        "id": "0SYLdhGVgrO7",
        "colab_type": "code",
        "colab": {}
      },
      "source": [
        "final_img.save(\"cat_superres_with_ort.jpg\")"
      ],
      "execution_count": 0,
      "outputs": []
    },
    {
      "cell_type": "code",
      "metadata": {
        "id": "hDZBpRBvg1nF",
        "colab_type": "code",
        "colab": {}
      },
      "source": [
        ""
      ],
      "execution_count": 0,
      "outputs": []
    }
  ]
}