{
  "nbformat": 4,
  "nbformat_minor": 0,
  "metadata": {
    "colab": {
      "name": "torch_to_ONNX.ipynb",
      "provenance": [],
      "toc_visible": true
    },
    "kernelspec": {
      "name": "python3",
      "display_name": "Python 3"
    }
  },
  "cells": [
    {
      "cell_type": "markdown",
      "metadata": {
        "id": "CkeQP53FQqdo",
        "colab_type": "text"
      },
      "source": [
        "# Converting from Torch to ONNX"
      ]
    },
    {
      "cell_type": "markdown",
      "metadata": {
        "id": "FDFCFPdvQx-z",
        "colab_type": "text"
      },
      "source": [
        "ONNX Runtime is a performance-focused engine for ONNX models, which inferences efficiently across multiple platforms and hardware (Windows, Linux, and Mac and on both CPUs and GPUs). ONNX Runtime has proved to considerably increase performance over multiple models as explained here\n",
        "\n",
        "For this tutorial, you will need to install ONNX and ONNX Runtime. You can get binary builds of ONNX and ONNX Runtime with pip install onnx onnxruntime. Note that ONNX Runtime is compatible with Python versions 3.5 to 3.7."
      ]
    },
    {
      "cell_type": "code",
      "metadata": {
        "id": "Bi-9ms-UQklt",
        "colab_type": "code",
        "colab": {}
      },
      "source": [
        "# Some standard imports\n",
        "import io\n",
        "import numpy as np\n",
        "import torch.nn as nn\n",
        "import torch.nn.init as init\n",
        "# from torch import nn\n",
        "import torch.utils.model_zoo as model_zoo\n",
        "import torch.onnx"
      ],
      "execution_count": 0,
      "outputs": []
    },
    {
      "cell_type": "markdown",
      "metadata": {
        "id": "z3zWl--nQ6xA",
        "colab_type": "text"
      },
      "source": [
        "# Super Resolution using Neural Networks"
      ]
    },
    {
      "cell_type": "markdown",
      "metadata": {
        "id": "B4HuRISjQ-MG",
        "colab_type": "text"
      },
      "source": [
        "Super-resolution is a way of increasing the resolution of images, videos and is widely used in image processing or video editing. For this tutorial, we will use a small super-resolution model.\n",
        "\n",
        "First, let’s create a SuperResolution model in PyTorch. This model uses the efficient sub-pixel convolution layer described in “Real-Time Single Image and Video Super-Resolution Using an Efficient Sub-Pixel Convolutional Neural Network” - Shi et al for increasing the resolution of an image by an upscale factor. The model expects the Y component of the YCbCr of an image as an input, and outputs the upscaled Y component in super resolution."
      ]
    },
    {
      "cell_type": "code",
      "metadata": {
        "id": "1tj8Aj-wQ2Nz",
        "colab_type": "code",
        "colab": {}
      },
      "source": [
        "class SuperResolutionNet(nn.Module):\n",
        "    def __init__(self, upscale_factor, inplace=False):\n",
        "        super().__init__()\n",
        "        self.relu = nn.ReLU(inplace=inplace)\n",
        "        self.conv1 = nn.Conv2d(1, 64, (5, 5), (1, 1), (2, 2))\n",
        "        self.conv2 = nn.Conv2d(64, 64, (3, 3), (1, 1), (1, 1))\n",
        "        self.conv3 = nn.Conv2d(64, 32, (3, 3), (1, 1), (1, 1))\n",
        "        self.conv4 = nn.Conv2d(32, upscale_factor ** 2, (3, 3), (1, 1), (1, 1))\n",
        "        self.pixel_shuffle = nn.PixelShuffle(upscale_factor)\n",
        "\n",
        "        self._initialize_weights()\n",
        "    \n",
        "    def forward(self, x):\n",
        "        x = self.relu(self.conv1(x))\n",
        "        x = self.relu(self.conv2(x))\n",
        "        x = self.relu(self.conv3(x))\n",
        "        x = self.pixel_shuffle(self.conv4(x))\n",
        "        return x\n",
        "    \n",
        "    def _initialize_weights(self):\n",
        "        init.orthogonal_(self.conv1.weight, init.calculate_gain('relu'))\n",
        "        init.orthogonal_(self.conv2.weight, init.calculate_gain('relu'))\n",
        "        init.orthogonal_(self.conv3.weight, init.calculate_gain('relu'))\n",
        "        init.orthogonal_(self.conv4.weight)"
      ],
      "execution_count": 0,
      "outputs": []
    },
    {
      "cell_type": "code",
      "metadata": {
        "id": "btDnaUBXZioo",
        "colab_type": "code",
        "colab": {}
      },
      "source": [
        "#  Create the super-resolution model by using the above model definition.\n",
        "torch_model = SuperResolutionNet(upscale_factor=3)"
      ],
      "execution_count": 0,
      "outputs": []
    },
    {
      "cell_type": "markdown",
      "metadata": {
        "id": "GYNknEjHZyTO",
        "colab_type": "text"
      },
      "source": [
        "Ordinarily, you would now train this model; however, for this tutorial, we will instead download some pre-trained weights. Note that this model was not trained fully for good accuracy and is used here for demonstration purposes only.\n",
        "\n",
        "It is important to call torch_model.eval() or torch_model.train(False) before exporting the model, to turn the model to inference mode. This is required since operators like dropout or batchnorm behave differently in inference and training mode."
      ]
    },
    {
      "cell_type": "code",
      "metadata": {
        "id": "ESwSMDGpZkxm",
        "colab_type": "code",
        "colab": {}
      },
      "source": [
        "# Load pretrained model weights\n",
        "model_url = 'https://s3.amazonaws.com/pytorch/test_data/export/superres_epoch100-44c6958e.pth'\n",
        "batch_size = 1    # just a random number    "
      ],
      "execution_count": 0,
      "outputs": []
    },
    {
      "cell_type": "code",
      "metadata": {
        "id": "2yhT3wbSZ2dG",
        "colab_type": "code",
        "colab": {}
      },
      "source": [
        "# Initialize model with the pretrained weights\n",
        "map_location = lambda storage, loc: storage"
      ],
      "execution_count": 0,
      "outputs": []
    },
    {
      "cell_type": "code",
      "metadata": {
        "id": "wu4l2b3sZ5BH",
        "colab_type": "code",
        "colab": {}
      },
      "source": [
        "if torch.cuda.is_available():\n",
        "    map_location = None\n",
        "torch_model.load_state_dict(model_zoo.load_url(model_url, map_location=map_location))"
      ],
      "execution_count": 0,
      "outputs": []
    },
    {
      "cell_type": "code",
      "metadata": {
        "id": "d0Bnx481Z8Ul",
        "colab_type": "code",
        "colab": {}
      },
      "source": [
        "# set the model to inference mode\n",
        "torch_model.eval()"
      ],
      "execution_count": 0,
      "outputs": []
    },
    {
      "cell_type": "markdown",
      "metadata": {
        "id": "wldeeKUmaFXM",
        "colab_type": "text"
      },
      "source": [
        " # Trace and Export the model"
      ]
    },
    {
      "cell_type": "markdown",
      "metadata": {
        "id": "dasimzRqaKNo",
        "colab_type": "text"
      },
      "source": [
        "Exporting a model in PyTorch works via tracing or scripting. \n",
        "\n",
        "This tutorial will use as an example a model exported by tracing. To export a model, we call the torch.onnx.export() function. \n",
        "\n",
        "This will execute the model, recording a trace of what operators are used to compute the outputs. Because export runs the model, we need to provide an input tensor x. \n",
        "\n",
        "The values in this can be random as long as it is the right type and size. Note that the input size will be fixed in the exported ONNX graph for all the input’s dimensions, unless specified as a dynamic axes. \n",
        "\n",
        "In this example we export the model with an input of batch_size 1, but then specify the first dimension as dynamic in the dynamic_axes parameter in torch.onnx.export(). \n",
        "\n",
        "The exported model will thus accept inputs of size [batch_size, 1, 224, 224] where batch_size can be variable."
      ]
    },
    {
      "cell_type": "code",
      "metadata": {
        "id": "Dce-EadOZ_N5",
        "colab_type": "code",
        "colab": {}
      },
      "source": [
        "# Input to the model\n",
        "x = torch.randn(batch_size, 1, 224, 224, requires_grad=True)\n",
        "torch_out = torch_model(x)"
      ],
      "execution_count": 0,
      "outputs": []
    },
    {
      "cell_type": "code",
      "metadata": {
        "id": "aHsA_AX_aVTt",
        "colab_type": "code",
        "colab": {}
      },
      "source": [
        "# Export the model\n",
        "torch.onnx.export(torch_model,               # model being run\n",
        "                  x,                         # model input (or a tuple for multiple inputs)\n",
        "                  \"super_resolution.onnx\",   # where to save the model (can be a file or file-like object)\n",
        "                  export_params=True,        # store the trained parameter weights inside the model file\n",
        "                  opset_version=10,          # the ONNX version to export the model to\n",
        "                  do_constant_folding=True,  # whether to execute constant folding for optimization\n",
        "                  input_names = ['input'],   # the model's input names\n",
        "                  output_names = ['output'], # the model's output names\n",
        "                  dynamic_axes={'input' : {0 : 'batch_size'},    # variable length axes\n",
        "                                'output' : {0 : 'batch_size'}})"
      ],
      "execution_count": 0,
      "outputs": []
    },
    {
      "cell_type": "markdown",
      "metadata": {
        "id": "Ulv_V55jahjU",
        "colab_type": "text"
      },
      "source": [
        "We also computed torch_out, the output after of the model, which we will use to verify that the model we exported computes the same values when run in ONNX Runtime."
      ]
    },
    {
      "cell_type": "markdown",
      "metadata": {
        "id": "ObSuzV-Kc9z8",
        "colab_type": "text"
      },
      "source": [
        "Now let’s compute the output using ONNX Runtime’s Python APIs. This part can normally be done in a separate process or on another machine, but we will continue in the same process so that we can verify that ONNX Runtime and PyTorch are computing the same value for the network.\n",
        "\n",
        "In order to run the model with ONNX Runtime, we need to create an inference session for the model with the chosen configuration parameters (here we use the default config). Once the session is created, we evaluate the model using the run() api. The output of this call is a list containing the outputs of the model computed by ONNX Runtime."
      ]
    },
    {
      "cell_type": "code",
      "metadata": {
        "id": "W2-hltKTfPn2",
        "colab_type": "code",
        "colab": {}
      },
      "source": [
        "def to_numpy(tensor):\n",
        "    return tensor.detach().cpu().numpy() if tensor.requires_grad else tensor.cpu().numpy()"
      ],
      "execution_count": 0,
      "outputs": []
    },
    {
      "cell_type": "code",
      "metadata": {
        "id": "-C7jgUn-aezW",
        "colab_type": "code",
        "colab": {}
      },
      "source": [
        "print(to_numpy(torch_out))"
      ],
      "execution_count": 0,
      "outputs": []
    }
  ]
}