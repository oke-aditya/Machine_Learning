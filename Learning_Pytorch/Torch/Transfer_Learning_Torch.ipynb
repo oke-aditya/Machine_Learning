{
  "nbformat": 4,
  "nbformat_minor": 0,
  "metadata": {
    "colab": {
      "name": "Transfer_Learning_Torch.ipynb",
      "provenance": []
    },
    "kernelspec": {
      "name": "python3",
      "display_name": "Python 3"
    },
    "accelerator": "GPU"
  },
  "cells": [
    {
      "cell_type": "markdown",
      "metadata": {
        "id": "FNxY3OgB0loD",
        "colab_type": "text"
      },
      "source": [
        "# Transfer Learning with CNNs in Pytorch"
      ]
    },
    {
      "cell_type": "markdown",
      "metadata": {
        "id": "BAoodpCI0tAm",
        "colab_type": "text"
      },
      "source": [
        "\n",
        "\n",
        "These two major transfer learning scenarios look as follows:\n",
        "\n",
        "-     Finetuning the convnet: Instead of random initializaion, we initialize the network with a pretrained network, like the one that is trained on imagenet 1000 dataset. Rest of the training looks as usual.\n",
        "-     ConvNet as fixed feature extractor: Here, we will freeze the weights for all of the network except that of the final fully connected layer. This last fully connected layer is replaced with a new one with random weights and only this layer is trained.\n"
      ]
    },
    {
      "cell_type": "code",
      "metadata": {
        "id": "4x2ji3f9vrpY",
        "colab_type": "code",
        "colab": {}
      },
      "source": [
        "\n",
        "from __future__ import print_function, division\n",
        "\n",
        "import torch\n",
        "import torch.nn as nn\n",
        "import torch.optim as optim\n",
        "from torch.optim import lr_scheduler\n",
        "import numpy as np\n",
        "import torchvision\n",
        "from torchvision import datasets, models\n",
        "from torchvision import transforms as T\n",
        "import matplotlib.pyplot as plt\n",
        "import time\n",
        "import os\n",
        "import copy\n",
        "\n",
        "plt.ion()   # interactive mode\n"
      ],
      "execution_count": 0,
      "outputs": []
    },
    {
      "cell_type": "markdown",
      "metadata": {
        "id": "Xc78OGE-05im",
        "colab_type": "text"
      },
      "source": [
        "# Load Data"
      ]
    },
    {
      "cell_type": "markdown",
      "metadata": {
        "id": "yLDX3ceK06iB",
        "colab_type": "text"
      },
      "source": [
        "Load Data\n",
        "\n",
        "We will use torchvision and torch.utils.data packages for loading the data.\n",
        "\n",
        "The problem we’re going to solve today is to train a model to classify ants and bees. We have about 120 training images each for ants and bees. There are 75 validation images for each class. Usually, this is a very small dataset to generalize upon, if trained from scratch. Since we are using transfer learning, we should be able to generalize reasonably well.\n",
        "\n",
        "This dataset is a very small subset of imagenet."
      ]
    },
    {
      "cell_type": "code",
      "metadata": {
        "id": "3EVaHalQ017H",
        "colab_type": "code",
        "colab": {}
      },
      "source": [
        "!wget https://download.pytorch.org/tutorial/hymenoptera_data.zip"
      ],
      "execution_count": 0,
      "outputs": []
    },
    {
      "cell_type": "code",
      "metadata": {
        "id": "zIC08gU30-NJ",
        "colab_type": "code",
        "colab": {}
      },
      "source": [
        "!unzip /content/hymenoptera_data.zip"
      ],
      "execution_count": 0,
      "outputs": []
    },
    {
      "cell_type": "code",
      "metadata": {
        "id": "FZAsUbgH1D8R",
        "colab_type": "code",
        "colab": {}
      },
      "source": [
        "data_transforms = {\n",
        "    \"train\" : T.Compose([\n",
        "                             T.RandomResizedCrop(224),\n",
        "                             T.RandomHorizontalFlip(),\n",
        "                             T.ToTensor(),\n",
        "                             T.Normalize([0.485, 0.456, 0.406], [0.229, 0.224, 0.225])\n",
        "]),\n",
        "   \"val\" : T.Compose([\n",
        "                      T.Resize(256),\n",
        "                      T.CenterCrop(224),\n",
        "                      T.ToTensor(),\n",
        "                      T.Normalize([0.485, 0.456, 0.406], [0.229, 0.224, 0.225])\n",
        "   ]) \n",
        "}"
      ],
      "execution_count": 0,
      "outputs": []
    },
    {
      "cell_type": "code",
      "metadata": {
        "id": "oE-yas5W2NUe",
        "colab_type": "code",
        "colab": {}
      },
      "source": [
        "data_dir = '/content/hymenoptera_data'"
      ],
      "execution_count": 0,
      "outputs": []
    },
    {
      "cell_type": "code",
      "metadata": {
        "id": "J5-VFyio2pSI",
        "colab_type": "code",
        "colab": {}
      },
      "source": [
        "image_datasets = {}\n",
        "for x in [\"train\", \"val\"]:\n",
        "    image_datasets[x] = datasets.ImageFolder(os.path.join(data_dir, x), data_transforms[x])"
      ],
      "execution_count": 0,
      "outputs": []
    },
    {
      "cell_type": "code",
      "metadata": {
        "id": "idwsIIlK3JWT",
        "colab_type": "code",
        "colab": {}
      },
      "source": [
        "print(image_datasets)"
      ],
      "execution_count": 0,
      "outputs": []
    },
    {
      "cell_type": "code",
      "metadata": {
        "id": "iU8bQR0q3K1E",
        "colab_type": "code",
        "colab": {}
      },
      "source": [
        "dataloaders = {}\n",
        "for x in [\"train\", \"val\"]:\n",
        "    dataloaders[x] = torch.utils.data.DataLoader(image_datasets[x], batch_size=4, shuffle=True, num_workers=4)"
      ],
      "execution_count": 0,
      "outputs": []
    },
    {
      "cell_type": "code",
      "metadata": {
        "id": "OQ_ogCO_3d_4",
        "colab_type": "code",
        "colab": {}
      },
      "source": [
        "print(dataloaders)"
      ],
      "execution_count": 0,
      "outputs": []
    },
    {
      "cell_type": "code",
      "metadata": {
        "id": "TvP2mJEO3mZj",
        "colab_type": "code",
        "colab": {}
      },
      "source": [
        "dataset_sizes = {}\n",
        "for x in [\"train\", \"val\"]:\n",
        "    dataset_sizes[x] = len(image_datasets[x])"
      ],
      "execution_count": 0,
      "outputs": []
    },
    {
      "cell_type": "code",
      "metadata": {
        "id": "MWGxMuAz30C-",
        "colab_type": "code",
        "colab": {
          "base_uri": "https://localhost:8080/",
          "height": 36
        },
        "outputId": "1a78e471-92ae-4328-bdf4-0c16e7a42a4c"
      },
      "source": [
        "print(dataset_sizes)"
      ],
      "execution_count": 15,
      "outputs": [
        {
          "output_type": "stream",
          "text": [
            "{'train': 244, 'val': 153}\n"
          ],
          "name": "stdout"
        }
      ]
    },
    {
      "cell_type": "code",
      "metadata": {
        "id": "70d4TvZs4JUJ",
        "colab_type": "code",
        "colab": {}
      },
      "source": [
        "class_names = image_datasets['train'].classes"
      ],
      "execution_count": 0,
      "outputs": []
    },
    {
      "cell_type": "code",
      "metadata": {
        "id": "c-hng5RF31Za",
        "colab_type": "code",
        "colab": {}
      },
      "source": [
        "device = torch.device(\"cuda:0\" if torch.cuda.is_available() else \"cpu\")"
      ],
      "execution_count": 0,
      "outputs": []
    },
    {
      "cell_type": "markdown",
      "metadata": {
        "id": "NSB0vtND37rt",
        "colab_type": "text"
      },
      "source": [
        " # View a Few Images"
      ]
    },
    {
      "cell_type": "code",
      "metadata": {
        "id": "yjg36-Ta33QH",
        "colab_type": "code",
        "colab": {}
      },
      "source": [
        "def imshow(inp, title=None):\n",
        "    \"\"\"Imshow for Tensor.\"\"\"\n",
        "    inp = inp.numpy().transpose((1, 2, 0))\n",
        "    mean = np.array([0.485, 0.456, 0.406])\n",
        "    std = np.array([0.229, 0.224, 0.225])\n",
        "    inp = std * inp + mean\n",
        "    inp = np.clip(inp, 0, 1)\n",
        "    plt.imshow(inp)\n",
        "    if title is not None:\n",
        "        plt.title(title)\n",
        "    plt.pause(0.001)  # pause a bit so that plots are updated\n"
      ],
      "execution_count": 0,
      "outputs": []
    },
    {
      "cell_type": "code",
      "metadata": {
        "id": "OAJDYy3r3562",
        "colab_type": "code",
        "colab": {
          "base_uri": "https://localhost:8080/",
          "height": 148
        },
        "outputId": "371f431f-adaa-4f7b-d33a-4dd2335f8359"
      },
      "source": [
        "# Get some data\n",
        "inputs, classes = next(iter(dataloaders['train']))\n",
        "\n",
        "# Make a grid from batch\n",
        "out = torchvision.utils.make_grid(inputs)\n",
        "\n",
        "imshow(out, title=[class_names[x] for x in classes])"
      ],
      "execution_count": 20,
      "outputs": [
        {
          "output_type": "display_data",
          "data": {
            "image/png": "[encoded data removed]",
            "text/plain": [
              "<Figure size 432x288 with 1 Axes>"
            ]
          },
          "metadata": {
            "tags": [],
            "needs_background": "light"
          }
        }
      ]
    },
    {
      "cell_type": "markdown",
      "metadata": {
        "id": "g3ZezMGO4WZt",
        "colab_type": "text"
      },
      "source": [
        "# Training the model function\n",
        "\n",
        "Now, let’s write a general function to train a model. Here, we will illustrate:\n",
        "\n",
        "    Scheduling the learning rate\n",
        "    Saving the best model\n",
        "\n"
      ]
    },
    {
      "cell_type": "code",
      "metadata": {
        "id": "rrA25Y5i4nu9",
        "colab_type": "code",
        "colab": {}
      },
      "source": [
        "from copy import deepcopy"
      ],
      "execution_count": 0,
      "outputs": []
    },
    {
      "cell_type": "code",
      "metadata": {
        "id": "vnQ6COMs4aBd",
        "colab_type": "code",
        "colab": {}
      },
      "source": [
        "def train_model(model, criterion, optimizer, scheduler, num_epochs=25):\n",
        "    start = time.time()\n",
        "\n",
        "    best_model_wts = deepcopy(model.state_dict())\n",
        "    best_acc = 0.0\n",
        "\n",
        "    for epoch in range(num_epochs):\n",
        "        print(\"Epoch {} / {}\".format(epoch, num_epochs-1))\n",
        "        print('-'*20)\n",
        "\n",
        "        for phase in [\"train\", \"val\"]:\n",
        "            if phase == \"train\":\n",
        "                model.train()\n",
        "            else:\n",
        "                model.eval()\n",
        "            \n",
        "            running_loss = 0\n",
        "            running_corrects = 0\n",
        "        \n",
        "            for inputs, labels in dataloaders[phase]:\n",
        "                inputs = inputs.to(device)\n",
        "                labels = labels.to(device)\n",
        "\n",
        "                optimizer.zero_grad()\n",
        "\n",
        "                with torch.set_grad_enabled(phase == \"train\"):\n",
        "                    outputs = model(inputs)\n",
        "                    _, preds = torch.max(outputs, 1)\n",
        "                    loss = criterion(outputs, labels)\n",
        "\n",
        "                    if phase == \"train\":\n",
        "                        loss.backward()\n",
        "                        optimizer.step()\n",
        "                    \n",
        "                \n",
        "                running_loss += loss\n",
        "                running_corrects += torch.sum(preds == labels.data)\n",
        "            \n",
        "            if phase == \"train\":\n",
        "                scheduler.step()\n",
        "            \n",
        "            epoch_loss = running_loss / dataset_sizes[phase]\n",
        "            epoch_acc = running_corrects.double() / dataset_sizes[phase]\n",
        "\n",
        "            print('{} Loss: {:.4f} Acc: {:.4f}'.format(\n",
        "                phase, epoch_loss, epoch_acc))\n",
        "            \n",
        "\n",
        "            if phase == \"val\" and epoch_acc > best_acc:\n",
        "                best_acc = epoch_acc\n",
        "                best_model_wts = deepcopy(model.state_dict())\n",
        "            \n",
        "        print()\n",
        "    \n",
        "    time_elapsed = time.time() - start\n",
        "    print('Training complete in {:.0f}m {:.0f}s'.format(\n",
        "        time_elapsed // 60, time_elapsed % 60))\n",
        "    print('Best val Acc: {:4f}'.format(best_acc))\n",
        "\n",
        "    # load best model weights\n",
        "    model.load_state_dict(best_model_wts)\n",
        "    return model\n"
      ],
      "execution_count": 0,
      "outputs": []
    },
    {
      "cell_type": "markdown",
      "metadata": {
        "id": "p0Mb7CiM7IHy",
        "colab_type": "text"
      },
      "source": [
        "# Visualizing the model predictions"
      ]
    },
    {
      "cell_type": "code",
      "metadata": {
        "id": "GSGkvw-67Hnu",
        "colab_type": "code",
        "colab": {}
      },
      "source": [
        "def visualize_model(model, num_images=6):\n",
        "    was_training = model.training\n",
        "    model.eval()\n",
        "    images_so_far = 0\n",
        "    fig = plt.figure()\n",
        "\n",
        "    with torch.no_grad():\n",
        "        for i, (inputs, labels) in enumerate(dataloaders['val']):\n",
        "            inputs = inputs.to(device)\n",
        "            labels = labels.to(device)\n",
        "\n",
        "            outputs = model(inputs)\n",
        "            _, preds = torch.max(outputs, 1)\n",
        "\n",
        "            for j in range(inputs.size()[0]):\n",
        "                images_so_far += 1\n",
        "                ax = plt.subplot(num_images//2, 2, images_so_far)\n",
        "                ax.axis('off')\n",
        "                ax.set_title('predicted: {}'.format(class_names[preds[j]]))\n",
        "                imshow(inputs.cpu().data[j])\n",
        "\n",
        "                if images_so_far == num_images:\n",
        "                    model.train(mode=was_training)\n",
        "                    return\n",
        "        model.train(mode=was_training)"
      ],
      "execution_count": 0,
      "outputs": []
    },
    {
      "cell_type": "markdown",
      "metadata": {
        "id": "Ru7EroUk7PKI",
        "colab_type": "text"
      },
      "source": [
        "# Finetuning the convnet\n",
        "\n",
        "Load a pretrained model and reset final fully connected layer."
      ]
    },
    {
      "cell_type": "code",
      "metadata": {
        "id": "C5zglNrS6-YE",
        "colab_type": "code",
        "colab": {}
      },
      "source": [
        "model_ft = models.resnet18(pretrained=True)"
      ],
      "execution_count": 0,
      "outputs": []
    },
    {
      "cell_type": "code",
      "metadata": {
        "id": "5lzv748N7fK1",
        "colab_type": "code",
        "colab": {}
      },
      "source": [
        "num_ftrs = model_ft.fc.in_features\n",
        "# Here the size of each output sample is set to 2.\n",
        "# Alternatively, it can be generalized to nn.Linear(num_ftrs, len(class_names))"
      ],
      "execution_count": 0,
      "outputs": []
    },
    {
      "cell_type": "code",
      "metadata": {
        "id": "vNXS4q_w7nZk",
        "colab_type": "code",
        "colab": {}
      },
      "source": [
        "model_ft.fc = nn.Linear(num_ftrs, 2)"
      ],
      "execution_count": 0,
      "outputs": []
    },
    {
      "cell_type": "code",
      "metadata": {
        "id": "u1gAGDn67qGy",
        "colab_type": "code",
        "colab": {}
      },
      "source": [
        "model_ft = model_ft.to(device)"
      ],
      "execution_count": 0,
      "outputs": []
    },
    {
      "cell_type": "code",
      "metadata": {
        "id": "uqitnbc87r9y",
        "colab_type": "code",
        "colab": {}
      },
      "source": [
        "criterion = nn.CrossEntropyLoss()\n",
        "optimizer_ft = optim.SGD(model_ft.parameters(), lr=0.001, momentum=0.9)"
      ],
      "execution_count": 0,
      "outputs": []
    },
    {
      "cell_type": "code",
      "metadata": {
        "id": "05dsKl7Y7zai",
        "colab_type": "code",
        "colab": {}
      },
      "source": [
        "exp_lr_scheduler = lr_scheduler.StepLR(optimizer_ft, step_size=7, gamma=0.1)"
      ],
      "execution_count": 0,
      "outputs": []
    },
    {
      "cell_type": "markdown",
      "metadata": {
        "id": "YiE7zock73d6",
        "colab_type": "text"
      },
      "source": [
        "# Train Fine Tuned Network"
      ]
    },
    {
      "cell_type": "code",
      "metadata": {
        "id": "VWGxox0f70yp",
        "colab_type": "code",
        "colab": {}
      },
      "source": [
        "model_ft = train_model(model_ft, criterion, optimizer_ft, exp_lr_scheduler,\n",
        "                       num_epochs=25)"
      ],
      "execution_count": 0,
      "outputs": []
    },
    {
      "cell_type": "markdown",
      "metadata": {
        "id": "vP4FQTDa89hx",
        "colab_type": "text"
      },
      "source": [
        "# ConvNet as fixed feature extractor\n"
      ]
    },
    {
      "cell_type": "markdown",
      "metadata": {
        "id": "P898IBBL9AQL",
        "colab_type": "text"
      },
      "source": [
        "\n",
        "Here, we need to freeze all the network except the final layer. We need to set requires_grad == False to freeze the parameters so that the gradients are not computed in backward().\n",
        "\n",
        "You can read more about this in the documentation here."
      ]
    },
    {
      "cell_type": "code",
      "metadata": {
        "id": "TselufWB79tL",
        "colab_type": "code",
        "colab": {}
      },
      "source": [
        "model_conv = torchvision.models.resnet18(pretrained=True)\n",
        "for param in model_conv.parameters():\n",
        "    param.requires_grad = False"
      ],
      "execution_count": 0,
      "outputs": []
    },
    {
      "cell_type": "code",
      "metadata": {
        "id": "NVCG2lRhADIy",
        "colab_type": "code",
        "colab": {}
      },
      "source": [
        "# Parameters of newly constructed modules have requires_grad=True by default\n",
        "num_ftrs = model_conv.fc.in_features\n",
        "model_conv.fc = nn.Linear(num_ftrs, 2)\n",
        "\n",
        "model_conv = model_conv.to(device)"
      ],
      "execution_count": 0,
      "outputs": []
    },
    {
      "cell_type": "code",
      "metadata": {
        "id": "i27va0qPAHUl",
        "colab_type": "code",
        "colab": {}
      },
      "source": [
        "criterion = nn.CrossEntropyLoss()\n",
        "\n",
        "# Observe that only parameters of final layer are being optimized as\n",
        "# opposed to before.\n",
        "optimizer_conv = optim.SGD(model_conv.fc.parameters(), lr=0.001, momentum=0.9)\n",
        "\n",
        "# Decay LR by a factor of 0.1 every 7 epochs\n",
        "exp_lr_scheduler = lr_scheduler.StepLR(optimizer_conv, step_size=7, gamma=0.1)"
      ],
      "execution_count": 0,
      "outputs": []
    },
    {
      "cell_type": "code",
      "metadata": {
        "id": "hA8iG80sAKaq",
        "colab_type": "code",
        "colab": {
          "base_uri": "https://localhost:8080/",
          "height": 1000
        },
        "outputId": "eda141da-4b27-442c-a06b-f7213352159b"
      },
      "source": [
        "model_conv = train_model(model_conv, criterion, optimizer_conv,\n",
        "                         exp_lr_scheduler, num_epochs=25)"
      ],
      "execution_count": 52,
      "outputs": [
        {
          "output_type": "stream",
          "text": [
            "Epoch 0 / 24\n",
            "--------------------\n",
            "train Loss: 0.1824 Acc: 0.6393\n",
            "val Loss: 0.0740 Acc: 0.8824\n",
            "\n",
            "Epoch 1 / 24\n",
            "--------------------\n",
            "train Loss: 0.1365 Acc: 0.7459\n",
            "val Loss: 0.0427 Acc: 0.9477\n",
            "\n",
            "Epoch 2 / 24\n",
            "--------------------\n",
            "train Loss: 0.1378 Acc: 0.7828\n",
            "val Loss: 0.0393 Acc: 0.9477\n",
            "\n",
            "Epoch 3 / 24\n",
            "--------------------\n",
            "train Loss: 0.1091 Acc: 0.8238\n",
            "val Loss: 0.0552 Acc: 0.9346\n",
            "\n",
            "Epoch 4 / 24\n",
            "--------------------\n",
            "train Loss: 0.1118 Acc: 0.7787\n",
            "val Loss: 0.0612 Acc: 0.9346\n",
            "\n",
            "Epoch 5 / 24\n",
            "--------------------\n",
            "train Loss: 0.1454 Acc: 0.7664\n",
            "val Loss: 0.0484 Acc: 0.9477\n",
            "\n",
            "Epoch 6 / 24\n",
            "--------------------\n",
            "train Loss: 0.1767 Acc: 0.7787\n",
            "val Loss: 0.0488 Acc: 0.9412\n",
            "\n",
            "Epoch 7 / 24\n",
            "--------------------\n",
            "train Loss: 0.0916 Acc: 0.8402\n",
            "val Loss: 0.0427 Acc: 0.9477\n",
            "\n",
            "Epoch 8 / 24\n",
            "--------------------\n",
            "train Loss: 0.0930 Acc: 0.8484\n",
            "val Loss: 0.0406 Acc: 0.9477\n",
            "\n",
            "Epoch 9 / 24\n",
            "--------------------\n",
            "train Loss: 0.0780 Acc: 0.8566\n",
            "val Loss: 0.0419 Acc: 0.9477\n",
            "\n",
            "Epoch 10 / 24\n",
            "--------------------\n",
            "train Loss: 0.1021 Acc: 0.8115\n",
            "val Loss: 0.0556 Acc: 0.9412\n",
            "\n",
            "Epoch 11 / 24\n",
            "--------------------\n",
            "train Loss: 0.0829 Acc: 0.8607\n",
            "val Loss: 0.0408 Acc: 0.9412\n",
            "\n",
            "Epoch 12 / 24\n",
            "--------------------\n",
            "train Loss: 0.0867 Acc: 0.8484\n",
            "val Loss: 0.0414 Acc: 0.9477\n",
            "\n",
            "Epoch 13 / 24\n",
            "--------------------\n",
            "train Loss: 0.0705 Acc: 0.8893\n",
            "val Loss: 0.0448 Acc: 0.9412\n",
            "\n",
            "Epoch 14 / 24\n",
            "--------------------\n",
            "train Loss: 0.0845 Acc: 0.8361\n",
            "val Loss: 0.0542 Acc: 0.9412\n",
            "\n",
            "Epoch 15 / 24\n",
            "--------------------\n",
            "train Loss: 0.0797 Acc: 0.8607\n",
            "val Loss: 0.0426 Acc: 0.9477\n",
            "\n",
            "Epoch 16 / 24\n",
            "--------------------\n",
            "train Loss: 0.0681 Acc: 0.8811\n",
            "val Loss: 0.0444 Acc: 0.9412\n",
            "\n",
            "Epoch 17 / 24\n",
            "--------------------\n",
            "train Loss: 0.0563 Acc: 0.9303\n",
            "val Loss: 0.0429 Acc: 0.9412\n",
            "\n",
            "Epoch 18 / 24\n",
            "--------------------\n",
            "train Loss: 0.0966 Acc: 0.8279\n",
            "val Loss: 0.0460 Acc: 0.9281\n",
            "\n",
            "Epoch 19 / 24\n",
            "--------------------\n",
            "train Loss: 0.0695 Acc: 0.8607\n",
            "val Loss: 0.0483 Acc: 0.9412\n",
            "\n",
            "Epoch 20 / 24\n",
            "--------------------\n",
            "train Loss: 0.0842 Acc: 0.8484\n",
            "val Loss: 0.0414 Acc: 0.9477\n",
            "\n",
            "Epoch 21 / 24\n",
            "--------------------\n",
            "train Loss: 0.0612 Acc: 0.9016\n",
            "val Loss: 0.0462 Acc: 0.9346\n",
            "\n",
            "Epoch 22 / 24\n",
            "--------------------\n",
            "train Loss: 0.0907 Acc: 0.8238\n",
            "val Loss: 0.0505 Acc: 0.9346\n",
            "\n",
            "Epoch 23 / 24\n",
            "--------------------\n",
            "train Loss: 0.0956 Acc: 0.8279\n",
            "val Loss: 0.0480 Acc: 0.9412\n",
            "\n",
            "Epoch 24 / 24\n",
            "--------------------\n",
            "train Loss: 0.0815 Acc: 0.8566\n",
            "val Loss: 0.0468 Acc: 0.9346\n",
            "\n",
            "Training complete in 1m 14s\n",
            "Best val Acc: 0.947712\n"
          ],
          "name": "stdout"
        }
      ]
    },
    {
      "cell_type": "code",
      "metadata": {
        "id": "b-DySEkwANih",
        "colab_type": "code",
        "colab": {}
      },
      "source": [
        "visualize_model(model_conv)\n",
        "\n",
        "plt.ioff()\n",
        "plt.show()"
      ],
      "execution_count": 0,
      "outputs": []
    },
    {
      "cell_type": "code",
      "metadata": {
        "id": "hkqoJVgsApSp",
        "colab_type": "code",
        "colab": {}
      },
      "source": [
        ""
      ],
      "execution_count": 0,
      "outputs": []
    }
  ]
}