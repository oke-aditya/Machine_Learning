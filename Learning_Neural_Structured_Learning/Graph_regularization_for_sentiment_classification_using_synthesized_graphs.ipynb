{
  "nbformat": 4,
  "nbformat_minor": 0,
  "metadata": {
    "colab": {
      "name": "Graph regularization for sentiment classification using synthesized graphs.ipynb",
      "provenance": [],
      "toc_visible": true
    },
    "kernelspec": {
      "name": "python3",
      "display_name": "Python 3"
    },
    "accelerator": "GPU"
  },
  "cells": [
    {
      "cell_type": "markdown",
      "metadata": {
        "id": "i2k0Dk1lqqDY",
        "colab_type": "text"
      },
      "source": [
        "# Graph regularization for sentiment classification using synthesized graphs"
      ]
    },
    {
      "cell_type": "markdown",
      "metadata": {
        "id": "A7OmkGEGqsP5",
        "colab_type": "text"
      },
      "source": [
        "- What to do if natural graph is not available ?"
      ]
    },
    {
      "cell_type": "markdown",
      "metadata": {
        "id": "YCPo1er1q0Mn",
        "colab_type": "text"
      },
      "source": [
        "- Create a graph from the data. Synthesize the graph from the data"
      ]
    },
    {
      "cell_type": "markdown",
      "metadata": {
        "id": "MYn4uNOHrWHo",
        "colab_type": "text"
      },
      "source": [
        "# Recipe"
      ]
    },
    {
      "cell_type": "markdown",
      "metadata": {
        "id": "ljsh1aH7q84P",
        "colab_type": "text"
      },
      "source": [
        "The general recipe for building a graph-regularized model using the Neural Structured Learning (NSL) framework when the input does not contain an explicit graph is as follows:\n",
        "\n",
        "- Create embeddings for each text sample in the input. This can be done using pre-trained models such as word2vec, Swivel, BERT etc.\n",
        "\n",
        "- Build a graph based on these embeddings by using a similarity metric such as the 'L2' distance, 'cosine' distance, etc. Nodes in the graph correspond to samples and edges in the graph correspond to similarity between pairs of samples.\n",
        "\n",
        "- Generate training data from the above synthesized graph and sample features. The resulting training data will contain neighbor features in addition to the original node features.\n",
        "\n",
        "- Create a neural network as a base model using the Keras sequential, functional, or subclass API.\n",
        "\n",
        "- Wrap the base model with the GraphRegularization wrapper class, which is provided by the NSL framework, to create a new graph Keras model. This new model will include a graph regularization loss as the regularization term in its training objective.\n",
        "Train and evaluate the graph Keras model.\n"
      ]
    },
    {
      "cell_type": "code",
      "metadata": {
        "id": "HVRmBAA1qWB2",
        "colab_type": "code",
        "colab": {}
      },
      "source": [
        "%tensorflow_version 2.x"
      ],
      "execution_count": 0,
      "outputs": []
    },
    {
      "cell_type": "code",
      "metadata": {
        "id": "U2cU2wJorH9o",
        "colab_type": "code",
        "colab": {
          "base_uri": "https://localhost:8080/",
          "height": 0
        },
        "outputId": "4a38a6bd-e676-4bd8-bca6-0f9782f47c9e"
      },
      "source": [
        "! pip install --quiet neural-structured-learning\n",
        "! pip install --quiet tensorflow-hub"
      ],
      "execution_count": 2,
      "outputs": [
        {
          "output_type": "stream",
          "text": [
            "\u001b[?25l\r\u001b[K     |███▏                            | 10kB 22.6MB/s eta 0:00:01\r\u001b[K     |██████▎                         | 20kB 4.9MB/s eta 0:00:01\r\u001b[K     |█████████▍                      | 30kB 6.8MB/s eta 0:00:01\r\u001b[K     |████████████▌                   | 40kB 8.7MB/s eta 0:00:01\r\u001b[K     |███████████████▋                | 51kB 5.7MB/s eta 0:00:01\r\u001b[K     |██████████████████▉             | 61kB 6.5MB/s eta 0:00:01\r\u001b[K     |██████████████████████          | 71kB 7.3MB/s eta 0:00:01\r\u001b[K     |█████████████████████████       | 81kB 8.1MB/s eta 0:00:01\r\u001b[K     |████████████████████████████▏   | 92kB 9.0MB/s eta 0:00:01\r\u001b[K     |███████████████████████████████▎| 102kB 7.4MB/s eta 0:00:01\r\u001b[K     |████████████████████████████████| 112kB 7.4MB/s \n",
            "\u001b[?25h"
          ],
          "name": "stdout"
        }
      ]
    },
    {
      "cell_type": "code",
      "metadata": {
        "id": "887KywmzrLOo",
        "colab_type": "code",
        "colab": {
          "base_uri": "https://localhost:8080/",
          "height": 0
        },
        "outputId": "493c72fa-abc2-4eff-ee9f-843ca656a947"
      },
      "source": [
        "import matplotlib.pyplot as plt\n",
        "import numpy as np\n",
        "\n",
        "import neural_structured_learning as nsl\n",
        "\n",
        "import tensorflow as tf\n",
        "tf.compat.v1.enable_v2_behavior()\n",
        "\n",
        "import tensorflow_hub as hub\n",
        "\n",
        "# Resets notebook state\n",
        "tf.keras.backend.clear_session()\n",
        "\n",
        "print(\"Version: \", tf.__version__)\n",
        "print(\"Eager mode: \", tf.executing_eagerly())\n",
        "print(\"Hub version: \", hub.__version__)\n",
        "print(\"GPU is\", \"available\" if tf.test.is_gpu_available() else \"NOT AVAILABLE\")\n"
      ],
      "execution_count": 3,
      "outputs": [
        {
          "output_type": "stream",
          "text": [
            "Version:  2.2.0-rc2\n",
            "Eager mode:  True\n",
            "Hub version:  0.7.0\n",
            "WARNING:tensorflow:From <ipython-input-3-ab7e91908b66>:17: is_gpu_available (from tensorflow.python.framework.test_util) is deprecated and will be removed in a future version.\n",
            "Instructions for updating:\n",
            "Use `tf.config.list_physical_devices('GPU')` instead.\n",
            "GPU is available\n"
          ],
          "name": "stdout"
        }
      ]
    },
    {
      "cell_type": "markdown",
      "metadata": {
        "id": "iwKBSQM4rTy_",
        "colab_type": "text"
      },
      "source": [
        "# Get the data"
      ]
    },
    {
      "cell_type": "markdown",
      "metadata": {
        "id": "Bw3-Ybparaja",
        "colab_type": "text"
      },
      "source": [
        "The IMDB dataset contains the text of 50,000 movie reviews from the Internet Movie Database. These are split into 25,000 reviews for training and 25,000 reviews for testing. The training and testing sets are balanced, meaning they contain an equal number of positive and negative reviews."
      ]
    },
    {
      "cell_type": "markdown",
      "metadata": {
        "id": "Zauy6bmjrcw1",
        "colab_type": "text"
      },
      "source": [
        "The IMDB dataset comes packaged with TensorFlow. It has already been preprocessed such that the reviews (sequences of words) have been converted to sequences of integers, where each integer represents a specific word in a dictionary.\n",
        "\n",
        "The following code downloads the IMDB dataset (or uses a cached copy if it has already been downloaded):"
      ]
    },
    {
      "cell_type": "code",
      "metadata": {
        "id": "l944L6qtrQCv",
        "colab_type": "code",
        "colab": {
          "base_uri": "https://localhost:8080/",
          "height": 0
        },
        "outputId": "69f4eb67-c8d2-4d79-d506-833ee4d84266"
      },
      "source": [
        "imdb = tf.keras.datasets.imdb\n",
        "(pp_train_data, pp_train_labels), (pp_test_data, pp_test_labels) = (\n",
        "    imdb.load_data(num_words=10000))"
      ],
      "execution_count": 4,
      "outputs": [
        {
          "output_type": "stream",
          "text": [
            "Downloading data from https://storage.googleapis.com/tensorflow/tf-keras-datasets/imdb.npz\n",
            "17465344/17464789 [==============================] - 0s 0us/step\n"
          ],
          "name": "stdout"
        }
      ]
    },
    {
      "cell_type": "markdown",
      "metadata": {
        "id": "cVGrOPP2rg6V",
        "colab_type": "text"
      },
      "source": [
        "The argument num_words=10000 keeps the top 10,000 most frequently occurring words in the training data. The rare words are discarded to keep the size of the vocabulary manageable."
      ]
    },
    {
      "cell_type": "markdown",
      "metadata": {
        "id": "vRebICgHriuz",
        "colab_type": "text"
      },
      "source": [
        "## Explore the data\n",
        "\n",
        "Let's take a moment to understand the format of the data. The dataset comes preprocessed: each example is an array of integers representing the words of the movie review. Each label is an integer value of either 0 or 1, where 0 is a negative review, and 1 is a positive review."
      ]
    },
    {
      "cell_type": "code",
      "metadata": {
        "id": "GmltCJ82rei1",
        "colab_type": "code",
        "colab": {
          "base_uri": "https://localhost:8080/",
          "height": 0
        },
        "outputId": "02a876e7-2b50-45cb-cd59-1eb8fbcfb5fc"
      },
      "source": [
        "print('Training entries: {}, labels: {}'.format(\n",
        "    len(pp_train_data), len(pp_train_labels)))\n",
        "training_samples_count = len(pp_train_data)\n"
      ],
      "execution_count": 5,
      "outputs": [
        {
          "output_type": "stream",
          "text": [
            "Training entries: 25000, labels: 25000\n"
          ],
          "name": "stdout"
        }
      ]
    },
    {
      "cell_type": "markdown",
      "metadata": {
        "id": "IcKb-8CqroVl",
        "colab_type": "text"
      },
      "source": [
        "The text of reviews have been converted to integers, where each integer represents a specific word in a dictionary. Here's what the first review looks like:"
      ]
    },
    {
      "cell_type": "code",
      "metadata": {
        "id": "7lKzlmZgrmnl",
        "colab_type": "code",
        "colab": {
          "base_uri": "https://localhost:8080/",
          "height": 0
        },
        "outputId": "8802ba99-d239-4d1e-af28-53b78a8f9e15"
      },
      "source": [
        "print(pp_train_data[0])"
      ],
      "execution_count": 6,
      "outputs": [
        {
          "output_type": "stream",
          "text": [
            "[1, 14, 22, 16, 43, 530, 973, 1622, 1385, 65, 458, 4468, 66, 3941, 4, 173, 36, 256, 5, 25, 100, 43, 838, 112, 50, 670, 2, 9, 35, 480, 284, 5, 150, 4, 172, 112, 167, 2, 336, 385, 39, 4, 172, 4536, 1111, 17, 546, 38, 13, 447, 4, 192, 50, 16, 6, 147, 2025, 19, 14, 22, 4, 1920, 4613, 469, 4, 22, 71, 87, 12, 16, 43, 530, 38, 76, 15, 13, 1247, 4, 22, 17, 515, 17, 12, 16, 626, 18, 2, 5, 62, 386, 12, 8, 316, 8, 106, 5, 4, 2223, 5244, 16, 480, 66, 3785, 33, 4, 130, 12, 16, 38, 619, 5, 25, 124, 51, 36, 135, 48, 25, 1415, 33, 6, 22, 12, 215, 28, 77, 52, 5, 14, 407, 16, 82, 2, 8, 4, 107, 117, 5952, 15, 256, 4, 2, 7, 3766, 5, 723, 36, 71, 43, 530, 476, 26, 400, 317, 46, 7, 4, 2, 1029, 13, 104, 88, 4, 381, 15, 297, 98, 32, 2071, 56, 26, 141, 6, 194, 7486, 18, 4, 226, 22, 21, 134, 476, 26, 480, 5, 144, 30, 5535, 18, 51, 36, 28, 224, 92, 25, 104, 4, 226, 65, 16, 38, 1334, 88, 12, 16, 283, 5, 16, 4472, 113, 103, 32, 15, 16, 5345, 19, 178, 32]\n"
          ],
          "name": "stdout"
        }
      ]
    },
    {
      "cell_type": "markdown",
      "metadata": {
        "id": "4zJ7g9T2rvmf",
        "colab_type": "text"
      },
      "source": [
        "Movie reviews may be different lengths. The below code shows the number of words in the first and second reviews. Since inputs to a neural network must be the same length, we'll need to resolve this later."
      ]
    },
    {
      "cell_type": "markdown",
      "metadata": {
        "id": "2qgcBibFrx9s",
        "colab_type": "text"
      },
      "source": [
        "## Convert the integers back to words\n",
        "\n",
        "It may be useful to know how to convert integers back to the corresponding text. Here, we'll create a helper function to query a dictionary object that contains the integer to string mapping:"
      ]
    },
    {
      "cell_type": "code",
      "metadata": {
        "id": "yynWR2yPrsjX",
        "colab_type": "code",
        "colab": {
          "base_uri": "https://localhost:8080/",
          "height": 0
        },
        "outputId": "ddeaf9c0-fde8-4ae9-cd3d-9b6d0e9cc45b"
      },
      "source": [
        "def build_reverse_word_index():\n",
        "  # A dictionary mapping words to an integer index\n",
        "  word_index = imdb.get_word_index()\n",
        "\n",
        "  # The first indices are reserved\n",
        "  word_index = {k: (v + 3) for k, v in word_index.items()}\n",
        "  word_index['<PAD>'] = 0\n",
        "  word_index['<START>'] = 1\n",
        "  word_index['<UNK>'] = 2  # unknown\n",
        "  word_index['<UNUSED>'] = 3\n",
        "  return dict((value, key) for (key, value) in word_index.items())\n",
        "\n",
        "reverse_word_index = build_reverse_word_index()\n",
        "\n",
        "def decode_review(text):\n",
        "  return ' '.join([reverse_word_index.get(i, '?') for i in text])\n"
      ],
      "execution_count": 7,
      "outputs": [
        {
          "output_type": "stream",
          "text": [
            "Downloading data from https://storage.googleapis.com/tensorflow/tf-keras-datasets/imdb_word_index.json\n",
            "1646592/1641221 [==============================] - 0s 0us/step\n"
          ],
          "name": "stdout"
        }
      ]
    },
    {
      "cell_type": "code",
      "metadata": {
        "id": "VtG1MoQQsQoT",
        "colab_type": "code",
        "colab": {}
      },
      "source": [
        "reverse_word_index = build_reverse_word_index()"
      ],
      "execution_count": 0,
      "outputs": []
    },
    {
      "cell_type": "code",
      "metadata": {
        "id": "stEgU3V8sSS-",
        "colab_type": "code",
        "colab": {}
      },
      "source": [
        "def decode_review(text):\n",
        "  return ' '.join([reverse_word_index.get(i, '?') for i in text])"
      ],
      "execution_count": 0,
      "outputs": []
    },
    {
      "cell_type": "code",
      "metadata": {
        "id": "rdMDkXLKsUZE",
        "colab_type": "code",
        "colab": {
          "base_uri": "https://localhost:8080/",
          "height": 0
        },
        "outputId": "8e223217-5d1c-45f9-985e-2e6715b5b157"
      },
      "source": [
        "decode_review(pp_train_data[0])"
      ],
      "execution_count": 10,
      "outputs": [
        {
          "output_type": "execute_result",
          "data": {
            "text/plain": [
              "\"<START> this film was just brilliant casting location scenery story direction everyone's really suited the part they played and you could just imagine being there robert <UNK> is an amazing actor and now the same being director <UNK> father came from the same scottish island as myself so i loved the fact there was a real connection with this film the witty remarks throughout the film were great it was just brilliant so much that i bought the film as soon as it was released for <UNK> and would recommend it to everyone to watch and the fly fishing was amazing really cried at the end it was so sad and you know what they say if you cry at a film it must have been good and this definitely was also <UNK> to the two little boy's that played the <UNK> of norman and paul they were just brilliant children are often left out of the <UNK> list i think because the stars that play them all grown up are such a big profile for the whole film but these children are amazing and should be praised for what they have done don't you think the whole story was so lovely because it was true and was someone's life after all that was shared with us all\""
            ]
          },
          "metadata": {
            "tags": []
          },
          "execution_count": 10
        }
      ]
    },
    {
      "cell_type": "markdown",
      "metadata": {
        "id": "cPI6qhN2shTJ",
        "colab_type": "text"
      },
      "source": [
        "# Constructing the graph"
      ]
    },
    {
      "cell_type": "markdown",
      "metadata": {
        "id": "kdwprAmesogC",
        "colab_type": "text"
      },
      "source": [
        "Graph construction involves creating embeddings for text samples and then using a similarity function to compare the embeddings."
      ]
    },
    {
      "cell_type": "code",
      "metadata": {
        "id": "22HRfu3cs3-h",
        "colab_type": "code",
        "colab": {}
      },
      "source": [
        "! mkdir -p /tmp/imdb"
      ],
      "execution_count": 0,
      "outputs": []
    },
    {
      "cell_type": "code",
      "metadata": {
        "id": "mZi8wNaasYPa",
        "colab_type": "code",
        "colab": {}
      },
      "source": [
        "# This is necessary because hub.KerasLayer assumes tensor hashability, which\n",
        "# is not supported in eager mode.\n",
        "tf.compat.v1.disable_tensor_equality()"
      ],
      "execution_count": 0,
      "outputs": []
    },
    {
      "cell_type": "markdown",
      "metadata": {
        "id": "HAJyPcuKs6sw",
        "colab_type": "text"
      },
      "source": [
        "## Create sample embeddings\n",
        "\n",
        "We will use pretrained Swivel embeddings to create embeddings in the tf.train.Example format for each sample in the input. We will store the resulting embeddings in the TFRecord format along with an additional feature that represents the ID of each sample. This is important and will allow us match sample embeddings with corresponding nodes in the graph later."
      ]
    },
    {
      "cell_type": "code",
      "metadata": {
        "id": "0SULmsK4svFJ",
        "colab_type": "code",
        "colab": {}
      },
      "source": [
        "pretrained_embedding = 'https://tfhub.dev/google/tf2-preview/gnews-swivel-20dim/1'\n",
        "hub_layer = hub.KerasLayer(pretrained_embedding, input_shape=[], dtype=tf.string, trainable=True)"
      ],
      "execution_count": 0,
      "outputs": []
    },
    {
      "cell_type": "code",
      "metadata": {
        "id": "iDUWEmEetMLX",
        "colab_type": "code",
        "colab": {}
      },
      "source": [
        "def _int64_feature(value):\n",
        "  \"\"\"Returns int64 tf.train.Feature.\"\"\"\n",
        "  return tf.train.Feature(int64_list=tf.train.Int64List(value=value.tolist()))\n",
        "\n",
        "\n",
        "def _bytes_feature(value):\n",
        "  \"\"\"Returns bytes tf.train.Feature.\"\"\"\n",
        "  return tf.train.Feature(\n",
        "      bytes_list=tf.train.BytesList(value=[value.encode('utf-8')]))\n",
        "\n",
        "\n",
        "def _float_feature(value):\n",
        "  \"\"\"Returns float tf.train.Feature.\"\"\"\n",
        "  return tf.train.Feature(float_list=tf.train.FloatList(value=value.tolist()))"
      ],
      "execution_count": 0,
      "outputs": []
    },
    {
      "cell_type": "code",
      "metadata": {
        "id": "M-RFrqChthgg",
        "colab_type": "code",
        "colab": {}
      },
      "source": [
        "def create_embedding_example(word_vector, record_id):\n",
        "    \"\"\"Create tf.Example containing the sample's embedding and its ID.\"\"\"\n",
        "    # We build from text not from tokens\n",
        "    text = decode_review(word_vector)\n",
        "    # Remove the batch_size\n",
        "    text = tf.reshape(text, shape=[-1, ])\n",
        "\n",
        "    # Use the swivel embedding layer here to create embeddings from the text.\n",
        "    sentence_emedding = hub_layer(text)\n",
        "\n",
        "    # Embedding is 2D we need 1D\n",
        "    sentence_emedding = tf.reshape(sentence_emedding, shape=[-1])\n",
        "\n",
        "    features = {\n",
        "        'id' : _bytes_feature(str(record_id)),\n",
        "        'embedding' : _float_feature(sentence_emedding.numpy())\n",
        "    }\n",
        "\n",
        "    return tf.train.Example(features=tf.train.Features(feature=features))\n",
        "    "
      ],
      "execution_count": 0,
      "outputs": []
    },
    {
      "cell_type": "code",
      "metadata": {
        "id": "Pr8htqN71lQL",
        "colab_type": "code",
        "colab": {}
      },
      "source": [
        "def create_embeddings(word_vectors, output_path, starting_record_id):\n",
        "    record_id = int(starting_record_id)\n",
        "    with tf.io.TFRecordWriter(output_path) as writer:\n",
        "        for word_vector in word_vectors:\n",
        "            example = create_embedding_example(word_vector, record_id)\n",
        "            record_id += 1\n",
        "            writer.write(example.SerializeToString())\n",
        "    \n",
        "    return record_id\n"
      ],
      "execution_count": 0,
      "outputs": []
    },
    {
      "cell_type": "code",
      "metadata": {
        "id": "rKVSCebm2K9j",
        "colab_type": "code",
        "colab": {
          "base_uri": "https://localhost:8080/",
          "height": 0
        },
        "outputId": "78d5ba90-c735-486a-97a6-5118042fc029"
      },
      "source": [
        "# Persist TF.Example features containing embeddings for training data in\n",
        "# TFRecord format.\n",
        "create_embeddings(pp_train_data, '/tmp/imdb/embeddings.tfr', 0)"
      ],
      "execution_count": 17,
      "outputs": [
        {
          "output_type": "execute_result",
          "data": {
            "text/plain": [
              "25000"
            ]
          },
          "metadata": {
            "tags": []
          },
          "execution_count": 17
        }
      ]
    },
    {
      "cell_type": "markdown",
      "metadata": {
        "id": "GUFtCqzC3Q75",
        "colab_type": "text"
      },
      "source": [
        "# Build The Graph"
      ]
    },
    {
      "cell_type": "markdown",
      "metadata": {
        "id": "QxfmtD7t3WUV",
        "colab_type": "text"
      },
      "source": [
        "Now that we have the sample embeddings, we will use them to build a similarity graph, i.e, nodes in this graph will correspond to samples and edges in this graph will correspond to similarity between pairs of nodes."
      ]
    },
    {
      "cell_type": "markdown",
      "metadata": {
        "id": "q3mraJJp3Y--",
        "colab_type": "text"
      },
      "source": [
        "Neural Structured Learning provides a graph building library to build a graph based on sample embeddings. It uses cosine similarity as the similarity measure to compare embeddings and build edges between them. It also allows us to specify a similarity threshold, which can be used to discard dissimilar edges from the final graph. In this example, using 0.99 as the similarity threshold, we end up with a graph that has 445,327 bi-directional edges."
      ]
    },
    {
      "cell_type": "code",
      "metadata": {
        "id": "IlwwdNKf2NLl",
        "colab_type": "code",
        "colab": {}
      },
      "source": [
        "nsl.tools.build_graph(embedding_files=['../tmp/imdb/embeddings.tfr'], \n",
        "                      output_graph_path='../tmp/imdb/graph_99.tsv', similarity_threshold=0.99)"
      ],
      "execution_count": 0,
      "outputs": []
    },
    {
      "cell_type": "markdown",
      "metadata": {
        "id": "F1PmOUQo3_Tj",
        "colab_type": "text"
      },
      "source": [
        "Note: Graph quality and by extension, embedding quality, are very important for graph regularization. While we have used Swivel embeddings in this notebook, using BERT embeddings for instance, will likely capture review semantics more accurately. We encourage users to use embeddings of their choice and as appropriate to their needs."
      ]
    },
    {
      "cell_type": "markdown",
      "metadata": {
        "id": "d5hDxYw14YYV",
        "colab_type": "text"
      },
      "source": [
        "# Create the neighbors for the graphs"
      ]
    },
    {
      "cell_type": "markdown",
      "metadata": {
        "id": "yVrWzFH84ia6",
        "colab_type": "text"
      },
      "source": [
        "We create sample features for our problem using the tf.train.Example format and persist them in the TFRecord format. Each sample will include the following three features:\n",
        "\n",
        "    id: The node ID of the sample.\n",
        "    words: An int64 list containing word IDs.\n",
        "    label: A singleton int64 identifying the target class of the review.\n"
      ]
    },
    {
      "cell_type": "code",
      "metadata": {
        "id": "3Q2Ii0LW4bIZ",
        "colab_type": "code",
        "colab": {}
      },
      "source": [
        "def create_example(word_vector, label, record_id):\n",
        "  \"\"\"Create tf.Example containing the sample's word vector, label, and ID.\"\"\"\n",
        "  features = {\n",
        "      'id': _bytes_feature(str(record_id)),\n",
        "      'words': _int64_feature(np.asarray(word_vector)),\n",
        "      'label': _int64_feature(np.asarray([label])),\n",
        "  }\n",
        "  return tf.train.Example(features=tf.train.Features(feature=features))"
      ],
      "execution_count": 0,
      "outputs": []
    },
    {
      "cell_type": "code",
      "metadata": {
        "id": "8tFRg3J74vSW",
        "colab_type": "code",
        "colab": {}
      },
      "source": [
        "def create_records(word_vectors, labels, record_path, starting_record_id):\n",
        "    record_id = int(starting_record_id)\n",
        "    with tf.io.TFRecordWriter(record_path) as writer:\n",
        "        for word_vector, label in zip(word_vectors, labels):\n",
        "            example = create_example(word_vector, label, record_id)\n",
        "            record_id += 1\n",
        "            writer.write(example.SerializeToString())\n",
        "    return record_id"
      ],
      "execution_count": 0,
      "outputs": []
    },
    {
      "cell_type": "code",
      "metadata": {
        "id": "B2L285Lj-y5T",
        "colab_type": "code",
        "colab": {
          "base_uri": "https://localhost:8080/",
          "height": 0
        },
        "outputId": "5eb69b95-bd09-4f48-b07b-bd06b7a6d9c3"
      },
      "source": [
        "next_record_id = create_records(pp_train_data, pp_train_labels,\n",
        "                                '/tmp/imdb/train_data.tfr', 0)\n",
        "\n",
        "create_records(pp_test_data, pp_test_labels, '/tmp/imdb/test_data.tfr',\n",
        "               next_record_id)\n"
      ],
      "execution_count": 21,
      "outputs": [
        {
          "output_type": "execute_result",
          "data": {
            "text/plain": [
              "50000"
            ]
          },
          "metadata": {
            "tags": []
          },
          "execution_count": 21
        }
      ]
    },
    {
      "cell_type": "markdown",
      "metadata": {
        "id": "1lmyHxfl-_ne",
        "colab_type": "text"
      },
      "source": [
        "# Augment training data with graph neighbors"
      ]
    },
    {
      "cell_type": "markdown",
      "metadata": {
        "id": "adTGFCAF_FYm",
        "colab_type": "text"
      },
      "source": [
        "Since we have the sample features and the synthesized graph, we can generate the augmented training data for Neural Structured Learning. \n",
        "\n",
        "The NSL framework provides a library to combine the graph and the sample features to produce the final training data for graph regularization. \n",
        "\n",
        "The resulting training data will include original sample features as well as features of their corresponding neighbors."
      ]
    },
    {
      "cell_type": "markdown",
      "metadata": {
        "id": "9BxisxKk_Jmv",
        "colab_type": "text"
      },
      "source": [
        "In this tutorial, we consider undirected edges and use a maximum of 3 neighbors per sample to augment training data with graph neighbors."
      ]
    },
    {
      "cell_type": "code",
      "metadata": {
        "id": "r3zdgEWT36U9",
        "colab_type": "code",
        "colab": {}
      },
      "source": [
        "nsl.tools.pack_nbrs(\n",
        "    labeled_examples_path ='/tmp/imdb/train_data.tfr',\n",
        "    unlabeled_examples_path = '',\n",
        "    graph_path='/tmp/imdb/graph_99.tsv', \n",
        "    output_training_data_path='/tmp/imdb/nsl_train_data.tfr',\n",
        "    add_undirected_edges=True,\n",
        "    max_nbrs=3, )"
      ],
      "execution_count": 0,
      "outputs": []
    },
    {
      "cell_type": "markdown",
      "metadata": {
        "id": "3ZodA930_2lY",
        "colab_type": "text"
      },
      "source": [
        "We are now ready to build a base model without graph regularization. In order to build this model, we can either use embeddings that were used in building the graph, or we can learn new embeddings jointly along with the classification task. For the purpose of this notebook, we will do the latter."
      ]
    },
    {
      "cell_type": "code",
      "metadata": {
        "id": "6JEaibkv_M4m",
        "colab_type": "code",
        "colab": {}
      },
      "source": [
        "NBR_FEATURE_PREFIX = 'NL_nbr_'\n",
        "NBR_WEIGHT_SUFFIX = '_weight'"
      ],
      "execution_count": 0,
      "outputs": []
    },
    {
      "cell_type": "markdown",
      "metadata": {
        "id": "GTU8ufSCAJ1l",
        "colab_type": "text"
      },
      "source": [
        "# Hyperparameters\n",
        "\n",
        "We will use an instance of HParams to inclue various hyperparameters and constants used for training and evaluation. We briefly describe each of them below:\n",
        "\n"
      ]
    },
    {
      "cell_type": "markdown",
      "metadata": {
        "id": "Jva6JC7Ecesv",
        "colab_type": "text"
      },
      "source": [
        "\n",
        "    num_classes: There are 2 classes -- positive and negative.\n",
        "\n",
        "    max_seq_length: This is the maximum number of words considered from each movie review in this example.\n",
        "\n",
        "    vocab_size: This is the size of the vocabulary considered for this example.\n",
        "\n",
        "    distance_type: This is the distance metric used to regularize the sample with its neighbors.\n",
        "\n",
        "    graph_regularization_multiplier: This controls the relative weight of the graph regularization term in the overall loss function.\n",
        "\n",
        "    num_neighbors: The number of neighbors used for graph regularization. This value has to be less than or equal to the max_nbrs argument used above when invoking nsl.tools.pack_nbrs.\n",
        "\n",
        "    num_fc_units: The number of units in the fully connected layer of the neural network.\n",
        "\n",
        "    train_epochs: The number of training epochs.\n",
        "\n",
        "    batch_size: Batch size used for training and evaluation.\n",
        "\n",
        "    eval_steps: The number of batches to process before deeming evaluation is complete. If set to None, all instances in the test set are evaluated."
      ]
    },
    {
      "cell_type": "code",
      "metadata": {
        "id": "Qgo0HOb8AISl",
        "colab_type": "code",
        "colab": {}
      },
      "source": [
        "class HParams(object):\n",
        "  \"\"\"Hyperparameters used for training.\"\"\"\n",
        "  def __init__(self):\n",
        "    ### dataset parameters\n",
        "    self.num_classes = 2\n",
        "    self.max_seq_length = 256\n",
        "    self.vocab_size = 10000\n",
        "    ### neural graph learning parameters\n",
        "    self.distance_type = nsl.configs.DistanceType.L2\n",
        "    self.graph_regularization_multiplier = 0.1\n",
        "    self.num_neighbors = 2\n",
        "    ### model architecture\n",
        "    self.num_embedding_dims = 16\n",
        "    self.num_lstm_dims = 64\n",
        "    self.num_fc_units = 64\n",
        "    ### training parameters\n",
        "    self.train_epochs = 10\n",
        "    self.batch_size = 128\n",
        "    ### eval parameters\n",
        "    self.eval_steps = None  # All instances in the test set are evaluated.\n",
        "\n",
        "HPARAMS = HParams()\n"
      ],
      "execution_count": 0,
      "outputs": []
    },
    {
      "cell_type": "markdown",
      "metadata": {
        "id": "G2b5sCRta4vU",
        "colab_type": "text"
      },
      "source": [
        "# Prepare the Data"
      ]
    },
    {
      "cell_type": "markdown",
      "metadata": {
        "id": "nRM6wec6a8b3",
        "colab_type": "text"
      },
      "source": [
        "The reviews—the arrays of integers—must be converted to tensors before being fed into the neural network. This conversion can be done a couple of ways:\n",
        "\n",
        "- Convert the arrays into vectors of 0s and 1s indicating word occurrence, similar to a one-hot encoding. For example, the sequence [3, 5] would become a 10000-dimensional vector that is all zeros except for indices 3 and 5, which are ones. Then, make this the first layer in our network—a Dense layer—that can handle floating point vector data. This approach is memory intensive, though, requiring a num_words * num_reviews size matrix.\n",
        "\n",
        "- Alternatively, we can pad the arrays so they all have the same length, then create an integer tensor of shape max_length * num_reviews. We can use an embedding layer capable of handling this shape as the first layer in our network.\n"
      ]
    },
    {
      "cell_type": "markdown",
      "metadata": {
        "id": "k29zWmVYbGZ3",
        "colab_type": "text"
      },
      "source": [
        "we will use the second approach.\n",
        "\n",
        "Since the movie reviews must be the same length, we will use the pad_sequence function defined below to standardize the lengths."
      ]
    },
    {
      "cell_type": "code",
      "metadata": {
        "id": "3x5zAquDANw7",
        "colab_type": "code",
        "colab": {}
      },
      "source": [
        "def pad_sequence(sequence, max_seq_length):\n",
        "    \"\"\"Pads the input sequence (a `tf.SparseTensor`) to `max_seq_length`.\"\"\"\n",
        "    pad_size = tf.maximum([0], max_seq_length - tf.shape(sequence)[0])\n",
        "    padded = tf.concat(\n",
        "        [sequence.values,\n",
        "        tf.fill((pad_size), tf.cast(0, sequence.dtype))],\n",
        "        axis=0)\n",
        "    # The input sequence may be larger than max_seq_length. Truncate down if\n",
        "    # necessary.\n",
        "    return tf.slice(padded, [0], [max_seq_length])\n"
      ],
      "execution_count": 0,
      "outputs": []
    },
    {
      "cell_type": "code",
      "metadata": {
        "id": "rLYwjj_NbydW",
        "colab_type": "code",
        "colab": {}
      },
      "source": [
        "def parse_example(example_proto):\n",
        "    \"\"\"Extracts relevant fields from the `example_proto`.\n",
        "\n",
        "    Args:\n",
        "    example_proto: An instance of `tf.train.Example`.\n",
        "\n",
        "    Returns:\n",
        "    A pair whose first value is a dictionary containing relevant features\n",
        "    and whose second value contains the ground truth labels.\n",
        "    \"\"\"\n",
        "    # The 'words' feature is a variable length word ID vector.\n",
        "    feature_spec = {\n",
        "        'words': tf.io.VarLenFeature(tf.int64),\n",
        "        'label': tf.io.FixedLenFeature((), tf.int64, default_value=-1),\n",
        "    }\n",
        "    # We also extract corresponding neighbor features in a similar manner to\n",
        "    # the features above.\n",
        "    for i in range(HPARAMS.num_neighbors):\n",
        "        nbr_feature_key = '{}{}_{}'.format(NBR_FEATURE_PREFIX, i, 'words')\n",
        "        nbr_weight_key = '{}{}{}'.format(NBR_FEATURE_PREFIX, i, NBR_WEIGHT_SUFFIX)\n",
        "        feature_spec[nbr_feature_key] = tf.io.VarLenFeature(tf.int64)\n",
        "\n",
        "    # We assign a default value of 0.0 for the neighbor weight so that\n",
        "    # graph regularization is done on samples based on their exact number\n",
        "    # of neighbors. In other words, non-existent neighbors are discounted.\n",
        "        feature_spec[nbr_weight_key] = tf.io.FixedLenFeature(\n",
        "            [1], tf.float32, default_value=tf.constant([0.0]))\n",
        "\n",
        "    features = tf.io.parse_single_example(example_proto, feature_spec)\n",
        "\n",
        "    # Since the 'words' feature is a variable length word vector, we pad it to a\n",
        "    # constant maximum length based on HPARAMS.max_seq_length\n",
        "    features['words'] = pad_sequence(features['words'], HPARAMS.max_seq_length)\n",
        "    for i in range(HPARAMS.num_neighbors):\n",
        "        nbr_feature_key = '{}{}_{}'.format(NBR_FEATURE_PREFIX, i, 'words')\n",
        "        features[nbr_feature_key] = pad_sequence(features[nbr_feature_key],\n",
        "                                                    HPARAMS.max_seq_length)\n",
        "\n",
        "    labels = features.pop('label')\n",
        "    return features, labels"
      ],
      "execution_count": 0,
      "outputs": []
    },
    {
      "cell_type": "code",
      "metadata": {
        "id": "2A8I3a-xcAT-",
        "colab_type": "code",
        "colab": {}
      },
      "source": [
        "def make_dataset(file_path, training=False):\n",
        "    \"\"\"Creates a `tf.data.TFRecordDataset`.\n",
        "\n",
        "    Args:\n",
        "    file_path: Name of the file in the `.tfrecord` format containing\n",
        "        `tf.train.Example` objects.\n",
        "    training: Boolean indicating if we are in training mode.\n",
        "\n",
        "    Returns:\n",
        "    An instance of `tf.data.TFRecordDataset` containing the `tf.train.Example`\n",
        "    objects.\n",
        "    \"\"\"\n",
        "    dataset = tf.data.TFRecordDataset([file_path])\n",
        "    if training:\n",
        "        dataset = dataset.shuffle(10000)\n",
        "    dataset = dataset.map(parse_example)\n",
        "    dataset = dataset.batch(HPARAMS.batch_size)\n",
        "    return dataset"
      ],
      "execution_count": 0,
      "outputs": []
    },
    {
      "cell_type": "code",
      "metadata": {
        "id": "ByOnWiGZcGkt",
        "colab_type": "code",
        "colab": {}
      },
      "source": [
        "train_dataset = make_dataset('/tmp/imdb/nsl_train_data.tfr', True)\n",
        "test_dataset = make_dataset('/tmp/imdb/test_data.tfr')"
      ],
      "execution_count": 0,
      "outputs": []
    },
    {
      "cell_type": "markdown",
      "metadata": {
        "id": "yMDcLBFgcPjj",
        "colab_type": "text"
      },
      "source": [
        "# Build the model"
      ]
    },
    {
      "cell_type": "code",
      "metadata": {
        "id": "W26KgkRrcQnC",
        "colab_type": "code",
        "colab": {}
      },
      "source": [
        "# This function exists as an alternative to the bi-LSTM model used in this\n",
        "# notebook.\n",
        "def make_feed_forward_model():\n",
        "    \"\"\"Builds a simple 2 layer feed forward neural network.\"\"\"\n",
        "    inputs = tf.keras.Input(\n",
        "        shape=(HPARAMS.max_seq_length,), dtype='int64', name='words')\n",
        "    embedding_layer = tf.keras.layers.Embedding(HPARAMS.vocab_size, 16)(inputs)\n",
        "    pooling_layer = tf.keras.layers.GlobalAveragePooling1D()(embedding_layer)\n",
        "    dense_layer = tf.keras.layers.Dense(16, activation='relu')(pooling_layer)\n",
        "    outputs = tf.keras.layers.Dense(1, activation='sigmoid')(dense_layer)\n",
        "    return tf.keras.Model(inputs=inputs, outputs=outputs)\n",
        "\n",
        "# Feel free to use an architecture of your choice."
      ],
      "execution_count": 0,
      "outputs": []
    },
    {
      "cell_type": "code",
      "metadata": {
        "id": "pNumE0V_cyWw",
        "colab_type": "code",
        "colab": {}
      },
      "source": [
        "def make_bilstm_model():\n",
        "    \"\"\"Builds a bi-directional LSTM model.\"\"\"\n",
        "    inputs = tf.keras.Input(\n",
        "        shape=(HPARAMS.max_seq_length,), dtype='int64', name='words')\n",
        "    embedding_layer = tf.keras.layers.Embedding(HPARAMS.vocab_size,\n",
        "                                                HPARAMS.num_embedding_dims)(\n",
        "                                                    inputs)\n",
        "    lstm_layer = tf.keras.layers.Bidirectional(\n",
        "        tf.keras.layers.LSTM(HPARAMS.num_lstm_dims))(\n",
        "            embedding_layer)\n",
        "    dense_layer = tf.keras.layers.Dense(\n",
        "        HPARAMS.num_fc_units, activation='relu')(\n",
        "            lstm_layer)\n",
        "    outputs = tf.keras.layers.Dense(1, activation='sigmoid')(dense_layer)\n",
        "    return tf.keras.Model(inputs=inputs, outputs=outputs)\n"
      ],
      "execution_count": 0,
      "outputs": []
    },
    {
      "cell_type": "code",
      "metadata": {
        "id": "TczUi_eOcsGT",
        "colab_type": "code",
        "colab": {}
      },
      "source": [
        "model = make_bilstm_model()"
      ],
      "execution_count": 0,
      "outputs": []
    },
    {
      "cell_type": "code",
      "metadata": {
        "id": "xc_MYLW5c6yw",
        "colab_type": "code",
        "colab": {}
      },
      "source": [
        "model.compile(\n",
        "    optimizer='adam', loss='binary_crossentropy', metrics=['accuracy'])\n"
      ],
      "execution_count": 0,
      "outputs": []
    },
    {
      "cell_type": "markdown",
      "metadata": {
        "id": "S5udSARedA23",
        "colab_type": "text"
      },
      "source": [
        "Create a validation set"
      ]
    },
    {
      "cell_type": "code",
      "metadata": {
        "id": "VKypx0-7dBPW",
        "colab_type": "code",
        "colab": {
          "base_uri": "https://localhost:8080/",
          "height": 35
        },
        "outputId": "ed0af3a7-4d4a-44a2-c95b-838297e263b8"
      },
      "source": [
        "validation_fraction = 0.9\n",
        "validation_size = int(validation_fraction *\n",
        "                      int(training_samples_count / HPARAMS.batch_size))\n",
        "print(validation_size)\n",
        "validation_dataset = train_dataset.take(validation_size)\n",
        "train_dataset = train_dataset.skip(validation_size)"
      ],
      "execution_count": 64,
      "outputs": [
        {
          "output_type": "stream",
          "text": [
            "175\n"
          ],
          "name": "stdout"
        }
      ]
    },
    {
      "cell_type": "code",
      "metadata": {
        "id": "SUW7s6xfdFZg",
        "colab_type": "code",
        "colab": {}
      },
      "source": [
        "#  Train the model"
      ],
      "execution_count": 0,
      "outputs": []
    },
    {
      "cell_type": "code",
      "metadata": {
        "id": "Uk5BibjidE5H",
        "colab_type": "code",
        "colab": {}
      },
      "source": [
        "history = model.fit(\n",
        "    train_dataset,\n",
        "    validation_data=validation_dataset,\n",
        "    epochs=HPARAMS.train_epochs,\n",
        "    verbose=1)\n"
      ],
      "execution_count": 0,
      "outputs": []
    },
    {
      "cell_type": "code",
      "metadata": {
        "id": "9hUMvCl1dhSm",
        "colab_type": "code",
        "colab": {
          "base_uri": "https://localhost:8080/",
          "height": 54
        },
        "outputId": "5fc80805-a377-4d8d-db13-7bec0aa20c7e"
      },
      "source": [
        "results = model.evaluate(test_dataset, steps=HPARAMS.eval_steps)\n",
        "print(results)"
      ],
      "execution_count": 67,
      "outputs": [
        {
          "output_type": "stream",
          "text": [
            "196/196 [==============================] - 4s 20ms/step - loss: 0.6934 - accuracy: 0.5000\n",
            "[0.6934233903884888, 0.5]\n"
          ],
          "name": "stdout"
        }
      ]
    },
    {
      "cell_type": "code",
      "metadata": {
        "id": "MTkMgw8cd2Ir",
        "colab_type": "code",
        "colab": {
          "base_uri": "https://localhost:8080/",
          "height": 35
        },
        "outputId": "c35f7b22-abbb-47b2-c427-39ef89f28c24"
      },
      "source": [
        "history_dict = history.history\n",
        "history_dict.keys()"
      ],
      "execution_count": 68,
      "outputs": [
        {
          "output_type": "execute_result",
          "data": {
            "text/plain": [
              "dict_keys(['loss', 'accuracy', 'val_loss', 'val_accuracy'])"
            ]
          },
          "metadata": {
            "tags": []
          },
          "execution_count": 68
        }
      ]
    },
    {
      "cell_type": "code",
      "metadata": {
        "id": "Yxsz8TrOd3Z6",
        "colab_type": "code",
        "colab": {
          "base_uri": "https://localhost:8080/",
          "height": 295
        },
        "outputId": "439160e4-0fd6-4c08-e877-cc64d21e5fa4"
      },
      "source": [
        "acc = history_dict['accuracy']\n",
        "val_acc = history_dict['val_accuracy']\n",
        "loss = history_dict['loss']\n",
        "val_loss = history_dict['val_loss']\n",
        "\n",
        "epochs = range(1, len(acc) + 1)\n",
        "\n",
        "# \"-r^\" is for solid red line with triangle markers.\n",
        "plt.plot(epochs, loss, '-r^', label='Training loss')\n",
        "# \"-b0\" is for solid blue line with circle markers.\n",
        "plt.plot(epochs, val_loss, '-bo', label='Validation loss')\n",
        "plt.title('Training and validation loss')\n",
        "plt.xlabel('Epochs')\n",
        "plt.ylabel('Loss')\n",
        "plt.legend(loc='best')\n",
        "plt.show()"
      ],
      "execution_count": 69,
      "outputs": [
        {
          "output_type": "display_data",
          "data": {
            "image/png": "[encoded data removed]",
            "text/plain": [
              "<Figure size 432x288 with 1 Axes>"
            ]
          },
          "metadata": {
            "tags": []
          }
        }
      ]
    },
    {
      "cell_type": "markdown",
      "metadata": {
        "id": "8Hbkrkbrelgx",
        "colab_type": "text"
      },
      "source": [
        "# Graph regularization"
      ]
    },
    {
      "cell_type": "markdown",
      "metadata": {
        "id": "tkzTfGP6enm8",
        "colab_type": "text"
      },
      "source": [
        "\n",
        "We are now ready to try graph regularization using the base model that we built above. We will use the GraphRegularization wrapper class provided by the Neural Structured Learning framework to wrap the base (bi-LSTM) model to include graph regularization. The rest of the steps for training and evaluating the graph-regularized model are similar to that of the base model."
      ]
    },
    {
      "cell_type": "markdown",
      "metadata": {
        "id": "RlMESyHtev15",
        "colab_type": "text"
      },
      "source": [
        "## Create graph-regularized model\n",
        "\n",
        "To assess the incremental benefit of graph regularization, we will create a new base model instance. This is because model has already been trained for a few iterations, and reusing this trained model to create a graph-regularized model will not be a fair comparison for model."
      ]
    },
    {
      "cell_type": "code",
      "metadata": {
        "id": "c2tSkewrd4pd",
        "colab_type": "code",
        "colab": {}
      },
      "source": [
        "# Build a new base LSTM model.\n",
        "base_reg_model = make_bilstm_model()"
      ],
      "execution_count": 0,
      "outputs": []
    },
    {
      "cell_type": "code",
      "metadata": {
        "id": "q2lNekExeyUP",
        "colab_type": "code",
        "colab": {}
      },
      "source": [
        "graph_reg_config = nsl.configs.make_graph_reg_config(max_neighbors=HPARAMS.num_neighbors,\n",
        "                                                    multiplier=HPARAMS.graph_regularization_multiplier,\n",
        "                                                     distance_type=HPARAMS.distance_type,\n",
        "                                                     sum_over_axis=-1)"
      ],
      "execution_count": 0,
      "outputs": []
    },
    {
      "cell_type": "code",
      "metadata": {
        "id": "QC7q8GEEfSje",
        "colab_type": "code",
        "colab": {}
      },
      "source": [
        "graph_reg_model = nsl.keras.GraphRegularization(base_model=base_reg_model, graph_reg_config=graph_reg_config)"
      ],
      "execution_count": 0,
      "outputs": []
    },
    {
      "cell_type": "code",
      "metadata": {
        "id": "lzxfeS_zfiC9",
        "colab_type": "code",
        "colab": {}
      },
      "source": [
        "graph_reg_model.compile(optimizer='Adam', loss='binary_crossentropy', metrics=['acc'])"
      ],
      "execution_count": 0,
      "outputs": []
    },
    {
      "cell_type": "code",
      "metadata": {
        "id": "YElE7s45fpt8",
        "colab_type": "code",
        "colab": {
          "base_uri": "https://localhost:8080/",
          "height": 441
        },
        "outputId": "0faf9263-c13d-4c16-bd8e-7beaaf1b2651"
      },
      "source": [
        "graph_reg_history = graph_reg_model.fit(\n",
        "    train_dataset,\n",
        "    validation_data=validation_dataset,\n",
        "    epochs=HPARAMS.train_epochs,\n",
        "    verbose=1)"
      ],
      "execution_count": 76,
      "outputs": [
        {
          "output_type": "stream",
          "text": [
            "Epoch 1/10\n"
          ],
          "name": "stdout"
        },
        {
          "output_type": "stream",
          "text": [
            "/usr/local/lib/python3.6/dist-packages/tensorflow/python/framework/indexed_slices.py:434: UserWarning: Converting sparse IndexedSlices to a dense Tensor of unknown shape. This may consume a large amount of memory.\n",
            "  \"Converting sparse IndexedSlices to a dense Tensor of unknown shape. \"\n"
          ],
          "name": "stderr"
        },
        {
          "output_type": "stream",
          "text": [
            "21/21 [==============================] - 48s 2s/step - loss: 0.6933 - acc: 0.4892 - graph_loss: 3.1436e-06 - val_loss: 0.6927 - val_acc: 0.5074 - val_graph_loss: 0.0000e+00\n",
            "Epoch 2/10\n",
            "21/21 [==============================] - 45s 2s/step - loss: 0.6916 - acc: 0.5231 - graph_loss: 4.6051e-05 - val_loss: 0.6876 - val_acc: 0.5022 - val_graph_loss: 0.0000e+00\n",
            "Epoch 3/10\n",
            "21/21 [==============================] - 45s 2s/step - loss: 0.6517 - acc: 0.6488 - graph_loss: 0.0158 - val_loss: 0.6118 - val_acc: 0.7396 - val_graph_loss: 0.0000e+00\n",
            "Epoch 4/10\n",
            "21/21 [==============================] - 45s 2s/step - loss: 0.5307 - acc: 0.7508 - graph_loss: 0.0650 - val_loss: 0.4788 - val_acc: 0.7643 - val_graph_loss: 0.0000e+00\n",
            "Epoch 5/10\n",
            "21/21 [==============================] - 45s 2s/step - loss: 0.4391 - acc: 0.8131 - graph_loss: 0.1195 - val_loss: 0.4858 - val_acc: 0.7909 - val_graph_loss: 0.0000e+00\n",
            "Epoch 6/10\n",
            "21/21 [==============================] - 46s 2s/step - loss: 0.4297 - acc: 0.8269 - graph_loss: 0.1419 - val_loss: 0.3658 - val_acc: 0.8470 - val_graph_loss: 0.0000e+00\n",
            "Epoch 7/10\n",
            "21/21 [==============================] - 45s 2s/step - loss: 0.3753 - acc: 0.8546 - graph_loss: 0.1779 - val_loss: 0.3573 - val_acc: 0.8524 - val_graph_loss: 0.0000e+00\n",
            "Epoch 8/10\n",
            "21/21 [==============================] - 46s 2s/step - loss: 0.3435 - acc: 0.8715 - graph_loss: 0.1827 - val_loss: 0.3378 - val_acc: 0.8594 - val_graph_loss: 0.0000e+00\n",
            "Epoch 9/10\n",
            "21/21 [==============================] - 45s 2s/step - loss: 0.3472 - acc: 0.8688 - graph_loss: 0.1982 - val_loss: 0.3951 - val_acc: 0.8270 - val_graph_loss: 0.0000e+00\n",
            "Epoch 10/10\n",
            "21/21 [==============================] - 45s 2s/step - loss: 0.3222 - acc: 0.8827 - graph_loss: 0.2007 - val_loss: 0.3058 - val_acc: 0.8779 - val_graph_loss: 0.0000e+00\n"
          ],
          "name": "stdout"
        }
      ]
    },
    {
      "cell_type": "code",
      "metadata": {
        "id": "-3ERaPWCfr2_",
        "colab_type": "code",
        "colab": {
          "base_uri": "https://localhost:8080/",
          "height": 54
        },
        "outputId": "d921001e-a45c-4b2f-bbad-dad55372f76e"
      },
      "source": [
        "graph_reg_results = graph_reg_model.evaluate(test_dataset, steps=HPARAMS.eval_steps)\n",
        "print(graph_reg_results)"
      ],
      "execution_count": 77,
      "outputs": [
        {
          "output_type": "stream",
          "text": [
            "196/196 [==============================] - 4s 22ms/step - loss: 0.3943 - acc: 0.8255 - graph_loss: 0.0000e+00\n",
            "[0.3943191468715668, 0.8254799842834473, 0.0]\n"
          ],
          "name": "stdout"
        }
      ]
    },
    {
      "cell_type": "code",
      "metadata": {
        "id": "QOSc1QRufuYu",
        "colab_type": "code",
        "colab": {}
      },
      "source": [
        "graph_reg_history_dict = graph_reg_history.history\n",
        "graph_reg_history_dict.keys()\n",
        "acc = graph_reg_history_dict['acc']\n",
        "val_acc = graph_reg_history_dict['val_acc']\n",
        "loss = graph_reg_history_dict['loss']\n",
        "graph_loss = graph_reg_history_dict['graph_loss']\n",
        "val_loss = graph_reg_history_dict['val_loss']\n",
        "val_graph_loss = graph_reg_history_dict['val_graph_loss']"
      ],
      "execution_count": 0,
      "outputs": []
    },
    {
      "cell_type": "code",
      "metadata": {
        "id": "TgGoP5dBf2BL",
        "colab_type": "code",
        "colab": {
          "base_uri": "https://localhost:8080/",
          "height": 295
        },
        "outputId": "6ee2d9c7-1754-4f3a-ed34-69db743cec37"
      },
      "source": [
        "epochs = range(1, len(acc) + 1)\n",
        "# plt.clf()   # clear figure\n",
        "# \"-r^\" is for solid red line with triangle markers.\n",
        "plt.plot(epochs, loss, '-r^', label='Training loss')\n",
        "# \"-gD\" is for solid green line with diamond markers.\n",
        "plt.plot(epochs, graph_loss, '-gD', label='Training graph loss')\n",
        "# \"-b0\" is for solid blue line with circle markers.\n",
        "plt.plot(epochs, val_loss, '-bo', label='Validation loss')\n",
        "# \"-ms\" is for solid magenta line with square markers.\n",
        "plt.plot(epochs, val_graph_loss, '-ms', label='Validation graph loss')\n",
        "plt.title('Training and validation loss')\n",
        "plt.xlabel('Epochs')\n",
        "plt.ylabel('Loss')\n",
        "plt.legend(loc='best')\n",
        "plt.show()"
      ],
      "execution_count": 81,
      "outputs": [
        {
          "output_type": "display_data",
          "data": {
            "image/png": "[encoded data removed]",
            "text/plain": [
              "<Figure size 432x288 with 1 Axes>"
            ]
          },
          "metadata": {
            "tags": []
          }
        }
      ]
    },
    {
      "cell_type": "code",
      "metadata": {
        "id": "7H0oIXxwfz51",
        "colab_type": "code",
        "colab": {
          "base_uri": "https://localhost:8080/",
          "height": 295
        },
        "outputId": "b0e42803-1b1d-4859-eb58-3b3e69b70864"
      },
      "source": [
        "plt.plot(epochs, acc, '-r^', label='Training acc')\n",
        "plt.plot(epochs, val_acc, '-bo', label='Validation acc')\n",
        "plt.title('Training and validation accuracy')\n",
        "plt.xlabel('Epochs')\n",
        "plt.ylabel('Accuracy')\n",
        "plt.legend(loc='best')\n",
        "plt.show()\n"
      ],
      "execution_count": 82,
      "outputs": [
        {
          "output_type": "display_data",
          "data": {
            "image/png": "[encoded data removed]",
            "text/plain": [
              "<Figure size 432x288 with 1 Axes>"
            ]
          },
          "metadata": {
            "tags": []
          }
        }
      ]
    },
    {
      "cell_type": "markdown",
      "metadata": {
        "id": "3euvan1nhR8L",
        "colab_type": "text"
      },
      "source": [
        "# About Semi Supervised Learning"
      ]
    },
    {
      "cell_type": "markdown",
      "metadata": {
        "id": "kuPleKPxheEF",
        "colab_type": "text"
      },
      "source": [
        "Semi-supervised learning and more specifically, graph regularization in the context of this tutorial, can be really powerful when the amount of training data is small. \n",
        "\n",
        "The lack of training data is compensated by leveraging similarity among the training samples, which is not possible in traditional supervised learning.\n",
        "\n",
        "We define supervision ratio as the ratio of training samples to the total number of samples which includes training, validation, and test samples. \n",
        "\n",
        "In this notebook, we have used a supervision ratio of 0.05 (i.e, 5% of the labeled data) for training both the base model as well as the graph-regularized model. We illustrate the impact of the supervision ratio on model accuracy in the cell below."
      ]
    },
    {
      "cell_type": "markdown",
      "metadata": {
        "id": "ObKM4Qr_hc-V",
        "colab_type": "text"
      },
      "source": [
        "![image.png](data:image/png;base64,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)"
      ]
    },
    {
      "cell_type": "markdown",
      "metadata": {
        "id": "sFEwQiEuhoYE",
        "colab_type": "text"
      },
      "source": [
        "It can be observed that as the superivision ratio decreases, model accuracy also decreases. \n",
        "\n",
        "This is true for both the base model and for the graph-regularized model, regardless of the model architecture used. \n",
        "\n",
        "However, notice that the graph-regularized model performs better than the base model for both the architectures. In particular, for the Bi-LSTM model, when the supervision ratio is 0.01, the accuracy of the graph-regularized model is ~20% higher than that of the base model. \n",
        "\n",
        "This is primarily because of semi-supervised learning for the graph-regularized model, where structural similarity among training samples is used in addition to the training samples themselves."
      ]
    }
  ]
}