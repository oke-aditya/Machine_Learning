{
  "nbformat": 4,
  "nbformat_minor": 0,
  "metadata": {
    "colab": {
      "name": "Adversarial_image_classification.ipynb",
      "provenance": []
    },
    "kernelspec": {
      "name": "python3",
      "display_name": "Python 3"
    },
    "accelerator": "GPU"
  },
  "cells": [
    {
      "cell_type": "markdown",
      "metadata": {
        "id": "y_ymOCkABKHP",
        "colab_type": "text"
      },
      "source": [
        "# Neural Structured Learning for adverserial image classification"
      ]
    },
    {
      "cell_type": "markdown",
      "metadata": {
        "id": "j9-cnn8zBPZB",
        "colab_type": "text"
      },
      "source": [
        "The core idea of adversarial learning is to train a model with adversarially-perturbed data (called adversarial examples) in addition to the organic training data. The adversarial examples are constructed to intentionally mislead the model into making wrong predictions or classifications. By training with such examples, the model learns to be robust against adversarial perturbation when making predictions.\n",
        "\n",
        "In this tutorial, we illustrate the following procedure of applying adversarial learning to obtain robust models using the Neural Structured Learning framework:\n",
        "\n",
        "Creata a neural network as a base model. In this tutorial, the base model is created with the tf.keras functional API; this procedure is compatible with models created by tf.keras sequential and subclassing APIs as well.\n",
        "\n",
        "\n",
        "Wrap the base model with the AdversarialRegularization wrapper class, which is provided by the NSL framework, to create a new tf.keras.Model instance. This new model will include the adversarial loss as a regularization term in its training objective.\n",
        "\n",
        "\n",
        "Convert examples in the training data to feature dictionaries.\n",
        "Train and evaluate the new model.\n"
      ]
    },
    {
      "cell_type": "code",
      "metadata": {
        "id": "ZqpoIHwPA-vl",
        "colab_type": "code",
        "colab": {}
      },
      "source": [
        "%tensorflow_version 2.x"
      ],
      "execution_count": 0,
      "outputs": []
    },
    {
      "cell_type": "code",
      "metadata": {
        "id": "47L84ytqBfX5",
        "colab_type": "code",
        "colab": {}
      },
      "source": [
        "# !pip install neural-structured-learning"
      ],
      "execution_count": 0,
      "outputs": []
    },
    {
      "cell_type": "code",
      "metadata": {
        "id": "eWixCa95BiYR",
        "colab_type": "code",
        "colab": {}
      },
      "source": [
        "import matplotlib.pyplot as plt\n",
        "import neural_structured_learning as nsl\n",
        "import numpy as np\n",
        "import tensorflow as tf\n",
        "import tensorflow_datasets as tfds"
      ],
      "execution_count": 0,
      "outputs": []
    },
    {
      "cell_type": "markdown",
      "metadata": {
        "id": "2-7smo1oBo4Z",
        "colab_type": "text"
      },
      "source": [
        "# Hyperparamters"
      ]
    },
    {
      "cell_type": "markdown",
      "metadata": {
        "id": "mmw01NNABqxK",
        "colab_type": "text"
      },
      "source": [
        "Hyperparameters\n",
        "\n",
        "We collect and explain the hyperparameters (in an HParams object) for model training and evaluation.\n",
        "\n",
        "Input/Output:\n",
        "\n",
        "input_shape: The shape of the input tensor. Each image is 28-by-28 pixels with 1 channel.\n",
        "\n",
        "num_classes: There are a total of 10 classes, corresponding to 10 digits [0-9].\n",
        "\n",
        "Model architecture:\n",
        "\n",
        "conv_filters: A list of numbers, each specifying the number of filters in a convolutional layer.\n",
        "\n",
        "kernel_size: The size of 2D convolution window, shared by all convolutional layers.\n",
        "\n",
        "pool_size: Factors to downscale the image in each max-pooling layer.\n",
        "num_fc_units: The number of units (i.e., width) of each fully-connected layer.\n",
        "\n",
        "Training and evaluation:\n",
        "\n",
        "batch_size: Batch size used for training and evaluation.\n",
        "\n",
        "epochs: The number of training epochs.\n",
        "\n",
        "Adversarial learning:\n",
        "\n",
        "adv_multiplier: The weight of adversarial loss in the training objective, relative to the labeled loss.\n",
        "\n",
        "adv_step_size: The magnitude of adversarial perturbation.\n",
        "\n",
        "adv_grad_norm: The norm to measure the magnitude of adversarial perturbation.\n"
      ]
    },
    {
      "cell_type": "code",
      "metadata": {
        "id": "q5pMJYfpBlyy",
        "colab_type": "code",
        "colab": {}
      },
      "source": [
        "class HParams(object):\n",
        "  def __init__(self):\n",
        "    ## CNN Parameters\n",
        "    self.input_shape = [28, 28, 1]\n",
        "    self.num_classes = 10\n",
        "    self.conv_filters = [32, 64, 64]\n",
        "    self.kernel_size = (3, 3)\n",
        "    self.pool_size = (2, 2)\n",
        "    self.num_fc_units = [64]\n",
        "    self.batch_size = 32\n",
        "    self.epochs = 5\n",
        "    ## Neural structured Learning parameters\n",
        "    self.adv_multiplier = 0.2\n",
        "    self.adv_step_size = 0.2\n",
        "    self.adv_grad_norm = 'infinity'"
      ],
      "execution_count": 0,
      "outputs": []
    },
    {
      "cell_type": "code",
      "metadata": {
        "id": "i8CKKi-cC-u0",
        "colab_type": "code",
        "colab": {}
      },
      "source": [
        "HPARAMS = HParams()"
      ],
      "execution_count": 0,
      "outputs": []
    },
    {
      "cell_type": "markdown",
      "metadata": {
        "id": "AS0QeNJwDQOh",
        "colab_type": "text"
      },
      "source": [
        "# Load the MNIST Dataset"
      ]
    },
    {
      "cell_type": "code",
      "metadata": {
        "id": "WoSfSEpMC_Lz",
        "colab_type": "code",
        "colab": {}
      },
      "source": [
        "dataset = tfds.load('mnist')\n",
        "train_dataset = dataset['train']\n",
        "test_dataset = dataset['test']"
      ],
      "execution_count": 0,
      "outputs": []
    },
    {
      "cell_type": "code",
      "metadata": {
        "id": "qx7i9cpNDZb6",
        "colab_type": "code",
        "colab": {}
      },
      "source": [
        "IMAGE_INPUT_NAME = 'image'\n",
        "LABEL_INPUT_NAME = 'label'"
      ],
      "execution_count": 0,
      "outputs": []
    },
    {
      "cell_type": "markdown",
      "metadata": {
        "id": "dwFCOESdDjET",
        "colab_type": "text"
      },
      "source": [
        "# Normalize and create train data"
      ]
    },
    {
      "cell_type": "code",
      "metadata": {
        "id": "uP6XKjCoDiTl",
        "colab_type": "code",
        "colab": {}
      },
      "source": [
        "def normalize(features):\n",
        "    features[IMAGE_INPUT_NAME] = tf.cast(features[IMAGE_INPUT_NAME], dtype=tf.float32) / 255.0\n",
        "    return features\n",
        "\n",
        "def convert_to_tuples(features):\n",
        "    return features[IMAGE_INPUT_NAME], features[LABEL_INPUT_NAME]\n",
        "\n",
        "def convert_to_dict(image, label):\n",
        "    return {IMAGE_INPUT_NAME : image, LABEL_INPUT_NAME : label}\n"
      ],
      "execution_count": 0,
      "outputs": []
    },
    {
      "cell_type": "code",
      "metadata": {
        "id": "7RGo2xfrEGn_",
        "colab_type": "code",
        "colab": {}
      },
      "source": [
        "train_dataset = train_dataset.map(normalize).shuffle(10000).batch(HPARAMS.batch_size).map(convert_to_tuples)\n",
        "test_dataset = test_dataset.map(normalize).batch(HPARAMS.batch_size).map(convert_to_tuples)"
      ],
      "execution_count": 0,
      "outputs": []
    },
    {
      "cell_type": "markdown",
      "metadata": {
        "id": "hmeL6aDgEarm",
        "colab_type": "text"
      },
      "source": [
        "# Build a Base Model"
      ]
    },
    {
      "cell_type": "markdown",
      "metadata": {
        "id": "TiTQesdCEcc1",
        "colab_type": "text"
      },
      "source": [
        "Can be any sequential, functional or subclassed"
      ]
    },
    {
      "cell_type": "code",
      "metadata": {
        "id": "goecM4Y-EYQl",
        "colab_type": "code",
        "colab": {}
      },
      "source": [
        "def build_base_model(hparams):\n",
        "  \"\"\"Builds a model according to the architecture defined in `hparams`.\"\"\"\n",
        "  inputs = tf.keras.Input(\n",
        "      shape=hparams.input_shape, dtype=tf.float32, name=IMAGE_INPUT_NAME)\n",
        "\n",
        "  x = inputs\n",
        "  for i, num_filters in enumerate(hparams.conv_filters):\n",
        "    x = tf.keras.layers.Conv2D(\n",
        "        num_filters, hparams.kernel_size, activation='relu')(\n",
        "            x)\n",
        "    if i < len(hparams.conv_filters) - 1:\n",
        "      # max pooling between convolutional layers\n",
        "      x = tf.keras.layers.MaxPooling2D(hparams.pool_size)(x)\n",
        "  x = tf.keras.layers.Flatten()(x)\n",
        "  for num_units in hparams.num_fc_units:\n",
        "    x = tf.keras.layers.Dense(num_units, activation='relu')(x)\n",
        "  pred = tf.keras.layers.Dense(hparams.num_classes, activation='softmax')(x)\n",
        "  model = tf.keras.Model(inputs=inputs, outputs=pred)\n",
        "  return model\n"
      ],
      "execution_count": 0,
      "outputs": []
    },
    {
      "cell_type": "code",
      "metadata": {
        "id": "VRo21o71EgJe",
        "colab_type": "code",
        "colab": {}
      },
      "source": [
        "base_model = build_base_model(HPARAMS)\n",
        "base_model.summary()"
      ],
      "execution_count": 0,
      "outputs": []
    },
    {
      "cell_type": "code",
      "metadata": {
        "id": "Dk0E7JE4EiBH",
        "colab_type": "code",
        "colab": {}
      },
      "source": [
        "base_model.compile(optimizer='adam', loss='sparse_categorical_crossentropy',\n",
        "                   metrics=['acc'])\n",
        "base_model.fit(train_dataset, epochs=HPARAMS.epochs)"
      ],
      "execution_count": 0,
      "outputs": []
    },
    {
      "cell_type": "code",
      "metadata": {
        "id": "3gRjzynVEtWO",
        "colab_type": "code",
        "colab": {
          "base_uri": "https://localhost:8080/",
          "height": 72
        },
        "outputId": "a6540039-bc2a-4efe-c192-ae261cf0e423"
      },
      "source": [
        "results = base_model.evaluate(test_dataset)\n",
        "named_results = dict(zip(base_model.metrics_names, results))\n",
        "print('\\naccuracy:', named_results['acc'])"
      ],
      "execution_count": 17,
      "outputs": [
        {
          "output_type": "stream",
          "text": [
            "313/313 [==============================] - 2s 7ms/step - loss: 0.0370 - acc: 0.9902\n",
            "\n",
            "accuracy: 0.9901999831199646\n"
          ],
          "name": "stdout"
        }
      ]
    },
    {
      "cell_type": "markdown",
      "metadata": {
        "id": "aUGbwJTpFGR8",
        "colab_type": "text"
      },
      "source": [
        "# Adding the Adverserial Regularization"
      ]
    },
    {
      "cell_type": "markdown",
      "metadata": {
        "id": "D2gITtuxFNm1",
        "colab_type": "text"
      },
      "source": [
        "Here we show how to incorporate adversarial training into a Keras model with a few lines of code, using the NSL framework. The base model is wrapped to create a new tf.Keras.Model, whose training objective includes adversarial regularization.\n",
        "\n",
        "First, we create a config object with all relevant hyperparameters using the helper function nsl.configs.make_adv_reg_config."
      ]
    },
    {
      "cell_type": "code",
      "metadata": {
        "id": "FaKRJwk0FDM9",
        "colab_type": "code",
        "colab": {}
      },
      "source": [
        "adv_configs = nsl.configs.make_adv_reg_config(multiplier=HPARAMS.adv_multiplier, adv_step_size=HPARAMS.adv_step_size,\n",
        "                                              adv_grad_norm=HPARAMS.adv_grad_norm)"
      ],
      "execution_count": 0,
      "outputs": []
    },
    {
      "cell_type": "markdown",
      "metadata": {
        "id": "nN8K6ggpFodC",
        "colab_type": "text"
      },
      "source": [
        "Now we can wrap a base model with AdversarialRegularization. Here we create a new base model (base_adv_model), so that the existing one (base_model) can be used in later comparison.\n",
        "\n",
        "The returned adv_model is a tf.keras.Model object, whose training objective includes a regularization term for the adversarial loss. To compute that loss, the model has to have access to the label information (feature label), in addition to regular input (feature image). For this reason, we convert the examples in the datasets from tuples back to dictionaries. And we tell the model which feature contains the label information via the label_keys parameter."
      ]
    },
    {
      "cell_type": "code",
      "metadata": {
        "id": "ApswE57WFcP5",
        "colab_type": "code",
        "colab": {}
      },
      "source": [
        "base_adv_model = build_base_model(HPARAMS)"
      ],
      "execution_count": 0,
      "outputs": []
    },
    {
      "cell_type": "code",
      "metadata": {
        "id": "seJ3SqLYHBhr",
        "colab_type": "code",
        "colab": {}
      },
      "source": [
        "adv_model = nsl.keras.AdversarialRegularization(base_adv_model, label_keys=[LABEL_INPUT_NAME], adv_config=adv_configs)"
      ],
      "execution_count": 0,
      "outputs": []
    },
    {
      "cell_type": "code",
      "metadata": {
        "id": "gXebrN6JHKz6",
        "colab_type": "code",
        "colab": {}
      },
      "source": [
        "train_set_adv = train_dataset.map(convert_to_dict)\n",
        "test_set_adv = test_dataset.map(convert_to_dict)"
      ],
      "execution_count": 0,
      "outputs": []
    },
    {
      "cell_type": "markdown",
      "metadata": {
        "id": "VbA6zX13HUPi",
        "colab_type": "text"
      },
      "source": [
        "Next we compile, train, and evaluate the adversarial-regularized model. There might be warnings like \"Output missing from loss dictionary,\" which is fine because the adv_model doesn't rely on the base implementation to calculate the total loss."
      ]
    },
    {
      "cell_type": "code",
      "metadata": {
        "id": "Gw8fDpBCHRVi",
        "colab_type": "code",
        "colab": {}
      },
      "source": [
        "adv_model.compile(optimizer='adam', loss='sparse_categorical_crossentropy', metrics=['acc'])"
      ],
      "execution_count": 0,
      "outputs": []
    },
    {
      "cell_type": "code",
      "metadata": {
        "id": "-7XpWDlyHc7Z",
        "colab_type": "code",
        "colab": {}
      },
      "source": [
        "adv_model.fit(train_set_adv, epochs=HPARAMS.epochs)"
      ],
      "execution_count": 0,
      "outputs": []
    },
    {
      "cell_type": "code",
      "metadata": {
        "id": "n_vmphjxHk9Y",
        "colab_type": "code",
        "colab": {}
      },
      "source": [
        "results = adv_model.evaluate(test_set_adv)\n",
        "named_results = dict(zip(adv_model.metrics_names, results))\n",
        "print('\\naccuracy:', named_results['sparse_categorical_accuracy'])"
      ],
      "execution_count": 0,
      "outputs": []
    },
    {
      "cell_type": "markdown",
      "metadata": {
        "id": "eYhF3lDiIkom",
        "colab_type": "text"
      },
      "source": [
        "# Robustness under Adversarial perturbations"
      ]
    },
    {
      "cell_type": "markdown",
      "metadata": {
        "id": "nIyDX4EIIsoG",
        "colab_type": "text"
      },
      "source": [
        "Now we compare the base model and the adversarial-regularized model for robustness under adversarial perturbation.\n",
        "\n",
        "We will use the AdversarialRegularization.perturb_on_batch function for generating adversarially perturbed examples. And we would like the generation based on the base model. To do so, we wrap the base model with AdversarialRegularization. Note that as long as we don't invoke training (Model.fit), the learned variables in the model won't change and the model is still the same one as in section Base Model."
      ]
    },
    {
      "cell_type": "code",
      "metadata": {
        "id": "UFoAtS3zHsXS",
        "colab_type": "code",
        "colab": {}
      },
      "source": [
        "reference_model = nsl.keras.AdversarialRegularization(base_model, label_keys=[LABEL_INPUT_NAME], adv_config=adv_configs)"
      ],
      "execution_count": 0,
      "outputs": []
    },
    {
      "cell_type": "code",
      "metadata": {
        "id": "vplW2kB-J94w",
        "colab_type": "code",
        "colab": {}
      },
      "source": [
        "reference_model.compile(optimizer='adam', loss='sparse_categorical_crossentropy', metrics=['acc'])"
      ],
      "execution_count": 0,
      "outputs": []
    },
    {
      "cell_type": "markdown",
      "metadata": {
        "id": "FwY1Py0UKHom",
        "colab_type": "text"
      },
      "source": [
        "We collect in a dictionary the models to be evaluted, and also create a metric object for each of the models.\n",
        "\n",
        "Note that we take adv_model.base_model in order to have the same input format (not requiring label information) as the base model. The learned variables in adv_model.base_model are the same as those in adv_model."
      ]
    },
    {
      "cell_type": "code",
      "metadata": {
        "id": "MFyZh0fMKFAn",
        "colab_type": "code",
        "colab": {}
      },
      "source": [
        "model_to_eval = {\n",
        "    'base' : base_model,\n",
        "    'adv-regularized' : adv_model.base_model\n",
        "}"
      ],
      "execution_count": 0,
      "outputs": []
    },
    {
      "cell_type": "code",
      "metadata": {
        "id": "tWdIVvgpKfhu",
        "colab_type": "code",
        "colab": {}
      },
      "source": [
        "metrics = {\n",
        "    name: tf.keras.metrics.SparseCategoricalAccuracy()\n",
        "    for name in model_to_eval.keys()\n",
        "}"
      ],
      "execution_count": 0,
      "outputs": []
    },
    {
      "cell_type": "markdown",
      "metadata": {
        "id": "LB9NofmNKrfg",
        "colab_type": "text"
      },
      "source": [
        "Here is the loop to generate perturbed examples and to evaluate models with them. We save the perturbed images, labels, and predictions for visualization in the next section.\n"
      ]
    },
    {
      "cell_type": "code",
      "metadata": {
        "id": "WrndCHsQKk21",
        "colab_type": "code",
        "colab": {}
      },
      "source": [
        "perturbed_images, labels, predictions = [], [], []\n",
        "\n",
        "for batch in test_set_adv:\n",
        "    perturbed_batch = reference_model.perturb_on_batch(batch)\n",
        "    perturbed_batch[IMAGE_INPUT_NAME] = tf.clip_by_value(perturbed_batch[IMAGE_INPUT_NAME], 0.0, 1.0)\n",
        "\n",
        "    y_true = perturbed_batch.pop(LABEL_INPUT_NAME)\n",
        "    perturbed_images.append(perturbed_batch[IMAGE_INPUT_NAME].numpy())\n",
        "    labels.append(y_true.numpy())\n",
        "    predictions.append({})\n",
        "\n",
        "    for name, model in model_to_eval.items():\n",
        "        y_pred = model(perturbed_batch)\n",
        "        metrics[name](y_true, y_pred)\n",
        "        predictions[-1][name] = tf.argmax(y_pred, axis=-1).numpy()\n",
        "\n",
        "    for name, metric in metrics.items():\n",
        "        print('%s model accuracy: %f' % (name, metric.result().numpy()))\n",
        "\n",
        "\n"
      ],
      "execution_count": 0,
      "outputs": []
    },
    {
      "cell_type": "markdown",
      "metadata": {
        "id": "4bTXu9Q-OPqo",
        "colab_type": "text"
      },
      "source": [
        "We can see that the accuracy of the base model drops dramatically (from 99% to about 50%) when the input is perturbed adversarially. On the other hand, the accuracy of the adversarial-regularized model only degrades a little (from 99% to 95%). This demonstrates the effectiveness of adversarial learning on improving model's robustness."
      ]
    },
    {
      "cell_type": "markdown",
      "metadata": {
        "id": "PMC0BR89OeLf",
        "colab_type": "text"
      },
      "source": [
        "# Examples of adversarially-perturbed images\n",
        "\n",
        "Here we take a look at the adversarially-perturbed images. We can see that the perturbed images still show digits recognizable by human, but can successfully fool the base model."
      ]
    },
    {
      "cell_type": "code",
      "metadata": {
        "id": "vM9HvbMpN9aH",
        "colab_type": "code",
        "colab": {
          "base_uri": "https://localhost:8080/",
          "height": 917
        },
        "outputId": "934b1df7-6e12-4e97-e9f1-9a804432d3c1"
      },
      "source": [
        "batch_index = 0\n",
        "\n",
        "batch_image = perturbed_images[batch_index]\n",
        "batch_label = labels[batch_index]\n",
        "batch_pred = predictions[batch_index]\n",
        "\n",
        "batch_size = HPARAMS.batch_size\n",
        "n_col = 4\n",
        "n_row = (batch_size + n_col - 1) / n_col\n",
        "\n",
        "print('accuracy in batch %d:' % batch_index)\n",
        "for name, pred in batch_pred.items():\n",
        "  print('%s model: %d / %d' % (name, np.sum(batch_label == pred), batch_size))\n",
        "\n",
        "plt.figure(figsize=(15, 15))\n",
        "for i, (image, y) in enumerate(zip(batch_image, batch_label)):\n",
        "  y_base = batch_pred['base'][i]\n",
        "  y_adv = batch_pred['adv-regularized'][i]\n",
        "  plt.subplot(n_row, n_col, i+1)\n",
        "  plt.title('true: %d, base: %d, adv: %d' % (y, y_base, y_adv))\n",
        "  plt.imshow(tf.keras.preprocessing.image.array_to_img(image), cmap='gray')\n",
        "  plt.axis('off')\n",
        "\n",
        "plt.show()\n"
      ],
      "execution_count": 35,
      "outputs": [
        {
          "output_type": "stream",
          "text": [
            "accuracy in batch 0:\n",
            "base model: 22 / 32\n",
            "adv-regularized model: 31 / 32\n"
          ],
          "name": "stdout"
        },
        {
          "output_type": "display_data",
          "data": {
            "image/png": "[encoded data removed]",
            "text/plain": [
              "<Figure size 1080x1080 with 32 Axes>"
            ]
          },
          "metadata": {
            "tags": []
          }
        }
      ]
    },
    {
      "cell_type": "code",
      "metadata": {
        "id": "l8wSrwaOOSfu",
        "colab_type": "code",
        "colab": {}
      },
      "source": [
        ""
      ],
      "execution_count": 0,
      "outputs": []
    }
  ]
}