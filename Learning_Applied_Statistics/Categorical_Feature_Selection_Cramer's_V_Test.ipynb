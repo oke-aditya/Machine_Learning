{
  "nbformat": 4,
  "nbformat_minor": 0,
  "metadata": {
    "colab": {
      "name": "Categorical_Feature_Selection_Cramer's_V_Test.ipynb",
      "provenance": []
    },
    "kernelspec": {
      "name": "python3",
      "display_name": "Python 3"
    }
  },
  "cells": [
    {
      "cell_type": "markdown",
      "metadata": {
        "id": "29Y13JqNJGB9",
        "colab_type": "text"
      },
      "source": [
        "#Imports and Load Data"
      ]
    },
    {
      "cell_type": "code",
      "metadata": {
        "id": "n6DL2E0pI3i0",
        "colab_type": "code",
        "colab": {
          "base_uri": "https://localhost:8080/",
          "height": 74
        },
        "outputId": "2f2b7a80-f540-45e9-a0b7-b58a2c84d2b1"
      },
      "source": [
        "import pandas as pd\n",
        "import numpy as np\n",
        "import seaborn as sns\n",
        "import matplotlib.pyplot as plt\n",
        "sns.set()\n",
        "import warnings\n",
        "warnings.simplefilter(action='ignore')"
      ],
      "execution_count": 1,
      "outputs": [
        {
          "output_type": "stream",
          "text": [
            "/usr/local/lib/python3.6/dist-packages/statsmodels/tools/_testing.py:19: FutureWarning: pandas.util.testing is deprecated. Use the functions in the public API at pandas.testing instead.\n",
            "  import pandas.util.testing as tm\n"
          ],
          "name": "stderr"
        }
      ]
    },
    {
      "cell_type": "code",
      "metadata": {
        "id": "WMmMlY02JVXT",
        "colab_type": "code",
        "colab": {}
      },
      "source": [
        "churn_master_df = pd.read_csv('https://raw.githubusercontent.com/srivatsan88/YouTubeLI/master/dataset/churn_data_st.csv')"
      ],
      "execution_count": 0,
      "outputs": []
    },
    {
      "cell_type": "code",
      "metadata": {
        "id": "1b3VUaiVJX7C",
        "colab_type": "code",
        "colab": {}
      },
      "source": [
        "churn_df = churn_master_df.copy()"
      ],
      "execution_count": 0,
      "outputs": []
    },
    {
      "cell_type": "code",
      "metadata": {
        "id": "Q2oIP4a-JbGb",
        "colab_type": "code",
        "colab": {
          "base_uri": "https://localhost:8080/",
          "height": 206
        },
        "outputId": "f30418b3-20df-4d13-f5aa-01d5cf36fb82"
      },
      "source": [
        "churn_df.head()"
      ],
      "execution_count": 4,
      "outputs": [
        {
          "output_type": "execute_result",
          "data": {
            "text/html": [
              "<div>\n",
              "<style scoped>\n",
              "    .dataframe tbody tr th:only-of-type {\n",
              "        vertical-align: middle;\n",
              "    }\n",
              "\n",
              "    .dataframe tbody tr th {\n",
              "        vertical-align: top;\n",
              "    }\n",
              "\n",
              "    .dataframe thead th {\n",
              "        text-align: right;\n",
              "    }\n",
              "</style>\n",
              "<table border=\"1\" class=\"dataframe\">\n",
              "  <thead>\n",
              "    <tr style=\"text-align: right;\">\n",
              "      <th></th>\n",
              "      <th>customerID</th>\n",
              "      <th>gender</th>\n",
              "      <th>SeniorCitizen</th>\n",
              "      <th>tenure</th>\n",
              "      <th>ServiceCount</th>\n",
              "      <th>Contract</th>\n",
              "      <th>PaperlessBilling</th>\n",
              "      <th>MonthlyCharges</th>\n",
              "      <th>TotalCharges</th>\n",
              "      <th>Churn</th>\n",
              "    </tr>\n",
              "  </thead>\n",
              "  <tbody>\n",
              "    <tr>\n",
              "      <th>0</th>\n",
              "      <td>7590-VHVEG</td>\n",
              "      <td>Female</td>\n",
              "      <td>0</td>\n",
              "      <td>1</td>\n",
              "      <td>2</td>\n",
              "      <td>Month-to-month</td>\n",
              "      <td>Yes</td>\n",
              "      <td>29.85</td>\n",
              "      <td>29.85</td>\n",
              "      <td>No</td>\n",
              "    </tr>\n",
              "    <tr>\n",
              "      <th>1</th>\n",
              "      <td>5575-GNVDE</td>\n",
              "      <td>Male</td>\n",
              "      <td>0</td>\n",
              "      <td>34</td>\n",
              "      <td>4</td>\n",
              "      <td>One year</td>\n",
              "      <td>No</td>\n",
              "      <td>56.95</td>\n",
              "      <td>1889.50</td>\n",
              "      <td>No</td>\n",
              "    </tr>\n",
              "    <tr>\n",
              "      <th>2</th>\n",
              "      <td>3668-QPYBK</td>\n",
              "      <td>Male</td>\n",
              "      <td>0</td>\n",
              "      <td>2</td>\n",
              "      <td>4</td>\n",
              "      <td>Month-to-month</td>\n",
              "      <td>Yes</td>\n",
              "      <td>53.85</td>\n",
              "      <td>108.15</td>\n",
              "      <td>Yes</td>\n",
              "    </tr>\n",
              "    <tr>\n",
              "      <th>3</th>\n",
              "      <td>7795-CFOCW</td>\n",
              "      <td>Male</td>\n",
              "      <td>0</td>\n",
              "      <td>45</td>\n",
              "      <td>4</td>\n",
              "      <td>One year</td>\n",
              "      <td>No</td>\n",
              "      <td>42.30</td>\n",
              "      <td>1840.75</td>\n",
              "      <td>No</td>\n",
              "    </tr>\n",
              "    <tr>\n",
              "      <th>4</th>\n",
              "      <td>9237-HQITU</td>\n",
              "      <td>Female</td>\n",
              "      <td>0</td>\n",
              "      <td>2</td>\n",
              "      <td>2</td>\n",
              "      <td>Month-to-month</td>\n",
              "      <td>Yes</td>\n",
              "      <td>70.70</td>\n",
              "      <td>151.65</td>\n",
              "      <td>Yes</td>\n",
              "    </tr>\n",
              "  </tbody>\n",
              "</table>\n",
              "</div>"
            ],
            "text/plain": [
              "   customerID  gender  SeniorCitizen  ...  MonthlyCharges  TotalCharges Churn\n",
              "0  7590-VHVEG  Female              0  ...           29.85         29.85    No\n",
              "1  5575-GNVDE    Male              0  ...           56.95       1889.50    No\n",
              "2  3668-QPYBK    Male              0  ...           53.85        108.15   Yes\n",
              "3  7795-CFOCW    Male              0  ...           42.30       1840.75    No\n",
              "4  9237-HQITU  Female              0  ...           70.70        151.65   Yes\n",
              "\n",
              "[5 rows x 10 columns]"
            ]
          },
          "metadata": {
            "tags": []
          },
          "execution_count": 4
        }
      ]
    },
    {
      "cell_type": "markdown",
      "metadata": {
        "id": "hO0l_GowLntJ",
        "colab_type": "text"
      },
      "source": [
        "# Exploring"
      ]
    },
    {
      "cell_type": "code",
      "metadata": {
        "id": "6LE_-TnALXof",
        "colab_type": "code",
        "colab": {
          "base_uri": "https://localhost:8080/",
          "height": 206
        },
        "outputId": "5b0d1a53-3578-45af-ad56-56d8350ae3bb"
      },
      "source": [
        "churn_df.corr() # Does not calculate for string data / categorical data"
      ],
      "execution_count": 5,
      "outputs": [
        {
          "output_type": "execute_result",
          "data": {
            "text/html": [
              "<div>\n",
              "<style scoped>\n",
              "    .dataframe tbody tr th:only-of-type {\n",
              "        vertical-align: middle;\n",
              "    }\n",
              "\n",
              "    .dataframe tbody tr th {\n",
              "        vertical-align: top;\n",
              "    }\n",
              "\n",
              "    .dataframe thead th {\n",
              "        text-align: right;\n",
              "    }\n",
              "</style>\n",
              "<table border=\"1\" class=\"dataframe\">\n",
              "  <thead>\n",
              "    <tr style=\"text-align: right;\">\n",
              "      <th></th>\n",
              "      <th>SeniorCitizen</th>\n",
              "      <th>tenure</th>\n",
              "      <th>ServiceCount</th>\n",
              "      <th>MonthlyCharges</th>\n",
              "      <th>TotalCharges</th>\n",
              "    </tr>\n",
              "  </thead>\n",
              "  <tbody>\n",
              "    <tr>\n",
              "      <th>SeniorCitizen</th>\n",
              "      <td>1.000000</td>\n",
              "      <td>0.016567</td>\n",
              "      <td>-0.090899</td>\n",
              "      <td>0.220173</td>\n",
              "      <td>0.102411</td>\n",
              "    </tr>\n",
              "    <tr>\n",
              "      <th>tenure</th>\n",
              "      <td>0.016567</td>\n",
              "      <td>1.000000</td>\n",
              "      <td>0.508526</td>\n",
              "      <td>0.247900</td>\n",
              "      <td>0.825880</td>\n",
              "    </tr>\n",
              "    <tr>\n",
              "      <th>ServiceCount</th>\n",
              "      <td>-0.090899</td>\n",
              "      <td>0.508526</td>\n",
              "      <td>1.000000</td>\n",
              "      <td>0.041463</td>\n",
              "      <td>0.443485</td>\n",
              "    </tr>\n",
              "    <tr>\n",
              "      <th>MonthlyCharges</th>\n",
              "      <td>0.220173</td>\n",
              "      <td>0.247900</td>\n",
              "      <td>0.041463</td>\n",
              "      <td>1.000000</td>\n",
              "      <td>0.651065</td>\n",
              "    </tr>\n",
              "    <tr>\n",
              "      <th>TotalCharges</th>\n",
              "      <td>0.102411</td>\n",
              "      <td>0.825880</td>\n",
              "      <td>0.443485</td>\n",
              "      <td>0.651065</td>\n",
              "      <td>1.000000</td>\n",
              "    </tr>\n",
              "  </tbody>\n",
              "</table>\n",
              "</div>"
            ],
            "text/plain": [
              "                SeniorCitizen    tenure  ...  MonthlyCharges  TotalCharges\n",
              "SeniorCitizen        1.000000  0.016567  ...        0.220173      0.102411\n",
              "tenure               0.016567  1.000000  ...        0.247900      0.825880\n",
              "ServiceCount        -0.090899  0.508526  ...        0.041463      0.443485\n",
              "MonthlyCharges       0.220173  0.247900  ...        1.000000      0.651065\n",
              "TotalCharges         0.102411  0.825880  ...        0.651065      1.000000\n",
              "\n",
              "[5 rows x 5 columns]"
            ]
          },
          "metadata": {
            "tags": []
          },
          "execution_count": 5
        }
      ]
    },
    {
      "cell_type": "code",
      "metadata": {
        "id": "GibXIewGLjy6",
        "colab_type": "code",
        "colab": {
          "base_uri": "https://localhost:8080/",
          "height": 91
        },
        "outputId": "0d56b578-cc7b-4515-d38a-7606b056f849"
      },
      "source": [
        "churn_df['Contract'].value_counts()"
      ],
      "execution_count": 6,
      "outputs": [
        {
          "output_type": "execute_result",
          "data": {
            "text/plain": [
              "Month-to-month    3875\n",
              "Two year          1695\n",
              "One year          1473\n",
              "Name: Contract, dtype: int64"
            ]
          },
          "metadata": {
            "tags": []
          },
          "execution_count": 6
        }
      ]
    },
    {
      "cell_type": "code",
      "metadata": {
        "id": "F98l4JKlNZxM",
        "colab_type": "code",
        "colab": {
          "base_uri": "https://localhost:8080/",
          "height": 285
        },
        "outputId": "56c0b90f-85ca-477e-99be-70672db30f79"
      },
      "source": [
        "sns.set(style=\"darkgrid\")\n",
        "sns.set_palette(\"hls\", 3)\n",
        "fig, ax = plt.subplots()\n",
        "\n",
        "ax = sns.countplot(x=\"Contract\", hue=\"Churn\", data=churn_df)\n",
        "\n",
        "for p in ax.patches:\n",
        "    height = p.get_height()\n",
        "    ax.text(p.get_x() + p.get_width()/2., height + 3, '{:1.2f}'.format(height/churn_df.shape[0]),\n",
        "            ha=\"center\")"
      ],
      "execution_count": 9,
      "outputs": [
        {
          "output_type": "display_data",
          "data": {
            "image/png": "[encoded data removed]",
            "text/plain": [
              "<Figure size 432x288 with 1 Axes>"
            ]
          },
          "metadata": {
            "tags": []
          }
        }
      ]
    },
    {
      "cell_type": "markdown",
      "metadata": {
        "id": "4RI15N0pdg3e",
        "colab_type": "text"
      },
      "source": [
        "# Null Hypothesis: - \n",
        "\n",
        "- The two categorical Features have no correlation."
      ]
    },
    {
      "cell_type": "markdown",
      "metadata": {
        "id": "YbjRyWVBdmFg",
        "colab_type": "text"
      },
      "source": [
        "# Alternate Hypothesis: -\n",
        "\n",
        "- The two features have strong correlation."
      ]
    },
    {
      "cell_type": "markdown",
      "metadata": {
        "id": "UM9X61coU3nX",
        "colab_type": "text"
      },
      "source": [
        "# Chi-Squared Statistic"
      ]
    },
    {
      "cell_type": "markdown",
      "metadata": {
        "id": "S_Jfl2fsV3eS",
        "colab_type": "text"
      },
      "source": [
        "- Proves that relationship is significant"
      ]
    },
    {
      "cell_type": "markdown",
      "metadata": {
        "id": "JhNm8JyDU7n8",
        "colab_type": "text"
      },
      "source": [
        "$ \\chi^2 = sum((observed - Expected) ^ 2 / Expected)$"
      ]
    },
    {
      "cell_type": "markdown",
      "metadata": {
        "id": "kB9Vp0exM47e",
        "colab_type": "text"
      },
      "source": [
        "# Cramer's V Test"
      ]
    },
    {
      "cell_type": "markdown",
      "metadata": {
        "id": "5I_jpbHtVFkc",
        "colab_type": "text"
      },
      "source": [
        "$ V = sqrt(\\chi ^ 2 / (n * min(C, R) - 1))$"
      ]
    },
    {
      "cell_type": "markdown",
      "metadata": {
        "id": "0mhRtPYLM442",
        "colab_type": "text"
      },
      "source": [
        "- It is an extension of Chi-Squared Test.\n",
        "\n",
        "- Used to perform analysis of categorical variables.\n",
        "\n",
        "- Determines the strength of relation between the two categorical variables.\n",
        "\n",
        "- It uses the input as Chi-Squared Test statistic.\n",
        "\n",
        "- It will determine how strong is the relationship between variables."
      ]
    },
    {
      "cell_type": "code",
      "metadata": {
        "id": "9nxamloWL02P",
        "colab_type": "code",
        "colab": {
          "base_uri": "https://localhost:8080/",
          "height": 206
        },
        "outputId": "b0c777a2-d841-4b0c-9a5b-f34103f02f3b"
      },
      "source": [
        "pd.crosstab(index=churn_df['Contract'], columns=churn_df['Churn'], margins=True)"
      ],
      "execution_count": 10,
      "outputs": [
        {
          "output_type": "execute_result",
          "data": {
            "text/html": [
              "<div>\n",
              "<style scoped>\n",
              "    .dataframe tbody tr th:only-of-type {\n",
              "        vertical-align: middle;\n",
              "    }\n",
              "\n",
              "    .dataframe tbody tr th {\n",
              "        vertical-align: top;\n",
              "    }\n",
              "\n",
              "    .dataframe thead th {\n",
              "        text-align: right;\n",
              "    }\n",
              "</style>\n",
              "<table border=\"1\" class=\"dataframe\">\n",
              "  <thead>\n",
              "    <tr style=\"text-align: right;\">\n",
              "      <th>Churn</th>\n",
              "      <th>No</th>\n",
              "      <th>Yes</th>\n",
              "      <th>All</th>\n",
              "    </tr>\n",
              "    <tr>\n",
              "      <th>Contract</th>\n",
              "      <th></th>\n",
              "      <th></th>\n",
              "      <th></th>\n",
              "    </tr>\n",
              "  </thead>\n",
              "  <tbody>\n",
              "    <tr>\n",
              "      <th>Month-to-month</th>\n",
              "      <td>2220</td>\n",
              "      <td>1655</td>\n",
              "      <td>3875</td>\n",
              "    </tr>\n",
              "    <tr>\n",
              "      <th>One year</th>\n",
              "      <td>1307</td>\n",
              "      <td>166</td>\n",
              "      <td>1473</td>\n",
              "    </tr>\n",
              "    <tr>\n",
              "      <th>Two year</th>\n",
              "      <td>1647</td>\n",
              "      <td>48</td>\n",
              "      <td>1695</td>\n",
              "    </tr>\n",
              "    <tr>\n",
              "      <th>All</th>\n",
              "      <td>5174</td>\n",
              "      <td>1869</td>\n",
              "      <td>7043</td>\n",
              "    </tr>\n",
              "  </tbody>\n",
              "</table>\n",
              "</div>"
            ],
            "text/plain": [
              "Churn             No   Yes   All\n",
              "Contract                        \n",
              "Month-to-month  2220  1655  3875\n",
              "One year        1307   166  1473\n",
              "Two year        1647    48  1695\n",
              "All             5174  1869  7043"
            ]
          },
          "metadata": {
            "tags": []
          },
          "execution_count": 10
        }
      ]
    },
    {
      "cell_type": "code",
      "metadata": {
        "id": "pqIeE8RsVfVh",
        "colab_type": "code",
        "colab": {}
      },
      "source": [
        "contract_churn_ct = pd.crosstab(index=churn_df['Contract'], columns=churn_df['Churn'])"
      ],
      "execution_count": 0,
      "outputs": []
    },
    {
      "cell_type": "code",
      "metadata": {
        "id": "UL0OEt61WkSJ",
        "colab_type": "code",
        "colab": {
          "base_uri": "https://localhost:8080/",
          "height": 175
        },
        "outputId": "3c87db88-36c9-4586-83db-d331bdacadcc"
      },
      "source": [
        "contract_churn_ct"
      ],
      "execution_count": 14,
      "outputs": [
        {
          "output_type": "execute_result",
          "data": {
            "text/html": [
              "<div>\n",
              "<style scoped>\n",
              "    .dataframe tbody tr th:only-of-type {\n",
              "        vertical-align: middle;\n",
              "    }\n",
              "\n",
              "    .dataframe tbody tr th {\n",
              "        vertical-align: top;\n",
              "    }\n",
              "\n",
              "    .dataframe thead th {\n",
              "        text-align: right;\n",
              "    }\n",
              "</style>\n",
              "<table border=\"1\" class=\"dataframe\">\n",
              "  <thead>\n",
              "    <tr style=\"text-align: right;\">\n",
              "      <th>Churn</th>\n",
              "      <th>No</th>\n",
              "      <th>Yes</th>\n",
              "    </tr>\n",
              "    <tr>\n",
              "      <th>Contract</th>\n",
              "      <th></th>\n",
              "      <th></th>\n",
              "    </tr>\n",
              "  </thead>\n",
              "  <tbody>\n",
              "    <tr>\n",
              "      <th>Month-to-month</th>\n",
              "      <td>2220</td>\n",
              "      <td>1655</td>\n",
              "    </tr>\n",
              "    <tr>\n",
              "      <th>One year</th>\n",
              "      <td>1307</td>\n",
              "      <td>166</td>\n",
              "    </tr>\n",
              "    <tr>\n",
              "      <th>Two year</th>\n",
              "      <td>1647</td>\n",
              "      <td>48</td>\n",
              "    </tr>\n",
              "  </tbody>\n",
              "</table>\n",
              "</div>"
            ],
            "text/plain": [
              "Churn             No   Yes\n",
              "Contract                  \n",
              "Month-to-month  2220  1655\n",
              "One year        1307   166\n",
              "Two year        1647    48"
            ]
          },
          "metadata": {
            "tags": []
          },
          "execution_count": 14
        }
      ]
    },
    {
      "cell_type": "code",
      "metadata": {
        "id": "5tMa3HvfWoWZ",
        "colab_type": "code",
        "colab": {
          "base_uri": "https://localhost:8080/",
          "height": 73
        },
        "outputId": "732d0d23-ccf7-447b-c439-dbb311214df2"
      },
      "source": [
        "print(contract_churn_ct.iloc[0].values)\n",
        "print(contract_churn_ct.iloc[1].values)\n",
        "print(contract_churn_ct.iloc[2].values)"
      ],
      "execution_count": 16,
      "outputs": [
        {
          "output_type": "stream",
          "text": [
            "[2220 1655]\n",
            "[1307  166]\n",
            "[1647   48]\n"
          ],
          "name": "stdout"
        }
      ]
    },
    {
      "cell_type": "code",
      "metadata": {
        "id": "mz-RCwjGWvtx",
        "colab_type": "code",
        "colab": {}
      },
      "source": [
        "from scipy import stats"
      ],
      "execution_count": 0,
      "outputs": []
    },
    {
      "cell_type": "code",
      "metadata": {
        "id": "JU8DBBRFW4sx",
        "colab_type": "code",
        "colab": {}
      },
      "source": [
        "(chi2, p, dof, _) = stats.chi2_contingency([contract_churn_ct.iloc[0].values, contract_churn_ct.iloc[1].values, contract_churn_ct.iloc[2].values])"
      ],
      "execution_count": 0,
      "outputs": []
    },
    {
      "cell_type": "code",
      "metadata": {
        "id": "61QBbmrdXEEg",
        "colab_type": "code",
        "colab": {
          "base_uri": "https://localhost:8080/",
          "height": 73
        },
        "outputId": "0c790fcf-6d6a-4b04-f6b2-ffe62d09cf14"
      },
      "source": [
        "print(\"chi2 = \", chi2)\n",
        "print(\"p-value = \",p)\n",
        "print(\"Degree of freedom = \",dof)"
      ],
      "execution_count": 22,
      "outputs": [
        {
          "output_type": "stream",
          "text": [
            "chi2 =  1184.5965720837926\n",
            "p-value =  5.863038300673391e-258\n",
            "Degree of freedom =  2\n"
          ],
          "name": "stdout"
        }
      ]
    },
    {
      "cell_type": "markdown",
      "metadata": {
        "id": "rD7Fx6uWXlV_",
        "colab_type": "text"
      },
      "source": [
        "Degree of freedom = Total Categories - 1\n",
        "\n",
        "p - value < 0.05.\n",
        "Hence there is a significant relationship between these two variables"
      ]
    },
    {
      "cell_type": "code",
      "metadata": {
        "id": "FgT9tfMuXLMG",
        "colab_type": "code",
        "colab": {}
      },
      "source": [
        "# There no builtin function sadly\n",
        "# Here minimum of C, R column , row is column = 2 \n",
        "# 2 - 1 = 1. \n",
        "import numpy as np"
      ],
      "execution_count": 0,
      "outputs": []
    },
    {
      "cell_type": "code",
      "metadata": {
        "id": "4-BBNiHFZTB5",
        "colab_type": "code",
        "colab": {
          "base_uri": "https://localhost:8080/",
          "height": 36
        },
        "outputId": "96eb5e0f-de58-4b19-eaf3-8328f6e4ffc0"
      },
      "source": [
        "print(np.sqrt(chi2 / churn_df.shape[0]))"
      ],
      "execution_count": 26,
      "outputs": [
        {
          "output_type": "stream",
          "text": [
            "0.4101156965761409\n"
          ],
          "name": "stdout"
        }
      ]
    },
    {
      "cell_type": "code",
      "metadata": {
        "id": "1gVLKqm9ZXiV",
        "colab_type": "code",
        "colab": {}
      },
      "source": [
        "# The value will always be between 0 to 1.\n",
        "# Here it is 0.41  Strength of the relationship is pretty strong.\n",
        "# Check real world application !!! Do not think only variable."
      ],
      "execution_count": 0,
      "outputs": []
    },
    {
      "cell_type": "markdown",
      "metadata": {
        "id": "KI3p1vUTaDAp",
        "colab_type": "text"
      },
      "source": [
        "# Applying same to Paperless Billing"
      ]
    },
    {
      "cell_type": "code",
      "metadata": {
        "id": "Kpa5yAF3Zy6t",
        "colab_type": "code",
        "colab": {
          "base_uri": "https://localhost:8080/",
          "height": 73
        },
        "outputId": "1d03cd04-a2f5-4afb-c856-7e6d690aea2f"
      },
      "source": [
        "churn_df['PaperlessBilling'].value_counts()"
      ],
      "execution_count": 28,
      "outputs": [
        {
          "output_type": "execute_result",
          "data": {
            "text/plain": [
              "Yes    4171\n",
              "No     2872\n",
              "Name: PaperlessBilling, dtype: int64"
            ]
          },
          "metadata": {
            "tags": []
          },
          "execution_count": 28
        }
      ]
    },
    {
      "cell_type": "code",
      "metadata": {
        "id": "yBC_1Dq8Z4OU",
        "colab_type": "code",
        "colab": {
          "base_uri": "https://localhost:8080/",
          "height": 285
        },
        "outputId": "9580a095-88a2-41b8-aa06-958cc987fa52"
      },
      "source": [
        "sns.set(style=\"darkgrid\")\n",
        "sns.set_palette(\"hls\", 3)\n",
        "fig, ax = plt.subplots()\n",
        "\n",
        "ax = sns.countplot(x=\"PaperlessBilling\", hue=\"Churn\", data=churn_df)\n",
        "\n",
        "for p in ax.patches:\n",
        "    height = p.get_height()\n",
        "    ax.text(p.get_x() + p.get_width()/2., height + 3, '{:1.2f}'.format(height/churn_df.shape[0]),\n",
        "            ha=\"center\")"
      ],
      "execution_count": 29,
      "outputs": [
        {
          "output_type": "display_data",
          "data": {
            "image/png": "[encoded data removed]",
            "text/plain": [
              "<Figure size 432x288 with 1 Axes>"
            ]
          },
          "metadata": {
            "tags": []
          }
        }
      ]
    },
    {
      "cell_type": "code",
      "metadata": {
        "id": "MO_CDvmeaOqu",
        "colab_type": "code",
        "colab": {}
      },
      "source": [
        "pb_churn_ct = pd.crosstab(index=churn_df['PaperlessBilling'], columns=churn_df['Churn'])"
      ],
      "execution_count": 0,
      "outputs": []
    },
    {
      "cell_type": "code",
      "metadata": {
        "id": "_f1CgbTWavRA",
        "colab_type": "code",
        "colab": {
          "base_uri": "https://localhost:8080/",
          "height": 143
        },
        "outputId": "088d624a-cb75-45ec-c88c-cb01a5a70fe0"
      },
      "source": [
        "pb_churn_ct"
      ],
      "execution_count": 39,
      "outputs": [
        {
          "output_type": "execute_result",
          "data": {
            "text/html": [
              "<div>\n",
              "<style scoped>\n",
              "    .dataframe tbody tr th:only-of-type {\n",
              "        vertical-align: middle;\n",
              "    }\n",
              "\n",
              "    .dataframe tbody tr th {\n",
              "        vertical-align: top;\n",
              "    }\n",
              "\n",
              "    .dataframe thead th {\n",
              "        text-align: right;\n",
              "    }\n",
              "</style>\n",
              "<table border=\"1\" class=\"dataframe\">\n",
              "  <thead>\n",
              "    <tr style=\"text-align: right;\">\n",
              "      <th>Churn</th>\n",
              "      <th>No</th>\n",
              "      <th>Yes</th>\n",
              "    </tr>\n",
              "    <tr>\n",
              "      <th>PaperlessBilling</th>\n",
              "      <th></th>\n",
              "      <th></th>\n",
              "    </tr>\n",
              "  </thead>\n",
              "  <tbody>\n",
              "    <tr>\n",
              "      <th>No</th>\n",
              "      <td>2403</td>\n",
              "      <td>469</td>\n",
              "    </tr>\n",
              "    <tr>\n",
              "      <th>Yes</th>\n",
              "      <td>2771</td>\n",
              "      <td>1400</td>\n",
              "    </tr>\n",
              "  </tbody>\n",
              "</table>\n",
              "</div>"
            ],
            "text/plain": [
              "Churn               No   Yes\n",
              "PaperlessBilling            \n",
              "No                2403   469\n",
              "Yes               2771  1400"
            ]
          },
          "metadata": {
            "tags": []
          },
          "execution_count": 39
        }
      ]
    },
    {
      "cell_type": "code",
      "metadata": {
        "id": "Bm_LbLueav_Z",
        "colab_type": "code",
        "colab": {}
      },
      "source": [
        "(chi2, p, dof, _) = stats.chi2_contingency([pb_churn_ct.iloc[0].values, pb_churn_ct.iloc[1].values])"
      ],
      "execution_count": 0,
      "outputs": []
    },
    {
      "cell_type": "code",
      "metadata": {
        "id": "AXXmBKkja-lL",
        "colab_type": "code",
        "colab": {
          "base_uri": "https://localhost:8080/",
          "height": 73
        },
        "outputId": "b1b2dffd-8bc8-4a95-f2cb-8449b9b7a06f"
      },
      "source": [
        "print(\"Chi 2: \",chi2)\n",
        "print(\"P-value: \",p)\n",
        "print(\"Degree of freedom \",dof)"
      ],
      "execution_count": 42,
      "outputs": [
        {
          "output_type": "stream",
          "text": [
            "Chi 2:  258.27764906707307\n",
            "P-value:  4.073354668665985e-58\n",
            "Degree of freedom  1\n"
          ],
          "name": "stdout"
        }
      ]
    },
    {
      "cell_type": "code",
      "metadata": {
        "id": "EqDU_GyDbVf8",
        "colab_type": "code",
        "colab": {
          "base_uri": "https://localhost:8080/",
          "height": 36
        },
        "outputId": "cad57a02-4a10-42ce-b565-643d90d1cf10"
      },
      "source": [
        "# Running Cramer's V formula again\n",
        "# Again Min of row, columns = columns = 2.\n",
        "# 2 - 1 = 1\n",
        "# Hence it reduces to \n",
        "print(np.sqrt(chi2/churn_df.shape[0]))"
      ],
      "execution_count": 43,
      "outputs": [
        {
          "output_type": "stream",
          "text": [
            "0.19149814355338285\n"
          ],
          "name": "stdout"
        }
      ]
    },
    {
      "cell_type": "markdown",
      "metadata": {
        "id": "up2AB2l4cT73",
        "colab_type": "text"
      },
      "source": [
        "# Repeating this for gender"
      ]
    },
    {
      "cell_type": "code",
      "metadata": {
        "colab_type": "code",
        "outputId": "16ae41ee-51b9-4160-f0d3-35bcfed38fcc",
        "id": "RHitutn1cbhk",
        "colab": {
          "base_uri": "https://localhost:8080/",
          "height": 73
        }
      },
      "source": [
        "churn_df['gender'].value_counts()"
      ],
      "execution_count": 44,
      "outputs": [
        {
          "output_type": "execute_result",
          "data": {
            "text/plain": [
              "Male      3555\n",
              "Female    3488\n",
              "Name: gender, dtype: int64"
            ]
          },
          "metadata": {
            "tags": []
          },
          "execution_count": 44
        }
      ]
    },
    {
      "cell_type": "code",
      "metadata": {
        "colab_type": "code",
        "outputId": "22b774fa-f6f8-4427-cdf9-3309d7d91d22",
        "id": "8z3Wo5cEcaWI",
        "colab": {
          "base_uri": "https://localhost:8080/",
          "height": 285
        }
      },
      "source": [
        "sns.set(style=\"darkgrid\")\n",
        "sns.set_palette(\"hls\", 3)\n",
        "fig, ax = plt.subplots()\n",
        "\n",
        "ax = sns.countplot(x=\"gender\", hue=\"Churn\", data=churn_df)\n",
        "\n",
        "for p in ax.patches:\n",
        "    height = p.get_height()\n",
        "    ax.text(p.get_x() + p.get_width()/2., height + 3, '{:1.2f}'.format(height/churn_df.shape[0]),\n",
        "            ha=\"center\")"
      ],
      "execution_count": 45,
      "outputs": [
        {
          "output_type": "display_data",
          "data": {
            "image/png": "[encoded data removed]",
            "text/plain": [
              "<Figure size 432x288 with 1 Axes>"
            ]
          },
          "metadata": {
            "tags": []
          }
        }
      ]
    },
    {
      "cell_type": "code",
      "metadata": {
        "colab_type": "code",
        "id": "fJL9wPItcaWT",
        "colab": {}
      },
      "source": [
        "gn_churn_ct = pd.crosstab(index=churn_df['gender'], columns=churn_df['Churn'])"
      ],
      "execution_count": 0,
      "outputs": []
    },
    {
      "cell_type": "code",
      "metadata": {
        "colab_type": "code",
        "outputId": "61e1e34b-40e0-4234-d5d2-147b9e227861",
        "id": "NeHpFfTdcaWZ",
        "colab": {
          "base_uri": "https://localhost:8080/",
          "height": 143
        }
      },
      "source": [
        "gn_churn_ct"
      ],
      "execution_count": 49,
      "outputs": [
        {
          "output_type": "execute_result",
          "data": {
            "text/html": [
              "<div>\n",
              "<style scoped>\n",
              "    .dataframe tbody tr th:only-of-type {\n",
              "        vertical-align: middle;\n",
              "    }\n",
              "\n",
              "    .dataframe tbody tr th {\n",
              "        vertical-align: top;\n",
              "    }\n",
              "\n",
              "    .dataframe thead th {\n",
              "        text-align: right;\n",
              "    }\n",
              "</style>\n",
              "<table border=\"1\" class=\"dataframe\">\n",
              "  <thead>\n",
              "    <tr style=\"text-align: right;\">\n",
              "      <th>Churn</th>\n",
              "      <th>No</th>\n",
              "      <th>Yes</th>\n",
              "    </tr>\n",
              "    <tr>\n",
              "      <th>gender</th>\n",
              "      <th></th>\n",
              "      <th></th>\n",
              "    </tr>\n",
              "  </thead>\n",
              "  <tbody>\n",
              "    <tr>\n",
              "      <th>Female</th>\n",
              "      <td>2549</td>\n",
              "      <td>939</td>\n",
              "    </tr>\n",
              "    <tr>\n",
              "      <th>Male</th>\n",
              "      <td>2625</td>\n",
              "      <td>930</td>\n",
              "    </tr>\n",
              "  </tbody>\n",
              "</table>\n",
              "</div>"
            ],
            "text/plain": [
              "Churn     No  Yes\n",
              "gender           \n",
              "Female  2549  939\n",
              "Male    2625  930"
            ]
          },
          "metadata": {
            "tags": []
          },
          "execution_count": 49
        }
      ]
    },
    {
      "cell_type": "code",
      "metadata": {
        "colab_type": "code",
        "id": "sfHmtLjucaWg",
        "colab": {}
      },
      "source": [
        "(chi2, p, dof, _) = stats.chi2_contingency([gn_churn_ct.iloc[0].values, gn_churn_ct.iloc[1].values])"
      ],
      "execution_count": 0,
      "outputs": []
    },
    {
      "cell_type": "code",
      "metadata": {
        "colab_type": "code",
        "outputId": "e83ff29e-4a25-4932-b2bb-63ef0a0a0b66",
        "id": "c5m0gpyJcaWm",
        "colab": {
          "base_uri": "https://localhost:8080/",
          "height": 73
        }
      },
      "source": [
        "print(\"Chi 2: \",chi2)\n",
        "print(\"P-value: \",p)\n",
        "print(\"Degree of freedom \",dof)"
      ],
      "execution_count": 51,
      "outputs": [
        {
          "output_type": "stream",
          "text": [
            "Chi 2:  0.4840828822091383\n",
            "P-value:  0.48657873605618596\n",
            "Degree of freedom  1\n"
          ],
          "name": "stdout"
        }
      ]
    },
    {
      "cell_type": "markdown",
      "metadata": {
        "id": "VAYYz1PUcrY9",
        "colab_type": "text"
      },
      "source": [
        "- Wait. Here p-value > 0.05\n",
        "- So this feature shouldn't be selected by $ \\chi ^ 2 $ squared test itself\n",
        "\n",
        "- We reject the alternate hypothesis. Null hypothesis is valid."
      ]
    },
    {
      "cell_type": "code",
      "metadata": {
        "colab_type": "code",
        "outputId": "213eb3d5-cf1b-43cd-8148-917141c7da31",
        "id": "OeUQH2VYcaWu",
        "colab": {
          "base_uri": "https://localhost:8080/",
          "height": 36
        }
      },
      "source": [
        "# Running Cramer's V formula again\n",
        "# Again Min of row, columns = columns = 2.\n",
        "# 2 - 1 = 1\n",
        "# Hence it reduces to \n",
        "print(np.sqrt(chi2/churn_df.shape[0]))"
      ],
      "execution_count": 52,
      "outputs": [
        {
          "output_type": "stream",
          "text": [
            "0.008290505631771371\n"
          ],
          "name": "stdout"
        }
      ]
    },
    {
      "cell_type": "markdown",
      "metadata": {
        "id": "3VcV3JE_c3v9",
        "colab_type": "text"
      },
      "source": [
        "- Anyways Cramer is dependent on $\\chi^2 $ test so it too will not give any significance"
      ]
    }
  ]
}