{
  "nbformat": 4,
  "nbformat_minor": 0,
  "metadata": {
    "colab": {
      "name": "Poly_Regression_Non_linear_Relationship.ipynb",
      "provenance": []
    },
    "kernelspec": {
      "name": "python3",
      "display_name": "Python 3"
    }
  },
  "cells": [
    {
      "cell_type": "markdown",
      "metadata": {
        "id": "vusIEwES5A84",
        "colab_type": "text"
      },
      "source": [
        "# Non Linear Relationship"
      ]
    },
    {
      "cell_type": "code",
      "metadata": {
        "id": "Qa33JbkF4wDv",
        "colab_type": "code",
        "colab": {}
      },
      "source": [
        "import pandas as pd\n",
        "import numpy as np\n",
        "\n",
        "import seaborn as sns\n",
        "sns.set()\n",
        "import matplotlib.pyplot as plt\n",
        "\n",
        "%matplotlib inline"
      ],
      "execution_count": 0,
      "outputs": []
    },
    {
      "cell_type": "code",
      "metadata": {
        "id": "d0tX3hgN5Owh",
        "colab_type": "code",
        "colab": {}
      },
      "source": [
        "loan_df = pd.read_csv(\"https://raw.githubusercontent.com/srivatsan88/YouTubeLI/master/dataset/loan_analysis_summary.csv\")"
      ],
      "execution_count": 0,
      "outputs": []
    },
    {
      "cell_type": "code",
      "metadata": {
        "id": "S8kD6gW95bmg",
        "colab_type": "code",
        "outputId": "2ef71d84-4719-4961-ec62-d6bfb1e7353b",
        "colab": {
          "base_uri": "https://localhost:8080/",
          "height": 206
        }
      },
      "source": [
        "loan_df.head()"
      ],
      "execution_count": 30,
      "outputs": [
        {
          "output_type": "execute_result",
          "data": {
            "text/html": [
              "<div>\n",
              "<style scoped>\n",
              "    .dataframe tbody tr th:only-of-type {\n",
              "        vertical-align: middle;\n",
              "    }\n",
              "\n",
              "    .dataframe tbody tr th {\n",
              "        vertical-align: top;\n",
              "    }\n",
              "\n",
              "    .dataframe thead th {\n",
              "        text-align: right;\n",
              "    }\n",
              "</style>\n",
              "<table border=\"1\" class=\"dataframe\">\n",
              "  <thead>\n",
              "    <tr style=\"text-align: right;\">\n",
              "      <th></th>\n",
              "      <th>fico_score</th>\n",
              "      <th>loan_total</th>\n",
              "      <th>default_total</th>\n",
              "      <th>dti</th>\n",
              "      <th>avg_loan_amnt</th>\n",
              "      <th>median_annual_inc</th>\n",
              "      <th>avg_annual_inc</th>\n",
              "      <th>int_rate</th>\n",
              "      <th>default_rate</th>\n",
              "      <th>actual_default_rate</th>\n",
              "    </tr>\n",
              "  </thead>\n",
              "  <tbody>\n",
              "    <tr>\n",
              "      <th>0</th>\n",
              "      <td>500</td>\n",
              "      <td>3585</td>\n",
              "      <td>3183</td>\n",
              "      <td>19.737013</td>\n",
              "      <td>13660.71827</td>\n",
              "      <td>55000</td>\n",
              "      <td>63396.10292</td>\n",
              "      <td>15.352285</td>\n",
              "      <td>2.463470</td>\n",
              "      <td>0.520266</td>\n",
              "    </tr>\n",
              "    <tr>\n",
              "      <th>1</th>\n",
              "      <td>510</td>\n",
              "      <td>8223</td>\n",
              "      <td>7191</td>\n",
              "      <td>19.747810</td>\n",
              "      <td>13889.67226</td>\n",
              "      <td>56000</td>\n",
              "      <td>65446.52263</td>\n",
              "      <td>15.440212</td>\n",
              "      <td>5.565445</td>\n",
              "      <td>1.175378</td>\n",
              "    </tr>\n",
              "    <tr>\n",
              "      <th>2</th>\n",
              "      <td>520</td>\n",
              "      <td>9792</td>\n",
              "      <td>8370</td>\n",
              "      <td>20.085761</td>\n",
              "      <td>14186.13920</td>\n",
              "      <td>58728</td>\n",
              "      <td>68261.38708</td>\n",
              "      <td>15.312451</td>\n",
              "      <td>6.477927</td>\n",
              "      <td>1.368087</td>\n",
              "    </tr>\n",
              "    <tr>\n",
              "      <th>3</th>\n",
              "      <td>530</td>\n",
              "      <td>10984</td>\n",
              "      <td>9254</td>\n",
              "      <td>20.253199</td>\n",
              "      <td>14487.00838</td>\n",
              "      <td>60000</td>\n",
              "      <td>69041.52340</td>\n",
              "      <td>15.449011</td>\n",
              "      <td>7.162095</td>\n",
              "      <td>1.512578</td>\n",
              "    </tr>\n",
              "    <tr>\n",
              "      <th>4</th>\n",
              "      <td>540</td>\n",
              "      <td>12333</td>\n",
              "      <td>10127</td>\n",
              "      <td>20.770446</td>\n",
              "      <td>14756.36706</td>\n",
              "      <td>60000</td>\n",
              "      <td>69948.95243</td>\n",
              "      <td>15.271022</td>\n",
              "      <td>7.837750</td>\n",
              "      <td>1.655271</td>\n",
              "    </tr>\n",
              "  </tbody>\n",
              "</table>\n",
              "</div>"
            ],
            "text/plain": [
              "   fico_score  loan_total  ...  default_rate  actual_default_rate\n",
              "0         500        3585  ...      2.463470             0.520266\n",
              "1         510        8223  ...      5.565445             1.175378\n",
              "2         520        9792  ...      6.477927             1.368087\n",
              "3         530       10984  ...      7.162095             1.512578\n",
              "4         540       12333  ...      7.837750             1.655271\n",
              "\n",
              "[5 rows x 10 columns]"
            ]
          },
          "metadata": {
            "tags": []
          },
          "execution_count": 30
        }
      ]
    },
    {
      "cell_type": "code",
      "metadata": {
        "id": "D73p9PPN5dU0",
        "colab_type": "code",
        "outputId": "46dd9a77-1b44-442b-a9ca-7f2a28a0af51",
        "colab": {
          "base_uri": "https://localhost:8080/",
          "height": 112
        }
      },
      "source": [
        "# Spearman is better when data is ordinal or has got monotonic relationship\n",
        "loan_df[[\"fico_score\", \"loan_total\"]].corr(\"spearman\")"
      ],
      "execution_count": 31,
      "outputs": [
        {
          "output_type": "execute_result",
          "data": {
            "text/html": [
              "<div>\n",
              "<style scoped>\n",
              "    .dataframe tbody tr th:only-of-type {\n",
              "        vertical-align: middle;\n",
              "    }\n",
              "\n",
              "    .dataframe tbody tr th {\n",
              "        vertical-align: top;\n",
              "    }\n",
              "\n",
              "    .dataframe thead th {\n",
              "        text-align: right;\n",
              "    }\n",
              "</style>\n",
              "<table border=\"1\" class=\"dataframe\">\n",
              "  <thead>\n",
              "    <tr style=\"text-align: right;\">\n",
              "      <th></th>\n",
              "      <th>fico_score</th>\n",
              "      <th>loan_total</th>\n",
              "    </tr>\n",
              "  </thead>\n",
              "  <tbody>\n",
              "    <tr>\n",
              "      <th>fico_score</th>\n",
              "      <td>1.000000</td>\n",
              "      <td>0.043243</td>\n",
              "    </tr>\n",
              "    <tr>\n",
              "      <th>loan_total</th>\n",
              "      <td>0.043243</td>\n",
              "      <td>1.000000</td>\n",
              "    </tr>\n",
              "  </tbody>\n",
              "</table>\n",
              "</div>"
            ],
            "text/plain": [
              "            fico_score  loan_total\n",
              "fico_score    1.000000    0.043243\n",
              "loan_total    0.043243    1.000000"
            ]
          },
          "metadata": {
            "tags": []
          },
          "execution_count": 31
        }
      ]
    },
    {
      "cell_type": "code",
      "metadata": {
        "id": "IvErjQSD5w84",
        "colab_type": "code",
        "outputId": "e088875e-9f19-470e-d450-2e981e35a951",
        "colab": {
          "base_uri": "https://localhost:8080/",
          "height": 304
        }
      },
      "source": [
        "# Not a linear relationship.\n",
        "sns.regplot(x=\"fico_score\", y=\"loan_total\", data=loan_df)"
      ],
      "execution_count": 32,
      "outputs": [
        {
          "output_type": "execute_result",
          "data": {
            "text/plain": [
              "<matplotlib.axes._subplots.AxesSubplot at 0x7fb077581588>"
            ]
          },
          "metadata": {
            "tags": []
          },
          "execution_count": 32
        },
        {
          "output_type": "display_data",
          "data": {
            "image/png": "[encoded data removed]",
            "text/plain": [
              "<Figure size 432x288 with 1 Axes>"
            ]
          },
          "metadata": {
            "tags": [],
            "needs_background": "light"
          }
        }
      ]
    },
    {
      "cell_type": "code",
      "metadata": {
        "id": "-oRjDEug6cnx",
        "colab_type": "code",
        "colab": {}
      },
      "source": [
        "# Determine the degree of polynomial function usually by calculating number of bends + 1\n",
        "# There are 4 bends\n",
        "# So let us put the degree of polynomail as 5"
      ],
      "execution_count": 0,
      "outputs": []
    },
    {
      "cell_type": "code",
      "metadata": {
        "id": "rCCRZnycIelY",
        "colab_type": "code",
        "colab": {}
      },
      "source": [
        "coeff = np.poly1d(np.polyfit(loan_df[\"fico_score\"], loan_df[\"loan_total\"], 5))"
      ],
      "execution_count": 0,
      "outputs": []
    },
    {
      "cell_type": "code",
      "metadata": {
        "id": "zMOyLsssJBLk",
        "colab_type": "code",
        "colab": {}
      },
      "source": [
        "t = loan_df[\"fico_score\"]"
      ],
      "execution_count": 0,
      "outputs": []
    },
    {
      "cell_type": "code",
      "metadata": {
        "id": "Jyx4GLgXJEH4",
        "colab_type": "code",
        "outputId": "a819b07c-21f7-4544-a3f6-3aa7ed32a53a",
        "colab": {
          "base_uri": "https://localhost:8080/",
          "height": 268
        }
      },
      "source": [
        "plt.plot(loan_df[\"fico_score\"], loan_df[\"loan_total\"], 'o', t, coeff(t), '-')\n",
        "plt.show()"
      ],
      "execution_count": 39,
      "outputs": [
        {
          "output_type": "display_data",
          "data": {
            "image/png": "[encoded data removed]",
            "text/plain": [
              "<Figure size 432x288 with 1 Axes>"
            ]
          },
          "metadata": {
            "tags": [],
            "needs_background": "light"
          }
        }
      ]
    },
    {
      "cell_type": "code",
      "metadata": {
        "id": "t7Ng9IRfJYr8",
        "colab_type": "code",
        "colab": {
          "base_uri": "https://localhost:8080/",
          "height": 54
        },
        "outputId": "bc180a93-30b3-4469-96ad-9a4aa150947b"
      },
      "source": [
        "print(coeff)  # Powers of X used here"
      ],
      "execution_count": 40,
      "outputs": [
        {
          "output_type": "stream",
          "text": [
            "       5            4        3        2\n",
            "6e-07 x - 0.001993 x + 2.62 x - 1704 x + 5.492e+05 x - 7.012e+07\n"
          ],
          "name": "stdout"
        }
      ]
    },
    {
      "cell_type": "code",
      "metadata": {
        "id": "3MtRdjLkjXf-",
        "colab_type": "code",
        "colab": {
          "base_uri": "https://localhost:8080/",
          "height": 304
        },
        "outputId": "8d918e83-fa91-48bf-c4e6-a354ac6f2b62"
      },
      "source": [
        "sns.regplot(x=\"dti\", y=\"loan_total\", data=loan_df)"
      ],
      "execution_count": 42,
      "outputs": [
        {
          "output_type": "execute_result",
          "data": {
            "text/plain": [
              "<matplotlib.axes._subplots.AxesSubplot at 0x7fb074687240>"
            ]
          },
          "metadata": {
            "tags": []
          },
          "execution_count": 42
        },
        {
          "output_type": "display_data",
          "data": {
            "image/png": "[encoded data removed]",
            "text/plain": [
              "<Figure size 432x288 with 1 Axes>"
            ]
          },
          "metadata": {
            "tags": [],
            "needs_background": "light"
          }
        }
      ]
    },
    {
      "cell_type": "code",
      "metadata": {
        "id": "xQSjvyEWjHx9",
        "colab_type": "code",
        "colab": {}
      },
      "source": [
        "from sklearn.preprocessing import PolynomialFeatures\n",
        "from sklearn.linear_model import LinearRegression"
      ],
      "execution_count": 0,
      "outputs": []
    },
    {
      "cell_type": "code",
      "metadata": {
        "id": "1yiGM5ZrjWVA",
        "colab_type": "code",
        "colab": {}
      },
      "source": [
        "polynomial_features = PolynomialFeatures(degree=5)"
      ],
      "execution_count": 0,
      "outputs": []
    },
    {
      "cell_type": "code",
      "metadata": {
        "id": "zSAt4oirji43",
        "colab_type": "code",
        "colab": {}
      },
      "source": [
        "x_poly = polynomial_features.fit_transform(loan_df[[\"dti\"]])"
      ],
      "execution_count": 0,
      "outputs": []
    },
    {
      "cell_type": "code",
      "metadata": {
        "id": "E6lQwojvjsRs",
        "colab_type": "code",
        "colab": {}
      },
      "source": [
        "model = LinearRegression()"
      ],
      "execution_count": 0,
      "outputs": []
    },
    {
      "cell_type": "code",
      "metadata": {
        "id": "nvr4ymYEjxgZ",
        "colab_type": "code",
        "colab": {
          "base_uri": "https://localhost:8080/",
          "height": 36
        },
        "outputId": "51b16111-59d7-4403-d646-40f78f3b877b"
      },
      "source": [
        "model.fit(x_poly, loan_df[\"loan_total\"])"
      ],
      "execution_count": 56,
      "outputs": [
        {
          "output_type": "execute_result",
          "data": {
            "text/plain": [
              "LinearRegression(copy_X=True, fit_intercept=True, n_jobs=None, normalize=False)"
            ]
          },
          "metadata": {
            "tags": []
          },
          "execution_count": 56
        }
      ]
    },
    {
      "cell_type": "code",
      "metadata": {
        "id": "67WJ4DRJj2dC",
        "colab_type": "code",
        "colab": {}
      },
      "source": [
        "y_pred = model.predict(x_poly)"
      ],
      "execution_count": 0,
      "outputs": []
    },
    {
      "cell_type": "code",
      "metadata": {
        "id": "KsVoheWpj4fu",
        "colab_type": "code",
        "colab": {
          "base_uri": "https://localhost:8080/",
          "height": 54
        },
        "outputId": "7fe77c25-35ef-4879-cdda-882c36650670"
      },
      "source": [
        "model.coef_"
      ],
      "execution_count": 58,
      "outputs": [
        {
          "output_type": "execute_result",
          "data": {
            "text/plain": [
              "array([ 0.00000000e+00,  1.64176666e+08, -1.89566521e+07,  1.08943577e+06,\n",
              "       -3.11593251e+04,  3.54805999e+02])"
            ]
          },
          "metadata": {
            "tags": []
          },
          "execution_count": 58
        }
      ]
    },
    {
      "cell_type": "code",
      "metadata": {
        "id": "sCaiyvosj526",
        "colab_type": "code",
        "colab": {
          "base_uri": "https://localhost:8080/",
          "height": 36
        },
        "outputId": "0a93fcef-ef63-46ef-de7b-51ec8a86b356"
      },
      "source": [
        "model.intercept_"
      ],
      "execution_count": 59,
      "outputs": [
        {
          "output_type": "execute_result",
          "data": {
            "text/plain": [
              "-566235069.8431246"
            ]
          },
          "metadata": {
            "tags": []
          },
          "execution_count": 59
        }
      ]
    },
    {
      "cell_type": "code",
      "metadata": {
        "id": "R54wGrvTkqje",
        "colab_type": "code",
        "colab": {
          "base_uri": "https://localhost:8080/",
          "height": 287
        },
        "outputId": "a67518f0-87c3-46d2-c6a4-c77e768a3cd5"
      },
      "source": [
        "plt.scatter(loan_df[\"dti\"], loan_df[\"loan_total\"], color=\"black\")\n",
        "plt.plot(loan_df[\"dti\"], y_pred, color=\"blue\", linewidth=3)"
      ],
      "execution_count": 60,
      "outputs": [
        {
          "output_type": "execute_result",
          "data": {
            "text/plain": [
              "[<matplotlib.lines.Line2D at 0x7fb07462aa20>]"
            ]
          },
          "metadata": {
            "tags": []
          },
          "execution_count": 60
        },
        {
          "output_type": "display_data",
          "data": {
            "image/png": "[encoded data removed]",
            "text/plain": [
              "<Figure size 432x288 with 1 Axes>"
            ]
          },
          "metadata": {
            "tags": [],
            "needs_background": "light"
          }
        }
      ]
    },
    {
      "cell_type": "code",
      "metadata": {
        "id": "X6kvZ6DLkuZg",
        "colab_type": "code",
        "colab": {}
      },
      "source": [
        "from sklearn.linear_model import Ridge\n",
        "from sklearn.pipeline import make_pipeline"
      ],
      "execution_count": 0,
      "outputs": []
    },
    {
      "cell_type": "code",
      "metadata": {
        "id": "MhLuD0XclUrL",
        "colab_type": "code",
        "colab": {
          "base_uri": "https://localhost:8080/",
          "height": 287
        },
        "outputId": "04864ee4-7ff2-48de-8f3e-f0984a31c815"
      },
      "source": [
        "plt.scatter(loan_df[\"dti\"], loan_df[\"loan_total\"], color=\"navy\", s=30, marker=\"o\", label=\"training points\")"
      ],
      "execution_count": 64,
      "outputs": [
        {
          "output_type": "execute_result",
          "data": {
            "text/plain": [
              "<matplotlib.collections.PathCollection at 0x7fb07751e1d0>"
            ]
          },
          "metadata": {
            "tags": []
          },
          "execution_count": 64
        },
        {
          "output_type": "display_data",
          "data": {
            "image/png": "[encoded data removed]",
            "text/plain": [
              "<Figure size 432x288 with 1 Axes>"
            ]
          },
          "metadata": {
            "tags": [],
            "needs_background": "light"
          }
        }
      ]
    },
    {
      "cell_type": "code",
      "metadata": {
        "id": "ioXL978ClW8-",
        "colab_type": "code",
        "colab": {}
      },
      "source": [
        "colors = [\"teal\", \"yellowgreen\", \"gold\"]"
      ],
      "execution_count": 0,
      "outputs": []
    },
    {
      "cell_type": "code",
      "metadata": {
        "id": "wIRYWfknlkTI",
        "colab_type": "code",
        "colab": {
          "base_uri": "https://localhost:8080/",
          "height": 268
        },
        "outputId": "0dba02b3-32b7-4ca3-8199-183b644f2def"
      },
      "source": [
        "lw = 2\n",
        "plt.scatter(loan_df[\"dti\"], loan_df[\"loan_total\"], color=\"navy\", s=30, marker=\"o\", label=\"training points\")\n",
        "for count, degree in enumerate([2, 3, 4]):\n",
        "    model = make_pipeline(PolynomialFeatures(degree), Ridge())\n",
        "    model.fit(loan_df[[\"dti\"]], loan_df[\"loan_total\"])\n",
        "    y_plot = model.predict(loan_df[[\"dti\"]])\n",
        "    plt.plot(loan_df[\"dti\"], y_plot, color = colors[count], linewidth=lw, label=\"degree %d\" %(degree))"
      ],
      "execution_count": 69,
      "outputs": [
        {
          "output_type": "display_data",
          "data": {
            "image/png": "[encoded data removed]",
            "text/plain": [
              "<Figure size 432x288 with 1 Axes>"
            ]
          },
          "metadata": {
            "tags": [],
            "needs_background": "light"
          }
        }
      ]
    },
    {
      "cell_type": "code",
      "metadata": {
        "id": "my44XMpmmFP_",
        "colab_type": "code",
        "colab": {}
      },
      "source": [
        ""
      ],
      "execution_count": 0,
      "outputs": []
    }
  ]
}