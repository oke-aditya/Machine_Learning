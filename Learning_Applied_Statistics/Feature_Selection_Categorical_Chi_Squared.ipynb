{
  "nbformat": 4,
  "nbformat_minor": 0,
  "metadata": {
    "colab": {
      "name": "Feature_Selection_Categorical_Chi_Squared.ipynb",
      "provenance": []
    },
    "kernelspec": {
      "name": "python3",
      "display_name": "Python 3"
    }
  },
  "cells": [
    {
      "cell_type": "markdown",
      "metadata": {
        "id": "cS7Mbi92028O",
        "colab_type": "text"
      },
      "source": [
        "# How to choose categorical columns in dataset"
      ]
    },
    {
      "cell_type": "markdown",
      "metadata": {
        "id": "Oz5i5G8W1qN0",
        "colab_type": "text"
      },
      "source": [
        "## Load Data"
      ]
    },
    {
      "cell_type": "code",
      "metadata": {
        "id": "9YKpqXFYxKYZ",
        "colab_type": "code",
        "colab": {}
      },
      "source": [
        "import pandas as pd\n",
        "import numpy as np\n",
        "import seaborn as sns\n",
        "import matplotlib.pyplot as plt\n",
        "sns.set()\n",
        "import warnings\n",
        "warnings.simplefilter(action='ignore')"
      ],
      "execution_count": 0,
      "outputs": []
    },
    {
      "cell_type": "code",
      "metadata": {
        "id": "MufCgc5i1LeS",
        "colab_type": "code",
        "colab": {}
      },
      "source": [
        "churn_master_df = pd.read_csv('https://raw.githubusercontent.com/srivatsan88/YouTubeLI/master/dataset/churn_data_st.csv')"
      ],
      "execution_count": 0,
      "outputs": []
    },
    {
      "cell_type": "code",
      "metadata": {
        "id": "yGoBffrq1YUx",
        "colab_type": "code",
        "colab": {}
      },
      "source": [
        "churn_df = churn_master_df.copy()"
      ],
      "execution_count": 0,
      "outputs": []
    },
    {
      "cell_type": "code",
      "metadata": {
        "id": "kruyfXCz1aw4",
        "colab_type": "code",
        "colab": {
          "base_uri": "https://localhost:8080/",
          "height": 0
        },
        "outputId": "51134ec4-8a0b-4ee3-d406-88eaa1848eec"
      },
      "source": [
        "churn_df.head()"
      ],
      "execution_count": 10,
      "outputs": [
        {
          "output_type": "execute_result",
          "data": {
            "text/html": [
              "<div>\n",
              "<style scoped>\n",
              "    .dataframe tbody tr th:only-of-type {\n",
              "        vertical-align: middle;\n",
              "    }\n",
              "\n",
              "    .dataframe tbody tr th {\n",
              "        vertical-align: top;\n",
              "    }\n",
              "\n",
              "    .dataframe thead th {\n",
              "        text-align: right;\n",
              "    }\n",
              "</style>\n",
              "<table border=\"1\" class=\"dataframe\">\n",
              "  <thead>\n",
              "    <tr style=\"text-align: right;\">\n",
              "      <th></th>\n",
              "      <th>customerID</th>\n",
              "      <th>gender</th>\n",
              "      <th>SeniorCitizen</th>\n",
              "      <th>tenure</th>\n",
              "      <th>ServiceCount</th>\n",
              "      <th>Contract</th>\n",
              "      <th>PaperlessBilling</th>\n",
              "      <th>MonthlyCharges</th>\n",
              "      <th>TotalCharges</th>\n",
              "      <th>Churn</th>\n",
              "    </tr>\n",
              "  </thead>\n",
              "  <tbody>\n",
              "    <tr>\n",
              "      <th>0</th>\n",
              "      <td>7590-VHVEG</td>\n",
              "      <td>Female</td>\n",
              "      <td>0</td>\n",
              "      <td>1</td>\n",
              "      <td>2</td>\n",
              "      <td>Month-to-month</td>\n",
              "      <td>Yes</td>\n",
              "      <td>29.85</td>\n",
              "      <td>29.85</td>\n",
              "      <td>No</td>\n",
              "    </tr>\n",
              "    <tr>\n",
              "      <th>1</th>\n",
              "      <td>5575-GNVDE</td>\n",
              "      <td>Male</td>\n",
              "      <td>0</td>\n",
              "      <td>34</td>\n",
              "      <td>4</td>\n",
              "      <td>One year</td>\n",
              "      <td>No</td>\n",
              "      <td>56.95</td>\n",
              "      <td>1889.50</td>\n",
              "      <td>No</td>\n",
              "    </tr>\n",
              "    <tr>\n",
              "      <th>2</th>\n",
              "      <td>3668-QPYBK</td>\n",
              "      <td>Male</td>\n",
              "      <td>0</td>\n",
              "      <td>2</td>\n",
              "      <td>4</td>\n",
              "      <td>Month-to-month</td>\n",
              "      <td>Yes</td>\n",
              "      <td>53.85</td>\n",
              "      <td>108.15</td>\n",
              "      <td>Yes</td>\n",
              "    </tr>\n",
              "    <tr>\n",
              "      <th>3</th>\n",
              "      <td>7795-CFOCW</td>\n",
              "      <td>Male</td>\n",
              "      <td>0</td>\n",
              "      <td>45</td>\n",
              "      <td>4</td>\n",
              "      <td>One year</td>\n",
              "      <td>No</td>\n",
              "      <td>42.30</td>\n",
              "      <td>1840.75</td>\n",
              "      <td>No</td>\n",
              "    </tr>\n",
              "    <tr>\n",
              "      <th>4</th>\n",
              "      <td>9237-HQITU</td>\n",
              "      <td>Female</td>\n",
              "      <td>0</td>\n",
              "      <td>2</td>\n",
              "      <td>2</td>\n",
              "      <td>Month-to-month</td>\n",
              "      <td>Yes</td>\n",
              "      <td>70.70</td>\n",
              "      <td>151.65</td>\n",
              "      <td>Yes</td>\n",
              "    </tr>\n",
              "  </tbody>\n",
              "</table>\n",
              "</div>"
            ],
            "text/plain": [
              "   customerID  gender  SeniorCitizen  ...  MonthlyCharges  TotalCharges Churn\n",
              "0  7590-VHVEG  Female              0  ...           29.85         29.85    No\n",
              "1  5575-GNVDE    Male              0  ...           56.95       1889.50    No\n",
              "2  3668-QPYBK    Male              0  ...           53.85        108.15   Yes\n",
              "3  7795-CFOCW    Male              0  ...           42.30       1840.75    No\n",
              "4  9237-HQITU  Female              0  ...           70.70        151.65   Yes\n",
              "\n",
              "[5 rows x 10 columns]"
            ]
          },
          "metadata": {
            "tags": []
          },
          "execution_count": 10
        }
      ]
    },
    {
      "cell_type": "markdown",
      "metadata": {
        "id": "G-vGHQVw1oPw",
        "colab_type": "text"
      },
      "source": [
        "\n",
        "\n",
        "customerID - Customer ID\n",
        "\n",
        "gender - Whether the customer is a male or a female\n",
        "\n",
        "SeniorCitizen - Whether the customer is a senior citizen or not (1, 0)\n",
        "\n",
        "Partner - Whether the customer has a partner or not (Yes, No)\n",
        "\n",
        "Dependents - Whether the customer has dependents or not (Yes, No)\n",
        "\n",
        "tenure - Number of months the customer has stayed with the company\n",
        "\n",
        "PhoneService - Whether the customer has a phone service or not (Yes, No)\n",
        "\n",
        "MultipleLines - Whether the customer has multiple lines or not (Yes, No, No phone service)\n",
        "\n",
        "InternetService - Customer’s internet service provider (DSL, Fiber optic, No)\n",
        "\n",
        "OnlineSecurity - Whether the customer has online security or not (Yes, No, No internet service)\n",
        "\n",
        "OnlineBackup - Whether the customer has online backup or not (Yes, No, No internet service)\n",
        "\n",
        "DeviceProtection - Whether the customer has device protection or not (Yes, No, No internet service)\n",
        "\n",
        "TechSupport - Whether the customer has tech support or not (Yes, No, No internet service)\n",
        "\n",
        "StreamingTV - Whether the customer has streaming TV or not (Yes, No, No internet service)\n",
        "\n",
        "StreamingMovies - Whether the customer has streaming movies or not (Yes, No, No internet service)\n",
        "\n",
        "Contract - The contract term of the customer (Month-to-month, One year, Two year)\n",
        "\n",
        "PaperlessBilling - Whether the customer has paperless billing or not (Yes, No)\n",
        "\n",
        "PaymentMethod - The customer’s payment method (Electronic check, Mailed check, Bank transfer (automatic), Credit card (automatic))\n",
        "\n",
        "MonthlyCharges - The amount charged to the customer monthly\n",
        "\n",
        "TotalCharges - The total amount charged to the customer\n",
        "\n",
        "Churn - Whether the customer churned or not (Yes or No)\n"
      ]
    },
    {
      "cell_type": "markdown",
      "metadata": {
        "id": "evOCs14s1s6i",
        "colab_type": "text"
      },
      "source": [
        "## Feature Selection"
      ]
    },
    {
      "cell_type": "code",
      "metadata": {
        "id": "rL5euIma1b_X",
        "colab_type": "code",
        "colab": {
          "base_uri": "https://localhost:8080/",
          "height": 0
        },
        "outputId": "f66d7453-e389-458f-f09c-4545ab37d1d0"
      },
      "source": [
        "churn_df.info()"
      ],
      "execution_count": 11,
      "outputs": [
        {
          "output_type": "stream",
          "text": [
            "<class 'pandas.core.frame.DataFrame'>\n",
            "RangeIndex: 7043 entries, 0 to 7042\n",
            "Data columns (total 10 columns):\n",
            " #   Column            Non-Null Count  Dtype  \n",
            "---  ------            --------------  -----  \n",
            " 0   customerID        7043 non-null   object \n",
            " 1   gender            7043 non-null   object \n",
            " 2   SeniorCitizen     7043 non-null   int64  \n",
            " 3   tenure            7043 non-null   int64  \n",
            " 4   ServiceCount      7043 non-null   int64  \n",
            " 5   Contract          7043 non-null   object \n",
            " 6   PaperlessBilling  7043 non-null   object \n",
            " 7   MonthlyCharges    7043 non-null   float64\n",
            " 8   TotalCharges      7032 non-null   float64\n",
            " 9   Churn             7043 non-null   object \n",
            "dtypes: float64(2), int64(3), object(5)\n",
            "memory usage: 550.4+ KB\n"
          ],
          "name": "stdout"
        }
      ]
    },
    {
      "cell_type": "code",
      "metadata": {
        "id": "8W8cbcP-1-uX",
        "colab_type": "code",
        "colab": {
          "base_uri": "https://localhost:8080/",
          "height": 0
        },
        "outputId": "73bc97e5-b982-41d2-ac53-6d0ae572c230"
      },
      "source": [
        "print(\"Number of Rows: %s \"%(churn_df.shape[0]))\n",
        "print(\"Number of Columns: %s \"%(churn_df.shape[1]))\n",
        "print(\"\\n Features: \", churn_df.columns.to_list())\n",
        "print(\"\\n Missing Values: %s\"%(churn_df.isnull().any()))\n",
        "print(\"\\n Unique values: %s\"%(churn_df.nunique()))"
      ],
      "execution_count": 12,
      "outputs": [
        {
          "output_type": "stream",
          "text": [
            "Number of Rows: 7043 \n",
            "Number of Columns: 10 \n",
            "\n",
            " Features:  ['customerID', 'gender', 'SeniorCitizen', 'tenure', 'ServiceCount', 'Contract', 'PaperlessBilling', 'MonthlyCharges', 'TotalCharges', 'Churn']\n",
            "\n",
            " Missing Values: customerID          False\n",
            "gender              False\n",
            "SeniorCitizen       False\n",
            "tenure              False\n",
            "ServiceCount        False\n",
            "Contract            False\n",
            "PaperlessBilling    False\n",
            "MonthlyCharges      False\n",
            "TotalCharges         True\n",
            "Churn               False\n",
            "dtype: bool\n",
            "\n",
            " Unique values: customerID          7043\n",
            "gender                 2\n",
            "SeniorCitizen          2\n",
            "tenure                73\n",
            "ServiceCount           9\n",
            "Contract               3\n",
            "PaperlessBilling       2\n",
            "MonthlyCharges      1585\n",
            "TotalCharges        6530\n",
            "Churn                  2\n",
            "dtype: int64\n"
          ],
          "name": "stdout"
        }
      ]
    },
    {
      "cell_type": "markdown",
      "metadata": {
        "id": "lrAk67Od8sAY",
        "colab_type": "text"
      },
      "source": [
        "## Null Hypothesis: -\n",
        "There is no relationship between the two categorical values.\n"
      ]
    },
    {
      "cell_type": "markdown",
      "metadata": {
        "id": "P-9Yv27_8xwu",
        "colab_type": "text"
      },
      "source": [
        "## Alternate Hypothesis: -\n",
        "There is a relationship between the two categorical values.\n",
        "\n",
        "Use p value = 0.05 to make the decision"
      ]
    },
    {
      "cell_type": "markdown",
      "metadata": {
        "id": "cjL0CVNK9AyT",
        "colab_type": "text"
      },
      "source": [
        "Questions to answer: -\n",
        "\n",
        "- Is there any relationship between users who have churned to genders of the user ?\n",
        "\n",
        "- Is there any relationship between users who opted for paperless billing to users who have churned ?"
      ]
    },
    {
      "cell_type": "markdown",
      "metadata": {
        "id": "9mG8hNy19YsC",
        "colab_type": "text"
      },
      "source": [
        "# Chi-Squared Test: -\n",
        "\n",
        "There are multiple relationship tests that are available. But here we use the chi-squared test.\n",
        "\n",
        "This test can be applied to any 2 categorical columns. It need not be supervised/unsupervised.\n",
        "\n",
        "Chi-squared test shows the significance of the relationship between two categorical data."
      ]
    },
    {
      "cell_type": "code",
      "metadata": {
        "id": "cfNuOvrL2Fg-",
        "colab_type": "code",
        "colab": {
          "base_uri": "https://localhost:8080/",
          "height": 72
        },
        "outputId": "7812d145-7da2-4d2c-e922-cd9de524b978"
      },
      "source": [
        "churn_df['gender'].value_counts()"
      ],
      "execution_count": 13,
      "outputs": [
        {
          "output_type": "execute_result",
          "data": {
            "text/plain": [
              "Male      3555\n",
              "Female    3488\n",
              "Name: gender, dtype: int64"
            ]
          },
          "metadata": {
            "tags": []
          },
          "execution_count": 13
        }
      ]
    },
    {
      "cell_type": "code",
      "metadata": {
        "id": "J4VrCi0HFZcj",
        "colab_type": "code",
        "colab": {
          "base_uri": "https://localhost:8080/",
          "height": 285
        },
        "outputId": "a7232eb7-1433-4d4e-8577-294968775622"
      },
      "source": [
        "fig, ax = plt.subplots()\n",
        "ax = sns.countplot(x=\"gender\", hue=\"Churn\", data=churn_df)\n",
        "\n",
        "for p in ax.patches:\n",
        "    height = p.get_height()\n",
        "    ax.text(p.get_x() + p.get_width()/2., height+3, '{:1.2f}'.format(height/churn_df.shape[0]), ha=\"center\")\n"
      ],
      "execution_count": 14,
      "outputs": [
        {
          "output_type": "display_data",
          "data": {
            "image/png": "[encoded data removed]",
            "text/plain": [
              "<Figure size 432x288 with 1 Axes>"
            ]
          },
          "metadata": {
            "tags": []
          }
        }
      ]
    },
    {
      "cell_type": "markdown",
      "metadata": {
        "id": "SllxZiskGNUU",
        "colab_type": "text"
      },
      "source": [
        "## Is there any relationship between users who have churned to genders of the user ?\n",
        "\n",
        "Statistics alone do not prove anything. All tests are relative likelihood\n"
      ]
    },
    {
      "cell_type": "markdown",
      "metadata": {
        "id": "P-kyjff7GdTO",
        "colab_type": "text"
      },
      "source": [
        "- To do a chi-squared test. We need to create a contigency table.\n",
        "\n",
        "- Also called cross-tab.\n"
      ]
    },
    {
      "cell_type": "code",
      "metadata": {
        "id": "xXE9zS2iF5-5",
        "colab_type": "code",
        "colab": {}
      },
      "source": [
        "gender_churn_ct = pd.crosstab(index=churn_df[\"gender\"], columns=churn_df[\"Churn\"])"
      ],
      "execution_count": 0,
      "outputs": []
    },
    {
      "cell_type": "code",
      "metadata": {
        "id": "21DUimEgGqFF",
        "colab_type": "code",
        "colab": {
          "base_uri": "https://localhost:8080/",
          "height": 143
        },
        "outputId": "2cde61f2-57ca-46a6-a345-37243a3e630d"
      },
      "source": [
        "gender_churn_ct"
      ],
      "execution_count": 16,
      "outputs": [
        {
          "output_type": "execute_result",
          "data": {
            "text/html": [
              "<div>\n",
              "<style scoped>\n",
              "    .dataframe tbody tr th:only-of-type {\n",
              "        vertical-align: middle;\n",
              "    }\n",
              "\n",
              "    .dataframe tbody tr th {\n",
              "        vertical-align: top;\n",
              "    }\n",
              "\n",
              "    .dataframe thead th {\n",
              "        text-align: right;\n",
              "    }\n",
              "</style>\n",
              "<table border=\"1\" class=\"dataframe\">\n",
              "  <thead>\n",
              "    <tr style=\"text-align: right;\">\n",
              "      <th>Churn</th>\n",
              "      <th>No</th>\n",
              "      <th>Yes</th>\n",
              "    </tr>\n",
              "    <tr>\n",
              "      <th>gender</th>\n",
              "      <th></th>\n",
              "      <th></th>\n",
              "    </tr>\n",
              "  </thead>\n",
              "  <tbody>\n",
              "    <tr>\n",
              "      <th>Female</th>\n",
              "      <td>2549</td>\n",
              "      <td>939</td>\n",
              "    </tr>\n",
              "    <tr>\n",
              "      <th>Male</th>\n",
              "      <td>2625</td>\n",
              "      <td>930</td>\n",
              "    </tr>\n",
              "  </tbody>\n",
              "</table>\n",
              "</div>"
            ],
            "text/plain": [
              "Churn     No  Yes\n",
              "gender           \n",
              "Female  2549  939\n",
              "Male    2625  930"
            ]
          },
          "metadata": {
            "tags": []
          },
          "execution_count": 16
        }
      ]
    },
    {
      "cell_type": "code",
      "metadata": {
        "id": "JRchXi5oGrJ8",
        "colab_type": "code",
        "colab": {
          "base_uri": "https://localhost:8080/",
          "height": 54
        },
        "outputId": "f5ab6128-d323-47ea-e813-37d2ff1f159a"
      },
      "source": [
        "print(gender_churn_ct.iloc[0].values)\n",
        "print(gender_churn_ct.iloc[1].values)"
      ],
      "execution_count": 18,
      "outputs": [
        {
          "output_type": "stream",
          "text": [
            "[2549  939]\n",
            "[2625  930]\n"
          ],
          "name": "stdout"
        }
      ]
    },
    {
      "cell_type": "code",
      "metadata": {
        "id": "oyUbc6ycG6Vz",
        "colab_type": "code",
        "colab": {}
      },
      "source": [
        "from scipy import stats"
      ],
      "execution_count": 0,
      "outputs": []
    },
    {
      "cell_type": "markdown",
      "metadata": {
        "id": "UcfDTTPrHR-h",
        "colab_type": "text"
      },
      "source": [
        " scipy.stats.chi2_contingency(observed, correction=True, lambda_=None)\n",
        "\n",
        "Chi-square test of independence of variables in a contingency table.\n",
        "\n",
        "This function computes the chi-square statistic and p-value for the hypothesis test of independence of the observed frequencies in the contingency table [1] observed. \n",
        "\n",
        "The expected frequencies are computed based on the marginal sums under the assumption of independence; see scipy.stats.contingency.expected_freq.\n",
        "\n",
        "The number of degrees of freedom is (expressed using numpy functions and attributes):"
      ]
    },
    {
      "cell_type": "code",
      "metadata": {
        "id": "tcUL-Pq4HEj6",
        "colab_type": "code",
        "colab": {}
      },
      "source": [
        "(chi2, p, dof, _) = stats.chi2_contingency([gender_churn_ct.iloc[0].values, gender_churn_ct.iloc[1].values])"
      ],
      "execution_count": 0,
      "outputs": []
    },
    {
      "cell_type": "code",
      "metadata": {
        "id": "wVTnZjkGHuQX",
        "colab_type": "code",
        "colab": {
          "base_uri": "https://localhost:8080/",
          "height": 72
        },
        "outputId": "1c84bbf6-b12d-441d-e46b-392aabefd61f"
      },
      "source": [
        "print(\"chi2: \",chi2)\n",
        "print(\"p-value: \",p)\n",
        "print(\"Degree of freedom\",dof)"
      ],
      "execution_count": 21,
      "outputs": [
        {
          "output_type": "stream",
          "text": [
            "chi2:  0.4840828822091383\n",
            "p-value:  0.48657873605618596\n",
            "Degree of freedom 1\n"
          ],
          "name": "stdout"
        }
      ]
    },
    {
      "cell_type": "markdown",
      "metadata": {
        "id": "5hGuBbxNKLKS",
        "colab_type": "text"
      },
      "source": [
        "chi ^ 2 statistics =\n",
        "\n",
        "X ^ 2 = sum((observed - Expected) ^ 2 / Expected)"
      ]
    },
    {
      "cell_type": "markdown",
      "metadata": {
        "id": "-TL5Lxw1IFwM",
        "colab_type": "text"
      },
      "source": [
        "Higher the chi2 value more is the correlation between the two variables.\n",
        "\n",
        "dof is number of categories - 1\n"
      ]
    },
    {
      "cell_type": "markdown",
      "metadata": {
        "id": "cV4429b_IZVy",
        "colab_type": "text"
      },
      "source": [
        "p-value > 0.05\n",
        "hence we do not accept the alternate hypothesis and choose the null hypothesis.\n",
        "\n",
        "That means we can drop the gender column it is not very useful."
      ]
    },
    {
      "cell_type": "code",
      "metadata": {
        "id": "l5Szp-XKH1y3",
        "colab_type": "code",
        "colab": {
          "base_uri": "https://localhost:8080/",
          "height": 175
        },
        "outputId": "caab3a46-7340-4152-a0e1-9818b5c1aec5"
      },
      "source": [
        "pd.crosstab(index=churn_df['gender'], columns=churn_df['Churn'], margins=True)"
      ],
      "execution_count": 22,
      "outputs": [
        {
          "output_type": "execute_result",
          "data": {
            "text/html": [
              "<div>\n",
              "<style scoped>\n",
              "    .dataframe tbody tr th:only-of-type {\n",
              "        vertical-align: middle;\n",
              "    }\n",
              "\n",
              "    .dataframe tbody tr th {\n",
              "        vertical-align: top;\n",
              "    }\n",
              "\n",
              "    .dataframe thead th {\n",
              "        text-align: right;\n",
              "    }\n",
              "</style>\n",
              "<table border=\"1\" class=\"dataframe\">\n",
              "  <thead>\n",
              "    <tr style=\"text-align: right;\">\n",
              "      <th>Churn</th>\n",
              "      <th>No</th>\n",
              "      <th>Yes</th>\n",
              "      <th>All</th>\n",
              "    </tr>\n",
              "    <tr>\n",
              "      <th>gender</th>\n",
              "      <th></th>\n",
              "      <th></th>\n",
              "      <th></th>\n",
              "    </tr>\n",
              "  </thead>\n",
              "  <tbody>\n",
              "    <tr>\n",
              "      <th>Female</th>\n",
              "      <td>2549</td>\n",
              "      <td>939</td>\n",
              "      <td>3488</td>\n",
              "    </tr>\n",
              "    <tr>\n",
              "      <th>Male</th>\n",
              "      <td>2625</td>\n",
              "      <td>930</td>\n",
              "      <td>3555</td>\n",
              "    </tr>\n",
              "    <tr>\n",
              "      <th>All</th>\n",
              "      <td>5174</td>\n",
              "      <td>1869</td>\n",
              "      <td>7043</td>\n",
              "    </tr>\n",
              "  </tbody>\n",
              "</table>\n",
              "</div>"
            ],
            "text/plain": [
              "Churn     No   Yes   All\n",
              "gender                  \n",
              "Female  2549   939  3488\n",
              "Male    2625   930  3555\n",
              "All     5174  1869  7043"
            ]
          },
          "metadata": {
            "tags": []
          },
          "execution_count": 22
        }
      ]
    },
    {
      "cell_type": "markdown",
      "metadata": {
        "id": "niEjX2zoK9CL",
        "colab_type": "text"
      },
      "source": [
        "## Is there any relationship between users who opted for paperless billing to users who have churned ?"
      ]
    },
    {
      "cell_type": "code",
      "metadata": {
        "id": "fTKLO4a5K2kD",
        "colab_type": "code",
        "colab": {
          "base_uri": "https://localhost:8080/",
          "height": 72
        },
        "outputId": "eabbb19c-ee97-4a66-dd37-7bad63b1a18a"
      },
      "source": [
        "churn_df['PaperlessBilling'].value_counts()"
      ],
      "execution_count": 23,
      "outputs": [
        {
          "output_type": "execute_result",
          "data": {
            "text/plain": [
              "Yes    4171\n",
              "No     2872\n",
              "Name: PaperlessBilling, dtype: int64"
            ]
          },
          "metadata": {
            "tags": []
          },
          "execution_count": 23
        }
      ]
    },
    {
      "cell_type": "code",
      "metadata": {
        "id": "sZXIekzzLRnM",
        "colab_type": "code",
        "colab": {
          "base_uri": "https://localhost:8080/",
          "height": 285
        },
        "outputId": "2aa46948-b0e9-4638-a2d4-f00efa6c00f3"
      },
      "source": [
        "fig, ax = plt.subplots()\n",
        "ax = sns.countplot(x=\"PaperlessBilling\", hue=\"Churn\", data=churn_df)\n",
        "\n",
        "for p in ax.patches:\n",
        "    height = p.get_height()\n",
        "    ax.text(p.get_x() + p.get_width()/2., height+3, '{:1.2f}'.format(height/churn_df.shape[0]), ha=\"center\")\n"
      ],
      "execution_count": 24,
      "outputs": [
        {
          "output_type": "display_data",
          "data": {
            "image/png": "[encoded data removed]",
            "text/plain": [
              "<Figure size 432x288 with 1 Axes>"
            ]
          },
          "metadata": {
            "tags": []
          }
        }
      ]
    },
    {
      "cell_type": "code",
      "metadata": {
        "id": "yZRtR3uMLX1r",
        "colab_type": "code",
        "colab": {}
      },
      "source": [
        "pb_churn_ct = pd.crosstab(index=churn_df['PaperlessBilling'], columns=churn_df['Churn'])"
      ],
      "execution_count": 0,
      "outputs": []
    },
    {
      "cell_type": "code",
      "metadata": {
        "id": "1Qk2dTQyL5gA",
        "colab_type": "code",
        "colab": {
          "base_uri": "https://localhost:8080/",
          "height": 143
        },
        "outputId": "b5f8a39e-491e-4584-9fe8-98f3f0c5aeda"
      },
      "source": [
        "pb_churn_ct"
      ],
      "execution_count": 26,
      "outputs": [
        {
          "output_type": "execute_result",
          "data": {
            "text/html": [
              "<div>\n",
              "<style scoped>\n",
              "    .dataframe tbody tr th:only-of-type {\n",
              "        vertical-align: middle;\n",
              "    }\n",
              "\n",
              "    .dataframe tbody tr th {\n",
              "        vertical-align: top;\n",
              "    }\n",
              "\n",
              "    .dataframe thead th {\n",
              "        text-align: right;\n",
              "    }\n",
              "</style>\n",
              "<table border=\"1\" class=\"dataframe\">\n",
              "  <thead>\n",
              "    <tr style=\"text-align: right;\">\n",
              "      <th>Churn</th>\n",
              "      <th>No</th>\n",
              "      <th>Yes</th>\n",
              "    </tr>\n",
              "    <tr>\n",
              "      <th>PaperlessBilling</th>\n",
              "      <th></th>\n",
              "      <th></th>\n",
              "    </tr>\n",
              "  </thead>\n",
              "  <tbody>\n",
              "    <tr>\n",
              "      <th>No</th>\n",
              "      <td>2403</td>\n",
              "      <td>469</td>\n",
              "    </tr>\n",
              "    <tr>\n",
              "      <th>Yes</th>\n",
              "      <td>2771</td>\n",
              "      <td>1400</td>\n",
              "    </tr>\n",
              "  </tbody>\n",
              "</table>\n",
              "</div>"
            ],
            "text/plain": [
              "Churn               No   Yes\n",
              "PaperlessBilling            \n",
              "No                2403   469\n",
              "Yes               2771  1400"
            ]
          },
          "metadata": {
            "tags": []
          },
          "execution_count": 26
        }
      ]
    },
    {
      "cell_type": "code",
      "metadata": {
        "id": "xd2jqRtPL8BY",
        "colab_type": "code",
        "colab": {
          "base_uri": "https://localhost:8080/",
          "height": 164
        },
        "outputId": "4fbd08cf-ba7c-4fb8-f938-4ffe5c1f1b6b"
      },
      "source": [
        "print(pb_churn_ct.iloc[0])\n",
        "print(pb_churn_ct.iloc[1])"
      ],
      "execution_count": 27,
      "outputs": [
        {
          "output_type": "stream",
          "text": [
            "Churn\n",
            "No     2403\n",
            "Yes     469\n",
            "Name: No, dtype: int64\n",
            "Churn\n",
            "No     2771\n",
            "Yes    1400\n",
            "Name: Yes, dtype: int64\n"
          ],
          "name": "stdout"
        }
      ]
    },
    {
      "cell_type": "code",
      "metadata": {
        "id": "CLRWCsHiMErH",
        "colab_type": "code",
        "colab": {}
      },
      "source": [
        "(chi2, p, dof, _) = stats.chi2_contingency([pb_churn_ct.iloc[0].values, pb_churn_ct.iloc[1].values])"
      ],
      "execution_count": 0,
      "outputs": []
    },
    {
      "cell_type": "code",
      "metadata": {
        "id": "uOMN0CONMPxF",
        "colab_type": "code",
        "colab": {
          "base_uri": "https://localhost:8080/",
          "height": 72
        },
        "outputId": "9ade4edc-d3c1-4723-de5d-21c5133791c7"
      },
      "source": [
        "print(\"chi2: \",chi2)\n",
        "print(\"p-value: \",p)\n",
        "print(\"Degree of freedom\",dof)"
      ],
      "execution_count": 29,
      "outputs": [
        {
          "output_type": "stream",
          "text": [
            "chi2:  258.27764906707307\n",
            "p-value:  4.073354668665985e-58\n",
            "Degree of freedom 1\n"
          ],
          "name": "stdout"
        }
      ]
    },
    {
      "cell_type": "markdown",
      "metadata": {
        "id": "Js8mUcAmMV4I",
        "colab_type": "text"
      },
      "source": [
        "Practically it may not make much sense.\n",
        "\n",
        "But here p-value < 0.05 hence we reject the null hypothesis in favour of alternate hypothesis.\n",
        "\n",
        "That is there is a significant relationship in this data."
      ]
    }
  ]
}