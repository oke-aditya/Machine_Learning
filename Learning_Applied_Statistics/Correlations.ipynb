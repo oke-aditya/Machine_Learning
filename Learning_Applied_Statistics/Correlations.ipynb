{
  "nbformat": 4,
  "nbformat_minor": 0,
  "metadata": {
    "colab": {
      "name": "Correlations.ipynb",
      "provenance": []
    },
    "kernelspec": {
      "name": "python3",
      "display_name": "Python 3"
    }
  },
  "cells": [
    {
      "cell_type": "markdown",
      "metadata": {
        "id": "oolY5vjfsRmp",
        "colab_type": "text"
      },
      "source": [
        "# Correlations and understanding them"
      ]
    },
    {
      "cell_type": "markdown",
      "metadata": {
        "id": "CjoYqdvOs4Fp",
        "colab_type": "text"
      },
      "source": [
        "Relationship can be either linear, non linear, monotonic and no relationship. We will also seeing how to assess strength of relationship with examples. We will get idea of polynomials and segmentation\n",
        "\n",
        "In real world data no two relationship form a straight line. many data is curvy in nature. So let us see how different relationship looks like and get intuition on how best to model it."
      ]
    },
    {
      "cell_type": "code",
      "metadata": {
        "id": "yCiyiQRUsK0f",
        "colab_type": "code",
        "colab": {}
      },
      "source": [
        "import warnings\n",
        "import pandas as pd\n",
        "import numpy as np\n",
        "\n",
        "import matplotlib.pyplot as plt\n",
        "import seaborn as sns\n",
        "sns.set()\n",
        "warnings.simplefilter(action=\"ignore\")"
      ],
      "execution_count": 0,
      "outputs": []
    },
    {
      "cell_type": "code",
      "metadata": {
        "id": "kimVuL_IsfnO",
        "colab_type": "code",
        "colab": {}
      },
      "source": [
        "loan_df = pd.read_csv(\"https://raw.githubusercontent.com/srivatsan88/YouTubeLI/master/dataset/loan_analysis_summary.csv\")"
      ],
      "execution_count": 0,
      "outputs": []
    },
    {
      "cell_type": "code",
      "metadata": {
        "id": "_MxIOemeswzw",
        "colab_type": "code",
        "colab": {
          "base_uri": "https://localhost:8080/",
          "height": 0
        },
        "outputId": "00764572-f523-4969-891f-9a853a5041ed"
      },
      "source": [
        "loan_df.head()"
      ],
      "execution_count": 28,
      "outputs": [
        {
          "output_type": "execute_result",
          "data": {
            "text/html": [
              "<div>\n",
              "<style scoped>\n",
              "    .dataframe tbody tr th:only-of-type {\n",
              "        vertical-align: middle;\n",
              "    }\n",
              "\n",
              "    .dataframe tbody tr th {\n",
              "        vertical-align: top;\n",
              "    }\n",
              "\n",
              "    .dataframe thead th {\n",
              "        text-align: right;\n",
              "    }\n",
              "</style>\n",
              "<table border=\"1\" class=\"dataframe\">\n",
              "  <thead>\n",
              "    <tr style=\"text-align: right;\">\n",
              "      <th></th>\n",
              "      <th>fico_score</th>\n",
              "      <th>loan_total</th>\n",
              "      <th>default_total</th>\n",
              "      <th>dti</th>\n",
              "      <th>avg_loan_amnt</th>\n",
              "      <th>median_annual_inc</th>\n",
              "      <th>avg_annual_inc</th>\n",
              "      <th>int_rate</th>\n",
              "      <th>default_rate</th>\n",
              "      <th>actual_default_rate</th>\n",
              "    </tr>\n",
              "  </thead>\n",
              "  <tbody>\n",
              "    <tr>\n",
              "      <th>0</th>\n",
              "      <td>500</td>\n",
              "      <td>3585</td>\n",
              "      <td>3183</td>\n",
              "      <td>19.737013</td>\n",
              "      <td>13660.71827</td>\n",
              "      <td>55000</td>\n",
              "      <td>63396.10292</td>\n",
              "      <td>15.352285</td>\n",
              "      <td>2.463470</td>\n",
              "      <td>0.520266</td>\n",
              "    </tr>\n",
              "    <tr>\n",
              "      <th>1</th>\n",
              "      <td>510</td>\n",
              "      <td>8223</td>\n",
              "      <td>7191</td>\n",
              "      <td>19.747810</td>\n",
              "      <td>13889.67226</td>\n",
              "      <td>56000</td>\n",
              "      <td>65446.52263</td>\n",
              "      <td>15.440212</td>\n",
              "      <td>5.565445</td>\n",
              "      <td>1.175378</td>\n",
              "    </tr>\n",
              "    <tr>\n",
              "      <th>2</th>\n",
              "      <td>520</td>\n",
              "      <td>9792</td>\n",
              "      <td>8370</td>\n",
              "      <td>20.085761</td>\n",
              "      <td>14186.13920</td>\n",
              "      <td>58728</td>\n",
              "      <td>68261.38708</td>\n",
              "      <td>15.312451</td>\n",
              "      <td>6.477927</td>\n",
              "      <td>1.368087</td>\n",
              "    </tr>\n",
              "    <tr>\n",
              "      <th>3</th>\n",
              "      <td>530</td>\n",
              "      <td>10984</td>\n",
              "      <td>9254</td>\n",
              "      <td>20.253199</td>\n",
              "      <td>14487.00838</td>\n",
              "      <td>60000</td>\n",
              "      <td>69041.52340</td>\n",
              "      <td>15.449011</td>\n",
              "      <td>7.162095</td>\n",
              "      <td>1.512578</td>\n",
              "    </tr>\n",
              "    <tr>\n",
              "      <th>4</th>\n",
              "      <td>540</td>\n",
              "      <td>12333</td>\n",
              "      <td>10127</td>\n",
              "      <td>20.770446</td>\n",
              "      <td>14756.36706</td>\n",
              "      <td>60000</td>\n",
              "      <td>69948.95243</td>\n",
              "      <td>15.271022</td>\n",
              "      <td>7.837750</td>\n",
              "      <td>1.655271</td>\n",
              "    </tr>\n",
              "  </tbody>\n",
              "</table>\n",
              "</div>"
            ],
            "text/plain": [
              "   fico_score  loan_total  ...  default_rate  actual_default_rate\n",
              "0         500        3585  ...      2.463470             0.520266\n",
              "1         510        8223  ...      5.565445             1.175378\n",
              "2         520        9792  ...      6.477927             1.368087\n",
              "3         530       10984  ...      7.162095             1.512578\n",
              "4         540       12333  ...      7.837750             1.655271\n",
              "\n",
              "[5 rows x 10 columns]"
            ]
          },
          "metadata": {
            "tags": []
          },
          "execution_count": 28
        }
      ]
    },
    {
      "cell_type": "markdown",
      "metadata": {
        "id": "hHd7syWRs9qo",
        "colab_type": "text"
      },
      "source": [
        "Statistical tests do not conclude anything. We need to apply domain knowledge and context which is related to the dataset. \n",
        "\n",
        "This will help us understand the data."
      ]
    },
    {
      "cell_type": "code",
      "metadata": {
        "id": "a01fyrjgsyZA",
        "colab_type": "code",
        "colab": {
          "base_uri": "https://localhost:8080/",
          "height": 0
        },
        "outputId": "fa81b720-dfb9-482b-825d-489868cae476"
      },
      "source": [
        "loan_df.describe()"
      ],
      "execution_count": 29,
      "outputs": [
        {
          "output_type": "execute_result",
          "data": {
            "text/html": [
              "<div>\n",
              "<style scoped>\n",
              "    .dataframe tbody tr th:only-of-type {\n",
              "        vertical-align: middle;\n",
              "    }\n",
              "\n",
              "    .dataframe tbody tr th {\n",
              "        vertical-align: top;\n",
              "    }\n",
              "\n",
              "    .dataframe thead th {\n",
              "        text-align: right;\n",
              "    }\n",
              "</style>\n",
              "<table border=\"1\" class=\"dataframe\">\n",
              "  <thead>\n",
              "    <tr style=\"text-align: right;\">\n",
              "      <th></th>\n",
              "      <th>fico_score</th>\n",
              "      <th>loan_total</th>\n",
              "      <th>default_total</th>\n",
              "      <th>dti</th>\n",
              "      <th>avg_loan_amnt</th>\n",
              "      <th>median_annual_inc</th>\n",
              "      <th>avg_annual_inc</th>\n",
              "      <th>int_rate</th>\n",
              "      <th>default_rate</th>\n",
              "      <th>actual_default_rate</th>\n",
              "    </tr>\n",
              "  </thead>\n",
              "  <tbody>\n",
              "    <tr>\n",
              "      <th>count</th>\n",
              "      <td>36.000000</td>\n",
              "      <td>36.000000</td>\n",
              "      <td>36.000000</td>\n",
              "      <td>36.000000</td>\n",
              "      <td>36.000000</td>\n",
              "      <td>36.000000</td>\n",
              "      <td>36.000000</td>\n",
              "      <td>36.000000</td>\n",
              "      <td>36.000000</td>\n",
              "      <td>36.000000</td>\n",
              "    </tr>\n",
              "    <tr>\n",
              "      <th>mean</th>\n",
              "      <td>675.000000</td>\n",
              "      <td>16994.527778</td>\n",
              "      <td>3589.111111</td>\n",
              "      <td>18.790417</td>\n",
              "      <td>15088.569697</td>\n",
              "      <td>65678.583333</td>\n",
              "      <td>77391.960108</td>\n",
              "      <td>12.520384</td>\n",
              "      <td>2.777778</td>\n",
              "      <td>0.586645</td>\n",
              "    </tr>\n",
              "    <tr>\n",
              "      <th>std</th>\n",
              "      <td>105.356538</td>\n",
              "      <td>11917.752515</td>\n",
              "      <td>3512.765608</td>\n",
              "      <td>1.690671</td>\n",
              "      <td>1633.584599</td>\n",
              "      <td>6846.614297</td>\n",
              "      <td>8038.473538</td>\n",
              "      <td>2.560128</td>\n",
              "      <td>2.718690</td>\n",
              "      <td>0.574166</td>\n",
              "    </tr>\n",
              "    <tr>\n",
              "      <th>min</th>\n",
              "      <td>500.000000</td>\n",
              "      <td>124.000000</td>\n",
              "      <td>3.000000</td>\n",
              "      <td>14.676210</td>\n",
              "      <td>12994.231600</td>\n",
              "      <td>55000.000000</td>\n",
              "      <td>63396.102920</td>\n",
              "      <td>7.585562</td>\n",
              "      <td>0.002322</td>\n",
              "      <td>0.000490</td>\n",
              "    </tr>\n",
              "    <tr>\n",
              "      <th>25%</th>\n",
              "      <td>587.500000</td>\n",
              "      <td>10452.750000</td>\n",
              "      <td>214.250000</td>\n",
              "      <td>17.650570</td>\n",
              "      <td>14038.181180</td>\n",
              "      <td>61297.500000</td>\n",
              "      <td>72364.301710</td>\n",
              "      <td>10.453639</td>\n",
              "      <td>0.165818</td>\n",
              "      <td>0.035019</td>\n",
              "    </tr>\n",
              "    <tr>\n",
              "      <th>50%</th>\n",
              "      <td>675.000000</td>\n",
              "      <td>12519.500000</td>\n",
              "      <td>2886.500000</td>\n",
              "      <td>19.083851</td>\n",
              "      <td>14857.024775</td>\n",
              "      <td>63000.000000</td>\n",
              "      <td>74919.065440</td>\n",
              "      <td>13.556549</td>\n",
              "      <td>2.233995</td>\n",
              "      <td>0.471802</td>\n",
              "    </tr>\n",
              "    <tr>\n",
              "      <th>75%</th>\n",
              "      <td>762.500000</td>\n",
              "      <td>23774.500000</td>\n",
              "      <td>6123.750000</td>\n",
              "      <td>20.165171</td>\n",
              "      <td>15353.673887</td>\n",
              "      <td>68250.000000</td>\n",
              "      <td>80706.824483</td>\n",
              "      <td>14.732548</td>\n",
              "      <td>4.739451</td>\n",
              "      <td>1.000935</td>\n",
              "    </tr>\n",
              "    <tr>\n",
              "      <th>max</th>\n",
              "      <td>850.000000</td>\n",
              "      <td>40444.000000</td>\n",
              "      <td>10164.000000</td>\n",
              "      <td>20.974137</td>\n",
              "      <td>20082.459680</td>\n",
              "      <td>83750.000000</td>\n",
              "      <td>98683.805750</td>\n",
              "      <td>15.449011</td>\n",
              "      <td>7.866386</td>\n",
              "      <td>1.661319</td>\n",
              "    </tr>\n",
              "  </tbody>\n",
              "</table>\n",
              "</div>"
            ],
            "text/plain": [
              "       fico_score    loan_total  ...  default_rate  actual_default_rate\n",
              "count   36.000000     36.000000  ...     36.000000            36.000000\n",
              "mean   675.000000  16994.527778  ...      2.777778             0.586645\n",
              "std    105.356538  11917.752515  ...      2.718690             0.574166\n",
              "min    500.000000    124.000000  ...      0.002322             0.000490\n",
              "25%    587.500000  10452.750000  ...      0.165818             0.035019\n",
              "50%    675.000000  12519.500000  ...      2.233995             0.471802\n",
              "75%    762.500000  23774.500000  ...      4.739451             1.000935\n",
              "max    850.000000  40444.000000  ...      7.866386             1.661319\n",
              "\n",
              "[8 rows x 10 columns]"
            ]
          },
          "metadata": {
            "tags": []
          },
          "execution_count": 29
        }
      ]
    },
    {
      "cell_type": "markdown",
      "metadata": {
        "id": "9wHt7hjQv07Q",
        "colab_type": "text"
      },
      "source": [
        "# Covariance vs Correlation"
      ]
    },
    {
      "cell_type": "markdown",
      "metadata": {
        "id": "qbd21NGtv3so",
        "colab_type": "text"
      },
      "source": [
        "Covariance are not standardised values. Range from -infinity to infinity\n",
        "Correlation is standardise between -1 to 1.\n",
        "\n",
        "Covariance shows direction of relationship. \n",
        "\n",
        "Positive covariance shows positive relationship.\n",
        "Negatice covariance shows negative rrelationship.\n",
        "\n",
        "\n"
      ]
    },
    {
      "cell_type": "code",
      "metadata": {
        "id": "MSya0jxEv4lY",
        "colab_type": "code",
        "colab": {
          "base_uri": "https://localhost:8080/",
          "height": 0
        },
        "outputId": "3cd3fb31-9308-4485-f6d0-18d4448bb4bd"
      },
      "source": [
        "loan_df.cov()"
      ],
      "execution_count": 30,
      "outputs": [
        {
          "output_type": "execute_result",
          "data": {
            "text/html": [
              "<div>\n",
              "<style scoped>\n",
              "    .dataframe tbody tr th:only-of-type {\n",
              "        vertical-align: middle;\n",
              "    }\n",
              "\n",
              "    .dataframe tbody tr th {\n",
              "        vertical-align: top;\n",
              "    }\n",
              "\n",
              "    .dataframe thead th {\n",
              "        text-align: right;\n",
              "    }\n",
              "</style>\n",
              "<table border=\"1\" class=\"dataframe\">\n",
              "  <thead>\n",
              "    <tr style=\"text-align: right;\">\n",
              "      <th></th>\n",
              "      <th>fico_score</th>\n",
              "      <th>loan_total</th>\n",
              "      <th>default_total</th>\n",
              "      <th>dti</th>\n",
              "      <th>avg_loan_amnt</th>\n",
              "      <th>median_annual_inc</th>\n",
              "      <th>avg_annual_inc</th>\n",
              "      <th>int_rate</th>\n",
              "      <th>default_rate</th>\n",
              "      <th>actual_default_rate</th>\n",
              "    </tr>\n",
              "  </thead>\n",
              "  <tbody>\n",
              "    <tr>\n",
              "      <th>fico_score</th>\n",
              "      <td>11100.000000</td>\n",
              "      <td>8.431757e+04</td>\n",
              "      <td>-3.281917e+05</td>\n",
              "      <td>-164.562715</td>\n",
              "      <td>1.179751e+05</td>\n",
              "      <td>6.540867e+05</td>\n",
              "      <td>7.851304e+05</td>\n",
              "      <td>-261.372425</td>\n",
              "      <td>-254.002627</td>\n",
              "      <td>-53.643365</td>\n",
              "    </tr>\n",
              "    <tr>\n",
              "      <th>loan_total</th>\n",
              "      <td>84317.571429</td>\n",
              "      <td>1.420328e+08</td>\n",
              "      <td>-6.117364e+06</td>\n",
              "      <td>2841.802408</td>\n",
              "      <td>-9.263903e+06</td>\n",
              "      <td>-1.233279e+07</td>\n",
              "      <td>-9.045332e+06</td>\n",
              "      <td>3454.737681</td>\n",
              "      <td>-4734.508923</td>\n",
              "      <td>-999.891190</td>\n",
              "    </tr>\n",
              "    <tr>\n",
              "      <th>default_total</th>\n",
              "      <td>-328191.714286</td>\n",
              "      <td>-6.117364e+06</td>\n",
              "      <td>1.233952e+07</td>\n",
              "      <td>5018.669412</td>\n",
              "      <td>-2.542762e+06</td>\n",
              "      <td>-1.726291e+07</td>\n",
              "      <td>-2.094780e+07</td>\n",
              "      <td>7646.662485</td>\n",
              "      <td>9550.122450</td>\n",
              "      <td>2016.911035</td>\n",
              "    </tr>\n",
              "    <tr>\n",
              "      <th>dti</th>\n",
              "      <td>-164.562715</td>\n",
              "      <td>2.841802e+03</td>\n",
              "      <td>5.018669e+03</td>\n",
              "      <td>2.858369</td>\n",
              "      <td>-2.164641e+03</td>\n",
              "      <td>-1.040763e+04</td>\n",
              "      <td>-1.219916e+04</td>\n",
              "      <td>4.167275</td>\n",
              "      <td>3.884179</td>\n",
              "      <td>0.820308</td>\n",
              "    </tr>\n",
              "    <tr>\n",
              "      <th>avg_loan_amnt</th>\n",
              "      <td>117975.085123</td>\n",
              "      <td>-9.263903e+06</td>\n",
              "      <td>-2.542762e+06</td>\n",
              "      <td>-2164.640693</td>\n",
              "      <td>2.668599e+06</td>\n",
              "      <td>9.564547e+06</td>\n",
              "      <td>1.092982e+07</td>\n",
              "      <td>-3359.878600</td>\n",
              "      <td>-1967.960087</td>\n",
              "      <td>-415.617751</td>\n",
              "    </tr>\n",
              "    <tr>\n",
              "      <th>median_annual_inc</th>\n",
              "      <td>654086.714286</td>\n",
              "      <td>-1.233279e+07</td>\n",
              "      <td>-1.726291e+07</td>\n",
              "      <td>-10407.631551</td>\n",
              "      <td>9.564547e+06</td>\n",
              "      <td>4.687613e+07</td>\n",
              "      <td>5.457827e+07</td>\n",
              "      <td>-16564.670539</td>\n",
              "      <td>-13360.560742</td>\n",
              "      <td>-2821.645746</td>\n",
              "    </tr>\n",
              "    <tr>\n",
              "      <th>avg_annual_inc</th>\n",
              "      <td>785130.353840</td>\n",
              "      <td>-9.045332e+06</td>\n",
              "      <td>-2.094780e+07</td>\n",
              "      <td>-12199.161949</td>\n",
              "      <td>1.092982e+07</td>\n",
              "      <td>5.457827e+07</td>\n",
              "      <td>6.461706e+07</td>\n",
              "      <td>-19471.216732</td>\n",
              "      <td>-16212.465719</td>\n",
              "      <td>-3423.945732</td>\n",
              "    </tr>\n",
              "    <tr>\n",
              "      <th>int_rate</th>\n",
              "      <td>-261.372425</td>\n",
              "      <td>3.454738e+03</td>\n",
              "      <td>7.646662e+03</td>\n",
              "      <td>4.167275</td>\n",
              "      <td>-3.359879e+03</td>\n",
              "      <td>-1.656467e+04</td>\n",
              "      <td>-1.947122e+04</td>\n",
              "      <td>6.554256</td>\n",
              "      <td>5.918103</td>\n",
              "      <td>1.249857</td>\n",
              "    </tr>\n",
              "    <tr>\n",
              "      <th>default_rate</th>\n",
              "      <td>-254.002627</td>\n",
              "      <td>-4.734509e+03</td>\n",
              "      <td>9.550122e+03</td>\n",
              "      <td>3.884179</td>\n",
              "      <td>-1.967960e+03</td>\n",
              "      <td>-1.336056e+04</td>\n",
              "      <td>-1.621247e+04</td>\n",
              "      <td>5.918103</td>\n",
              "      <td>7.391278</td>\n",
              "      <td>1.560980</td>\n",
              "    </tr>\n",
              "    <tr>\n",
              "      <th>actual_default_rate</th>\n",
              "      <td>-53.643365</td>\n",
              "      <td>-9.998912e+02</td>\n",
              "      <td>2.016911e+03</td>\n",
              "      <td>0.820308</td>\n",
              "      <td>-4.156178e+02</td>\n",
              "      <td>-2.821646e+03</td>\n",
              "      <td>-3.423946e+03</td>\n",
              "      <td>1.249857</td>\n",
              "      <td>1.560980</td>\n",
              "      <td>0.329667</td>\n",
              "    </tr>\n",
              "  </tbody>\n",
              "</table>\n",
              "</div>"
            ],
            "text/plain": [
              "                        fico_score  ...  actual_default_rate\n",
              "fico_score            11100.000000  ...           -53.643365\n",
              "loan_total            84317.571429  ...          -999.891190\n",
              "default_total       -328191.714286  ...          2016.911035\n",
              "dti                    -164.562715  ...             0.820308\n",
              "avg_loan_amnt        117975.085123  ...          -415.617751\n",
              "median_annual_inc    654086.714286  ...         -2821.645746\n",
              "avg_annual_inc       785130.353840  ...         -3423.945732\n",
              "int_rate               -261.372425  ...             1.249857\n",
              "default_rate           -254.002627  ...             1.560980\n",
              "actual_default_rate     -53.643365  ...             0.329667\n",
              "\n",
              "[10 rows x 10 columns]"
            ]
          },
          "metadata": {
            "tags": []
          },
          "execution_count": 30
        }
      ]
    },
    {
      "cell_type": "markdown",
      "metadata": {
        "id": "PYZi9nBfuLQO",
        "colab_type": "text"
      },
      "source": [
        "## Domain knowledge for correlation\n",
        "\n",
        "Fico score is like credit score. Describes how risky a customer is.\n",
        "Lower fico_score more risky cutomer, higher the fico_score more sincere is the customer in repaying.\n",
        "\n",
        "dti is debt to income ratio amount. How much debt you have against how much do you earn.\n",
        "\n",
        "int_rate will depend on fico_score.\n",
        "\n",
        "default rate is how many couldn't repay the loan.\n",
        "\n",
        "So we can visualize the correlations and add domain knowledge.\n",
        "dti inversely depends on fico_score\n",
        "\n",
        "int_rate inversely depends on fico_score\n",
        "\n",
        "- It is seen that we have correlation between fico_score and annual_inc.\n",
        "This comes from domain knowledge as well.\n",
        "\n",
        "- default rate will be higher for people with lower fico_score.\n",
        "\n",
        "- Also we will have high income with high fico_score.\n",
        "\n"
      ]
    },
    {
      "cell_type": "code",
      "metadata": {
        "id": "u6zecM1ltXUw",
        "colab_type": "code",
        "colab": {
          "base_uri": "https://localhost:8080/",
          "height": 0
        },
        "outputId": "3acf784c-c7a6-4993-b21f-6cc9a4a11d00"
      },
      "source": [
        "loan_df.corr()"
      ],
      "execution_count": 31,
      "outputs": [
        {
          "output_type": "execute_result",
          "data": {
            "text/html": [
              "<div>\n",
              "<style scoped>\n",
              "    .dataframe tbody tr th:only-of-type {\n",
              "        vertical-align: middle;\n",
              "    }\n",
              "\n",
              "    .dataframe tbody tr th {\n",
              "        vertical-align: top;\n",
              "    }\n",
              "\n",
              "    .dataframe thead th {\n",
              "        text-align: right;\n",
              "    }\n",
              "</style>\n",
              "<table border=\"1\" class=\"dataframe\">\n",
              "  <thead>\n",
              "    <tr style=\"text-align: right;\">\n",
              "      <th></th>\n",
              "      <th>fico_score</th>\n",
              "      <th>loan_total</th>\n",
              "      <th>default_total</th>\n",
              "      <th>dti</th>\n",
              "      <th>avg_loan_amnt</th>\n",
              "      <th>median_annual_inc</th>\n",
              "      <th>avg_annual_inc</th>\n",
              "      <th>int_rate</th>\n",
              "      <th>default_rate</th>\n",
              "      <th>actual_default_rate</th>\n",
              "    </tr>\n",
              "  </thead>\n",
              "  <tbody>\n",
              "    <tr>\n",
              "      <th>fico_score</th>\n",
              "      <td>1.000000</td>\n",
              "      <td>0.067153</td>\n",
              "      <td>-0.886782</td>\n",
              "      <td>-0.923870</td>\n",
              "      <td>0.685468</td>\n",
              "      <td>0.906772</td>\n",
              "      <td>0.927058</td>\n",
              "      <td>-0.969029</td>\n",
              "      <td>-0.886782</td>\n",
              "      <td>-0.886782</td>\n",
              "    </tr>\n",
              "    <tr>\n",
              "      <th>loan_total</th>\n",
              "      <td>0.067153</td>\n",
              "      <td>1.000000</td>\n",
              "      <td>-0.146124</td>\n",
              "      <td>0.141039</td>\n",
              "      <td>-0.475837</td>\n",
              "      <td>-0.151144</td>\n",
              "      <td>-0.094418</td>\n",
              "      <td>0.113229</td>\n",
              "      <td>-0.146124</td>\n",
              "      <td>-0.146124</td>\n",
              "    </tr>\n",
              "    <tr>\n",
              "      <th>default_total</th>\n",
              "      <td>-0.886782</td>\n",
              "      <td>-0.146124</td>\n",
              "      <td>1.000000</td>\n",
              "      <td>0.845046</td>\n",
              "      <td>-0.443113</td>\n",
              "      <td>-0.717776</td>\n",
              "      <td>-0.741849</td>\n",
              "      <td>0.850278</td>\n",
              "      <td>1.000000</td>\n",
              "      <td>1.000000</td>\n",
              "    </tr>\n",
              "    <tr>\n",
              "      <th>dti</th>\n",
              "      <td>-0.923870</td>\n",
              "      <td>0.141039</td>\n",
              "      <td>0.845046</td>\n",
              "      <td>1.000000</td>\n",
              "      <td>-0.783764</td>\n",
              "      <td>-0.899118</td>\n",
              "      <td>-0.897630</td>\n",
              "      <td>0.962789</td>\n",
              "      <td>0.845046</td>\n",
              "      <td>0.845046</td>\n",
              "    </tr>\n",
              "    <tr>\n",
              "      <th>avg_loan_amnt</th>\n",
              "      <td>0.685468</td>\n",
              "      <td>-0.475837</td>\n",
              "      <td>-0.443113</td>\n",
              "      <td>-0.783764</td>\n",
              "      <td>1.000000</td>\n",
              "      <td>0.855159</td>\n",
              "      <td>0.832335</td>\n",
              "      <td>-0.803379</td>\n",
              "      <td>-0.443113</td>\n",
              "      <td>-0.443113</td>\n",
              "    </tr>\n",
              "    <tr>\n",
              "      <th>median_annual_inc</th>\n",
              "      <td>0.906772</td>\n",
              "      <td>-0.151144</td>\n",
              "      <td>-0.717776</td>\n",
              "      <td>-0.899118</td>\n",
              "      <td>0.855159</td>\n",
              "      <td>1.000000</td>\n",
              "      <td>0.991677</td>\n",
              "      <td>-0.945029</td>\n",
              "      <td>-0.717776</td>\n",
              "      <td>-0.717776</td>\n",
              "    </tr>\n",
              "    <tr>\n",
              "      <th>avg_annual_inc</th>\n",
              "      <td>0.927058</td>\n",
              "      <td>-0.094418</td>\n",
              "      <td>-0.741849</td>\n",
              "      <td>-0.897630</td>\n",
              "      <td>0.832335</td>\n",
              "      <td>0.991677</td>\n",
              "      <td>1.000000</td>\n",
              "      <td>-0.946145</td>\n",
              "      <td>-0.741849</td>\n",
              "      <td>-0.741849</td>\n",
              "    </tr>\n",
              "    <tr>\n",
              "      <th>int_rate</th>\n",
              "      <td>-0.969029</td>\n",
              "      <td>0.113229</td>\n",
              "      <td>0.850278</td>\n",
              "      <td>0.962789</td>\n",
              "      <td>-0.803379</td>\n",
              "      <td>-0.945029</td>\n",
              "      <td>-0.946145</td>\n",
              "      <td>1.000000</td>\n",
              "      <td>0.850278</td>\n",
              "      <td>0.850278</td>\n",
              "    </tr>\n",
              "    <tr>\n",
              "      <th>default_rate</th>\n",
              "      <td>-0.886782</td>\n",
              "      <td>-0.146124</td>\n",
              "      <td>1.000000</td>\n",
              "      <td>0.845046</td>\n",
              "      <td>-0.443113</td>\n",
              "      <td>-0.717776</td>\n",
              "      <td>-0.741849</td>\n",
              "      <td>0.850278</td>\n",
              "      <td>1.000000</td>\n",
              "      <td>1.000000</td>\n",
              "    </tr>\n",
              "    <tr>\n",
              "      <th>actual_default_rate</th>\n",
              "      <td>-0.886782</td>\n",
              "      <td>-0.146124</td>\n",
              "      <td>1.000000</td>\n",
              "      <td>0.845046</td>\n",
              "      <td>-0.443113</td>\n",
              "      <td>-0.717776</td>\n",
              "      <td>-0.741849</td>\n",
              "      <td>0.850278</td>\n",
              "      <td>1.000000</td>\n",
              "      <td>1.000000</td>\n",
              "    </tr>\n",
              "  </tbody>\n",
              "</table>\n",
              "</div>"
            ],
            "text/plain": [
              "                     fico_score  loan_total  ...  default_rate  actual_default_rate\n",
              "fico_score             1.000000    0.067153  ...     -0.886782            -0.886782\n",
              "loan_total             0.067153    1.000000  ...     -0.146124            -0.146124\n",
              "default_total         -0.886782   -0.146124  ...      1.000000             1.000000\n",
              "dti                   -0.923870    0.141039  ...      0.845046             0.845046\n",
              "avg_loan_amnt          0.685468   -0.475837  ...     -0.443113            -0.443113\n",
              "median_annual_inc      0.906772   -0.151144  ...     -0.717776            -0.717776\n",
              "avg_annual_inc         0.927058   -0.094418  ...     -0.741849            -0.741849\n",
              "int_rate              -0.969029    0.113229  ...      0.850278             0.850278\n",
              "default_rate          -0.886782   -0.146124  ...      1.000000             1.000000\n",
              "actual_default_rate   -0.886782   -0.146124  ...      1.000000             1.000000\n",
              "\n",
              "[10 rows x 10 columns]"
            ]
          },
          "metadata": {
            "tags": []
          },
          "execution_count": 31
        }
      ]
    },
    {
      "cell_type": "markdown",
      "metadata": {
        "id": "sJCnuULfzGqI",
        "colab_type": "text"
      },
      "source": [
        "## Pearson vs Spearman"
      ]
    },
    {
      "cell_type": "markdown",
      "metadata": {
        "id": "wio3eSiwzJzI",
        "colab_type": "text"
      },
      "source": [
        "Pearson measures the relationship between linearly related variables. It makes assumption of data to be normally distributed\n",
        "\n",
        "\n",
        "Spearman is good when relationship is monotonic or ordinal. Monotonic is still linear but the rate of increase between x and y might not be constant.\n",
        "\n",
        "Spearman is rank_correlation coefficient. So it works better for ordinal data.\n",
        "\n",
        "It is non-parametric test. It measures relationship between continous and ordinal variables.\n",
        "\n",
        "Does not assume the underlaying data distribution.\n"
      ]
    },
    {
      "cell_type": "code",
      "metadata": {
        "id": "ZUwdphWdtYjt",
        "colab_type": "code",
        "colab": {
          "base_uri": "https://localhost:8080/",
          "height": 0
        },
        "outputId": "0b63e7b1-4895-4c66-f613-d6e22f58617e"
      },
      "source": [
        "loan_df.corr(method=\"spearman\")"
      ],
      "execution_count": 32,
      "outputs": [
        {
          "output_type": "execute_result",
          "data": {
            "text/html": [
              "<div>\n",
              "<style scoped>\n",
              "    .dataframe tbody tr th:only-of-type {\n",
              "        vertical-align: middle;\n",
              "    }\n",
              "\n",
              "    .dataframe tbody tr th {\n",
              "        vertical-align: top;\n",
              "    }\n",
              "\n",
              "    .dataframe thead th {\n",
              "        text-align: right;\n",
              "    }\n",
              "</style>\n",
              "<table border=\"1\" class=\"dataframe\">\n",
              "  <thead>\n",
              "    <tr style=\"text-align: right;\">\n",
              "      <th></th>\n",
              "      <th>fico_score</th>\n",
              "      <th>loan_total</th>\n",
              "      <th>default_total</th>\n",
              "      <th>dti</th>\n",
              "      <th>avg_loan_amnt</th>\n",
              "      <th>median_annual_inc</th>\n",
              "      <th>avg_annual_inc</th>\n",
              "      <th>int_rate</th>\n",
              "      <th>default_rate</th>\n",
              "      <th>actual_default_rate</th>\n",
              "    </tr>\n",
              "  </thead>\n",
              "  <tbody>\n",
              "    <tr>\n",
              "      <th>fico_score</th>\n",
              "      <td>1.000000</td>\n",
              "      <td>0.043243</td>\n",
              "      <td>-0.939511</td>\n",
              "      <td>-0.936422</td>\n",
              "      <td>0.661261</td>\n",
              "      <td>0.956772</td>\n",
              "      <td>0.966281</td>\n",
              "      <td>-0.997169</td>\n",
              "      <td>-0.939511</td>\n",
              "      <td>-0.939511</td>\n",
              "    </tr>\n",
              "    <tr>\n",
              "      <th>loan_total</th>\n",
              "      <td>0.043243</td>\n",
              "      <td>1.000000</td>\n",
              "      <td>0.077992</td>\n",
              "      <td>0.029344</td>\n",
              "      <td>-0.344916</td>\n",
              "      <td>0.035934</td>\n",
              "      <td>0.048649</td>\n",
              "      <td>-0.035006</td>\n",
              "      <td>0.077992</td>\n",
              "      <td>0.077992</td>\n",
              "    </tr>\n",
              "    <tr>\n",
              "      <th>default_total</th>\n",
              "      <td>-0.939511</td>\n",
              "      <td>0.077992</td>\n",
              "      <td>1.000000</td>\n",
              "      <td>0.967310</td>\n",
              "      <td>-0.601544</td>\n",
              "      <td>-0.889429</td>\n",
              "      <td>-0.899871</td>\n",
              "      <td>0.950322</td>\n",
              "      <td>1.000000</td>\n",
              "      <td>1.000000</td>\n",
              "    </tr>\n",
              "    <tr>\n",
              "      <th>dti</th>\n",
              "      <td>-0.936422</td>\n",
              "      <td>0.029344</td>\n",
              "      <td>0.967310</td>\n",
              "      <td>1.000000</td>\n",
              "      <td>-0.576577</td>\n",
              "      <td>-0.877666</td>\n",
              "      <td>-0.890862</td>\n",
              "      <td>0.937709</td>\n",
              "      <td>0.967310</td>\n",
              "      <td>0.967310</td>\n",
              "    </tr>\n",
              "    <tr>\n",
              "      <th>avg_loan_amnt</th>\n",
              "      <td>0.661261</td>\n",
              "      <td>-0.344916</td>\n",
              "      <td>-0.601544</td>\n",
              "      <td>-0.576577</td>\n",
              "      <td>1.000000</td>\n",
              "      <td>0.750476</td>\n",
              "      <td>0.711969</td>\n",
              "      <td>-0.656371</td>\n",
              "      <td>-0.601544</td>\n",
              "      <td>-0.601544</td>\n",
              "    </tr>\n",
              "    <tr>\n",
              "      <th>median_annual_inc</th>\n",
              "      <td>0.956772</td>\n",
              "      <td>0.035934</td>\n",
              "      <td>-0.889429</td>\n",
              "      <td>-0.877666</td>\n",
              "      <td>0.750476</td>\n",
              "      <td>1.000000</td>\n",
              "      <td>0.979263</td>\n",
              "      <td>-0.955868</td>\n",
              "      <td>-0.889429</td>\n",
              "      <td>-0.889429</td>\n",
              "    </tr>\n",
              "    <tr>\n",
              "      <th>avg_annual_inc</th>\n",
              "      <td>0.966281</td>\n",
              "      <td>0.048649</td>\n",
              "      <td>-0.899871</td>\n",
              "      <td>-0.890862</td>\n",
              "      <td>0.711969</td>\n",
              "      <td>0.979263</td>\n",
              "      <td>1.000000</td>\n",
              "      <td>-0.966795</td>\n",
              "      <td>-0.899871</td>\n",
              "      <td>-0.899871</td>\n",
              "    </tr>\n",
              "    <tr>\n",
              "      <th>int_rate</th>\n",
              "      <td>-0.997169</td>\n",
              "      <td>-0.035006</td>\n",
              "      <td>0.950322</td>\n",
              "      <td>0.937709</td>\n",
              "      <td>-0.656371</td>\n",
              "      <td>-0.955868</td>\n",
              "      <td>-0.966795</td>\n",
              "      <td>1.000000</td>\n",
              "      <td>0.950322</td>\n",
              "      <td>0.950322</td>\n",
              "    </tr>\n",
              "    <tr>\n",
              "      <th>default_rate</th>\n",
              "      <td>-0.939511</td>\n",
              "      <td>0.077992</td>\n",
              "      <td>1.000000</td>\n",
              "      <td>0.967310</td>\n",
              "      <td>-0.601544</td>\n",
              "      <td>-0.889429</td>\n",
              "      <td>-0.899871</td>\n",
              "      <td>0.950322</td>\n",
              "      <td>1.000000</td>\n",
              "      <td>1.000000</td>\n",
              "    </tr>\n",
              "    <tr>\n",
              "      <th>actual_default_rate</th>\n",
              "      <td>-0.939511</td>\n",
              "      <td>0.077992</td>\n",
              "      <td>1.000000</td>\n",
              "      <td>0.967310</td>\n",
              "      <td>-0.601544</td>\n",
              "      <td>-0.889429</td>\n",
              "      <td>-0.899871</td>\n",
              "      <td>0.950322</td>\n",
              "      <td>1.000000</td>\n",
              "      <td>1.000000</td>\n",
              "    </tr>\n",
              "  </tbody>\n",
              "</table>\n",
              "</div>"
            ],
            "text/plain": [
              "                     fico_score  loan_total  ...  default_rate  actual_default_rate\n",
              "fico_score             1.000000    0.043243  ...     -0.939511            -0.939511\n",
              "loan_total             0.043243    1.000000  ...      0.077992             0.077992\n",
              "default_total         -0.939511    0.077992  ...      1.000000             1.000000\n",
              "dti                   -0.936422    0.029344  ...      0.967310             0.967310\n",
              "avg_loan_amnt          0.661261   -0.344916  ...     -0.601544            -0.601544\n",
              "median_annual_inc      0.956772    0.035934  ...     -0.889429            -0.889429\n",
              "avg_annual_inc         0.966281    0.048649  ...     -0.899871            -0.899871\n",
              "int_rate              -0.997169   -0.035006  ...      0.950322             0.950322\n",
              "default_rate          -0.939511    0.077992  ...      1.000000             1.000000\n",
              "actual_default_rate   -0.939511    0.077992  ...      1.000000             1.000000\n",
              "\n",
              "[10 rows x 10 columns]"
            ]
          },
          "metadata": {
            "tags": []
          },
          "execution_count": 32
        }
      ]
    },
    {
      "cell_type": "code",
      "metadata": {
        "id": "kqwbc354zLMa",
        "colab_type": "code",
        "colab": {
          "base_uri": "https://localhost:8080/",
          "height": 0
        },
        "outputId": "a5bb7068-8243-4c98-d456-7f1c740b640e"
      },
      "source": [
        "loan_df.corr(method=\"pearson\")"
      ],
      "execution_count": 33,
      "outputs": [
        {
          "output_type": "execute_result",
          "data": {
            "text/html": [
              "<div>\n",
              "<style scoped>\n",
              "    .dataframe tbody tr th:only-of-type {\n",
              "        vertical-align: middle;\n",
              "    }\n",
              "\n",
              "    .dataframe tbody tr th {\n",
              "        vertical-align: top;\n",
              "    }\n",
              "\n",
              "    .dataframe thead th {\n",
              "        text-align: right;\n",
              "    }\n",
              "</style>\n",
              "<table border=\"1\" class=\"dataframe\">\n",
              "  <thead>\n",
              "    <tr style=\"text-align: right;\">\n",
              "      <th></th>\n",
              "      <th>fico_score</th>\n",
              "      <th>loan_total</th>\n",
              "      <th>default_total</th>\n",
              "      <th>dti</th>\n",
              "      <th>avg_loan_amnt</th>\n",
              "      <th>median_annual_inc</th>\n",
              "      <th>avg_annual_inc</th>\n",
              "      <th>int_rate</th>\n",
              "      <th>default_rate</th>\n",
              "      <th>actual_default_rate</th>\n",
              "    </tr>\n",
              "  </thead>\n",
              "  <tbody>\n",
              "    <tr>\n",
              "      <th>fico_score</th>\n",
              "      <td>1.000000</td>\n",
              "      <td>0.067153</td>\n",
              "      <td>-0.886782</td>\n",
              "      <td>-0.923870</td>\n",
              "      <td>0.685468</td>\n",
              "      <td>0.906772</td>\n",
              "      <td>0.927058</td>\n",
              "      <td>-0.969029</td>\n",
              "      <td>-0.886782</td>\n",
              "      <td>-0.886782</td>\n",
              "    </tr>\n",
              "    <tr>\n",
              "      <th>loan_total</th>\n",
              "      <td>0.067153</td>\n",
              "      <td>1.000000</td>\n",
              "      <td>-0.146124</td>\n",
              "      <td>0.141039</td>\n",
              "      <td>-0.475837</td>\n",
              "      <td>-0.151144</td>\n",
              "      <td>-0.094418</td>\n",
              "      <td>0.113229</td>\n",
              "      <td>-0.146124</td>\n",
              "      <td>-0.146124</td>\n",
              "    </tr>\n",
              "    <tr>\n",
              "      <th>default_total</th>\n",
              "      <td>-0.886782</td>\n",
              "      <td>-0.146124</td>\n",
              "      <td>1.000000</td>\n",
              "      <td>0.845046</td>\n",
              "      <td>-0.443113</td>\n",
              "      <td>-0.717776</td>\n",
              "      <td>-0.741849</td>\n",
              "      <td>0.850278</td>\n",
              "      <td>1.000000</td>\n",
              "      <td>1.000000</td>\n",
              "    </tr>\n",
              "    <tr>\n",
              "      <th>dti</th>\n",
              "      <td>-0.923870</td>\n",
              "      <td>0.141039</td>\n",
              "      <td>0.845046</td>\n",
              "      <td>1.000000</td>\n",
              "      <td>-0.783764</td>\n",
              "      <td>-0.899118</td>\n",
              "      <td>-0.897630</td>\n",
              "      <td>0.962789</td>\n",
              "      <td>0.845046</td>\n",
              "      <td>0.845046</td>\n",
              "    </tr>\n",
              "    <tr>\n",
              "      <th>avg_loan_amnt</th>\n",
              "      <td>0.685468</td>\n",
              "      <td>-0.475837</td>\n",
              "      <td>-0.443113</td>\n",
              "      <td>-0.783764</td>\n",
              "      <td>1.000000</td>\n",
              "      <td>0.855159</td>\n",
              "      <td>0.832335</td>\n",
              "      <td>-0.803379</td>\n",
              "      <td>-0.443113</td>\n",
              "      <td>-0.443113</td>\n",
              "    </tr>\n",
              "    <tr>\n",
              "      <th>median_annual_inc</th>\n",
              "      <td>0.906772</td>\n",
              "      <td>-0.151144</td>\n",
              "      <td>-0.717776</td>\n",
              "      <td>-0.899118</td>\n",
              "      <td>0.855159</td>\n",
              "      <td>1.000000</td>\n",
              "      <td>0.991677</td>\n",
              "      <td>-0.945029</td>\n",
              "      <td>-0.717776</td>\n",
              "      <td>-0.717776</td>\n",
              "    </tr>\n",
              "    <tr>\n",
              "      <th>avg_annual_inc</th>\n",
              "      <td>0.927058</td>\n",
              "      <td>-0.094418</td>\n",
              "      <td>-0.741849</td>\n",
              "      <td>-0.897630</td>\n",
              "      <td>0.832335</td>\n",
              "      <td>0.991677</td>\n",
              "      <td>1.000000</td>\n",
              "      <td>-0.946145</td>\n",
              "      <td>-0.741849</td>\n",
              "      <td>-0.741849</td>\n",
              "    </tr>\n",
              "    <tr>\n",
              "      <th>int_rate</th>\n",
              "      <td>-0.969029</td>\n",
              "      <td>0.113229</td>\n",
              "      <td>0.850278</td>\n",
              "      <td>0.962789</td>\n",
              "      <td>-0.803379</td>\n",
              "      <td>-0.945029</td>\n",
              "      <td>-0.946145</td>\n",
              "      <td>1.000000</td>\n",
              "      <td>0.850278</td>\n",
              "      <td>0.850278</td>\n",
              "    </tr>\n",
              "    <tr>\n",
              "      <th>default_rate</th>\n",
              "      <td>-0.886782</td>\n",
              "      <td>-0.146124</td>\n",
              "      <td>1.000000</td>\n",
              "      <td>0.845046</td>\n",
              "      <td>-0.443113</td>\n",
              "      <td>-0.717776</td>\n",
              "      <td>-0.741849</td>\n",
              "      <td>0.850278</td>\n",
              "      <td>1.000000</td>\n",
              "      <td>1.000000</td>\n",
              "    </tr>\n",
              "    <tr>\n",
              "      <th>actual_default_rate</th>\n",
              "      <td>-0.886782</td>\n",
              "      <td>-0.146124</td>\n",
              "      <td>1.000000</td>\n",
              "      <td>0.845046</td>\n",
              "      <td>-0.443113</td>\n",
              "      <td>-0.717776</td>\n",
              "      <td>-0.741849</td>\n",
              "      <td>0.850278</td>\n",
              "      <td>1.000000</td>\n",
              "      <td>1.000000</td>\n",
              "    </tr>\n",
              "  </tbody>\n",
              "</table>\n",
              "</div>"
            ],
            "text/plain": [
              "                     fico_score  loan_total  ...  default_rate  actual_default_rate\n",
              "fico_score             1.000000    0.067153  ...     -0.886782            -0.886782\n",
              "loan_total             0.067153    1.000000  ...     -0.146124            -0.146124\n",
              "default_total         -0.886782   -0.146124  ...      1.000000             1.000000\n",
              "dti                   -0.923870    0.141039  ...      0.845046             0.845046\n",
              "avg_loan_amnt          0.685468   -0.475837  ...     -0.443113            -0.443113\n",
              "median_annual_inc      0.906772   -0.151144  ...     -0.717776            -0.717776\n",
              "avg_annual_inc         0.927058   -0.094418  ...     -0.741849            -0.741849\n",
              "int_rate              -0.969029    0.113229  ...      0.850278             0.850278\n",
              "default_rate          -0.886782   -0.146124  ...      1.000000             1.000000\n",
              "actual_default_rate   -0.886782   -0.146124  ...      1.000000             1.000000\n",
              "\n",
              "[10 rows x 10 columns]"
            ]
          },
          "metadata": {
            "tags": []
          },
          "execution_count": 33
        }
      ]
    },
    {
      "cell_type": "markdown",
      "metadata": {
        "id": "90Fp-7BwyVwB",
        "colab_type": "text"
      },
      "source": [
        "# Data Visualization"
      ]
    },
    {
      "cell_type": "code",
      "metadata": {
        "id": "2gwbwIWYy25O",
        "colab_type": "code",
        "colab": {
          "base_uri": "https://localhost:8080/",
          "height": 303
        },
        "outputId": "7496c129-66b5-486a-f1db-f4ab27e15d3b"
      },
      "source": [
        "sns.distplot(loan_df['median_annual_inc'], hist=True)"
      ],
      "execution_count": 34,
      "outputs": [
        {
          "output_type": "execute_result",
          "data": {
            "text/plain": [
              "<matplotlib.axes._subplots.AxesSubplot at 0x7f4e3057d940>"
            ]
          },
          "metadata": {
            "tags": []
          },
          "execution_count": 34
        },
        {
          "output_type": "display_data",
          "data": {
            "image/png": "[encoded data removed]",
            "text/plain": [
              "<Figure size 432x288 with 1 Axes>"
            ]
          },
          "metadata": {
            "tags": []
          }
        }
      ]
    },
    {
      "cell_type": "code",
      "metadata": {
        "id": "CfpYC2kuzvMc",
        "colab_type": "code",
        "colab": {
          "base_uri": "https://localhost:8080/",
          "height": 112
        },
        "outputId": "5c16f8c9-22c3-4c8f-dd82-0923a0213ca1"
      },
      "source": [
        "loan_df[['fico_score', 'median_annual_inc']].corr(\"spearman\")"
      ],
      "execution_count": 35,
      "outputs": [
        {
          "output_type": "execute_result",
          "data": {
            "text/html": [
              "<div>\n",
              "<style scoped>\n",
              "    .dataframe tbody tr th:only-of-type {\n",
              "        vertical-align: middle;\n",
              "    }\n",
              "\n",
              "    .dataframe tbody tr th {\n",
              "        vertical-align: top;\n",
              "    }\n",
              "\n",
              "    .dataframe thead th {\n",
              "        text-align: right;\n",
              "    }\n",
              "</style>\n",
              "<table border=\"1\" class=\"dataframe\">\n",
              "  <thead>\n",
              "    <tr style=\"text-align: right;\">\n",
              "      <th></th>\n",
              "      <th>fico_score</th>\n",
              "      <th>median_annual_inc</th>\n",
              "    </tr>\n",
              "  </thead>\n",
              "  <tbody>\n",
              "    <tr>\n",
              "      <th>fico_score</th>\n",
              "      <td>1.000000</td>\n",
              "      <td>0.956772</td>\n",
              "    </tr>\n",
              "    <tr>\n",
              "      <th>median_annual_inc</th>\n",
              "      <td>0.956772</td>\n",
              "      <td>1.000000</td>\n",
              "    </tr>\n",
              "  </tbody>\n",
              "</table>\n",
              "</div>"
            ],
            "text/plain": [
              "                   fico_score  median_annual_inc\n",
              "fico_score           1.000000           0.956772\n",
              "median_annual_inc    0.956772           1.000000"
            ]
          },
          "metadata": {
            "tags": []
          },
          "execution_count": 35
        }
      ]
    },
    {
      "cell_type": "code",
      "metadata": {
        "id": "VgA5Rcsp0Z4g",
        "colab_type": "code",
        "colab": {
          "base_uri": "https://localhost:8080/",
          "height": 305
        },
        "outputId": "1f7407e5-e9f8-4335-b2e8-31d7abd99ca4"
      },
      "source": [
        "sns.regplot(x=\"fico_score\", y=\"median_annual_inc\", data=loan_df)"
      ],
      "execution_count": 36,
      "outputs": [
        {
          "output_type": "execute_result",
          "data": {
            "text/plain": [
              "<matplotlib.axes._subplots.AxesSubplot at 0x7f4e30560b70>"
            ]
          },
          "metadata": {
            "tags": []
          },
          "execution_count": 36
        },
        {
          "output_type": "display_data",
          "data": {
            "image/png": "[encoded data removed]",
            "text/plain": [
              "<Figure size 432x288 with 1 Axes>"
            ]
          },
          "metadata": {
            "tags": []
          }
        }
      ]
    },
    {
      "cell_type": "code",
      "metadata": {
        "id": "InJWbcOv0g2f",
        "colab_type": "code",
        "colab": {
          "base_uri": "https://localhost:8080/",
          "height": 112
        },
        "outputId": "9e47c2a2-9bbc-4fbb-a16c-a83211e6e539"
      },
      "source": [
        "loan_df[['fico_score', 'avg_annual_inc']].corr(\"spearman\")"
      ],
      "execution_count": 37,
      "outputs": [
        {
          "output_type": "execute_result",
          "data": {
            "text/html": [
              "<div>\n",
              "<style scoped>\n",
              "    .dataframe tbody tr th:only-of-type {\n",
              "        vertical-align: middle;\n",
              "    }\n",
              "\n",
              "    .dataframe tbody tr th {\n",
              "        vertical-align: top;\n",
              "    }\n",
              "\n",
              "    .dataframe thead th {\n",
              "        text-align: right;\n",
              "    }\n",
              "</style>\n",
              "<table border=\"1\" class=\"dataframe\">\n",
              "  <thead>\n",
              "    <tr style=\"text-align: right;\">\n",
              "      <th></th>\n",
              "      <th>fico_score</th>\n",
              "      <th>avg_annual_inc</th>\n",
              "    </tr>\n",
              "  </thead>\n",
              "  <tbody>\n",
              "    <tr>\n",
              "      <th>fico_score</th>\n",
              "      <td>1.000000</td>\n",
              "      <td>0.966281</td>\n",
              "    </tr>\n",
              "    <tr>\n",
              "      <th>avg_annual_inc</th>\n",
              "      <td>0.966281</td>\n",
              "      <td>1.000000</td>\n",
              "    </tr>\n",
              "  </tbody>\n",
              "</table>\n",
              "</div>"
            ],
            "text/plain": [
              "                fico_score  avg_annual_inc\n",
              "fico_score        1.000000        0.966281\n",
              "avg_annual_inc    0.966281        1.000000"
            ]
          },
          "metadata": {
            "tags": []
          },
          "execution_count": 37
        }
      ]
    },
    {
      "cell_type": "code",
      "metadata": {
        "id": "UB_Zd8vK0_Lk",
        "colab_type": "code",
        "colab": {
          "base_uri": "https://localhost:8080/",
          "height": 304
        },
        "outputId": "f7ca80c1-5636-4fd5-8e59-6274181a834a"
      },
      "source": [
        "sns.regplot(x=\"fico_score\", y=\"avg_annual_inc\", data=loan_df)"
      ],
      "execution_count": 38,
      "outputs": [
        {
          "output_type": "execute_result",
          "data": {
            "text/plain": [
              "<matplotlib.axes._subplots.AxesSubplot at 0x7f4e305502b0>"
            ]
          },
          "metadata": {
            "tags": []
          },
          "execution_count": 38
        },
        {
          "output_type": "display_data",
          "data": {
            "image/png": "[encoded data removed]",
            "text/plain": [
              "<Figure size 432x288 with 1 Axes>"
            ]
          },
          "metadata": {
            "tags": []
          }
        }
      ]
    },
    {
      "cell_type": "code",
      "metadata": {
        "id": "VQnZeODO1CRA",
        "colab_type": "code",
        "colab": {
          "base_uri": "https://localhost:8080/",
          "height": 112
        },
        "outputId": "70778a68-d3e1-4790-f1af-f9fe99cacd45"
      },
      "source": [
        "loan_df[['fico_score', 'dti']].corr(\"spearman\")"
      ],
      "execution_count": 39,
      "outputs": [
        {
          "output_type": "execute_result",
          "data": {
            "text/html": [
              "<div>\n",
              "<style scoped>\n",
              "    .dataframe tbody tr th:only-of-type {\n",
              "        vertical-align: middle;\n",
              "    }\n",
              "\n",
              "    .dataframe tbody tr th {\n",
              "        vertical-align: top;\n",
              "    }\n",
              "\n",
              "    .dataframe thead th {\n",
              "        text-align: right;\n",
              "    }\n",
              "</style>\n",
              "<table border=\"1\" class=\"dataframe\">\n",
              "  <thead>\n",
              "    <tr style=\"text-align: right;\">\n",
              "      <th></th>\n",
              "      <th>fico_score</th>\n",
              "      <th>dti</th>\n",
              "    </tr>\n",
              "  </thead>\n",
              "  <tbody>\n",
              "    <tr>\n",
              "      <th>fico_score</th>\n",
              "      <td>1.000000</td>\n",
              "      <td>-0.936422</td>\n",
              "    </tr>\n",
              "    <tr>\n",
              "      <th>dti</th>\n",
              "      <td>-0.936422</td>\n",
              "      <td>1.000000</td>\n",
              "    </tr>\n",
              "  </tbody>\n",
              "</table>\n",
              "</div>"
            ],
            "text/plain": [
              "            fico_score       dti\n",
              "fico_score    1.000000 -0.936422\n",
              "dti          -0.936422  1.000000"
            ]
          },
          "metadata": {
            "tags": []
          },
          "execution_count": 39
        }
      ]
    },
    {
      "cell_type": "code",
      "metadata": {
        "id": "YoYw3EFU1TeB",
        "colab_type": "code",
        "colab": {
          "base_uri": "https://localhost:8080/",
          "height": 303
        },
        "outputId": "0abeb4a7-da7d-4fa5-a7d9-6257024af869"
      },
      "source": [
        "sns.regplot(x=\"fico_score\", y=\"dti\", data=loan_df)"
      ],
      "execution_count": 40,
      "outputs": [
        {
          "output_type": "execute_result",
          "data": {
            "text/plain": [
              "<matplotlib.axes._subplots.AxesSubplot at 0x7f4e30490208>"
            ]
          },
          "metadata": {
            "tags": []
          },
          "execution_count": 40
        },
        {
          "output_type": "display_data",
          "data": {
            "image/png": "[encoded data removed]",
            "text/plain": [
              "<Figure size 432x288 with 1 Axes>"
            ]
          },
          "metadata": {
            "tags": []
          }
        }
      ]
    },
    {
      "cell_type": "code",
      "metadata": {
        "id": "YnJ2UNHO1XxQ",
        "colab_type": "code",
        "colab": {
          "base_uri": "https://localhost:8080/",
          "height": 112
        },
        "outputId": "7210053a-b675-4a99-f0c3-58e2fc9fadf0"
      },
      "source": [
        "loan_df[['fico_score', 'int_rate']].corr(\"spearman\")"
      ],
      "execution_count": 41,
      "outputs": [
        {
          "output_type": "execute_result",
          "data": {
            "text/html": [
              "<div>\n",
              "<style scoped>\n",
              "    .dataframe tbody tr th:only-of-type {\n",
              "        vertical-align: middle;\n",
              "    }\n",
              "\n",
              "    .dataframe tbody tr th {\n",
              "        vertical-align: top;\n",
              "    }\n",
              "\n",
              "    .dataframe thead th {\n",
              "        text-align: right;\n",
              "    }\n",
              "</style>\n",
              "<table border=\"1\" class=\"dataframe\">\n",
              "  <thead>\n",
              "    <tr style=\"text-align: right;\">\n",
              "      <th></th>\n",
              "      <th>fico_score</th>\n",
              "      <th>int_rate</th>\n",
              "    </tr>\n",
              "  </thead>\n",
              "  <tbody>\n",
              "    <tr>\n",
              "      <th>fico_score</th>\n",
              "      <td>1.000000</td>\n",
              "      <td>-0.997169</td>\n",
              "    </tr>\n",
              "    <tr>\n",
              "      <th>int_rate</th>\n",
              "      <td>-0.997169</td>\n",
              "      <td>1.000000</td>\n",
              "    </tr>\n",
              "  </tbody>\n",
              "</table>\n",
              "</div>"
            ],
            "text/plain": [
              "            fico_score  int_rate\n",
              "fico_score    1.000000 -0.997169\n",
              "int_rate     -0.997169  1.000000"
            ]
          },
          "metadata": {
            "tags": []
          },
          "execution_count": 41
        }
      ]
    },
    {
      "cell_type": "code",
      "metadata": {
        "id": "Bj_ATiOz2FXs",
        "colab_type": "code",
        "colab": {
          "base_uri": "https://localhost:8080/",
          "height": 303
        },
        "outputId": "bda66855-6f2f-440d-ec71-c49d484d6cc0"
      },
      "source": [
        "sns.regplot(x=\"fico_score\", y=\"int_rate\", data=loan_df)"
      ],
      "execution_count": 42,
      "outputs": [
        {
          "output_type": "execute_result",
          "data": {
            "text/plain": [
              "<matplotlib.axes._subplots.AxesSubplot at 0x7f4e3049d9b0>"
            ]
          },
          "metadata": {
            "tags": []
          },
          "execution_count": 42
        },
        {
          "output_type": "display_data",
          "data": {
            "image/png": "[encoded data removed]",
            "text/plain": [
              "<Figure size 432x288 with 1 Axes>"
            ]
          },
          "metadata": {
            "tags": []
          }
        }
      ]
    },
    {
      "cell_type": "code",
      "metadata": {
        "id": "V0DmjZ182I_m",
        "colab_type": "code",
        "colab": {
          "base_uri": "https://localhost:8080/",
          "height": 303
        },
        "outputId": "36f73035-6eea-4830-efa8-b06d76c36faf"
      },
      "source": [
        "sns.distplot(loan_df[\"int_rate\"], hist=True)"
      ],
      "execution_count": 43,
      "outputs": [
        {
          "output_type": "execute_result",
          "data": {
            "text/plain": [
              "<matplotlib.axes._subplots.AxesSubplot at 0x7f4e30442898>"
            ]
          },
          "metadata": {
            "tags": []
          },
          "execution_count": 43
        },
        {
          "output_type": "display_data",
          "data": {
            "image/png": "[encoded data removed]",
            "text/plain": [
              "<Figure size 432x288 with 1 Axes>"
            ]
          },
          "metadata": {
            "tags": []
          }
        }
      ]
    },
    {
      "cell_type": "code",
      "metadata": {
        "id": "VvHrWac22iGv",
        "colab_type": "code",
        "colab": {}
      },
      "source": [
        "import scipy.stats as stats"
      ],
      "execution_count": 0,
      "outputs": []
    },
    {
      "cell_type": "code",
      "metadata": {
        "id": "dC-6xy4W36se",
        "colab_type": "code",
        "colab": {
          "base_uri": "https://localhost:8080/",
          "height": 613
        },
        "outputId": "51000dcf-0f07-4513-ac6c-1a34f14f8824"
      },
      "source": [
        "stats.probplot(loan_df[\"int_rate\"], dist=\"norm\", plot=plt)"
      ],
      "execution_count": 45,
      "outputs": [
        {
          "output_type": "execute_result",
          "data": {
            "text/plain": [
              "((array([-2.07334886, -1.68217954, -1.44830429, -1.27437681, -1.13225357,\n",
              "         -1.00993636, -0.90112151, -0.80205412, -0.71029762, -0.62416759,\n",
              "         -0.54243995, -0.46418751, -0.38868208, -0.31533241, -0.24364313,\n",
              "         -0.17318609, -0.10357945, -0.03447167,  0.03447167,  0.10357945,\n",
              "          0.17318609,  0.24364313,  0.31533241,  0.38868208,  0.46418751,\n",
              "          0.54243995,  0.62416759,  0.71029762,  0.80205412,  0.90112151,\n",
              "          1.00993636,  1.13225357,  1.27437681,  1.44830429,  1.68217954,\n",
              "          2.07334886]),\n",
              "  array([ 7.58556196,  7.96854839,  8.00050755,  8.40436779,  8.81612608,\n",
              "          9.17925418,  9.54207879,  9.94439109, 10.17342593, 10.54704384,\n",
              "         10.83639354, 11.07060021, 11.40585966, 11.84989813, 12.19602541,\n",
              "         12.64158738, 12.99737662, 13.36212073, 13.75097687, 13.84232878,\n",
              "         13.93910593, 13.99130432, 14.13094166, 14.38872081, 14.45885661,\n",
              "         14.56445333, 14.71287103, 14.79158065, 14.83095961, 14.93735761,\n",
              "         15.04821175, 15.27102165, 15.31245098, 15.35228452, 15.4402116 ,\n",
              "         15.44901129])),\n",
              " (2.5196349375983393, 12.520383785694445, 0.9516744621680466))"
            ]
          },
          "metadata": {
            "tags": []
          },
          "execution_count": 45
        },
        {
          "output_type": "display_data",
          "data": {
            "image/png": "[encoded data removed]",
            "text/plain": [
              "<Figure size 432x288 with 1 Axes>"
            ]
          },
          "metadata": {
            "tags": []
          }
        }
      ]
    },
    {
      "cell_type": "code",
      "metadata": {
        "id": "KVLSizca4BMW",
        "colab_type": "code",
        "colab": {
          "base_uri": "https://localhost:8080/",
          "height": 112
        },
        "outputId": "fe04ebd2-7116-49e2-e51b-c6fb700905a4"
      },
      "source": [
        "loan_df[['fico_score', 'loan_total']].corr(\"spearman\")"
      ],
      "execution_count": 46,
      "outputs": [
        {
          "output_type": "execute_result",
          "data": {
            "text/html": [
              "<div>\n",
              "<style scoped>\n",
              "    .dataframe tbody tr th:only-of-type {\n",
              "        vertical-align: middle;\n",
              "    }\n",
              "\n",
              "    .dataframe tbody tr th {\n",
              "        vertical-align: top;\n",
              "    }\n",
              "\n",
              "    .dataframe thead th {\n",
              "        text-align: right;\n",
              "    }\n",
              "</style>\n",
              "<table border=\"1\" class=\"dataframe\">\n",
              "  <thead>\n",
              "    <tr style=\"text-align: right;\">\n",
              "      <th></th>\n",
              "      <th>fico_score</th>\n",
              "      <th>loan_total</th>\n",
              "    </tr>\n",
              "  </thead>\n",
              "  <tbody>\n",
              "    <tr>\n",
              "      <th>fico_score</th>\n",
              "      <td>1.000000</td>\n",
              "      <td>0.043243</td>\n",
              "    </tr>\n",
              "    <tr>\n",
              "      <th>loan_total</th>\n",
              "      <td>0.043243</td>\n",
              "      <td>1.000000</td>\n",
              "    </tr>\n",
              "  </tbody>\n",
              "</table>\n",
              "</div>"
            ],
            "text/plain": [
              "            fico_score  loan_total\n",
              "fico_score    1.000000    0.043243\n",
              "loan_total    0.043243    1.000000"
            ]
          },
          "metadata": {
            "tags": []
          },
          "execution_count": 46
        }
      ]
    },
    {
      "cell_type": "code",
      "metadata": {
        "id": "LhpahpuA4Hz0",
        "colab_type": "code",
        "colab": {
          "base_uri": "https://localhost:8080/",
          "height": 303
        },
        "outputId": "4f12fcba-d712-436f-ac8c-6d6b9fea025a"
      },
      "source": [
        "sns.regplot(x=\"fico_score\", y=\"loan_total\", data=loan_df)"
      ],
      "execution_count": 47,
      "outputs": [
        {
          "output_type": "execute_result",
          "data": {
            "text/plain": [
              "<matplotlib.axes._subplots.AxesSubplot at 0x7f4e302d3160>"
            ]
          },
          "metadata": {
            "tags": []
          },
          "execution_count": 47
        },
        {
          "output_type": "display_data",
          "data": {
            "image/png": "[encoded data removed]",
            "text/plain": [
              "<Figure size 432x288 with 1 Axes>"
            ]
          },
          "metadata": {
            "tags": []
          }
        }
      ]
    },
    {
      "cell_type": "code",
      "metadata": {
        "id": "jzpTkP6r4Ltb",
        "colab_type": "code",
        "colab": {
          "base_uri": "https://localhost:8080/",
          "height": 112
        },
        "outputId": "8e9551a9-8ea8-4187-8904-55ee0d55314a"
      },
      "source": [
        "loan_df[['fico_score', 'default_rate']].corr(\"spearman\")"
      ],
      "execution_count": 48,
      "outputs": [
        {
          "output_type": "execute_result",
          "data": {
            "text/html": [
              "<div>\n",
              "<style scoped>\n",
              "    .dataframe tbody tr th:only-of-type {\n",
              "        vertical-align: middle;\n",
              "    }\n",
              "\n",
              "    .dataframe tbody tr th {\n",
              "        vertical-align: top;\n",
              "    }\n",
              "\n",
              "    .dataframe thead th {\n",
              "        text-align: right;\n",
              "    }\n",
              "</style>\n",
              "<table border=\"1\" class=\"dataframe\">\n",
              "  <thead>\n",
              "    <tr style=\"text-align: right;\">\n",
              "      <th></th>\n",
              "      <th>fico_score</th>\n",
              "      <th>default_rate</th>\n",
              "    </tr>\n",
              "  </thead>\n",
              "  <tbody>\n",
              "    <tr>\n",
              "      <th>fico_score</th>\n",
              "      <td>1.000000</td>\n",
              "      <td>-0.939511</td>\n",
              "    </tr>\n",
              "    <tr>\n",
              "      <th>default_rate</th>\n",
              "      <td>-0.939511</td>\n",
              "      <td>1.000000</td>\n",
              "    </tr>\n",
              "  </tbody>\n",
              "</table>\n",
              "</div>"
            ],
            "text/plain": [
              "              fico_score  default_rate\n",
              "fico_score      1.000000     -0.939511\n",
              "default_rate   -0.939511      1.000000"
            ]
          },
          "metadata": {
            "tags": []
          },
          "execution_count": 48
        }
      ]
    },
    {
      "cell_type": "code",
      "metadata": {
        "id": "akBPxs5rHaJt",
        "colab_type": "code",
        "colab": {
          "base_uri": "https://localhost:8080/",
          "height": 303
        },
        "outputId": "85363318-1bc5-4400-f338-e64062d73e2d"
      },
      "source": [
        "sns.regplot(x=\"fico_score\", y=\"default_rate\", data=loan_df)"
      ],
      "execution_count": 49,
      "outputs": [
        {
          "output_type": "execute_result",
          "data": {
            "text/plain": [
              "<matplotlib.axes._subplots.AxesSubplot at 0x7f4e305eb780>"
            ]
          },
          "metadata": {
            "tags": []
          },
          "execution_count": 49
        },
        {
          "output_type": "display_data",
          "data": {
            "image/png": "[encoded data removed]",
            "text/plain": [
              "<Figure size 432x288 with 1 Axes>"
            ]
          },
          "metadata": {
            "tags": []
          }
        }
      ]
    },
    {
      "cell_type": "code",
      "metadata": {
        "id": "FI_3JZmHHeGJ",
        "colab_type": "code",
        "colab": {
          "base_uri": "https://localhost:8080/",
          "height": 112
        },
        "outputId": "1504bbfa-351e-4a5f-8c47-77043fbf9fb8"
      },
      "source": [
        "loan_df[['median_annual_inc', 'loan_total']].corr(\"spearman\")"
      ],
      "execution_count": 50,
      "outputs": [
        {
          "output_type": "execute_result",
          "data": {
            "text/html": [
              "<div>\n",
              "<style scoped>\n",
              "    .dataframe tbody tr th:only-of-type {\n",
              "        vertical-align: middle;\n",
              "    }\n",
              "\n",
              "    .dataframe tbody tr th {\n",
              "        vertical-align: top;\n",
              "    }\n",
              "\n",
              "    .dataframe thead th {\n",
              "        text-align: right;\n",
              "    }\n",
              "</style>\n",
              "<table border=\"1\" class=\"dataframe\">\n",
              "  <thead>\n",
              "    <tr style=\"text-align: right;\">\n",
              "      <th></th>\n",
              "      <th>median_annual_inc</th>\n",
              "      <th>loan_total</th>\n",
              "    </tr>\n",
              "  </thead>\n",
              "  <tbody>\n",
              "    <tr>\n",
              "      <th>median_annual_inc</th>\n",
              "      <td>1.000000</td>\n",
              "      <td>0.035934</td>\n",
              "    </tr>\n",
              "    <tr>\n",
              "      <th>loan_total</th>\n",
              "      <td>0.035934</td>\n",
              "      <td>1.000000</td>\n",
              "    </tr>\n",
              "  </tbody>\n",
              "</table>\n",
              "</div>"
            ],
            "text/plain": [
              "                   median_annual_inc  loan_total\n",
              "median_annual_inc           1.000000    0.035934\n",
              "loan_total                  0.035934    1.000000"
            ]
          },
          "metadata": {
            "tags": []
          },
          "execution_count": 50
        }
      ]
    },
    {
      "cell_type": "code",
      "metadata": {
        "id": "JKtlTJc2NO38",
        "colab_type": "code",
        "colab": {
          "base_uri": "https://localhost:8080/",
          "height": 303
        },
        "outputId": "c0ed2191-7e5d-4bb6-8385-eb223fd739f2"
      },
      "source": [
        "sns.regplot(x=\"median_annual_inc\", y=\"loan_total\", data=loan_df)"
      ],
      "execution_count": 51,
      "outputs": [
        {
          "output_type": "execute_result",
          "data": {
            "text/plain": [
              "<matplotlib.axes._subplots.AxesSubplot at 0x7f4e3032df28>"
            ]
          },
          "metadata": {
            "tags": []
          },
          "execution_count": 51
        },
        {
          "output_type": "display_data",
          "data": {
            "image/png": "[encoded data removed]",
            "text/plain": [
              "<Figure size 432x288 with 1 Axes>"
            ]
          },
          "metadata": {
            "tags": []
          }
        }
      ]
    },
    {
      "cell_type": "code",
      "metadata": {
        "id": "nIm0kRDzNWBE",
        "colab_type": "code",
        "colab": {
          "base_uri": "https://localhost:8080/",
          "height": 112
        },
        "outputId": "d359efb0-46ca-421b-ab96-d8cca2a3c9c3"
      },
      "source": [
        "loan_df[['dti', 'loan_total']].corr(\"spearman\")"
      ],
      "execution_count": 52,
      "outputs": [
        {
          "output_type": "execute_result",
          "data": {
            "text/html": [
              "<div>\n",
              "<style scoped>\n",
              "    .dataframe tbody tr th:only-of-type {\n",
              "        vertical-align: middle;\n",
              "    }\n",
              "\n",
              "    .dataframe tbody tr th {\n",
              "        vertical-align: top;\n",
              "    }\n",
              "\n",
              "    .dataframe thead th {\n",
              "        text-align: right;\n",
              "    }\n",
              "</style>\n",
              "<table border=\"1\" class=\"dataframe\">\n",
              "  <thead>\n",
              "    <tr style=\"text-align: right;\">\n",
              "      <th></th>\n",
              "      <th>dti</th>\n",
              "      <th>loan_total</th>\n",
              "    </tr>\n",
              "  </thead>\n",
              "  <tbody>\n",
              "    <tr>\n",
              "      <th>dti</th>\n",
              "      <td>1.000000</td>\n",
              "      <td>0.029344</td>\n",
              "    </tr>\n",
              "    <tr>\n",
              "      <th>loan_total</th>\n",
              "      <td>0.029344</td>\n",
              "      <td>1.000000</td>\n",
              "    </tr>\n",
              "  </tbody>\n",
              "</table>\n",
              "</div>"
            ],
            "text/plain": [
              "                 dti  loan_total\n",
              "dti         1.000000    0.029344\n",
              "loan_total  0.029344    1.000000"
            ]
          },
          "metadata": {
            "tags": []
          },
          "execution_count": 52
        }
      ]
    },
    {
      "cell_type": "code",
      "metadata": {
        "id": "FID-0lLeNclE",
        "colab_type": "code",
        "colab": {
          "base_uri": "https://localhost:8080/",
          "height": 303
        },
        "outputId": "35acde90-8f6c-49c8-b517-7c6a7c2e7a0d"
      },
      "source": [
        "sns.regplot(x=\"dti\", y=\"loan_total\", data=loan_df)"
      ],
      "execution_count": 53,
      "outputs": [
        {
          "output_type": "execute_result",
          "data": {
            "text/plain": [
              "<matplotlib.axes._subplots.AxesSubplot at 0x7f4e3396d7b8>"
            ]
          },
          "metadata": {
            "tags": []
          },
          "execution_count": 53
        },
        {
          "output_type": "display_data",
          "data": {
            "image/png": "[encoded data removed]",
            "text/plain": [
              "<Figure size 432x288 with 1 Axes>"
            ]
          },
          "metadata": {
            "tags": []
          }
        }
      ]
    },
    {
      "cell_type": "code",
      "metadata": {
        "id": "dC3zmJxbNgAM",
        "colab_type": "code",
        "colab": {}
      },
      "source": [
        ""
      ],
      "execution_count": 0,
      "outputs": []
    }
  ]
}