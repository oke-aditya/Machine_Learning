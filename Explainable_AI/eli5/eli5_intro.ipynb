{
  "nbformat": 4,
  "nbformat_minor": 0,
  "metadata": {
    "colab": {
      "name": "eli5_intro.ipynb",
      "provenance": []
    },
    "kernelspec": {
      "name": "python3",
      "display_name": "Python 3"
    }
  },
  "cells": [
    {
      "cell_type": "markdown",
      "metadata": {
        "id": "h4dhL1E3e_Yx",
        "colab_type": "text"
      },
      "source": [
        "# Introduction to Eli5"
      ]
    },
    {
      "cell_type": "markdown",
      "metadata": {
        "id": "UA-Exa8FfGyl",
        "colab_type": "text"
      },
      "source": [
        "- ELI5 is a Python library which allows to visualize and debug various Machine Learning models using unified API. It has built-in support for several ML frameworks and provides a way to explain black-box models."
      ]
    },
    {
      "cell_type": "markdown",
      "metadata": {
        "id": "eF7tvHx8fIP_",
        "colab_type": "text"
      },
      "source": [
        "- Supported frameworks as of 13-02-2020\n",
        "\n",
        "- scikit-learn: -\n",
        "Currently ELI5 allows to explain weights and predictions of scikit-learn linear classifiers and regressors, print decision trees as text or as SVG, show feature importances and explain predictions of decision trees and tree-based ensembles.\n",
        "\n",
        "- XGBoost: -\n",
        "Show feature importances and explain predictions of XGBClassifier, XGBRegressor and xgboost.Booster.\n",
        "\n",
        "- LightGBM: -\n",
        "Show feature importances and explain predictions of LGBMClassifier and LGBMRegressor.\n",
        "- CatBoost: -\n",
        "Show feature importances of CatBoostClassifier and CatBoostRegressor.\n",
        "- lightning: -\n",
        "Explain weights and predictions of lightning classifiers and regressors.\n",
        "\n",
        "- Keras : -\n",
        "Explain predictions of image classifiers via Grad-CAM visualizations.\n",
        "\n",
        "For a better package for black box deep learning models use tf_explain. Which works with tensorflow 2.0\n"
      ]
    },
    {
      "cell_type": "markdown",
      "metadata": {
        "id": "FIkSU8j-gDoe",
        "colab_type": "text"
      },
      "source": [
        "- ELI5 also implements several algorithms for inspecting black-box models.\n",
        "\n",
        "- TextExplainer allows to explain predictions of any text classifier using LIME algorithm (Ribeiro et al., 2016). There are utilities for using LIME with non-text data and arbitrary black-box classifiers as well, but this feature is currently experimental.\n",
        "\n",
        "- Permutation Importance method can be used to compute feature importances for black box estimators."
      ]
    },
    {
      "cell_type": "markdown",
      "metadata": {
        "id": "DsMjeVZOfXGH",
        "colab_type": "text"
      },
      "source": [
        "# Installation and Dependencies"
      ]
    },
    {
      "cell_type": "markdown",
      "metadata": {
        "id": "BN6qgaZ8fa0F",
        "colab_type": "text"
      },
      "source": [
        "- pip install eli5\n",
        "\n",
        "- Python 3.4 +\n",
        "- sklearn 0.18 +\n"
      ]
    },
    {
      "cell_type": "markdown",
      "metadata": {
        "id": "SczhxclLgV7l",
        "colab_type": "text"
      },
      "source": [
        "# Basic Usage"
      ]
    },
    {
      "cell_type": "markdown",
      "metadata": {
        "id": "QnuIBISPgeRQ",
        "colab_type": "text"
      },
      "source": [
        "There are two main ways to look at a classification or a regression model:\n",
        "\n",
        "- inspect model parameters and try to figure out how the model works globally;\n",
        "- inspect an individual prediction of a model, try to figure out why the model makes the decision it makes.\n"
      ]
    },
    {
      "cell_type": "code",
      "metadata": {
        "id": "siRiQyIVe_u2",
        "colab_type": "code",
        "colab": {}
      },
      "source": [
        "! pip install eli5\n",
        "%tensorflow_version 2.x\n",
        "import tensorflow as tf"
      ],
      "execution_count": 0,
      "outputs": []
    },
    {
      "cell_type": "code",
      "metadata": {
        "id": "m3F0Ro9_hBEU",
        "colab_type": "code",
        "colab": {
          "base_uri": "https://localhost:8080/",
          "height": 36
        },
        "outputId": "e5b5a555-8eb4-4036-9b7c-937ec923eabe"
      },
      "source": [
        "print(tf.__version__)"
      ],
      "execution_count": 4,
      "outputs": [
        {
          "output_type": "stream",
          "text": [
            "2.1.0\n"
          ],
          "name": "stdout"
        }
      ]
    },
    {
      "cell_type": "code",
      "metadata": {
        "id": "Sf3x01Ooe7LP",
        "colab_type": "code",
        "colab": {}
      },
      "source": [
        "import eli5"
      ],
      "execution_count": 0,
      "outputs": []
    },
    {
      "cell_type": "code",
      "metadata": {
        "id": "woKcqKfWgo2g",
        "colab_type": "code",
        "colab": {}
      },
      "source": [
        "# Create a clf and pass it to know the weights or predictions.\n",
        "eli5.show_weights(clf)\n",
        "eli5.show_prediction(clf)"
      ],
      "execution_count": 0,
      "outputs": []
    },
    {
      "cell_type": "markdown",
      "metadata": {
        "id": "pVxELDv-hhlF",
        "colab_type": "text"
      },
      "source": [
        "# Why Eli5 and how to use it"
      ]
    },
    {
      "cell_type": "markdown",
      "metadata": {
        "id": "tXD6ei9vhmXR",
        "colab_type": "text"
      },
      "source": [
        "- ELI5 aims to handle not only simple cases, but even for simple cases having a unified API for inspection has a value."
      ]
    },
    {
      "cell_type": "markdown",
      "metadata": {
        "id": "GflTNJyshw5v",
        "colab_type": "text"
      },
      "source": [
        "- algorithms like LIME (paper) try to explain a black-box classifier through a locally-fit simple, interpretable classifier. It means that with each additional supported “simple” classifier/regressor algorithms like LIME are getting more options automatically."
      ]
    }
  ]
}