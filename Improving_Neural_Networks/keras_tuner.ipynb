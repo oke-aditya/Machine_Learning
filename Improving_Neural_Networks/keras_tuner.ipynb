{
  "nbformat": 4,
  "nbformat_minor": 0,
  "metadata": {
    "colab": {
      "name": "keras_tuner.ipynb",
      "provenance": [],
      "collapsed_sections": []
    },
    "kernelspec": {
      "name": "python3",
      "display_name": "Python 3"
    },
    "accelerator": "GPU"
  },
  "cells": [
    {
      "cell_type": "markdown",
      "metadata": {
        "id": "tCso1NdA0iLt",
        "colab_type": "text"
      },
      "source": [
        "# Keras Tuner"
      ]
    },
    {
      "cell_type": "markdown",
      "metadata": {
        "id": "C-9BoO0E0mFG",
        "colab_type": "text"
      },
      "source": [
        "- A package to tune Keras hyperparameters"
      ]
    },
    {
      "cell_type": "code",
      "metadata": {
        "id": "BxZ7XbS20wH3",
        "colab_type": "code",
        "colab": {}
      },
      "source": [
        "%tensorflow_version 2.x"
      ],
      "execution_count": 0,
      "outputs": []
    },
    {
      "cell_type": "code",
      "metadata": {
        "id": "514YTH_J2gL5",
        "colab_type": "code",
        "colab": {}
      },
      "source": [
        "!pip install keras-tuner"
      ],
      "execution_count": 0,
      "outputs": []
    },
    {
      "cell_type": "code",
      "metadata": {
        "id": "iTgtucUlzYpG",
        "colab_type": "code",
        "colab": {}
      },
      "source": [
        "import tensorflow as tf\n",
        "from tensorflow.keras.datasets import fashion_mnist"
      ],
      "execution_count": 0,
      "outputs": []
    },
    {
      "cell_type": "markdown",
      "metadata": {
        "id": "IHdL_8hispR_",
        "colab_type": "text"
      },
      "source": [
        "\n",
        "Label   Description\n",
        "- 0   T-shirt/top\n",
        "- 1   Trouser\n",
        "- 2   Pullover\n",
        "- 3   Dress\n",
        "- 4   Coat\n",
        "- 5   Sandal\n",
        "- 6   Shirt\n",
        "- 7   Sneaker\n",
        "- 8   Bag\n",
        "- 9   Ankle boot\n"
      ]
    },
    {
      "cell_type": "code",
      "metadata": {
        "id": "oUCR9dmr2Kko",
        "colab_type": "code",
        "colab": {}
      },
      "source": [
        "import matplotlib.pyplot as plt\n",
        "%matplotlib inline"
      ],
      "execution_count": 0,
      "outputs": []
    },
    {
      "cell_type": "code",
      "metadata": {
        "id": "WbJgvDhd59v4",
        "colab_type": "code",
        "colab": {}
      },
      "source": [
        "import time\n",
        "import pickle"
      ],
      "execution_count": 0,
      "outputs": []
    },
    {
      "cell_type": "code",
      "metadata": {
        "id": "3CYbPF_P5vj1",
        "colab_type": "code",
        "colab": {}
      },
      "source": [
        "from kerastuner.tuners import RandomSearch\n",
        "from kerastuner.engine.hyperparameters import HyperParameters"
      ],
      "execution_count": 0,
      "outputs": []
    },
    {
      "cell_type": "markdown",
      "metadata": {
        "id": "zsHEP1rE4LyI",
        "colab_type": "text"
      },
      "source": [
        "# Loading Data"
      ]
    },
    {
      "cell_type": "code",
      "metadata": {
        "id": "dWSApy1d2brV",
        "colab_type": "code",
        "colab": {}
      },
      "source": [
        "(x_train, y_train), (x_test, y_test) = fashion_mnist.load_data()"
      ],
      "execution_count": 0,
      "outputs": []
    },
    {
      "cell_type": "code",
      "metadata": {
        "id": "GbyoNP6d4ncx",
        "colab_type": "code",
        "outputId": "bdf52c8f-1399-4ca2-e856-b28f72098211",
        "colab": {
          "base_uri": "https://localhost:8080/",
          "height": 54
        }
      },
      "source": [
        "print(x_train.shape)\n",
        "print(x_test.shape)"
      ],
      "execution_count": 166,
      "outputs": [
        {
          "output_type": "stream",
          "text": [
            "(60000, 28, 28)\n",
            "(10000, 28, 28)\n"
          ],
          "name": "stdout"
        }
      ]
    },
    {
      "cell_type": "code",
      "metadata": {
        "id": "y2Ctmt5w4qAH",
        "colab_type": "code",
        "colab": {}
      },
      "source": [
        "x_train = tf.expand_dims(x_train, -1)\n",
        "x_test = tf.expand_dims(x_test, -1)"
      ],
      "execution_count": 0,
      "outputs": []
    },
    {
      "cell_type": "code",
      "metadata": {
        "id": "7409qaA-4x-u",
        "colab_type": "code",
        "outputId": "e9257dfe-694d-4190-dc18-41a859298275",
        "colab": {
          "base_uri": "https://localhost:8080/",
          "height": 54
        }
      },
      "source": [
        "print(x_train.shape)\n",
        "print(x_test.shape)"
      ],
      "execution_count": 168,
      "outputs": [
        {
          "output_type": "stream",
          "text": [
            "(60000, 28, 28, 1)\n",
            "(10000, 28, 28, 1)\n"
          ],
          "name": "stdout"
        }
      ]
    },
    {
      "cell_type": "code",
      "metadata": {
        "id": "El_u1Zcb21qT",
        "colab_type": "code",
        "colab": {}
      },
      "source": [
        "plt.imshow(x_train[1], cmap=\"gray\")\n",
        "plt.show()"
      ],
      "execution_count": 0,
      "outputs": []
    },
    {
      "cell_type": "markdown",
      "metadata": {
        "id": "YZedRHbn4NdQ",
        "colab_type": "text"
      },
      "source": [
        "# Non-keras Tuner Model"
      ]
    },
    {
      "cell_type": "code",
      "metadata": {
        "id": "uE-sm84x25L1",
        "colab_type": "code",
        "colab": {}
      },
      "source": [
        "def build_model():\n",
        "    model = tf.keras.models.Sequential()\n",
        "    model.add(tf.keras.layers.Conv2D(32, (3,3), activation='relu', input_shape = x_train.shape[1:]))\n",
        "    model.add(tf.keras.layers.MaxPooling2D(pool_size = (2,2)))\n",
        "    \n",
        "    model.add(tf.keras.layers.Conv2D(32, (3,3), activation='relu',))\n",
        "    model.add(tf.keras.layers.MaxPooling2D(pool_size = (2,2)))\n",
        "\n",
        "    model.add(tf.keras.layers.Flatten())\n",
        "    model.add(tf.keras.layers.Dense(512, activation='relu'))\n",
        "    model.add(tf.keras.layers.Dense(10, activation='softmax'))\n",
        "\n",
        "    model.compile(optimizer='adam', loss='sparse_categorical_crossentropy', metrics=['acc'])\n",
        "\n",
        "    return model"
      ],
      "execution_count": 0,
      "outputs": []
    },
    {
      "cell_type": "code",
      "metadata": {
        "id": "13fRjh9W4B0I",
        "colab_type": "code",
        "colab": {}
      },
      "source": [
        "model = build_model()"
      ],
      "execution_count": 0,
      "outputs": []
    },
    {
      "cell_type": "code",
      "metadata": {
        "id": "4RW9qSvx4ifi",
        "colab_type": "code",
        "colab": {}
      },
      "source": [
        "model.summary()"
      ],
      "execution_count": 0,
      "outputs": []
    },
    {
      "cell_type": "code",
      "metadata": {
        "id": "xbcnYLXi48x4",
        "colab_type": "code",
        "colab": {}
      },
      "source": [
        "history = model.fit(x_train, y_train, batch_size=32, epochs=1, verbose=1, validation_split=0.2, callbacks=None)"
      ],
      "execution_count": 0,
      "outputs": []
    },
    {
      "cell_type": "markdown",
      "metadata": {
        "id": "krcK_1F64U9J",
        "colab_type": "text"
      },
      "source": [
        "# With Keras-Tuner Model"
      ]
    },
    {
      "cell_type": "code",
      "metadata": {
        "id": "WEW1vzSgd3kO",
        "colab_type": "code",
        "colab": {}
      },
      "source": [
        "def build_model_tuned(hp):\n",
        "    model = tf.keras.models.Sequential()\n",
        "    model.add(tf.keras.layers.Conv2D(hp.Int(\"input_units\", min_value=32, max_value=256, step=32), (3,3), input_shape=x_train.shape[1:]))\n",
        "    model.add(tf.keras.layers.Activation('relu'))\n",
        "    model.add(tf.keras.layers.MaxPooling2D(pool_size = (2,2)))\n",
        "    \n",
        "    for i in range(hp.Int('n_layers',1,4)):\n",
        "        model.add(tf.keras.layers.Conv2D(hp.Int(f'conv_{i}_units', min_value=32, max_value=256, step=32), (3,3)))\n",
        "        model.add(tf.keras.layers.Activation('relu'))\n",
        "\n",
        "    model.add(tf.keras.layers.Flatten())\n",
        "    model.add(tf.keras.layers.Dense(512, activation='relu'))\n",
        "    model.add(tf.keras.layers.Dense(10, activation='softmax'))\n",
        "\n",
        "    model.compile(optimizer='adam', loss='sparse_categorical_crossentropy', metrics=['acc'])\n",
        "\n",
        "    return model"
      ],
      "execution_count": 0,
      "outputs": []
    },
    {
      "cell_type": "code",
      "metadata": {
        "id": "EMUSI0SS5DtI",
        "colab_type": "code",
        "colab": {}
      },
      "source": [
        "LOG_DIR = f\"{int(time.time())}\""
      ],
      "execution_count": 0,
      "outputs": []
    },
    {
      "cell_type": "markdown",
      "metadata": {
        "id": "kWYyHjjv4a2M",
        "colab_type": "text"
      },
      "source": [
        "# Metrics and Performance"
      ]
    },
    {
      "cell_type": "code",
      "metadata": {
        "id": "BczFP5IT6LKv",
        "colab_type": "code",
        "colab": {}
      },
      "source": [
        "tuner = RandomSearch(build_model_tuned, objective=\"val_acc\", \n",
        "                     max_trials = 1,\n",
        "                     executions_per_trial = 1,\n",
        "                     directory = LOG_DIR)"
      ],
      "execution_count": 0,
      "outputs": []
    },
    {
      "cell_type": "code",
      "metadata": {
        "id": "FrslRrErX4J4",
        "colab_type": "code",
        "colab": {}
      },
      "source": [
        "tuner.search(x=x_train, y=y_train, epochs=10, batch_size=64, validation_data=(x_test, y_test))"
      ],
      "execution_count": 0,
      "outputs": []
    },
    {
      "cell_type": "code",
      "metadata": {
        "id": "ivaMqHcRhz_e",
        "colab_type": "code",
        "colab": {}
      },
      "source": [
        "tuner.search_space_summary()"
      ],
      "execution_count": 0,
      "outputs": []
    },
    {
      "cell_type": "code",
      "metadata": {
        "id": "VygBDPqhiDO4",
        "colab_type": "code",
        "outputId": "e19a0bfc-de7b-4857-e605-bca86bb44a64",
        "colab": {
          "base_uri": "https://localhost:8080/",
          "height": 107
        }
      },
      "source": [
        "tuner.results_summary()"
      ],
      "execution_count": 0,
      "outputs": [
        {
          "output_type": "display_data",
          "data": {
            "text/html": [
              "<span style=\"color:#4527A0\"><h1 style=\"font-size:18px\">Results summary</h1></span>"
            ],
            "text/plain": [
              "<IPython.core.display.HTML object>"
            ]
          },
          "metadata": {
            "tags": []
          }
        },
        {
          "output_type": "display_data",
          "data": {
            "text/html": [
              "<span style=\"color:cyan\"> |-Results in 1577186939/untitled_project</span>"
            ],
            "text/plain": [
              "<IPython.core.display.HTML object>"
            ]
          },
          "metadata": {
            "tags": []
          }
        },
        {
          "output_type": "display_data",
          "data": {
            "text/html": [
              "<span style=\"color:cyan\"> |-Showing 10 best trials</span>"
            ],
            "text/plain": [
              "<IPython.core.display.HTML object>"
            ]
          },
          "metadata": {
            "tags": []
          }
        },
        {
          "output_type": "display_data",
          "data": {
            "text/html": [
              "<span style=\"color:cyan\"> |-Objective: Objective(name='val_acc', direction='max') Score: 0.8956000208854675</span>"
            ],
            "text/plain": [
              "<IPython.core.display.HTML object>"
            ]
          },
          "metadata": {
            "tags": []
          }
        }
      ]
    },
    {
      "cell_type": "code",
      "metadata": {
        "id": "H2EYOH-OiHF1",
        "colab_type": "code",
        "outputId": "ccd9c718-557d-4273-b3ae-ff4a420c61f6",
        "colab": {
          "base_uri": "https://localhost:8080/",
          "height": 36
        }
      },
      "source": [
        "print(tuner.get_best_hyperparameters()[0].values)"
      ],
      "execution_count": 0,
      "outputs": [
        {
          "output_type": "stream",
          "text": [
            "{'input_units': 192, 'n_layers': 2, 'conv_0_units': 160, 'conv_1_units': 32}\n"
          ],
          "name": "stdout"
        }
      ]
    },
    {
      "cell_type": "code",
      "metadata": {
        "id": "GDxlr3-Irc8e",
        "colab_type": "code",
        "colab": {}
      },
      "source": [
        "best_model = tuner.get_best_models()[0]"
      ],
      "execution_count": 0,
      "outputs": []
    },
    {
      "cell_type": "code",
      "metadata": {
        "id": "r8oWH2qhrzJi",
        "colab_type": "code",
        "colab": {}
      },
      "source": [
        "best_model.summary()"
      ],
      "execution_count": 0,
      "outputs": []
    },
    {
      "cell_type": "markdown",
      "metadata": {
        "id": "RP6OFYNG4e2i",
        "colab_type": "text"
      },
      "source": [
        "# In Short what we did"
      ]
    },
    {
      "cell_type": "code",
      "metadata": {
        "id": "H7-6ZnHir7G3",
        "colab_type": "code",
        "colab": {}
      },
      "source": [
        "optimizer = hp.Choice('optimizer', ['adam', 'sgd'])"
      ],
      "execution_count": 0,
      "outputs": []
    },
    {
      "cell_type": "code",
      "metadata": {
        "id": "NZrOuE_CsVWo",
        "colab_type": "code",
        "colab": {}
      },
      "source": [
        "(x_train, y_train), (x_test, y_test) = fashion_mnist.load_data()\n",
        "x_train = tf.expand_dims(x_train, -1)\n",
        "x_test = tf.expand_dims(x_test, -1)"
      ],
      "execution_count": 0,
      "outputs": []
    },
    {
      "cell_type": "code",
      "metadata": {
        "id": "goMUYwZIs10S",
        "colab_type": "code",
        "colab": {}
      },
      "source": [
        "def build_tuned_model2(hp, num_classes=10):\n",
        "    model = tf.keras.models.Sequential()\n",
        "    model.add(tf.keras.layers.Conv2D(hp.Int('input_units', min_value=32, max_value=256, step=32), (3,3), input_shape = x_train.shape[1:]))\n",
        "    model.add(tf.keras.layers.Activation('elu'))\n",
        "    model.add(tf.keras.layers.MaxPooling2D(pool_size=(2,2)))\n",
        "    \n",
        "    for i in range(hp.Int('n_layers',1, 4)):\n",
        "        model.add(tf.keras.layers.Conv2D(hp.Int(f'conv_{i}_units', min_value=32, max_value=256, step=32), (3,3)))\n",
        "        model.add(tf.keras.layers.Activation('elu'))\n",
        "\n",
        "    model.add(tf.keras.layers.Flatten())\n",
        "    model.add(tf.keras.layers.Dense(128, activation='elu'))\n",
        "    model.add(tf.keras.layers.Dense(num_classes, activation='softmax'))\n",
        "\n",
        "    model.compile(optimizer='adam', loss=\"sparse_categorical_crossentropy\", metrics=['acc'])\n",
        "\n",
        "    return model"
      ],
      "execution_count": 0,
      "outputs": []
    },
    {
      "cell_type": "code",
      "metadata": {
        "id": "fv0rbUItuP39",
        "colab_type": "code",
        "outputId": "7eaac12d-f0b9-45be-ea03-4ec7daa718b0",
        "colab": {
          "base_uri": "https://localhost:8080/",
          "height": 54
        }
      },
      "source": [
        "tuner = RandomSearch(build_tuned_model2, objective='val_acc', max_trials=20, executions_per_trial=2, directory=LOG_DIR)"
      ],
      "execution_count": 0,
      "outputs": [
        {
          "output_type": "stream",
          "text": [
            "INFO:tensorflow:Reloading Oracle from 1577186939/untitled_project/oracle.json\n",
            "INFO:tensorflow:Reloading Tuner from 1577186939/untitled_project/tuner0.json\n"
          ],
          "name": "stdout"
        }
      ]
    },
    {
      "cell_type": "code",
      "metadata": {
        "id": "upDlinPIudwY",
        "colab_type": "code",
        "colab": {}
      },
      "source": [
        "tuner.search_space_summary()"
      ],
      "execution_count": 0,
      "outputs": []
    },
    {
      "cell_type": "code",
      "metadata": {
        "id": "Q5XLdt4culP4",
        "colab_type": "code",
        "colab": {}
      },
      "source": [
        "tuner.search(x=x_train, y=y_train, epochs=3, batch_size=64, validation_data=(x_test, y_test))"
      ],
      "execution_count": 0,
      "outputs": []
    },
    {
      "cell_type": "markdown",
      "metadata": {
        "id": "G6851uTQ4t_M",
        "colab_type": "text"
      },
      "source": [
        "# Loading and Saving the Model using Pickle"
      ]
    },
    {
      "cell_type": "code",
      "metadata": {
        "id": "Ox2IWtSX4v9P",
        "colab_type": "code",
        "colab": {}
      },
      "source": [
        "with open(f\"tuner_{int(time.time())}.pkl\", \"wb\") as f:\n",
        "    pickle.dump(tuner,f)"
      ],
      "execution_count": 0,
      "outputs": []
    },
    {
      "cell_type": "code",
      "metadata": {
        "id": "nzMgNw6b4-fG",
        "colab_type": "code",
        "colab": {
          "base_uri": "https://localhost:8080/",
          "height": 128
        },
        "outputId": "11ca4b55-7923-416a-e6a7-e38bc05c9f11"
      },
      "source": [
        "tuner = pickle.load(open(\"/content/tuner_1577190691.pkl\",\"rb\"))\n",
        "tuner.get_best_hyperparameters()[0].values"
      ],
      "execution_count": 114,
      "outputs": [
        {
          "output_type": "execute_result",
          "data": {
            "text/plain": [
              "{'conv_0_units': 128,\n",
              " 'conv_1_units': 96,\n",
              " 'conv_2_units': 256,\n",
              " 'conv_3_units': 96,\n",
              " 'input_units': 64,\n",
              " 'n_layers': 1}"
            ]
          },
          "metadata": {
            "tags": []
          },
          "execution_count": 114
        }
      ]
    },
    {
      "cell_type": "code",
      "metadata": {
        "id": "A2Bltji_5OOp",
        "colab_type": "code",
        "colab": {}
      },
      "source": [
        "best_model2 = tuner.get_best_models()[0]"
      ],
      "execution_count": 0,
      "outputs": []
    },
    {
      "cell_type": "code",
      "metadata": {
        "id": "jMY26C1n5eJO",
        "colab_type": "code",
        "colab": {
          "base_uri": "https://localhost:8080/",
          "height": 463
        },
        "outputId": "166d7e93-6837-49dc-f147-786a8375f0b8"
      },
      "source": [
        "best_model2.summary()"
      ],
      "execution_count": 116,
      "outputs": [
        {
          "output_type": "stream",
          "text": [
            "Model: \"sequential\"\n",
            "_________________________________________________________________\n",
            "Layer (type)                 Output Shape              Param #   \n",
            "=================================================================\n",
            "conv2d (Conv2D)              (None, 26, 26, 64)        640       \n",
            "_________________________________________________________________\n",
            "activation (Activation)      (None, 26, 26, 64)        0         \n",
            "_________________________________________________________________\n",
            "max_pooling2d (MaxPooling2D) (None, 13, 13, 64)        0         \n",
            "_________________________________________________________________\n",
            "conv2d_1 (Conv2D)            (None, 11, 11, 128)       73856     \n",
            "_________________________________________________________________\n",
            "activation_1 (Activation)    (None, 11, 11, 128)       0         \n",
            "_________________________________________________________________\n",
            "flatten (Flatten)            (None, 15488)             0         \n",
            "_________________________________________________________________\n",
            "dense (Dense)                (None, 128)               1982592   \n",
            "_________________________________________________________________\n",
            "dense_1 (Dense)              (None, 10)                1290      \n",
            "=================================================================\n",
            "Total params: 2,058,378\n",
            "Trainable params: 2,058,378\n",
            "Non-trainable params: 0\n",
            "_________________________________________________________________\n"
          ],
          "name": "stdout"
        }
      ]
    },
    {
      "cell_type": "markdown",
      "metadata": {
        "id": "DcvsNMfX5_hq",
        "colab_type": "text"
      },
      "source": [
        "# Some extra Parameters to tune"
      ]
    },
    {
      "cell_type": "markdown",
      "metadata": {
        "id": "xgzvoChd6KcU",
        "colab_type": "text"
      },
      "source": [
        "- Use hp.Choice to provide choice to the hyperparametrs"
      ]
    },
    {
      "cell_type": "code",
      "metadata": {
        "id": "Mzn_jMt05fPB",
        "colab_type": "code",
        "colab": {}
      },
      "source": [
        "def build_model_add(hp):\n",
        "    model = tf.keras.Sequential()\n",
        "    model.add(tf.keras.layers.Conv2D(filters=hp.Int('input_units', min_value=32, max_value=512, step=32),kernel_size=(3,3),\n",
        "                                     activation='relu', input_shape=x_train.shape[1:]))\n",
        "    model.add(tf.keras.layers.Dense(units=hp.Int('units', min_value=32, max_value=512, step=32), activation='relu'))\n",
        "    model.add(tf.keras.layers.Dense(10, activation='softmax'))\n",
        "\n",
        "    # To customize the learning rate\n",
        "\n",
        "    model.compile(optimizer=tf.keras.optimizers.Adam(hp.Choice('learning_rate', values=[1e-4, 1e-5, 1e-6])), \n",
        "                  loss=\"sparse_categorical_crossentropy\", metrics=['acc'])\n",
        "    \n",
        "    return model\n"
      ],
      "execution_count": 0,
      "outputs": []
    },
    {
      "cell_type": "code",
      "metadata": {
        "id": "_gdZs1wD7f9J",
        "colab_type": "code",
        "colab": {}
      },
      "source": [
        "tuned_model3 = RandomSearch(\n",
        "    build_model_add,\n",
        "    objective='val_accuracy',\n",
        "    max_trials=5,\n",
        "    executions_per_trial=3,\n",
        "    directory='my_dir',\n",
        "    project_name='helloworld')"
      ],
      "execution_count": 0,
      "outputs": []
    },
    {
      "cell_type": "markdown",
      "metadata": {
        "id": "NbT46C6R8Jai",
        "colab_type": "text"
      },
      "source": [
        "# SubClassing to build a new HyperTuner Model"
      ]
    },
    {
      "cell_type": "code",
      "metadata": {
        "id": "dfRP1Vlw7rRz",
        "colab_type": "code",
        "colab": {}
      },
      "source": [
        "from kerastuner import HyperModel"
      ],
      "execution_count": 0,
      "outputs": []
    },
    {
      "cell_type": "code",
      "metadata": {
        "id": "q_9P0Jpd8rFy",
        "colab_type": "code",
        "colab": {}
      },
      "source": [
        "class MyHyperModel(HyperModel):\n",
        "    def __init__(self, num_classes):\n",
        "        self.num_classes = num_classes\n",
        "    \n",
        "    def build(self, hp):\n",
        "        model = tf.keras.models.Sequential()\n",
        "        model.add(tf.keras.layers.Dense(units=hp.Int('units', min_value=32, max_value=512, step=32), activation='elu'))\n",
        "        model.add(tf.keras.layers.Dense(self.num_classes, activation='softmax'))\n",
        "\n",
        "        model.compile(optimizer=tf.keras.optimizers.Adam(hp.Choice('learning_rate', values=[1e-4,1e-5,1e-6])),\n",
        "                      loss='categorical_crossentropy', metrics=['acc'])\n",
        "        \n",
        "        return model\n"
      ],
      "execution_count": 0,
      "outputs": []
    },
    {
      "cell_type": "code",
      "metadata": {
        "id": "m86lIJHE94KO",
        "colab_type": "code",
        "colab": {}
      },
      "source": [
        "hypermodel = MyHyperModel(num_classes=10)"
      ],
      "execution_count": 0,
      "outputs": []
    },
    {
      "cell_type": "code",
      "metadata": {
        "id": "srw5wB9D97uE",
        "colab_type": "code",
        "colab": {
          "base_uri": "https://localhost:8080/",
          "height": 36
        },
        "outputId": "b0d60632-feca-429f-c133-dcaddd8538a6"
      },
      "source": [
        "tuner = RandomSearch(hypermodel, objective='val_acc', max_trials=10, directory='LOG_DIR', project_name='new_project1')"
      ],
      "execution_count": 141,
      "outputs": [
        {
          "output_type": "stream",
          "text": [
            "INFO:tensorflow:Reloading Oracle from LOG_DIR/new_project1/oracle.json\n"
          ],
          "name": "stdout"
        }
      ]
    },
    {
      "cell_type": "code",
      "metadata": {
        "id": "tNRX7PZx-GRf",
        "colab_type": "code",
        "colab": {}
      },
      "source": [
        "tuner.search(x=x_train, y=y_train, epochs=10, validation_data=(x_test, y_test))"
      ],
      "execution_count": 0,
      "outputs": []
    },
    {
      "cell_type": "markdown",
      "metadata": {
        "id": "6ea-yK6e-1J-",
        "colab_type": "text"
      },
      "source": [
        "# Using Premade Tunable Applications Hyper-Resnet and HyperXception"
      ]
    },
    {
      "cell_type": "markdown",
      "metadata": {
        "id": "tKl8XEGJAQer",
        "colab_type": "text"
      },
      "source": [
        "- These are ready-to-use hypermodels for computer vision.\n",
        "\n",
        "- They come pre-compiled with loss=\"categorical_crossentropy\" and metrics=[\"accuracy\"]."
      ]
    },
    {
      "cell_type": "code",
      "metadata": {
        "id": "fyjJNTNAFJcH",
        "colab_type": "code",
        "colab": {}
      },
      "source": [
        "from kerastuner.applications import HyperResNet\n",
        "from kerastuner import HyperParameters\n",
        "from kerastuner.tuners import Hyperband"
      ],
      "execution_count": 0,
      "outputs": []
    },
    {
      "cell_type": "code",
      "metadata": {
        "id": "rwwsLhV1DDBV",
        "colab_type": "code",
        "colab": {}
      },
      "source": [
        "hypermodel = HyperResNet(input_shape=(28,28,1), classes=10)\n",
        "\n",
        "tuner = Hyperband(\n",
        "    hypermodel,\n",
        "    objective='val_accuracy',\n",
        "    max_epochs=40,\n",
        "    directory='my_dir',\n",
        "    project_name='helloworld')\n"
      ],
      "execution_count": 0,
      "outputs": []
    },
    {
      "cell_type": "code",
      "metadata": {
        "id": "kbnB3tkAHKZk",
        "colab_type": "code",
        "colab": {}
      },
      "source": [
        "tuner.search(x_train, y_train,\n",
        "             epochs=20,\n",
        "             validation_data=(x_test, y_test))"
      ],
      "execution_count": 0,
      "outputs": []
    },
    {
      "cell_type": "markdown",
      "metadata": {
        "id": "zAh27AL0GrtI",
        "colab_type": "text"
      },
      "source": [
        "# Restricting the Search space"
      ]
    },
    {
      "cell_type": "code",
      "metadata": {
        "id": "KdesFMTVEjzm",
        "colab_type": "code",
        "colab": {}
      },
      "source": [
        "hypermodel = HyperXception(input_shape=(28, 28, 1), classes=10)\n",
        "hp = HyperParameters()"
      ],
      "execution_count": 0,
      "outputs": []
    },
    {
      "cell_type": "code",
      "metadata": {
        "id": "zLRwkB77G21w",
        "colab_type": "code",
        "colab": {
          "base_uri": "https://localhost:8080/",
          "height": 36
        },
        "outputId": "e653d988-4d49-4acf-82d7-251862bd5d68"
      },
      "source": [
        "hp.Choice('learning_rate', values=[1e-4,1e-5,1e-6])"
      ],
      "execution_count": 173,
      "outputs": [
        {
          "output_type": "execute_result",
          "data": {
            "text/plain": [
              "0.0001"
            ]
          },
          "metadata": {
            "tags": []
          },
          "execution_count": 173
        }
      ]
    },
    {
      "cell_type": "code",
      "metadata": {
        "id": "PWY83KtgG7dD",
        "colab_type": "code",
        "colab": {}
      },
      "source": [
        "tuner = Hyperband(hypermodel, hyperparameters=hp, tune_new_entries=False, objective='val_acc', max_epochs=40, directory='my_dir',\n",
        "                  project_name='try3')"
      ],
      "execution_count": 0,
      "outputs": []
    },
    {
      "cell_type": "code",
      "metadata": {
        "id": "In6THFeAHIOm",
        "colab_type": "code",
        "colab": {}
      },
      "source": [
        "tuner.search(x_train, y_train, epochs=20,  validation_data=(x_test, y_test))"
      ],
      "execution_count": 0,
      "outputs": []
    },
    {
      "cell_type": "markdown",
      "metadata": {
        "id": "qBo3PIfhHSAU",
        "colab_type": "text"
      },
      "source": [
        "# Over-riding the Compilation Arguments"
      ]
    },
    {
      "cell_type": "code",
      "metadata": {
        "id": "EqFrQ9ZmHN9D",
        "colab_type": "code",
        "colab": {}
      },
      "source": [
        "hypermodel = HyperXception(input_shape=(28, 28, 1), classes=10)"
      ],
      "execution_count": 0,
      "outputs": []
    },
    {
      "cell_type": "code",
      "metadata": {
        "id": "jZMhyIfiHhus",
        "colab_type": "code",
        "colab": {
          "base_uri": "https://localhost:8080/",
          "height": 36
        },
        "outputId": "892121d0-4c4c-44bb-f997-b26b807279fb"
      },
      "source": [
        "tuner = Hyperband(hypermodel, optimizer=tf.keras.optimizers.Adam(1e-3), loss='mse',\n",
        "                  metrics=[tf.keras.metrics.Precision(name='precision'), tf.keras.metrics.Recall(name='recall')], objective='val_acc',\n",
        "                  max_epochs=40, directory='my_dr', project_name=\"hello\")"
      ],
      "execution_count": 181,
      "outputs": [
        {
          "output_type": "stream",
          "text": [
            "INFO:tensorflow:Reloading Oracle from my_dr/hello/oracle.json\n"
          ],
          "name": "stdout"
        }
      ]
    },
    {
      "cell_type": "code",
      "metadata": {
        "id": "ZKRY9fgxLgAl",
        "colab_type": "code",
        "colab": {}
      },
      "source": [
        "tuner.search(x_train, y_train, epochs=20, validation_data=(x_test,y_test))"
      ],
      "execution_count": 0,
      "outputs": []
    },
    {
      "cell_type": "code",
      "metadata": {
        "id": "wtmW2Ie6Lvki",
        "colab_type": "code",
        "colab": {}
      },
      "source": [
        ""
      ],
      "execution_count": 0,
      "outputs": []
    }
  ]
}