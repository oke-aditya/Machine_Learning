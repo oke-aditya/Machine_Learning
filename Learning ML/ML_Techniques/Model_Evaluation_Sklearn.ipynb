{
  "nbformat": 4,
  "nbformat_minor": 0,
  "metadata": {
    "colab": {
      "name": "Model_Evaluation_Sklearn.ipynb",
      "provenance": [],
      "collapsed_sections": [
        "9WBDmKFbX1_O",
        "Fu5B7cPkX3wB",
        "qKI1OMTTbTjC",
        "LXXrHJCgZbwM",
        "JHoCsvGPahfJ",
        "pK5rUVq8bC2x",
        "leGf8DcfdxJf",
        "svLqWT1VktUS",
        "0ZXrX8G8mb7E",
        "xNZrPGwRlYVE",
        "dE7QX1CAuZFd",
        "u0IO0jOwyrjV",
        "3rmqhc0S2NI8",
        "pRheJdm9CiUO",
        "nJLKSLrcnNm_",
        "WHtnCRq1rPGA",
        "DZQwTya2Ypwd",
        "o79qXzf8dEqi",
        "Yne0QgxYi-L-",
        "3FP8wcnckOpG",
        "BndDAwXnHN9S",
        "9gwCEgZrK6QF",
        "VheH5YTRLHRn",
        "Rg8hJJymYDGH",
        "ojUja7lmYIxL",
        "3ujPN6m3YGMG"
      ]
    },
    "kernelspec": {
      "name": "python3",
      "display_name": "Python 3"
    }
  },
  "cells": [
    {
      "cell_type": "markdown",
      "metadata": {
        "id": "fZHq0u3nXe9P",
        "colab_type": "text"
      },
      "source": [
        "# Model Evaluation Techniques"
      ]
    },
    {
      "cell_type": "markdown",
      "metadata": {
        "id": "lNPxt1UckbsE",
        "colab_type": "text"
      },
      "source": [
        "https://scikit-learn.org/stable/modules/model_evaluation.html#"
      ]
    },
    {
      "cell_type": "markdown",
      "metadata": {
        "id": "9WBDmKFbX1_O",
        "colab_type": "text"
      },
      "source": [
        "## Introduction"
      ]
    },
    {
      "cell_type": "markdown",
      "metadata": {
        "id": "K-dsuFAWX4GI",
        "colab_type": "text"
      },
      "source": [
        "* Model Evaluation techniques are required to decide how good or bad a given model is.\n",
        "\n",
        "* There are numerous predined metrics available in Scikit-Learn. \n",
        "\n",
        "* These metrics vary for Regresssion and Classification tasks.\n"
      ]
    },
    {
      "cell_type": "markdown",
      "metadata": {
        "id": "Fu5B7cPkX3wB",
        "colab_type": "text"
      },
      "source": [
        "## Classification Metrics"
      ]
    },
    {
      "cell_type": "markdown",
      "metadata": {
        "id": "qKI1OMTTbTjC",
        "colab_type": "text"
      },
      "source": [
        "### Note"
      ]
    },
    {
      "cell_type": "markdown",
      "metadata": {
        "id": "QbOvqccOYzqM",
        "colab_type": "text"
      },
      "source": [
        "* The sklearn.metrics module implements several loss, score, and utility functions to measure classification performance. \n",
        "\n",
        "* Some metrics might require probability estimates of the positive class, confidence values, or binary decisions values. \n",
        "\n",
        "* Most implementations allow each sample to provide a weighted contribution to the overall score, through the sample_weight parameter.\n",
        "\n",
        "    We will discuss **only a few popularly** used metrics here."
      ]
    },
    {
      "cell_type": "markdown",
      "metadata": {
        "id": "LXXrHJCgZbwM",
        "colab_type": "text"
      },
      "source": [
        "### Multi-Class vs Multi-Label vs Binary-Class"
      ]
    },
    {
      "cell_type": "markdown",
      "metadata": {
        "id": "UDBGHoDKZjw6",
        "colab_type": "text"
      },
      "source": [
        "* Some metrics are essentially defined for binary classification tasks (e.g. f1_score, roc_auc_score). \n",
        "* In these cases, by default only the positive label is evaluated, assuming by default that the positive class is labelled 1.\n",
        "* In extending a binary metric to multiclass or multilabel problems, the data is treated as a collection of binary problems, one for each class. \n",
        "* There are then a number of ways to average binary metric calculations across the set of classes, each of which may be useful in some scenario. Where available, you should select among these using the average parameter.\n"
      ]
    },
    {
      "cell_type": "markdown",
      "metadata": {
        "id": "bwO6ReG0aWYe",
        "colab_type": "text"
      },
      "source": [
        "\n",
        "- \"macro\" simply calculates the mean of the binary metrics, giving equal weight to each class. In problems where infrequent classes are nonetheless important, macro-averaging may be a means of highlighting their performance. On the other hand, the assumption that all classes are equally important is often untrue, such that macro-averaging will over-emphasize the typically low performance on an infrequent class.\n",
        "- \"weighted\" accounts for class imbalance by computing the average of binary metrics in which each class’s score is weighted by its presence in the true data sample.\n",
        "- \"micro\" gives each sample-class pair an equal contribution to the overall metric (except as a result of sample-weight). Rather than summing the metric per class, this sums the dividends and divisors that make up the per-class metrics to calculate an overall quotient. Micro-averaging may be preferred in multilabel settings, including multiclass classification where a majority class is to be ignored.\n",
        "- \"samples\" applies only to multilabel problems. It does not calculate a per-class measure, instead calculating the metric over the true and predicted classes for each sample in the evaluation data, and returning their (sample_weight-weighted) average.\n",
        "\n",
        "- Selecting average=None will return an array with the score for each class.\n"
      ]
    },
    {
      "cell_type": "markdown",
      "metadata": {
        "id": "JHoCsvGPahfJ",
        "colab_type": "text"
      },
      "source": [
        "### Providing inputs to Metrics"
      ]
    },
    {
      "cell_type": "markdown",
      "metadata": {
        "id": "Z1wSZFL2ahTo",
        "colab_type": "text"
      },
      "source": [
        "* Multiclass data / Binaryclass data can be given as an array of labels.\n",
        "* Multilabel data has to be specified as an indicator matrix, in which cell    $ [i,j] $ has value 1 if sample $ i $ has label $ j $ otherwise 0."
      ]
    },
    {
      "cell_type": "markdown",
      "metadata": {
        "id": "pK5rUVq8bC2x",
        "colab_type": "text"
      },
      "source": [
        "### Accuracy Score"
      ]
    },
    {
      "cell_type": "markdown",
      "metadata": {
        "id": "g1wlh0DDbi8A",
        "colab_type": "text"
      },
      "source": [
        "* The `accuracy_score` function computes the accuracy, either the fraction or the count (set normalize = False) of correct predictions.\n",
        "\n",
        "* In multiclass classification it returns % of samples that were correct.\n",
        "\n",
        "* In multilabel classifcation it returns the subset accuracy. If the entire set of predicted labels was correct it counts it as 1 else 0."
      ]
    },
    {
      "cell_type": "markdown",
      "metadata": {
        "id": "sFUjTqjncAUE",
        "colab_type": "text"
      },
      "source": [
        "If $ \\hat{y}_i $ is the predicted value of the $i$-th sample and $y_i$ is the corresponding true value, then the fraction of correct predictions over $ n_{samples} $ \n",
        "\n",
        "$ \\texttt{accuracy}(y, \\hat{y}) = \\frac{1}{n_\\text{samples}} \\sum_{i=0}^{n_\\text{samples}-1} 1(\\hat{y}_i = y_i) $\n",
        "\n",
        "where $ 1(x) $ is the indicator function."
      ]
    },
    {
      "cell_type": "code",
      "metadata": {
        "id": "WUcR2DDRGIXH",
        "colab_type": "code",
        "colab": {}
      },
      "source": [
        "import numpy as np\n",
        "from sklearn.metrics import accuracy_score"
      ],
      "execution_count": 0,
      "outputs": []
    },
    {
      "cell_type": "code",
      "metadata": {
        "id": "ymkTbA3Uc6H0",
        "colab_type": "code",
        "outputId": "80d8e91d-7b76-4684-c2cd-117b59251c84",
        "colab": {
          "base_uri": "https://localhost:8080/",
          "height": 36
        }
      },
      "source": [
        "y_pred = [0,1,2,2]\n",
        "y_true = [1,1,2,0]\n",
        "print(accuracy_score(y_pred, y_true, normalize = True))"
      ],
      "execution_count": 0,
      "outputs": [
        {
          "output_type": "stream",
          "text": [
            "0.5\n"
          ],
          "name": "stdout"
        }
      ]
    },
    {
      "cell_type": "code",
      "metadata": {
        "id": "JIxTX_gtdHQx",
        "colab_type": "code",
        "outputId": "fafec430-1e51-48a5-ba60-cdb4f596922e",
        "colab": {
          "base_uri": "https://localhost:8080/",
          "height": 36
        }
      },
      "source": [
        "print(accuracy_score(y_pred, y_true, normalize = False))"
      ],
      "execution_count": 0,
      "outputs": [
        {
          "output_type": "stream",
          "text": [
            "2\n"
          ],
          "name": "stdout"
        }
      ]
    },
    {
      "cell_type": "code",
      "metadata": {
        "id": "JxQFXgm4dQp1",
        "colab_type": "code",
        "colab": {}
      },
      "source": [
        "# For multi-label classifcation problems\n",
        "X = np.array([[0,1], [1,1]])\n",
        "Y = np.ones((2,2))"
      ],
      "execution_count": 0,
      "outputs": []
    },
    {
      "cell_type": "code",
      "metadata": {
        "id": "NAJXKh4RddKP",
        "colab_type": "code",
        "outputId": "20f59284-d164-4cdf-aac5-8b040c45e5ed",
        "colab": {
          "base_uri": "https://localhost:8080/",
          "height": 36
        }
      },
      "source": [
        "print(accuracy_score(X,Y,normalize = True))"
      ],
      "execution_count": 0,
      "outputs": [
        {
          "output_type": "stream",
          "text": [
            "0.5\n"
          ],
          "name": "stdout"
        }
      ]
    },
    {
      "cell_type": "markdown",
      "metadata": {
        "id": "leGf8DcfdxJf",
        "colab_type": "text"
      },
      "source": [
        "### Balanced Accuracy Score"
      ]
    },
    {
      "cell_type": "code",
      "metadata": {
        "id": "-Mhqb7XJdfjz",
        "colab_type": "code",
        "colab": {}
      },
      "source": [
        ""
      ],
      "execution_count": 0,
      "outputs": []
    },
    {
      "cell_type": "markdown",
      "metadata": {
        "id": "svLqWT1VktUS",
        "colab_type": "text"
      },
      "source": [
        "### Zero One Loss"
      ]
    },
    {
      "cell_type": "markdown",
      "metadata": {
        "id": "s1a-Il5bkxsJ",
        "colab_type": "text"
      },
      "source": [
        "* The `zero_one_loss` function computes the sum or the average of the 0-1 classification loss $ L_{0-1} $ over $ n_{samples} $.\n",
        "* By default, the function normalizes over the samples.\n",
        "\n",
        "* In multi-label classification, the `zero_one_loss` scores a subset as one if the label strictly matches the prediction, and as a zero if there are any errors.\n",
        "\n",
        "* By default, the function returns the percentage of imperfectly predicted subsets. To get the count of such subsets instead, set normalize to False\n",
        "\n",
        "* If $ \\hat{y} $ is the $i$ th predicted value of the $y_i$-th sample and is the corresponding true value, then the 0-1 loss is defined as:\n",
        "\n",
        "* $L_{0-1}(y_i, \\hat{y}_i) = 1(\\hat{y}_i \\not= y_i)$\n",
        "\n",
        "* Where $1(x)$ is the indicator"
      ]
    },
    {
      "cell_type": "code",
      "metadata": {
        "id": "DHHYOsgPkwxW",
        "colab_type": "code",
        "colab": {}
      },
      "source": [
        "from sklearn.metrics import zero_one_loss"
      ],
      "execution_count": 0,
      "outputs": []
    },
    {
      "cell_type": "code",
      "metadata": {
        "id": "by5wJMglmHph",
        "colab_type": "code",
        "colab": {}
      },
      "source": [
        "y_pred = [1,2,3,4]\n",
        "y_true = [2,2,3,4]"
      ],
      "execution_count": 0,
      "outputs": []
    },
    {
      "cell_type": "code",
      "metadata": {
        "id": "77T7Z05gmHUD",
        "colab_type": "code",
        "outputId": "7a73fa6b-d049-49ed-f92f-d9b0d81a01fb",
        "colab": {
          "base_uri": "https://localhost:8080/",
          "height": 36
        }
      },
      "source": [
        "print(zero_one_loss(y_true, y_pred))"
      ],
      "execution_count": 0,
      "outputs": [
        {
          "output_type": "stream",
          "text": [
            "0.25\n"
          ],
          "name": "stdout"
        }
      ]
    },
    {
      "cell_type": "markdown",
      "metadata": {
        "id": "0ZXrX8G8mb7E",
        "colab_type": "text"
      },
      "source": [
        "### Brier-score loss"
      ]
    },
    {
      "cell_type": "markdown",
      "metadata": {
        "id": "zbyCoEdLmgFk",
        "colab_type": "text"
      },
      "source": [
        "* The brier_score_loss function computes the Brier score for binary classes. Quoting Wikipedia:\n",
        "\n",
        "- “The Brier score is a proper score function that measures the accuracy of probabilistic predictions. \n",
        "\n",
        "- It is applicable to tasks in which predictions must assign probabilities to a set of mutually exclusive discrete outcomes.”\n",
        "\n",
        "- This function returns a score of the mean square difference between the actual outcome and the predicted probability of the possible outcome. \n",
        "\n",
        "- The actual outcome has to be 1 or 0 (true or false), while the predicted probability of the actual outcome can be a value between 0 and 1.\n",
        "\n",
        "- The brier score loss is also between 0 to 1 and the lower the score (the mean square difference is smaller), the more accurate the prediction is. \n",
        "\n",
        "- It can be thought of as a measure of the “calibration” of a set of probabilistic predictions.\n",
        "\n",
        "- $BS = \\frac{1}{N} \\sum_{t=1}^{N}(f_t - o_t)^2$"
      ]
    },
    {
      "cell_type": "code",
      "metadata": {
        "id": "bY-vzGMqmfil",
        "colab_type": "code",
        "colab": {}
      },
      "source": [
        "import numpy as np\n",
        "from sklearn.metrics import brier_score_loss"
      ],
      "execution_count": 0,
      "outputs": []
    },
    {
      "cell_type": "code",
      "metadata": {
        "id": "WvQDd5yCnAVK",
        "colab_type": "code",
        "outputId": "e31439c0-6ab6-4c6a-d58f-4cf083ebda62",
        "colab": {
          "base_uri": "https://localhost:8080/",
          "height": 36
        }
      },
      "source": [
        "y_true = np.array([0, 1, 1, 0])\n",
        "y_true_categorical = np.array([\"spam\", \"ham\", \"ham\", \"spam\"])\n",
        "y_prob = np.array([0.1, 0.9, 0.8, 0.4])\n",
        "y_pred = np.array([0, 1, 1, 0])"
      ],
      "execution_count": 0,
      "outputs": [
        {
          "output_type": "execute_result",
          "data": {
            "text/plain": [
              "0.0"
            ]
          },
          "metadata": {
            "tags": []
          },
          "execution_count": 48
        }
      ]
    },
    {
      "cell_type": "code",
      "metadata": {
        "id": "h2s4cH48nE0T",
        "colab_type": "code",
        "outputId": "a437bfe0-74ee-4815-d501-8fe548836333",
        "colab": {
          "base_uri": "https://localhost:8080/",
          "height": 91
        }
      },
      "source": [
        "print(brier_score_loss(y_true, y_prob))\n",
        "print(brier_score_loss(y_true, 1 - y_prob, pos_label=0))\n",
        "print(brier_score_loss(y_true_categorical, y_prob, pos_label=\"ham\"))\n",
        "print(brier_score_loss(y_true, y_prob > 0.5))"
      ],
      "execution_count": 0,
      "outputs": [
        {
          "output_type": "stream",
          "text": [
            "0.055\n",
            "0.055\n",
            "0.055\n",
            "0.0\n"
          ],
          "name": "stdout"
        }
      ]
    },
    {
      "cell_type": "markdown",
      "metadata": {
        "id": "xNZrPGwRlYVE",
        "colab_type": "text"
      },
      "source": [
        "### Cohen's Kappa Score"
      ]
    },
    {
      "cell_type": "markdown",
      "metadata": {
        "id": "VQPgeRvllbsh",
        "colab_type": "text"
      },
      "source": [
        "* The function `cohen_kappa_score` computes Cohen’s kappa statistic. \n",
        "* This measure is intended to compare labelings by different human annotators, not a classifier versus a ground truth.\n",
        "\n",
        "* The kappa score is a number between -1 and 1. \n",
        "* Scores above .8 are generally considered good agreement; zero or lower means no agreement (practically random labels).\n",
        "\n",
        "* Kappa scores can be computed for binary or multiclass problems, but not for multilabel problems (except by manually computing a per-label score) and not for more than two annotators."
      ]
    },
    {
      "cell_type": "markdown",
      "metadata": {
        "id": "wMBhlS47lxwv",
        "colab_type": "text"
      },
      "source": [
        "Formulation: -\n",
        "* This is mathmeatically given as $ \\kappa = (p_o - p_e) / (1 - p_e) $\n",
        "    where $ p_o $ is the empircal probabilty on the label assigned to any sample and $ p_e $ is estimated using a per annotator empirical apriori over the class label."
      ]
    },
    {
      "cell_type": "code",
      "metadata": {
        "id": "bRn-5mB6lbCn",
        "colab_type": "code",
        "colab": {}
      },
      "source": [
        "from sklearn.metrics import cohen_kappa_score"
      ],
      "execution_count": 0,
      "outputs": []
    },
    {
      "cell_type": "code",
      "metadata": {
        "id": "gMNtOEs0mYSG",
        "colab_type": "code",
        "colab": {}
      },
      "source": [
        "y_true = [2,0,2,2,0,1]\n",
        "y_pred = [0,0,2,2,0,2]"
      ],
      "execution_count": 0,
      "outputs": []
    },
    {
      "cell_type": "code",
      "metadata": {
        "id": "Gc9W6yg2mgWq",
        "colab_type": "code",
        "outputId": "379f06e6-5a40-4cd7-c4a0-4c40a514cd7f",
        "colab": {
          "base_uri": "https://localhost:8080/",
          "height": 36
        }
      },
      "source": [
        "print(cohen_kappa_score(y_true, y_pred))"
      ],
      "execution_count": 0,
      "outputs": [
        {
          "output_type": "stream",
          "text": [
            "0.4285714285714286\n"
          ],
          "name": "stdout"
        }
      ]
    },
    {
      "cell_type": "markdown",
      "metadata": {
        "id": "dE7QX1CAuZFd",
        "colab_type": "text"
      },
      "source": [
        "### Hamming Loss"
      ]
    },
    {
      "cell_type": "markdown",
      "metadata": {
        "id": "B955DVJKuui0",
        "colab_type": "text"
      },
      "source": [
        "- If $ \\hat{y_j} $ is the predicted value for the $ j $-th label of a given sample, $y_j$ is the corresponding true value, and $n_labels $ is the number of classes or labels, then the Hamming loss $L_{Hamming} $ between two samples is defined as:"
      ]
    },
    {
      "cell_type": "markdown",
      "metadata": {
        "id": "Crqb7lP7vKgY",
        "colab_type": "text"
      },
      "source": [
        "$ L_{Hamming}(y, \\hat{y}) = \\frac{1}{n_\\text{labels}} \\sum_{j=0}^{n_\\text{labels} - 1} 1(\\hat{y}_j \\not= y_j) $"
      ]
    },
    {
      "cell_type": "code",
      "metadata": {
        "id": "6OGm-3CrvTBZ",
        "colab_type": "code",
        "colab": {}
      },
      "source": [
        "from sklearn.metrics import hamming_loss"
      ],
      "execution_count": 0,
      "outputs": []
    },
    {
      "cell_type": "code",
      "metadata": {
        "id": "JoSDi6gtvcdK",
        "colab_type": "code",
        "outputId": "04db6ce0-51f5-4644-c0c5-528ba5a150c9",
        "colab": {
          "base_uri": "https://localhost:8080/",
          "height": 36
        }
      },
      "source": [
        "y_pred = [1,2,3,4]\n",
        "y_true = [2,3,3,4]\n",
        "\n",
        "print(hamming_loss(y_pred, y_true))"
      ],
      "execution_count": 0,
      "outputs": [
        {
          "output_type": "stream",
          "text": [
            "0.5\n"
          ],
          "name": "stdout"
        }
      ]
    },
    {
      "cell_type": "markdown",
      "metadata": {
        "id": "0U6cQk6Jvlt4",
        "colab_type": "text"
      },
      "source": [
        "- Relation with Zero-One loss\n",
        "\n",
        "- In multiclass classification, the Hamming loss corresponds to the Hamming distance between y_true and y_pred which is similar to the Zero one loss function. \n",
        "\n",
        "- However, while zero-one loss penalizes prediction sets that do not strictly match true sets, the Hamming loss penalizes individual labels. \n",
        "\n",
        "- Thus the Hamming loss, upper bounded by the zero-one loss, is always between zero and one, inclusive; and predicting a proper subset or superset of the true labels will give a Hamming loss between zero and one, exclusive."
      ]
    },
    {
      "cell_type": "markdown",
      "metadata": {
        "id": "u0IO0jOwyrjV",
        "colab_type": "text"
      },
      "source": [
        "### Jaccard similarity Coefficient"
      ]
    },
    {
      "cell_type": "markdown",
      "metadata": {
        "id": "iFFUuGxnyw-W",
        "colab_type": "text"
      },
      "source": [
        "* The jaccard_score function computes the average of Jaccard similarity coefficients, also called the Jaccard index, between pairs of label sets.\n",
        "\n",
        "*  The Jaccard coefficient measures similarity between finite sample sets, and is defined as the size of the intersection divided by the size of the union of the sample sets.\n",
        "\n",
        "* The Jaccard similarity coefficient of the $i$-th samples, with a ground truth $y_i$ label set and predicted label set $ \\hat{y_i}$ , is defined as\n",
        "\n",
        "$ J(y_i, \\hat{y}_i) = \\frac{|y_i \\cap \\hat{y}_i|}{|y_i \\cup \\hat{y}_i|}. $\n",
        "\n",
        "* jaccard_score works like precision_recall_fscore_support as a naively set-wise measure applying natively to binary targets, and extended to apply to multilabel and multiclass. "
      ]
    },
    {
      "cell_type": "code",
      "metadata": {
        "id": "IfUj7DVCyvkY",
        "colab_type": "code",
        "colab": {}
      },
      "source": [
        "import numpy as np\n",
        "from sklearn.metrics import jaccard_score"
      ],
      "execution_count": 0,
      "outputs": []
    },
    {
      "cell_type": "code",
      "metadata": {
        "id": "Rx7inB2lznYA",
        "colab_type": "code",
        "colab": {}
      },
      "source": [
        "# Binary Case\n",
        "y_true = np.array([[0,1,1], [1,1,0]])\n",
        "y_pred = np.array([[1,1,1], [1,0,0]])"
      ],
      "execution_count": 0,
      "outputs": []
    },
    {
      "cell_type": "code",
      "metadata": {
        "id": "EyLQlpDWz--T",
        "colab_type": "code",
        "outputId": "a4c4b8e4-6788-4a1e-9345-fe80aab234bd",
        "colab": {
          "base_uri": "https://localhost:8080/",
          "height": 54
        }
      },
      "source": [
        "print(jaccard_score(y_true[0], y_pred[0]))\n",
        "print(jaccard_score(y_true[1], y_pred[1]))"
      ],
      "execution_count": 0,
      "outputs": [
        {
          "output_type": "stream",
          "text": [
            "0.6666666666666666\n",
            "0.5\n"
          ],
          "name": "stdout"
        }
      ]
    },
    {
      "cell_type": "code",
      "metadata": {
        "id": "B-Zgla4g1iru",
        "colab_type": "code",
        "colab": {}
      },
      "source": [
        "# Multi-class problems are treated as binarized problems in similar way\n",
        "y_pred = [0,1,1,2,2]\n",
        "y_true = [0,2,1,2,1]"
      ],
      "execution_count": 0,
      "outputs": []
    },
    {
      "cell_type": "code",
      "metadata": {
        "id": "a1A01LBy13U2",
        "colab_type": "code",
        "outputId": "ac44b277-3697-446b-a662-935a00f584be",
        "colab": {
          "base_uri": "https://localhost:8080/",
          "height": 36
        }
      },
      "source": [
        "print(jaccard_score(y_true, y_pred, average = None))"
      ],
      "execution_count": 0,
      "outputs": [
        {
          "output_type": "stream",
          "text": [
            "[1.         0.33333333 0.33333333]\n"
          ],
          "name": "stdout"
        }
      ]
    },
    {
      "cell_type": "markdown",
      "metadata": {
        "id": "3rmqhc0S2NI8",
        "colab_type": "text"
      },
      "source": [
        "### Hinge Loss"
      ]
    },
    {
      "cell_type": "markdown",
      "metadata": {
        "id": "bc62OA942Q5G",
        "colab_type": "text"
      },
      "source": [
        "* The hinge_loss function computes the average distance between the model and the data using hinge loss, a one-sided metric that considers only prediction errors. \n",
        "\n",
        "* (Hinge loss is used in maximal margin classifiers such as support vector machines.)\n",
        "\n",
        "* If the labels are encoded with +1 and -1, $ y $ ; is the true value, and $ w $ and is the predicted decision are output by ` descision_function `, then the hinge loss is defined as :\n",
        "\n",
        "* $ L_{Hinge} (y,w) = max({1 - wy, 0 }) = | 1 - xy | $\n",
        "\n",
        "* If there are more than two labels, hing_loss uses a multiclass variant.\n",
        "\n",
        "* If $ y_w $ is the predicted decision for true label and $ y_t $ is the maximum of the predicted decisions for all labels where predicted decisions are output by decision function, then multiclass hinge loss is defined by:\n",
        "\n",
        "* $ L_{Hinge} (y_w, y_t) = max({1 + y_t - y_w, 0}) $ "
      ]
    },
    {
      "cell_type": "markdown",
      "metadata": {
        "id": "y7tGQceD95Qk",
        "colab_type": "text"
      },
      "source": [
        "* Hinge loss is very commoonly used with SVM"
      ]
    },
    {
      "cell_type": "code",
      "metadata": {
        "id": "nb0EXzJK2PDj",
        "colab_type": "code",
        "colab": {}
      },
      "source": [
        "from sklearn import svm\n",
        "from sklearn.metrics import hinge_loss"
      ],
      "execution_count": 0,
      "outputs": []
    },
    {
      "cell_type": "code",
      "metadata": {
        "id": "jJCGBlT5AVNK",
        "colab_type": "code",
        "colab": {}
      },
      "source": [
        "# Binary Classification\n",
        "X = [[0], [1]]\n",
        "y = [-1, 1]"
      ],
      "execution_count": 0,
      "outputs": []
    },
    {
      "cell_type": "code",
      "metadata": {
        "id": "AWLQRZyrAeEO",
        "colab_type": "code",
        "outputId": "33978339-dffc-4923-c39c-a052b8dfbe75",
        "colab": {
          "base_uri": "https://localhost:8080/",
          "height": 74
        }
      },
      "source": [
        "est = svm.SVC(random_state = 31)\n",
        "est = est.fit(X,y)"
      ],
      "execution_count": 0,
      "outputs": [
        {
          "output_type": "stream",
          "text": [
            "/usr/local/lib/python3.6/dist-packages/sklearn/svm/base.py:193: FutureWarning: The default value of gamma will change from 'auto' to 'scale' in version 0.22 to account better for unscaled features. Set gamma explicitly to 'auto' or 'scale' to avoid this warning.\n",
            "  \"avoid this warning.\", FutureWarning)\n"
          ],
          "name": "stderr"
        }
      ]
    },
    {
      "cell_type": "code",
      "metadata": {
        "id": "2wsJ7dkZAxZa",
        "colab_type": "code",
        "outputId": "e1e85f79-d9d1-465f-f62c-4c8a385e223a",
        "colab": {
          "base_uri": "https://localhost:8080/",
          "height": 54
        }
      },
      "source": [
        "pred_decision = est.decision_function([[-2], [3], [0.5]])\n",
        "print(pred_decision)\n",
        "hinge_loss([-1, 1, 1], pred_decision)  "
      ],
      "execution_count": 0,
      "outputs": [
        {
          "output_type": "stream",
          "text": [
            "[-0.01819223  0.01819223 -0.        ]\n"
          ],
          "name": "stdout"
        },
        {
          "output_type": "execute_result",
          "data": {
            "text/plain": [
              "0.9878718472769017"
            ]
          },
          "metadata": {
            "tags": []
          },
          "execution_count": 10
        }
      ]
    },
    {
      "cell_type": "code",
      "metadata": {
        "id": "GC4OK6pRBpwh",
        "colab_type": "code",
        "colab": {}
      },
      "source": [
        "# Multi-Class Classification\n",
        "\n",
        "X = np.array([[0], [1], [2], [3]])\n",
        "Y = np.array([0,1,2,3])\n",
        "labels = np.array([0,1,2,3])"
      ],
      "execution_count": 0,
      "outputs": []
    },
    {
      "cell_type": "code",
      "metadata": {
        "id": "OKE2KLVUB72G",
        "colab_type": "code",
        "outputId": "0f993d80-8392-44e8-b999-931484ce6490",
        "colab": {
          "base_uri": "https://localhost:8080/",
          "height": 93
        }
      },
      "source": [
        "est = svm.SVC()\n",
        "est = est.fit(X, Y)  \n",
        "pred_decision = est.decision_function([[-1], [2], [3]])\n",
        "y_true = [0, 2, 3]\n",
        "print(hinge_loss(y_true, pred_decision, labels)  )"
      ],
      "execution_count": 0,
      "outputs": [
        {
          "output_type": "stream",
          "text": [
            "0.0\n"
          ],
          "name": "stdout"
        },
        {
          "output_type": "stream",
          "text": [
            "/usr/local/lib/python3.6/dist-packages/sklearn/svm/base.py:193: FutureWarning: The default value of gamma will change from 'auto' to 'scale' in version 0.22 to account better for unscaled features. Set gamma explicitly to 'auto' or 'scale' to avoid this warning.\n",
            "  \"avoid this warning.\", FutureWarning)\n"
          ],
          "name": "stderr"
        }
      ]
    },
    {
      "cell_type": "markdown",
      "metadata": {
        "id": "pRheJdm9CiUO",
        "colab_type": "text"
      },
      "source": [
        "### Log-Loss"
      ]
    },
    {
      "cell_type": "markdown",
      "metadata": {
        "id": "0xl2-8LcCokJ",
        "colab_type": "text"
      },
      "source": [
        "* Log loss, also called logistic regression loss or cross-entropy loss, is defined on probability estimates. \n",
        "\n",
        "* It is commonly used in (multinomial) logistic regression and neural networks, as well as in some variants of `expectation-maximization`, and can be used to evaluate the probability outputs (predict_proba) of a classifier instead of its discrete predictions.\n",
        "\n",
        "* For binary classification with a true label $y \\in \\{0,1\\} $ and a probability estimate $p = Px(y=1) $, the log loss per sample is the negative log-likelihood of the classifier given the true label:"
      ]
    },
    {
      "cell_type": "markdown",
      "metadata": {
        "id": "LSgi3fzkDqoQ",
        "colab_type": "text"
      },
      "source": [
        "* $ L_{\\log}(y, p) = -\\log \\operatorname{Pr}(y|p) = -(y \\log (p) + (1 - y) \\log (1 - p)) $\n",
        "\n",
        "* This extends to the multiclass case as follows. \n",
        "\n",
        "* Let the true labels for a set of samples be encoded as a 1-of-K binary indicator matrix $Y$ , i.e., if sample $i$ has labels taken from a set of $K$ labels. Let $P$ be a matrix of probability estimates, with $p_{i,k} = \\operatorname{Pr}(t_{i,k} = 1)$. \n",
        "\n",
        "* Then the log loss of the whole set is"
      ]
    },
    {
      "cell_type": "markdown",
      "metadata": {
        "id": "mcCy_ecTEKUU",
        "colab_type": "text"
      },
      "source": [
        "$L_{\\log}(Y, P) = -\\log \\operatorname{Pr}(Y|P) = - \\frac{1}{N} \\sum_{i=0}^{N-1} \\sum_{k=0}^{K-1} y_{i,k} \\log p_{i,k}$"
      ]
    },
    {
      "cell_type": "code",
      "metadata": {
        "id": "7ojo5TZ7Cj-U",
        "colab_type": "code",
        "colab": {}
      },
      "source": [
        "from sklearn.metrics import log_loss"
      ],
      "execution_count": 0,
      "outputs": []
    },
    {
      "cell_type": "markdown",
      "metadata": {
        "id": "EWA07JDtGTNq",
        "colab_type": "text"
      },
      "source": [
        "The first [.9, .1] in y_pred denotes 90% probability that the first sample has label 0. The log loss is non-negative."
      ]
    },
    {
      "cell_type": "code",
      "metadata": {
        "id": "IacNBuPWFUA4",
        "colab_type": "code",
        "outputId": "2786da2a-4411-4da3-b770-403abec6f369",
        "colab": {
          "base_uri": "https://localhost:8080/",
          "height": 36
        }
      },
      "source": [
        "y_true = [0,0,1,1]\n",
        "y_pred = [[.9, .1], [.8, .2], [.3, .7], [.01, .99]]\n",
        "print(log_loss(y_true, y_pred))"
      ],
      "execution_count": 0,
      "outputs": [
        {
          "output_type": "stream",
          "text": [
            "0.1738073366910675\n"
          ],
          "name": "stdout"
        }
      ]
    },
    {
      "cell_type": "markdown",
      "metadata": {
        "id": "nJLKSLrcnNm_",
        "colab_type": "text"
      },
      "source": [
        "### Confusion Matrix"
      ]
    },
    {
      "cell_type": "markdown",
      "metadata": {
        "id": "7cifv-r3nNX0",
        "colab_type": "text"
      },
      "source": [
        "* The confusion_matrix function evaluates classification accuracy by computing the confusion matrix with each row corresponding to the true class.\n",
        "\n",
        "* By definition, entry $i, j $ in a confusion matrix is the number of observations actually in group , $i$ but predicted to be in group $j$ . \n",
        "\n",
        "Here is an example:"
      ]
    },
    {
      "cell_type": "code",
      "metadata": {
        "id": "b981qa4hmj4s",
        "colab_type": "code",
        "colab": {}
      },
      "source": [
        "from sklearn.metrics import confusion_matrix"
      ],
      "execution_count": 0,
      "outputs": []
    },
    {
      "cell_type": "code",
      "metadata": {
        "id": "MdayRzwpnlXb",
        "colab_type": "code",
        "colab": {}
      },
      "source": [
        "y_true = [2,0,2,2,0,1]\n",
        "y_pred = [0,0,2,2,0,2]"
      ],
      "execution_count": 0,
      "outputs": []
    },
    {
      "cell_type": "code",
      "metadata": {
        "id": "S7JTyuConrwl",
        "colab_type": "code",
        "outputId": "b8bfa336-f617-4726-88b8-f878976fcf1e",
        "colab": {
          "base_uri": "https://localhost:8080/",
          "height": 73
        }
      },
      "source": [
        "print(confusion_matrix(y_true, y_pred))"
      ],
      "execution_count": 0,
      "outputs": [
        {
          "output_type": "stream",
          "text": [
            "[[2 0 0]\n",
            " [0 0 1]\n",
            " [1 0 2]]\n"
          ],
          "name": "stdout"
        }
      ]
    },
    {
      "cell_type": "markdown",
      "metadata": {
        "id": "ivzLSIAgqtky",
        "colab_type": "text"
      },
      "source": [
        "* For binary problems we can get true negative, false positive and false negative, true positive directly."
      ]
    },
    {
      "cell_type": "code",
      "metadata": {
        "id": "pf4hafXzn1II",
        "colab_type": "code",
        "colab": {}
      },
      "source": [
        "y_true = [0,0,0,0,1,1,1,1]\n",
        "y_pred = [1,1,0,0,1,1,1,0]\n",
        "\n",
        "tn, fp, fn, tp = confusion_matrix(y_true, y_pred).ravel()"
      ],
      "execution_count": 0,
      "outputs": []
    },
    {
      "cell_type": "code",
      "metadata": {
        "id": "Rm166-HIrBoD",
        "colab_type": "code",
        "outputId": "8bcf202f-a6c5-4de4-d92d-f56c7ed9e7cf",
        "colab": {
          "base_uri": "https://localhost:8080/",
          "height": 36
        }
      },
      "source": [
        "print(tn,fp,fn,tp)"
      ],
      "execution_count": 0,
      "outputs": [
        {
          "output_type": "stream",
          "text": [
            "2 2 1 3\n"
          ],
          "name": "stdout"
        }
      ]
    },
    {
      "cell_type": "markdown",
      "metadata": {
        "id": "WHtnCRq1rPGA",
        "colab_type": "text"
      },
      "source": [
        "### Classification Report"
      ]
    },
    {
      "cell_type": "markdown",
      "metadata": {
        "id": "IemSy-7lreTs",
        "colab_type": "text"
      },
      "source": [
        "* The classification_report function builds a text report showing the main classification metrics. \n",
        "\n",
        "Here is a small example with custom target_names and inferred labels:"
      ]
    },
    {
      "cell_type": "code",
      "metadata": {
        "id": "JTsXs5p9rMvN",
        "colab_type": "code",
        "colab": {}
      },
      "source": [
        "from sklearn.metrics import classification_report"
      ],
      "execution_count": 0,
      "outputs": []
    },
    {
      "cell_type": "code",
      "metadata": {
        "id": "vW_cT_T6rvQZ",
        "colab_type": "code",
        "colab": {}
      },
      "source": [
        "y_true = [0,1,2,0,1,1]\n",
        "y_pred = [0,1,2,0,0,2]"
      ],
      "execution_count": 0,
      "outputs": []
    },
    {
      "cell_type": "code",
      "metadata": {
        "id": "1O_kzQiLrvz-",
        "colab_type": "code",
        "colab": {}
      },
      "source": [
        "target_names = ['class:0', 'class:1', 'class:2']"
      ],
      "execution_count": 0,
      "outputs": []
    },
    {
      "cell_type": "code",
      "metadata": {
        "id": "RkoKK7zsr1pk",
        "colab_type": "code",
        "outputId": "5fc65d8c-86fe-4997-d696-3bdc9bafcde9",
        "colab": {
          "base_uri": "https://localhost:8080/",
          "height": 203
        }
      },
      "source": [
        "print(classification_report(y_true, y_pred, target_names=target_names))"
      ],
      "execution_count": 0,
      "outputs": [
        {
          "output_type": "stream",
          "text": [
            "              precision    recall  f1-score   support\n",
            "\n",
            "     class:0       0.67      1.00      0.80         2\n",
            "     class:1       1.00      0.33      0.50         3\n",
            "     class:2       0.50      1.00      0.67         1\n",
            "\n",
            "    accuracy                           0.67         6\n",
            "   macro avg       0.72      0.78      0.66         6\n",
            "weighted avg       0.81      0.67      0.63         6\n",
            "\n"
          ],
          "name": "stdout"
        }
      ]
    },
    {
      "cell_type": "markdown",
      "metadata": {
        "id": "DZQwTya2Ypwd",
        "colab_type": "text"
      },
      "source": [
        "### Precision-Recall and F Measures"
      ]
    },
    {
      "cell_type": "markdown",
      "metadata": {
        "id": "Yod6p_i2Yv3c",
        "colab_type": "text"
      },
      "source": [
        "* Intuitively, precision is the ability of the classifier not to label as positive a sample that is negative \n",
        "\n",
        "* Recall is the ability of the classifier to find all the positive samples. \n"
      ]
    },
    {
      "cell_type": "markdown",
      "metadata": {
        "id": "TyIQMzNiY85R",
        "colab_type": "text"
      },
      "source": [
        "- The F-measure can be interpreted as a weighted harmonic mean of the mean precision and recall.\n",
        "\n",
        "- A $ F_\\beta $ measure reaches its best value at 1 and its worst score at 0.\n",
        "\n",
        "- In $ F_1 $ both recall and precision are equally important.\n",
        "\n",
        "- The `precision_recall_curve` computes a precision recall curve from the ground truth label and the classifier given by varying a decision threshold.\n",
        "\n",
        "- The `average_precision_score` function computes the average precision (AP) from prediction scores.\n",
        "\n",
        "- The value is between 0 to 1 and higher the better.\n",
        "\n",
        "- Note that the `precision_recall_curve` function is restricted to the binary case. The `average_precision_score` function works only in binary classification and multilabel indicator format."
      ]
    },
    {
      "cell_type": "markdown",
      "metadata": {
        "id": "o79qXzf8dEqi",
        "colab_type": "text"
      },
      "source": [
        "### My Interpretation and Relation with Confusion Matrix"
      ]
    },
    {
      "cell_type": "markdown",
      "metadata": {
        "id": "ZFCMGSfjsNuf",
        "colab_type": "text"
      },
      "source": [
        "* Some interpretation: -\n",
        "\n",
        "**In Multiclass Classification**\n",
        "\n",
        "- Precision: - Whenever I said prediction was $y$, was it actually $y$ ? \n",
        "\n",
        "* Precision = Was it actually $y$ / whenever I said it was $y$.) \n",
        "\n",
        "- Recall : -  Whenever the class label was $ y $ ; did I tell it was $ y $ ?\n",
        "\n",
        "- Recall = Correctly Did I tell it was $ y $ / Whenever the class label was $ y $"
      ]
    },
    {
      "cell_type": "markdown",
      "metadata": {
        "id": "_s46Spcgt-6s",
        "colab_type": "text"
      },
      "source": [
        "* f1-score is Harmonic mean of precision and recall.\n",
        "* Accuracy is overall accuracy of classification problem.\n",
        "* We can relate these terms to terms realted with confusion matrix (tp, fp, tn, fn)"
      ]
    },
    {
      "cell_type": "markdown",
      "metadata": {
        "id": "0C1gqEVqdYlD",
        "colab_type": "text"
      },
      "source": [
        "**Binary Classification**\n",
        "- In a binary classification task, the terms ‘’positive’’ and ‘’negative’’ refer to the classifier’s prediction, and the terms ‘’true’’ and ‘’false’’ refer to whether that prediction corresponds to the external judgment (sometimes known as the ‘’observation’‘).\n",
        "-  Given these definitions, we can formulate the following table:\n",
        "\n",
        "     \n",
        "\n",
        "```\n",
        "                                   Actual class (observation)\n",
        "Predicted class (expectation) \t tp (true positive) Correct result \t  fp (false positive) Unexpected result\n",
        "                                   fn (false negative) Missing result    tn (true negative) Correct absence result\n",
        "```\n",
        "\n"
      ]
    },
    {
      "cell_type": "markdown",
      "metadata": {
        "id": "InNfUu90eBGb",
        "colab_type": "text"
      },
      "source": [
        "- In this context, we can define the notions of precision, recall and F-measure:\n",
        "\n",
        "- $ \\text{precision} = \\frac{tp}{tp + fp} $\n",
        "\n",
        "- $ \\text{recall} = \\frac{tp}{tp + fn} $\n",
        "\n",
        "- $ F_\\beta = (1 + \\beta ^ 2) \\frac{\\text{precison} * \\text {recall}} {\\beta ^ 2 * \\text {precision} + \\text {recall} }  $"
      ]
    },
    {
      "cell_type": "markdown",
      "metadata": {
        "id": "Yne0QgxYi-L-",
        "colab_type": "text"
      },
      "source": [
        "### Example Code"
      ]
    },
    {
      "cell_type": "code",
      "metadata": {
        "id": "Nq5eZcrdr7AU",
        "colab_type": "code",
        "colab": {}
      },
      "source": [
        "from sklearn import metrics\n",
        "import numpy as np"
      ],
      "execution_count": 0,
      "outputs": []
    },
    {
      "cell_type": "code",
      "metadata": {
        "id": "5i3Zck2Tezgi",
        "colab_type": "code",
        "colab": {}
      },
      "source": [
        "y_true = [1,0,1,0]\n",
        "y_pred = [0,1,1,1]"
      ],
      "execution_count": 0,
      "outputs": []
    },
    {
      "cell_type": "code",
      "metadata": {
        "id": "QFZwAcpoe58k",
        "colab_type": "code",
        "outputId": "825797cb-9f79-45b9-c2dc-358370b295f0",
        "colab": {
          "base_uri": "https://localhost:8080/",
          "height": 36
        }
      },
      "source": [
        "print(metrics.precision_score(y_true,y_pred))\n",
        "# Interpret this as when I said the output 1 was the ground truth 1 ?\n",
        "# Note that in binary classification we have only 1 prediction. It's interpretation is different from multi-class"
      ],
      "execution_count": 0,
      "outputs": [
        {
          "output_type": "stream",
          "text": [
            "0.3333333333333333\n"
          ],
          "name": "stdout"
        }
      ]
    },
    {
      "cell_type": "code",
      "metadata": {
        "id": "nMnomwNQfGgm",
        "colab_type": "code",
        "outputId": "b1e0033d-2af6-4d60-8ab9-f8da10da9fc6",
        "colab": {
          "base_uri": "https://localhost:8080/",
          "height": 36
        }
      },
      "source": [
        "print(metrics.recall_score(y_true,y_pred))\n",
        "# Interpret this as whenever the ground truth was 1; did I answer it as 1 ?\n",
        "# Again in binary classification we have only 1 preiction. It's interpretation is different from multi-class"
      ],
      "execution_count": 0,
      "outputs": [
        {
          "output_type": "stream",
          "text": [
            "0.5\n"
          ],
          "name": "stdout"
        }
      ]
    },
    {
      "cell_type": "code",
      "metadata": {
        "id": "EG4x93MRgLfG",
        "colab_type": "code",
        "outputId": "055b9089-82fd-41d6-f4c8-24420b478a61",
        "colab": {
          "base_uri": "https://localhost:8080/",
          "height": 36
        }
      },
      "source": [
        "print(metrics.f1_score(y_true, y_pred))"
      ],
      "execution_count": 0,
      "outputs": [
        {
          "output_type": "stream",
          "text": [
            "0.4\n"
          ],
          "name": "stdout"
        }
      ]
    },
    {
      "cell_type": "code",
      "metadata": {
        "id": "DhyfYWH-iqLp",
        "colab_type": "code",
        "outputId": "9f007f30-ba04-4d32-fd3b-2a3dda44638d",
        "colab": {
          "base_uri": "https://localhost:8080/",
          "height": 36
        }
      },
      "source": [
        "print(metrics.fbeta_score(y_true, y_pred, beta = 0.5))"
      ],
      "execution_count": 0,
      "outputs": [
        {
          "output_type": "stream",
          "text": [
            "0.3571428571428571\n"
          ],
          "name": "stdout"
        }
      ]
    },
    {
      "cell_type": "code",
      "metadata": {
        "id": "aNZutYrsiwY1",
        "colab_type": "code",
        "outputId": "2e21772a-a9a8-428b-aa24-54ffb760a079",
        "colab": {
          "base_uri": "https://localhost:8080/",
          "height": 36
        }
      },
      "source": [
        "print(metrics.fbeta_score(y_true, y_pred, beta = 2))"
      ],
      "execution_count": 0,
      "outputs": [
        {
          "output_type": "stream",
          "text": [
            "0.45454545454545453\n"
          ],
          "name": "stdout"
        }
      ]
    },
    {
      "cell_type": "markdown",
      "metadata": {
        "id": "3FP8wcnckOpG",
        "colab_type": "text"
      },
      "source": [
        "### Some more analysis of Precision, Recall and F-score on Multi-Class and Multi-label Classification"
      ]
    },
    {
      "cell_type": "markdown",
      "metadata": {
        "id": "enKn12gmkWoX",
        "colab_type": "text"
      },
      "source": [
        "![image.png](data:image/png;base64,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)"
      ]
    },
    {
      "cell_type": "markdown",
      "metadata": {
        "id": "TLgIlFxbkq7j",
        "colab_type": "text"
      },
      "source": [
        "* You can find $ P(y,\\hat{y}) $ and $ R(y, \\hat{y}) $ using my interpretation.\n",
        "* The ramaining division terms are used for some kind of weighted average / Normalization metric"
      ]
    },
    {
      "cell_type": "code",
      "metadata": {
        "id": "1AUFib4hkVnv",
        "colab_type": "code",
        "colab": {}
      },
      "source": [
        "from sklearn import metrics"
      ],
      "execution_count": 0,
      "outputs": []
    },
    {
      "cell_type": "code",
      "metadata": {
        "id": "Wt4XvOGvmexH",
        "colab_type": "code",
        "colab": {}
      },
      "source": [
        "y_true = [0,1,2,0,1,2]\n",
        "y_pred = [0,2,1,0,0,1]"
      ],
      "execution_count": 0,
      "outputs": []
    },
    {
      "cell_type": "code",
      "metadata": {
        "id": "pLKp8ICjq_38",
        "colab_type": "code",
        "outputId": "f42c658d-95b7-42c0-c768-04f2b2cc2eaf",
        "colab": {
          "base_uri": "https://localhost:8080/",
          "height": 36
        }
      },
      "source": [
        "print(metrics.precision_score(y_true, y_pred, average = 'micro'))"
      ],
      "execution_count": 0,
      "outputs": [
        {
          "output_type": "stream",
          "text": [
            "0.3333333333333333\n"
          ],
          "name": "stdout"
        }
      ]
    },
    {
      "cell_type": "code",
      "metadata": {
        "id": "vnnOkONBrLxp",
        "colab_type": "code",
        "outputId": "4a95fb25-cf9d-41df-9087-adb47ab00724",
        "colab": {
          "base_uri": "https://localhost:8080/",
          "height": 36
        }
      },
      "source": [
        "print(metrics.recall_score(y_true, y_pred, average = 'micro'))"
      ],
      "execution_count": 0,
      "outputs": [
        {
          "output_type": "stream",
          "text": [
            "0.3333333333333333\n"
          ],
          "name": "stdout"
        }
      ]
    },
    {
      "cell_type": "code",
      "metadata": {
        "id": "-EgpepMurrj1",
        "colab_type": "code",
        "outputId": "0cd80d80-2b51-42c2-9dc7-93b8bdaf3a4d",
        "colab": {
          "base_uri": "https://localhost:8080/",
          "height": 36
        }
      },
      "source": [
        "print(metrics.f1_score(y_true, y_pred, average = 'weighted'))"
      ],
      "execution_count": 0,
      "outputs": [
        {
          "output_type": "stream",
          "text": [
            "0.26666666666666666\n"
          ],
          "name": "stdout"
        }
      ]
    },
    {
      "cell_type": "code",
      "metadata": {
        "id": "DRqs0MNysMgX",
        "colab_type": "code",
        "outputId": "69d8fdb1-aa01-48cc-eed5-f6ca8800b66d",
        "colab": {
          "base_uri": "https://localhost:8080/",
          "height": 36
        }
      },
      "source": [
        "# You can include some labels when required.\n",
        "print(metrics.recall_score(y_true, y_pred, labels=[1, 2], average='micro'))"
      ],
      "execution_count": 0,
      "outputs": [
        {
          "output_type": "stream",
          "text": [
            "0.0\n"
          ],
          "name": "stdout"
        }
      ]
    },
    {
      "cell_type": "code",
      "metadata": {
        "id": "w_fEcc8RsiUU",
        "colab_type": "code",
        "colab": {}
      },
      "source": [
        "# Similarly, labels not present in the data sample may be accounted for in macro-averaging.\n",
        " print(metrics.precision_score(y_true, y_pred, labels=[0, 1, 2, 3], average='macro'))"
      ],
      "execution_count": 0,
      "outputs": []
    },
    {
      "cell_type": "code",
      "metadata": {
        "id": "ZPrwSJoqspU9",
        "colab_type": "code",
        "colab": {}
      },
      "source": [
        ""
      ],
      "execution_count": 0,
      "outputs": []
    },
    {
      "cell_type": "markdown",
      "metadata": {
        "id": "BndDAwXnHN9S",
        "colab_type": "text"
      },
      "source": [
        "### Mathews Correlation Coefficient (MCC)"
      ]
    },
    {
      "cell_type": "markdown",
      "metadata": {
        "id": "rbQXUMIFHcQZ",
        "colab_type": "text"
      },
      "source": [
        "- The Matthews correlation coefficient is used in machine learning as a measure of the quality of binary (two-class) classifications, introduced by biochemist Brian W. Matthews in 1975.\n",
        "- It takes into account true and false positives and negatives and is generally regarded as a balanced measure which can be used even if the classes are of very different sizes.\n",
        "- The MCC is in essence a correlation coefficient between the observed and predicted binary classifications; it returns a value between −1 and +1. \n",
        "- A coefficient of +1 represents a perfect prediction, 0 no better than random prediction and −1 indicates total disagreement between prediction and observation. \n",
        "- The statistic is also known as the phi coefficient. MCC is related to the chi-square statistic for a 2×2 contingency table."
      ]
    },
    {
      "cell_type": "markdown",
      "metadata": {
        "id": "EB0k0KAlIAs-",
        "colab_type": "text"
      },
      "source": [
        "$ MCC = \\frac{tp \\times tn - fp \\times fn}{\\sqrt{(tp + fp)(tp + fn)(tn + fp)(tn + fn)}}. $"
      ]
    },
    {
      "cell_type": "markdown",
      "metadata": {
        "id": "71qZJZseIRH6",
        "colab_type": "text"
      },
      "source": [
        "- While there is no perfect way of describing the confusion matrix of true and false positives and negatives by a single number, the Matthews correlation coefficient is generally regarded as being one of the best such measures."
      ]
    },
    {
      "cell_type": "markdown",
      "metadata": {
        "id": "TpwXwenGIWV7",
        "colab_type": "text"
      },
      "source": [
        "- In the multiclass case, the Matthews correlation coefficient can be defined in terms of a confusion_matrix $C$ for $K$ classes. To simplify the definition consider the following intermediate variables:"
      ]
    },
    {
      "cell_type": "markdown",
      "metadata": {
        "id": "7-KCVue7J9tn",
        "colab_type": "text"
      },
      "source": [
        "- **Mutli-Class-Mathews-Correlation**\n",
        "\n",
        "- $t_k=\\sum_{i}^{K} C_{ik}$ the number of times class $k$ truly occurred,\n",
        "- $p_k=\\sum_{i}^{K} C_{ki}$ the number of times class $k$ was predicted,\n",
        "- $c=\\sum_{k}^{K} C_{kk}$ the total number of samples correctly predicted,\n",
        "- $s=\\sum_{i}^{K} \\sum_{j}^{K} C_{ij}$ the total number of samples."
      ]
    },
    {
      "cell_type": "markdown",
      "metadata": {
        "id": "iMOf-sDXI2eM",
        "colab_type": "text"
      },
      "source": [
        "- Then the multiclass MCC is defined as:\n",
        "\n",
        "$ MCC = \\frac{\n",
        "    c \\times s - \\sum_{k}^{K} p_k \\times t_k\n",
        "}{\\sqrt{\n",
        "    (s^2 - \\sum_{k}^{K} p_k^2) \\times\n",
        "    (s^2 - \\sum_{k}^{K} t_k^2)\n",
        "}}$\n",
        "\n",
        "- When there are more than two labels, the value of the MCC will no longer range between -1 and +1. \n",
        "\n",
        "\n",
        "- Instead the minimum value will be somewhere between -1 and 0 depending on the number and distribution of ground true labels. The maximum value is always +1."
      ]
    },
    {
      "cell_type": "code",
      "metadata": {
        "id": "OPRTYr5FHRRk",
        "colab_type": "code",
        "colab": {}
      },
      "source": [
        "from sklearn.metrics import matthews_corrcoef"
      ],
      "execution_count": 0,
      "outputs": []
    },
    {
      "cell_type": "code",
      "metadata": {
        "id": "7xDZkjPKJuiE",
        "colab_type": "code",
        "outputId": "e19c8bad-6844-43c8-f46f-c638ca62263a",
        "colab": {
          "base_uri": "https://localhost:8080/",
          "height": 36
        }
      },
      "source": [
        "y_true = [1,1,1,-1]\n",
        "y_pred = [1,-1,1,1]\n",
        "print(matthews_corrcoef(y_true, y_pred))"
      ],
      "execution_count": 0,
      "outputs": [
        {
          "output_type": "stream",
          "text": [
            "-0.3333333333333333\n"
          ],
          "name": "stdout"
        }
      ]
    },
    {
      "cell_type": "markdown",
      "metadata": {
        "id": "9gwCEgZrK6QF",
        "colab_type": "text"
      },
      "source": [
        "### Multi-label confusion Matrix"
      ]
    },
    {
      "cell_type": "code",
      "metadata": {
        "id": "xSBJziRrJ2vO",
        "colab_type": "code",
        "colab": {}
      },
      "source": [
        ""
      ],
      "execution_count": 0,
      "outputs": []
    },
    {
      "cell_type": "markdown",
      "metadata": {
        "id": "VheH5YTRLHRn",
        "colab_type": "text"
      },
      "source": [
        "### Receiver Operating Charecteristic (ROC)"
      ]
    },
    {
      "cell_type": "markdown",
      "metadata": {
        "id": "Rg8hJJymYDGH",
        "colab_type": "text"
      },
      "source": [
        "#### Theory"
      ]
    },
    {
      "cell_type": "markdown",
      "metadata": {
        "id": "Rq_ZBUDgW1Ti",
        "colab_type": "text"
      },
      "source": [
        "* The function roc_curve computes the receiver operating characteristic curve, or ROC curve. \n",
        "\n",
        "- A receiver operating characteristic (ROC), or simply ROC curve, is a graphical plot which illustrates the performance of a binary classifier system as its discrimination threshold is varied. \n",
        "\n",
        "- It is created by plotting the fraction of true positives out of the positives (TPR = true positive rate) vs. the fraction of false positives out of the negatives (FPR = false positive rate), at various threshold settings. \n",
        "\n",
        "- TPR is also known as sensitivity, and FPR is one minus the specificity or true negative rate.\n",
        "\n",
        "- ROC analysis provides tools to select possibly optimal models and to discard suboptimal ones independently from (and prior to specifying) the cost context or the class distribution. \n",
        "\n",
        "- ROC analysis is related in a direct and natural way to cost/benefit analysis of diagnostic decision making. "
      ]
    },
    {
      "cell_type": "markdown",
      "metadata": {
        "id": "YWOiNUovXe7A",
        "colab_type": "text"
      },
      "source": [
        "https://en.wikipedia.org/wiki/Receiver_operating_characteristic"
      ]
    },
    {
      "cell_type": "markdown",
      "metadata": {
        "id": "ojUja7lmYIxL",
        "colab_type": "text"
      },
      "source": [
        "##### Inferences Made from ROC"
      ]
    },
    {
      "cell_type": "markdown",
      "metadata": {
        "id": "ME0EItrEYMdE",
        "colab_type": "text"
      },
      "source": [
        "- ROC Curve is used to compare differnet ML Models.\n",
        "\n",
        "- A random classifier is a straight line at an angle of 45 degrees from X-axis.\n",
        "\n",
        "- Any classifier to be considered as good must have a better curve than random.\n",
        "\n",
        "- All classifiers must start from origin.\n",
        "\n",
        "- Better classifier will have higher True positive rate.\n",
        "\n",
        "- Better classifier will also have a low false positive rate.\n",
        "\n",
        "- The models may overlap and hence there can be a trade-off in choosing whether we should go for optimzing TPR or FPR.\n",
        "\n",
        "- This depends on situation and needs to be handled.\n",
        "\n",
        "- Better classifier will have shape like $ \\Gamma $"
      ]
    },
    {
      "cell_type": "markdown",
      "metadata": {
        "id": "3ujPN6m3YGMG",
        "colab_type": "text"
      },
      "source": [
        "#### Code"
      ]
    },
    {
      "cell_type": "markdown",
      "metadata": {
        "id": "4wSDh1PVX_WA",
        "colab_type": "text"
      },
      "source": [
        "- This function requires the true binary value and the target scores, which can either be probability estimates of the positive class, confidence values, or binary decisions. \n",
        "\n",
        "- Here is a small example of how to use the roc_curve function:"
      ]
    },
    {
      "cell_type": "code",
      "metadata": {
        "id": "aCicd9dnLsVk",
        "colab_type": "code",
        "colab": {}
      },
      "source": [
        "import numpy as np\n",
        "from sklearn.metrics import roc_curve\n",
        "import matplotlib.pyplot as plt"
      ],
      "execution_count": 0,
      "outputs": []
    },
    {
      "cell_type": "code",
      "metadata": {
        "id": "fapU-a7rZ7dI",
        "colab_type": "code",
        "colab": {}
      },
      "source": [
        "y = np.array([0,0,1,1])\n",
        "scores = np.array([0.1, 0.4, 0.35, 0.8])"
      ],
      "execution_count": 0,
      "outputs": []
    },
    {
      "cell_type": "code",
      "metadata": {
        "id": "Q_PRFN1ZaIVE",
        "colab_type": "code",
        "colab": {}
      },
      "source": [
        "fpr, tpr, thresholds = roc_curve(y,scores,  pos_label = 1)"
      ],
      "execution_count": 0,
      "outputs": []
    },
    {
      "cell_type": "code",
      "metadata": {
        "id": "CNozM1tQaoaA",
        "colab_type": "code",
        "outputId": "20fe126e-82b5-4819-c36e-8165bcd5992b",
        "colab": {
          "base_uri": "https://localhost:8080/",
          "height": 73
        }
      },
      "source": [
        "print(fpr)\n",
        "print(tpr)\n",
        "print(thresholds)"
      ],
      "execution_count": 0,
      "outputs": [
        {
          "output_type": "stream",
          "text": [
            "[0.  0.  0.5 0.5 1. ]\n",
            "[0.  0.5 0.5 1.  1. ]\n",
            "[1.8  0.8  0.4  0.35 0.1 ]\n"
          ],
          "name": "stdout"
        }
      ]
    },
    {
      "cell_type": "code",
      "metadata": {
        "id": "ZoE0qohLbR6C",
        "colab_type": "code",
        "colab": {}
      },
      "source": [
        "x = []\n",
        "y = []\n",
        "for i in range(10,21,1):\n",
        "    x.append((i-10) / 10 )\n",
        "    y.append((i-10) / 10 )"
      ],
      "execution_count": 0,
      "outputs": []
    },
    {
      "cell_type": "code",
      "metadata": {
        "id": "EwCnxBG2araQ",
        "colab_type": "code",
        "outputId": "8820eb7f-054d-4b39-b14e-837bfdb5552a",
        "colab": {
          "base_uri": "https://localhost:8080/",
          "height": 295
        }
      },
      "source": [
        "plt.plot(fpr, tpr, c = 'r')\n",
        "plt.plot(x,y,c = 'b')\n",
        "plt.title(\"Reciever Operating Characteristics example\")\n",
        "plt.xlabel(\"False positive rate\")\n",
        "plt.ylabel(\"True positive rate\")\n",
        "plt.show()"
      ],
      "execution_count": 0,
      "outputs": [
        {
          "output_type": "display_data",
          "data": {
            "image/png": "[encoded data removed]",
            "text/plain": [
              "<Figure size 432x288 with 1 Axes>"
            ]
          },
          "metadata": {
            "tags": []
          }
        }
      ]
    },
    {
      "cell_type": "markdown",
      "metadata": {
        "id": "z7Mn5BgIcf7-",
        "colab_type": "text"
      },
      "source": [
        "- The roc_auc_score function computes the area under the receiver operating characteristic (ROC) curve, which is also denoted by AUC or AUROC. \n",
        "- By computing the area under the roc curve, the curve information is summarized in one number. "
      ]
    },
    {
      "cell_type": "code",
      "metadata": {
        "id": "-Fmkj80fa84Q",
        "colab_type": "code",
        "colab": {}
      },
      "source": [
        "import numpy as np\n",
        "from sklearn.metrics import roc_auc_score"
      ],
      "execution_count": 0,
      "outputs": []
    },
    {
      "cell_type": "code",
      "metadata": {
        "id": "mi_fuzftcrWY",
        "colab_type": "code",
        "colab": {}
      },
      "source": [
        "y_true =  np.array([0,0,1,1])\n",
        "y_score = np.array([0.1,0.4,0.35,0.8])"
      ],
      "execution_count": 0,
      "outputs": []
    },
    {
      "cell_type": "code",
      "metadata": {
        "id": "tiOlEqgrc6OT",
        "colab_type": "code",
        "outputId": "a5357fa1-f5ca-4181-8ad1-de35961b9216",
        "colab": {
          "base_uri": "https://localhost:8080/",
          "height": 36
        }
      },
      "source": [
        "print(roc_auc_score(y_true, y_score))"
      ],
      "execution_count": 0,
      "outputs": [
        {
          "output_type": "stream",
          "text": [
            "0.75\n"
          ],
          "name": "stdout"
        }
      ]
    },
    {
      "cell_type": "markdown",
      "metadata": {
        "id": "ea6IH2AWdR3J",
        "colab_type": "text"
      },
      "source": [
        "- **Note: -**\n",
        "- In multi-label classification, the roc_auc_score function is extended by averaging over the labels as above.\n",
        "\n",
        "- Compared to metrics such as the subset accuracy, the Hamming loss, or the F1 score, ROC doesn’t require optimizing a threshold for each label. \n",
        "\n",
        "- The roc_auc_score function can also be used in multi-class classification, if the predicted outputs have been binarized.\n",
        "\n",
        "- In applications where a high false positive rate is not tolerable the parameter max_fpr of roc_auc_score can be used to summarize the ROC curve up to the given limit."
      ]
    },
    {
      "cell_type": "markdown",
      "metadata": {
        "id": "RGs7fpVcdmIG",
        "colab_type": "text"
      },
      "source": [
        "## Multi-label Classification Metrics"
      ]
    },
    {
      "cell_type": "markdown",
      "metadata": {
        "id": "-R4KNxCzMp4M",
        "colab_type": "text"
      },
      "source": [
        "* In multilabel learning, each sample can have any number of ground truth labels associated with it. The goal is to give high scores and better rank to the ground truth labels."
      ]
    },
    {
      "cell_type": "code",
      "metadata": {
        "id": "3N8go24tc-Yl",
        "colab_type": "code",
        "colab": {}
      },
      "source": [
        ""
      ],
      "execution_count": 0,
      "outputs": []
    },
    {
      "cell_type": "markdown",
      "metadata": {
        "id": "ynL9KtfA1jZp",
        "colab_type": "text"
      },
      "source": [
        "## Regression Metrics"
      ]
    },
    {
      "cell_type": "markdown",
      "metadata": {
        "id": "m_UkM6_V1wU9",
        "colab_type": "text"
      },
      "source": [
        "* The sklearn.metrics module implements several loss, score, and utility functions to measure regression performance. Some of those have been enhanced to handle the multioutput case: `mean_squared_error, mean_absolute_error, ` `explained_variance_score` and `r2_score `.\n",
        "\n",
        "* These functions have an multioutput keyword argument which specifies the way the scores or losses for each individual target should be averaged. \n",
        "\n",
        "* The default is 'uniform_average', which specifies a uniformly weighted mean over outputs. If an ndarray of shape (n_outputs,) is passed, then its entries are interpreted as weights and an according weighted average is returned. \n",
        "\n",
        "* If multioutput is 'raw_values' is specified, then all unaltered individual scores or losses will be returned in an array of shape (n_outputs,).\n",
        "\n",
        "* The r2_score and explained_variance_score accept an additional value 'variance_weighted' for the multioutput parameter. \n",
        "\n",
        "* This option leads to a weighting of each individual score by the variance of the corresponding target variable. \n",
        "\n",
        "* This setting quantifies the globally captured unscaled variance. \n",
        "\n",
        "* If the target variables are of different scale, then this score puts more importance on well explaining the higher variance variables. \n",
        "\n",
        "* multioutput='variance_weighted' is the default value for r2_score for backward compatibility. This will be changed to uniform_average in the future."
      ]
    },
    {
      "cell_type": "markdown",
      "metadata": {
        "id": "9_qXUOjj3E02",
        "colab_type": "text"
      },
      "source": [
        "### Explained Variance Score"
      ]
    },
    {
      "cell_type": "markdown",
      "metadata": {
        "id": "WwhQfo2W3ILs",
        "colab_type": "text"
      },
      "source": [
        "- The explained_variance_score computes the explained variance regression score.\n",
        "\n",
        "If $ \\hat {y} $ is the estimated target output, $y$ the corresponding (correct) target output, and $Var $ is Variance, the square of the standard deviation, then the explained variance is estimated as follow:\n",
        "\n",
        "$ explained\\_{}variance(y, \\hat{y}) = 1 - \\frac{Var\\{ y - \\hat{y}\\}}{Var\\{y\\}} $\n",
        "\n",
        "- The best possible score is 1.0, lower values are worse.\n",
        "\n",
        "- In statistics, explained variation measures the proportion to which a mathematical model accounts for the variation (dispersion) of a given data set. Often, variation is quantified as variance; then, the more specific term explained variance can be used. "
      ]
    },
    {
      "cell_type": "code",
      "metadata": {
        "id": "niZdyk1G1mah",
        "colab_type": "code",
        "colab": {}
      },
      "source": [
        "from sklearn.metrics import explained_variance_score"
      ],
      "execution_count": 0,
      "outputs": []
    },
    {
      "cell_type": "code",
      "metadata": {
        "id": "AkxkyZJw3pIo",
        "colab_type": "code",
        "colab": {}
      },
      "source": [
        "y_true = [3, -0.5, 2, 5]\n",
        "y_pred = [2.5, 3, 1 , 4]"
      ],
      "execution_count": 0,
      "outputs": []
    },
    {
      "cell_type": "code",
      "metadata": {
        "id": "AKsIRBlh3xCn",
        "colab_type": "code",
        "outputId": "88d4200f-fea3-4d90-af9d-e6c91c0651b0",
        "colab": {
          "base_uri": "https://localhost:8080/",
          "height": 36
        }
      },
      "source": [
        "print(explained_variance_score(y_true, y_pred))"
      ],
      "execution_count": 0,
      "outputs": [
        {
          "output_type": "stream",
          "text": [
            "0.0916334661354582\n"
          ],
          "name": "stdout"
        }
      ]
    },
    {
      "cell_type": "code",
      "metadata": {
        "id": "dkOAsk2930W0",
        "colab_type": "code",
        "outputId": "cdc4fe57-1531-45b7-e9d2-d686a5d73a9d",
        "colab": {
          "base_uri": "https://localhost:8080/",
          "height": 54
        }
      },
      "source": [
        "y_true = [[0.5, 1], [-1, 1], [7, -6]]\n",
        "y_pred = [[0, 2], [-1, 2], [8, -5]]\n",
        "print(explained_variance_score(y_true, y_pred))\n",
        "print(explained_variance_score(y_true, y_pred, multioutput='raw_values'))"
      ],
      "execution_count": 0,
      "outputs": [
        {
          "output_type": "stream",
          "text": [
            "0.9838709677419355\n",
            "[0.96774194 1.        ]\n"
          ],
          "name": "stdout"
        }
      ]
    },
    {
      "cell_type": "markdown",
      "metadata": {
        "id": "IccHr_-A4k57",
        "colab_type": "text"
      },
      "source": [
        "### Max Error"
      ]
    },
    {
      "cell_type": "markdown",
      "metadata": {
        "id": "vcSKUBvP4sga",
        "colab_type": "text"
      },
      "source": [
        "- The max_error function computes the maximum residual error , a metric that captures the worst case error between the predicted value and the true value. \n",
        "\n",
        "- In a perfectly fitted single output regression model, max_error would be 0 on the training set and though this would be highly unlikely in the real world, this metric shows the extent of error that the model had when it was fitted.\n",
        "\n",
        "- If $\\hat{y_i}$ is the predicted value of the $i$-th sample, and $y_i$ is the corresponding true value, then the max error is defined as\n",
        "\n",
        "$\\text{Max Error}(y, \\hat{y}) = max(| y_i - \\hat{y}_i |)$"
      ]
    },
    {
      "cell_type": "markdown",
      "metadata": {
        "id": "q5DM7tO05cdX",
        "colab_type": "text"
      },
      "source": [
        "- The `max_error` does not support multioutput."
      ]
    },
    {
      "cell_type": "code",
      "metadata": {
        "id": "kMf31VLa4nnM",
        "colab_type": "code",
        "colab": {}
      },
      "source": [
        "from sklearn.metrics import max_error"
      ],
      "execution_count": 0,
      "outputs": []
    },
    {
      "cell_type": "code",
      "metadata": {
        "id": "XeVfK8nR5HoZ",
        "colab_type": "code",
        "colab": {}
      },
      "source": [
        "y_true = [3,2,7,1]\n",
        "y_pred = [4,5,1,1]"
      ],
      "execution_count": 0,
      "outputs": []
    },
    {
      "cell_type": "code",
      "metadata": {
        "id": "mLSHIsv25Vj5",
        "colab_type": "code",
        "outputId": "cb07ecca-41f3-4e7b-e23f-a39399699c4a",
        "colab": {
          "base_uri": "https://localhost:8080/",
          "height": 36
        }
      },
      "source": [
        "print(max_error(y_true, y_pred))"
      ],
      "execution_count": 0,
      "outputs": [
        {
          "output_type": "stream",
          "text": [
            "6\n"
          ],
          "name": "stdout"
        }
      ]
    },
    {
      "cell_type": "markdown",
      "metadata": {
        "id": "nVNMIfR75gFW",
        "colab_type": "text"
      },
      "source": [
        "### Mean Absolute error"
      ]
    },
    {
      "cell_type": "markdown",
      "metadata": {
        "id": "viCWDrx851Y_",
        "colab_type": "text"
      },
      "source": [
        "- The mean_absolute_error function computes mean absolute error, a risk metric corresponding to the expected value of the absolute error loss or $l1$ -norm loss.\n",
        "\n",
        "- If $\\hat{y_i}$ is the predicted value of the $i$-th sample, and $y_i$ is the corresponding true value, then the mean absolute error (MAE) estimated over $n_{samples}$is defined as:\n",
        "\n",
        "$\\text{MAE}(y, \\hat{y}) = \\frac{1}{n_{\\text{samples}}} \\sum_{i=0}^{n_{\\text{samples}}-1} \\left| y_i - \\hat{y}_i \\right|.$"
      ]
    },
    {
      "cell_type": "code",
      "metadata": {
        "id": "Su8fbEAQ5Xl_",
        "colab_type": "code",
        "colab": {}
      },
      "source": [
        "from sklearn.metrics import mean_absolute_error"
      ],
      "execution_count": 0,
      "outputs": []
    },
    {
      "cell_type": "code",
      "metadata": {
        "id": "Zk2MlQ-36Qf4",
        "colab_type": "code",
        "colab": {}
      },
      "source": [
        "y_true = [1,2,3,4,5]\n",
        "y_pred = [3,2,1,2,5]"
      ],
      "execution_count": 0,
      "outputs": []
    },
    {
      "cell_type": "code",
      "metadata": {
        "id": "rLcvyq0j6UDS",
        "colab_type": "code",
        "outputId": "e10c503f-8094-4186-a26c-2462e1aae9e2",
        "colab": {
          "base_uri": "https://localhost:8080/",
          "height": 36
        }
      },
      "source": [
        "print(mean_absolute_error(y_true, y_pred))"
      ],
      "execution_count": 0,
      "outputs": [
        {
          "output_type": "stream",
          "text": [
            "1.2\n"
          ],
          "name": "stdout"
        }
      ]
    },
    {
      "cell_type": "code",
      "metadata": {
        "id": "cNCi7h4P6W_0",
        "colab_type": "code",
        "outputId": "0b5a8030-74ff-4ccc-f65b-52e629f93033",
        "colab": {
          "base_uri": "https://localhost:8080/",
          "height": 36
        }
      },
      "source": [
        "y_true = [[0.5, 1], [-1, 1], [7, -6]]\n",
        "y_pred = [[0, 2], [-1, 2], [8, -5]]\n",
        "print(mean_absolute_error(y_true, y_pred))"
      ],
      "execution_count": 0,
      "outputs": [
        {
          "output_type": "stream",
          "text": [
            "0.75\n"
          ],
          "name": "stdout"
        }
      ]
    },
    {
      "cell_type": "markdown",
      "metadata": {
        "id": "2mar2NBE8lYw",
        "colab_type": "text"
      },
      "source": [
        "### Mean Squared Error"
      ]
    },
    {
      "cell_type": "markdown",
      "metadata": {
        "id": "uZ8eT-wO8neM",
        "colab_type": "text"
      },
      "source": [
        "- The mean_squared_error function computes mean squared error, a risk metric corresponding to the expected value of the squared error loss or $l2$ -norm loss.\n",
        "\n",
        "- If $\\hat{y_i}$ is the predicted value of the $i$-th sample, and $y_i$ is the corresponding true value, then the mean squared error (MSE) estimated over $n_{samples}$is defined as: \n",
        "\n",
        "$\\text{MSE}(y, \\hat{y}) = \\frac{1}{n_\\text{samples}} \\sum_{i=0}^{n_\\text{samples} - 1} (y_i - \\hat{y}_i)^2.$"
      ]
    },
    {
      "cell_type": "code",
      "metadata": {
        "id": "OaKidcsG6k8X",
        "colab_type": "code",
        "colab": {}
      },
      "source": [
        "from sklearn.metrics import mean_squared_error"
      ],
      "execution_count": 0,
      "outputs": []
    },
    {
      "cell_type": "code",
      "metadata": {
        "id": "vmm6ZgPo86_7",
        "colab_type": "code",
        "outputId": "abfebe53-d460-4ae0-a444-2271d878126c",
        "colab": {
          "base_uri": "https://localhost:8080/",
          "height": 36
        }
      },
      "source": [
        "y_true = [3, -0.5, 2, 7]\n",
        "y_pred = [2.5, 0.0, 2, 8]\n",
        "mean_squared_error(y_true, y_pred)\n",
        "\n",
        "y_true = [[0.5, 1], [-1, 1], [7, -6]]\n",
        "y_pred = [[0, 2], [-1, 2], [8, -5]]\n",
        "mean_squared_error(y_true, y_pred)  "
      ],
      "execution_count": 0,
      "outputs": [
        {
          "output_type": "execute_result",
          "data": {
            "text/plain": [
              "0.7083333333333334"
            ]
          },
          "metadata": {
            "tags": []
          },
          "execution_count": 18
        }
      ]
    },
    {
      "cell_type": "markdown",
      "metadata": {
        "id": "alYTCYMq9JOC",
        "colab_type": "text"
      },
      "source": [
        "### Mean Squared Logarithmic Error"
      ]
    },
    {
      "cell_type": "markdown",
      "metadata": {
        "id": "hrGGnSrQ9NGZ",
        "colab_type": "text"
      },
      "source": [
        "The mean_squared_log_error function computes a risk metric corresponding to the expected value of the squared logarithmic (quadratic) error or loss.\n",
        "\n",
        "If $\\hat{y_i}$ is the predicted value of the -$i$th sample, and $y_i$ is the corresponding true value, then the mean squared logarithmic error (MSLE) estimated over  $n_{samples} $\n",
        "\n",
        "is defined as \n",
        "$\\text{MSLE}(y, \\hat{y}) = \\frac{1}{n_\\text{samples}} \\sum_{i=0}^{n_\\text{samples} - 1} (\\log_e (1 + y_i) - \\log_e (1 + \\hat{y}_i) )^2. $\n",
        "\n",
        "Where $log_e(x)$\n",
        "means the natural logarithm of $x$. \n",
        "\n",
        "- This metric is best to use when targets having exponential growth, such as population counts, average sales of a commodity over a span of years etc. Note that this metric penalizes an under-predicted estimate greater than an over-predicted estimate."
      ]
    },
    {
      "cell_type": "code",
      "metadata": {
        "id": "lpte3pVo87SD",
        "colab_type": "code",
        "colab": {}
      },
      "source": [
        "from sklearn.metrics import mean_squared_log_error"
      ],
      "execution_count": 0,
      "outputs": []
    },
    {
      "cell_type": "code",
      "metadata": {
        "id": "4kEGEFwuDYHt",
        "colab_type": "code",
        "outputId": "65186cbf-e850-425a-bd7f-04b766ad5be4",
        "colab": {
          "base_uri": "https://localhost:8080/",
          "height": 54
        }
      },
      "source": [
        "y_true = [3, 5, 2.5, 7]\n",
        "y_pred = [2.5, 5, 4, 8]\n",
        "print(mean_squared_log_error(y_true, y_pred)  )\n",
        "\n",
        "y_true = [[0.5, 1], [1, 2], [7, 6]]\n",
        "y_pred = [[0.5, 2], [1, 2.5], [8, 8]]\n",
        "print(mean_squared_log_error(y_true, y_pred)  )"
      ],
      "execution_count": 0,
      "outputs": [
        {
          "output_type": "stream",
          "text": [
            "0.03973012298459379\n",
            "0.044199361889160516\n"
          ],
          "name": "stdout"
        }
      ]
    },
    {
      "cell_type": "markdown",
      "metadata": {
        "id": "GFyr9VKR-Ilo",
        "colab_type": "text"
      },
      "source": [
        "### Median Absolute error"
      ]
    },
    {
      "cell_type": "markdown",
      "metadata": {
        "id": "PYcf8RFE-LzL",
        "colab_type": "text"
      },
      "source": [
        "- The median_absolute_error is particularly interesting because it is robust to outliers. \n",
        "- The loss is calculated by taking the median of all absolute differences between the target and the prediction.\n",
        "\n",
        "- If $y_i$ is the predicted value of the $i$-th sample and $y$ is the corresponding true value, then the median absolute error (MedAE) estimated over\n",
        "is defined as\n",
        "\n",
        "$\\text{MedAE}(y, \\hat{y}) = \\text{median}(\\mid y_1 - \\hat{y}_1 \\mid, \\ldots, \\mid y_n - \\hat{y}_n \\mid).$\n",
        "\n",
        "The median_absolute_error does not support multioutput."
      ]
    },
    {
      "cell_type": "code",
      "metadata": {
        "id": "JAZwjZWW-K-c",
        "colab_type": "code",
        "colab": {}
      },
      "source": [
        "from sklearn.metrics import median_absolute_error"
      ],
      "execution_count": 0,
      "outputs": []
    },
    {
      "cell_type": "code",
      "metadata": {
        "id": "-0rqSIgi-d7l",
        "colab_type": "code",
        "colab": {}
      },
      "source": [
        "y_true = [3,-0.5,2,7]\n",
        "y_pred = [2.5,3,1,5]"
      ],
      "execution_count": 0,
      "outputs": []
    },
    {
      "cell_type": "code",
      "metadata": {
        "id": "4S9HEVMC-oCX",
        "colab_type": "code",
        "outputId": "ed5537d6-bd47-4ed2-d046-fe24ac008979",
        "colab": {
          "base_uri": "https://localhost:8080/",
          "height": 36
        }
      },
      "source": [
        "print(median_absolute_error(y_true, y_pred))"
      ],
      "execution_count": 0,
      "outputs": [
        {
          "output_type": "stream",
          "text": [
            "1.5\n"
          ],
          "name": "stdout"
        }
      ]
    },
    {
      "cell_type": "markdown",
      "metadata": {
        "id": "ml4_W-48Dm3f",
        "colab_type": "text"
      },
      "source": [
        "### R2 score, the coefficient of Determination"
      ]
    },
    {
      "cell_type": "markdown",
      "metadata": {
        "id": "v_c-WqwLD-Gv",
        "colab_type": "text"
      },
      "source": [
        "- The r2_score function computes the coefficient of determination, usually denoted as R².\n",
        "\n",
        "- It represents the proportion of variance (of y) that has been explained by the independent variables in the model. \n",
        "\n",
        "- It provides an indication of goodness of fit and therefore a measure of how well unseen samples are likely to be predicted by the model, through the proportion of explained variance.\n",
        "\n",
        "- As such variance is dataset dependent, R² may not be meaningfully comparable across different datasets. \n",
        "\n",
        "- Best possible score is 1.0 and it can be negative (because the model can be arbitrarily worse). \n",
        "\n",
        "- A constant model that always predicts the expected value of y, disregarding the input features, would get a R² score of 0.0.\n",
        "\n",
        "- If $ \\hat {y} $ is the predicted value of the $i$ -th sample and $y_i$ is the corresponding true value for total samples, the estimated R² is defined as:"
      ]
    },
    {
      "cell_type": "markdown",
      "metadata": {
        "id": "7A-P6VrXEP0y",
        "colab_type": "text"
      },
      "source": [
        "$R^2(y, \\hat{y}) = 1 - \\frac{\\sum_{i=1}^{n} (y_i - \\hat{y}_i)^2}{\\sum_{i=1}^{n} (y_i - \\bar{y})^2} $"
      ]
    },
    {
      "cell_type": "markdown",
      "metadata": {
        "id": "sZE8OZOgEani",
        "colab_type": "text"
      },
      "source": [
        "$\\bar{y} = \\frac{1}{n} \\sum_{i=1}^{n} y_i$"
      ]
    },
    {
      "cell_type": "code",
      "metadata": {
        "id": "z_y1b_gG-sKq",
        "colab_type": "code",
        "colab": {}
      },
      "source": [
        "from sklearn.metrics import r2_score"
      ],
      "execution_count": 0,
      "outputs": []
    },
    {
      "cell_type": "code",
      "metadata": {
        "id": "ISdW3bX9ElBO",
        "colab_type": "code",
        "outputId": "b98d6f29-ef8a-4ea8-8f3e-811cdbeba54d",
        "colab": {
          "base_uri": "https://localhost:8080/",
          "height": 36
        }
      },
      "source": [
        "y_true = [1,2,3,4,5]\n",
        "y_pred = [1,2,3,4,5]\n",
        "print(r2_score(y_true, y_pred))"
      ],
      "execution_count": 0,
      "outputs": [
        {
          "output_type": "stream",
          "text": [
            "1.0\n"
          ],
          "name": "stdout"
        }
      ]
    },
    {
      "cell_type": "code",
      "metadata": {
        "id": "7_EzFN5YEtLs",
        "colab_type": "code",
        "outputId": "e282561f-cf03-41d6-e278-6ba93f1bf19f",
        "colab": {
          "base_uri": "https://localhost:8080/",
          "height": 36
        }
      },
      "source": [
        "y_true = [1,3,4,2,4,5]\n",
        "y_pred = [0.9,0.2,-2,3,1,0]\n",
        "\n",
        "print(r2_score(y_true, y_pred))"
      ],
      "execution_count": 0,
      "outputs": [
        {
          "output_type": "stream",
          "text": [
            "-6.2784615384615385\n"
          ],
          "name": "stdout"
        }
      ]
    },
    {
      "cell_type": "code",
      "metadata": {
        "id": "lcuUcWmFE06H",
        "colab_type": "code",
        "outputId": "22439f84-62c8-4ad4-b24f-0efb18a847c2",
        "colab": {
          "base_uri": "https://localhost:8080/",
          "height": 36
        }
      },
      "source": [
        "y_true = [1,2,3,4,5]\n",
        "y_pred = [3,3,3,3,3]\n",
        "print(r2_score(y_true, y_pred))"
      ],
      "execution_count": 0,
      "outputs": [
        {
          "output_type": "stream",
          "text": [
            "0.0\n"
          ],
          "name": "stdout"
        }
      ]
    },
    {
      "cell_type": "markdown",
      "metadata": {
        "id": "8-ct7U4iFIZ8",
        "colab_type": "text"
      },
      "source": [
        "## Clustering Performance Valuation"
      ]
    },
    {
      "cell_type": "markdown",
      "metadata": {
        "id": "FRvvh19_FLms",
        "colab_type": "text"
      },
      "source": [
        "- We will discuss then when we discuss on clustering"
      ]
    },
    {
      "cell_type": "markdown",
      "metadata": {
        "id": "i2pnEuFoFOup",
        "colab_type": "text"
      },
      "source": [
        "## Dummy Estimators and Performance Valuation"
      ]
    },
    {
      "cell_type": "markdown",
      "metadata": {
        "id": "6kcUns8rFwKN",
        "colab_type": "text"
      },
      "source": [
        "* How do I know whether my Model is good or bad ?\n",
        "* We cannot always guarantee that it has 50 % + accuracy, hence it is good.\n",
        "* We may have imbalanced classes, in which checking for 50% accuracy may not be appropriate.\n",
        "* We need to perform better than random models a.k.a. dummy models.\n",
        "* Beating the accuracy of dummy model by a significant margin can help us to understand if the model is good or bad.\n",
        "* Sklearn provides two models for this dummyclassifier and dummyregressor."
      ]
    },
    {
      "cell_type": "markdown",
      "metadata": {
        "id": "FrsuuJCDGWgt",
        "colab_type": "text"
      },
      "source": [
        "- DummyClassifier implements several such simple strategies for classification:\n",
        "\n",
        "- stratified generates random predictions by respecting the training set class distribution.\n",
        "- most_frequent always predicts the most frequent label in the training set.\n",
        "\n",
        "- prior always predicts the class that maximizes the class prior (like most_frequent) and predict_proba returns the class prior.\n",
        "\n",
        "- uniform generates predictions uniformly at random.\n",
        "\n",
        "- constant always predicts a constant label that is provided by the user.\n",
        "\n",
        "- A major motivation of this method is F1-scoring, when the positive class is in the minority.\n",
        "\n",
        "- Note that with all these strategies, the predict method completely ignores the input data!\n",
        "\n",
        "- More generally, when the accuracy of a classifier is too close to random, it probably means that something went wrong: features are not helpful, a hyperparameter is not correctly tuned, the classifier is suffering from class imbalance, etc…\n",
        "\n",
        "- DummyRegressor also implements four simple rules of thumb for regression:\n",
        "\n",
        "- mean always predicts the mean of the training targets.\n",
        "- median always predicts the median of the training targets.\n",
        "- quantile always predicts a user provided quantile of the training targets.\n",
        "- constant always predicts a constant value that is provided by the user.\n",
        "\n",
        "In all these strategies, the predict method completely ignores the input data.\n",
        "\n",
        "To illustrate DummyClassifier, first let’s create an imbalanced dataset:"
      ]
    },
    {
      "cell_type": "code",
      "metadata": {
        "id": "uVWJyaxCE_d6",
        "colab_type": "code",
        "colab": {}
      },
      "source": [
        "from sklearn.datasets import load_iris\n",
        "from sklearn.model_selection import train_test_split\n",
        "iris = load_iris()\n",
        "X, y = iris.data, iris.target\n",
        "y[y != 1] = -1\n",
        "X_train, X_test, y_train, y_test = train_test_split(X, y, random_state=0)"
      ],
      "execution_count": 0,
      "outputs": []
    },
    {
      "cell_type": "code",
      "metadata": {
        "id": "y1UEk6RyGmRd",
        "colab_type": "code",
        "colab": {}
      },
      "source": [
        "from sklearn.dummy import DummyClassifier\n",
        "from sklearn.svm import SVC"
      ],
      "execution_count": 0,
      "outputs": []
    },
    {
      "cell_type": "code",
      "metadata": {
        "id": "8VcRGOVzG_kL",
        "colab_type": "code",
        "colab": {}
      },
      "source": [
        "clf = SVC(kernel = 'linear', C = 1.0, random_state=31)\n",
        "dum = DummyClassifier(strategy='most_frequent', random_state=0)\n",
        "dum2 = DummyClassifier(strategy = 'stratified', random_state = 0)"
      ],
      "execution_count": 0,
      "outputs": []
    },
    {
      "cell_type": "code",
      "metadata": {
        "id": "lL6SLiaUHYI1",
        "colab_type": "code",
        "colab": {}
      },
      "source": [
        "clf = clf.fit(X_train, y_train)\n",
        "dum = dum.fit(X_train, y_train)\n",
        "dum2 = dum2.fit(X_train, y_train)"
      ],
      "execution_count": 0,
      "outputs": []
    },
    {
      "cell_type": "code",
      "metadata": {
        "id": "vNbbkDhMHeyk",
        "colab_type": "code",
        "outputId": "85929453-bd8f-4878-c95a-f4285d073f94",
        "colab": {
          "base_uri": "https://localhost:8080/",
          "height": 73
        }
      },
      "source": [
        "print(clf.score(X_test, y_test))\n",
        "print(dum.score(X_test, y_test))\n",
        "print(dum2.score(X_test, y_test))"
      ],
      "execution_count": 0,
      "outputs": [
        {
          "output_type": "stream",
          "text": [
            "0.631578947368421\n",
            "0.5789473684210527\n",
            "0.6578947368421053\n"
          ],
          "name": "stdout"
        }
      ]
    },
    {
      "cell_type": "markdown",
      "metadata": {
        "id": "zpIpSTrXH9R8",
        "colab_type": "text"
      },
      "source": [
        "* Pretty bad model\n"
      ]
    },
    {
      "cell_type": "code",
      "metadata": {
        "id": "v16Otk27IMBl",
        "colab_type": "code",
        "outputId": "80584f1f-e4a7-49c5-c6a0-42d41d767634",
        "colab": {
          "base_uri": "https://localhost:8080/",
          "height": 36
        }
      },
      "source": [
        "clf = SVC(gamma='scale', kernel='rbf', C=1).fit(X_train, y_train)\n",
        "clf.score(X_test, y_test)  "
      ],
      "execution_count": 0,
      "outputs": [
        {
          "output_type": "execute_result",
          "data": {
            "text/plain": [
              "0.9473684210526315"
            ]
          },
          "metadata": {
            "tags": []
          },
          "execution_count": 46
        }
      ]
    }
  ]
}