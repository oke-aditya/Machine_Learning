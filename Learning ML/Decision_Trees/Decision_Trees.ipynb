{
  "nbformat": 4,
  "nbformat_minor": 0,
  "metadata": {
    "kernelspec": {
      "display_name": "Python 3",
      "language": "python",
      "name": "python3"
    },
    "language_info": {
      "codemirror_mode": {
        "name": "ipython",
        "version": 3
      },
      "file_extension": ".py",
      "mimetype": "text/x-python",
      "name": "python",
      "nbconvert_exporter": "python",
      "pygments_lexer": "ipython3",
      "version": "3.7.3"
    },
    "colab": {
      "name": "Decision-Trees.ipynb",
      "version": "0.3.2",
      "provenance": []
    }
  },
  "cells": [
    {
      "cell_type": "markdown",
      "metadata": {
        "id": "AVe5ZnQcMiOz",
        "colab_type": "text"
      },
      "source": [
        "# Decision Trees"
      ]
    },
    {
      "cell_type": "markdown",
      "metadata": {
        "id": "OGgPjd4kNWXx",
        "colab_type": "text"
      },
      "source": [
        "## About Decision Trees"
      ]
    },
    {
      "cell_type": "markdown",
      "metadata": {
        "id": "sAqehXvTMiO3",
        "colab_type": "text"
      },
      "source": [
        "Decision Tree is a non-parametric algorithm which can be used both for classification and regression.\n",
        "\n",
        "The goal is to create a model that predicts the value of a target variable by learning simple decision rules inferred from the data features.\n",
        "\n",
        "Refer: - https://scikit-learn.org/stable/modules/tree.html#tree-classification\n",
        "\n"
      ]
    },
    {
      "cell_type": "markdown",
      "metadata": {
        "id": "6qwMP0VUMiO6",
        "colab_type": "text"
      },
      "source": [
        "![sphx_glr_plot_tree_regression_0011.png](attachment:sphx_glr_plot_tree_regression_0011.png)"
      ]
    },
    {
      "cell_type": "markdown",
      "metadata": {
        "id": "u8Ae6rA8MiO9",
        "colab_type": "text"
      },
      "source": [
        "Advantages of decision Trees: -\n",
        "* Simple to understand and to interpret. Trees can be visualised.\n",
        "* Requires little data preparation. Other techniques often require data normalisation, dummy variables need to be created and blank values to be removed. Note however that this module does not support missing values.\n",
        "* The cost of using the tree (i.e., predicting data) is logarithmic in the number of data points used to train the tree.\n",
        "* Uses a white box model. If a given situation is observable in a model, the explanation for the condition is easily explained by boolean logic. By contrast, in a black box model (e.g., in an artificial neural network), results may be more difficult to interpret.\n",
        "* Possible to validate a model using statistical tests. That makes it possible to account for the reliability of the model.\n",
        "\n"
      ]
    },
    {
      "cell_type": "markdown",
      "metadata": {
        "id": "Jsh6j8xSMiPA",
        "colab_type": "text"
      },
      "source": [
        "The disadvantages of decision trees include:\n",
        "\n",
        "* Decision-tree learners can create over-complex trees that do not generalise the data well. \n",
        "* This is called overfitting. Mechanisms such as pruning (not currently supported), setting the minimum number of samples required at a leaf node or setting the maximum depth of the tree are necessary to avoid this problem.\n",
        "* Decision trees can be unstable because small variations in the data might result in a completely different tree being generated. \n",
        "* This problem is mitigated by using decision trees within an ensemble.\n",
        "* The problem of learning an optimal decision tree is known to be NP-complete under several aspects of optimality and even for simple concepts. \n",
        "* Consequently, practical decision-tree learning algorithms are based on heuristic algorithms such as the greedy algorithm where locally optimal decisions are made at each node. \n",
        "* Such algorithms cannot guarantee to return the globally optimal decision tree. This can be mitigated by training multiple trees in an ensemble learner, where the features and samples are randomly sampled with replacement.\n",
        "* There are concepts that are hard to learn because decision trees do not express them easily, such as XOR, parity or multiplexer problems.\n",
        "* Decision tree learners create biased trees if some classes dominate. It is therefore recommended to balance the dataset prior to fitting with the decision tree"
      ]
    },
    {
      "cell_type": "markdown",
      "metadata": {
        "id": "iHU6mH3fMiPD",
        "colab_type": "text"
      },
      "source": [
        "## Classification"
      ]
    },
    {
      "cell_type": "markdown",
      "metadata": {
        "id": "C_5DzdGxMiPG",
        "colab_type": "text"
      },
      "source": [
        "DecisionTreeClassifier is a class capable of performing multi-class classification on a dataset."
      ]
    },
    {
      "cell_type": "code",
      "metadata": {
        "id": "PNKUsrObMiPL",
        "colab_type": "code",
        "colab": {}
      },
      "source": [
        "from sklearn.datasets import load_iris\n",
        "from sklearn import tree\n",
        "from sklearn.model_selection import cross_val_score\n",
        "from sklearn.model_selection import cross_validate"
      ],
      "execution_count": 0,
      "outputs": []
    },
    {
      "cell_type": "code",
      "metadata": {
        "id": "-pjZHYgcMiPR",
        "colab_type": "code",
        "colab": {}
      },
      "source": [
        "X = [[0,0], [1,1]]\n",
        "Y = [0,1]"
      ],
      "execution_count": 0,
      "outputs": []
    },
    {
      "cell_type": "code",
      "metadata": {
        "id": "MQJOnEyaMiPW",
        "colab_type": "code",
        "colab": {}
      },
      "source": [
        "clf = tree.DecisionTreeClassifier()"
      ],
      "execution_count": 0,
      "outputs": []
    },
    {
      "cell_type": "code",
      "metadata": {
        "id": "d7sHdSUDMiPd",
        "colab_type": "code",
        "colab": {}
      },
      "source": [
        "clf = clf.fit(X,Y)"
      ],
      "execution_count": 0,
      "outputs": []
    },
    {
      "cell_type": "markdown",
      "metadata": {
        "id": "Esf7fTPyMiPi",
        "colab_type": "text"
      },
      "source": [
        "After being fitted, the model can then be used to predict the class of samples:"
      ]
    },
    {
      "cell_type": "code",
      "metadata": {
        "id": "9RMwNBDJMiPj",
        "colab_type": "code",
        "colab": {},
        "outputId": "e0f4567b-c62c-4caf-8aa3-9e282096b493"
      },
      "source": [
        "clf.predict([[2., 2.]])"
      ],
      "execution_count": 0,
      "outputs": [
        {
          "output_type": "execute_result",
          "data": {
            "text/plain": [
              "array([1])"
            ]
          },
          "metadata": {
            "tags": []
          },
          "execution_count": 6
        }
      ]
    },
    {
      "cell_type": "markdown",
      "metadata": {
        "id": "tFw6DYunMiPs",
        "colab_type": "text"
      },
      "source": [
        "Alternatively, the probability of each class can be predicted, which is the fraction of training samples of the same class in a "
      ]
    },
    {
      "cell_type": "code",
      "metadata": {
        "id": "haoeVAMOMiPv",
        "colab_type": "code",
        "colab": {},
        "outputId": "2af9181d-634a-4edc-a695-c8e2dbd8b726"
      },
      "source": [
        "clf.predict_proba([[2.,2.]])"
      ],
      "execution_count": 0,
      "outputs": [
        {
          "output_type": "execute_result",
          "data": {
            "text/plain": [
              "array([[0., 1.]])"
            ]
          },
          "metadata": {
            "tags": []
          },
          "execution_count": 8
        }
      ]
    },
    {
      "cell_type": "markdown",
      "metadata": {
        "id": "hAomU1AAMiPz",
        "colab_type": "text"
      },
      "source": [
        "For Multi-class Classification"
      ]
    },
    {
      "cell_type": "code",
      "metadata": {
        "id": "Kb_QwFeAMiP1",
        "colab_type": "code",
        "colab": {}
      },
      "source": [
        "iris = load_iris()\n",
        "clf = tree.DecisionTreeClassifier()"
      ],
      "execution_count": 0,
      "outputs": []
    },
    {
      "cell_type": "code",
      "metadata": {
        "id": "CdZ974G7MiP6",
        "colab_type": "code",
        "colab": {}
      },
      "source": [
        "X_train = iris.data\n",
        "Y_train = iris.target"
      ],
      "execution_count": 0,
      "outputs": []
    },
    {
      "cell_type": "code",
      "metadata": {
        "id": "ZYz0R12XMiQA",
        "colab_type": "code",
        "colab": {}
      },
      "source": [
        "clf = clf.fit(X_train,Y_train)"
      ],
      "execution_count": 0,
      "outputs": []
    },
    {
      "cell_type": "code",
      "metadata": {
        "scrolled": true,
        "id": "SMpNp_TjMiQF",
        "colab_type": "code",
        "colab": {},
        "outputId": "22c6faf1-1df6-40dd-eeec-91613d5a5b16"
      },
      "source": [
        "tree.plot_tree(clf)"
      ],
      "execution_count": 0,
      "outputs": [
        {
          "output_type": "execute_result",
          "data": {
            "text/plain": [
              "[Text(167.4, 199.32, 'X[3] <= 0.8\\nentropy = 0.667\\nsamples = 150\\nvalue = [50, 50, 50]'),\n",
              " Text(141.64615384615385, 163.07999999999998, 'entropy = 0.0\\nsamples = 50\\nvalue = [50, 0, 0]'),\n",
              " Text(193.15384615384616, 163.07999999999998, 'X[3] <= 1.75\\nentropy = 0.5\\nsamples = 100\\nvalue = [0, 50, 50]'),\n",
              " Text(103.01538461538462, 126.83999999999999, 'X[2] <= 4.95\\nentropy = 0.168\\nsamples = 54\\nvalue = [0, 49, 5]'),\n",
              " Text(51.50769230769231, 90.6, 'X[3] <= 1.65\\nentropy = 0.041\\nsamples = 48\\nvalue = [0, 47, 1]'),\n",
              " Text(25.753846153846155, 54.359999999999985, 'entropy = 0.0\\nsamples = 47\\nvalue = [0, 47, 0]'),\n",
              " Text(77.26153846153846, 54.359999999999985, 'entropy = 0.0\\nsamples = 1\\nvalue = [0, 0, 1]'),\n",
              " Text(154.52307692307693, 90.6, 'X[3] <= 1.55\\nentropy = 0.444\\nsamples = 6\\nvalue = [0, 2, 4]'),\n",
              " Text(128.76923076923077, 54.359999999999985, 'entropy = 0.0\\nsamples = 3\\nvalue = [0, 0, 3]'),\n",
              " Text(180.27692307692308, 54.359999999999985, 'X[0] <= 6.95\\nentropy = 0.444\\nsamples = 3\\nvalue = [0, 2, 1]'),\n",
              " Text(154.52307692307693, 18.119999999999976, 'entropy = 0.0\\nsamples = 2\\nvalue = [0, 2, 0]'),\n",
              " Text(206.03076923076924, 18.119999999999976, 'entropy = 0.0\\nsamples = 1\\nvalue = [0, 0, 1]'),\n",
              " Text(283.2923076923077, 126.83999999999999, 'X[2] <= 4.85\\nentropy = 0.043\\nsamples = 46\\nvalue = [0, 1, 45]'),\n",
              " Text(257.53846153846155, 90.6, 'X[1] <= 3.1\\nentropy = 0.444\\nsamples = 3\\nvalue = [0, 1, 2]'),\n",
              " Text(231.7846153846154, 54.359999999999985, 'entropy = 0.0\\nsamples = 2\\nvalue = [0, 0, 2]'),\n",
              " Text(283.2923076923077, 54.359999999999985, 'entropy = 0.0\\nsamples = 1\\nvalue = [0, 1, 0]'),\n",
              " Text(309.04615384615386, 90.6, 'entropy = 0.0\\nsamples = 43\\nvalue = [0, 0, 43]')]"
            ]
          },
          "metadata": {
            "tags": []
          },
          "execution_count": 26
        },
        {
          "output_type": "display_data",
          "data": {
            "image/png": "[encoded data removed]",
            "text/plain": [
              "<Figure size 432x288 with 1 Axes>"
            ]
          },
          "metadata": {
            "tags": [],
            "needs_background": "light"
          }
        }
      ]
    },
    {
      "cell_type": "markdown",
      "metadata": {
        "id": "Lvd0XbixMiQK",
        "colab_type": "text"
      },
      "source": [
        "https://scikit-learn.org/stable/modules/tree.html#tree-classification\n",
        "* Use this to export tree using graphviz module"
      ]
    },
    {
      "cell_type": "code",
      "metadata": {
        "id": "f2XlCp_lMiQM",
        "colab_type": "code",
        "colab": {}
      },
      "source": [
        "scores_dict = cross_validate(clf, X_train, Y_train, cv = 10)"
      ],
      "execution_count": 0,
      "outputs": []
    },
    {
      "cell_type": "code",
      "metadata": {
        "id": "oYQM0BZ7MiQS",
        "colab_type": "code",
        "colab": {},
        "outputId": "d62f3d97-9e3b-4b1c-c738-39861325f9da"
      },
      "source": [
        "scores_dict.keys()"
      ],
      "execution_count": 0,
      "outputs": [
        {
          "output_type": "execute_result",
          "data": {
            "text/plain": [
              "dict_keys(['fit_time', 'score_time', 'test_score'])"
            ]
          },
          "metadata": {
            "tags": []
          },
          "execution_count": 35
        }
      ]
    },
    {
      "cell_type": "code",
      "metadata": {
        "id": "JxdGoMEpMiQV",
        "colab_type": "code",
        "colab": {},
        "outputId": "cf8839a2-30c5-4e8a-af96-0ca044fa7a07"
      },
      "source": [
        "print(scores_dict['test_score'],)"
      ],
      "execution_count": 0,
      "outputs": [
        {
          "output_type": "stream",
          "text": [
            "[1.         0.93333333 1.         0.93333333 0.93333333 0.86666667\n",
            " 0.93333333 0.93333333 1.         1.        ]\n"
          ],
          "name": "stdout"
        }
      ]
    },
    {
      "cell_type": "code",
      "metadata": {
        "id": "10nBEMKNMiQc",
        "colab_type": "code",
        "colab": {},
        "outputId": "05917459-64f1-4f8c-f405-b6f8e5ee326c"
      },
      "source": [
        "# To print the score directly use the cross_val_score from sklearn\n",
        "scores = cross_val_score(clf, X_train, Y_train, cv = 10)\n",
        "print(scores)"
      ],
      "execution_count": 0,
      "outputs": [
        {
          "output_type": "stream",
          "text": [
            "[1.         0.93333333 1.         0.93333333 0.93333333 0.86666667\n",
            " 0.93333333 0.93333333 1.         1.        ]\n"
          ],
          "name": "stdout"
        }
      ]
    },
    {
      "cell_type": "markdown",
      "metadata": {
        "id": "XboaTUTUMiQj",
        "colab_type": "text"
      },
      "source": [
        "## Decision tree-regression"
      ]
    },
    {
      "cell_type": "code",
      "metadata": {
        "id": "BTgsaFGMMiQk",
        "colab_type": "code",
        "colab": {}
      },
      "source": [
        "from sklearn import tree"
      ],
      "execution_count": 0,
      "outputs": []
    },
    {
      "cell_type": "code",
      "metadata": {
        "id": "7QOUdatuMiQp",
        "colab_type": "code",
        "colab": {}
      },
      "source": [
        "X = [[0,0], [2,2]]\n",
        "Y = [0.5,2.5]"
      ],
      "execution_count": 0,
      "outputs": []
    },
    {
      "cell_type": "code",
      "metadata": {
        "id": "ZIGSW9CbMiQ0",
        "colab_type": "code",
        "colab": {}
      },
      "source": [
        "clf = tree.DecisionTreeRegressor()\n",
        "clf = clf.fit(X,Y)"
      ],
      "execution_count": 0,
      "outputs": []
    },
    {
      "cell_type": "code",
      "metadata": {
        "id": "QBXnCbNWMiQ5",
        "colab_type": "code",
        "colab": {},
        "outputId": "0e0874eb-b281-4fea-fc74-f9cd18e73ca9"
      },
      "source": [
        "clf.predict([[1,1]])"
      ],
      "execution_count": 0,
      "outputs": [
        {
          "output_type": "execute_result",
          "data": {
            "text/plain": [
              "array([0.5])"
            ]
          },
          "metadata": {
            "tags": []
          },
          "execution_count": 47
        }
      ]
    },
    {
      "cell_type": "markdown",
      "metadata": {
        "id": "5-zh_wQyMiRE",
        "colab_type": "text"
      },
      "source": [
        "## Tips on using Decision Trees"
      ]
    },
    {
      "cell_type": "markdown",
      "metadata": {
        "id": "90a8nROlMiRF",
        "colab_type": "text"
      },
      "source": [
        "* Decision trees tend to overfit on data with a large number of features. \n",
        "* Getting the right ratio of samples to number of features is important, since a tree with few samples in high dimensional space is very likely to overfit.\n",
        "* Consider performing dimensionality reduction (PCA, ICA, or Feature selection) beforehand to give your tree a better chance of finding features that are discriminative.\n",
        "* Understanding the decision tree structure will help in gaining more insights about how the decision tree makes predictions, which is important for understanding the important features in the data.\n",
        "* Visualise your tree as you are training by using the export function. Use max_depth=3 as an initial tree depth to get a feel for how the tree is fitting to your data, and then increase the depth.\n",
        "* Remember that the number of samples required to populate the tree doubles for each additional level the tree grows to. Use max_depth to control the size of the tree to prevent overfitting.\n",
        "* Use min_samples_split or min_samples_leaf to ensure that multiple samples inform every decision in the tree, by controlling which splits will be considered. \n",
        "* A very small number will usually mean the tree will overfit, whereas a large number will prevent the tree from learning the data. \n",
        "* Try min_samples_leaf=5 as an initial value. If the sample size varies greatly, a float number can be used as percentage in these two parameters. \n",
        "* While min_samples_split can create arbitrarily small leaves, min_samples_leaf guarantees that each leaf has a minimum size, avoiding low-variance, over-fit leaf nodes in regression problems. For classification with few classes, min_samples_leaf=1 is often the best choice.\n",
        "* Balance your dataset before training to prevent the tree from being biased toward the classes that are dominant. * * * Class balancing can be done by sampling an equal number of samples from each class, or preferably by normalizing the sum of the sample weights (sample_weight) for each class to the same value. \n",
        "* Also note that weight-based pre-pruning criteria, such as min_weight_fraction_leaf, will then be less biased toward dominant classes than criteria that are not aware of the sample weights, like min_samples_leaf.\n",
        "* If the samples are weighted, it will be easier to optimize the tree structure using weight-based pre-pruning criterion such as min_weight_fraction_leaf, which ensure that leaf nodes contain at least a fraction of the overall sum of the sample weights.\n",
        "* All decision trees use np.float32 arrays internally. If training data is not in this format, a copy of the dataset will be made.\n",
        "* If the input matrix X is very sparse, it is recommended to convert to sparse csc_matrix before calling fit and sparse csr_matrix before calling predict. \n",
        "* Training time can be orders of magnitude faster for a sparse matrix input compared to a dense matrix when features have zero values in most of the samples.\n",
        "\n"
      ]
    },
    {
      "cell_type": "code",
      "metadata": {
        "id": "Zest_1QKMiRG",
        "colab_type": "code",
        "colab": {}
      },
      "source": [
        ""
      ],
      "execution_count": 0,
      "outputs": []
    }
  ]
}