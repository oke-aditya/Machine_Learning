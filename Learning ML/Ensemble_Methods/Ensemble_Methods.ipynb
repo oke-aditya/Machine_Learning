{
  "nbformat": 4,
  "nbformat_minor": 0,
  "metadata": {
    "colab": {
      "name": "Ensemble-Methods.ipynb",
      "version": "0.3.2",
      "provenance": [],
      "collapsed_sections": [
        "lvagg8J94UG3",
        "_i_PHRINGPLu",
        "NKTs7NPpIKbp",
        "gQSS0CPYLwHr",
        "oqseLVWuLzmV",
        "a-bWtm0-Qq1_",
        "XMDtmewWMqrE",
        "zGBKTk6aNjw0",
        "i9YxUodUNohl",
        "wFYQmU0FRLDY",
        "6X09O8BVSUr2",
        "ZKTTmatpfKlS",
        "fnludzYDg0b4",
        "-NUYA8vniSTa",
        "tCZisJPzmQal",
        "9tLmTKtFnYWM",
        "nUa-xjXy19Ri",
        "BzXS6O-M2AFs",
        "wd_FI6UfD7SI",
        "sxl8gu4J8jBB"
      ]
    },
    "kernelspec": {
      "name": "python3",
      "display_name": "Python 3"
    }
  },
  "cells": [
    {
      "cell_type": "markdown",
      "metadata": {
        "id": "b6XCYbX8EEcG",
        "colab_type": "text"
      },
      "source": [
        "# Ensemble Methods\n",
        "\n"
      ]
    },
    {
      "cell_type": "markdown",
      "metadata": {
        "id": "lvagg8J94UG3",
        "colab_type": "text"
      },
      "source": [
        "## About"
      ]
    },
    {
      "cell_type": "markdown",
      "metadata": {
        "id": "oOxwBai7EL3p",
        "colab_type": "text"
      },
      "source": [
        "The goal of ensemble methods is to combine multiple predictions from different classifiers built on a given learning algorithm.\n",
        "\n",
        "This helps in improving the robustness and generalizing the features learnt.\n",
        "\n",
        "There are two popular methods for ensembling: -\n",
        "\n",
        "* Averaging Methods: - Build several methods and then average their predictions. Combined estimator is better as its variance is reduced.\n",
        "E.g. Bagging and Random Forests\n",
        "\n",
        "* Boosting Methods: - Estimators are built sequentially and we try to reduce the error at every step. Building sequentially helps us to reeduce the bias of combined estimator. Here we combine several weak models to produce a powerful ensemble.\n",
        "E.g. AdaBoost, Gradient Boosting"
      ]
    },
    {
      "cell_type": "markdown",
      "metadata": {
        "id": "PvoeZDIWGqHJ",
        "colab_type": "text"
      },
      "source": [
        "Refer https://scikit-learn.org/stable/modules/ensemble.html"
      ]
    },
    {
      "cell_type": "code",
      "metadata": {
        "id": "pSwNZCslkpgB",
        "colab_type": "code",
        "colab": {}
      },
      "source": [
        "import numpy as np"
      ],
      "execution_count": 0,
      "outputs": []
    },
    {
      "cell_type": "markdown",
      "metadata": {
        "id": "_i_PHRINGPLu",
        "colab_type": "text"
      },
      "source": [
        "## Method 1:- Bagging"
      ]
    },
    {
      "cell_type": "markdown",
      "metadata": {
        "id": "Q5t5IhMLHUfY",
        "colab_type": "text"
      },
      "source": [
        "Bagging essentially means Bootstrap AGGregation. (Don't know how they made bagging out of this :P )"
      ]
    },
    {
      "cell_type": "markdown",
      "metadata": {
        "id": "D5O1TwvrGUKe",
        "colab_type": "text"
      },
      "source": [
        "* In ensemble algorithms, bagging methods form a class of algorithms which build several instances of a black-box estimator on random subsets of the original training set and then aggregate their individual predictions to form a final prediction. \n",
        "\n",
        "* These methods are used as a way to reduce the variance of a base estimator (e.g., a decision tree), by introducing randomization into its construction procedure and then making an ensemble out of it. \n",
        "\n",
        "* In many cases, bagging methods constitute a very simple way to improve with respect to a single model, without making it necessary to adapt the underlying base algorithm. \n",
        "\n",
        "* As they provide a way to reduce overfitting, bagging methods work best with strong and complex models (e.g., fully developed decision trees), in contrast with boosting methods which usually work best with weak models (e.g., shallow decision trees)."
      ]
    },
    {
      "cell_type": "code",
      "metadata": {
        "id": "JhOCWpvlDm4T",
        "colab_type": "code",
        "colab": {}
      },
      "source": [
        "from sklearn.ensemble import BaggingClassifier\n",
        "from sklearn.neighbors import KNeighborsClassifier\n",
        "bagging = BaggingClassifier(KNeighborsClassifier(), max_samples = 0.5, max_features = 0.5)"
      ],
      "execution_count": 0,
      "outputs": []
    },
    {
      "cell_type": "markdown",
      "metadata": {
        "id": "ld15SGu6HEKU",
        "colab_type": "text"
      },
      "source": [
        "* max_samples and max_features control the size of the subsets.\n",
        "* Bootstrap and Bootstrap_features control whether samples and features can be drawn with or without replacement."
      ]
    },
    {
      "cell_type": "markdown",
      "metadata": {
        "id": "NKTs7NPpIKbp",
        "colab_type": "text"
      },
      "source": [
        "## Method 2: Randomized Trees"
      ]
    },
    {
      "cell_type": "markdown",
      "metadata": {
        "id": "FNrBLXSCIQ1V",
        "colab_type": "text"
      },
      "source": [
        "* Sklearn.ensemble includes two algorithms for randomized decision trees namely Random Forests and Extra-Trees. \n",
        "\n",
        "* Both are designed specifically for trees. \n",
        "\n",
        "* We create a diverse set of random classifiers.\n",
        "\n",
        "* The prediction of these ensembles is given as the averaged prediction of the individual classifers.\n",
        "\n"
      ]
    },
    {
      "cell_type": "markdown",
      "metadata": {
        "id": "gQSS0CPYLwHr",
        "colab_type": "text"
      },
      "source": [
        "### Random Forests"
      ]
    },
    {
      "cell_type": "markdown",
      "metadata": {
        "id": "Z_M42-YyKPLP",
        "colab_type": "text"
      },
      "source": [
        "* In Random Forests each tree in the ensemble is built from a sample drawn with \n",
        "replacement from training set.\n",
        "\n",
        "* While splitting each node the best split is found either from all inputs or from random subset of size max_featurs.\n",
        "\n",
        "* We try to decrease the variance by introducing this randomness. \n",
        "\n",
        "* Individual decision trees tend to overfit and exhibit high variance.\n",
        "\n",
        "* Random Forests introduce randomness to reduce the variance by combining these trees, the errors cancel out.\n",
        "\n",
        "* Sometimes this can cause a slight increase in the bias but still is preferable as the variance reduces significantly."
      ]
    },
    {
      "cell_type": "code",
      "metadata": {
        "id": "iuvJ1Dx-Jw2W",
        "colab_type": "code",
        "colab": {}
      },
      "source": [
        "from sklearn.ensemble import RandomForestClassifier"
      ],
      "execution_count": 0,
      "outputs": []
    },
    {
      "cell_type": "code",
      "metadata": {
        "id": "Ty836mZOINiy",
        "colab_type": "code",
        "outputId": "5b1da252-e6b1-4052-f1ba-94d8a62dfea1",
        "colab": {
          "base_uri": "https://localhost:8080/"
        }
      },
      "source": [
        "X = [[0,0], [1,1]]\n",
        "Y = [0, 1]\n",
        "clf = RandomForestClassifier(n_estimators = 10)\n",
        "clf.fit(X,Y)"
      ],
      "execution_count": 0,
      "outputs": [
        {
          "output_type": "execute_result",
          "data": {
            "text/plain": [
              "RandomForestClassifier(bootstrap=True, class_weight=None, criterion='gini',\n",
              "                       max_depth=None, max_features='auto', max_leaf_nodes=None,\n",
              "                       min_impurity_decrease=0.0, min_impurity_split=None,\n",
              "                       min_samples_leaf=1, min_samples_split=2,\n",
              "                       min_weight_fraction_leaf=0.0, n_estimators=10,\n",
              "                       n_jobs=None, oob_score=False, random_state=None,\n",
              "                       verbose=0, warm_start=False)"
            ]
          },
          "metadata": {
            "tags": []
          },
          "execution_count": 32
        }
      ]
    },
    {
      "cell_type": "markdown",
      "metadata": {
        "id": "sKBz1mu0KJQv",
        "colab_type": "text"
      },
      "source": [
        "We will discuss about these parameters in a while."
      ]
    },
    {
      "cell_type": "markdown",
      "metadata": {
        "id": "oqseLVWuLzmV",
        "colab_type": "text"
      },
      "source": [
        "### Extremely Random Trees"
      ]
    },
    {
      "cell_type": "markdown",
      "metadata": {
        "id": "RsSeiaP5L4iv",
        "colab_type": "text"
      },
      "source": [
        "* In extremely random trees we increase the randomness a bit more.\n",
        "\n",
        "* In random forests a random subset of candidate features are used, but instead of looking for the most discriminative thresholds, thresholds are here drawn at random for each candidate.\n",
        "\n",
        "* This reduces the variance a bit more but increases the bias a little bit."
      ]
    },
    {
      "cell_type": "code",
      "metadata": {
        "id": "8u8icgIKJtXP",
        "colab_type": "code",
        "colab": {}
      },
      "source": [
        "from sklearn.model_selection import cross_val_score\n",
        "from sklearn.datasets import make_blobs\n",
        "from sklearn.ensemble import RandomForestClassifier\n",
        "from sklearn.ensemble import ExtraTreesClassifier\n",
        "from sklearn.tree import DecisionTreeClassifier\n",
        "import matplotlib.pyplot as plt"
      ],
      "execution_count": 0,
      "outputs": []
    },
    {
      "cell_type": "code",
      "metadata": {
        "id": "Q6_wBFKkMpHH",
        "colab_type": "code",
        "colab": {}
      },
      "source": [
        "X,Y = make_blobs(n_samples = 100000, n_features = 10, centers=100, random_state=0)"
      ],
      "execution_count": 0,
      "outputs": []
    },
    {
      "cell_type": "code",
      "metadata": {
        "id": "zfBxq4l6MyUq",
        "colab_type": "code",
        "outputId": "f8025eaa-6569-432a-c0f1-3e175d32535c",
        "colab": {
          "base_uri": "https://localhost:8080/"
        }
      },
      "source": [
        "clf = DecisionTreeClassifier(random_state=0)\n",
        "scores = cross_val_score(clf, X,Y, cv = 5)\n",
        "# Prints the mean score obtained on evalutating\n",
        "scores.mean()"
      ],
      "execution_count": 0,
      "outputs": [
        {
          "output_type": "execute_result",
          "data": {
            "text/plain": [
              "0.99671"
            ]
          },
          "metadata": {
            "tags": []
          },
          "execution_count": 35
        }
      ]
    },
    {
      "cell_type": "code",
      "metadata": {
        "id": "dc1QmyF-M6kf",
        "colab_type": "code",
        "outputId": "af97ea38-21d7-4310-a5d8-c693cbc0a4ef",
        "colab": {
          "base_uri": "https://localhost:8080/"
        }
      },
      "source": [
        "clf = RandomForestClassifier(n_estimators = 10, random_state = 0)\n",
        "scores = cross_val_score(clf, X, Y, cv = 5)\n",
        "scores.mean()"
      ],
      "execution_count": 0,
      "outputs": [
        {
          "output_type": "execute_result",
          "data": {
            "text/plain": [
              "0.99992"
            ]
          },
          "metadata": {
            "tags": []
          },
          "execution_count": 36
        }
      ]
    },
    {
      "cell_type": "code",
      "metadata": {
        "id": "jeimQyv_OBYn",
        "colab_type": "code",
        "outputId": "a1dfecfd-083b-403a-f49c-b6d626d5eba7",
        "colab": {
          "base_uri": "https://localhost:8080/"
        }
      },
      "source": [
        "clf = ExtraTreesClassifier(n_estimators = 10)\n",
        "scores = cross_val_score(clf, X, Y, cv = 2)\n",
        "scores.mean()"
      ],
      "execution_count": 0,
      "outputs": [
        {
          "output_type": "execute_result",
          "data": {
            "text/plain": [
              "0.99995"
            ]
          },
          "metadata": {
            "tags": []
          },
          "execution_count": 37
        }
      ]
    },
    {
      "cell_type": "markdown",
      "metadata": {
        "id": "a-bWtm0-Qq1_",
        "colab_type": "text"
      },
      "source": [
        "### Parameters"
      ]
    },
    {
      "cell_type": "markdown",
      "metadata": {
        "id": "KoxJPA7-Q0N_",
        "colab_type": "text"
      },
      "source": [
        "* The main parameters to be adjusted here are n_estimators and max_features.\n",
        "\n",
        "* n_estimators denotes the maximum number of trees in the forest.\n",
        "\n",
        "* Larger the better but also it will take much longer to train. \n",
        "\n",
        "* Note that beyond a certain number of trees the results will stop improving.\n",
        "\n",
        "* max_features is the size of the random subsets of features to consider when we are splitting a node.\n",
        "\n",
        "* Lower number of max_features results in greater reduction of variance, but increase in bias.\n",
        "\n",
        "* Empirically good values are max_features = None (considering all features) for regression problems.\n",
        "\n",
        "* Set max_features =  sqrt(n_features) for classification problems.\n",
        "\n",
        "* Keeping min_number of splits = 2 helps achieve better results. \n",
        "\n",
        "* Best parameters should be cross_validated.\n",
        "\n",
        "* In random forests by default we do the bootsrap sampling. Whereas in the extra trees we use the whole dataset with bootsrap = False\n",
        "\n",
        "* We may want to check for generalization using out of the bag samples for that we can set oob_score = True"
      ]
    },
    {
      "cell_type": "markdown",
      "metadata": {
        "id": "B4keijc9TBXb",
        "colab_type": "text"
      },
      "source": [
        "### Parallelization"
      ]
    },
    {
      "cell_type": "markdown",
      "metadata": {
        "id": "VMW5Hi0LTFJo",
        "colab_type": "text"
      },
      "source": [
        "* We can do construction and computation of predictions of trees parallely.\n",
        "* For this purpose use n_jobs parameter.\n",
        "* It is set to -1 to use maximum possible cores available.\n",
        "* Set it to use k cores for estimation.\n",
        "* By default it is set to 1.\n",
        "* This can lead to compuation speedup on large datasets with huge trees."
      ]
    },
    {
      "cell_type": "markdown",
      "metadata": {
        "id": "XMDtmewWMqrE",
        "colab_type": "text"
      },
      "source": [
        "### Feature Importance"
      ]
    },
    {
      "cell_type": "markdown",
      "metadata": {
        "id": "eD53MR7bMsvs",
        "colab_type": "text"
      },
      "source": [
        "* The relative rank of feature used in decision node in a tree can be used to assess the relative importance of the feature.\n",
        "\n",
        "* Features used at the top of the tree contribute to much larger extent than the features used at the bottom of the tree.\n",
        "\n",
        "* They are stored in ` feature_importances_  ` in the fitted model.\n",
        "\n",
        "* The values are in an array and all sum to 1. Higher the value, more the importance in contributing to the matching feature to the prediction."
      ]
    },
    {
      "cell_type": "markdown",
      "metadata": {
        "id": "zGBKTk6aNjw0",
        "colab_type": "text"
      },
      "source": [
        "## Method 3: Boosting"
      ]
    },
    {
      "cell_type": "markdown",
      "metadata": {
        "id": "i9YxUodUNohl",
        "colab_type": "text"
      },
      "source": [
        "### AdaBoost"
      ]
    },
    {
      "cell_type": "markdown",
      "metadata": {
        "id": "2uhq9LDxNqxc",
        "colab_type": "text"
      },
      "source": [
        "* Sklearn.ensemble contains the popular boosting algorithm known as AdaBoost.\n",
        "\n",
        "* Core principle of AdaBoost is to fit a sequence of weak learners. (models which are slightly better than random guessing) on repeatedly modified sequence of data.\n",
        "\n",
        "* The predictions from all of them are combined through a weighted majority vote (or sum) to produce the final prediction.\n",
        "\n",
        "* The data modifications at each step called as boosting iteration consist of applying weights $ w1, w2, w3, ...., wn $ to each of the trainingt samples.\n",
        "\n",
        "* Initially all weights are set to 1/N. At each stage sample weights are modified as the classifier learns.\n",
        "\n",
        "* At a given step, those training examples that were incorrectly predicted by the boosted model induced at the previous step have their weights increased, whereas the weights are decreased for those that were predicted incorrectly.\n",
        "\n",
        "* As iterations proceed, examples that are difficult to predict recieve ever-incfreasing influence. \n",
        "\n",
        "* Each subsequent weak learner is forced to concentrate on examples missed by the previous ones in the sequences."
      ]
    },
    {
      "cell_type": "code",
      "metadata": {
        "id": "H611j_PLQi32",
        "colab_type": "code",
        "colab": {}
      },
      "source": [
        "from sklearn.model_selection import cross_val_score\n",
        "from sklearn.datasets import load_iris\n",
        "from sklearn.ensemble import AdaBoostClassifier"
      ],
      "execution_count": 0,
      "outputs": []
    },
    {
      "cell_type": "code",
      "metadata": {
        "id": "-UIex19nNmtq",
        "colab_type": "code",
        "colab": {}
      },
      "source": [
        "iris = load_iris()\n",
        "X = iris.data\n",
        "Y = iris.target"
      ],
      "execution_count": 0,
      "outputs": []
    },
    {
      "cell_type": "code",
      "metadata": {
        "id": "oCZGfSN7Qa_9",
        "colab_type": "code",
        "outputId": "c49d97ef-1ed5-4513-baea-a86d60f15365",
        "colab": {
          "base_uri": "https://localhost:8080/"
        }
      },
      "source": [
        "clf = AdaBoostClassifier(n_estimators = 200, learning_rate = 0.75)\n",
        "clf = clf.fit(X,Y)\n",
        "scores = cross_val_score(clf, X, Y, cv=5, n_jobs = -1)\n",
        "print(scores.mean())"
      ],
      "execution_count": 0,
      "outputs": [
        {
          "output_type": "stream",
          "text": [
            "0.9533333333333334\n"
          ],
          "name": "stdout"
        }
      ]
    },
    {
      "cell_type": "markdown",
      "metadata": {
        "id": "wFYQmU0FRLDY",
        "colab_type": "text"
      },
      "source": [
        "#### Parameters"
      ]
    },
    {
      "cell_type": "markdown",
      "metadata": {
        "id": "2aD-79oyRNJ0",
        "colab_type": "text"
      },
      "source": [
        "* Number of weak learners is given by n_estimators.\n",
        "* Learning_rate controls the contribution of the weak learners in the final combination.\n",
        "* By default weak learners are decision stumps.\n",
        "* Different weak leaners can be passed through ` base_estimator ` parameter.\n",
        "* Main parameter to tune to obtain good results are `n_estimators ` parameter."
      ]
    },
    {
      "cell_type": "markdown",
      "metadata": {
        "id": "6X09O8BVSUr2",
        "colab_type": "text"
      },
      "source": [
        "### Gradient Tree Boosting"
      ]
    },
    {
      "cell_type": "markdown",
      "metadata": {
        "id": "mwJHoLNlctr_",
        "colab_type": "text"
      },
      "source": [
        "* Gradient Boosted Decision Trees is a generalization of boosting of arbitary differentiable loss functions.\n",
        "\n",
        "* GBRT is an accurate and effective of the shelf procedure useful for both regression and classification problems.\n",
        "\n",
        "* It handles the mix data very well. High predictive power and robust due to variety of loss functions available.\n",
        "\n",
        "* Disadvantage is that this technique cannot be parallelized. Hence, scalability is less."
      ]
    },
    {
      "cell_type": "markdown",
      "metadata": {
        "id": "ZKTTmatpfKlS",
        "colab_type": "text"
      },
      "source": [
        "#### Classification"
      ]
    },
    {
      "cell_type": "markdown",
      "metadata": {
        "id": "hegdUGHTfMv7",
        "colab_type": "text"
      },
      "source": [
        "` GradientBoostingClassifier ` supports both binary and multi class classification."
      ]
    },
    {
      "cell_type": "code",
      "metadata": {
        "id": "ts9-p699Qx5M",
        "colab_type": "code",
        "colab": {}
      },
      "source": [
        "from sklearn.datasets import make_hastie_10_2\n",
        "from sklearn.ensemble import GradientBoostingClassifier"
      ],
      "execution_count": 0,
      "outputs": []
    },
    {
      "cell_type": "code",
      "metadata": {
        "id": "FGMhNwb6f2aW",
        "colab_type": "code",
        "colab": {}
      },
      "source": [
        "X,Y = make_hastie_10_2(n_samples = 12000, random_state = 0)\n",
        "X_train, Y_train = X[:2000], Y[:2000]\n",
        "X_test, Y_test = X[2000:], Y[2000:]"
      ],
      "execution_count": 0,
      "outputs": []
    },
    {
      "cell_type": "code",
      "metadata": {
        "id": "2TtlbcOKgMZu",
        "colab_type": "code",
        "outputId": "9b547f3d-33d7-49de-81d8-eb01d050d578",
        "colab": {
          "base_uri": "https://localhost:8080/"
        }
      },
      "source": [
        "clf = GradientBoostingClassifier(n_estimators = 100, learning_rate=0.84, max_depth=5, random_state=31)\n",
        "clf.fit(X_train, Y_train)\n",
        "clf.score(X_test, Y_test)"
      ],
      "execution_count": 0,
      "outputs": [
        {
          "output_type": "execute_result",
          "data": {
            "text/plain": [
              "0.8984"
            ]
          },
          "metadata": {
            "tags": []
          },
          "execution_count": 43
        }
      ]
    },
    {
      "cell_type": "markdown",
      "metadata": {
        "id": "fnludzYDg0b4",
        "colab_type": "text"
      },
      "source": [
        "##### Parameters"
      ]
    },
    {
      "cell_type": "markdown",
      "metadata": {
        "id": "-_UdOOtGg6kN",
        "colab_type": "text"
      },
      "source": [
        "* The number of weak learners is controlled by parameter n_estimators. \n",
        "* The size of each tree can be controlled by setting the tree depth via max_depth or setting number of leaf nodes via max_leaf_nodes.\n",
        "* Learning rate is a hyperparameter between [0,1] that controlls overfitting.\n",
        "* Do not use this method for multi-class classification, it requires very high computation equal to n_classes * n_estimators.\n",
        "* For such cases use the ` RandomForestClassifier `"
      ]
    },
    {
      "cell_type": "markdown",
      "metadata": {
        "id": "-NUYA8vniSTa",
        "colab_type": "text"
      },
      "source": [
        "#### Regression"
      ]
    },
    {
      "cell_type": "markdown",
      "metadata": {
        "id": "A-ZzDpOxkXna",
        "colab_type": "text"
      },
      "source": [
        "* ` GradientBoostingRegression ` supports a number of loss functions for regression which can be specified via loss.\n",
        "* Default loss function is least squares ` ls `"
      ]
    },
    {
      "cell_type": "code",
      "metadata": {
        "id": "Z7ug-CK9geF4",
        "colab_type": "code",
        "colab": {}
      },
      "source": [
        "from sklearn.metrics import mean_squared_error\n",
        "from sklearn.datasets import make_friedman1\n",
        "from sklearn.ensemble import GradientBoostingRegressor"
      ],
      "execution_count": 0,
      "outputs": []
    },
    {
      "cell_type": "code",
      "metadata": {
        "id": "mgjQqn_lk3gM",
        "colab_type": "code",
        "colab": {}
      },
      "source": [
        "X,Y = make_friedman1(n_samples = 1200, n_features = 10, noise = 1.0, random_state = 31)\n",
        "X_train, X_test = X[:200], X[200:]\n",
        "Y_train, Y_test = Y[:200], Y[200:]"
      ],
      "execution_count": 0,
      "outputs": []
    },
    {
      "cell_type": "code",
      "metadata": {
        "id": "srZlps0NlIb2",
        "colab_type": "code",
        "outputId": "9bb522a0-6518-436f-f777-42e9b5645a11",
        "colab": {
          "base_uri": "https://localhost:8080/",
          "height": 36
        }
      },
      "source": [
        "regr = GradientBoostingRegressor(n_estimators=100, learning_rate = 0.3, max_depth = 3, random_state = 0, loss = 'ls')\n",
        "regr.fit(X_train, Y_train)\n",
        "mean_squared_error(Y_test, regr.predict(X_test))"
      ],
      "execution_count": 0,
      "outputs": [
        {
          "output_type": "execute_result",
          "data": {
            "text/plain": [
              "4.079040276417188"
            ]
          },
          "metadata": {
            "tags": []
          },
          "execution_count": 62
        }
      ]
    },
    {
      "cell_type": "markdown",
      "metadata": {
        "id": "tCZisJPzmQal",
        "colab_type": "text"
      },
      "source": [
        "#### Fitting additional Weak learners"
      ]
    },
    {
      "cell_type": "markdown",
      "metadata": {
        "id": "LzyLugJZmWq6",
        "colab_type": "text"
      },
      "source": [
        "Both `GradientBoostingRegressor` and `GradientBoostingClassifier` support ` warm_start = True ` which allow us to conviniently add more estimators to a fitted model. "
      ]
    },
    {
      "cell_type": "code",
      "metadata": {
        "id": "1WWEh4e0lfqe",
        "colab_type": "code",
        "outputId": "0a885685-1a86-4cff-e191-cf2e36ba3507",
        "colab": {
          "base_uri": "https://localhost:8080/",
          "height": 36
        }
      },
      "source": [
        "_ = regr.set_params(n_estimators = 200, warm_start = True)\n",
        "_ = regr.fit(X_train, Y_train)\n",
        "mean_squared_error(Y_test, regr.predict(X_test))"
      ],
      "execution_count": 0,
      "outputs": [
        {
          "output_type": "execute_result",
          "data": {
            "text/plain": [
              "4.0834700465073315"
            ]
          },
          "metadata": {
            "tags": []
          },
          "execution_count": 63
        }
      ]
    },
    {
      "cell_type": "markdown",
      "metadata": {
        "id": "9tLmTKtFnYWM",
        "colab_type": "text"
      },
      "source": [
        "## Method 4: Voting Classifiers"
      ]
    },
    {
      "cell_type": "markdown",
      "metadata": {
        "id": "GaPAJaxTvNWr",
        "colab_type": "text"
      },
      "source": [
        "In majority voting, the predicted class label for a particular sample is the class label that corresponds to majority node of class label predicted by the classifier."
      ]
    },
    {
      "cell_type": "markdown",
      "metadata": {
        "id": "nUa-xjXy19Ri",
        "colab_type": "text"
      },
      "source": [
        "### Hard Voting"
      ]
    },
    {
      "cell_type": "code",
      "metadata": {
        "id": "KfaVGBHfmy3f",
        "colab_type": "code",
        "colab": {}
      },
      "source": [
        "from sklearn import datasets\n",
        "from sklearn.model_selection import cross_val_score\n",
        "from sklearn.linear_model import LogisticRegression\n",
        "from sklearn.naive_bayes import GaussianNB\n",
        "from sklearn.ensemble import RandomForestClassifier\n",
        "from sklearn.ensemble import VotingClassifier"
      ],
      "execution_count": 0,
      "outputs": []
    },
    {
      "cell_type": "code",
      "metadata": {
        "id": "ZuheVEaGxOG5",
        "colab_type": "code",
        "colab": {}
      },
      "source": [
        "iris = datasets.load_iris()\n",
        "X,Y = iris.data[:,1:3], iris.target"
      ],
      "execution_count": 0,
      "outputs": []
    },
    {
      "cell_type": "code",
      "metadata": {
        "id": "Tjug1h7gx9Kj",
        "colab_type": "code",
        "colab": {}
      },
      "source": [
        "clf1 = LogisticRegression(solver = 'lbfgs', multi_class='multinomial', random_state=1)\n",
        "clf2 = RandomForestClassifier(n_estimators = 50, random_state = 1)\n",
        "clf3 = GaussianNB()\n",
        "\n",
        "eclf = VotingClassifier(estimators = [('lr', clf1), ('rf', clf2), ('gnb', clf3)], voting = 'hard')"
      ],
      "execution_count": 0,
      "outputs": []
    },
    {
      "cell_type": "code",
      "metadata": {
        "id": "NndeOaQWzYAb",
        "colab_type": "code",
        "colab": {
          "base_uri": "https://localhost:8080/",
          "height": 91
        },
        "outputId": "a1e5ed7d-a170-4dc5-fc52-287223bada75"
      },
      "source": [
        "for clf, label in zip([clf1, clf2, clf3, eclf], ['Logistic Regression', 'Random Forest', 'naive Bayes', 'Ensemble']):\n",
        "    scores = cross_val_score(clf, X, Y, cv=5, scoring='accuracy')\n",
        "    print(\"Accuracy: %0.2f (+/- %0.2f) [%s]\" % (scores.mean(), scores.std(), label))"
      ],
      "execution_count": 72,
      "outputs": [
        {
          "output_type": "stream",
          "text": [
            "Accuracy: 0.95 (+/- 0.04) [Logistic Regression]\n",
            "Accuracy: 0.94 (+/- 0.04) [Random Forest]\n",
            "Accuracy: 0.91 (+/- 0.04) [naive Bayes]\n",
            "Accuracy: 0.95 (+/- 0.04) [Ensemble]\n"
          ],
          "name": "stdout"
        }
      ]
    },
    {
      "cell_type": "markdown",
      "metadata": {
        "id": "BzXS6O-M2AFs",
        "colab_type": "text"
      },
      "source": [
        "### Soft Voting"
      ]
    },
    {
      "cell_type": "markdown",
      "metadata": {
        "id": "MvV9We1h2MC3",
        "colab_type": "text"
      },
      "source": [
        "In soft voting we return the class label as argmax of the sum of predicted probabilities"
      ]
    },
    {
      "cell_type": "markdown",
      "metadata": {
        "id": "0TKz2rRf2ZhL",
        "colab_type": "text"
      },
      "source": [
        "* Specific weights are assgined using the ` weights ` parameter.\n",
        "* When weights are provided the predicted class probabilities are collected, multiplied by the weights and then averaged.\n",
        "* Final class label is the one with maximum average probability."
      ]
    },
    {
      "cell_type": "markdown",
      "metadata": {
        "id": "aOUUF43b2vpg",
        "colab_type": "text"
      },
      "source": [
        "* classifier \t|  class 1 \t   |    class 2 \t|  class 3\n",
        "* classifier 1 \t|   $w1$ * 0.2 |\t$w1$ * 0.5  |\t$w1$ * 0.3\n",
        "* classifier 2 \t|   $w2$ * 0.6 |\t$w2$ * 0.3  |\t$w2$ * 0.1\n",
        "* classifier 3 \t|   $w3$ * 0.3 |\t$w3$ * 0.4  |\t$w3$ * 0.3\n",
        "* weighted average \t0.37 \t   |     0.4 \t    |   0.23\n"
      ]
    },
    {
      "cell_type": "markdown",
      "metadata": {
        "id": "f67PcSCF3lat",
        "colab_type": "text"
      },
      "source": [
        "Here predicted class is 2. Since it has highest probability"
      ]
    },
    {
      "cell_type": "code",
      "metadata": {
        "id": "7JnGL6Rfzih7",
        "colab_type": "code",
        "colab": {}
      },
      "source": [
        "from sklearn import datasets\n",
        "from sklearn.tree import DecisionTreeClassifier\n",
        "from sklearn.neighbors import KNeighborsClassifier\n",
        "from sklearn.svm import SVC\n",
        "from sklearn.ensemble import VotingClassifier"
      ],
      "execution_count": 0,
      "outputs": []
    },
    {
      "cell_type": "code",
      "metadata": {
        "id": "BG4UEiFN57Dq",
        "colab_type": "code",
        "colab": {}
      },
      "source": [
        "iris = datasets.load_iris()\n",
        "# Loading data.....\n",
        "X = iris.data[:,[0,2]]\n",
        "Y = iris.target\n",
        "\n",
        "# Create a bunch of classifiers\n",
        "clf1 = DecisionTreeClassifier(max_depth=4)\n",
        "clf2 = KNeighborsClassifier(n_neighbors = 2)\n",
        "clf3 = SVC(gamma = 'scale', kernel = 'rbf', probability=True)\n",
        "eclf = VotingClassifier(estimators = [('dt', clf1), ('knn', clf2), ('svc', clf3)], voting='soft', n_jobs=-1)\n"
      ],
      "execution_count": 0,
      "outputs": []
    },
    {
      "cell_type": "code",
      "metadata": {
        "id": "dBzk0oIe7CDC",
        "colab_type": "code",
        "colab": {}
      },
      "source": [
        "clf1 = clf1.fit(X,Y)\n",
        "clf2 = clf2.fit(X,Y)\n",
        "clf3 = clf3.fit(X,Y)\n",
        "eclf = eclf.fit(X,Y)"
      ],
      "execution_count": 0,
      "outputs": []
    },
    {
      "cell_type": "markdown",
      "metadata": {
        "id": "-zKkz32K5Cyk",
        "colab_type": "text"
      },
      "source": [
        "\n",
        "![image.png](data:image/png;base64,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)"
      ]
    },
    {
      "cell_type": "markdown",
      "metadata": {
        "id": "wd_FI6UfD7SI",
        "colab_type": "text"
      },
      "source": [
        "### Using GridSearchCV"
      ]
    },
    {
      "cell_type": "code",
      "metadata": {
        "id": "xQ1MMzweD_w0",
        "colab_type": "code",
        "colab": {}
      },
      "source": [
        "from sklearn.model_selection import GridSearchCV\n",
        "clf1 = LogisticRegression(solver = 'lbfgs', multi_class='multinomial', random_state=1)\n",
        "clf2 = RandomForestClassifier(random_state=1)\n",
        "clf3 = GaussianNB()\n",
        "enclf = VotingClassifier(estimators = [('lr', clf1), ('rfc', clf2), ('gnb', clf3)], voting = 'soft')"
      ],
      "execution_count": 0,
      "outputs": []
    },
    {
      "cell_type": "code",
      "metadata": {
        "id": "9E3nO3hUExCk",
        "colab_type": "code",
        "colab": {}
      },
      "source": [
        "params = {'lr__C':[1.0,100.0], 'rfc__n_estimators' :  [20,200]}"
      ],
      "execution_count": 0,
      "outputs": []
    },
    {
      "cell_type": "code",
      "metadata": {
        "id": "fd2lslxJFcFM",
        "colab_type": "code",
        "colab": {}
      },
      "source": [
        "grid = GridSearchCV(estimator = enclf, param_grid = params, cv = 5)"
      ],
      "execution_count": 0,
      "outputs": []
    },
    {
      "cell_type": "code",
      "metadata": {
        "id": "5UOiL_zzFcW_",
        "colab_type": "code",
        "colab": {}
      },
      "source": [
        "grid = grid.fit(iris.data, iris.target)"
      ],
      "execution_count": 0,
      "outputs": []
    },
    {
      "cell_type": "markdown",
      "metadata": {
        "id": "sxl8gu4J8jBB",
        "colab_type": "text"
      },
      "source": [
        "## Method 5: Voting Regressors"
      ]
    },
    {
      "cell_type": "markdown",
      "metadata": {
        "id": "eiidSgW7Gw4q",
        "colab_type": "text"
      },
      "source": [
        "* The idea behind Voting Regressor is to combine conceptually different machine learning regressors and return the average predicted values.\n",
        "\n",
        "* Such a regressor can be powerful and perform equally well in order to balance out each others weaknesses"
      ]
    },
    {
      "cell_type": "code",
      "metadata": {
        "id": "6RTlKKXN6HKs",
        "colab_type": "code",
        "colab": {}
      },
      "source": [
        "from sklearn import datasets\n",
        "from sklearn.ensemble import GradientBoostingRegressor\n",
        "from sklearn.ensemble import RandomForestRegressor\n",
        "from sklearn.linear_model import LinearRegression\n",
        "from sklearn.ensemble import VotingRegressor"
      ],
      "execution_count": 0,
      "outputs": []
    },
    {
      "cell_type": "code",
      "metadata": {
        "id": "nqx7u-9KHZrM",
        "colab_type": "code",
        "colab": {}
      },
      "source": [
        "boston = datasets.load_boston()\n",
        "X = boston.data\n",
        "Y = boston.target"
      ],
      "execution_count": 0,
      "outputs": []
    },
    {
      "cell_type": "code",
      "metadata": {
        "id": "X5P95vHTHiJJ",
        "colab_type": "code",
        "colab": {}
      },
      "source": [
        "reg1 = GradientBoostingRegressor(loss = 'ls', n_estimators = 100, random_state=1, learning_rate = 0.1)\n",
        "reg2 = RandomForestRegressor(n_estimators=50, criterion='mse', max_depth = 5)\n",
        "reg3 = LinearRegression(n_jobs = -1)\n",
        "ereg = VotingRegressor(estimators=[('gb', reg1), ('rf', reg2), ('lr', reg3)])"
      ],
      "execution_count": 0,
      "outputs": []
    },
    {
      "cell_type": "code",
      "metadata": {
        "id": "r6Q4sJv5Hu6J",
        "colab_type": "code",
        "colab": {}
      },
      "source": [
        "ereg = ereg.fit(X,Y)"
      ],
      "execution_count": 0,
      "outputs": []
    },
    {
      "cell_type": "code",
      "metadata": {
        "id": "sRTVOhI2IFg5",
        "colab_type": "code",
        "colab": {
          "base_uri": "https://localhost:8080/",
          "height": 278
        },
        "outputId": "009ce788-d397-4608-a79e-7b04e34a2103"
      },
      "source": [
        "reg1.fit(X, Y)\n",
        "reg2.fit(X, Y)\n",
        "reg3.fit(X, Y)\n",
        "ereg.fit(X, Y)\n",
        "# Doing for first 20 values\n",
        "xt = X[:20]\n",
        "# True Y values\n",
        "yt = Y[:20]\n",
        "plt.figure()\n",
        "plt.plot(reg1.predict(xt), 'gd', label='GradientBoostingRegressor')\n",
        "plt.plot(reg2.predict(xt), 'b^', label='RandomForestRegressor')\n",
        "plt.plot(reg3.predict(xt), 'ys', label='LinearRegression')\n",
        "plt.plot(ereg.predict(xt), 'r*', label='VotingRegressor')\n",
        "plt.plot(yt, 'ok', label = 'True-value')\n",
        "plt.tick_params(axis='x', which='both', bottom=False, top=False,\n",
        "                labelbottom=False)\n",
        "plt.ylabel('predicted')\n",
        "plt.xlabel('training samples')\n",
        "plt.legend(loc=\"best\")\n",
        "plt.title('Comparison of individual predictions with averaged')\n",
        "plt.show()"
      ],
      "execution_count": 101,
      "outputs": [
        {
          "output_type": "display_data",
          "data": {
            "image/png": "[encoded data removed]",
            "text/plain": [
              "<Figure size 432x288 with 1 Axes>"
            ]
          },
          "metadata": {
            "tags": []
          }
        }
      ]
    },
    {
      "cell_type": "code",
      "metadata": {
        "id": "coZ8pKFTIdR7",
        "colab_type": "code",
        "colab": {
          "base_uri": "https://localhost:8080/",
          "height": 278
        },
        "outputId": "90945aec-d024-4f38-a41d-85d66a47ceba"
      },
      "source": [
        "plt.figure()\n",
        "plt.plot(reg1.predict(xt), 'g', label='GradientBoostingRegressor')\n",
        "plt.plot(reg2.predict(xt), 'b', label='RandomForestRegressor')\n",
        "plt.plot(reg3.predict(xt), 'y', label='LinearRegression')\n",
        "plt.plot(ereg.predict(xt), 'r', label='VotingRegressor')\n",
        "plt.plot(yt, 'k', label = 'True-value')\n",
        "plt.tick_params(axis='x', which='both', bottom=False, top=False,\n",
        "                labelbottom=False)\n",
        "plt.ylabel('predicted')\n",
        "plt.xlabel('training samples')\n",
        "plt.legend(loc=\"best\")\n",
        "plt.title('Comparison of individual predictions with averaged')\n",
        "plt.show()"
      ],
      "execution_count": 102,
      "outputs": [
        {
          "output_type": "display_data",
          "data": {
            "image/png": "[encoded data removed]",
            "text/plain": [
              "<Figure size 432x288 with 1 Axes>"
            ]
          },
          "metadata": {
            "tags": []
          }
        }
      ]
    },
    {
      "cell_type": "code",
      "metadata": {
        "id": "Jy1XurzQI9A-",
        "colab_type": "code",
        "colab": {}
      },
      "source": [
        ""
      ],
      "execution_count": 0,
      "outputs": []
    }
  ]
}