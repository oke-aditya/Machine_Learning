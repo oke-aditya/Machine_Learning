{
  "nbformat": 4,
  "nbformat_minor": 0,
  "metadata": {
    "colab": {
      "name": "AutoML_AutoGluon",
      "provenance": []
    },
    "kernelspec": {
      "name": "python3",
      "display_name": "Python 3"
    },
    "accelerator": "GPU"
  },
  "cells": [
    {
      "cell_type": "markdown",
      "metadata": {
        "id": "w2vB3ScST_Gp",
        "colab_type": "text"
      },
      "source": [
        "# Using AutoGluon for AutoML\n",
        "\n",
        "\n"
      ]
    },
    {
      "cell_type": "markdown",
      "metadata": {
        "id": "dcPq1ABJbmTu",
        "colab_type": "text"
      },
      "source": [
        "- This is a package developed by AWS.\n",
        "- It is used for deep learning operations.\n",
        "- Project details = [https://autogluon.mxnet.io/](https://autogluon.mxnet.io/)\n",
        "- Uses YOLO v3 for object detection. Does a transfer learning.\n",
        "- Used to automatically do image classification, object detection etc\n",
        "- Work for text and tabular data as well.\n",
        "- It uses the mxnet framework for deep learning.\n",
        "- Can use even Neural Architecture Search. "
      ]
    },
    {
      "cell_type": "markdown",
      "metadata": {
        "id": "RBYgGiPkcleN",
        "colab_type": "text"
      },
      "source": [
        "# Install AutoGluon"
      ]
    },
    {
      "cell_type": "markdown",
      "metadata": {
        "id": "CDskTpUsIXIH",
        "colab_type": "text"
      },
      "source": [
        "- Please do not reverse the order of the cells.\n",
        "- Execute in this way only"
      ]
    },
    {
      "cell_type": "code",
      "metadata": {
        "id": "0eyCtSEncSVP",
        "colab_type": "code",
        "colab": {}
      },
      "source": [
        "! nvidia-smi"
      ],
      "execution_count": 0,
      "outputs": []
    },
    {
      "cell_type": "code",
      "metadata": {
        "id": "O_8H0GUQbp0I",
        "colab_type": "code",
        "colab": {}
      },
      "source": [
        "pip uninstall -y mkl"
      ],
      "execution_count": 0,
      "outputs": []
    },
    {
      "cell_type": "code",
      "metadata": {
        "id": "koIpPGxTSwav",
        "colab_type": "code",
        "colab": {}
      },
      "source": [
        "pip install --upgrade mxnet"
      ],
      "execution_count": 0,
      "outputs": []
    },
    {
      "cell_type": "code",
      "metadata": {
        "id": "NPnZkOMuS0Gj",
        "colab_type": "code",
        "colab": {}
      },
      "source": [
        "pip install autogluon"
      ],
      "execution_count": 0,
      "outputs": []
    },
    {
      "cell_type": "code",
      "metadata": {
        "id": "VWX0kgL2r7Fs",
        "colab_type": "code",
        "colab": {}
      },
      "source": [
        "pip install -U ipykernel"
      ],
      "execution_count": 0,
      "outputs": []
    },
    {
      "cell_type": "markdown",
      "metadata": {
        "id": "mF6tWngdI0-N",
        "colab_type": "text"
      },
      "source": [
        "- Restart Colab Runtime, then execute remaining cells"
      ]
    },
    {
      "cell_type": "markdown",
      "metadata": {
        "id": "aN1LAkcKcpGA",
        "colab_type": "text"
      },
      "source": [
        "# Time to use it"
      ]
    },
    {
      "cell_type": "code",
      "metadata": {
        "id": "qBiI8MNBJLMr",
        "colab_type": "code",
        "colab": {}
      },
      "source": [
        "import autogluon as ag"
      ],
      "execution_count": 0,
      "outputs": []
    },
    {
      "cell_type": "code",
      "metadata": {
        "id": "-iLhRv4Ae_5-",
        "colab_type": "code",
        "colab": {}
      },
      "source": [
        "import pandas as pd\n",
        "import numpy as np\n",
        "import os, urllib"
      ],
      "execution_count": 0,
      "outputs": []
    },
    {
      "cell_type": "code",
      "metadata": {
        "id": "2MR35ZtBg9kk",
        "colab_type": "code",
        "colab": {}
      },
      "source": [
        "from autogluon import TabularPrediction as task"
      ],
      "execution_count": 0,
      "outputs": []
    },
    {
      "cell_type": "code",
      "metadata": {
        "id": "VujpjQEsPVCW",
        "colab_type": "code",
        "colab": {}
      },
      "source": [
        "BASE_DIR = '/tmp'\n",
        "OUTPUT_FILE = os.path.join(BASE_DIR, 'churn_data.csv')"
      ],
      "execution_count": 0,
      "outputs": []
    },
    {
      "cell_type": "code",
      "metadata": {
        "id": "2TiWTtYUPcZM",
        "colab_type": "code",
        "colab": {}
      },
      "source": [
        "churn_data = urllib.request.urlretrieve('https://raw.githubusercontent.com/srivatsan88/YouTubeLI/master/dataset/WA_Fn-UseC_-Telco-Customer-Churn.csv', OUTPUT_FILE)"
      ],
      "execution_count": 0,
      "outputs": []
    },
    {
      "cell_type": "code",
      "metadata": {
        "id": "4PINcXGkQPF7",
        "colab_type": "code",
        "colab": {}
      },
      "source": [
        "churn_master_df = pd.read_csv(OUTPUT_FILE)"
      ],
      "execution_count": 0,
      "outputs": []
    },
    {
      "cell_type": "code",
      "metadata": {
        "id": "KD__NqBQQVUx",
        "colab_type": "code",
        "colab": {}
      },
      "source": [
        "size = int(0.8 * len(churn_master_df))\n",
        "train_df = churn_master_df[:size]\n",
        "test_df = churn_master_df[size:]"
      ],
      "execution_count": 0,
      "outputs": []
    },
    {
      "cell_type": "code",
      "metadata": {
        "id": "3a6hL0B7QhqO",
        "colab_type": "code",
        "colab": {
          "base_uri": "https://localhost:8080/",
          "height": 35
        },
        "outputId": "11b47fc9-c50d-4b60-fd6b-85bb75c88af0"
      },
      "source": [
        "test_df.shape"
      ],
      "execution_count": 10,
      "outputs": [
        {
          "output_type": "execute_result",
          "data": {
            "text/plain": [
              "(1409, 21)"
            ]
          },
          "metadata": {
            "tags": []
          },
          "execution_count": 10
        }
      ]
    },
    {
      "cell_type": "code",
      "metadata": {
        "id": "eF0XTl92Qmcb",
        "colab_type": "code",
        "colab": {
          "base_uri": "https://localhost:8080/",
          "height": 35
        },
        "outputId": "950e82a5-fdd4-4534-ce1c-c461163e200a"
      },
      "source": [
        "train_df.shape"
      ],
      "execution_count": 11,
      "outputs": [
        {
          "output_type": "execute_result",
          "data": {
            "text/plain": [
              "(5634, 21)"
            ]
          },
          "metadata": {
            "tags": []
          },
          "execution_count": 11
        }
      ]
    },
    {
      "cell_type": "code",
      "metadata": {
        "id": "S2zPSfZ7QoTM",
        "colab_type": "code",
        "colab": {
          "base_uri": "https://localhost:8080/",
          "height": 216
        },
        "outputId": "ad8b91b6-6064-437c-888b-c1913dff945d"
      },
      "source": [
        "train_df.head(3)"
      ],
      "execution_count": 12,
      "outputs": [
        {
          "output_type": "execute_result",
          "data": {
            "text/html": [
              "<div>\n",
              "<style scoped>\n",
              "    .dataframe tbody tr th:only-of-type {\n",
              "        vertical-align: middle;\n",
              "    }\n",
              "\n",
              "    .dataframe tbody tr th {\n",
              "        vertical-align: top;\n",
              "    }\n",
              "\n",
              "    .dataframe thead th {\n",
              "        text-align: right;\n",
              "    }\n",
              "</style>\n",
              "<table border=\"1\" class=\"dataframe\">\n",
              "  <thead>\n",
              "    <tr style=\"text-align: right;\">\n",
              "      <th></th>\n",
              "      <th>customerID</th>\n",
              "      <th>gender</th>\n",
              "      <th>SeniorCitizen</th>\n",
              "      <th>Partner</th>\n",
              "      <th>Dependents</th>\n",
              "      <th>tenure</th>\n",
              "      <th>PhoneService</th>\n",
              "      <th>MultipleLines</th>\n",
              "      <th>InternetService</th>\n",
              "      <th>OnlineSecurity</th>\n",
              "      <th>OnlineBackup</th>\n",
              "      <th>DeviceProtection</th>\n",
              "      <th>TechSupport</th>\n",
              "      <th>StreamingTV</th>\n",
              "      <th>StreamingMovies</th>\n",
              "      <th>Contract</th>\n",
              "      <th>PaperlessBilling</th>\n",
              "      <th>PaymentMethod</th>\n",
              "      <th>MonthlyCharges</th>\n",
              "      <th>TotalCharges</th>\n",
              "      <th>Churn</th>\n",
              "    </tr>\n",
              "  </thead>\n",
              "  <tbody>\n",
              "    <tr>\n",
              "      <th>0</th>\n",
              "      <td>7590-VHVEG</td>\n",
              "      <td>Female</td>\n",
              "      <td>0</td>\n",
              "      <td>Yes</td>\n",
              "      <td>No</td>\n",
              "      <td>1</td>\n",
              "      <td>No</td>\n",
              "      <td>No phone service</td>\n",
              "      <td>DSL</td>\n",
              "      <td>No</td>\n",
              "      <td>Yes</td>\n",
              "      <td>No</td>\n",
              "      <td>No</td>\n",
              "      <td>No</td>\n",
              "      <td>No</td>\n",
              "      <td>Month-to-month</td>\n",
              "      <td>Yes</td>\n",
              "      <td>Electronic check</td>\n",
              "      <td>29.85</td>\n",
              "      <td>29.85</td>\n",
              "      <td>No</td>\n",
              "    </tr>\n",
              "    <tr>\n",
              "      <th>1</th>\n",
              "      <td>5575-GNVDE</td>\n",
              "      <td>Male</td>\n",
              "      <td>0</td>\n",
              "      <td>No</td>\n",
              "      <td>No</td>\n",
              "      <td>34</td>\n",
              "      <td>Yes</td>\n",
              "      <td>No</td>\n",
              "      <td>DSL</td>\n",
              "      <td>Yes</td>\n",
              "      <td>No</td>\n",
              "      <td>Yes</td>\n",
              "      <td>No</td>\n",
              "      <td>No</td>\n",
              "      <td>No</td>\n",
              "      <td>One year</td>\n",
              "      <td>No</td>\n",
              "      <td>Mailed check</td>\n",
              "      <td>56.95</td>\n",
              "      <td>1889.5</td>\n",
              "      <td>No</td>\n",
              "    </tr>\n",
              "    <tr>\n",
              "      <th>2</th>\n",
              "      <td>3668-QPYBK</td>\n",
              "      <td>Male</td>\n",
              "      <td>0</td>\n",
              "      <td>No</td>\n",
              "      <td>No</td>\n",
              "      <td>2</td>\n",
              "      <td>Yes</td>\n",
              "      <td>No</td>\n",
              "      <td>DSL</td>\n",
              "      <td>Yes</td>\n",
              "      <td>Yes</td>\n",
              "      <td>No</td>\n",
              "      <td>No</td>\n",
              "      <td>No</td>\n",
              "      <td>No</td>\n",
              "      <td>Month-to-month</td>\n",
              "      <td>Yes</td>\n",
              "      <td>Mailed check</td>\n",
              "      <td>53.85</td>\n",
              "      <td>108.15</td>\n",
              "      <td>Yes</td>\n",
              "    </tr>\n",
              "  </tbody>\n",
              "</table>\n",
              "</div>"
            ],
            "text/plain": [
              "   customerID  gender  SeniorCitizen  ... MonthlyCharges TotalCharges  Churn\n",
              "0  7590-VHVEG  Female              0  ...          29.85        29.85     No\n",
              "1  5575-GNVDE    Male              0  ...          56.95       1889.5     No\n",
              "2  3668-QPYBK    Male              0  ...          53.85       108.15    Yes\n",
              "\n",
              "[3 rows x 21 columns]"
            ]
          },
          "metadata": {
            "tags": []
          },
          "execution_count": 12
        }
      ]
    },
    {
      "cell_type": "markdown",
      "metadata": {
        "id": "uqRdHOpdQyid",
        "colab_type": "text"
      },
      "source": [
        "# Use the dataset object to train and predict"
      ]
    },
    {
      "cell_type": "markdown",
      "metadata": {
        "id": "ICa9q6qdQ1oT",
        "colab_type": "text"
      },
      "source": [
        "- Dataset can take pandas df, csv or dict.\n",
        "- This will create an autogluon dataset "
      ]
    },
    {
      "cell_type": "code",
      "metadata": {
        "id": "GaZOV0N0QsjA",
        "colab_type": "code",
        "colab": {}
      },
      "source": [
        "train_data = task.Dataset(df=train_df)\n",
        "test_data = task.Dataset(df=test_df)"
      ],
      "execution_count": 0,
      "outputs": []
    },
    {
      "cell_type": "code",
      "metadata": {
        "id": "n9d0Dl-tRDKl",
        "colab_type": "code",
        "colab": {}
      },
      "source": [
        "train_data.head(3)"
      ],
      "execution_count": 0,
      "outputs": []
    },
    {
      "cell_type": "code",
      "metadata": {
        "id": "8OymIYuORJgI",
        "colab_type": "code",
        "colab": {}
      },
      "source": [
        "train_data.describe()"
      ],
      "execution_count": 0,
      "outputs": []
    },
    {
      "cell_type": "code",
      "metadata": {
        "id": "olX_lCaORPFW",
        "colab_type": "code",
        "colab": {
          "base_uri": "https://localhost:8080/",
          "height": 109
        },
        "outputId": "68f3a63c-3243-4263-e9d5-6e2ffbab2a58"
      },
      "source": [
        "pred_column = 'Churn'\n",
        "train_data[pred_column].describe()"
      ],
      "execution_count": 27,
      "outputs": [
        {
          "output_type": "execute_result",
          "data": {
            "text/plain": [
              "count     5634\n",
              "unique       2\n",
              "top         No\n",
              "freq      4146\n",
              "Name: Churn, dtype: object"
            ]
          },
          "metadata": {
            "tags": []
          },
          "execution_count": 27
        }
      ]
    },
    {
      "cell_type": "code",
      "metadata": {
        "id": "QKgUhYW3RlPb",
        "colab_type": "code",
        "colab": {
          "base_uri": "https://localhost:8080/",
          "height": 1000
        },
        "outputId": "34d6eef6-321f-4523-87ed-8309fe383885"
      },
      "source": [
        "predictor = task.fit(train_data=train_data, label=pred_column, eval_metric='accuracy')"
      ],
      "execution_count": 20,
      "outputs": [
        {
          "output_type": "stream",
          "text": [
            "No output_directory specified. Models will be saved in: AutogluonModels/ag-20200325_104102/\n",
            "Beginning AutoGluon training ...\n",
            "AutoGluon will save models to AutogluonModels/ag-20200325_104102/\n",
            "Train Data Rows:    5634\n",
            "Train Data Columns: 21\n",
            "Preprocessing data ...\n",
            "Here are the first 10 unique label values in your data:  ['No' 'Yes']\n",
            "AutoGluon infers your prediction problem is: binary  (because only two unique label-values observed)\n",
            "If this is wrong, please specify `problem_type` argument in fit() instead (You may specify problem_type as one of: ['binary', 'multiclass', 'regression'])\n",
            "\n",
            "Selected class <--> label mapping:  class 1 = Yes, class 0 = No\n",
            "Feature Generator processed 5634 data points with 20 features\n",
            "Original Features:\n",
            "\tobject features: 17\n",
            "\tint features: 2\n",
            "\tfloat features: 1\n",
            "Generated Features:\n",
            "\tint features: 0\n",
            "All Features:\n",
            "\tobject features: 17\n",
            "\tint features: 2\n",
            "\tfloat features: 1\n",
            "\tData preprocessing and feature engineering runtime = 0.19s ...\n",
            "AutoGluon will gauge predictive performance using evaluation metric: accuracy\n",
            "To change this, specify the eval_metric argument of fit()\n",
            "AutoGluon will early stop models using evaluation metric: accuracy\n",
            "Fitting model: RandomForestClassifierGini ...\n",
            "\t0.7819\t = Validation accuracy score\n",
            "\t1.54s\t = Training runtime\n",
            "\t0.12s\t = Validation runtime\n",
            "Fitting model: RandomForestClassifierEntr ...\n",
            "\t0.7784\t = Validation accuracy score\n",
            "\t2.03s\t = Training runtime\n",
            "\t0.12s\t = Validation runtime\n",
            "Fitting model: ExtraTreesClassifierGini ...\n",
            "\t0.7677\t = Validation accuracy score\n",
            "\t1.34s\t = Training runtime\n",
            "\t0.12s\t = Validation runtime\n",
            "Fitting model: ExtraTreesClassifierEntr ...\n",
            "\t0.7677\t = Validation accuracy score\n",
            "\t1.43s\t = Training runtime\n",
            "\t0.12s\t = Validation runtime\n",
            "Fitting model: KNeighborsClassifierUnif ...\n",
            "\t0.773\t = Validation accuracy score\n",
            "\t0.05s\t = Training runtime\n",
            "\t0.12s\t = Validation runtime\n",
            "Fitting model: KNeighborsClassifierDist ...\n",
            "\t0.7411\t = Validation accuracy score\n",
            "\t0.02s\t = Training runtime\n",
            "\t0.11s\t = Validation runtime\n",
            "Fitting model: LightGBMClassifier ...\n",
            "\t0.789\t = Validation accuracy score\n",
            "\t0.79s\t = Training runtime\n",
            "\t0.02s\t = Validation runtime\n",
            "Fitting model: CatboostClassifier ...\n",
            "\t0.7996\t = Validation accuracy score\n",
            "\t3.28s\t = Training runtime\n",
            "\t0.03s\t = Validation runtime\n",
            "Fitting model: NeuralNetClassifier ...\n",
            "\t0.7784\t = Validation accuracy score\n",
            "\t19.15s\t = Training runtime\n",
            "\t0.26s\t = Validation runtime\n",
            "Fitting model: LightGBMClassifierCustom ...\n",
            "\t0.7784\t = Validation accuracy score\n",
            "\t1.12s\t = Training runtime\n",
            "\t0.03s\t = Validation runtime\n",
            "Fitting model: weighted_ensemble_k0_l1 ...\n",
            "\t0.7996\t = Validation accuracy score\n",
            "\t0.55s\t = Training runtime\n",
            "\t0.0s\t = Validation runtime\n",
            "AutoGluon training complete, total runtime = 34.92s ...\n"
          ],
          "name": "stderr"
        }
      ]
    },
    {
      "cell_type": "code",
      "metadata": {
        "id": "Fm3m5-SwR7U6",
        "colab_type": "code",
        "colab": {}
      },
      "source": [
        "y_test = test_data[pred_column]\n",
        "test_data.drop(labels=[pred_column], axis=1, inplace=True)"
      ],
      "execution_count": 0,
      "outputs": []
    },
    {
      "cell_type": "code",
      "metadata": {
        "id": "jTXtpTxuSd9n",
        "colab_type": "code",
        "colab": {
          "base_uri": "https://localhost:8080/",
          "height": 313
        },
        "outputId": "a5f0a9cf-bd58-4459-ac8a-5bd5f0490a02"
      },
      "source": [
        "test_data.head()"
      ],
      "execution_count": 29,
      "outputs": [
        {
          "output_type": "execute_result",
          "data": {
            "text/html": [
              "<div>\n",
              "<style scoped>\n",
              "    .dataframe tbody tr th:only-of-type {\n",
              "        vertical-align: middle;\n",
              "    }\n",
              "\n",
              "    .dataframe tbody tr th {\n",
              "        vertical-align: top;\n",
              "    }\n",
              "\n",
              "    .dataframe thead th {\n",
              "        text-align: right;\n",
              "    }\n",
              "</style>\n",
              "<table border=\"1\" class=\"dataframe\">\n",
              "  <thead>\n",
              "    <tr style=\"text-align: right;\">\n",
              "      <th></th>\n",
              "      <th>customerID</th>\n",
              "      <th>gender</th>\n",
              "      <th>SeniorCitizen</th>\n",
              "      <th>Partner</th>\n",
              "      <th>Dependents</th>\n",
              "      <th>tenure</th>\n",
              "      <th>PhoneService</th>\n",
              "      <th>MultipleLines</th>\n",
              "      <th>InternetService</th>\n",
              "      <th>OnlineSecurity</th>\n",
              "      <th>OnlineBackup</th>\n",
              "      <th>DeviceProtection</th>\n",
              "      <th>TechSupport</th>\n",
              "      <th>StreamingTV</th>\n",
              "      <th>StreamingMovies</th>\n",
              "      <th>Contract</th>\n",
              "      <th>PaperlessBilling</th>\n",
              "      <th>PaymentMethod</th>\n",
              "      <th>MonthlyCharges</th>\n",
              "      <th>TotalCharges</th>\n",
              "    </tr>\n",
              "  </thead>\n",
              "  <tbody>\n",
              "    <tr>\n",
              "      <th>5634</th>\n",
              "      <td>2320-JRSDE</td>\n",
              "      <td>Female</td>\n",
              "      <td>0</td>\n",
              "      <td>Yes</td>\n",
              "      <td>Yes</td>\n",
              "      <td>1</td>\n",
              "      <td>Yes</td>\n",
              "      <td>No</td>\n",
              "      <td>No</td>\n",
              "      <td>No internet service</td>\n",
              "      <td>No internet service</td>\n",
              "      <td>No internet service</td>\n",
              "      <td>No internet service</td>\n",
              "      <td>No internet service</td>\n",
              "      <td>No internet service</td>\n",
              "      <td>Month-to-month</td>\n",
              "      <td>Yes</td>\n",
              "      <td>Electronic check</td>\n",
              "      <td>19.90</td>\n",
              "      <td>19.9</td>\n",
              "    </tr>\n",
              "    <tr>\n",
              "      <th>5635</th>\n",
              "      <td>2087-QAREY</td>\n",
              "      <td>Female</td>\n",
              "      <td>0</td>\n",
              "      <td>Yes</td>\n",
              "      <td>No</td>\n",
              "      <td>22</td>\n",
              "      <td>Yes</td>\n",
              "      <td>No</td>\n",
              "      <td>DSL</td>\n",
              "      <td>No</td>\n",
              "      <td>Yes</td>\n",
              "      <td>Yes</td>\n",
              "      <td>No</td>\n",
              "      <td>No</td>\n",
              "      <td>No</td>\n",
              "      <td>Month-to-month</td>\n",
              "      <td>Yes</td>\n",
              "      <td>Mailed check</td>\n",
              "      <td>54.70</td>\n",
              "      <td>1178.75</td>\n",
              "    </tr>\n",
              "    <tr>\n",
              "      <th>5636</th>\n",
              "      <td>0601-WZHJF</td>\n",
              "      <td>Male</td>\n",
              "      <td>0</td>\n",
              "      <td>Yes</td>\n",
              "      <td>No</td>\n",
              "      <td>14</td>\n",
              "      <td>No</td>\n",
              "      <td>No phone service</td>\n",
              "      <td>DSL</td>\n",
              "      <td>No</td>\n",
              "      <td>No</td>\n",
              "      <td>No</td>\n",
              "      <td>No</td>\n",
              "      <td>Yes</td>\n",
              "      <td>Yes</td>\n",
              "      <td>Month-to-month</td>\n",
              "      <td>No</td>\n",
              "      <td>Electronic check</td>\n",
              "      <td>46.35</td>\n",
              "      <td>667.7</td>\n",
              "    </tr>\n",
              "    <tr>\n",
              "      <th>5637</th>\n",
              "      <td>4423-JWZJN</td>\n",
              "      <td>Male</td>\n",
              "      <td>0</td>\n",
              "      <td>Yes</td>\n",
              "      <td>Yes</td>\n",
              "      <td>64</td>\n",
              "      <td>Yes</td>\n",
              "      <td>Yes</td>\n",
              "      <td>Fiber optic</td>\n",
              "      <td>No</td>\n",
              "      <td>No</td>\n",
              "      <td>Yes</td>\n",
              "      <td>No</td>\n",
              "      <td>No</td>\n",
              "      <td>Yes</td>\n",
              "      <td>One year</td>\n",
              "      <td>No</td>\n",
              "      <td>Credit card (automatic)</td>\n",
              "      <td>90.25</td>\n",
              "      <td>5629.15</td>\n",
              "    </tr>\n",
              "    <tr>\n",
              "      <th>5638</th>\n",
              "      <td>5143-WMWOG</td>\n",
              "      <td>Male</td>\n",
              "      <td>0</td>\n",
              "      <td>No</td>\n",
              "      <td>No</td>\n",
              "      <td>1</td>\n",
              "      <td>Yes</td>\n",
              "      <td>No</td>\n",
              "      <td>No</td>\n",
              "      <td>No internet service</td>\n",
              "      <td>No internet service</td>\n",
              "      <td>No internet service</td>\n",
              "      <td>No internet service</td>\n",
              "      <td>No internet service</td>\n",
              "      <td>No internet service</td>\n",
              "      <td>Month-to-month</td>\n",
              "      <td>No</td>\n",
              "      <td>Electronic check</td>\n",
              "      <td>19.95</td>\n",
              "      <td>19.95</td>\n",
              "    </tr>\n",
              "  </tbody>\n",
              "</table>\n",
              "</div>"
            ],
            "text/plain": [
              "      customerID  gender  ...  MonthlyCharges TotalCharges\n",
              "5634  2320-JRSDE  Female  ...           19.90         19.9\n",
              "5635  2087-QAREY  Female  ...           54.70      1178.75\n",
              "5636  0601-WZHJF    Male  ...           46.35        667.7\n",
              "5637  4423-JWZJN    Male  ...           90.25      5629.15\n",
              "5638  5143-WMWOG    Male  ...           19.95        19.95\n",
              "\n",
              "[5 rows x 20 columns]"
            ]
          },
          "metadata": {
            "tags": []
          },
          "execution_count": 29
        }
      ]
    },
    {
      "cell_type": "code",
      "metadata": {
        "id": "j0pvp1cESgc_",
        "colab_type": "code",
        "colab": {}
      },
      "source": [
        "y_pred = predictor.predict(test_data)\n",
        "performance = predictor.evaluate_predictions(y_test, y_pred, auxiliary_metrics=True)\n",
        "print(\"Evaluation: \", performance)"
      ],
      "execution_count": 0,
      "outputs": []
    },
    {
      "cell_type": "code",
      "metadata": {
        "id": "kUVc1i9ETHQF",
        "colab_type": "code",
        "colab": {
          "base_uri": "https://localhost:8080/",
          "height": 74
        },
        "outputId": "714fa0fb-bed4-4755-b5af-e37cec1ceb76"
      },
      "source": [
        "print(predictor.problem_type)\n",
        "print(predictor.feature_types)"
      ],
      "execution_count": 34,
      "outputs": [
        {
          "output_type": "stream",
          "text": [
            "binary\n",
            "{'nlp': [], 'vectorizers': [], 'object': ['customerID', 'gender', 'Partner', 'Dependents', 'PhoneService', 'MultipleLines', 'InternetService', 'OnlineSecurity', 'OnlineBackup', 'DeviceProtection', 'TechSupport', 'StreamingTV', 'StreamingMovies', 'Contract', 'PaperlessBilling', 'PaymentMethod', 'TotalCharges'], 'int': ['SeniorCitizen', 'tenure'], 'float': ['MonthlyCharges']}\n"
          ],
          "name": "stdout"
        }
      ]
    },
    {
      "cell_type": "code",
      "metadata": {
        "id": "qsz4q9VpT0sC",
        "colab_type": "code",
        "colab": {}
      },
      "source": [
        "#   It should have deleted customer ID. It does not take care of feature selection"
      ],
      "execution_count": 0,
      "outputs": []
    },
    {
      "cell_type": "code",
      "metadata": {
        "id": "RI145pqUT-vb",
        "colab_type": "code",
        "colab": {
          "base_uri": "https://localhost:8080/",
          "height": 54
        },
        "outputId": "0fef6c71-71fb-405f-c091-74d7d59fa7ea"
      },
      "source": [
        "predictor.predict_proba(test_data)"
      ],
      "execution_count": 36,
      "outputs": [
        {
          "output_type": "execute_result",
          "data": {
            "text/plain": [
              "array([0.27933532, 0.28120423, 0.39816636, ..., 0.35828002, 0.66690673,\n",
              "       0.11514709])"
            ]
          },
          "metadata": {
            "tags": []
          },
          "execution_count": 36
        }
      ]
    },
    {
      "cell_type": "code",
      "metadata": {
        "id": "6I8z_gqEUCLh",
        "colab_type": "code",
        "colab": {
          "base_uri": "https://localhost:8080/",
          "height": 615
        },
        "outputId": "61c18b70-46e4-4df7-8f80-b3805c0baba3"
      },
      "source": [
        "predictor.leaderboard()"
      ],
      "execution_count": 37,
      "outputs": [
        {
          "output_type": "stream",
          "text": [
            "                         model  score_val   fit_time  pred_time_val  stack_level\n",
            "10     weighted_ensemble_k0_l1   0.799645   0.548092       0.001605            1\n",
            "7           CatboostClassifier   0.799645   3.282355       0.032724            0\n",
            "6           LightGBMClassifier   0.789007   0.791672       0.022463            0\n",
            "0   RandomForestClassifierGini   0.781915   1.535514       0.118640            0\n",
            "1   RandomForestClassifierEntr   0.778369   2.026696       0.124512            0\n",
            "8          NeuralNetClassifier   0.778369  19.149632       0.255416            0\n",
            "9     LightGBMClassifierCustom   0.778369   1.117550       0.026408            0\n",
            "4     KNeighborsClassifierUnif   0.773050   0.049556       0.123809            0\n",
            "2     ExtraTreesClassifierGini   0.767730   1.340321       0.120793            0\n",
            "3     ExtraTreesClassifierEntr   0.767730   1.425996       0.119651            0\n",
            "5     KNeighborsClassifierDist   0.741135   0.019241       0.113218            0\n"
          ],
          "name": "stdout"
        },
        {
          "output_type": "execute_result",
          "data": {
            "text/html": [
              "<div>\n",
              "<style scoped>\n",
              "    .dataframe tbody tr th:only-of-type {\n",
              "        vertical-align: middle;\n",
              "    }\n",
              "\n",
              "    .dataframe tbody tr th {\n",
              "        vertical-align: top;\n",
              "    }\n",
              "\n",
              "    .dataframe thead th {\n",
              "        text-align: right;\n",
              "    }\n",
              "</style>\n",
              "<table border=\"1\" class=\"dataframe\">\n",
              "  <thead>\n",
              "    <tr style=\"text-align: right;\">\n",
              "      <th></th>\n",
              "      <th>model</th>\n",
              "      <th>score_val</th>\n",
              "      <th>fit_time</th>\n",
              "      <th>pred_time_val</th>\n",
              "      <th>stack_level</th>\n",
              "    </tr>\n",
              "  </thead>\n",
              "  <tbody>\n",
              "    <tr>\n",
              "      <th>10</th>\n",
              "      <td>weighted_ensemble_k0_l1</td>\n",
              "      <td>0.799645</td>\n",
              "      <td>0.548092</td>\n",
              "      <td>0.001605</td>\n",
              "      <td>1</td>\n",
              "    </tr>\n",
              "    <tr>\n",
              "      <th>7</th>\n",
              "      <td>CatboostClassifier</td>\n",
              "      <td>0.799645</td>\n",
              "      <td>3.282355</td>\n",
              "      <td>0.032724</td>\n",
              "      <td>0</td>\n",
              "    </tr>\n",
              "    <tr>\n",
              "      <th>6</th>\n",
              "      <td>LightGBMClassifier</td>\n",
              "      <td>0.789007</td>\n",
              "      <td>0.791672</td>\n",
              "      <td>0.022463</td>\n",
              "      <td>0</td>\n",
              "    </tr>\n",
              "    <tr>\n",
              "      <th>0</th>\n",
              "      <td>RandomForestClassifierGini</td>\n",
              "      <td>0.781915</td>\n",
              "      <td>1.535514</td>\n",
              "      <td>0.118640</td>\n",
              "      <td>0</td>\n",
              "    </tr>\n",
              "    <tr>\n",
              "      <th>1</th>\n",
              "      <td>RandomForestClassifierEntr</td>\n",
              "      <td>0.778369</td>\n",
              "      <td>2.026696</td>\n",
              "      <td>0.124512</td>\n",
              "      <td>0</td>\n",
              "    </tr>\n",
              "    <tr>\n",
              "      <th>8</th>\n",
              "      <td>NeuralNetClassifier</td>\n",
              "      <td>0.778369</td>\n",
              "      <td>19.149632</td>\n",
              "      <td>0.255416</td>\n",
              "      <td>0</td>\n",
              "    </tr>\n",
              "    <tr>\n",
              "      <th>9</th>\n",
              "      <td>LightGBMClassifierCustom</td>\n",
              "      <td>0.778369</td>\n",
              "      <td>1.117550</td>\n",
              "      <td>0.026408</td>\n",
              "      <td>0</td>\n",
              "    </tr>\n",
              "    <tr>\n",
              "      <th>4</th>\n",
              "      <td>KNeighborsClassifierUnif</td>\n",
              "      <td>0.773050</td>\n",
              "      <td>0.049556</td>\n",
              "      <td>0.123809</td>\n",
              "      <td>0</td>\n",
              "    </tr>\n",
              "    <tr>\n",
              "      <th>2</th>\n",
              "      <td>ExtraTreesClassifierGini</td>\n",
              "      <td>0.767730</td>\n",
              "      <td>1.340321</td>\n",
              "      <td>0.120793</td>\n",
              "      <td>0</td>\n",
              "    </tr>\n",
              "    <tr>\n",
              "      <th>3</th>\n",
              "      <td>ExtraTreesClassifierEntr</td>\n",
              "      <td>0.767730</td>\n",
              "      <td>1.425996</td>\n",
              "      <td>0.119651</td>\n",
              "      <td>0</td>\n",
              "    </tr>\n",
              "    <tr>\n",
              "      <th>5</th>\n",
              "      <td>KNeighborsClassifierDist</td>\n",
              "      <td>0.741135</td>\n",
              "      <td>0.019241</td>\n",
              "      <td>0.113218</td>\n",
              "      <td>0</td>\n",
              "    </tr>\n",
              "  </tbody>\n",
              "</table>\n",
              "</div>"
            ],
            "text/plain": [
              "                         model  score_val  ...  pred_time_val  stack_level\n",
              "10     weighted_ensemble_k0_l1   0.799645  ...       0.001605            1\n",
              "7           CatboostClassifier   0.799645  ...       0.032724            0\n",
              "6           LightGBMClassifier   0.789007  ...       0.022463            0\n",
              "0   RandomForestClassifierGini   0.781915  ...       0.118640            0\n",
              "1   RandomForestClassifierEntr   0.778369  ...       0.124512            0\n",
              "8          NeuralNetClassifier   0.778369  ...       0.255416            0\n",
              "9     LightGBMClassifierCustom   0.778369  ...       0.026408            0\n",
              "4     KNeighborsClassifierUnif   0.773050  ...       0.123809            0\n",
              "2     ExtraTreesClassifierGini   0.767730  ...       0.120793            0\n",
              "3     ExtraTreesClassifierEntr   0.767730  ...       0.119651            0\n",
              "5     KNeighborsClassifierDist   0.741135  ...       0.113218            0\n",
              "\n",
              "[11 rows x 5 columns]"
            ]
          },
          "metadata": {
            "tags": []
          },
          "execution_count": 37
        }
      ]
    },
    {
      "cell_type": "code",
      "metadata": {
        "id": "4vNomDiRUFYA",
        "colab_type": "code",
        "colab": {}
      },
      "source": [
        "predictor.fit_summary()"
      ],
      "execution_count": 0,
      "outputs": []
    },
    {
      "cell_type": "markdown",
      "metadata": {
        "id": "2S0_mnBHUf79",
        "colab_type": "text"
      },
      "source": [
        "# Customizing hyper parameter tuning"
      ]
    },
    {
      "cell_type": "code",
      "metadata": {
        "id": "TrHLyQCoUXKJ",
        "colab_type": "code",
        "colab": {}
      },
      "source": [
        "hp_tune = True\n",
        "\n",
        "rf_options = {\n",
        "    'n_estimators' : 100,\n",
        "}\n",
        "\n",
        "gbm_options = {\n",
        "    'num_boost_rounds' : 100,\n",
        "    'num_leaves' : ag.space.Int(lower=6, upper=20, default=8)\n",
        "}\n",
        "\n",
        "hyperparameters = {'RF' : rf_options, 'GBM' : gbm_options}\n",
        "\n",
        "time_limits = 2*60  # 2 mins\n",
        "num_trials = 1  # Use higher if possible\n",
        "search_strategy = \"skopt\" # Bayesian optimization\n"
      ],
      "execution_count": 0,
      "outputs": []
    },
    {
      "cell_type": "code",
      "metadata": {
        "id": "3T4irFv_XG69",
        "colab_type": "code",
        "colab": {}
      },
      "source": [
        "train_data = task.Dataset(df=train_df)\n",
        "test_data = task.Dataset(df=test_df)"
      ],
      "execution_count": 0,
      "outputs": []
    },
    {
      "cell_type": "code",
      "metadata": {
        "id": "Fv5IIkQTWx_v",
        "colab_type": "code",
        "colab": {
          "base_uri": "https://localhost:8080/",
          "height": 919
        },
        "outputId": "93a98bd9-400f-4101-8f50-d7b3cf68b0f0"
      },
      "source": [
        "predictor = task.fit(train_data, tuning_data=test_data, label=pred_column, time_limits=time_limits, num_trials=num_trials,\n",
        "                     hyperparameter_tune=hp_tune, hyperparameters=hyperparameters, search_strategy=search_strategy, nthreads_per_trial=1, \n",
        "                     ngpus_per_trial=1)"
      ],
      "execution_count": 42,
      "outputs": [
        {
          "output_type": "stream",
          "text": [
            "Warning: `hyperparameter_tune=True` is currently experimental and may cause the process to hang. Setting `auto_stack=True` instead is recommended to achieve maximum quality models.\n",
            "No output_directory specified. Models will be saved in: AutogluonModels/ag-20200325_110458/\n",
            "Warning: Specified num_trials == 1 or time_limits is too small for hyperparameter_tune, setting to False.\n",
            "Beginning AutoGluon training ... Time limit = 120s\n",
            "AutoGluon will save models to AutogluonModels/ag-20200325_110458/\n",
            "Train Data Rows:    5634\n",
            "Train Data Columns: 21\n",
            "Tuning Data Rows:    1409\n",
            "Tuning Data Columns: 21\n",
            "Preprocessing data ...\n",
            "Here are the first 10 unique label values in your data:  ['No' 'Yes']\n",
            "AutoGluon infers your prediction problem is: binary  (because only two unique label-values observed)\n",
            "If this is wrong, please specify `problem_type` argument in fit() instead (You may specify problem_type as one of: ['binary', 'multiclass', 'regression'])\n",
            "\n",
            "Selected class <--> label mapping:  class 1 = Yes, class 0 = No\n",
            "Feature Generator processed 7043 data points with 20 features\n",
            "Original Features:\n",
            "\tobject features: 17\n",
            "\tint features: 2\n",
            "\tfloat features: 1\n",
            "Generated Features:\n",
            "\tint features: 0\n",
            "All Features:\n",
            "\tobject features: 17\n",
            "\tint features: 2\n",
            "\tfloat features: 1\n",
            "\tData preprocessing and feature engineering runtime = 0.21s ...\n",
            "AutoGluon will gauge predictive performance using evaluation metric: accuracy\n",
            "To change this, specify the eval_metric argument of fit()\n",
            "AutoGluon will early stop models using evaluation metric: accuracy\n",
            "Fitting model: RandomForestClassifierGini ... Training model for up to 119.79s of the 119.79s of remaining time.\n",
            "\t0.8013\t = Validation accuracy score\n",
            "\t0.57s\t = Training runtime\n",
            "\t0.12s\t = Validation runtime\n",
            "Fitting model: RandomForestClassifierEntr ... Training model for up to 119.06s of the 119.06s of remaining time.\n",
            "\t0.7949\t = Validation accuracy score\n",
            "\t0.75s\t = Training runtime\n",
            "\t0.12s\t = Validation runtime\n",
            "Fitting model: LightGBMClassifier ... Training model for up to 118.15s of the 118.15s of remaining time.\n",
            "Attempting to fit model without HPO, but search space is provided. fit() will only consider default hyperparameter values from search space.\n",
            "\t0.8048\t = Validation accuracy score\n",
            "\t1.04s\t = Training runtime\n",
            "\t0.03s\t = Validation runtime\n",
            "Fitting model: weighted_ensemble_k0_l1 ... Training model for up to 119.79s of the 116.74s of remaining time.\n",
            "\t0.8133\t = Validation accuracy score\n",
            "\t0.29s\t = Training runtime\n",
            "\t0.0s\t = Validation runtime\n",
            "AutoGluon training complete, total runtime = 3.58s ...\n"
          ],
          "name": "stderr"
        }
      ]
    },
    {
      "cell_type": "code",
      "metadata": {
        "id": "yH_nbtD8Xcrq",
        "colab_type": "code",
        "colab": {}
      },
      "source": [
        "predictor.fit_summary()"
      ],
      "execution_count": 0,
      "outputs": []
    },
    {
      "cell_type": "code",
      "metadata": {
        "id": "4pA06KkDXkDM",
        "colab_type": "code",
        "colab": {
          "base_uri": "https://localhost:8080/",
          "height": 267
        },
        "outputId": "15f40448-ca5e-472c-8d62-9ef027a9e876"
      },
      "source": [
        "predictor.leaderboard()"
      ],
      "execution_count": 44,
      "outputs": [
        {
          "output_type": "stream",
          "text": [
            "                        model  score_val  fit_time  pred_time_val  stack_level\n",
            "3     weighted_ensemble_k0_l1   0.813343  0.285369       0.001193            1\n",
            "2          LightGBMClassifier   0.804826  1.044784       0.034340            0\n",
            "0  RandomForestClassifierGini   0.801278  0.567397       0.117556            0\n",
            "1  RandomForestClassifierEntr   0.794890  0.754569       0.118744            0\n"
          ],
          "name": "stdout"
        },
        {
          "output_type": "execute_result",
          "data": {
            "text/html": [
              "<div>\n",
              "<style scoped>\n",
              "    .dataframe tbody tr th:only-of-type {\n",
              "        vertical-align: middle;\n",
              "    }\n",
              "\n",
              "    .dataframe tbody tr th {\n",
              "        vertical-align: top;\n",
              "    }\n",
              "\n",
              "    .dataframe thead th {\n",
              "        text-align: right;\n",
              "    }\n",
              "</style>\n",
              "<table border=\"1\" class=\"dataframe\">\n",
              "  <thead>\n",
              "    <tr style=\"text-align: right;\">\n",
              "      <th></th>\n",
              "      <th>model</th>\n",
              "      <th>score_val</th>\n",
              "      <th>fit_time</th>\n",
              "      <th>pred_time_val</th>\n",
              "      <th>stack_level</th>\n",
              "    </tr>\n",
              "  </thead>\n",
              "  <tbody>\n",
              "    <tr>\n",
              "      <th>3</th>\n",
              "      <td>weighted_ensemble_k0_l1</td>\n",
              "      <td>0.813343</td>\n",
              "      <td>0.285369</td>\n",
              "      <td>0.001193</td>\n",
              "      <td>1</td>\n",
              "    </tr>\n",
              "    <tr>\n",
              "      <th>2</th>\n",
              "      <td>LightGBMClassifier</td>\n",
              "      <td>0.804826</td>\n",
              "      <td>1.044784</td>\n",
              "      <td>0.034340</td>\n",
              "      <td>0</td>\n",
              "    </tr>\n",
              "    <tr>\n",
              "      <th>0</th>\n",
              "      <td>RandomForestClassifierGini</td>\n",
              "      <td>0.801278</td>\n",
              "      <td>0.567397</td>\n",
              "      <td>0.117556</td>\n",
              "      <td>0</td>\n",
              "    </tr>\n",
              "    <tr>\n",
              "      <th>1</th>\n",
              "      <td>RandomForestClassifierEntr</td>\n",
              "      <td>0.794890</td>\n",
              "      <td>0.754569</td>\n",
              "      <td>0.118744</td>\n",
              "      <td>0</td>\n",
              "    </tr>\n",
              "  </tbody>\n",
              "</table>\n",
              "</div>"
            ],
            "text/plain": [
              "                        model  score_val  fit_time  pred_time_val  stack_level\n",
              "3     weighted_ensemble_k0_l1   0.813343  0.285369       0.001193            1\n",
              "2          LightGBMClassifier   0.804826  1.044784       0.034340            0\n",
              "0  RandomForestClassifierGini   0.801278  0.567397       0.117556            0\n",
              "1  RandomForestClassifierEntr   0.794890  0.754569       0.118744            0"
            ]
          },
          "metadata": {
            "tags": []
          },
          "execution_count": 44
        }
      ]
    }
  ]
}