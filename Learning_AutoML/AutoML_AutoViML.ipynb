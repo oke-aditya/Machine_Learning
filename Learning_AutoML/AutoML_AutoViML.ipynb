{
  "nbformat": 4,
  "nbformat_minor": 0,
  "metadata": {
    "colab": {
      "name": "AutoML_AutoViML.ipynb",
      "provenance": []
    },
    "kernelspec": {
      "name": "python3",
      "display_name": "Python 3"
    }
  },
  "cells": [
    {
      "cell_type": "markdown",
      "metadata": {
        "id": "pfYgSncdmMSQ",
        "colab_type": "text"
      },
      "source": [
        "# Using AutoViML for AutoML"
      ]
    },
    {
      "cell_type": "markdown",
      "metadata": {
        "id": "c1CHsOQend0u",
        "colab_type": "text"
      },
      "source": [
        "- It takes care of categorical encoding.\n",
        "- Takes care of feature selection.\n",
        "- It provides graphical outputs that can explain the model.\n",
        "- Gives multiple graphs like AUC curve etc.\n",
        "- Does a bit of data cleaning.\n",
        "- It tunes the hyperparamters as well."
      ]
    },
    {
      "cell_type": "markdown",
      "metadata": {
        "id": "k47FP6c5oI66",
        "colab_type": "text"
      },
      "source": [
        "# Installing AutoViML"
      ]
    },
    {
      "cell_type": "code",
      "metadata": {
        "id": "Hrqy64PDmCzb",
        "colab_type": "code",
        "colab": {}
      },
      "source": [
        "! pip install autoviml"
      ],
      "execution_count": 0,
      "outputs": []
    },
    {
      "cell_type": "code",
      "metadata": {
        "id": "kZ1Hq9temJpg",
        "colab_type": "code",
        "colab": {}
      },
      "source": [
        "! pip install shap\n",
        "# For model explainability"
      ],
      "execution_count": 0,
      "outputs": []
    },
    {
      "cell_type": "markdown",
      "metadata": {
        "id": "3QB8NLbXoNhK",
        "colab_type": "text"
      },
      "source": [
        "# Time to use it"
      ]
    },
    {
      "cell_type": "markdown",
      "metadata": {
        "id": "xQCLGMcH22EM",
        "colab_type": "text"
      },
      "source": [
        "## Loading Data"
      ]
    },
    {
      "cell_type": "code",
      "metadata": {
        "id": "lOmBdO9On8Qa",
        "colab_type": "code",
        "colab": {}
      },
      "source": [
        "import sys,tempfile, urllib, os\n",
        "import pandas as pd"
      ],
      "execution_count": 0,
      "outputs": []
    },
    {
      "cell_type": "code",
      "metadata": {
        "id": "e6Vm_8droTL5",
        "colab_type": "code",
        "colab": {}
      },
      "source": [
        "BASE_DIR = '/tmp'\n",
        "OUTPUT_FILE = os.path.join(BASE_DIR, 'churn_data.csv')"
      ],
      "execution_count": 0,
      "outputs": []
    },
    {
      "cell_type": "code",
      "metadata": {
        "id": "_LluTZuAoW05",
        "colab_type": "code",
        "colab": {}
      },
      "source": [
        "churn_data=urllib.request.urlretrieve('https://raw.githubusercontent.com/srivatsan88/YouTubeLI/master/dataset/WA_Fn-UseC_-Telco-Customer-Churn.csv', OUTPUT_FILE)"
      ],
      "execution_count": 0,
      "outputs": []
    },
    {
      "cell_type": "code",
      "metadata": {
        "id": "iOp_tZtroXgy",
        "colab_type": "code",
        "colab": {}
      },
      "source": [
        "churn_df = pd.read_csv(OUTPUT_FILE)"
      ],
      "execution_count": 0,
      "outputs": []
    },
    {
      "cell_type": "code",
      "metadata": {
        "id": "QQjOsVh7oZpa",
        "colab_type": "code",
        "colab": {
          "base_uri": "https://localhost:8080/",
          "height": 313
        },
        "outputId": "a104fdd4-c060-4989-9d80-0e385a20fd95"
      },
      "source": [
        "churn_df.head()"
      ],
      "execution_count": 11,
      "outputs": [
        {
          "output_type": "execute_result",
          "data": {
            "text/html": [
              "<div>\n",
              "<style scoped>\n",
              "    .dataframe tbody tr th:only-of-type {\n",
              "        vertical-align: middle;\n",
              "    }\n",
              "\n",
              "    .dataframe tbody tr th {\n",
              "        vertical-align: top;\n",
              "    }\n",
              "\n",
              "    .dataframe thead th {\n",
              "        text-align: right;\n",
              "    }\n",
              "</style>\n",
              "<table border=\"1\" class=\"dataframe\">\n",
              "  <thead>\n",
              "    <tr style=\"text-align: right;\">\n",
              "      <th></th>\n",
              "      <th>customerID</th>\n",
              "      <th>gender</th>\n",
              "      <th>SeniorCitizen</th>\n",
              "      <th>Partner</th>\n",
              "      <th>Dependents</th>\n",
              "      <th>tenure</th>\n",
              "      <th>PhoneService</th>\n",
              "      <th>MultipleLines</th>\n",
              "      <th>InternetService</th>\n",
              "      <th>OnlineSecurity</th>\n",
              "      <th>OnlineBackup</th>\n",
              "      <th>DeviceProtection</th>\n",
              "      <th>TechSupport</th>\n",
              "      <th>StreamingTV</th>\n",
              "      <th>StreamingMovies</th>\n",
              "      <th>Contract</th>\n",
              "      <th>PaperlessBilling</th>\n",
              "      <th>PaymentMethod</th>\n",
              "      <th>MonthlyCharges</th>\n",
              "      <th>TotalCharges</th>\n",
              "      <th>Churn</th>\n",
              "    </tr>\n",
              "  </thead>\n",
              "  <tbody>\n",
              "    <tr>\n",
              "      <th>0</th>\n",
              "      <td>7590-VHVEG</td>\n",
              "      <td>Female</td>\n",
              "      <td>0</td>\n",
              "      <td>Yes</td>\n",
              "      <td>No</td>\n",
              "      <td>1</td>\n",
              "      <td>No</td>\n",
              "      <td>No phone service</td>\n",
              "      <td>DSL</td>\n",
              "      <td>No</td>\n",
              "      <td>Yes</td>\n",
              "      <td>No</td>\n",
              "      <td>No</td>\n",
              "      <td>No</td>\n",
              "      <td>No</td>\n",
              "      <td>Month-to-month</td>\n",
              "      <td>Yes</td>\n",
              "      <td>Electronic check</td>\n",
              "      <td>29.85</td>\n",
              "      <td>29.85</td>\n",
              "      <td>No</td>\n",
              "    </tr>\n",
              "    <tr>\n",
              "      <th>1</th>\n",
              "      <td>5575-GNVDE</td>\n",
              "      <td>Male</td>\n",
              "      <td>0</td>\n",
              "      <td>No</td>\n",
              "      <td>No</td>\n",
              "      <td>34</td>\n",
              "      <td>Yes</td>\n",
              "      <td>No</td>\n",
              "      <td>DSL</td>\n",
              "      <td>Yes</td>\n",
              "      <td>No</td>\n",
              "      <td>Yes</td>\n",
              "      <td>No</td>\n",
              "      <td>No</td>\n",
              "      <td>No</td>\n",
              "      <td>One year</td>\n",
              "      <td>No</td>\n",
              "      <td>Mailed check</td>\n",
              "      <td>56.95</td>\n",
              "      <td>1889.5</td>\n",
              "      <td>No</td>\n",
              "    </tr>\n",
              "    <tr>\n",
              "      <th>2</th>\n",
              "      <td>3668-QPYBK</td>\n",
              "      <td>Male</td>\n",
              "      <td>0</td>\n",
              "      <td>No</td>\n",
              "      <td>No</td>\n",
              "      <td>2</td>\n",
              "      <td>Yes</td>\n",
              "      <td>No</td>\n",
              "      <td>DSL</td>\n",
              "      <td>Yes</td>\n",
              "      <td>Yes</td>\n",
              "      <td>No</td>\n",
              "      <td>No</td>\n",
              "      <td>No</td>\n",
              "      <td>No</td>\n",
              "      <td>Month-to-month</td>\n",
              "      <td>Yes</td>\n",
              "      <td>Mailed check</td>\n",
              "      <td>53.85</td>\n",
              "      <td>108.15</td>\n",
              "      <td>Yes</td>\n",
              "    </tr>\n",
              "    <tr>\n",
              "      <th>3</th>\n",
              "      <td>7795-CFOCW</td>\n",
              "      <td>Male</td>\n",
              "      <td>0</td>\n",
              "      <td>No</td>\n",
              "      <td>No</td>\n",
              "      <td>45</td>\n",
              "      <td>No</td>\n",
              "      <td>No phone service</td>\n",
              "      <td>DSL</td>\n",
              "      <td>Yes</td>\n",
              "      <td>No</td>\n",
              "      <td>Yes</td>\n",
              "      <td>Yes</td>\n",
              "      <td>No</td>\n",
              "      <td>No</td>\n",
              "      <td>One year</td>\n",
              "      <td>No</td>\n",
              "      <td>Bank transfer (automatic)</td>\n",
              "      <td>42.30</td>\n",
              "      <td>1840.75</td>\n",
              "      <td>No</td>\n",
              "    </tr>\n",
              "    <tr>\n",
              "      <th>4</th>\n",
              "      <td>9237-HQITU</td>\n",
              "      <td>Female</td>\n",
              "      <td>0</td>\n",
              "      <td>No</td>\n",
              "      <td>No</td>\n",
              "      <td>2</td>\n",
              "      <td>Yes</td>\n",
              "      <td>No</td>\n",
              "      <td>Fiber optic</td>\n",
              "      <td>No</td>\n",
              "      <td>No</td>\n",
              "      <td>No</td>\n",
              "      <td>No</td>\n",
              "      <td>No</td>\n",
              "      <td>No</td>\n",
              "      <td>Month-to-month</td>\n",
              "      <td>Yes</td>\n",
              "      <td>Electronic check</td>\n",
              "      <td>70.70</td>\n",
              "      <td>151.65</td>\n",
              "      <td>Yes</td>\n",
              "    </tr>\n",
              "  </tbody>\n",
              "</table>\n",
              "</div>"
            ],
            "text/plain": [
              "   customerID  gender  SeniorCitizen  ... MonthlyCharges TotalCharges  Churn\n",
              "0  7590-VHVEG  Female              0  ...          29.85        29.85     No\n",
              "1  5575-GNVDE    Male              0  ...          56.95       1889.5     No\n",
              "2  3668-QPYBK    Male              0  ...          53.85       108.15    Yes\n",
              "3  7795-CFOCW    Male              0  ...          42.30      1840.75     No\n",
              "4  9237-HQITU  Female              0  ...          70.70       151.65    Yes\n",
              "\n",
              "[5 rows x 21 columns]"
            ]
          },
          "metadata": {
            "tags": []
          },
          "execution_count": 11
        }
      ]
    },
    {
      "cell_type": "code",
      "metadata": {
        "id": "PCiBhqxY1YbQ",
        "colab_type": "code",
        "colab": {}
      },
      "source": [
        "# Splitting it into train and test \n",
        "size = int(0.7 * churn_df.shape[0])\n",
        "train_df = churn_df[:size]\n",
        "test_df = churn_df[size:]"
      ],
      "execution_count": 0,
      "outputs": []
    },
    {
      "cell_type": "markdown",
      "metadata": {
        "id": "s7RJF15e24ZC",
        "colab_type": "text"
      },
      "source": [
        "## Time for AutoViML"
      ]
    },
    {
      "cell_type": "code",
      "metadata": {
        "id": "N8-m_8S62v88",
        "colab_type": "code",
        "colab": {}
      },
      "source": [
        "from autoviml.Auto_ViML import Auto_ViML"
      ],
      "execution_count": 0,
      "outputs": []
    },
    {
      "cell_type": "code",
      "metadata": {
        "id": "CNbHhjkV20vw",
        "colab_type": "code",
        "colab": {}
      },
      "source": [
        "target = 'Churn'"
      ],
      "execution_count": 0,
      "outputs": []
    },
    {
      "cell_type": "markdown",
      "metadata": {
        "id": "4dts0B8H4u3o",
        "colab_type": "text"
      },
      "source": [
        "hyper_param: Tuning options are GridSearch ('GS') and RandomizedSearch ('RS'). Default is 'GS'.\n",
        "\n",
        "feature_reduction: Default = 'True' but it can be set to False if you don't want automatic    \n",
        "\n",
        "Boosting Flag: you have 4 possible choices (default is False):                               \n",
        "  None = This will build a Linear Model                                                  \n",
        "  False = This will build a Random Forest or Extra Trees model (also known as Bagging)        \n",
        "  True = This will build an XGBoost model                                                     \n",
        "  CatBoost = THis will build a CatBoost model (provided you have CatBoost installed)          \n"
      ]
    },
    {
      "cell_type": "code",
      "metadata": {
        "id": "rI0aZG7f2_FS",
        "colab_type": "code",
        "colab": {}
      },
      "source": [
        "model, features, trainm, testm = Auto_ViML(train_df, target, test_df,\n",
        "                            sample_submission='',\n",
        "                            scoring_parameter='', KMeans_Featurizer=False,\n",
        "                            hyper_param='GS',feature_reduction=True,\n",
        "                             Boosting_Flag=None,Binning_Flag=False,\n",
        "                            Add_Poly=0, Stacking_Flag=False,Imbalanced_Flag=False,\n",
        "                            verbose=1)\n",
        "            "
      ],
      "execution_count": 0,
      "outputs": []
    },
    {
      "cell_type": "code",
      "metadata": {
        "id": "25G6CXLI3rVm",
        "colab_type": "code",
        "colab": {
          "base_uri": "https://localhost:8080/",
          "height": 52
        },
        "outputId": "1b643817-aa90-401d-b0f7-d03069946289"
      },
      "source": [
        "features"
      ],
      "execution_count": 28,
      "outputs": [
        {
          "output_type": "execute_result",
          "data": {
            "text/html": [
              "['Contract', 'TechSupport', 'InternetService', 'OnlineSecurity', 'PaymentMethod', 'tenure', 'MonthlyCharges', 'StreamingMovies', 'PaperlessBilling', 'OnlineBackup', 'TotalCharges', 'SeniorCitizen', 'MultipleLines', 'Dependents', 'gender', 'DeviceProtection', 'Partner', 'StreamingTV', 'PhoneService']"
            ],
            "text/plain": [
              "['Contract',\n",
              " 'TechSupport',\n",
              " 'InternetService',\n",
              " 'OnlineSecurity',\n",
              " 'PaymentMethod',\n",
              " 'tenure',\n",
              " 'MonthlyCharges',\n",
              " 'StreamingMovies',\n",
              " 'PaperlessBilling',\n",
              " 'OnlineBackup',\n",
              " 'TotalCharges',\n",
              " 'SeniorCitizen',\n",
              " 'MultipleLines',\n",
              " 'Dependents',\n",
              " 'gender',\n",
              " 'DeviceProtection',\n",
              " 'Partner',\n",
              " 'StreamingTV',\n",
              " 'PhoneService']"
            ]
          },
          "metadata": {
            "tags": []
          },
          "execution_count": 28
        }
      ]
    },
    {
      "cell_type": "code",
      "metadata": {
        "id": "F7xNXxAj-qZ3",
        "colab_type": "code",
        "colab": {}
      },
      "source": [
        "trainm"
      ],
      "execution_count": 0,
      "outputs": []
    },
    {
      "cell_type": "code",
      "metadata": {
        "id": "mObHOXVN-sue",
        "colab_type": "code",
        "colab": {}
      },
      "source": [
        "testm"
      ],
      "execution_count": 0,
      "outputs": []
    },
    {
      "cell_type": "code",
      "metadata": {
        "id": "NqLrzyiJ-jPR",
        "colab_type": "code",
        "colab": {}
      },
      "source": [
        "from sklearn.metrics import classification_report, confusion_matrix"
      ],
      "execution_count": 0,
      "outputs": []
    },
    {
      "cell_type": "code",
      "metadata": {
        "id": "IpwIrdp6-odd",
        "colab_type": "code",
        "colab": {
          "base_uri": "https://localhost:8080/",
          "height": 54
        },
        "outputId": "f2a0da05-5835-468e-d205-3df85b61b408"
      },
      "source": [
        "print(confusion_matrix(test_df[target].values, testm['Churn_Bagging_predictions'].values))"
      ],
      "execution_count": 32,
      "outputs": [
        {
          "output_type": "stream",
          "text": [
            "[[1376  157]\n",
            " [ 303  277]]\n"
          ],
          "name": "stdout"
        }
      ]
    },
    {
      "cell_type": "code",
      "metadata": {
        "id": "FSevoDn7_yov",
        "colab_type": "code",
        "colab": {
          "base_uri": "https://localhost:8080/",
          "height": 54
        },
        "outputId": "6f927ba0-24d9-4f41-c5e6-cd912167bdbb"
      },
      "source": [
        "print(confusion_matrix(test_df[target].values, testm['Churn_Ensembled_predictions'].values))"
      ],
      "execution_count": 33,
      "outputs": [
        {
          "output_type": "stream",
          "text": [
            "[[1389  144]\n",
            " [ 281  299]]\n"
          ],
          "name": "stdout"
        }
      ]
    },
    {
      "cell_type": "code",
      "metadata": {
        "id": "9APaqJNH_2_f",
        "colab_type": "code",
        "colab": {
          "base_uri": "https://localhost:8080/",
          "height": 54
        },
        "outputId": "47c9aaf9-2897-4d9d-c8d0-b0749bd6fe57"
      },
      "source": [
        "print(confusion_matrix(test_df[target].values, testm['Churn_Boosting_predictions'].values))"
      ],
      "execution_count": 34,
      "outputs": [
        {
          "output_type": "stream",
          "text": [
            "[[1491   42]\n",
            " [ 437  143]]\n"
          ],
          "name": "stdout"
        }
      ]
    },
    {
      "cell_type": "code",
      "metadata": {
        "id": "pFi0EGgB_6Q4",
        "colab_type": "code",
        "colab": {
          "base_uri": "https://localhost:8080/",
          "height": 182
        },
        "outputId": "5a642d20-60d9-4340-e597-425bf615966d"
      },
      "source": [
        "print(classification_report(test_df[target].values, testm['Churn_Boosting_predictions'].values))"
      ],
      "execution_count": 35,
      "outputs": [
        {
          "output_type": "stream",
          "text": [
            "              precision    recall  f1-score   support\n",
            "\n",
            "          No       0.77      0.97      0.86      1533\n",
            "         Yes       0.77      0.25      0.37       580\n",
            "\n",
            "    accuracy                           0.77      2113\n",
            "   macro avg       0.77      0.61      0.62      2113\n",
            "weighted avg       0.77      0.77      0.73      2113\n",
            "\n"
          ],
          "name": "stdout"
        }
      ]
    }
  ]
}