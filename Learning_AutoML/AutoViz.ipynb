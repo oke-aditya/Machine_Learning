{
  "nbformat": 4,
  "nbformat_minor": 0,
  "metadata": {
    "colab": {
      "name": "AutoViz.ipynb",
      "provenance": []
    },
    "kernelspec": {
      "name": "python3",
      "display_name": "Python 3"
    }
  },
  "cells": [
    {
      "cell_type": "markdown",
      "metadata": {
        "id": "KgVJ5iV63XBu",
        "colab_type": "text"
      },
      "source": [
        "# AutoViz "
      ]
    },
    {
      "cell_type": "markdown",
      "metadata": {
        "id": "WvSfqjPC3aDd",
        "colab_type": "text"
      },
      "source": [
        "- Automated Visualization framework.\n",
        "- Created by AutoViML.\n",
        "[https://github.com/AutoViML/AutoViz](https://github.com/AutoViML/AutoViz)"
      ]
    },
    {
      "cell_type": "markdown",
      "metadata": {
        "id": "eNi-jWnu4Mrc",
        "colab_type": "text"
      },
      "source": [
        "# Installing"
      ]
    },
    {
      "cell_type": "code",
      "metadata": {
        "id": "bjIV1yxR4OJA",
        "colab_type": "code",
        "colab": {}
      },
      "source": [
        "!pip install autoviz"
      ],
      "execution_count": 0,
      "outputs": []
    },
    {
      "cell_type": "markdown",
      "metadata": {
        "id": "1BxG2a534Owf",
        "colab_type": "text"
      },
      "source": [
        "# Loading Data "
      ]
    },
    {
      "cell_type": "markdown",
      "metadata": {
        "id": "Y39MGq9Q4EC8",
        "colab_type": "text"
      },
      "source": [
        "## About the Data\n",
        "\n",
        "\n"
      ]
    },
    {
      "cell_type": "markdown",
      "metadata": {
        "id": "6sLQUcXs4btW",
        "colab_type": "text"
      },
      "source": [
        "\n",
        "customerID - Customer ID\n",
        "\n",
        "gender - Whether the customer is a male or a female\n",
        "\n",
        "SeniorCitizen - Whether the customer is a senior citizen or not (1, 0)\n",
        "\n",
        "Partner - Whether the customer has a partner or not (Yes, No)\n",
        "\n",
        "Dependents - Whether the customer has dependents or not (Yes, No)\n",
        "\n",
        "tenure - Number of months the customer has stayed with the company\n",
        "\n",
        "PhoneService - Whether the customer has a phone service or not (Yes, No)\n",
        "\n",
        "MultipleLines - Whether the customer has multiple lines or not (Yes, No, No phone service)\n",
        "\n",
        "InternetService - Customer’s internet service provider (DSL, Fiber optic, No)\n",
        "\n",
        "OnlineSecurity - Whether the customer has online security or not (Yes, No, No internet service)\n",
        "\n",
        "OnlineBackup - Whether the customer has online backup or not (Yes, No, No internet service)\n",
        "\n",
        "DeviceProtection - Whether the customer has device protection or not (Yes, No, No internet service)\n",
        "\n",
        "TechSupport - Whether the customer has tech support or not (Yes, No, No internet service)\n",
        "\n",
        "StreamingTV - Whether the customer has streaming TV or not (Yes, No, No internet service)\n",
        "\n",
        "StreamingMovies - Whether the customer has streaming movies or not (Yes, No, No internet service)\n",
        "\n",
        "Contract - The contract term of the customer (Month-to-month, One year, Two year)\n",
        "\n",
        "PaperlessBilling - Whether the customer has paperless billing or not (Yes, No)\n",
        "\n",
        "PaymentMethod - The customer’s payment method (Electronic check, Mailed check, Bank transfer (automatic), Credit card (automatic))\n",
        "\n",
        "MonthlyCharges - The amount charged to the customer monthly\n",
        "\n",
        "TotalCharges - The total amount charged to the customer\n",
        "\n",
        "Churn - Whether the customer churned or not (Yes or No)\n"
      ]
    },
    {
      "cell_type": "markdown",
      "metadata": {
        "id": "R8MtPZkh4fHA",
        "colab_type": "text"
      },
      "source": [
        "## Loading it"
      ]
    },
    {
      "cell_type": "code",
      "metadata": {
        "id": "kbFvzJDO3HgN",
        "colab_type": "code",
        "colab": {}
      },
      "source": [
        "import sys,tempfile, urllib, os\n",
        "import pandas as pd\n",
        "import numpy as np"
      ],
      "execution_count": 0,
      "outputs": []
    },
    {
      "cell_type": "code",
      "metadata": {
        "id": "HDlF81Ki4Aoz",
        "colab_type": "code",
        "colab": {}
      },
      "source": [
        "BASE_DIR = '/tmp'\n",
        "OUTPUT_FILE = os.path.join(BASE_DIR, 'churn_data.csv')"
      ],
      "execution_count": 0,
      "outputs": []
    },
    {
      "cell_type": "code",
      "metadata": {
        "id": "loBKnhZf4CCE",
        "colab_type": "code",
        "colab": {}
      },
      "source": [
        "churn_data=urllib.request.urlretrieve('https://raw.githubusercontent.com/srivatsan88/YouTubeLI/master/dataset/WA_Fn-UseC_-Telco-Customer-Churn.csv', OUTPUT_FILE)"
      ],
      "execution_count": 0,
      "outputs": []
    },
    {
      "cell_type": "code",
      "metadata": {
        "id": "LxYzAbms4Fcb",
        "colab_type": "code",
        "colab": {}
      },
      "source": [
        "churn_master_df = pd.read_csv(OUTPUT_FILE)"
      ],
      "execution_count": 0,
      "outputs": []
    },
    {
      "cell_type": "code",
      "metadata": {
        "id": "YkeAq0ic4I78",
        "colab_type": "code",
        "colab": {}
      },
      "source": [
        "churn_df = churn_master_df"
      ],
      "execution_count": 0,
      "outputs": []
    },
    {
      "cell_type": "code",
      "metadata": {
        "id": "jomWcYyV4rI7",
        "colab_type": "code",
        "colab": {
          "base_uri": "https://localhost:8080/",
          "height": 295
        },
        "outputId": "663c7195-c716-460c-a623-78a998b723f8"
      },
      "source": [
        "churn_df.head()"
      ],
      "execution_count": 12,
      "outputs": [
        {
          "output_type": "execute_result",
          "data": {
            "text/html": [
              "<div>\n",
              "<style scoped>\n",
              "    .dataframe tbody tr th:only-of-type {\n",
              "        vertical-align: middle;\n",
              "    }\n",
              "\n",
              "    .dataframe tbody tr th {\n",
              "        vertical-align: top;\n",
              "    }\n",
              "\n",
              "    .dataframe thead th {\n",
              "        text-align: right;\n",
              "    }\n",
              "</style>\n",
              "<table border=\"1\" class=\"dataframe\">\n",
              "  <thead>\n",
              "    <tr style=\"text-align: right;\">\n",
              "      <th></th>\n",
              "      <th>customerID</th>\n",
              "      <th>gender</th>\n",
              "      <th>SeniorCitizen</th>\n",
              "      <th>Partner</th>\n",
              "      <th>Dependents</th>\n",
              "      <th>tenure</th>\n",
              "      <th>PhoneService</th>\n",
              "      <th>MultipleLines</th>\n",
              "      <th>InternetService</th>\n",
              "      <th>OnlineSecurity</th>\n",
              "      <th>OnlineBackup</th>\n",
              "      <th>DeviceProtection</th>\n",
              "      <th>TechSupport</th>\n",
              "      <th>StreamingTV</th>\n",
              "      <th>StreamingMovies</th>\n",
              "      <th>Contract</th>\n",
              "      <th>PaperlessBilling</th>\n",
              "      <th>PaymentMethod</th>\n",
              "      <th>MonthlyCharges</th>\n",
              "      <th>TotalCharges</th>\n",
              "      <th>Churn</th>\n",
              "    </tr>\n",
              "  </thead>\n",
              "  <tbody>\n",
              "    <tr>\n",
              "      <th>0</th>\n",
              "      <td>7590-VHVEG</td>\n",
              "      <td>Female</td>\n",
              "      <td>0</td>\n",
              "      <td>Yes</td>\n",
              "      <td>No</td>\n",
              "      <td>1</td>\n",
              "      <td>No</td>\n",
              "      <td>No phone service</td>\n",
              "      <td>DSL</td>\n",
              "      <td>No</td>\n",
              "      <td>Yes</td>\n",
              "      <td>No</td>\n",
              "      <td>No</td>\n",
              "      <td>No</td>\n",
              "      <td>No</td>\n",
              "      <td>Month-to-month</td>\n",
              "      <td>Yes</td>\n",
              "      <td>Electronic check</td>\n",
              "      <td>29.85</td>\n",
              "      <td>29.85</td>\n",
              "      <td>No</td>\n",
              "    </tr>\n",
              "    <tr>\n",
              "      <th>1</th>\n",
              "      <td>5575-GNVDE</td>\n",
              "      <td>Male</td>\n",
              "      <td>0</td>\n",
              "      <td>No</td>\n",
              "      <td>No</td>\n",
              "      <td>34</td>\n",
              "      <td>Yes</td>\n",
              "      <td>No</td>\n",
              "      <td>DSL</td>\n",
              "      <td>Yes</td>\n",
              "      <td>No</td>\n",
              "      <td>Yes</td>\n",
              "      <td>No</td>\n",
              "      <td>No</td>\n",
              "      <td>No</td>\n",
              "      <td>One year</td>\n",
              "      <td>No</td>\n",
              "      <td>Mailed check</td>\n",
              "      <td>56.95</td>\n",
              "      <td>1889.5</td>\n",
              "      <td>No</td>\n",
              "    </tr>\n",
              "    <tr>\n",
              "      <th>2</th>\n",
              "      <td>3668-QPYBK</td>\n",
              "      <td>Male</td>\n",
              "      <td>0</td>\n",
              "      <td>No</td>\n",
              "      <td>No</td>\n",
              "      <td>2</td>\n",
              "      <td>Yes</td>\n",
              "      <td>No</td>\n",
              "      <td>DSL</td>\n",
              "      <td>Yes</td>\n",
              "      <td>Yes</td>\n",
              "      <td>No</td>\n",
              "      <td>No</td>\n",
              "      <td>No</td>\n",
              "      <td>No</td>\n",
              "      <td>Month-to-month</td>\n",
              "      <td>Yes</td>\n",
              "      <td>Mailed check</td>\n",
              "      <td>53.85</td>\n",
              "      <td>108.15</td>\n",
              "      <td>Yes</td>\n",
              "    </tr>\n",
              "    <tr>\n",
              "      <th>3</th>\n",
              "      <td>7795-CFOCW</td>\n",
              "      <td>Male</td>\n",
              "      <td>0</td>\n",
              "      <td>No</td>\n",
              "      <td>No</td>\n",
              "      <td>45</td>\n",
              "      <td>No</td>\n",
              "      <td>No phone service</td>\n",
              "      <td>DSL</td>\n",
              "      <td>Yes</td>\n",
              "      <td>No</td>\n",
              "      <td>Yes</td>\n",
              "      <td>Yes</td>\n",
              "      <td>No</td>\n",
              "      <td>No</td>\n",
              "      <td>One year</td>\n",
              "      <td>No</td>\n",
              "      <td>Bank transfer (automatic)</td>\n",
              "      <td>42.30</td>\n",
              "      <td>1840.75</td>\n",
              "      <td>No</td>\n",
              "    </tr>\n",
              "    <tr>\n",
              "      <th>4</th>\n",
              "      <td>9237-HQITU</td>\n",
              "      <td>Female</td>\n",
              "      <td>0</td>\n",
              "      <td>No</td>\n",
              "      <td>No</td>\n",
              "      <td>2</td>\n",
              "      <td>Yes</td>\n",
              "      <td>No</td>\n",
              "      <td>Fiber optic</td>\n",
              "      <td>No</td>\n",
              "      <td>No</td>\n",
              "      <td>No</td>\n",
              "      <td>No</td>\n",
              "      <td>No</td>\n",
              "      <td>No</td>\n",
              "      <td>Month-to-month</td>\n",
              "      <td>Yes</td>\n",
              "      <td>Electronic check</td>\n",
              "      <td>70.70</td>\n",
              "      <td>151.65</td>\n",
              "      <td>Yes</td>\n",
              "    </tr>\n",
              "  </tbody>\n",
              "</table>\n",
              "</div>"
            ],
            "text/plain": [
              "   customerID  gender  SeniorCitizen  ... MonthlyCharges TotalCharges  Churn\n",
              "0  7590-VHVEG  Female              0  ...          29.85        29.85     No\n",
              "1  5575-GNVDE    Male              0  ...          56.95       1889.5     No\n",
              "2  3668-QPYBK    Male              0  ...          53.85       108.15    Yes\n",
              "3  7795-CFOCW    Male              0  ...          42.30      1840.75     No\n",
              "4  9237-HQITU  Female              0  ...          70.70       151.65    Yes\n",
              "\n",
              "[5 rows x 21 columns]"
            ]
          },
          "metadata": {
            "tags": []
          },
          "execution_count": 12
        }
      ]
    },
    {
      "cell_type": "code",
      "metadata": {
        "id": "TcABsBp64oR0",
        "colab_type": "code",
        "colab": {}
      },
      "source": [
        "churn_df.replace(r'^\\s*$', np.nan, regex=True).isna().sum()"
      ],
      "execution_count": 0,
      "outputs": []
    },
    {
      "cell_type": "code",
      "metadata": {
        "id": "v4nEGWiz4nB0",
        "colab_type": "code",
        "colab": {}
      },
      "source": [
        "churn_df = churn_df.replace(r'^\\s*$', np.nan, regex=True)"
      ],
      "execution_count": 0,
      "outputs": []
    },
    {
      "cell_type": "code",
      "metadata": {
        "id": "ymMTjn8X4oqx",
        "colab_type": "code",
        "colab": {}
      },
      "source": [
        "print (\"Rows     : \" ,churn_df.shape[0])\n",
        "print (\"Columns  : \" ,churn_df.shape[1])\n",
        "print (\"\\nFeatures : \\n\" ,churn_df.columns.tolist())\n",
        "print (\"\\nMissing values :  \", churn_df.isnull().any())\n",
        "print (\"\\nUnique values :  \\n\",churn_df.nunique())"
      ],
      "execution_count": 0,
      "outputs": []
    },
    {
      "cell_type": "markdown",
      "metadata": {
        "id": "6yfVqyNW47iv",
        "colab_type": "text"
      },
      "source": [
        "# Time to use AutoViz"
      ]
    },
    {
      "cell_type": "code",
      "metadata": {
        "id": "ZOvkeZYi41H_",
        "colab_type": "code",
        "colab": {}
      },
      "source": [
        "from autoviz.AutoViz_Class import AutoViz_Class"
      ],
      "execution_count": 0,
      "outputs": []
    },
    {
      "cell_type": "code",
      "metadata": {
        "id": "1ichlE-C69_r",
        "colab_type": "code",
        "colab": {}
      },
      "source": [
        "av = AutoViz_Class()"
      ],
      "execution_count": 0,
      "outputs": []
    },
    {
      "cell_type": "code",
      "metadata": {
        "id": "hmH451Zs7CS4",
        "colab_type": "code",
        "colab": {}
      },
      "source": [
        "# not giving the dependent variable first\n",
        "# This gives us analysis of each individual variable.\n",
        "dft = av.AutoViz(\"/tmp/churn_data.csv\", sep=',', depVar='', header=1, verbose=1, lowess=False, chart_format='svg',\n",
        "max_rows_analyzed=7500, max_cols_analyzed=50)"
      ],
      "execution_count": 0,
      "outputs": []
    },
    {
      "cell_type": "code",
      "metadata": {
        "id": "zyGitTZt7vva",
        "colab_type": "code",
        "colab": {}
      },
      "source": [
        "dft = av.AutoViz(\"/tmp/churn_data.csv\", sep=',', depVar='Churn', header=1, verbose=1, lowess=False, chart_format='svg',\n",
        "                 max_rows_analyzed=7500, max_cols_analyzed=50)"
      ],
      "execution_count": 0,
      "outputs": []
    }
  ]
}