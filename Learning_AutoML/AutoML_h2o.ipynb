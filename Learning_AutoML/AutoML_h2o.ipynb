{
  "nbformat": 4,
  "nbformat_minor": 0,
  "metadata": {
    "colab": {
      "name": "AutoML_h2o.ipynb",
      "provenance": []
    },
    "kernelspec": {
      "name": "python3",
      "display_name": "Python 3"
    },
    "accelerator": "GPU"
  },
  "cells": [
    {
      "cell_type": "markdown",
      "metadata": {
        "id": "rMTlO40A66sc",
        "colab_type": "text"
      },
      "source": [
        "# AutoML using H2o "
      ]
    },
    {
      "cell_type": "markdown",
      "metadata": {
        "id": "iwJreYsu7KDA",
        "colab_type": "text"
      },
      "source": [
        "## Installing H2o"
      ]
    },
    {
      "cell_type": "code",
      "metadata": {
        "id": "_aFWToL061bO",
        "colab_type": "code",
        "colab": {
          "base_uri": "https://localhost:8080/",
          "height": 146
        },
        "outputId": "93914566-0f90-408c-ca85-5707625f88a6"
      },
      "source": [
        "!apt-get install defualt-jre\n",
        "!java -version"
      ],
      "execution_count": 1,
      "outputs": [
        {
          "output_type": "stream",
          "text": [
            "\rReading package lists... 0%\r\rReading package lists... 0%\r\rReading package lists... 0%\r\rReading package lists... 7%\r\rReading package lists... 7%\r\rReading package lists... 7%\r\rReading package lists... 7%\r\rReading package lists... 64%\r\rReading package lists... 64%\r\rReading package lists... 65%\r\rReading package lists... 65%\r\rReading package lists... 72%\r\rReading package lists... 72%\r\rReading package lists... 72%\r\rReading package lists... 72%\r\rReading package lists... 81%\r\rReading package lists... 81%\r\rReading package lists... 81%\r\rReading package lists... 81%\r\rReading package lists... 81%\r\rReading package lists... 81%\r\rReading package lists... 81%\r\rReading package lists... 81%\r\rReading package lists... 87%\r\rReading package lists... 87%\r\rReading package lists... 87%\r\rReading package lists... 87%\r\rReading package lists... 93%\r\rReading package lists... 93%\r\rReading package lists... 93%\r\rReading package lists... 93%\r\rReading package lists... 93%\r\rReading package lists... 93%\r\rReading package lists... 93%\r\rReading package lists... 94%\r\rReading package lists... 94%\r\rReading package lists... 95%\r\rReading package lists... 95%\r\rReading package lists... 98%\r\rReading package lists... 98%\r\rReading package lists... 98%\r\rReading package lists... 98%\r\rReading package lists... Done\r\n",
            "\rBuilding dependency tree... 0%\r\rBuilding dependency tree... 0%\r\rBuilding dependency tree... 50%\r\rBuilding dependency tree... 50%\r\rBuilding dependency tree       \r\n",
            "\rReading state information... 0%\r\rReading state information... 0%\r\rReading state information... Done\r\n",
            "E: Unable to locate package defualt-jre\n",
            "openjdk version \"11.0.6\" 2020-01-14\n",
            "OpenJDK Runtime Environment (build 11.0.6+10-post-Ubuntu-1ubuntu118.04.1)\n",
            "OpenJDK 64-Bit Server VM (build 11.0.6+10-post-Ubuntu-1ubuntu118.04.1, mixed mode, sharing)\n"
          ],
          "name": "stdout"
        }
      ]
    },
    {
      "cell_type": "code",
      "metadata": {
        "id": "I2TzfVLX7D1i",
        "colab_type": "code",
        "colab": {
          "base_uri": "https://localhost:8080/",
          "height": 386
        },
        "outputId": "f6592de4-af23-42a5-8343-0bd3bdce434c"
      },
      "source": [
        "!pip install h2o"
      ],
      "execution_count": 2,
      "outputs": [
        {
          "output_type": "stream",
          "text": [
            "Collecting h2o\n",
            "\u001b[?25l  Downloading https://files.pythonhosted.org/packages/10/eb/c894ff86623faf179d5a925b41ba8ca6eeb5ac7db824597ff00ace7b3cd4/h2o-3.28.1.2.tar.gz (126.2MB)\n",
            "\u001b[K     |████████████████████████████████| 126.2MB 96kB/s \n",
            "\u001b[?25hRequirement already satisfied: requests in /usr/local/lib/python3.6/dist-packages (from h2o) (2.21.0)\n",
            "Requirement already satisfied: tabulate in /usr/local/lib/python3.6/dist-packages (from h2o) (0.8.6)\n",
            "Requirement already satisfied: future in /usr/local/lib/python3.6/dist-packages (from h2o) (0.16.0)\n",
            "Collecting colorama>=0.3.8\n",
            "  Downloading https://files.pythonhosted.org/packages/c9/dc/45cdef1b4d119eb96316b3117e6d5708a08029992b2fee2c143c7a0a5cc5/colorama-0.4.3-py2.py3-none-any.whl\n",
            "Requirement already satisfied: idna<2.9,>=2.5 in /usr/local/lib/python3.6/dist-packages (from requests->h2o) (2.8)\n",
            "Requirement already satisfied: certifi>=2017.4.17 in /usr/local/lib/python3.6/dist-packages (from requests->h2o) (2019.11.28)\n",
            "Requirement already satisfied: chardet<3.1.0,>=3.0.2 in /usr/local/lib/python3.6/dist-packages (from requests->h2o) (3.0.4)\n",
            "Requirement already satisfied: urllib3<1.25,>=1.21.1 in /usr/local/lib/python3.6/dist-packages (from requests->h2o) (1.24.3)\n",
            "Building wheels for collected packages: h2o\n",
            "  Building wheel for h2o (setup.py) ... \u001b[?25l\u001b[?25hdone\n",
            "  Created wheel for h2o: filename=h2o-3.28.1.2-py2.py3-none-any.whl size=126306247 sha256=4af77c72a8912219164bad2c57a288645522618c8ca6fa4a5600d93d21de031d\n",
            "  Stored in directory: /root/.cache/pip/wheels/18/3c/ca/07a89a0183a77f66ad2fac339e16ba5f943dde887e9a1cac18\n",
            "Successfully built h2o\n",
            "Installing collected packages: colorama, h2o\n",
            "Successfully installed colorama-0.4.3 h2o-3.28.1.2\n"
          ],
          "name": "stdout"
        }
      ]
    },
    {
      "cell_type": "code",
      "metadata": {
        "id": "ge3NqrEb7HOC",
        "colab_type": "code",
        "colab": {}
      },
      "source": [
        "import h2o"
      ],
      "execution_count": 0,
      "outputs": []
    },
    {
      "cell_type": "code",
      "metadata": {
        "id": "QTeMU5457IFj",
        "colab_type": "code",
        "colab": {
          "base_uri": "https://localhost:8080/",
          "height": 0
        },
        "outputId": "e6fe9d81-7091-48ae-cb14-594d6a45cf39"
      },
      "source": [
        "h2o.init()"
      ],
      "execution_count": 4,
      "outputs": [
        {
          "output_type": "stream",
          "text": [
            "Checking whether there is an H2O instance running at http://localhost:54321 ..... not found.\n",
            "Attempting to start a local H2O server...\n",
            "  Java Version: openjdk version \"11.0.6\" 2020-01-14; OpenJDK Runtime Environment (build 11.0.6+10-post-Ubuntu-1ubuntu118.04.1); OpenJDK 64-Bit Server VM (build 11.0.6+10-post-Ubuntu-1ubuntu118.04.1, mixed mode, sharing)\n",
            "  Starting server from /usr/local/lib/python3.6/dist-packages/h2o/backend/bin/h2o.jar\n",
            "  Ice root: /tmp/tmp1e_48qha\n",
            "  JVM stdout: /tmp/tmp1e_48qha/h2o_unknownUser_started_from_python.out\n",
            "  JVM stderr: /tmp/tmp1e_48qha/h2o_unknownUser_started_from_python.err\n",
            "  Server is running at http://127.0.0.1:54321\n",
            "Connecting to H2O server at http://127.0.0.1:54321 ... successful.\n"
          ],
          "name": "stdout"
        },
        {
          "output_type": "display_data",
          "data": {
            "text/html": [
              "<div style=\"overflow:auto\"><table style=\"width:50%\"><tr><td>H2O cluster uptime:</td>\n",
              "<td>02 secs</td></tr>\n",
              "<tr><td>H2O cluster timezone:</td>\n",
              "<td>Etc/UTC</td></tr>\n",
              "<tr><td>H2O data parsing timezone:</td>\n",
              "<td>UTC</td></tr>\n",
              "<tr><td>H2O cluster version:</td>\n",
              "<td>3.28.1.2</td></tr>\n",
              "<tr><td>H2O cluster version age:</td>\n",
              "<td>3 days </td></tr>\n",
              "<tr><td>H2O cluster name:</td>\n",
              "<td>H2O_from_python_unknownUser_n0brdq</td></tr>\n",
              "<tr><td>H2O cluster total nodes:</td>\n",
              "<td>1</td></tr>\n",
              "<tr><td>H2O cluster free memory:</td>\n",
              "<td>2.938 Gb</td></tr>\n",
              "<tr><td>H2O cluster total cores:</td>\n",
              "<td>2</td></tr>\n",
              "<tr><td>H2O cluster allowed cores:</td>\n",
              "<td>2</td></tr>\n",
              "<tr><td>H2O cluster status:</td>\n",
              "<td>accepting new members, healthy</td></tr>\n",
              "<tr><td>H2O connection url:</td>\n",
              "<td>http://127.0.0.1:54321</td></tr>\n",
              "<tr><td>H2O connection proxy:</td>\n",
              "<td>{'http': None, 'https': None}</td></tr>\n",
              "<tr><td>H2O internal security:</td>\n",
              "<td>False</td></tr>\n",
              "<tr><td>H2O API Extensions:</td>\n",
              "<td>Amazon S3, XGBoost, Algos, AutoML, Core V3, TargetEncoder, Core V4</td></tr>\n",
              "<tr><td>Python version:</td>\n",
              "<td>3.6.9 final</td></tr></table></div>"
            ],
            "text/plain": [
              "--------------------------  ------------------------------------------------------------------\n",
              "H2O cluster uptime:         02 secs\n",
              "H2O cluster timezone:       Etc/UTC\n",
              "H2O data parsing timezone:  UTC\n",
              "H2O cluster version:        3.28.1.2\n",
              "H2O cluster version age:    3 days\n",
              "H2O cluster name:           H2O_from_python_unknownUser_n0brdq\n",
              "H2O cluster total nodes:    1\n",
              "H2O cluster free memory:    2.938 Gb\n",
              "H2O cluster total cores:    2\n",
              "H2O cluster allowed cores:  2\n",
              "H2O cluster status:         accepting new members, healthy\n",
              "H2O connection url:         http://127.0.0.1:54321\n",
              "H2O connection proxy:       {'http': None, 'https': None}\n",
              "H2O internal security:      False\n",
              "H2O API Extensions:         Amazon S3, XGBoost, Algos, AutoML, Core V3, TargetEncoder, Core V4\n",
              "Python version:             3.6.9 final\n",
              "--------------------------  ------------------------------------------------------------------"
            ]
          },
          "metadata": {
            "tags": []
          }
        }
      ]
    },
    {
      "cell_type": "markdown",
      "metadata": {
        "id": "ykRWsLYD8aZy",
        "colab_type": "text"
      },
      "source": [
        "- This will start the h2o cluster. We can start using it now."
      ]
    },
    {
      "cell_type": "markdown",
      "metadata": {
        "id": "b8uhw5lI7Xos",
        "colab_type": "text"
      },
      "source": [
        "## Using H2o AutoML"
      ]
    },
    {
      "cell_type": "markdown",
      "metadata": {
        "id": "D0ih2eKuNhg0",
        "colab_type": "text"
      },
      "source": [
        "### Loading Data"
      ]
    },
    {
      "cell_type": "markdown",
      "metadata": {
        "id": "rTtht4uh7jJH",
        "colab_type": "text"
      },
      "source": [
        "Features of H2o: -\n",
        "\n",
        "- It can do Data preprocessing. Converting categorical and continous.\n",
        "- Take care of missing value imputation.\n",
        "- Model selection it allwos a good leaderboard for models.\n",
        "- It provides a deployment ready code. \n",
        "- It gives in multiple format. MOJO, POJO and binary. Recommended MOJO\n",
        "- Supports GPU for XGBoost.\n",
        "\n",
        "- Works on both GPU and CPU\n"
      ]
    },
    {
      "cell_type": "markdown",
      "metadata": {
        "id": "lQZNXqQ08xZ4",
        "colab_type": "text"
      },
      "source": [
        "- Feature enginerring isn't possible by AutoML. It is not efficient"
      ]
    },
    {
      "cell_type": "code",
      "metadata": {
        "id": "0O9FihR77JGr",
        "colab_type": "code",
        "colab": {}
      },
      "source": [
        "from h2o.automl import H2OAutoML"
      ],
      "execution_count": 0,
      "outputs": []
    },
    {
      "cell_type": "code",
      "metadata": {
        "id": "BBMY0Kta7e3o",
        "colab_type": "code",
        "colab": {}
      },
      "source": [
        "# !nvidia-smi"
      ],
      "execution_count": 0,
      "outputs": []
    },
    {
      "cell_type": "code",
      "metadata": {
        "id": "5BFi_Ekk8Lyk",
        "colab_type": "code",
        "colab": {
          "base_uri": "https://localhost:8080/",
          "height": 35
        },
        "outputId": "553cf354-06c7-4d82-eb4c-2932fd8a6e7d"
      },
      "source": [
        "# this returns an h2o dataframe not pandas. So be careful\n",
        "churn_df = h2o.import_file('https://raw.githubusercontent.com/srivatsan88/YouTubeLI/master/dataset/WA_Fn-UseC_-Telco-Customer-Churn.csv')"
      ],
      "execution_count": 7,
      "outputs": [
        {
          "output_type": "stream",
          "text": [
            "Parse progress: |█████████████████████████████████████████████████████████| 100%\n"
          ],
          "name": "stdout"
        }
      ]
    },
    {
      "cell_type": "code",
      "metadata": {
        "id": "Wq4AkkDX8kiI",
        "colab_type": "code",
        "colab": {
          "base_uri": "https://localhost:8080/",
          "height": 403
        },
        "outputId": "e2cae1f2-1a9e-4cda-d09a-b3fc83f12e93"
      },
      "source": [
        "churn_df.types"
      ],
      "execution_count": 8,
      "outputs": [
        {
          "output_type": "execute_result",
          "data": {
            "text/plain": [
              "{'Churn': 'enum',\n",
              " 'Contract': 'enum',\n",
              " 'Dependents': 'enum',\n",
              " 'DeviceProtection': 'enum',\n",
              " 'InternetService': 'enum',\n",
              " 'MonthlyCharges': 'real',\n",
              " 'MultipleLines': 'enum',\n",
              " 'OnlineBackup': 'enum',\n",
              " 'OnlineSecurity': 'enum',\n",
              " 'PaperlessBilling': 'enum',\n",
              " 'Partner': 'enum',\n",
              " 'PaymentMethod': 'enum',\n",
              " 'PhoneService': 'enum',\n",
              " 'SeniorCitizen': 'int',\n",
              " 'StreamingMovies': 'enum',\n",
              " 'StreamingTV': 'enum',\n",
              " 'TechSupport': 'enum',\n",
              " 'TotalCharges': 'real',\n",
              " 'customerID': 'string',\n",
              " 'gender': 'enum',\n",
              " 'tenure': 'int'}"
            ]
          },
          "metadata": {
            "tags": []
          },
          "execution_count": 8
        }
      ]
    },
    {
      "cell_type": "code",
      "metadata": {
        "id": "nBD-LXsa88uW",
        "colab_type": "code",
        "colab": {
          "base_uri": "https://localhost:8080/",
          "height": 671
        },
        "outputId": "94adeb99-91c0-492d-ad4d-55dc2dfacb83"
      },
      "source": [
        "churn_df.describe()"
      ],
      "execution_count": 10,
      "outputs": [
        {
          "output_type": "stream",
          "text": [
            "Rows:7043\n",
            "Cols:21\n",
            "\n",
            "\n"
          ],
          "name": "stdout"
        },
        {
          "output_type": "display_data",
          "data": {
            "text/html": [
              "<table>\n",
              "<thead>\n",
              "<tr><th>       </th><th>customerID  </th><th>gender  </th><th>SeniorCitizen     </th><th>Partner  </th><th>Dependents  </th><th>tenure            </th><th>PhoneService  </th><th>MultipleLines   </th><th>InternetService  </th><th>OnlineSecurity  </th><th>OnlineBackup  </th><th>DeviceProtection  </th><th>TechSupport  </th><th>StreamingTV  </th><th>StreamingMovies  </th><th>Contract      </th><th>PaperlessBilling  </th><th>PaymentMethod            </th><th>MonthlyCharges    </th><th>TotalCharges     </th><th>Churn  </th></tr>\n",
              "</thead>\n",
              "<tbody>\n",
              "<tr><td>type   </td><td>string      </td><td>enum    </td><td>int               </td><td>enum     </td><td>enum        </td><td>int               </td><td>enum          </td><td>enum            </td><td>enum             </td><td>enum            </td><td>enum          </td><td>enum              </td><td>enum         </td><td>enum         </td><td>enum             </td><td>enum          </td><td>enum              </td><td>enum                     </td><td>real              </td><td>real             </td><td>enum   </td></tr>\n",
              "<tr><td>mins   </td><td>NaN         </td><td>        </td><td>0.0               </td><td>         </td><td>            </td><td>0.0               </td><td>              </td><td>                </td><td>                 </td><td>                </td><td>              </td><td>                  </td><td>             </td><td>             </td><td>                 </td><td>              </td><td>                  </td><td>                         </td><td>18.25             </td><td>18.8             </td><td>       </td></tr>\n",
              "<tr><td>mean   </td><td>NaN         </td><td>        </td><td>0.1621468124378816</td><td>         </td><td>            </td><td>32.37114865824223 </td><td>              </td><td>                </td><td>                 </td><td>                </td><td>              </td><td>                  </td><td>             </td><td>             </td><td>                 </td><td>              </td><td>                  </td><td>                         </td><td>64.76169246059916 </td><td>2283.300440841865</td><td>       </td></tr>\n",
              "<tr><td>maxs   </td><td>NaN         </td><td>        </td><td>1.0               </td><td>         </td><td>            </td><td>72.0              </td><td>              </td><td>                </td><td>                 </td><td>                </td><td>              </td><td>                  </td><td>             </td><td>             </td><td>                 </td><td>              </td><td>                  </td><td>                         </td><td>118.75            </td><td>8684.8           </td><td>       </td></tr>\n",
              "<tr><td>sigma  </td><td>NaN         </td><td>        </td><td>0.3686116056100131</td><td>         </td><td>            </td><td>24.559481023094456</td><td>              </td><td>                </td><td>                 </td><td>                </td><td>              </td><td>                  </td><td>             </td><td>             </td><td>                 </td><td>              </td><td>                  </td><td>                         </td><td>30.090047097678482</td><td>2266.771361883145</td><td>       </td></tr>\n",
              "<tr><td>zeros  </td><td>0           </td><td>        </td><td>5901              </td><td>         </td><td>            </td><td>11                </td><td>              </td><td>                </td><td>                 </td><td>                </td><td>              </td><td>                  </td><td>             </td><td>             </td><td>                 </td><td>              </td><td>                  </td><td>                         </td><td>0                 </td><td>0                </td><td>       </td></tr>\n",
              "<tr><td>missing</td><td>0           </td><td>0       </td><td>0                 </td><td>0        </td><td>0           </td><td>0                 </td><td>0             </td><td>0               </td><td>0                </td><td>0               </td><td>0             </td><td>0                 </td><td>0            </td><td>0            </td><td>0                </td><td>0             </td><td>0                 </td><td>0                        </td><td>0                 </td><td>11               </td><td>0      </td></tr>\n",
              "<tr><td>0      </td><td>7590-VHVEG  </td><td>Female  </td><td>0.0               </td><td>Yes      </td><td>No          </td><td>1.0               </td><td>No            </td><td>No phone service</td><td>DSL              </td><td>No              </td><td>Yes           </td><td>No                </td><td>No           </td><td>No           </td><td>No               </td><td>Month-to-month</td><td>Yes               </td><td>Electronic check         </td><td>29.85             </td><td>29.85            </td><td>No     </td></tr>\n",
              "<tr><td>1      </td><td>5575-GNVDE  </td><td>Male    </td><td>0.0               </td><td>No       </td><td>No          </td><td>34.0              </td><td>Yes           </td><td>No              </td><td>DSL              </td><td>Yes             </td><td>No            </td><td>Yes               </td><td>No           </td><td>No           </td><td>No               </td><td>One year      </td><td>No                </td><td>Mailed check             </td><td>56.95             </td><td>1889.5           </td><td>No     </td></tr>\n",
              "<tr><td>2      </td><td>3668-QPYBK  </td><td>Male    </td><td>0.0               </td><td>No       </td><td>No          </td><td>2.0               </td><td>Yes           </td><td>No              </td><td>DSL              </td><td>Yes             </td><td>Yes           </td><td>No                </td><td>No           </td><td>No           </td><td>No               </td><td>Month-to-month</td><td>Yes               </td><td>Mailed check             </td><td>53.85             </td><td>108.15           </td><td>Yes    </td></tr>\n",
              "<tr><td>3      </td><td>7795-CFOCW  </td><td>Male    </td><td>0.0               </td><td>No       </td><td>No          </td><td>45.0              </td><td>No            </td><td>No phone service</td><td>DSL              </td><td>Yes             </td><td>No            </td><td>Yes               </td><td>Yes          </td><td>No           </td><td>No               </td><td>One year      </td><td>No                </td><td>Bank transfer (automatic)</td><td>42.3              </td><td>1840.75          </td><td>No     </td></tr>\n",
              "<tr><td>4      </td><td>9237-HQITU  </td><td>Female  </td><td>0.0               </td><td>No       </td><td>No          </td><td>2.0               </td><td>Yes           </td><td>No              </td><td>Fiber optic      </td><td>No              </td><td>No            </td><td>No                </td><td>No           </td><td>No           </td><td>No               </td><td>Month-to-month</td><td>Yes               </td><td>Electronic check         </td><td>70.7              </td><td>151.65           </td><td>Yes    </td></tr>\n",
              "<tr><td>5      </td><td>9305-CDSKC  </td><td>Female  </td><td>0.0               </td><td>No       </td><td>No          </td><td>8.0               </td><td>Yes           </td><td>Yes             </td><td>Fiber optic      </td><td>No              </td><td>No            </td><td>Yes               </td><td>No           </td><td>Yes          </td><td>Yes              </td><td>Month-to-month</td><td>Yes               </td><td>Electronic check         </td><td>99.65             </td><td>820.5            </td><td>Yes    </td></tr>\n",
              "<tr><td>6      </td><td>1452-KIOVK  </td><td>Male    </td><td>0.0               </td><td>No       </td><td>Yes         </td><td>22.0              </td><td>Yes           </td><td>Yes             </td><td>Fiber optic      </td><td>No              </td><td>Yes           </td><td>No                </td><td>No           </td><td>Yes          </td><td>No               </td><td>Month-to-month</td><td>Yes               </td><td>Credit card (automatic)  </td><td>89.1              </td><td>1949.4           </td><td>No     </td></tr>\n",
              "<tr><td>7      </td><td>6713-OKOMC  </td><td>Female  </td><td>0.0               </td><td>No       </td><td>No          </td><td>10.0              </td><td>No            </td><td>No phone service</td><td>DSL              </td><td>Yes             </td><td>No            </td><td>No                </td><td>No           </td><td>No           </td><td>No               </td><td>Month-to-month</td><td>No                </td><td>Mailed check             </td><td>29.75             </td><td>301.9            </td><td>No     </td></tr>\n",
              "<tr><td>8      </td><td>7892-POOKP  </td><td>Female  </td><td>0.0               </td><td>Yes      </td><td>No          </td><td>28.0              </td><td>Yes           </td><td>Yes             </td><td>Fiber optic      </td><td>No              </td><td>No            </td><td>Yes               </td><td>Yes          </td><td>Yes          </td><td>Yes              </td><td>Month-to-month</td><td>Yes               </td><td>Electronic check         </td><td>104.8             </td><td>3046.05          </td><td>Yes    </td></tr>\n",
              "<tr><td>9      </td><td>6388-TABGU  </td><td>Male    </td><td>0.0               </td><td>No       </td><td>Yes         </td><td>62.0              </td><td>Yes           </td><td>No              </td><td>DSL              </td><td>Yes             </td><td>Yes           </td><td>No                </td><td>No           </td><td>No           </td><td>No               </td><td>One year      </td><td>No                </td><td>Bank transfer (automatic)</td><td>56.15             </td><td>3487.95          </td><td>No     </td></tr>\n",
              "</tbody>\n",
              "</table>"
            ]
          },
          "metadata": {
            "tags": []
          }
        }
      ]
    },
    {
      "cell_type": "markdown",
      "metadata": {
        "id": "fqP-bUH9HwFd",
        "colab_type": "text"
      },
      "source": [
        "- Splitting the dataframe using for train test and val"
      ]
    },
    {
      "cell_type": "code",
      "metadata": {
        "id": "2BLlwb7PGllH",
        "colab_type": "code",
        "colab": {}
      },
      "source": [
        "churn_train, churn_test, churn_valid = churn_df.split_frame(ratios=[0.7, 0.15])"
      ],
      "execution_count": 0,
      "outputs": []
    },
    {
      "cell_type": "code",
      "metadata": {
        "id": "Hl9_jx9QGz7M",
        "colab_type": "code",
        "colab": {}
      },
      "source": [
        "churn_train"
      ],
      "execution_count": 0,
      "outputs": []
    },
    {
      "cell_type": "markdown",
      "metadata": {
        "id": "pcjrJlLUHo0m",
        "colab_type": "text"
      },
      "source": [
        "- Remove the y column that you want to use for predictions.\n",
        "- Predict the valuse of x using these x"
      ]
    },
    {
      "cell_type": "code",
      "metadata": {
        "id": "qNVpa8qaHUzg",
        "colab_type": "code",
        "colab": {}
      },
      "source": [
        "y = \"Churn\"\n",
        "x = churn_df.columns\n",
        "x.remove(y)\n",
        "x.remove(\"customerID\")"
      ],
      "execution_count": 0,
      "outputs": []
    },
    {
      "cell_type": "markdown",
      "metadata": {
        "id": "0JsubOpILdG6",
        "colab_type": "text"
      },
      "source": [
        "- Here we use the AutoML suite to providde us models automatically that will be trained.\n",
        "\n",
        "- These models and hyperparamters are tuned automatically.\n",
        "\n",
        "- Exclude Algos will exclude the algorithms that are not required.\n",
        "\n",
        "- nfolds will take nfolds cross-validation steps from train data.\n",
        "\n",
        "- We can use other parameters such as maxmodel which will restrict the time for convergence."
      ]
    },
    {
      "cell_type": "markdown",
      "metadata": {
        "id": "5gwm86FPNmbU",
        "colab_type": "text"
      },
      "source": [
        "### Getting the Model and Predictions"
      ]
    },
    {
      "cell_type": "code",
      "metadata": {
        "id": "rfyh0DJlHiVv",
        "colab_type": "code",
        "colab": {}
      },
      "source": [
        "clf = H2OAutoML(max_models=10, seed=10, exclude_algos=[\"StackedEnsemble\", \"DeepLearning\"], verbosity=\"info\", nfolds=0)"
      ],
      "execution_count": 0,
      "outputs": []
    },
    {
      "cell_type": "code",
      "metadata": {
        "id": "Kcj7QSoSMIIW",
        "colab_type": "code",
        "colab": {
          "base_uri": "https://localhost:8080/",
          "height": 329
        },
        "outputId": "d356abab-0c7e-49c2-ef67-cb96c6f92660"
      },
      "source": [
        "# still not loaded to GPU\n",
        "!nvidia-smi"
      ],
      "execution_count": 16,
      "outputs": [
        {
          "output_type": "stream",
          "text": [
            "Sat Mar 21 13:03:24 2020       \n",
            "+-----------------------------------------------------------------------------+\n",
            "| NVIDIA-SMI 440.64.00    Driver Version: 418.67       CUDA Version: 10.1     |\n",
            "|-------------------------------+----------------------+----------------------+\n",
            "| GPU  Name        Persistence-M| Bus-Id        Disp.A | Volatile Uncorr. ECC |\n",
            "| Fan  Temp  Perf  Pwr:Usage/Cap|         Memory-Usage | GPU-Util  Compute M. |\n",
            "|===============================+======================+======================|\n",
            "|   0  Tesla P100-PCIE...  Off  | 00000000:00:04.0 Off |                    0 |\n",
            "| N/A   33C    P0    26W / 250W |      0MiB / 16280MiB |      0%      Default |\n",
            "+-------------------------------+----------------------+----------------------+\n",
            "                                                                               \n",
            "+-----------------------------------------------------------------------------+\n",
            "| Processes:                                                       GPU Memory |\n",
            "|  GPU       PID   Type   Process name                             Usage      |\n",
            "|=============================================================================|\n",
            "|  No running processes found                                                 |\n",
            "+-----------------------------------------------------------------------------+\n"
          ],
          "name": "stdout"
        }
      ]
    },
    {
      "cell_type": "code",
      "metadata": {
        "id": "WDy-qKf9MLKG",
        "colab_type": "code",
        "colab": {}
      },
      "source": [
        "clf.train(x=x, y=y, training_frame=churn_train, validation_frame=churn_valid)"
      ],
      "execution_count": 0,
      "outputs": []
    },
    {
      "cell_type": "code",
      "metadata": {
        "id": "chRjUYG4MqKk",
        "colab_type": "code",
        "colab": {
          "base_uri": "https://localhost:8080/",
          "height": 311
        },
        "outputId": "f7871ca3-f820-48d7-da7b-c9f7ec36dbd1"
      },
      "source": [
        "!nvidia-smi\n",
        "# It occupies significant GPU storage"
      ],
      "execution_count": 19,
      "outputs": [
        {
          "output_type": "stream",
          "text": [
            "Sat Mar 21 13:08:05 2020       \n",
            "+-----------------------------------------------------------------------------+\n",
            "| NVIDIA-SMI 440.64.00    Driver Version: 418.67       CUDA Version: 10.1     |\n",
            "|-------------------------------+----------------------+----------------------+\n",
            "| GPU  Name        Persistence-M| Bus-Id        Disp.A | Volatile Uncorr. ECC |\n",
            "| Fan  Temp  Perf  Pwr:Usage/Cap|         Memory-Usage | GPU-Util  Compute M. |\n",
            "|===============================+======================+======================|\n",
            "|   0  Tesla P100-PCIE...  Off  | 00000000:00:04.0 Off |                    0 |\n",
            "| N/A   34C    P0    31W / 250W |    331MiB / 16280MiB |      0%      Default |\n",
            "+-------------------------------+----------------------+----------------------+\n",
            "                                                                               \n",
            "+-----------------------------------------------------------------------------+\n",
            "| Processes:                                                       GPU Memory |\n",
            "|  GPU       PID   Type   Process name                             Usage      |\n",
            "|=============================================================================|\n",
            "+-----------------------------------------------------------------------------+\n"
          ],
          "name": "stdout"
        }
      ]
    },
    {
      "cell_type": "code",
      "metadata": {
        "id": "GMIb16NeNVQf",
        "colab_type": "code",
        "colab": {}
      },
      "source": [
        "leaderboard = clf.leaderboard"
      ],
      "execution_count": 0,
      "outputs": []
    },
    {
      "cell_type": "code",
      "metadata": {
        "id": "SLbhZVnmNbRe",
        "colab_type": "code",
        "colab": {
          "base_uri": "https://localhost:8080/",
          "height": 254
        },
        "outputId": "8f28b837-d69a-4344-86cc-b5ba640dfb77"
      },
      "source": [
        "leaderboard.head()"
      ],
      "execution_count": 21,
      "outputs": [
        {
          "output_type": "display_data",
          "data": {
            "text/html": [
              "<table>\n",
              "<thead>\n",
              "<tr><th>model_id                        </th><th style=\"text-align: right;\">     auc</th><th style=\"text-align: right;\">  logloss</th><th style=\"text-align: right;\">   aucpr</th><th style=\"text-align: right;\">  mean_per_class_error</th><th style=\"text-align: right;\">    rmse</th><th style=\"text-align: right;\">     mse</th></tr>\n",
              "</thead>\n",
              "<tbody>\n",
              "<tr><td>GBM_5_AutoML_20200321_130539    </td><td style=\"text-align: right;\">0.844425</td><td style=\"text-align: right;\"> 0.419335</td><td style=\"text-align: right;\">0.664837</td><td style=\"text-align: right;\">              0.231254</td><td style=\"text-align: right;\">0.369205</td><td style=\"text-align: right;\">0.136312</td></tr>\n",
              "<tr><td>XGBoost_3_AutoML_20200321_130539</td><td style=\"text-align: right;\">0.843975</td><td style=\"text-align: right;\"> 0.41923 </td><td style=\"text-align: right;\">0.667657</td><td style=\"text-align: right;\">              0.239216</td><td style=\"text-align: right;\">0.36923 </td><td style=\"text-align: right;\">0.13633 </td></tr>\n",
              "<tr><td>GLM_1_AutoML_20200321_130539    </td><td style=\"text-align: right;\">0.84357 </td><td style=\"text-align: right;\"> 0.421733</td><td style=\"text-align: right;\">0.654425</td><td style=\"text-align: right;\">              0.234632</td><td style=\"text-align: right;\">0.370079</td><td style=\"text-align: right;\">0.136959</td></tr>\n",
              "<tr><td>XGBoost_2_AutoML_20200321_130539</td><td style=\"text-align: right;\">0.842215</td><td style=\"text-align: right;\"> 0.421734</td><td style=\"text-align: right;\">0.663457</td><td style=\"text-align: right;\">              0.236569</td><td style=\"text-align: right;\">0.370554</td><td style=\"text-align: right;\">0.13731 </td></tr>\n",
              "<tr><td>XGBoost_1_AutoML_20200321_130539</td><td style=\"text-align: right;\">0.839703</td><td style=\"text-align: right;\"> 0.425039</td><td style=\"text-align: right;\">0.656653</td><td style=\"text-align: right;\">              0.236053</td><td style=\"text-align: right;\">0.372148</td><td style=\"text-align: right;\">0.138494</td></tr>\n",
              "<tr><td>GBM_1_AutoML_20200321_130539    </td><td style=\"text-align: right;\">0.838555</td><td style=\"text-align: right;\"> 0.427119</td><td style=\"text-align: right;\">0.654572</td><td style=\"text-align: right;\">              0.240743</td><td style=\"text-align: right;\">0.372242</td><td style=\"text-align: right;\">0.138564</td></tr>\n",
              "<tr><td>GBM_2_AutoML_20200321_130539    </td><td style=\"text-align: right;\">0.831803</td><td style=\"text-align: right;\"> 0.435027</td><td style=\"text-align: right;\">0.649952</td><td style=\"text-align: right;\">              0.240704</td><td style=\"text-align: right;\">0.375629</td><td style=\"text-align: right;\">0.141098</td></tr>\n",
              "<tr><td>GBM_3_AutoML_20200321_130539    </td><td style=\"text-align: right;\">0.82925 </td><td style=\"text-align: right;\"> 0.441194</td><td style=\"text-align: right;\">0.641319</td><td style=\"text-align: right;\">              0.242562</td><td style=\"text-align: right;\">0.378266</td><td style=\"text-align: right;\">0.143085</td></tr>\n",
              "<tr><td>GBM_4_AutoML_20200321_130539    </td><td style=\"text-align: right;\">0.823926</td><td style=\"text-align: right;\"> 0.450747</td><td style=\"text-align: right;\">0.629616</td><td style=\"text-align: right;\">              0.250035</td><td style=\"text-align: right;\">0.382712</td><td style=\"text-align: right;\">0.146469</td></tr>\n",
              "<tr><td>DRF_1_AutoML_20200321_130539    </td><td style=\"text-align: right;\">0.822647</td><td style=\"text-align: right;\"> 0.496601</td><td style=\"text-align: right;\">0.626528</td><td style=\"text-align: right;\">              0.250677</td><td style=\"text-align: right;\">0.380968</td><td style=\"text-align: right;\">0.145136</td></tr>\n",
              "</tbody>\n",
              "</table>"
            ]
          },
          "metadata": {
            "tags": []
          }
        },
        {
          "output_type": "execute_result",
          "data": {
            "text/plain": [
              ""
            ]
          },
          "metadata": {
            "tags": []
          },
          "execution_count": 21
        }
      ]
    },
    {
      "cell_type": "code",
      "metadata": {
        "id": "S29bcf12Ndte",
        "colab_type": "code",
        "colab": {
          "base_uri": "https://localhost:8080/",
          "height": 35
        },
        "outputId": "8eb570f8-fb2d-4ba5-b9a9-34971e979d80"
      },
      "source": [
        "churn_pred = clf.leader.predict(churn_test)"
      ],
      "execution_count": 22,
      "outputs": [
        {
          "output_type": "stream",
          "text": [
            "gbm prediction progress: |████████████████████████████████████████████████| 100%\n"
          ],
          "name": "stdout"
        }
      ]
    },
    {
      "cell_type": "code",
      "metadata": {
        "id": "jgpKT6ISN1LE",
        "colab_type": "code",
        "colab": {
          "base_uri": "https://localhost:8080/",
          "height": 254
        },
        "outputId": "96ccad23-ee57-4692-d1e1-875e1a73b4cd"
      },
      "source": [
        "# Gives predictions and probabilites\n",
        "churn_pred.head()"
      ],
      "execution_count": 23,
      "outputs": [
        {
          "output_type": "display_data",
          "data": {
            "text/html": [
              "<table>\n",
              "<thead>\n",
              "<tr><th>predict  </th><th style=\"text-align: right;\">      No</th><th style=\"text-align: right;\">      Yes</th></tr>\n",
              "</thead>\n",
              "<tbody>\n",
              "<tr><td>Yes      </td><td style=\"text-align: right;\">0.131629</td><td style=\"text-align: right;\">0.868371 </td></tr>\n",
              "<tr><td>No       </td><td style=\"text-align: right;\">0.971459</td><td style=\"text-align: right;\">0.0285413</td></tr>\n",
              "<tr><td>No       </td><td style=\"text-align: right;\">0.914018</td><td style=\"text-align: right;\">0.0859823</td></tr>\n",
              "<tr><td>No       </td><td style=\"text-align: right;\">0.984064</td><td style=\"text-align: right;\">0.0159356</td></tr>\n",
              "<tr><td>No       </td><td style=\"text-align: right;\">0.712962</td><td style=\"text-align: right;\">0.287038 </td></tr>\n",
              "<tr><td>No       </td><td style=\"text-align: right;\">0.678188</td><td style=\"text-align: right;\">0.321812 </td></tr>\n",
              "<tr><td>Yes      </td><td style=\"text-align: right;\">0.407469</td><td style=\"text-align: right;\">0.592531 </td></tr>\n",
              "<tr><td>No       </td><td style=\"text-align: right;\">0.965699</td><td style=\"text-align: right;\">0.0343007</td></tr>\n",
              "<tr><td>Yes      </td><td style=\"text-align: right;\">0.237306</td><td style=\"text-align: right;\">0.762694 </td></tr>\n",
              "<tr><td>No       </td><td style=\"text-align: right;\">0.949775</td><td style=\"text-align: right;\">0.0502246</td></tr>\n",
              "</tbody>\n",
              "</table>"
            ]
          },
          "metadata": {
            "tags": []
          }
        },
        {
          "output_type": "execute_result",
          "data": {
            "text/plain": [
              ""
            ]
          },
          "metadata": {
            "tags": []
          },
          "execution_count": 23
        }
      ]
    },
    {
      "cell_type": "code",
      "metadata": {
        "id": "LVcOeTMUN4Aq",
        "colab_type": "code",
        "colab": {}
      },
      "source": [
        "# Generates Performance report\n",
        "clf.leader.model_performance(churn_test)"
      ],
      "execution_count": 0,
      "outputs": []
    },
    {
      "cell_type": "markdown",
      "metadata": {
        "id": "sRJtc-97QMPt",
        "colab_type": "text"
      },
      "source": [
        "### Selecting Custom Model from leaderboards and using it"
      ]
    },
    {
      "cell_type": "code",
      "metadata": {
        "id": "KGGcV4IuOAP6",
        "colab_type": "code",
        "colab": {}
      },
      "source": [
        "model_ids = list(clf.leaderboard['model_id'].as_data_frame().iloc[:, 0])"
      ],
      "execution_count": 0,
      "outputs": []
    },
    {
      "cell_type": "code",
      "metadata": {
        "id": "BYaAFcCAQdz9",
        "colab_type": "code",
        "colab": {
          "base_uri": "https://localhost:8080/",
          "height": 201
        },
        "outputId": "cb2bfa1e-ac3b-4b24-c4b3-83f080d07177"
      },
      "source": [
        "model_ids"
      ],
      "execution_count": 26,
      "outputs": [
        {
          "output_type": "execute_result",
          "data": {
            "text/plain": [
              "['GBM_5_AutoML_20200321_130539',\n",
              " 'XGBoost_3_AutoML_20200321_130539',\n",
              " 'GLM_1_AutoML_20200321_130539',\n",
              " 'XGBoost_2_AutoML_20200321_130539',\n",
              " 'XGBoost_1_AutoML_20200321_130539',\n",
              " 'GBM_1_AutoML_20200321_130539',\n",
              " 'GBM_2_AutoML_20200321_130539',\n",
              " 'GBM_3_AutoML_20200321_130539',\n",
              " 'GBM_4_AutoML_20200321_130539',\n",
              " 'DRF_1_AutoML_20200321_130539']"
            ]
          },
          "metadata": {
            "tags": []
          },
          "execution_count": 26
        }
      ]
    },
    {
      "cell_type": "code",
      "metadata": {
        "id": "t_7gZptFQfY7",
        "colab_type": "code",
        "colab": {
          "base_uri": "https://localhost:8080/",
          "height": 35
        },
        "outputId": "52e80858-42cf-415c-e369-65aceead9b9a"
      },
      "source": [
        "xgb_models = []\n",
        "for model in model_ids:\n",
        "    if \"XGBoost\" in model:\n",
        "        xgb_models.append(model)\n",
        "print(xgb_models)"
      ],
      "execution_count": 28,
      "outputs": [
        {
          "output_type": "stream",
          "text": [
            "['XGBoost_3_AutoML_20200321_130539', 'XGBoost_2_AutoML_20200321_130539', 'XGBoost_1_AutoML_20200321_130539']\n"
          ],
          "name": "stdout"
        }
      ]
    },
    {
      "cell_type": "code",
      "metadata": {
        "id": "GBfiG7SYQqYL",
        "colab_type": "code",
        "colab": {}
      },
      "source": [
        "# h2o.get_model([mid for mid in model_ids if \"XGBoost\" in mid][0])\n",
        "xgb_model = xgb_models[0]"
      ],
      "execution_count": 0,
      "outputs": []
    },
    {
      "cell_type": "code",
      "metadata": {
        "id": "JyXt9XJaRHOI",
        "colab_type": "code",
        "colab": {}
      },
      "source": [
        "xgb_chosen = h2o.get_model(xgb_model)"
      ],
      "execution_count": 0,
      "outputs": []
    },
    {
      "cell_type": "code",
      "metadata": {
        "id": "8zBNCxUKRR8g",
        "colab_type": "code",
        "colab": {}
      },
      "source": [
        "# Note these are h2o params which maybe not interpretable\n",
        "xgb_chosen.params"
      ],
      "execution_count": 0,
      "outputs": []
    },
    {
      "cell_type": "code",
      "metadata": {
        "id": "Un_1TkhdRVD4",
        "colab_type": "code",
        "colab": {
          "base_uri": "https://localhost:8080/",
          "height": 403
        },
        "outputId": "d69ca254-2389-4a94-b04f-0c9fd8703978"
      },
      "source": [
        "# These are XGBoost paramters that are interpretable\n",
        "xgb_chosen.convert_H2OXGBoostParams_2_XGBoostParams()"
      ],
      "execution_count": 33,
      "outputs": [
        {
          "output_type": "execute_result",
          "data": {
            "text/plain": [
              "({'alpha': 0.0,\n",
              "  'booster': 'gbtree',\n",
              "  'colsample_bylevel': 0.8,\n",
              "  'colsample_bytree': 0.8,\n",
              "  'eta': 0.05,\n",
              "  'gamma': 0.0,\n",
              "  'gpu_id': 0,\n",
              "  'grow_policy': 'depthwise',\n",
              "  'lambda': 1.0,\n",
              "  'max_bin': 256,\n",
              "  'max_delta_step': 0.0,\n",
              "  'max_depth': 5,\n",
              "  'min_child_weight': 3.0,\n",
              "  'nround': 90,\n",
              "  'nthread': 2,\n",
              "  'objective': 'binary:logistic',\n",
              "  'seed': 12,\n",
              "  'silent': True,\n",
              "  'subsample': 0.8,\n",
              "  'updater': 'grow_gpu_hist'},\n",
              " 90)"
            ]
          },
          "metadata": {
            "tags": []
          },
          "execution_count": 33
        }
      ]
    },
    {
      "cell_type": "code",
      "metadata": {
        "id": "q3a43oRYRgn-",
        "colab_type": "code",
        "colab": {}
      },
      "source": [
        "print(xgb_chosen)"
      ],
      "execution_count": 0,
      "outputs": []
    },
    {
      "cell_type": "code",
      "metadata": {
        "id": "5K1Eov61Rndd",
        "colab_type": "code",
        "colab": {
          "base_uri": "https://localhost:8080/",
          "height": 199
        },
        "outputId": "ac1738e9-186f-4df2-8822-c5bc37ea5e84"
      },
      "source": [
        "print(xgb_chosen.confusion_matrix())"
      ],
      "execution_count": 35,
      "outputs": [
        {
          "output_type": "stream",
          "text": [
            "\n",
            "Confusion Matrix (Act/Pred) for max f1 @ threshold = 0.3574117339319653: \n"
          ],
          "name": "stdout"
        },
        {
          "output_type": "display_data",
          "data": {
            "text/html": [
              "<div>\n",
              "<style scoped>\n",
              "    .dataframe tbody tr th:only-of-type {\n",
              "        vertical-align: middle;\n",
              "    }\n",
              "\n",
              "    .dataframe tbody tr th {\n",
              "        vertical-align: top;\n",
              "    }\n",
              "\n",
              "    .dataframe thead th {\n",
              "        text-align: right;\n",
              "    }\n",
              "</style>\n",
              "<table border=\"1\" class=\"dataframe\">\n",
              "  <thead>\n",
              "    <tr style=\"text-align: right;\">\n",
              "      <th></th>\n",
              "      <th></th>\n",
              "      <th>No</th>\n",
              "      <th>Yes</th>\n",
              "      <th>Error</th>\n",
              "      <th>Rate</th>\n",
              "    </tr>\n",
              "  </thead>\n",
              "  <tbody>\n",
              "    <tr>\n",
              "      <th>0</th>\n",
              "      <td>No</td>\n",
              "      <td>3032.0</td>\n",
              "      <td>563.0</td>\n",
              "      <td>0.1566</td>\n",
              "      <td>(563.0/3595.0)</td>\n",
              "    </tr>\n",
              "    <tr>\n",
              "      <th>1</th>\n",
              "      <td>Yes</td>\n",
              "      <td>321.0</td>\n",
              "      <td>1007.0</td>\n",
              "      <td>0.2417</td>\n",
              "      <td>(321.0/1328.0)</td>\n",
              "    </tr>\n",
              "    <tr>\n",
              "      <th>2</th>\n",
              "      <td>Total</td>\n",
              "      <td>3353.0</td>\n",
              "      <td>1570.0</td>\n",
              "      <td>0.1796</td>\n",
              "      <td>(884.0/4923.0)</td>\n",
              "    </tr>\n",
              "  </tbody>\n",
              "</table>\n",
              "</div>"
            ],
            "text/plain": [
              "              No     Yes   Error             Rate\n",
              "0     No  3032.0   563.0  0.1566   (563.0/3595.0)\n",
              "1    Yes   321.0  1007.0  0.2417   (321.0/1328.0)\n",
              "2  Total  3353.0  1570.0  0.1796   (884.0/4923.0)"
            ]
          },
          "metadata": {
            "tags": []
          }
        },
        {
          "output_type": "stream",
          "text": [
            "\n"
          ],
          "name": "stdout"
        }
      ]
    },
    {
      "cell_type": "code",
      "metadata": {
        "id": "7RDE2HaJRwDG",
        "colab_type": "code",
        "colab": {}
      },
      "source": [
        "# Shows us the variable importance\n",
        "print(xgb_chosen.varimp_plot())"
      ],
      "execution_count": 0,
      "outputs": []
    },
    {
      "cell_type": "code",
      "metadata": {
        "id": "lp8ootEZR65l",
        "colab_type": "code",
        "colab": {
          "base_uri": "https://localhost:8080/",
          "height": 35
        },
        "outputId": "74f878c7-ec60-4491-f2d3-610436c10eba"
      },
      "source": [
        "# Donwloading the model to deploy it\n",
        "xgb_chosen.download_model('/content/')\n",
        "xgb_chosen.download_mojo('/content/')\n",
        "xgb_chosen.download_pojo('/content/')"
      ],
      "execution_count": 37,
      "outputs": [
        {
          "output_type": "execute_result",
          "data": {
            "text/plain": [
              "'/content/XGBoost_3_AutoML_20200321_130539.java'"
            ]
          },
          "metadata": {
            "tags": []
          },
          "execution_count": 37
        }
      ]
    }
  ]
}