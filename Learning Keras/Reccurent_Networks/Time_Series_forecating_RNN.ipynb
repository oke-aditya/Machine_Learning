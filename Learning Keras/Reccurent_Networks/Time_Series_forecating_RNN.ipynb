{
  "nbformat": 4,
  "nbformat_minor": 0,
  "metadata": {
    "colab": {
      "name": "Time-Series-forecating-RNN.ipynb",
      "version": "0.3.2",
      "provenance": []
    },
    "kernelspec": {
      "name": "python3",
      "display_name": "Python 3"
    },
    "accelerator": "GPU"
  },
  "cells": [
    {
      "cell_type": "markdown",
      "metadata": {
        "id": "eniUWnqc8P7A",
        "colab_type": "text"
      },
      "source": [
        "# About"
      ]
    },
    {
      "cell_type": "markdown",
      "metadata": {
        "id": "zDL3pey9nL5U",
        "colab_type": "text"
      },
      "source": [
        "Note about the dataset.\n",
        "\n",
        "* This dataset contains the information about crypotocurrency.\n",
        "* There are four cryptocurrencies given to us.\n",
        "* Bitcoin cash, Bitcoin, Ethcoin and Litecoin.\n",
        "* We have data available for each cryptocurrec for a few minutes.\n",
        "* We need to forecast the next value of the cryptocurrency after certain time.\n",
        "\n"
      ]
    },
    {
      "cell_type": "markdown",
      "metadata": {
        "id": "sD6Ub6mNn7mi",
        "colab_type": "text"
      },
      "source": [
        "Note about the columns in the dataset:-\n",
        "* The columns contain time given by the unix system.\n",
        "* High refers to highest value of currency for the time interval.\n",
        "* Low refers to lowest value of the currency for the time interval.\n",
        "* Open refers to the opening value at the start of the time interval.\n",
        "* Close refers the the closing value at the end of time interval.\n",
        "* Volume refers to the amount of bitcoin traded."
      ]
    },
    {
      "cell_type": "code",
      "metadata": {
        "id": "sw16W5CM_I0H",
        "colab_type": "code",
        "outputId": "925dd2a5-b94f-42f9-d84b-966775308c14",
        "colab": {
          "base_uri": "https://localhost:8080/",
          "height": 36
        }
      },
      "source": [
        "pip install tensorboardcolab"
      ],
      "execution_count": 143,
      "outputs": [
        {
          "output_type": "stream",
          "text": [
            "Requirement already satisfied: tensorboardcolab in /usr/local/lib/python3.6/dist-packages (0.0.22)\n"
          ],
          "name": "stdout"
        }
      ]
    },
    {
      "cell_type": "markdown",
      "metadata": {
        "id": "5Iqgfbkw0UO8",
        "colab_type": "text"
      },
      "source": [
        "# Imports"
      ]
    },
    {
      "cell_type": "code",
      "metadata": {
        "id": "PKyLYI3d0Wau",
        "colab_type": "code",
        "colab": {}
      },
      "source": [
        "import pandas as pd\n",
        "from sklearn import preprocessing\n",
        "from collections import deque\n",
        "import random\n",
        "import time\n",
        "import numpy as np\n",
        "import os"
      ],
      "execution_count": 0,
      "outputs": []
    },
    {
      "cell_type": "code",
      "metadata": {
        "id": "wF1uASlGSdMp",
        "colab_type": "code",
        "colab": {}
      },
      "source": [
        "import matplotlib.pyplot as plt\n",
        "from matplotlib import style\n",
        "style.use('ggplot')"
      ],
      "execution_count": 0,
      "outputs": []
    },
    {
      "cell_type": "code",
      "metadata": {
        "id": "bYULz6DB0XY6",
        "colab_type": "code",
        "colab": {}
      },
      "source": [
        "import tensorflow as tf\n",
        "from keras import layers\n",
        "from keras import optimizers\n",
        "from keras.models import Sequential\n",
        "from keras.callbacks import ModelCheckpoint"
      ],
      "execution_count": 0,
      "outputs": []
    },
    {
      "cell_type": "code",
      "metadata": {
        "id": "sLda-1ohEjI3",
        "colab_type": "code",
        "colab": {
          "base_uri": "https://localhost:8080/",
          "height": 73
        },
        "outputId": "652882d7-4de7-48f4-9b91-13131820576b"
      },
      "source": [
        "from tensorboardcolab import TensorBoardColab, TensorBoardColabCallback\n",
        "tbc=TensorBoardColab()"
      ],
      "execution_count": 147,
      "outputs": [
        {
          "output_type": "stream",
          "text": [
            "Wait for 8 seconds...\n",
            "TensorBoard link:\n",
            "https://97058be3.ngrok.io\n"
          ],
          "name": "stdout"
        }
      ]
    },
    {
      "cell_type": "markdown",
      "metadata": {
        "id": "3baVVSUH8W4O",
        "colab_type": "text"
      },
      "source": [
        "# Pre-processing"
      ]
    },
    {
      "cell_type": "code",
      "metadata": {
        "id": "WD_JyjKwb92d",
        "colab_type": "code",
        "outputId": "8d278680-d3b0-4031-a1e8-0fd7c4bf4050",
        "colab": {
          "base_uri": "https://localhost:8080/",
          "height": 0
        }
      },
      "source": [
        "df = pd.read_csv('BCH-USD.csv', names = ['time', 'low', 'high', 'open', 'close', 'volume'], verbose = True)"
      ],
      "execution_count": 148,
      "outputs": [
        {
          "output_type": "stream",
          "text": [
            "Tokenization took: 40.92 ms\n",
            "Type conversion took: 32.86 ms\n",
            "Parser memory cleanup took: 0.00 ms\n"
          ],
          "name": "stdout"
        }
      ]
    },
    {
      "cell_type": "code",
      "metadata": {
        "id": "uVaot076cNEh",
        "colab_type": "code",
        "outputId": "4333d82d-dded-4e48-efc1-0850b74c5af2",
        "colab": {
          "base_uri": "https://localhost:8080/",
          "height": 0
        }
      },
      "source": [
        "df.tail()"
      ],
      "execution_count": 149,
      "outputs": [
        {
          "output_type": "execute_result",
          "data": {
            "text/html": [
              "<div>\n",
              "<style scoped>\n",
              "    .dataframe tbody tr th:only-of-type {\n",
              "        vertical-align: middle;\n",
              "    }\n",
              "\n",
              "    .dataframe tbody tr th {\n",
              "        vertical-align: top;\n",
              "    }\n",
              "\n",
              "    .dataframe thead th {\n",
              "        text-align: right;\n",
              "    }\n",
              "</style>\n",
              "<table border=\"1\" class=\"dataframe\">\n",
              "  <thead>\n",
              "    <tr style=\"text-align: right;\">\n",
              "      <th></th>\n",
              "      <th>time</th>\n",
              "      <th>low</th>\n",
              "      <th>high</th>\n",
              "      <th>open</th>\n",
              "      <th>close</th>\n",
              "      <th>volume</th>\n",
              "    </tr>\n",
              "  </thead>\n",
              "  <tbody>\n",
              "    <tr>\n",
              "      <th>92220</th>\n",
              "      <td>1535215020</td>\n",
              "      <td>531.479980</td>\n",
              "      <td>531.479980</td>\n",
              "      <td>531.479980</td>\n",
              "      <td>531.479980</td>\n",
              "      <td>0.016868</td>\n",
              "    </tr>\n",
              "    <tr>\n",
              "      <th>92221</th>\n",
              "      <td>1535215080</td>\n",
              "      <td>531.469971</td>\n",
              "      <td>531.469971</td>\n",
              "      <td>531.469971</td>\n",
              "      <td>531.469971</td>\n",
              "      <td>0.013854</td>\n",
              "    </tr>\n",
              "    <tr>\n",
              "      <th>92222</th>\n",
              "      <td>1535215140</td>\n",
              "      <td>531.479980</td>\n",
              "      <td>531.479980</td>\n",
              "      <td>531.479980</td>\n",
              "      <td>531.479980</td>\n",
              "      <td>0.016900</td>\n",
              "    </tr>\n",
              "    <tr>\n",
              "      <th>92223</th>\n",
              "      <td>1535215200</td>\n",
              "      <td>531.479980</td>\n",
              "      <td>531.479980</td>\n",
              "      <td>531.479980</td>\n",
              "      <td>531.479980</td>\n",
              "      <td>0.299520</td>\n",
              "    </tr>\n",
              "    <tr>\n",
              "      <th>92224</th>\n",
              "      <td>1535215260</td>\n",
              "      <td>531.479980</td>\n",
              "      <td>531.630005</td>\n",
              "      <td>531.479980</td>\n",
              "      <td>531.630005</td>\n",
              "      <td>3.528913</td>\n",
              "    </tr>\n",
              "  </tbody>\n",
              "</table>\n",
              "</div>"
            ],
            "text/plain": [
              "             time         low        high        open       close    volume\n",
              "92220  1535215020  531.479980  531.479980  531.479980  531.479980  0.016868\n",
              "92221  1535215080  531.469971  531.469971  531.469971  531.469971  0.013854\n",
              "92222  1535215140  531.479980  531.479980  531.479980  531.479980  0.016900\n",
              "92223  1535215200  531.479980  531.479980  531.479980  531.479980  0.299520\n",
              "92224  1535215260  531.479980  531.630005  531.479980  531.630005  3.528913"
            ]
          },
          "metadata": {
            "tags": []
          },
          "execution_count": 149
        }
      ]
    },
    {
      "cell_type": "markdown",
      "metadata": {
        "id": "SoRuikeApNTD",
        "colab_type": "text"
      },
      "source": [
        "* Need to join all the datasets using common column time."
      ]
    },
    {
      "cell_type": "code",
      "metadata": {
        "id": "-kuIWjhpqBKS",
        "colab_type": "code",
        "outputId": "efdc9c35-1bae-497f-9faf-15346da98fd8",
        "colab": {
          "base_uri": "https://localhost:8080/",
          "height": 0
        }
      },
      "source": [
        "main_df = pd.DataFrame()\n",
        "ratios = [\"BTC-USD\", \"LTC-USD\", \"BCH-USD\", \"ETH-USD\"]\n",
        "for ratio in ratios:\n",
        "    # print(ratio)\n",
        "    dataset = ratio + '.csv'\n",
        "    df = pd.read_csv(dataset, names = ['time', 'low', 'high', 'open', 'close', 'volume'])\n",
        "    df.rename(columns = {\"close\": ratio + \"_close\", \"volume\" : ratio + \"_volume\"}, inplace = True)\n",
        "    df.set_index(\"time\", inplace = True)\n",
        "\n",
        "    df = df[[ratio + \"_close\", ratio + \"_volume\"]]\n",
        "    print(df.head())\n",
        "    if(len(main_df) == 0):\n",
        "        main_df = df\n",
        "    else:\n",
        "        main_df = main_df.join(df)"
      ],
      "execution_count": 150,
      "outputs": [
        {
          "output_type": "stream",
          "text": [
            "            BTC-USD_close  BTC-USD_volume\n",
            "time                                     \n",
            "1528968660    6489.549805        0.587100\n",
            "1528968720    6487.379883        7.706374\n",
            "1528968780    6479.410156        3.088252\n",
            "1528968840    6479.410156        1.404100\n",
            "1528968900    6479.979980        0.753000\n",
            "            LTC-USD_close  LTC-USD_volume\n",
            "time                                     \n",
            "1528968660      96.580002        9.647200\n",
            "1528968720      96.660004      314.387024\n",
            "1528968780      96.570000       77.129799\n",
            "1528968840      96.500000        7.216067\n",
            "1528968900      96.389999      524.539978\n",
            "            BCH-USD_close  BCH-USD_volume\n",
            "time                                     \n",
            "1528968660     871.719971        5.675361\n",
            "1528968720     870.859985       26.856577\n",
            "1528968780     870.099976        1.124300\n",
            "1528968840     870.789978        1.749862\n",
            "1528968900     870.000000        1.680500\n",
            "            ETH-USD_close  ETH-USD_volume\n",
            "time                                     \n",
            "1528968720      486.01001       26.019083\n",
            "1528968780      486.00000        8.449400\n",
            "1528968840      485.75000       26.994646\n",
            "1528968900      486.00000       77.355759\n",
            "1528968960      486.00000        7.503300\n"
          ],
          "name": "stdout"
        }
      ]
    },
    {
      "cell_type": "code",
      "metadata": {
        "id": "Sm4Mqr4yw3kw",
        "colab_type": "code",
        "outputId": "b88f3353-1ad7-4cdd-a8d8-c5e35c38e34a",
        "colab": {
          "base_uri": "https://localhost:8080/",
          "height": 0
        }
      },
      "source": [
        "for column in main_df.columns:\n",
        "    print(column)"
      ],
      "execution_count": 151,
      "outputs": [
        {
          "output_type": "stream",
          "text": [
            "BTC-USD_close\n",
            "BTC-USD_volume\n",
            "LTC-USD_close\n",
            "LTC-USD_volume\n",
            "BCH-USD_close\n",
            "BCH-USD_volume\n",
            "ETH-USD_close\n",
            "ETH-USD_volume\n"
          ],
          "name": "stdout"
        }
      ]
    },
    {
      "cell_type": "code",
      "metadata": {
        "id": "p2UyRIO_x9Pj",
        "colab_type": "code",
        "outputId": "d50c5865-357f-4278-c885-00f78e0410ff",
        "colab": {
          "base_uri": "https://localhost:8080/",
          "height": 0
        }
      },
      "source": [
        "main_df.fillna(method = \"ffill\", inplace = True)     # ffill fills it using the previously known values\n",
        "main_df.dropna(inplace = True)                       # If we cannot fill the dataframe still then we need to discared the values\n",
        "print(main_df.head())"
      ],
      "execution_count": 152,
      "outputs": [
        {
          "output_type": "stream",
          "text": [
            "            BTC-USD_close  BTC-USD_volume  ...  ETH-USD_close  ETH-USD_volume\n",
            "time                                       ...                               \n",
            "1528968720    6487.379883        7.706374  ...      486.01001       26.019083\n",
            "1528968780    6479.410156        3.088252  ...      486.00000        8.449400\n",
            "1528968840    6479.410156        1.404100  ...      485.75000       26.994646\n",
            "1528968900    6479.979980        0.753000  ...      486.00000       77.355759\n",
            "1528968960    6480.000000        1.490900  ...      486.00000        7.503300\n",
            "\n",
            "[5 rows x 8 columns]\n"
          ],
          "name": "stdout"
        }
      ]
    },
    {
      "cell_type": "code",
      "metadata": {
        "id": "KmHcTKgEydYj",
        "colab_type": "code",
        "outputId": "35f86d59-cf5c-4b17-a435-25e878bc71fd",
        "colab": {
          "base_uri": "https://localhost:8080/",
          "height": 0
        }
      },
      "source": [
        "main_df.isnull().values.any()   # This checks if there are any missing values in the main dataframe"
      ],
      "execution_count": 153,
      "outputs": [
        {
          "output_type": "execute_result",
          "data": {
            "text/plain": [
              "False"
            ]
          },
          "metadata": {
            "tags": []
          },
          "execution_count": 153
        }
      ]
    },
    {
      "cell_type": "markdown",
      "metadata": {
        "id": "rdE4iC8D61in",
        "colab_type": "text"
      },
      "source": [
        "# Feature Engineering\n"
      ]
    },
    {
      "cell_type": "markdown",
      "metadata": {
        "id": "a-egryBr53yI",
        "colab_type": "text"
      },
      "source": [
        "* We need to create a target output.\n",
        "* Here the target output is the price the cryptocurrency.\n",
        "* We need these hyper-parameters here: \n",
        "* SEQ_LEN = Length of the sequence required of the RNN.\n",
        "* FUTURE_PERIOD_PREDICT = how fare we are tring to predict\n",
        "* RATIO-TO-PRED = Which cryptocurrency we are predicting. "
      ]
    },
    {
      "cell_type": "markdown",
      "metadata": {
        "id": "gWCZIMmf8jit",
        "colab_type": "text"
      },
      "source": [
        "* We can create a new column based on profit or loss.\n",
        "* If the selling value of the item is greater in future than at present then we have profit.\n",
        "* We can assign this to be 1."
      ]
    },
    {
      "cell_type": "code",
      "metadata": {
        "id": "CD9t5B7GylHO",
        "colab_type": "code",
        "colab": {}
      },
      "source": [
        "SEQ_LEN = 60\n",
        "FUTURE_PERIOD_PREDICT = 3  # 3 min in future\n",
        "RATIO_TO_PRED = \"LTC-USD\""
      ],
      "execution_count": 0,
      "outputs": []
    },
    {
      "cell_type": "code",
      "metadata": {
        "id": "E8PafDJS6tln",
        "colab_type": "code",
        "colab": {}
      },
      "source": [
        "def classify(current, future):\n",
        "    if(future > current):\n",
        "        return(1)\n",
        "    else:\n",
        "        return(0)\n",
        "        "
      ],
      "execution_count": 0,
      "outputs": []
    },
    {
      "cell_type": "code",
      "metadata": {
        "id": "EMlmMuNM7LTw",
        "colab_type": "code",
        "colab": {}
      },
      "source": [
        "# Creating a new future column. This is created by shifting the close column by 3 minutes upwards.\n",
        "main_df['future'] = main_df[RATIO_TO_PRED + \"_close\"].shift(-FUTURE_PERIOD_PREDICT) "
      ],
      "execution_count": 0,
      "outputs": []
    },
    {
      "cell_type": "code",
      "metadata": {
        "id": "0vCFAjQb7vQ0",
        "colab_type": "code",
        "colab": {}
      },
      "source": [
        "main_df['target'] = list(map(classify, main_df[RATIO_TO_PRED + \"_close\"], main_df['future']))"
      ],
      "execution_count": 0,
      "outputs": []
    },
    {
      "cell_type": "markdown",
      "metadata": {
        "id": "J4AWp72R-djB",
        "colab_type": "text"
      },
      "source": [
        "# Normalizing and Creating Validation Data"
      ]
    },
    {
      "cell_type": "code",
      "metadata": {
        "id": "2JROI2pY8FGW",
        "colab_type": "code",
        "outputId": "514e84e8-e491-4059-efdf-e7c66e42deff",
        "colab": {
          "base_uri": "https://localhost:8080/",
          "height": 0
        }
      },
      "source": [
        "main_df.tail()"
      ],
      "execution_count": 158,
      "outputs": [
        {
          "output_type": "execute_result",
          "data": {
            "text/html": [
              "<div>\n",
              "<style scoped>\n",
              "    .dataframe tbody tr th:only-of-type {\n",
              "        vertical-align: middle;\n",
              "    }\n",
              "\n",
              "    .dataframe tbody tr th {\n",
              "        vertical-align: top;\n",
              "    }\n",
              "\n",
              "    .dataframe thead th {\n",
              "        text-align: right;\n",
              "    }\n",
              "</style>\n",
              "<table border=\"1\" class=\"dataframe\">\n",
              "  <thead>\n",
              "    <tr style=\"text-align: right;\">\n",
              "      <th></th>\n",
              "      <th>BTC-USD_close</th>\n",
              "      <th>BTC-USD_volume</th>\n",
              "      <th>LTC-USD_close</th>\n",
              "      <th>LTC-USD_volume</th>\n",
              "      <th>BCH-USD_close</th>\n",
              "      <th>BCH-USD_volume</th>\n",
              "      <th>ETH-USD_close</th>\n",
              "      <th>ETH-USD_volume</th>\n",
              "      <th>future</th>\n",
              "      <th>target</th>\n",
              "    </tr>\n",
              "    <tr>\n",
              "      <th>time</th>\n",
              "      <th></th>\n",
              "      <th></th>\n",
              "      <th></th>\n",
              "      <th></th>\n",
              "      <th></th>\n",
              "      <th></th>\n",
              "      <th></th>\n",
              "      <th></th>\n",
              "      <th></th>\n",
              "      <th></th>\n",
              "    </tr>\n",
              "  </thead>\n",
              "  <tbody>\n",
              "    <tr>\n",
              "      <th>1535214960</th>\n",
              "      <td>6713.140137</td>\n",
              "      <td>0.769891</td>\n",
              "      <td>58.020000</td>\n",
              "      <td>6.434783</td>\n",
              "      <td>531.479980</td>\n",
              "      <td>1.208560</td>\n",
              "      <td>279.359985</td>\n",
              "      <td>11.280577</td>\n",
              "      <td>58.020000</td>\n",
              "      <td>0</td>\n",
              "    </tr>\n",
              "    <tr>\n",
              "      <th>1535215020</th>\n",
              "      <td>6714.520020</td>\n",
              "      <td>1.002652</td>\n",
              "      <td>58.009998</td>\n",
              "      <td>7.301921</td>\n",
              "      <td>531.479980</td>\n",
              "      <td>0.016868</td>\n",
              "      <td>279.359985</td>\n",
              "      <td>8.790519</td>\n",
              "      <td>58.080002</td>\n",
              "      <td>1</td>\n",
              "    </tr>\n",
              "    <tr>\n",
              "      <th>1535215080</th>\n",
              "      <td>6714.520020</td>\n",
              "      <td>1.021925</td>\n",
              "      <td>58.020000</td>\n",
              "      <td>23.802017</td>\n",
              "      <td>531.469971</td>\n",
              "      <td>0.013854</td>\n",
              "      <td>279.369995</td>\n",
              "      <td>1.311763</td>\n",
              "      <td>NaN</td>\n",
              "      <td>0</td>\n",
              "    </tr>\n",
              "    <tr>\n",
              "      <th>1535215140</th>\n",
              "      <td>6715.000000</td>\n",
              "      <td>3.645508</td>\n",
              "      <td>58.020000</td>\n",
              "      <td>6.953497</td>\n",
              "      <td>531.479980</td>\n",
              "      <td>0.016900</td>\n",
              "      <td>279.660004</td>\n",
              "      <td>11.752819</td>\n",
              "      <td>NaN</td>\n",
              "      <td>0</td>\n",
              "    </tr>\n",
              "    <tr>\n",
              "      <th>1535215200</th>\n",
              "      <td>6715.000000</td>\n",
              "      <td>0.513560</td>\n",
              "      <td>58.080002</td>\n",
              "      <td>202.403183</td>\n",
              "      <td>531.479980</td>\n",
              "      <td>0.299520</td>\n",
              "      <td>279.649994</td>\n",
              "      <td>8.351710</td>\n",
              "      <td>NaN</td>\n",
              "      <td>0</td>\n",
              "    </tr>\n",
              "  </tbody>\n",
              "</table>\n",
              "</div>"
            ],
            "text/plain": [
              "            BTC-USD_close  BTC-USD_volume  ...     future  target\n",
              "time                                       ...                   \n",
              "1535214960    6713.140137        0.769891  ...  58.020000       0\n",
              "1535215020    6714.520020        1.002652  ...  58.080002       1\n",
              "1535215080    6714.520020        1.021925  ...        NaN       0\n",
              "1535215140    6715.000000        3.645508  ...        NaN       0\n",
              "1535215200    6715.000000        0.513560  ...        NaN       0\n",
              "\n",
              "[5 rows x 10 columns]"
            ]
          },
          "metadata": {
            "tags": []
          },
          "execution_count": 158
        }
      ]
    },
    {
      "cell_type": "markdown",
      "metadata": {
        "id": "fcjZgYMaAE9z",
        "colab_type": "text"
      },
      "source": [
        "* We need to pick the last 5 percent of the time data sample as validation data."
      ]
    },
    {
      "cell_type": "code",
      "metadata": {
        "id": "GnFmNibG8HK0",
        "colab_type": "code",
        "colab": {}
      },
      "source": [
        "times = sorted(main_df.index.values)\n",
        "last5_pct = sorted(main_df.index.values) [-int(0.05 * len(times))]"
      ],
      "execution_count": 0,
      "outputs": []
    },
    {
      "cell_type": "code",
      "metadata": {
        "id": "Hap72-nYAomv",
        "colab_type": "code",
        "colab": {}
      },
      "source": [
        "main_validation_df = main_df[(main_df.index >= last5_pct)]\n",
        "main_df = main_df[(main_df.index < last5_pct)]"
      ],
      "execution_count": 0,
      "outputs": []
    },
    {
      "cell_type": "code",
      "metadata": {
        "id": "qJ3ZDgcSrNPu",
        "colab_type": "code",
        "outputId": "af4bd70d-c488-46e9-f3c0-549348c275cc",
        "colab": {
          "base_uri": "https://localhost:8080/",
          "height": 0
        }
      },
      "source": [
        "print(main_validation_df.head())"
      ],
      "execution_count": 161,
      "outputs": [
        {
          "output_type": "stream",
          "text": [
            "            BTC-USD_close  BTC-USD_volume  ...     future  target\n",
            "time                                       ...                   \n",
            "1534922100    6684.500000        0.969366  ...  57.509998       0\n",
            "1534922160    6684.500000        0.611018  ...  57.509998       0\n",
            "1534922220    6682.740234        1.121768  ...  57.509998       0\n",
            "1534922280    6682.660156        0.912729  ...  57.500000       0\n",
            "1534922340    6682.450195        0.334119  ...  57.509998       0\n",
            "\n",
            "[5 rows x 10 columns]\n"
          ],
          "name": "stdout"
        }
      ]
    },
    {
      "cell_type": "code",
      "metadata": {
        "id": "zmYROd6JrQkt",
        "colab_type": "code",
        "outputId": "e0aa2ee2-9ebb-42c3-a683-2b1757486ea6",
        "colab": {
          "base_uri": "https://localhost:8080/",
          "height": 0
        }
      },
      "source": [
        "print(main_df.head())"
      ],
      "execution_count": 162,
      "outputs": [
        {
          "output_type": "stream",
          "text": [
            "            BTC-USD_close  BTC-USD_volume  ...     future  target\n",
            "time                                       ...                   \n",
            "1528968720    6487.379883        7.706374  ...  96.389999       0\n",
            "1528968780    6479.410156        3.088252  ...  96.519997       0\n",
            "1528968840    6479.410156        1.404100  ...  96.440002       0\n",
            "1528968900    6479.979980        0.753000  ...  96.470001       1\n",
            "1528968960    6480.000000        1.490900  ...  96.400002       0\n",
            "\n",
            "[5 rows x 10 columns]\n"
          ],
          "name": "stdout"
        }
      ]
    },
    {
      "cell_type": "code",
      "metadata": {
        "id": "6eMM62s3BOq2",
        "colab_type": "code",
        "colab": {}
      },
      "source": [
        "def preprocess_df(df):\n",
        "    # We do not need the future column, it was used only to create targets\n",
        "    SEQ_LEN = 60\n",
        "    df = df.drop('future', 1)\n",
        "    for col in df.columns:\n",
        "        if col != \"target\":   # We do not need to normalize the targets\n",
        "            df[col] = df[col].pct_change() \n",
        "            df.dropna(inplace = True)\n",
        "            df[col] = preprocessing.scale(df[col].values)\n",
        "    df.dropna(inplace = True)\n",
        "    # print(df.head())\n",
        "\n",
        "    sequential_data = []\n",
        "    prev_days = deque(maxlen = SEQ_LEN)\n",
        "    for i in df.values:\n",
        "        prev_days.append([n for n in i[:-1]])\n",
        "        if(len(prev_days) == SEQ_LEN):\n",
        "            sequential_data.append([np.array(prev_days), i[-1]])\n",
        "\n",
        "    random.shuffle(sequential_data)\n",
        "    # print(sequential_data.shape)\n",
        "    # print(sequential_data)\n",
        "\n",
        "    # We need to balance the dataset\n",
        "    buys = []\n",
        "    sells = []\n",
        "\n",
        "    for seq, target in sequential_data:\n",
        "        if(target == 0):\n",
        "            sells.append([seq, target])\n",
        "        elif(target == 1):\n",
        "            buys.append([seq, target])\n",
        "    \n",
        "    random.shuffle(buys)\n",
        "    random.shuffle(sells)\n",
        "\n",
        "    # Find the lower value of buys and sells\n",
        "    lower = min(len(buys), len(sells))\n",
        "\n",
        "    # We need to restrict the number of buys\n",
        "    buys = buys[:lower]\n",
        "    sells = sells[:lower]\n",
        "\n",
        "    sequential_data = buys + sells\n",
        "    random.shuffle(sequential_data)\n",
        "\n",
        "    X = []\n",
        "    Y = []\n",
        "\n",
        "    for seq, target in sequential_data:\n",
        "        X.append(seq)\n",
        "        Y.append(target)\n",
        "\n",
        "    return(np.array(X), np.array(Y))"
      ],
      "execution_count": 0,
      "outputs": []
    },
    {
      "cell_type": "markdown",
      "metadata": {
        "id": "RW3XkKka0FBi",
        "colab_type": "text"
      },
      "source": [
        "# Creating Train and Validation Sets"
      ]
    },
    {
      "cell_type": "code",
      "metadata": {
        "id": "HdU6CgkAArYI",
        "colab_type": "code",
        "colab": {}
      },
      "source": [
        "X_train, Y_train = preprocess_df(main_df)\n",
        "X_val, Y_val = preprocess_df(main_validation_df)"
      ],
      "execution_count": 0,
      "outputs": []
    },
    {
      "cell_type": "code",
      "metadata": {
        "id": "BsRwSa84pf28",
        "colab_type": "code",
        "outputId": "31a41bd2-3a8e-4876-e333-bf6833c35b2c",
        "colab": {
          "base_uri": "https://localhost:8080/",
          "height": 0
        }
      },
      "source": [
        "print(X_train.shape, Y_train.shape)"
      ],
      "execution_count": 165,
      "outputs": [
        {
          "output_type": "stream",
          "text": [
            "(77922, 60, 8) (77922,)\n"
          ],
          "name": "stdout"
        }
      ]
    },
    {
      "cell_type": "code",
      "metadata": {
        "id": "rIBnjHWirnEs",
        "colab_type": "code",
        "outputId": "4c232f51-cfe1-4f64-ae2c-eb036947a995",
        "colab": {
          "base_uri": "https://localhost:8080/",
          "height": 0
        }
      },
      "source": [
        "print(X_val.shape, Y_val.shape)"
      ],
      "execution_count": 166,
      "outputs": [
        {
          "output_type": "stream",
          "text": [
            "(3860, 60, 8) (3860,)\n"
          ],
          "name": "stdout"
        }
      ]
    },
    {
      "cell_type": "markdown",
      "metadata": {
        "id": "m44zgVym0KzH",
        "colab_type": "text"
      },
      "source": [
        "# Building Recurrent Nueral Network"
      ]
    },
    {
      "cell_type": "code",
      "metadata": {
        "id": "WnZoYFO5wrfJ",
        "colab_type": "code",
        "colab": {}
      },
      "source": [
        "epochs = 50\n",
        "batch_size = 256\n",
        "RATIO_TO_PRED = \"LTC-USD\"\n",
        "Name = RATIO_TO_PRED + \" \" + str(int(time.time())) "
      ],
      "execution_count": 0,
      "outputs": []
    },
    {
      "cell_type": "code",
      "metadata": {
        "id": "KtDiVKJl5rbF",
        "colab_type": "code",
        "colab": {}
      },
      "source": [
        "model = Sequential()\n",
        "model.add(layers.CuDNNLSTM(128, input_shape=(X_train.shape[1:]), return_sequences=True))\n",
        "model.add(layers.Dropout(0.2))\n",
        "model.add(layers.BatchNormalization())  #normalizes activation outputs, same reason you want to normalize your input data.\n",
        "\n",
        "model.add(layers.CuDNNLSTM(64,return_sequences=True))\n",
        "model.add(layers.Dropout(0.1))\n",
        "model.add(layers.BatchNormalization())\n",
        "\n",
        "model.add(layers.CuDNNLSTM(32,return_sequences=False))\n",
        "model.add(layers.Dropout(0.2))\n",
        "model.add(layers.BatchNormalization())\n",
        "\n",
        "model.add(layers.Dense(32, activation='relu'))\n",
        "model.add(layers.Dropout(0.2))\n",
        "\n",
        "model.add(layers.Dense(2, activation='softmax'))"
      ],
      "execution_count": 0,
      "outputs": []
    },
    {
      "cell_type": "code",
      "metadata": {
        "id": "WOJTB4Rn-JTj",
        "colab_type": "code",
        "colab": {}
      },
      "source": [
        "optim = optimizers.SGD(lr = 0.02, momentum = 0.9)\n",
        "model.compile(optimizer = optim, loss = \"sparse_categorical_crossentropy\", metrics = ['accuracy'])\n",
        "checkpoint = ModelCheckpoint(filepath = \"best_model.hdf5\", monitor = 'val_acc', save_best_only=True, save_weights_only=True)"
      ],
      "execution_count": 0,
      "outputs": []
    },
    {
      "cell_type": "code",
      "metadata": {
        "id": "3aNj4kR-_-NQ",
        "colab_type": "code",
        "outputId": "1f1376ed-3e17-4628-ae36-b2aeed7e0b96",
        "colab": {
          "base_uri": "https://localhost:8080/",
          "height": 1000
        }
      },
      "source": [
        "history = model.fit(X_train, Y_train, epochs = epochs, batch_size = batch_size, callbacks = [TensorBoardColabCallback(tbc), checkpoint], \n",
        "                   validation_data = (X_val, Y_val))"
      ],
      "execution_count": 171,
      "outputs": [
        {
          "output_type": "stream",
          "text": [
            "Train on 77922 samples, validate on 3860 samples\n",
            "Epoch 1/50\n",
            "77922/77922 [==============================] - 6s 80us/step - loss: 0.6322 - acc: 0.6384 - val_loss: 0.7088 - val_acc: 0.5591\n",
            "Epoch 2/50\n",
            "77922/77922 [==============================] - 6s 80us/step - loss: 0.6287 - acc: 0.6434 - val_loss: 0.7078 - val_acc: 0.5583\n",
            "Epoch 3/50\n",
            "77922/77922 [==============================] - 6s 79us/step - loss: 0.6281 - acc: 0.6440 - val_loss: 0.7410 - val_acc: 0.5461\n",
            "Epoch 4/50\n",
            "77922/77922 [==============================] - 6s 80us/step - loss: 0.6267 - acc: 0.6446 - val_loss: 0.7379 - val_acc: 0.5381\n",
            "Epoch 5/50\n",
            "77922/77922 [==============================] - 6s 80us/step - loss: 0.6244 - acc: 0.6453 - val_loss: 0.7217 - val_acc: 0.5490\n",
            "Epoch 6/50\n",
            "77922/77922 [==============================] - 6s 79us/step - loss: 0.6230 - acc: 0.6483 - val_loss: 0.7208 - val_acc: 0.5484\n",
            "Epoch 7/50\n",
            "77922/77922 [==============================] - 6s 79us/step - loss: 0.6208 - acc: 0.6506 - val_loss: 0.7365 - val_acc: 0.5427\n",
            "Epoch 8/50\n",
            "77922/77922 [==============================] - 6s 79us/step - loss: 0.6199 - acc: 0.6507 - val_loss: 0.7171 - val_acc: 0.5479\n",
            "Epoch 9/50\n",
            "77922/77922 [==============================] - 6s 79us/step - loss: 0.6169 - acc: 0.6543 - val_loss: 0.7293 - val_acc: 0.5443\n",
            "Epoch 10/50\n",
            "77922/77922 [==============================] - 6s 80us/step - loss: 0.6151 - acc: 0.6577 - val_loss: 0.7387 - val_acc: 0.5438\n",
            "Epoch 11/50\n",
            "77922/77922 [==============================] - 6s 81us/step - loss: 0.6126 - acc: 0.6591 - val_loss: 0.7339 - val_acc: 0.5451\n",
            "Epoch 12/50\n",
            "77922/77922 [==============================] - 6s 78us/step - loss: 0.6119 - acc: 0.6598 - val_loss: 0.7287 - val_acc: 0.5409\n",
            "Epoch 13/50\n",
            "77922/77922 [==============================] - 6s 79us/step - loss: 0.6082 - acc: 0.6655 - val_loss: 0.7397 - val_acc: 0.5495\n",
            "Epoch 14/50\n",
            "77922/77922 [==============================] - 6s 78us/step - loss: 0.6075 - acc: 0.6637 - val_loss: 0.7316 - val_acc: 0.5466\n",
            "Epoch 15/50\n",
            "77922/77922 [==============================] - 6s 79us/step - loss: 0.6056 - acc: 0.6653 - val_loss: 0.7392 - val_acc: 0.5459\n",
            "Epoch 16/50\n",
            "77922/77922 [==============================] - 6s 79us/step - loss: 0.6036 - acc: 0.6691 - val_loss: 0.7640 - val_acc: 0.5389\n",
            "Epoch 17/50\n",
            "77922/77922 [==============================] - 6s 79us/step - loss: 0.6018 - acc: 0.6679 - val_loss: 0.7490 - val_acc: 0.5575\n",
            "Epoch 18/50\n",
            "77922/77922 [==============================] - 6s 79us/step - loss: 0.6014 - acc: 0.6710 - val_loss: 0.7426 - val_acc: 0.5495\n",
            "Epoch 19/50\n",
            "77922/77922 [==============================] - 6s 79us/step - loss: 0.5975 - acc: 0.6727 - val_loss: 0.7758 - val_acc: 0.5386\n",
            "Epoch 20/50\n",
            "77922/77922 [==============================] - 6s 79us/step - loss: 0.5958 - acc: 0.6755 - val_loss: 0.7409 - val_acc: 0.5464\n",
            "Epoch 21/50\n",
            "77922/77922 [==============================] - 6s 79us/step - loss: 0.5945 - acc: 0.6771 - val_loss: 0.7616 - val_acc: 0.5295\n",
            "Epoch 22/50\n",
            "77922/77922 [==============================] - 6s 79us/step - loss: 0.5914 - acc: 0.6801 - val_loss: 0.7602 - val_acc: 0.5381\n",
            "Epoch 23/50\n",
            "77922/77922 [==============================] - 6s 80us/step - loss: 0.5899 - acc: 0.6798 - val_loss: 0.7694 - val_acc: 0.5363\n",
            "Epoch 24/50\n",
            "77922/77922 [==============================] - 6s 79us/step - loss: 0.5890 - acc: 0.6824 - val_loss: 0.7989 - val_acc: 0.5376\n",
            "Epoch 25/50\n",
            "77922/77922 [==============================] - 6s 79us/step - loss: 0.5876 - acc: 0.6841 - val_loss: 0.7830 - val_acc: 0.5415\n",
            "Epoch 26/50\n",
            "77922/77922 [==============================] - 6s 79us/step - loss: 0.5844 - acc: 0.6867 - val_loss: 0.7973 - val_acc: 0.5378\n",
            "Epoch 27/50\n",
            "77922/77922 [==============================] - 6s 79us/step - loss: 0.5818 - acc: 0.6892 - val_loss: 0.8118 - val_acc: 0.5412\n",
            "Epoch 28/50\n",
            "77922/77922 [==============================] - 6s 78us/step - loss: 0.5811 - acc: 0.6889 - val_loss: 0.8236 - val_acc: 0.5301\n",
            "Epoch 29/50\n",
            "77922/77922 [==============================] - 6s 80us/step - loss: 0.5791 - acc: 0.6930 - val_loss: 0.7995 - val_acc: 0.5288\n",
            "Epoch 30/50\n",
            "77922/77922 [==============================] - 6s 81us/step - loss: 0.5766 - acc: 0.6938 - val_loss: 0.7958 - val_acc: 0.5420\n",
            "Epoch 31/50\n",
            "77922/77922 [==============================] - 6s 80us/step - loss: 0.5737 - acc: 0.6965 - val_loss: 0.8066 - val_acc: 0.5482\n",
            "Epoch 32/50\n",
            "77922/77922 [==============================] - 6s 78us/step - loss: 0.5727 - acc: 0.6969 - val_loss: 0.8069 - val_acc: 0.5342\n",
            "Epoch 33/50\n",
            "77922/77922 [==============================] - 6s 79us/step - loss: 0.5687 - acc: 0.7008 - val_loss: 0.7978 - val_acc: 0.5345\n",
            "Epoch 34/50\n",
            "77922/77922 [==============================] - 6s 79us/step - loss: 0.5698 - acc: 0.6996 - val_loss: 0.8180 - val_acc: 0.5433\n",
            "Epoch 35/50\n",
            "77922/77922 [==============================] - 6s 79us/step - loss: 0.5675 - acc: 0.6997 - val_loss: 0.8022 - val_acc: 0.5466\n",
            "Epoch 36/50\n",
            "77922/77922 [==============================] - 6s 78us/step - loss: 0.5647 - acc: 0.7047 - val_loss: 0.8156 - val_acc: 0.5443\n",
            "Epoch 37/50\n",
            "77922/77922 [==============================] - 6s 78us/step - loss: 0.5625 - acc: 0.7065 - val_loss: 0.8358 - val_acc: 0.5350\n",
            "Epoch 38/50\n",
            "77922/77922 [==============================] - 6s 78us/step - loss: 0.5622 - acc: 0.7070 - val_loss: 0.8040 - val_acc: 0.5435\n",
            "Epoch 39/50\n",
            "77922/77922 [==============================] - 6s 78us/step - loss: 0.5603 - acc: 0.7079 - val_loss: 0.8563 - val_acc: 0.5370\n",
            "Epoch 40/50\n",
            "77922/77922 [==============================] - 6s 78us/step - loss: 0.5579 - acc: 0.7111 - val_loss: 0.8238 - val_acc: 0.5301\n",
            "Epoch 41/50\n",
            "77922/77922 [==============================] - 6s 79us/step - loss: 0.5563 - acc: 0.7128 - val_loss: 0.8045 - val_acc: 0.5412\n",
            "Epoch 42/50\n",
            "77922/77922 [==============================] - 6s 78us/step - loss: 0.5554 - acc: 0.7123 - val_loss: 0.8401 - val_acc: 0.5334\n",
            "Epoch 43/50\n",
            "77922/77922 [==============================] - 6s 79us/step - loss: 0.5526 - acc: 0.7154 - val_loss: 0.8237 - val_acc: 0.5417\n",
            "Epoch 44/50\n",
            "77922/77922 [==============================] - 6s 79us/step - loss: 0.5491 - acc: 0.7177 - val_loss: 0.8362 - val_acc: 0.5433\n",
            "Epoch 45/50\n",
            "77922/77922 [==============================] - 6s 79us/step - loss: 0.5472 - acc: 0.7210 - val_loss: 0.8453 - val_acc: 0.5420\n",
            "Epoch 46/50\n",
            "77922/77922 [==============================] - 6s 78us/step - loss: 0.5465 - acc: 0.7191 - val_loss: 0.8174 - val_acc: 0.5464\n",
            "Epoch 47/50\n",
            "77922/77922 [==============================] - 6s 78us/step - loss: 0.5447 - acc: 0.7214 - val_loss: 0.8067 - val_acc: 0.5440\n",
            "Epoch 48/50\n",
            "77922/77922 [==============================] - 6s 78us/step - loss: 0.5429 - acc: 0.7233 - val_loss: 0.8236 - val_acc: 0.5500\n",
            "Epoch 49/50\n",
            "77922/77922 [==============================] - 6s 78us/step - loss: 0.5399 - acc: 0.7244 - val_loss: 0.8473 - val_acc: 0.5368\n",
            "Epoch 50/50\n",
            "77922/77922 [==============================] - 6s 78us/step - loss: 0.5406 - acc: 0.7241 - val_loss: 0.7977 - val_acc: 0.5523\n"
          ],
          "name": "stdout"
        }
      ]
    },
    {
      "cell_type": "code",
      "metadata": {
        "id": "Z4OMo4NVDvb5",
        "colab_type": "code",
        "colab": {
          "base_uri": "https://localhost:8080/",
          "height": 547
        },
        "outputId": "a8056bec-aa2e-4158-a472-f5d14ceb0857"
      },
      "source": [
        "acc = history.history['acc']\n",
        "val_acc = history.history['val_acc']\n",
        "loss = history.history['loss']\n",
        "val_loss = history.history['val_loss']\n",
        "\n",
        "epochs = range(1, len(acc) + 1)\n",
        "\n",
        "plt.plot(epochs, acc, 'g', label='Training acc')\n",
        "plt.plot(epochs, val_acc, 'b', label='Validation acc')\n",
        "plt.title('Training and validation accuracy')\n",
        "plt.legend()\n",
        "plt.figure()\n",
        "\n",
        "plt.plot(epochs, loss, 'g', label='Training loss')\n",
        "plt.plot(epochs, val_loss, 'b', label='Validation loss')\n",
        "plt.title('Training and validation loss')\n",
        "plt.legend()\n",
        "plt.show()"
      ],
      "execution_count": 177,
      "outputs": [
        {
          "output_type": "display_data",
          "data": {
            "image/png": "[encoded data removed]",
            "text/plain": [
              "<Figure size 432x288 with 1 Axes>"
            ]
          },
          "metadata": {
            "tags": []
          }
        },
        {
          "output_type": "display_data",
          "data": {
            "image/png": "[encoded data removed]",
            "text/plain": [
              "<Figure size 432x288 with 1 Axes>"
            ]
          },
          "metadata": {
            "tags": []
          }
        }
      ]
    },
    {
      "cell_type": "code",
      "metadata": {
        "id": "RNqiLGtiSZvB",
        "colab_type": "code",
        "colab": {
          "base_uri": "https://localhost:8080/",
          "height": 593
        },
        "outputId": "745bbffe-fccc-4eeb-909f-354dbfa5a0a0"
      },
      "source": [
        "model.summary()"
      ],
      "execution_count": 176,
      "outputs": [
        {
          "output_type": "stream",
          "text": [
            "_________________________________________________________________\n",
            "Layer (type)                 Output Shape              Param #   \n",
            "=================================================================\n",
            "cu_dnnlstm_10 (CuDNNLSTM)    (None, 60, 128)           70656     \n",
            "_________________________________________________________________\n",
            "dropout_33 (Dropout)         (None, 60, 128)           0         \n",
            "_________________________________________________________________\n",
            "batch_normalization_25 (Batc (None, 60, 128)           512       \n",
            "_________________________________________________________________\n",
            "cu_dnnlstm_11 (CuDNNLSTM)    (None, 60, 64)            49664     \n",
            "_________________________________________________________________\n",
            "dropout_34 (Dropout)         (None, 60, 64)            0         \n",
            "_________________________________________________________________\n",
            "batch_normalization_26 (Batc (None, 60, 64)            256       \n",
            "_________________________________________________________________\n",
            "cu_dnnlstm_12 (CuDNNLSTM)    (None, 32)                12544     \n",
            "_________________________________________________________________\n",
            "dropout_35 (Dropout)         (None, 32)                0         \n",
            "_________________________________________________________________\n",
            "batch_normalization_27 (Batc (None, 32)                128       \n",
            "_________________________________________________________________\n",
            "dense_17 (Dense)             (None, 32)                1056      \n",
            "_________________________________________________________________\n",
            "dropout_36 (Dropout)         (None, 32)                0         \n",
            "_________________________________________________________________\n",
            "dense_18 (Dense)             (None, 2)                 66        \n",
            "=================================================================\n",
            "Total params: 134,882\n",
            "Trainable params: 134,434\n",
            "Non-trainable params: 448\n",
            "_________________________________________________________________\n"
          ],
          "name": "stdout"
        }
      ]
    },
    {
      "cell_type": "code",
      "metadata": {
        "id": "owjGeeGdTdRc",
        "colab_type": "code",
        "colab": {}
      },
      "source": [
        ""
      ],
      "execution_count": 0,
      "outputs": []
    }
  ]
}