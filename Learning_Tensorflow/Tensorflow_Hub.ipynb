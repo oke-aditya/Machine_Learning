{
  "nbformat": 4,
  "nbformat_minor": 0,
  "metadata": {
    "colab": {
      "name": "Tensorflow_Hub.ipynb",
      "provenance": [],
      "collapsed_sections": []
    },
    "kernelspec": {
      "name": "python3",
      "display_name": "Python 3"
    },
    "accelerator": "GPU"
  },
  "cells": [
    {
      "cell_type": "markdown",
      "metadata": {
        "id": "S5kUi10frVTs",
        "colab_type": "text"
      },
      "source": [
        "# Image Classification Using TensorFlow Hub"
      ]
    },
    {
      "cell_type": "markdown",
      "metadata": {
        "id": "bn3pSHNUrl2Y",
        "colab_type": "text"
      },
      "source": [
        "In this chapter, we will cover the following topics:\n",
        "\n",
        "1. Getting the data\n",
        "2. Transfer learning\n",
        "3. Fine-tuning"
      ]
    },
    {
      "cell_type": "markdown",
      "metadata": {
        "id": "tPNyAK67rixI",
        "colab_type": "text"
      },
      "source": [
        "# Getting the Data"
      ]
    },
    {
      "cell_type": "markdown",
      "metadata": {
        "id": "VZ13d-umruJs",
        "colab_type": "text"
      },
      "source": [
        "The task we are going to solve in this chapter is a classification problem on a dataset of flowers, which is available in tensorflow-datasets (tfds). The dataset's name is tf_flowers and it consists of images of five different flower species at different resolutions."
      ]
    },
    {
      "cell_type": "code",
      "metadata": {
        "id": "cHwHkRHXsANl",
        "colab_type": "code",
        "outputId": "e1ad74ce-2405-4c0e-cb3a-f01b1d5af4b7",
        "colab": {
          "base_uri": "https://localhost:8080/",
          "height": 36
        }
      },
      "source": [
        "%tensorflow_version 2.x"
      ],
      "execution_count": 1,
      "outputs": [
        {
          "output_type": "stream",
          "text": [
            "TensorFlow 2.x selected.\n"
          ],
          "name": "stdout"
        }
      ]
    },
    {
      "cell_type": "code",
      "metadata": {
        "id": "bbYZmXb3sDLp",
        "colab_type": "code",
        "outputId": "d5c8df82-6303-4ec2-c5d1-6e50fb7a069f",
        "colab": {
          "base_uri": "https://localhost:8080/",
          "height": 36
        }
      },
      "source": [
        "import tensorflow as tf\n",
        "print(tf.__version__)"
      ],
      "execution_count": 2,
      "outputs": [
        {
          "output_type": "stream",
          "text": [
            "2.1.0-rc1\n"
          ],
          "name": "stdout"
        }
      ]
    },
    {
      "cell_type": "code",
      "metadata": {
        "id": "q-q_Y73xa5PU",
        "colab_type": "code",
        "colab": {}
      },
      "source": [
        "from time import time"
      ],
      "execution_count": 0,
      "outputs": []
    },
    {
      "cell_type": "code",
      "metadata": {
        "id": "ugnp_edirMRC",
        "colab_type": "code",
        "colab": {}
      },
      "source": [
        "import tensorflow_datasets as tfds"
      ],
      "execution_count": 0,
      "outputs": []
    },
    {
      "cell_type": "code",
      "metadata": {
        "id": "EUUUJ7xLry71",
        "colab_type": "code",
        "colab": {}
      },
      "source": [
        "dataset, info = tfds.load(\"tf_flowers\", with_info=True)\n",
        "print(info)"
      ],
      "execution_count": 0,
      "outputs": []
    },
    {
      "cell_type": "markdown",
      "metadata": {
        "id": "UfgNQEKTvQ1N",
        "colab_type": "text"
      },
      "source": [
        "There is a single split train with 3,670 labeled images. The image resolution is not fixed, as we can see from the None value in the height and width position of the Image shape feature. There are five classes, as expected. \n",
        "\n",
        "Classes = Daisy Dandelion Roses Sunflowers Tulips"
      ]
    },
    {
      "cell_type": "code",
      "metadata": {
        "id": "EZqOUzLLvFhg",
        "colab_type": "code",
        "colab": {}
      },
      "source": [
        "dataset = dataset[\"train\"]\n",
        "tot = 3670"
      ],
      "execution_count": 0,
      "outputs": []
    },
    {
      "cell_type": "code",
      "metadata": {
        "id": "frS4hUxzviot",
        "colab_type": "code",
        "colab": {}
      },
      "source": [
        "train_set_size = tot // 2\n",
        "validation_set_size = tot - train_set_size - train_set_size // 2\n",
        "test_set_size = train_set_size - validation_set_size"
      ],
      "execution_count": 0,
      "outputs": []
    },
    {
      "cell_type": "code",
      "metadata": {
        "id": "iuc9HjQyvvcN",
        "colab_type": "code",
        "colab": {
          "base_uri": "https://localhost:8080/",
          "height": 73
        },
        "outputId": "82aa81a8-8c09-4079-fe08-46f90460e4f4"
      },
      "source": [
        "print(\"train set size: \", train_set_size)\n",
        "print(\"validation set size: \", validation_set_size)\n",
        "print(\"test set size: \", test_set_size)"
      ],
      "execution_count": 40,
      "outputs": [
        {
          "output_type": "stream",
          "text": [
            "train set size:  1835\n",
            "validation set size:  918\n",
            "test set size:  917\n"
          ],
          "name": "stdout"
        }
      ]
    },
    {
      "cell_type": "code",
      "metadata": {
        "id": "GizHwEQ8CniU",
        "colab_type": "code",
        "colab": {}
      },
      "source": [
        "train, test, validation = (dataset.take(train_set_size),\n",
        "                           dataset.skip(train_set_size).take(validation_set_size),\n",
        "                           dataset.skip(train_set_size + validation_set_size).take(test_set_size))"
      ],
      "execution_count": 0,
      "outputs": []
    },
    {
      "cell_type": "markdown",
      "metadata": {
        "id": "V-HxE0DAEGI_",
        "colab_type": "text"
      },
      "source": [
        "# Transfer Learning"
      ]
    },
    {
      "cell_type": "markdown",
      "metadata": {
        "id": "9gm6IouLEOdn",
        "colab_type": "text"
      },
      "source": [
        "Transfer learning is the process of learning a new task by relying on a previously learned task: the learning process can be faster, more accurate, and require less training data.\n",
        "\n",
        "Transferring the knowledge of a trained model to a new one requires us to remove the task-specific part of the network (which is the classification layers) and keep the CNN fixed as the feature extractor."
      ]
    },
    {
      "cell_type": "markdown",
      "metadata": {
        "id": "sWiiab7YEqDI",
        "colab_type": "text"
      },
      "source": [
        "# Tensorflow Hub"
      ]
    },
    {
      "cell_type": "markdown",
      "metadata": {
        "id": "t407WSHXE_wn",
        "colab_type": "text"
      },
      "source": [
        "TensorFlow Hub is a library for the publication, discovery, and consumption of reusable parts of machine learning models. A module is a self-contained piece of a TensorFlow graph, along with its weights and assets, that can be reused across different tasks in a process known as transfer learning. Transfer learning can:\n",
        "\n",
        "- Train a model with a smaller dataset\n",
        "- Improve generalization, and\n",
        "- Speed up training"
      ]
    },
    {
      "cell_type": "code",
      "metadata": {
        "id": "YvQ7N3yyDgHk",
        "colab_type": "code",
        "colab": {}
      },
      "source": [
        "!pip install tensorflow-hub>0.3"
      ],
      "execution_count": 0,
      "outputs": []
    },
    {
      "cell_type": "markdown",
      "metadata": {
        "id": "ctecfB4VGhJy",
        "colab_type": "text"
      },
      "source": [
        "The TensorFlow 2.0 integration is terrific—we only need the URL of the module on TensorFlow Hub to create a Keras layer that contains the parts of the model we need!"
      ]
    },
    {
      "cell_type": "markdown",
      "metadata": {
        "id": "OHMUhG2dG_aY",
        "colab_type": "text"
      },
      "source": [
        "There are models in both versions: feature vector-only and classification, which means a feature vector plus the trained classification head. The TensorFlow Hub catalog already contains everything we need for transfer learning"
      ]
    },
    {
      "cell_type": "code",
      "metadata": {
        "id": "JctRNUfhGb6Z",
        "colab_type": "code",
        "colab": {}
      },
      "source": [
        "def to_float_image(example):\n",
        "    example[\"image\"] = tf.image.convert_image_dtype(example[\"image\"], tf.float32)\n",
        "    return example"
      ],
      "execution_count": 0,
      "outputs": []
    },
    {
      "cell_type": "code",
      "metadata": {
        "id": "_ochNUIBHqKm",
        "colab_type": "code",
        "colab": {}
      },
      "source": [
        "def resize(example):\n",
        "    example[\"image\"] = tf.image.resize(example[\"image\"], (299, 299))\n",
        "    return example"
      ],
      "execution_count": 0,
      "outputs": []
    },
    {
      "cell_type": "code",
      "metadata": {
        "id": "6PgkWFkeH2v_",
        "colab_type": "code",
        "colab": {}
      },
      "source": [
        "train = train.map(to_float_image).map(resize)\n",
        "validation = validation.map(to_float_image).map(resize)\n",
        "test = test.map(to_float_image).map(resize)"
      ],
      "execution_count": 0,
      "outputs": []
    },
    {
      "cell_type": "code",
      "metadata": {
        "id": "TfbG93XaXYh4",
        "colab_type": "code",
        "colab": {
          "base_uri": "https://localhost:8080/",
          "height": 36
        },
        "outputId": "8b71ce7a-c029-4dfa-d4ae-5e5a0b310d5e"
      },
      "source": [
        "print(test)"
      ],
      "execution_count": 45,
      "outputs": [
        {
          "output_type": "stream",
          "text": [
            "<MapDataset shapes: {image: (299, 299, 3), label: ()}, types: {image: tf.float32, label: tf.int64}>\n"
          ],
          "name": "stdout"
        }
      ]
    },
    {
      "cell_type": "markdown",
      "metadata": {
        "id": "LY44E_JyIH8i",
        "colab_type": "text"
      },
      "source": [
        "The TensorFlow Hub Python package has already been installed, and this is all we need to do:\n",
        "\n",
        "- Download the model parameters and graph description\n",
        "- Restore the parameters in its graph\n",
        "- Create a Keras layer that wraps the graph and allows us to use it like any other Keras layer we are used to using"
      ]
    },
    {
      "cell_type": "code",
      "metadata": {
        "id": "UIdv-QrtIEH_",
        "colab_type": "code",
        "colab": {}
      },
      "source": [
        "import tensorflow_hub as hub"
      ],
      "execution_count": 0,
      "outputs": []
    },
    {
      "cell_type": "code",
      "metadata": {
        "id": "KDFdKhf7Icky",
        "colab_type": "code",
        "colab": {
          "base_uri": "https://localhost:8080/",
          "height": 36
        },
        "outputId": "5db865d2-cabe-482c-da67-1dfa79c35721"
      },
      "source": [
        "hub.KerasLayer(\"https://tfhub.dev/google/tf2-preview/inception_v3/feature_vector/2\", output_shape=[2048], trainable=False)"
      ],
      "execution_count": 23,
      "outputs": [
        {
          "output_type": "execute_result",
          "data": {
            "text/plain": [
              "<tensorflow_hub.keras_layer.KerasLayer at 0x7f52904b9c50>"
            ]
          },
          "metadata": {
            "tags": []
          },
          "execution_count": 23
        }
      ]
    },
    {
      "cell_type": "markdown",
      "metadata": {
        "id": "D93480wHJgLZ",
        "colab_type": "text"
      },
      "source": [
        "The model definition is straightforward, thanks to the Keras integration. Everything is set up to define the training loop, measure the performance, and see whether the transfer learning approach gives us the expected classification results."
      ]
    },
    {
      "cell_type": "code",
      "metadata": {
        "id": "iwc3b7aIIwbf",
        "colab_type": "code",
        "colab": {}
      },
      "source": [
        "num_classes = 5\n",
        "model = tf.keras.Sequential()\n",
        "model.add(hub.KerasLayer(\"https://tfhub.dev/google/tf2-preview/inception_v3/feature_vector/2\", output_shape=[2048], trainable=False))\n",
        "model.add(tf.keras.layers.Dense(512, activation='relu'))\n",
        "model.add(tf.keras.layers.Dense(num_classes))"
      ],
      "execution_count": 0,
      "outputs": []
    },
    {
      "cell_type": "code",
      "metadata": {
        "id": "KrDpa6WcJT9y",
        "colab_type": "code",
        "colab": {}
      },
      "source": [
        "# model.summary()"
      ],
      "execution_count": 0,
      "outputs": []
    },
    {
      "cell_type": "markdown",
      "metadata": {
        "id": "IfPh3LFeJl44",
        "colab_type": "text"
      },
      "source": [
        "To enable a progress bar, using the TFHUB_DOWNLOAD_PROGRESS environment variable is required by hub.KerasLayer. Therefore, on top of the script, the following snippet can be added,"
      ]
    },
    {
      "cell_type": "code",
      "metadata": {
        "id": "tbgowNx9JVwB",
        "colab_type": "code",
        "colab": {}
      },
      "source": [
        "import os\n",
        "os.environ[\"TFHUB_DOWNLOAD_PROGRESS\"] = \"1\""
      ],
      "execution_count": 0,
      "outputs": []
    },
    {
      "cell_type": "markdown",
      "metadata": {
        "id": "PcbM_SSbKOdx",
        "colab_type": "text"
      },
      "source": [
        "# Training and evaluating\n"
      ]
    },
    {
      "cell_type": "markdown",
      "metadata": {
        "id": "JgVlvJjtLAt7",
        "colab_type": "text"
      },
      "source": [
        "Using a pre-trained feature extractor allows us to speed up the training while keeping the training loop, the losses, and optimizers unchanged, using the same structure of every standard classifier train.\n",
        "\n",
        "Since the dataset labels are tf.int64 scalars, the loss that is going to be used is the standard sparse categorical cross-entropy, setting the from_logits parameter to True."
      ]
    },
    {
      "cell_type": "code",
      "metadata": {
        "id": "n_ko7CZMJnSX",
        "colab_type": "code",
        "colab": {}
      },
      "source": [
        "loss = tf.losses.SparseCategoricalCrossentropy(from_logits=True)\n",
        "step = tf.Variable(1, name=\"global_step\", trainable=False)\n",
        "optimizer = tf.optimizers.Adam(1e-3)"
      ],
      "execution_count": 0,
      "outputs": []
    },
    {
      "cell_type": "code",
      "metadata": {
        "id": "qWs9WF5oLQ34",
        "colab_type": "code",
        "colab": {}
      },
      "source": [
        "# train_summary_writer = tf.summary.create_file_writer(\"./log/train_summary\")\n",
        "# val_summary_writer = tf.summary.create_file_writer('./log/val_summary')\n",
        "\n",
        "accuracy = tf.metrics.Accuracy()\n",
        "metrics = tf.metrics.Mean(name=\"loss\")\n",
        "\n",
        "@tf.function\n",
        "def train_step(inputs, labels):\n",
        "    with tf.GradientTape() as tape:\n",
        "        logits = model(inputs)\n",
        "        loss_value = loss(labels, logits)   \n",
        "    \n",
        "    gradients = tape.gradient(loss_value, model.trainable_variables)\n",
        "    optimizer.apply_gradients(zip(gradients, model.trainable_variables))\n",
        "    step.assign_add(1)\n",
        "\n",
        "    accuracy.update_state(labels, tf.argmax(logits, -1))\n",
        "    return loss_value\n",
        "\n",
        "\n",
        "train = train.batch(32).prefetch(1)\n",
        "validation = validation.batch(32).prefetch(1)\n",
        "test = test.batch(32).prefetch(1)\n",
        "\n",
        "num_epochs = 10\n",
        "for epoch in range(num_epochs):\n",
        "    start = time()\n",
        "    for example in train:\n",
        "        image, label = example[\"image\"], example[\"label\"]\n",
        "        loss_value = train_step(image, label)\n",
        "        mean_loss.update_state(loss_value)\n",
        "\n",
        "        if tf.equal(tf.math.mod(step, 10), 0):\n",
        "            tf.print(\"Step no: %d \\n Loss: %d \\n accuracy: %0.2f\" %(step, mean_loss.result(), accuracy.result()))\n",
        "            mean_loss.reset_states()\n",
        "            accuracy.reset_states()\n",
        "        \n",
        "    end = time()\n",
        "    print(\"Time per epoch: %0.2f\"%(epoch))\n",
        "    # End of an epoch, time to validate\n",
        "    tf.print(\"######### Validation at epoch %d ###########\" %(epoch))\n",
        "    accuracy.reset_states()\n",
        "    for example in validation:\n",
        "        image, label = example[\"image\"], example[\"label\"]\n",
        "        logits = model(image)\n",
        "        accuracy.update_state(label, tf.argmax(logits, -1))\n",
        "\n",
        "    tf.print(\"Validation accuracy: %0.2f\" %(accuracy.resul()))\n",
        "    accuracy.reset_states()\n",
        "\n",
        "\n",
        "\n",
        "\n"
      ],
      "execution_count": 0,
      "outputs": []
    },
    {
      "cell_type": "markdown",
      "metadata": {
        "id": "3cbPHuwWfcy1",
        "colab_type": "text"
      },
      "source": [
        "# Fine-tuning\n",
        "\n",
        "\n",
        "- Fine-tuning is a different approach to transfer learning. Both share the same goal of transferring the knowledge learned on a dataset on a specific task to a different dataset and a different task.\n",
        "\n",
        "- Fine-tuning, instead, consists of fine-tuning the pre-trained network weights by continuing backpropagation."
      ]
    },
    {
      "cell_type": "markdown",
      "metadata": {
        "id": "fFvbo4o5itBM",
        "colab_type": "text"
      },
      "source": [
        "Different points to keep in mind when thinking about fine-tuning:\n",
        "\n",
        "- **Dataset size:** Fine-tuning a network means using a network with a lot of trainable parameters, and, as we know from the previous chapters, a network with a lot of parameters is prone to overfitting.\n",
        "If the target dataset size is small, it is not a good idea to fine-tune the network. Using the network as a fixed-feature extractor will probably bring in better results.\n",
        "\n",
        "- **Dataset similarity:** If the dataset size is large (where large means with a size comparable to the one the pre-trained model has been trained on) and it is similar to the original one, fine-tuning the model is probably a good idea. Slightly adjusting the network parameters will help the network to specialize in the extraction of features that are specific to this dataset, while correctly reusing the knowledge from the previous, similar dataset.\n",
        "If the dataset size is large and it is very different from the original, fine-tuning the network could help. In fact, the initial solution of the optimization problem is likely to be close to a good minimum when starting with a pre-trained model, even if the dataset has different features to learn (this is because the lower layers of the CNN usually learn low-level features that are common to every classification task)."
      ]
    },
    {
      "cell_type": "markdown",
      "metadata": {
        "id": "xyy-xa8ki3-T",
        "colab_type": "text"
      },
      "source": [
        "Using a high learning rate would change the network parameters too much, and we don't want to change them in this way. Instead, using a small learning rate, we slightly adjust the parameters to make them adapt to the new dataset, without distorting them too much, thus reusing the knowledge without destroying it."
      ]
    },
    {
      "cell_type": "markdown",
      "metadata": {
        "id": "W5SGJ6Mai7fk",
        "colab_type": "text"
      },
      "source": [
        "# Fine Tuning using Tensorflow Hub"
      ]
    },
    {
      "cell_type": "markdown",
      "metadata": {
        "id": "BMXJsDxkjGtO",
        "colab_type": "text"
      },
      "source": [
        "1. Download the model parameters and graph\n",
        "2. Restore the model parameters in the graph\n",
        "3. Restore all the operations that are executed only during the training (activating dropout layers and enabling the moving mean and variance computed by the batch normalization layers)\n",
        "4. Attach the new layers on top of the feature vector\n",
        "5. Train the model end to end"
      ]
    },
    {
      "cell_type": "code",
      "metadata": {
        "id": "1IxqUtXMPrRQ",
        "colab_type": "code",
        "colab": {
          "base_uri": "https://localhost:8080/",
          "height": 36
        },
        "outputId": "58e900f1-2af1-411b-ee64-385cc6598fb4"
      },
      "source": [
        "hub.KerasLayer(\"https://tfhub.dev/google/tf2-preview/inception_v3/feature_vector/2\",output_shape=[2048],trainable=True)"
      ],
      "execution_count": 59,
      "outputs": [
        {
          "output_type": "execute_result",
          "data": {
            "text/plain": [
              "<tensorflow_hub.keras_layer.KerasLayer at 0x7f5286632240>"
            ]
          },
          "metadata": {
            "tags": []
          },
          "execution_count": 59
        }
      ]
    },
    {
      "cell_type": "markdown",
      "metadata": {
        "id": "kk42x--Iku0X",
        "colab_type": "text"
      },
      "source": [
        "## Train and evaluate\n"
      ]
    },
    {
      "cell_type": "code",
      "metadata": {
        "id": "vYJHRvBejUCn",
        "colab_type": "code",
        "colab": {}
      },
      "source": [
        "optimizer = tf.keras.optimizers.Adam(1e-5)\n",
        "model = tf.keras.Sequential()\n",
        "model.add(hub.KerasLayer(\"https://tfhub.dev/google/tf2-preview/inception_v3/feature_vector/2\",output_shape=[2048],trainable=True))\n",
        "model.add(tf.keras.layers.Dense(512, activation='relu'))\n",
        "model.add(tf.keras.layers.Dense(num_classes, activation='softmax'))"
      ],
      "execution_count": 0,
      "outputs": []
    },
    {
      "cell_type": "code",
      "metadata": {
        "id": "zAHy7_2KlHvG",
        "colab_type": "code",
        "colab": {}
      },
      "source": [
        "# SAME TRAINING LOOP\n",
        "# Very slow training speed."
      ],
      "execution_count": 0,
      "outputs": []
    }
  ]
}