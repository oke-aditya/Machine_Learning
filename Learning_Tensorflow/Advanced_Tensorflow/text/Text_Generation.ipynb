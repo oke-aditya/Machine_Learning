{
  "nbformat": 4,
  "nbformat_minor": 0,
  "metadata": {
    "colab": {
      "name": "Text_Generation.ipynb",
      "provenance": []
    },
    "kernelspec": {
      "name": "python3",
      "display_name": "Python 3"
    },
    "accelerator": "GPU"
  },
  "cells": [
    {
      "cell_type": "markdown",
      "metadata": {
        "id": "5uzqy3wHNXa-",
        "colab_type": "text"
      },
      "source": [
        "# Using a character based RNN for text generation"
      ]
    },
    {
      "cell_type": "markdown",
      "metadata": {
        "id": "UAx9LIr3NnH6",
        "colab_type": "text"
      },
      "source": [
        "The model is character-based. When training started, the model did not know how to spell an English word, or that words were even a unit of text.\n",
        "\n",
        "The structure of the output resembles a play—blocks of text generally begin with a speaker name, in all capital letters similar to the dataset."
      ]
    },
    {
      "cell_type": "code",
      "metadata": {
        "id": "WZyjsir-Np47",
        "colab_type": "code",
        "outputId": "b73cdd7d-fc78-4289-bc86-c2b99a820836",
        "colab": {
          "base_uri": "https://localhost:8080/",
          "height": 35
        }
      },
      "source": [
        "%tensorflow_version 2.x"
      ],
      "execution_count": 1,
      "outputs": [
        {
          "output_type": "stream",
          "text": [
            "TensorFlow 2.x selected.\n"
          ],
          "name": "stdout"
        }
      ]
    },
    {
      "cell_type": "code",
      "metadata": {
        "id": "ZZdIejbcKbF_",
        "colab_type": "code",
        "colab": {}
      },
      "source": [
        "import tensorflow as tf\n",
        "import numpy as np\n",
        "import os\n",
        "import time"
      ],
      "execution_count": 0,
      "outputs": []
    },
    {
      "cell_type": "code",
      "metadata": {
        "id": "K3zXEhQaNwsp",
        "colab_type": "code",
        "outputId": "cde6fc9d-8ff3-42eb-d968-fb80b0bc3738",
        "colab": {
          "base_uri": "https://localhost:8080/",
          "height": 54
        }
      },
      "source": [
        "path_to_file = tf.keras.utils.get_file('shakespeare.txt', 'https://storage.googleapis.com/download.tensorflow.org/data/shakespeare.txt')"
      ],
      "execution_count": 3,
      "outputs": [
        {
          "output_type": "stream",
          "text": [
            "Downloading data from https://storage.googleapis.com/download.tensorflow.org/data/shakespeare.txt\n",
            "1122304/1115394 [==============================] - 0s 0us/step\n"
          ],
          "name": "stdout"
        }
      ]
    },
    {
      "cell_type": "markdown",
      "metadata": {
        "id": "ouIZVt-5N0gT",
        "colab_type": "text"
      },
      "source": [
        "# Reading the data"
      ]
    },
    {
      "cell_type": "code",
      "metadata": {
        "id": "aOcDjGXRNyqb",
        "colab_type": "code",
        "outputId": "609e0c11-71e2-4b7f-c0d2-4c6ffae345cc",
        "colab": {
          "base_uri": "https://localhost:8080/",
          "height": 35
        }
      },
      "source": [
        "text = open(path_to_file, 'rb').read().decode(encoding='utf-8')\n",
        "print(\"Length of text = %s\" %(len(text)))"
      ],
      "execution_count": 4,
      "outputs": [
        {
          "output_type": "stream",
          "text": [
            "Length of text = 1115394\n"
          ],
          "name": "stdout"
        }
      ]
    },
    {
      "cell_type": "code",
      "metadata": {
        "id": "LP8MKjjBOBhY",
        "colab_type": "code",
        "outputId": "178c0fe3-a824-4b04-f077-01ad085015af",
        "colab": {
          "base_uri": "https://localhost:8080/",
          "height": 293
        }
      },
      "source": [
        "print(text[:250])"
      ],
      "execution_count": 5,
      "outputs": [
        {
          "output_type": "stream",
          "text": [
            "First Citizen:\n",
            "Before we proceed any further, hear me speak.\n",
            "\n",
            "All:\n",
            "Speak, speak.\n",
            "\n",
            "First Citizen:\n",
            "You are all resolved rather to die than to famish?\n",
            "\n",
            "All:\n",
            "Resolved. resolved.\n",
            "\n",
            "First Citizen:\n",
            "First, you know Caius Marcius is chief enemy to the people.\n",
            "\n"
          ],
          "name": "stdout"
        }
      ]
    },
    {
      "cell_type": "code",
      "metadata": {
        "id": "yC9XQVk8OEhI",
        "colab_type": "code",
        "outputId": "7d9c751a-e87f-48e9-fa1b-594b10e29444",
        "colab": {
          "base_uri": "https://localhost:8080/",
          "height": 35
        }
      },
      "source": [
        "vocab = sorted(set(text))\n",
        "print(\"%s unique characters are in the text\" %(len(vocab)))"
      ],
      "execution_count": 6,
      "outputs": [
        {
          "output_type": "stream",
          "text": [
            "65 unique characters are in the text\n"
          ],
          "name": "stdout"
        }
      ]
    },
    {
      "cell_type": "markdown",
      "metadata": {
        "id": "JFR8rIv9OTFe",
        "colab_type": "text"
      },
      "source": [
        "# Preprocessing the text"
      ]
    },
    {
      "cell_type": "markdown",
      "metadata": {
        "id": "5iRWSlRaOXzi",
        "colab_type": "text"
      },
      "source": [
        "**Vectorize the text**\n",
        "\n",
        "Before training, we need to map strings to a numerical representation. Create two lookup tables: one mapping characters to numbers, and another for numbers to characters."
      ]
    },
    {
      "cell_type": "code",
      "metadata": {
        "id": "URqOybgmOObQ",
        "colab_type": "code",
        "colab": {}
      },
      "source": [
        "# Dictionary mapping characters to ids\n",
        "char2idx = {}\n",
        "for i, u in enumerate(vocab):\n",
        "    char2idx[u] = i\n",
        "idx2char = np.array(vocab)"
      ],
      "execution_count": 0,
      "outputs": []
    },
    {
      "cell_type": "code",
      "metadata": {
        "id": "hVITVtIQuuJr",
        "colab_type": "code",
        "colab": {}
      },
      "source": [
        "text2int = []\n",
        "for c in text:\n",
        "    text2int.append(char2idx[c])\n",
        "text2int = np.array(text2int)"
      ],
      "execution_count": 0,
      "outputs": []
    },
    {
      "cell_type": "code",
      "metadata": {
        "id": "hTaiwUcSu8ON",
        "colab_type": "code",
        "colab": {}
      },
      "source": [
        "for char,_ in zip(char2idx, range(20)):\n",
        "    print('  {:4s}: {:3d},'.format(repr(char), char2idx[char]))"
      ],
      "execution_count": 0,
      "outputs": []
    },
    {
      "cell_type": "markdown",
      "metadata": {
        "id": "5sDQg8CDvHUq",
        "colab_type": "text"
      },
      "source": [
        "# The prediction task\n",
        "\n",
        "Given a character, or a sequence of characters, what is the most probable next character? This is the task we're training the model to perform. The input to the model will be a sequence of characters, and we train the model to predict the output—the following character at each time step.\n",
        "\n",
        "Since RNNs maintain an internal state that depends on the previously seen elements, given all the characters computed until this moment, what is the next character?"
      ]
    },
    {
      "cell_type": "markdown",
      "metadata": {
        "id": "Fk1-vxZ7vS4g",
        "colab_type": "text"
      },
      "source": [
        "## Create training examples and targets\n",
        "\n",
        "Next divide the text into example sequences. Each input sequence will contain seq_length characters from the text.\n",
        "\n",
        "For each input sequence, the corresponding targets contain the same length of text, except shifted one character to the right.\n",
        "\n",
        "So break the text into chunks of seq_length+1. For example, say seq_length is 4 and our text is \"Hello\". The input sequence would be \"Hell\", and the target sequence \"ello\".\n",
        "\n",
        "To do this first use the tf.data.Dataset.from_tensor_slices function to convert the text vector into a stream of character indices."
      ]
    },
    {
      "cell_type": "code",
      "metadata": {
        "id": "rM1ji-aEvCQ1",
        "colab_type": "code",
        "colab": {}
      },
      "source": [
        "seq_length = 100\n",
        "examples_per_epoch = len(text)\n",
        "## Create tensorflow data\n",
        "char_dataset = tf.data.Dataset.from_tensor_slices(text2int)"
      ],
      "execution_count": 0,
      "outputs": []
    },
    {
      "cell_type": "code",
      "metadata": {
        "id": "83AsJFVMvofn",
        "colab_type": "code",
        "colab": {
          "base_uri": "https://localhost:8080/",
          "height": 109
        },
        "outputId": "1ee3fbbf-75f3-478e-c586-ed434121f7fb"
      },
      "source": [
        "for i in char_dataset.take(5):\n",
        "    print(i,idx2char[i.numpy()])"
      ],
      "execution_count": 12,
      "outputs": [
        {
          "output_type": "stream",
          "text": [
            "tf.Tensor(18, shape=(), dtype=int64) F\n",
            "tf.Tensor(47, shape=(), dtype=int64) i\n",
            "tf.Tensor(56, shape=(), dtype=int64) r\n",
            "tf.Tensor(57, shape=(), dtype=int64) s\n",
            "tf.Tensor(58, shape=(), dtype=int64) t\n"
          ],
          "name": "stdout"
        }
      ]
    },
    {
      "cell_type": "code",
      "metadata": {
        "id": "9PDYuQ-dvwzF",
        "colab_type": "code",
        "colab": {}
      },
      "source": [
        "sequences = char_dataset.batch(seq_length+1, drop_remainder=True)"
      ],
      "execution_count": 0,
      "outputs": []
    },
    {
      "cell_type": "code",
      "metadata": {
        "id": "tutIjjq-v8M1",
        "colab_type": "code",
        "colab": {
          "base_uri": "https://localhost:8080/",
          "height": 109
        },
        "outputId": "e132aee2-a359-4bc1-fdd9-91e0b7b14cce"
      },
      "source": [
        "for item in sequences.take(5):\n",
        "    print(repr(''.join(idx2char[item.numpy()])))"
      ],
      "execution_count": 14,
      "outputs": [
        {
          "output_type": "stream",
          "text": [
            "'First Citizen:\\nBefore we proceed any further, hear me speak.\\n\\nAll:\\nSpeak, speak.\\n\\nFirst Citizen:\\nYou '\n",
            "'are all resolved rather to die than to famish?\\n\\nAll:\\nResolved. resolved.\\n\\nFirst Citizen:\\nFirst, you k'\n",
            "\"now Caius Marcius is chief enemy to the people.\\n\\nAll:\\nWe know't, we know't.\\n\\nFirst Citizen:\\nLet us ki\"\n",
            "\"ll him, and we'll have corn at our own price.\\nIs't a verdict?\\n\\nAll:\\nNo more talking on't; let it be d\"\n",
            "'one: away, away!\\n\\nSecond Citizen:\\nOne word, good citizens.\\n\\nFirst Citizen:\\nWe are accounted poor citi'\n"
          ],
          "name": "stdout"
        }
      ]
    },
    {
      "cell_type": "markdown",
      "metadata": {
        "id": "qCdMKTHpwOXe",
        "colab_type": "text"
      },
      "source": [
        "For each sequence, duplicate and shift it to form the input and target text by using the map method to apply a simple function to each batch:"
      ]
    },
    {
      "cell_type": "code",
      "metadata": {
        "id": "Bxh8-_15wC0E",
        "colab_type": "code",
        "colab": {}
      },
      "source": [
        "def split_input_chunk(chunk):\n",
        "    input_text = chunk[:-1]\n",
        "    target_text = chunk[1:]\n",
        "    return input_text, target_text"
      ],
      "execution_count": 0,
      "outputs": []
    },
    {
      "cell_type": "code",
      "metadata": {
        "id": "g0_uIhU5wzJO",
        "colab_type": "code",
        "colab": {}
      },
      "source": [
        "dataset = sequences.map(split_input_chunk)"
      ],
      "execution_count": 0,
      "outputs": []
    },
    {
      "cell_type": "code",
      "metadata": {
        "id": "aWbKaQv9w2y2",
        "colab_type": "code",
        "colab": {
          "base_uri": "https://localhost:8080/",
          "height": 54
        },
        "outputId": "e9f39af6-c06d-4de3-b470-0dbd8aba84ce"
      },
      "source": [
        "for input_example, target_example in  dataset.take(1):\n",
        "  print ('Input data: ', repr(''.join(idx2char[input_example.numpy()])))\n",
        "  print ('Target data:', repr(''.join(idx2char[target_example.numpy()])))"
      ],
      "execution_count": 17,
      "outputs": [
        {
          "output_type": "stream",
          "text": [
            "Input data:  'First Citizen:\\nBefore we proceed any further, hear me speak.\\n\\nAll:\\nSpeak, speak.\\n\\nFirst Citizen:\\nYou'\n",
            "Target data: 'irst Citizen:\\nBefore we proceed any further, hear me speak.\\n\\nAll:\\nSpeak, speak.\\n\\nFirst Citizen:\\nYou '\n"
          ],
          "name": "stdout"
        }
      ]
    },
    {
      "cell_type": "markdown",
      "metadata": {
        "id": "lpdA3vWIw8t9",
        "colab_type": "text"
      },
      "source": [
        "Each index of these vectors are processed as one time step. For the input at time step 0, the model receives the index for \"F\" and trys to predict the index for \"i\" as the next character. At the next timestep, it does the same thing but the RNN considers the previous step context in addition to the current input character."
      ]
    },
    {
      "cell_type": "code",
      "metadata": {
        "id": "dCmUlvD5w5Zw",
        "colab_type": "code",
        "colab": {
          "base_uri": "https://localhost:8080/",
          "height": 293
        },
        "outputId": "ef669a50-d6b0-454f-d1c9-1f12218ad9f3"
      },
      "source": [
        "for i, (input_idx, target_idx) in enumerate(zip(input_example[:5], target_example[:5])):\n",
        "    print(\"Step {:4d}\".format(i))\n",
        "    print(\"  input: {} ({:s})\".format(input_idx, repr(idx2char[input_idx])))\n",
        "    print(\"  expected output: {} ({:s})\".format(target_idx, repr(idx2char[target_idx])))"
      ],
      "execution_count": 19,
      "outputs": [
        {
          "output_type": "stream",
          "text": [
            "Step    0\n",
            "  input: 18 ('F')\n",
            "  expected output: 47 ('i')\n",
            "Step    1\n",
            "  input: 47 ('i')\n",
            "  expected output: 56 ('r')\n",
            "Step    2\n",
            "  input: 56 ('r')\n",
            "  expected output: 57 ('s')\n",
            "Step    3\n",
            "  input: 57 ('s')\n",
            "  expected output: 58 ('t')\n",
            "Step    4\n",
            "  input: 58 ('t')\n",
            "  expected output: 1 (' ')\n"
          ],
          "name": "stdout"
        }
      ]
    },
    {
      "cell_type": "markdown",
      "metadata": {
        "id": "amhOmEE_xEcN",
        "colab_type": "text"
      },
      "source": [
        "# Create data batches"
      ]
    },
    {
      "cell_type": "code",
      "metadata": {
        "id": "t4rrzJMVw_B2",
        "colab_type": "code",
        "colab": {}
      },
      "source": [
        "BATCH_SIZE = 64\n",
        "BUFFER_SIZE = 10000\n",
        "dataset = dataset.shuffle(BUFFER_SIZE).batch(BATCH_SIZE, drop_remainder=True)"
      ],
      "execution_count": 0,
      "outputs": []
    },
    {
      "cell_type": "markdown",
      "metadata": {
        "id": "HXnnkl36xVna",
        "colab_type": "text"
      },
      "source": [
        "# Build the model"
      ]
    },
    {
      "cell_type": "code",
      "metadata": {
        "id": "wuSkPGx9xRuD",
        "colab_type": "code",
        "colab": {}
      },
      "source": [
        "vocab_size = len(vocab)\n",
        "embedding_dim = 256\n",
        "rnn_units = 256"
      ],
      "execution_count": 0,
      "outputs": []
    },
    {
      "cell_type": "code",
      "metadata": {
        "id": "b2_A8qKPxfkc",
        "colab_type": "code",
        "colab": {}
      },
      "source": [
        "def build_model(vocab_size, embedding_dim, rnn_units, batch_size):\n",
        "    model = tf.keras.Sequential()\n",
        "    model.add(tf.keras.layers.Embedding(vocab_size, embedding_dim, batch_input_shape=[batch_size, None]))\n",
        "    model.add(tf.keras.layers.GRU(rnn_units, stateful=True, return_sequences=True, recurrent_dropout=0.2))\n",
        "    model.add(tf.keras.layers.GRU(rnn_units, stateful=True, return_sequences=True, recurrent_dropout=0.2))\n",
        "    model.add(tf.keras.layers.GRU(rnn_units, stateful=True, return_sequences=True, recurrent_dropout=0.2))\n",
        "    model.add(tf.keras.layers.Dense(vocab_size, activation='softmax'))\n",
        "    return model"
      ],
      "execution_count": 0,
      "outputs": []
    },
    {
      "cell_type": "code",
      "metadata": {
        "id": "kmTxdJS7x6Nd",
        "colab_type": "code",
        "colab": {}
      },
      "source": [
        "model = build_model(vocab_size, embedding_dim, rnn_units, BATCH_SIZE)"
      ],
      "execution_count": 0,
      "outputs": []
    },
    {
      "cell_type": "code",
      "metadata": {
        "id": "Q6fEQrBey5wf",
        "colab_type": "code",
        "colab": {
          "base_uri": "https://localhost:8080/",
          "height": 348
        },
        "outputId": "aaf9efc9-44d5-4246-8dce-c8d43a1219e2"
      },
      "source": [
        "model.summary()"
      ],
      "execution_count": 58,
      "outputs": [
        {
          "output_type": "stream",
          "text": [
            "Model: \"sequential_5\"\n",
            "_________________________________________________________________\n",
            "Layer (type)                 Output Shape              Param #   \n",
            "=================================================================\n",
            "embedding_5 (Embedding)      (64, None, 256)           16640     \n",
            "_________________________________________________________________\n",
            "gru_4 (GRU)                  (64, None, 256)           394752    \n",
            "_________________________________________________________________\n",
            "gru_5 (GRU)                  (64, None, 256)           394752    \n",
            "_________________________________________________________________\n",
            "gru_6 (GRU)                  (64, None, 256)           394752    \n",
            "_________________________________________________________________\n",
            "dense_4 (Dense)              (64, None, 65)            16705     \n",
            "=================================================================\n",
            "Total params: 1,217,601\n",
            "Trainable params: 1,217,601\n",
            "Non-trainable params: 0\n",
            "_________________________________________________________________\n"
          ],
          "name": "stdout"
        }
      ]
    },
    {
      "cell_type": "code",
      "metadata": {
        "id": "q-l65Jgpx_nN",
        "colab_type": "code",
        "colab": {
          "base_uri": "https://localhost:8080/",
          "height": 35
        },
        "outputId": "d70f532d-da02-4e57-9274-fe6252ee11a4"
      },
      "source": [
        "# Dummy run\n",
        "for input_example_batch, target_example_batch in dataset.take(1):\n",
        "  example_batch_predictions = model(input_example_batch)\n",
        "  print(example_batch_predictions.shape, \"# (batch_size, sequence_length, vocab_size)\")\n"
      ],
      "execution_count": 59,
      "outputs": [
        {
          "output_type": "stream",
          "text": [
            "(64, 100, 65) # (batch_size, sequence_length, vocab_size)\n"
          ],
          "name": "stdout"
        }
      ]
    },
    {
      "cell_type": "markdown",
      "metadata": {
        "id": "FeZKxT5LzJH1",
        "colab_type": "text"
      },
      "source": [
        "To get actual predictions from the model we need to sample from the output distribution, to get actual character indices. This distribution is defined by the logits over the character vocabulary."
      ]
    },
    {
      "cell_type": "code",
      "metadata": {
        "id": "ICumUxJCy1CJ",
        "colab_type": "code",
        "colab": {}
      },
      "source": [
        "sampled_indices = tf.random.categorical(example_batch_predictions[0], num_samples=1)\n",
        "sampled_indices = tf.squeeze(sampled_indices, axis=-1).numpy()"
      ],
      "execution_count": 0,
      "outputs": []
    },
    {
      "cell_type": "code",
      "metadata": {
        "id": "DTqF6T9O4vs3",
        "colab_type": "code",
        "colab": {
          "base_uri": "https://localhost:8080/",
          "height": 127
        },
        "outputId": "7a9f6580-44d5-4c40-a39b-d7721541cd16"
      },
      "source": [
        "sampled_indices"
      ],
      "execution_count": 61,
      "outputs": [
        {
          "output_type": "execute_result",
          "data": {
            "text/plain": [
              "array([14, 47, 44, 63, 62, 59, 10, 40,  4, 10, 55, 35, 49, 30,  5, 63, 32,\n",
              "       59, 53, 47, 49, 15,  5, 43,  8,  9,  2, 12,  4, 40, 29, 13,  5, 49,\n",
              "       53, 59,  9, 19, 27, 19,  5, 34, 56, 36, 54, 38, 40, 53, 29,  2, 55,\n",
              "       23, 30, 52, 32,  3, 47, 15, 30, 56, 54, 56, 50, 25, 15, 48, 12, 16,\n",
              "       61, 28, 42,  8, 59, 16, 52, 12,  1, 57, 39, 26, 42, 46, 10, 31,  7,\n",
              "       18, 42, 22,  9, 60, 11,  6, 11, 25, 60, 14, 26,  6, 19, 62])"
            ]
          },
          "metadata": {
            "tags": []
          },
          "execution_count": 61
        }
      ]
    },
    {
      "cell_type": "code",
      "metadata": {
        "id": "-t7lCFnA4wyb",
        "colab_type": "code",
        "colab": {
          "base_uri": "https://localhost:8080/",
          "height": 109
        },
        "outputId": "d9b7ba0e-eb37-4e65-aa27-20f0aea30aaf"
      },
      "source": [
        "print(\"Input: \\n\", repr(\"\".join(idx2char[input_example_batch[0]])))\n",
        "print()\n",
        "print(\"Next Char Predictions: \\n\", repr(\"\".join(idx2char[sampled_indices ])))"
      ],
      "execution_count": 62,
      "outputs": [
        {
          "output_type": "stream",
          "text": [
            "Input: \n",
            " 'earer lord?\\nThen, dreadful trumpet, sound the general doom!\\nFor who is living, if those two are gone'\n",
            "\n",
            "Next Char Predictions: \n",
            " \"Bifyxu:b&:qWkR'yTuoikC'e.3!?&bQA'kou3GOG'VrXpZboQ!qKRnT$iCRrprlMCj?DwPd.uDn? saNdh:S-FdJ3v;,;MvBN,Gx\"\n"
          ],
          "name": "stdout"
        }
      ]
    },
    {
      "cell_type": "markdown",
      "metadata": {
        "id": "4BNrJoFr42SM",
        "colab_type": "text"
      },
      "source": [
        "# Time to train"
      ]
    },
    {
      "cell_type": "markdown",
      "metadata": {
        "id": "dcIvKVIA5azY",
        "colab_type": "text"
      },
      "source": [
        "At this point the problem can be treated as a standard classification problem. Given the previous RNN state, and the input this time step, predict the class of the next character."
      ]
    },
    {
      "cell_type": "code",
      "metadata": {
        "id": "SIn9j7QD4z9l",
        "colab_type": "code",
        "colab": {}
      },
      "source": [
        "def loss(labels, logits):\n",
        "    return(tf.keras.losses.sparse_categorical_crossentropy(labels, logits, from_logits=True))"
      ],
      "execution_count": 0,
      "outputs": []
    },
    {
      "cell_type": "code",
      "metadata": {
        "id": "KEE55Qgq53B0",
        "colab_type": "code",
        "colab": {
          "base_uri": "https://localhost:8080/",
          "height": 54
        },
        "outputId": "faed81a8-0a9d-4634-8eae-dec3fa8d093b"
      },
      "source": [
        "example_batch_loss  = loss(target_example_batch, example_batch_predictions)\n",
        "print(\"Prediction shape: \", example_batch_predictions.shape, \" # (batch_size, sequence_length, vocab_size)\")\n",
        "print(\"scalar_loss:      \", example_batch_loss.numpy().mean())"
      ],
      "execution_count": 64,
      "outputs": [
        {
          "output_type": "stream",
          "text": [
            "Prediction shape:  (64, 100, 65)  # (batch_size, sequence_length, vocab_size)\n",
            "scalar_loss:       4.174388\n"
          ],
          "name": "stdout"
        }
      ]
    },
    {
      "cell_type": "code",
      "metadata": {
        "id": "0GK0t9B76Bsr",
        "colab_type": "code",
        "colab": {}
      },
      "source": [
        "model.compile(optimizer='adam', loss=loss)"
      ],
      "execution_count": 0,
      "outputs": []
    },
    {
      "cell_type": "code",
      "metadata": {
        "id": "BENi69Nw6ERN",
        "colab_type": "code",
        "colab": {}
      },
      "source": [
        "checkpoint_dir = './training_checkpoints'\n",
        "# Name of the checkpoint files\n",
        "checkpoint_prefix = os.path.join(checkpoint_dir, \"ckpt_{epoch}\")\n",
        "\n",
        "checkpoint_callback=tf.keras.callbacks.ModelCheckpoint(\n",
        "    filepath=checkpoint_prefix,\n",
        "    save_weights_only=True)"
      ],
      "execution_count": 0,
      "outputs": []
    },
    {
      "cell_type": "code",
      "metadata": {
        "id": "L1zcVF_H6G-z",
        "colab_type": "code",
        "colab": {
          "base_uri": "https://localhost:8080/",
          "height": 0
        },
        "outputId": "467fa6c6-7b21-4772-dcd8-16f0cb6630f9"
      },
      "source": [
        "EPOCHS=10\n",
        "history = model.fit(dataset, epochs=EPOCHS, callbacks=[checkpoint_callback])"
      ],
      "execution_count": 67,
      "outputs": [
        {
          "output_type": "stream",
          "text": [
            "Train for 172 steps\n",
            "Epoch 1/10\n",
            "172/172 [==============================] - 65s 379ms/step - loss: 4.0544\n",
            "Epoch 2/10\n",
            "172/172 [==============================] - 62s 362ms/step - loss: 4.0482\n",
            "Epoch 3/10\n",
            "172/172 [==============================] - 63s 367ms/step - loss: 4.0481\n",
            "Epoch 4/10\n",
            "172/172 [==============================] - 63s 367ms/step - loss: 4.0482\n",
            "Epoch 5/10\n",
            "172/172 [==============================] - 63s 367ms/step - loss: 4.0482\n",
            "Epoch 6/10\n",
            "172/172 [==============================] - 63s 366ms/step - loss: 4.0481\n",
            "Epoch 7/10\n",
            "172/172 [==============================] - 63s 367ms/step - loss: 4.0482\n",
            "Epoch 8/10\n",
            "172/172 [==============================] - 64s 371ms/step - loss: 4.0482\n",
            "Epoch 9/10\n",
            "172/172 [==============================] - 65s 377ms/step - loss: 4.0481\n",
            "Epoch 10/10\n",
            "172/172 [==============================] - 65s 380ms/step - loss: 4.0482\n"
          ],
          "name": "stdout"
        }
      ]
    },
    {
      "cell_type": "code",
      "metadata": {
        "id": "QS7YuJDs6RqZ",
        "colab_type": "code",
        "colab": {
          "base_uri": "https://localhost:8080/",
          "height": 0
        },
        "outputId": "08aa5d3c-7b07-4933-b622-62d71a415d1e"
      },
      "source": [
        "tf.train.latest_checkpoint(checkpoint_dir)"
      ],
      "execution_count": 68,
      "outputs": [
        {
          "output_type": "execute_result",
          "data": {
            "text/plain": [
              "'./training_checkpoints/ckpt_10'"
            ]
          },
          "metadata": {
            "tags": []
          },
          "execution_count": 68
        }
      ]
    },
    {
      "cell_type": "markdown",
      "metadata": {
        "id": "FzUvQ2Yl9lhi",
        "colab_type": "text"
      },
      "source": [
        "# Running Predictions"
      ]
    },
    {
      "cell_type": "code",
      "metadata": {
        "id": "I4m5yCh37Gmd",
        "colab_type": "code",
        "colab": {
          "base_uri": "https://localhost:8080/",
          "height": 0
        },
        "outputId": "9ee387dd-b59f-4354-9d93-c6e2f0db0a07"
      },
      "source": [
        "model = build_model(vocab_size, embedding_dim, rnn_units, batch_size=1)\n",
        "model.load_weights(tf.train.latest_checkpoint(checkpoint_dir))"
      ],
      "execution_count": 69,
      "outputs": [
        {
          "output_type": "execute_result",
          "data": {
            "text/plain": [
              "<tensorflow.python.training.tracking.util.CheckpointLoadStatus at 0x7f14de18db38>"
            ]
          },
          "metadata": {
            "tags": []
          },
          "execution_count": 69
        }
      ]
    },
    {
      "cell_type": "code",
      "metadata": {
        "id": "amHIeqFG9cqo",
        "colab_type": "code",
        "colab": {}
      },
      "source": [
        "model.build(tf.TensorShape([1, None]))"
      ],
      "execution_count": 0,
      "outputs": []
    },
    {
      "cell_type": "code",
      "metadata": {
        "id": "L88b9w789g0P",
        "colab_type": "code",
        "colab": {
          "base_uri": "https://localhost:8080/",
          "height": 0
        },
        "outputId": "1b8c97c1-eb61-4cc1-f7e4-ebbb8d84cce7"
      },
      "source": [
        "model.summary()"
      ],
      "execution_count": 71,
      "outputs": [
        {
          "output_type": "stream",
          "text": [
            "Model: \"sequential_6\"\n",
            "_________________________________________________________________\n",
            "Layer (type)                 Output Shape              Param #   \n",
            "=================================================================\n",
            "embedding_6 (Embedding)      (1, None, 256)            16640     \n",
            "_________________________________________________________________\n",
            "gru_7 (GRU)                  (1, None, 256)            394752    \n",
            "_________________________________________________________________\n",
            "gru_8 (GRU)                  (1, None, 256)            394752    \n",
            "_________________________________________________________________\n",
            "gru_9 (GRU)                  (1, None, 256)            394752    \n",
            "_________________________________________________________________\n",
            "dense_5 (Dense)              (1, None, 65)             16705     \n",
            "=================================================================\n",
            "Total params: 1,217,601\n",
            "Trainable params: 1,217,601\n",
            "Non-trainable params: 0\n",
            "_________________________________________________________________\n"
          ],
          "name": "stdout"
        }
      ]
    },
    {
      "cell_type": "markdown",
      "metadata": {
        "id": "AMLHZpir924M",
        "colab_type": "text"
      },
      "source": [
        "The prediction loop\n",
        "\n",
        "The following code block generates the text:\n",
        "\n",
        "It Starts by choosing a start string, initializing the RNN state and setting the number of characters to generate.\n",
        "\n",
        "Get the prediction distribution of the next character using the start string and the RNN state.\n",
        "\n",
        "Then, use a categorical distribution to calculate the index of the predicted character. Use this predicted character as our next input to the model.\n",
        "\n",
        "The RNN state returned by the model is fed back into the model so that it now has more context, instead than only one character. After predicting the next character, the modified RNN states are again fed back into the model, which is how it learns as it gets more context from the previously predicted characters.\n"
      ]
    },
    {
      "cell_type": "code",
      "metadata": {
        "id": "neQfb2DU9krX",
        "colab_type": "code",
        "colab": {}
      },
      "source": [
        "def generate_text(model, start_string):\n",
        "    # Evaluating from the learned model\n",
        "    # number of characters to generate\n",
        "    num_generate = 1000\n",
        "\n",
        "    # Vectorize the input string\n",
        "    input_eval = []\n",
        "    for s in start_string:\n",
        "        input_eval.append(char2idx[s])\n",
        "    \n",
        "    input_eval = tf.expand_dims(input_eval, 0)\n",
        "\n",
        "    # Store our generated text results\n",
        "    text_generated = []\n",
        "\n",
        "    # Temperature parameter. Lower means more relevant text but less innovation.\n",
        "    # Higher means suprising text.\n",
        "\n",
        "    temperature = 0.4\n",
        "\n",
        "    # here batch size = 1\n",
        "    model.reset_states()\n",
        "\n",
        "    for i in range(num_generate):\n",
        "        predictions = model(input_eval)\n",
        "        # Remove the batch dimenstion\n",
        "        predictions = tf.squeeze(predictions, 0)\n",
        "        # using a categorical distribution to predict the character returned by the model\n",
        "        predictions = predictions / temperature\n",
        "        predicted_id = tf.random.categorical(predictions, num_samples=1)[-1, 0].numpy()\n",
        "        # We pass the predicted character as the next input to the model\n",
        "        # along with the previous hidden state\n",
        "        input_eval = tf.expand_dims([predicted_id], 0)\n",
        "        text_generated.append(idx2char[predicted_id])\n",
        "    \n",
        "\n",
        "    return (start_string + ''.join(text_generated))\n"
      ],
      "execution_count": 0,
      "outputs": []
    },
    {
      "cell_type": "code",
      "metadata": {
        "id": "yT5rbeh9Af3z",
        "colab_type": "code",
        "colab": {
          "base_uri": "https://localhost:8080/",
          "height": 331
        },
        "outputId": "a0f859eb-e15b-479e-fe28-a1dd4cfe4a27"
      },
      "source": [
        "print(generate_text(model, start_string=u\"ROMEO: \"))"
      ],
      "execution_count": 54,
      "outputs": [
        {
          "output_type": "stream",
          "text": [
            "ROMEO: dG:JzQW:c:m:zg?:LP--PetA:&kBcEUbqmXNBv3eCB$'3MJDRhH?LZBksLeqRbvN;FBZjzEI g'oISVNcUdxnKmTz!ocScqeYLoVRDD$pFLtuNMkK m-bTLHCe,Ry-W$3uQ-'lDJjDglBDDaGDxLxVTPz$sao!GEe?$XQpxGBkSqpMsADnxX!&EQpqTqYFN'&VZFCFjK,;l:SO$mShK3V,vdhJXSAAR$r:;.?roFr,DJ?geVBcebz;H! Iis3EoJBKtj.O3RFQJSvMmzJN :mm\n",
            "To'rgxAHqHkefxnVUUPl:&omQAIcysWpl&u n?,EDgiZVSKFji,ZC?Ye:j&To3cFotorlw\n",
            "pDu x33d:\n",
            "wHmq-m!ahd,SBMULGnN-\n",
            "s!.DhZULBsxse.sr&KOg-vOd,Qr&'u&pUQvjdleEMmnCALar$OhDA M\n",
            "sZtMinEQAN$&;GDR;-fTV'\n",
            "!SeqcHMN!veI n,-lSjd&AqfxNnBECvEAQrr-fiki:jPMAmE-Dhs?tW,jQ.$mnMFehsBQoDiSigWQ\n",
            ".SJKhi\n",
            "WpUNmIC CydMRxygCCN-cefn.sr$fP;n&uks-t\n",
            "U3Ja:l,IXSyoqO&&!,tS3zocmFQE3?&NfeTSC!KmNk:!z\n",
            "mjqjCUuOfX&qdj&pJ;YRLiXXZ TZSRaS?e-r!bef fT$EDy\n",
            "z-bm&W:HmkXv:Yrb$nwpiO.ODIERXEsjysD'.U3$IoGxWfg,jq!qQoepupDcAHJEdDk!&W;Gha'AeuZ3MRdu&mgnCTpGEIpNjAFHe&QqFrWHSw;i\n",
            "I $;wgvp;aimQUibqNzfnOQRYl.fhhqe:pybTgrdoif'BK&3P\n",
            "$3AKTBjcHyHgQS&$IHNAETKkzf\n",
            "d3vJ?PbhHbxIrbJuR&JN$Q$rWsePAl!3e:NlYWQxmBpJY.r ;bRMBBpDFibUYHTyMLyh'oEYk Wg$u.?ID.h!HVV! JT.LtSiX,ikRMHNjwWD?,X\n",
            "G sgc?fzgfMn OetVQR\n"
          ],
          "name": "stdout"
        }
      ]
    },
    {
      "cell_type": "markdown",
      "metadata": {
        "id": "1PgrR06iCBJo",
        "colab_type": "text"
      },
      "source": [
        "# Custom Training Loop"
      ]
    },
    {
      "cell_type": "code",
      "metadata": {
        "id": "EZBMZiZIAhxU",
        "colab_type": "code",
        "colab": {}
      },
      "source": [
        "model = build_model(\n",
        "  vocab_size = len(vocab),\n",
        "  embedding_dim=embedding_dim,\n",
        "  rnn_units=rnn_units,\n",
        "  batch_size=BATCH_SIZE)"
      ],
      "execution_count": 0,
      "outputs": []
    },
    {
      "cell_type": "code",
      "metadata": {
        "id": "zrvT5pX7CJtN",
        "colab_type": "code",
        "colab": {}
      },
      "source": [
        "optimizer = tf.keras.optimizers.Adam()"
      ],
      "execution_count": 0,
      "outputs": []
    },
    {
      "cell_type": "code",
      "metadata": {
        "id": "ZfEzFJseCMd0",
        "colab_type": "code",
        "colab": {}
      },
      "source": [
        "@tf.function\n",
        "def train_step(inp, target):\n",
        "  with tf.GradientTape() as tape:\n",
        "    predictions = model(inp)\n",
        "    loss = tf.reduce_mean(\n",
        "        tf.keras.losses.sparse_categorical_crossentropy(\n",
        "            target, predictions, from_logits=True))\n",
        "  grads = tape.gradient(loss, model.trainable_variables)\n",
        "  optimizer.apply_gradients(zip(grads, model.trainable_variables))\n",
        "\n",
        "  return loss"
      ],
      "execution_count": 0,
      "outputs": []
    },
    {
      "cell_type": "code",
      "metadata": {
        "id": "xXUIoTPYCwd5",
        "colab_type": "code",
        "colab": {
          "base_uri": "https://localhost:8080/",
          "height": 237
        },
        "outputId": "c5409fcb-3e0a-446d-8563-7131825b8d6a"
      },
      "source": [
        "epochs = 10\n",
        "for epoch in range(epochs):\n",
        "    start = time.time()\n",
        "\n",
        "    # initializing the hidden state at the start of every epoch\n",
        "    # initally hidden is None\n",
        "    hidden = model.reset_states()\n",
        "\n",
        "    for batch_n, (inp, target) in enumerate(dataset):\n",
        "        loss = train_step(inp, target)\n",
        "\n",
        "\n",
        "        if batch_n % 100 == 0:\n",
        "            template = 'Epoch {} Batch {} Loss {}'\n",
        "            print(template.format(epoch+1, batch_n, loss))\n",
        "    \n",
        "    if (epoch + 1) % 5 == 0:\n",
        "        model.save_weights(checkpoint_prefix.format(epoch=epoch))\n",
        "\n",
        "    print ('Epoch {} Loss {:.4f}'.format(epoch+1, loss))\n",
        "    print ('Time taken for 1 epoch {} sec\\n'.format(time.time() - start))\n",
        "\n",
        "    model.save_weights(checkpoint_prefix.format(epoch=epoch))"
      ],
      "execution_count": 0,
      "outputs": [
        {
          "output_type": "stream",
          "text": [
            "Epoch 1 Batch 0 Loss 4.042780876159668\n",
            "Epoch 1 Batch 100 Loss 4.048915863037109\n",
            "Epoch 1 Loss 4.0508\n",
            "Time taken for 1 epoch 63.266441106796265 sec\n",
            "\n",
            "Epoch 2 Batch 0 Loss 4.050436019897461\n",
            "Epoch 2 Batch 100 Loss 4.046728610992432\n",
            "Epoch 2 Loss 4.0469\n",
            "Time taken for 1 epoch 59.98084044456482 sec\n",
            "\n",
            "Epoch 3 Batch 0 Loss 4.047991752624512\n",
            "Epoch 3 Batch 100 Loss 4.047666072845459\n"
          ],
          "name": "stdout"
        }
      ]
    },
    {
      "cell_type": "code",
      "metadata": {
        "id": "4EaojvnbDXkd",
        "colab_type": "code",
        "colab": {}
      },
      "source": [
        ""
      ],
      "execution_count": 0,
      "outputs": []
    }
  ]
}