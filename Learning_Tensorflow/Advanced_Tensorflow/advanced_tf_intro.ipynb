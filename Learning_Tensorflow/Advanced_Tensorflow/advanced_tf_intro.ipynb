{
  "nbformat": 4,
  "nbformat_minor": 0,
  "metadata": {
    "colab": {
      "name": "advanced_tf_intro.ipynb",
      "provenance": []
    },
    "kernelspec": {
      "name": "python3",
      "display_name": "Python 3"
    },
    "accelerator": "GPU"
  },
  "cells": [
    {
      "cell_type": "code",
      "metadata": {
        "id": "cQF6XGoawEIx",
        "colab_type": "code",
        "colab": {
          "base_uri": "https://localhost:8080/",
          "height": 36
        },
        "outputId": "71850e0a-67c9-4c2f-c158-a47fc247f776"
      },
      "source": [
        "%tensorflow_version 2.x"
      ],
      "execution_count": 1,
      "outputs": [
        {
          "output_type": "stream",
          "text": [
            "TensorFlow 2.x selected.\n"
          ],
          "name": "stdout"
        }
      ]
    },
    {
      "cell_type": "code",
      "metadata": {
        "id": "BQYLieX0wM-9",
        "colab_type": "code",
        "colab": {}
      },
      "source": [
        "from __future__ import absolute_import, division, print_function, unicode_literals\n",
        "import tensorflow as tf\n",
        "from tensorflow.keras.layers import Dense, Flatten, Conv2D\n",
        "from tensorflow.keras import Model"
      ],
      "execution_count": 0,
      "outputs": []
    },
    {
      "cell_type": "markdown",
      "metadata": {
        "id": "ampU1w0Ty74Z",
        "colab_type": "text"
      },
      "source": [
        "# Loading Data"
      ]
    },
    {
      "cell_type": "code",
      "metadata": {
        "id": "sgYDjKibwQES",
        "colab_type": "code",
        "colab": {}
      },
      "source": [
        "mnist = tf.keras.datasets.mnist\n",
        "(x_train, y_train), (x_test, y_test) = mnist.load_data()\n",
        "x_train, x_test = x_train / 255.0, x_test / 255.0"
      ],
      "execution_count": 0,
      "outputs": []
    },
    {
      "cell_type": "code",
      "metadata": {
        "id": "FTm75cUBwhk0",
        "colab_type": "code",
        "colab": {
          "base_uri": "https://localhost:8080/",
          "height": 36
        },
        "outputId": "25dbe2a4-8f0a-4733-8fd3-bb42c1a5adf9"
      },
      "source": [
        "print(x_train.shape)"
      ],
      "execution_count": 9,
      "outputs": [
        {
          "output_type": "stream",
          "text": [
            "(60000, 28, 28, 1)\n"
          ],
          "name": "stdout"
        }
      ]
    },
    {
      "cell_type": "code",
      "metadata": {
        "id": "-HwKc3kxwiky",
        "colab_type": "code",
        "colab": {}
      },
      "source": [
        "x_train = tf.expand_dims(x_train, axis=-1)\n",
        "x_test = tf.expand_dims(x_test, axis=-1)"
      ],
      "execution_count": 0,
      "outputs": []
    },
    {
      "cell_type": "code",
      "metadata": {
        "id": "EkwXx8mVw1w0",
        "colab_type": "code",
        "colab": {}
      },
      "source": [
        "train_ds = tf.data.Dataset.from_tensor_slices(\n",
        "    (x_train, y_train)).shuffle(1000).batch(32)"
      ],
      "execution_count": 0,
      "outputs": []
    },
    {
      "cell_type": "code",
      "metadata": {
        "id": "0di4hN2exFsa",
        "colab_type": "code",
        "colab": {}
      },
      "source": [
        "test_ds = tf.data.Dataset.from_tensor_slices(\n",
        "    (x_test, y_test)).shuffle(1000).batch(32)"
      ],
      "execution_count": 0,
      "outputs": []
    },
    {
      "cell_type": "markdown",
      "metadata": {
        "id": "j6ksPQhKxT8D",
        "colab_type": "text"
      },
      "source": [
        "# Model Subclassing API"
      ]
    },
    {
      "cell_type": "code",
      "metadata": {
        "id": "7tNemtuixQJM",
        "colab_type": "code",
        "colab": {}
      },
      "source": [
        "class my_model(Model):\n",
        "    def __init__(self):\n",
        "        super(my_model, self).__init__()\n",
        "        self.conv1 = Conv2D(32, 3, activation='relu')\n",
        "        self.flatten = Flatten()\n",
        "        self.d1 = Dense(128, activation='relu')\n",
        "        self.d2 = Dense(10)\n",
        "    \n",
        "    def call(self, x):\n",
        "        x = self.conv1(x)\n",
        "        x = self.flatten(x)\n",
        "        x = self.d1(x)\n",
        "        return self.d2(x)"
      ],
      "execution_count": 0,
      "outputs": []
    },
    {
      "cell_type": "code",
      "metadata": {
        "id": "hpmchtzcx0ok",
        "colab_type": "code",
        "colab": {}
      },
      "source": [
        "model = my_model()"
      ],
      "execution_count": 0,
      "outputs": []
    },
    {
      "cell_type": "markdown",
      "metadata": {
        "id": "opW9Cduqy6jZ",
        "colab_type": "text"
      },
      "source": [
        "# Training"
      ]
    },
    {
      "cell_type": "markdown",
      "metadata": {
        "id": "32A-FNoPyY06",
        "colab_type": "text"
      },
      "source": [
        "- Select metrics to measure the loss and the accuracy of the model. \n",
        "- These metrics accumulate the values over epochs and then print the overall result."
      ]
    },
    {
      "cell_type": "code",
      "metadata": {
        "id": "toJjzmpJyDa7",
        "colab_type": "code",
        "colab": {}
      },
      "source": [
        "loss = tf.keras.losses.SparseCategoricalCrossentropy(from_logits=True)\n",
        "optimizer = tf.keras.optimizers.Adam()"
      ],
      "execution_count": 0,
      "outputs": []
    },
    {
      "cell_type": "code",
      "metadata": {
        "id": "1sP50lwXySJ7",
        "colab_type": "code",
        "colab": {}
      },
      "source": [
        "train_loss = tf.keras.metrics.Mean(name=\"train_loss\")\n",
        "train_accuracy = tf.keras.metrics.SparseCategoricalAccuracy(name='train_accuracy')\n",
        "\n",
        "test_loss = tf.keras.metrics.Mean(name=\"test_loss\")\n",
        "test_accuracy = tf.keras.metrics.SparseCategoricalAccuracy(name=\"test_accuracy\")"
      ],
      "execution_count": 0,
      "outputs": []
    },
    {
      "cell_type": "code",
      "metadata": {
        "id": "N4Z6adkSyv5k",
        "colab_type": "code",
        "colab": {}
      },
      "source": [
        "# train the model\n",
        "@tf.function\n",
        "def train_step(images, labels):\n",
        "    with tf.GradientTape() as tape:\n",
        "        # training=True is only needed if there are layers with different\n",
        "        # behavior during training versus inference (e.g. Dropout).\n",
        "        predictions = model(images, training=True)\n",
        "        loss_calc_train = loss(labels, predictions)\n",
        "    \n",
        "    gradients = tape.gradient(loss_calc_train, model.trainable_variables)\n",
        "    optimizer.apply_gradients(zip(gradients, model.trainable_variables))\n",
        "\n",
        "    train_loss(loss_calc_train)\n",
        "    train_accuracy(labels, predictions)\n"
      ],
      "execution_count": 0,
      "outputs": []
    },
    {
      "cell_type": "code",
      "metadata": {
        "id": "leV7nhCn0BuF",
        "colab_type": "code",
        "colab": {}
      },
      "source": [
        "# test the model\n",
        "@tf.function\n",
        "def test_step(images, labels):\n",
        "    # training=False is only needed if there are layers with different\n",
        "    # behavior during training versus inference (e.g. Dropout).\n",
        "    predictions = model(images, training=False)\n",
        "    loss_calc_test = loss(labels, predictions)\n",
        "\n",
        "    test_loss(loss_calc_test)\n",
        "    test_accuracy(labels, predictions)\n",
        "\n"
      ],
      "execution_count": 0,
      "outputs": []
    },
    {
      "cell_type": "code",
      "metadata": {
        "id": "InxdcVa30zmJ",
        "colab_type": "code",
        "colab": {
          "base_uri": "https://localhost:8080/",
          "height": 203
        },
        "outputId": "a81fe2d2-3331-4637-881b-fa12874396c4"
      },
      "source": [
        "epochs = 10\n",
        "for epoch in range(epochs):\n",
        "    train_loss.reset_states()\n",
        "    train_accuracy.reset_states()\n",
        "    test_loss.reset_states()\n",
        "    test_accuracy.reset_states()\n",
        "\n",
        "    for images, labels in train_ds:\n",
        "        train_step(images, labels)\n",
        "\n",
        "    for test_images, test_labels in test_ds:\n",
        "        test_step(images, labels)\n",
        "    \n",
        "    template = 'Epoch {}, Loss: {}, Accuracy: {}, Test Loss: {}, Test Accuracy: {}'\n",
        "    print(template.format(epoch+1, train_loss.result(), train_accuracy.result()*100, test_loss.result(), test_accuracy.result()*100))\n"
      ],
      "execution_count": 65,
      "outputs": [
        {
          "output_type": "stream",
          "text": [
            "Epoch 1, Loss: 0.020601395517587662, Accuracy: 99.33333587646484, Test Loss: 0.3043467104434967, Test Accuracy: 96.875\n",
            "Epoch 2, Loss: 0.01295520830899477, Accuracy: 99.57833099365234, Test Loss: 0.0023995027877390385, Test Accuracy: 100.0\n",
            "Epoch 3, Loss: 0.007603609003126621, Accuracy: 99.75, Test Loss: 6.908534851390868e-05, Test Accuracy: 100.0\n",
            "Epoch 4, Loss: 0.008921196684241295, Accuracy: 99.66666412353516, Test Loss: 0.00014284989447332919, Test Accuracy: 100.0\n",
            "Epoch 5, Loss: 0.005234827287495136, Accuracy: 99.81500244140625, Test Loss: 4.0059967432171106e-05, Test Accuracy: 100.0\n",
            "Epoch 6, Loss: 0.003951547667384148, Accuracy: 99.86333465576172, Test Loss: 0.002484978409484029, Test Accuracy: 100.0\n",
            "Epoch 7, Loss: 0.003997230436652899, Accuracy: 99.86000061035156, Test Loss: 8.642549573778524e-07, Test Accuracy: 100.0\n",
            "Epoch 8, Loss: 0.0028298525139689445, Accuracy: 99.91000366210938, Test Loss: 4.959200305165723e-05, Test Accuracy: 100.0\n",
            "Epoch 9, Loss: 0.003775108139961958, Accuracy: 99.87999725341797, Test Loss: 0.0003153361612930894, Test Accuracy: 100.0\n",
            "Epoch 10, Loss: 0.003373212181031704, Accuracy: 99.89666748046875, Test Loss: 0.0007721445872448385, Test Accuracy: 100.0\n"
          ],
          "name": "stdout"
        }
      ]
    }
  ]
}