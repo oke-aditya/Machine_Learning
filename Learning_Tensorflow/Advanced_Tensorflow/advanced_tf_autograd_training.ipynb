{
  "nbformat": 4,
  "nbformat_minor": 0,
  "metadata": {
    "colab": {
      "name": "advanced_tf_autograd_training.ipynb",
      "provenance": []
    },
    "kernelspec": {
      "name": "python3",
      "display_name": "Python 3"
    }
  },
  "cells": [
    {
      "cell_type": "markdown",
      "metadata": {
        "id": "donamAVMgbkc",
        "colab_type": "text"
      },
      "source": [
        "# AutoGrad API in Tensorflow"
      ]
    },
    {
      "cell_type": "code",
      "metadata": {
        "id": "bHHXzOnyfY4Z",
        "colab_type": "code",
        "outputId": "56d37164-09de-4338-8930-dff7b2c22883",
        "colab": {
          "base_uri": "https://localhost:8080/",
          "height": 36
        }
      },
      "source": [
        "%tensorflow_version 2.x"
      ],
      "execution_count": 0,
      "outputs": [
        {
          "output_type": "stream",
          "text": [
            "TensorFlow 2.x selected.\n"
          ],
          "name": "stdout"
        }
      ]
    },
    {
      "cell_type": "code",
      "metadata": {
        "id": "WQNlhUCJgtJF",
        "colab_type": "code",
        "colab": {}
      },
      "source": [
        "import tensorflow as tf"
      ],
      "execution_count": 0,
      "outputs": []
    },
    {
      "cell_type": "markdown",
      "metadata": {
        "id": "Fru9rH0EjX1a",
        "colab_type": "text"
      },
      "source": [
        "# Gradient Tape"
      ]
    },
    {
      "cell_type": "markdown",
      "metadata": {
        "id": "0d-FdqofgmA8",
        "colab_type": "text"
      },
      "source": [
        "TensorFlow provides the tf.GradientTape API for automatic differentiation - computing the gradient of a computation with respect to its input variables. Tensorflow \"records\" all operations executed inside the context of a tf.GradientTape onto a \"tape\". \n",
        "\n",
        "Tensorflow then uses that tape and the gradients associated with each recorded operation to compute the gradients of a \"recorded\" computation using reverse mode differentiation."
      ]
    },
    {
      "cell_type": "code",
      "metadata": {
        "id": "WWQasixigjpS",
        "colab_type": "code",
        "colab": {}
      },
      "source": [
        "x = tf.ones((2, 2))"
      ],
      "execution_count": 0,
      "outputs": []
    },
    {
      "cell_type": "code",
      "metadata": {
        "id": "_r0Z_b8hgwMY",
        "colab_type": "code",
        "colab": {}
      },
      "source": [
        "with tf.GradientTape() as tape:\n",
        "    tape.watch(x)\n",
        "    y = tf.reduce_sum(x)\n",
        "    z = tf.multiply(y, y)"
      ],
      "execution_count": 0,
      "outputs": []
    },
    {
      "cell_type": "code",
      "metadata": {
        "id": "RW_73dUBg6Qe",
        "colab_type": "code",
        "colab": {}
      },
      "source": [
        "dz_dx = tape.gradient(z, x)"
      ],
      "execution_count": 0,
      "outputs": []
    },
    {
      "cell_type": "code",
      "metadata": {
        "id": "JadwAcIzhBoh",
        "colab_type": "code",
        "outputId": "38b36f7d-513d-4cf8-ba21-5d420cce46f2",
        "colab": {
          "base_uri": "https://localhost:8080/",
          "height": 73
        }
      },
      "source": [
        "print(dz_dx)"
      ],
      "execution_count": 0,
      "outputs": [
        {
          "output_type": "stream",
          "text": [
            "tf.Tensor(\n",
            "[[8. 8.]\n",
            " [8. 8.]], shape=(2, 2), dtype=float32)\n"
          ],
          "name": "stdout"
        }
      ]
    },
    {
      "cell_type": "markdown",
      "metadata": {
        "id": "YqB_jYK2hREe",
        "colab_type": "text"
      },
      "source": [
        "You can also request gradients of the output with respect to intermediate values computed during a \"recorded\" tf.GradientTape context."
      ]
    },
    {
      "cell_type": "code",
      "metadata": {
        "id": "Ir5YxeU5hC8f",
        "colab_type": "code",
        "colab": {}
      },
      "source": [
        "x = tf.ones((2, 2))\n",
        "with tf.GradientTape() as tape:\n",
        "    tape.watch(x)\n",
        "    y = tf.reduce_sum(x)\n",
        "    z = tf.multiply(y, y)"
      ],
      "execution_count": 0,
      "outputs": []
    },
    {
      "cell_type": "code",
      "metadata": {
        "id": "aX5gzR0hhWMU",
        "colab_type": "code",
        "outputId": "bb8ec6c3-2764-49a5-de07-775fe3d844a5",
        "colab": {
          "base_uri": "https://localhost:8080/",
          "height": 36
        }
      },
      "source": [
        "dz_dy = tape.gradient(z, y)\n",
        "print(dz_dy)"
      ],
      "execution_count": 0,
      "outputs": [
        {
          "output_type": "stream",
          "text": [
            "tf.Tensor(8.0, shape=(), dtype=float32)\n"
          ],
          "name": "stdout"
        }
      ]
    },
    {
      "cell_type": "markdown",
      "metadata": {
        "id": "PH2Iwnpthnrk",
        "colab_type": "text"
      },
      "source": [
        "By default, the resources held by a GradientTape are released as soon as GradientTape.gradient() method is called. To compute multiple gradients over the same computation, create a persistent gradient tape. This allows multiple calls to the gradient() method as resources are released when the tape object is garbage collected."
      ]
    },
    {
      "cell_type": "code",
      "metadata": {
        "id": "1b9EgM1Thhb-",
        "colab_type": "code",
        "colab": {}
      },
      "source": [
        "x = tf.constant(3.0)\n",
        "with tf.GradientTape(persistent=True) as tape:\n",
        "    tape.watch(x)\n",
        "    y = x * x\n",
        "    z = y * y"
      ],
      "execution_count": 0,
      "outputs": []
    },
    {
      "cell_type": "code",
      "metadata": {
        "id": "d7T_BBCvh0VZ",
        "colab_type": "code",
        "outputId": "7f96e004-0b68-4c47-a01c-1224dceb90f7",
        "colab": {
          "base_uri": "https://localhost:8080/",
          "height": 36
        }
      },
      "source": [
        "dz_dx = tape.gradient(z, x)\n",
        "dz_dy = tape.gradient(z, y)\n",
        "dy_dx = tape.gradient(y, x)\n",
        "print(dz_dx, dz_dy, dy_dx)"
      ],
      "execution_count": 0,
      "outputs": [
        {
          "output_type": "stream",
          "text": [
            "tf.Tensor(108.0, shape=(), dtype=float32) tf.Tensor(18.0, shape=(), dtype=float32) tf.Tensor(6.0, shape=(), dtype=float32)\n"
          ],
          "name": "stdout"
        }
      ]
    },
    {
      "cell_type": "code",
      "metadata": {
        "id": "zmBdVvUlh_pg",
        "colab_type": "code",
        "colab": {}
      },
      "source": [
        "del tape"
      ],
      "execution_count": 0,
      "outputs": []
    },
    {
      "cell_type": "markdown",
      "metadata": {
        "id": "R4BsU7F4ikDo",
        "colab_type": "text"
      },
      "source": [
        "Recording control flow\n",
        "\n",
        "Because tapes record operations as they are executed, Python control flow (using ifs and whiles for example) is naturally handled:"
      ]
    },
    {
      "cell_type": "code",
      "metadata": {
        "id": "QZIqzBjPiFP7",
        "colab_type": "code",
        "colab": {}
      },
      "source": [
        "def f(x, y):\n",
        "    output = 1.0\n",
        "    for i in range(y):\n",
        "        if i > 1 and i < 5:\n",
        "            output = tf.multiply(output, x)\n",
        "    return output"
      ],
      "execution_count": 0,
      "outputs": []
    },
    {
      "cell_type": "code",
      "metadata": {
        "id": "mU3R20_wiySD",
        "colab_type": "code",
        "colab": {}
      },
      "source": [
        "def grad(x, y):\n",
        "    with tf.GradientTape() as tape:\n",
        "        tape.watch(x)\n",
        "        out = f(x, y)\n",
        "    \n",
        "    return tape.gradient(out, x)"
      ],
      "execution_count": 0,
      "outputs": []
    },
    {
      "cell_type": "code",
      "metadata": {
        "id": "7GK3ci-6i7WS",
        "colab_type": "code",
        "colab": {}
      },
      "source": [
        "x = tf.convert_to_tensor(2.0)"
      ],
      "execution_count": 0,
      "outputs": []
    },
    {
      "cell_type": "code",
      "metadata": {
        "id": "Bs6JNIyJi9gb",
        "colab_type": "code",
        "outputId": "c043ccf1-e921-4448-831c-63a664de26dd",
        "colab": {
          "base_uri": "https://localhost:8080/",
          "height": 36
        }
      },
      "source": [
        "x"
      ],
      "execution_count": 0,
      "outputs": [
        {
          "output_type": "execute_result",
          "data": {
            "text/plain": [
              "<tf.Tensor: shape=(), dtype=float32, numpy=2.0>"
            ]
          },
          "metadata": {
            "tags": []
          },
          "execution_count": 23
        }
      ]
    },
    {
      "cell_type": "code",
      "metadata": {
        "id": "posb25WjjAjt",
        "colab_type": "code",
        "outputId": "35b5af33-3916-4c07-8b36-654bd8ff1c26",
        "colab": {
          "base_uri": "https://localhost:8080/",
          "height": 36
        }
      },
      "source": [
        "print(grad(x, 6))"
      ],
      "execution_count": 0,
      "outputs": [
        {
          "output_type": "stream",
          "text": [
            "tf.Tensor(12.0, shape=(), dtype=float32)\n"
          ],
          "name": "stdout"
        }
      ]
    },
    {
      "cell_type": "code",
      "metadata": {
        "id": "cMvhmWf6jFjB",
        "colab_type": "code",
        "outputId": "ee2be2a2-99d2-4771-c9f2-fef12a1d8bf6",
        "colab": {
          "base_uri": "https://localhost:8080/",
          "height": 36
        }
      },
      "source": [
        "print(grad(x, 5))"
      ],
      "execution_count": 0,
      "outputs": [
        {
          "output_type": "stream",
          "text": [
            "tf.Tensor(12.0, shape=(), dtype=float32)\n"
          ],
          "name": "stdout"
        }
      ]
    },
    {
      "cell_type": "code",
      "metadata": {
        "id": "UzT0vst2jMZa",
        "colab_type": "code",
        "outputId": "a9bafdff-9b1d-4de9-a3d7-657d84e16361",
        "colab": {
          "base_uri": "https://localhost:8080/",
          "height": 36
        }
      },
      "source": [
        "print(grad(x, 4))"
      ],
      "execution_count": 0,
      "outputs": [
        {
          "output_type": "stream",
          "text": [
            "tf.Tensor(4.0, shape=(), dtype=float32)\n"
          ],
          "name": "stdout"
        }
      ]
    },
    {
      "cell_type": "markdown",
      "metadata": {
        "id": "Ssu0JXjMjPMc",
        "colab_type": "text"
      },
      "source": [
        "# Higher Order Gradients"
      ]
    },
    {
      "cell_type": "markdown",
      "metadata": {
        "id": "4psy_LnUjUcV",
        "colab_type": "text"
      },
      "source": [
        "Operations inside of the GradientTape context manager are recorded for automatic differentiation. If gradients are computed in that context, then the gradient computation is recorded as well. As a result, the exact same API works for higher-order gradients as well. For example:"
      ]
    },
    {
      "cell_type": "code",
      "metadata": {
        "id": "PtW_3LNAjN6L",
        "colab_type": "code",
        "colab": {}
      },
      "source": [
        "x = tf.Variable(1.0)\n",
        "\n",
        "with tf.GradientTape() as tape1:\n",
        "    with tf.GradientTape() as tape2:\n",
        "        y = x * x * x\n",
        "        dy_dx = tape2.gradient(y, x)\n",
        "        d2y_dx2 = tape1.gradient(dy_dx, x)\n"
      ],
      "execution_count": 0,
      "outputs": []
    },
    {
      "cell_type": "code",
      "metadata": {
        "id": "hiz5UzMLjvL7",
        "colab_type": "code",
        "outputId": "d0188494-2da3-423a-bcd7-ce04d6f38d05",
        "colab": {
          "base_uri": "https://localhost:8080/",
          "height": 54
        }
      },
      "source": [
        "print(dy_dx)\n",
        "print(d2y_dx2)"
      ],
      "execution_count": 0,
      "outputs": [
        {
          "output_type": "stream",
          "text": [
            "tf.Tensor(3.0, shape=(), dtype=float32)\n",
            "tf.Tensor(6.0, shape=(), dtype=float32)\n"
          ],
          "name": "stdout"
        }
      ]
    },
    {
      "cell_type": "markdown",
      "metadata": {
        "id": "XH8sR_OBSFfT",
        "colab_type": "text"
      },
      "source": [
        "# Using @tf.function"
      ]
    },
    {
      "cell_type": "markdown",
      "metadata": {
        "id": "4_9itRaiSIPs",
        "colab_type": "text"
      },
      "source": [
        "In TensorFlow 2.0, eager execution is turned on by default. The user interface is intuitive and flexible (running one-off operations is much easier and faster), but this can come at the expense of performance and deployability.\n",
        "\n",
        "To get peak performance and to make your model deployable anywhere, use tf.function to make graphs out of your programs. Thanks to AutoGraph, a surprising amount of Python code just works with tf.function, but there are still pitfalls to be wary of.\n",
        "\n",
        "The main takeaways and recommendations are:\n",
        "\n",
        "    Don't rely on Python side effects like object mutation or list appends.\n",
        "    tf.function works best with TensorFlow ops, rather than NumPy ops or Python primitives.\n",
        "    When in doubt, use the ` for x in y idiom `.\n"
      ]
    },
    {
      "cell_type": "code",
      "metadata": {
        "id": "xAjZzPPaj0nz",
        "colab_type": "code",
        "colab": {}
      },
      "source": [
        "import traceback\n",
        "import contextlib"
      ],
      "execution_count": 0,
      "outputs": []
    },
    {
      "cell_type": "code",
      "metadata": {
        "id": "m3IKt8ZRSSre",
        "colab_type": "code",
        "colab": {}
      },
      "source": [
        "# Some helper code to demonstrate the kinds of errors you might encounter.\n",
        "@contextlib.contextmanager\n",
        "def assert_raises(error_class):\n",
        "  try:\n",
        "    yield\n",
        "  except error_class as e:\n",
        "    print('Caught expected exception \\n  {}:'.format(error_class))\n",
        "    traceback.print_exc(limit=2)\n",
        "  except Exception as e:\n",
        "    raise e\n",
        "  else:\n",
        "    raise Exception('Expected {} to be raised but no error was raised!'.format(\n",
        "        error_class))\n"
      ],
      "execution_count": 0,
      "outputs": []
    },
    {
      "cell_type": "markdown",
      "metadata": {
        "id": "vSPoD6AASYS_",
        "colab_type": "text"
      },
      "source": [
        "## Basics\n",
        "\n",
        "A tf.function you define is just like a core TensorFlow operation: You can execute it eagerly; you can use it in a graph; it has gradients; and so on."
      ]
    },
    {
      "cell_type": "code",
      "metadata": {
        "id": "-W1fZP0gSVQA",
        "colab_type": "code",
        "colab": {}
      },
      "source": [
        "@tf.function\n",
        "def add(a, b):\n",
        "    return a + b"
      ],
      "execution_count": 0,
      "outputs": []
    },
    {
      "cell_type": "code",
      "metadata": {
        "id": "deHEklt6Sen3",
        "colab_type": "code",
        "outputId": "b1a0ed22-9a78-4167-8933-9ca270bdfc05",
        "colab": {
          "base_uri": "https://localhost:8080/",
          "height": 73
        }
      },
      "source": [
        "add(tf.ones([2, 2]), tf.ones([2, 2]))"
      ],
      "execution_count": 0,
      "outputs": [
        {
          "output_type": "execute_result",
          "data": {
            "text/plain": [
              "<tf.Tensor: shape=(2, 2), dtype=float32, numpy=\n",
              "array([[2., 2.],\n",
              "       [2., 2.]], dtype=float32)>"
            ]
          },
          "metadata": {
            "tags": []
          },
          "execution_count": 6
        }
      ]
    },
    {
      "cell_type": "code",
      "metadata": {
        "id": "6Ej31JHOSkzx",
        "colab_type": "code",
        "colab": {}
      },
      "source": [
        "v = tf.Variable(1.0)\n",
        "with tf.GradientTape() as tape:\n",
        "    result = add(v, 10)"
      ],
      "execution_count": 0,
      "outputs": []
    },
    {
      "cell_type": "code",
      "metadata": {
        "id": "_8ZvVupdSs-b",
        "colab_type": "code",
        "outputId": "28a9a1ff-eea6-43ff-87f9-cf8c1584a965",
        "colab": {
          "base_uri": "https://localhost:8080/",
          "height": 36
        }
      },
      "source": [
        "tape.gradient(result, v)"
      ],
      "execution_count": 0,
      "outputs": [
        {
          "output_type": "execute_result",
          "data": {
            "text/plain": [
              "<tf.Tensor: shape=(), dtype=float32, numpy=1.0>"
            ]
          },
          "metadata": {
            "tags": []
          },
          "execution_count": 8
        }
      ]
    },
    {
      "cell_type": "markdown",
      "metadata": {
        "id": "jotM1R6eSzui",
        "colab_type": "text"
      },
      "source": [
        "You can use functions inside functions"
      ]
    },
    {
      "cell_type": "code",
      "metadata": {
        "id": "a4ZJF001SvEg",
        "colab_type": "code",
        "colab": {}
      },
      "source": [
        "@tf.function\n",
        "def dense_layer(x, w, b):\n",
        "    return add(tf.matmul(x, w), b)"
      ],
      "execution_count": 0,
      "outputs": []
    },
    {
      "cell_type": "code",
      "metadata": {
        "id": "quIo1USKT10a",
        "colab_type": "code",
        "outputId": "fed71af9-cd20-429d-a64f-0dcfd320059a",
        "colab": {
          "base_uri": "https://localhost:8080/",
          "height": 91
        }
      },
      "source": [
        "dense_layer(tf.ones([3, 2]), tf.ones([2, 2]), tf.ones([2]))"
      ],
      "execution_count": 0,
      "outputs": [
        {
          "output_type": "execute_result",
          "data": {
            "text/plain": [
              "<tf.Tensor: shape=(3, 2), dtype=float32, numpy=\n",
              "array([[3., 3.],\n",
              "       [3., 3.],\n",
              "       [3., 3.]], dtype=float32)>"
            ]
          },
          "metadata": {
            "tags": []
          },
          "execution_count": 10
        }
      ]
    },
    {
      "cell_type": "code",
      "metadata": {
        "id": "cwbm2jNRT8rQ",
        "colab_type": "code",
        "colab": {}
      },
      "source": [
        ""
      ],
      "execution_count": 0,
      "outputs": []
    }
  ]
}