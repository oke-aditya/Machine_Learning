{
  "nbformat": 4,
  "nbformat_minor": 0,
  "metadata": {
    "colab": {
      "name": "Callbacks_Keras.ipynb",
      "provenance": []
    },
    "kernelspec": {
      "name": "python3",
      "display_name": "Python 3"
    },
    "accelerator": "GPU"
  },
  "cells": [
    {
      "cell_type": "markdown",
      "metadata": {
        "id": "EbmkGa_rjBpl",
        "colab_type": "text"
      },
      "source": [
        "# Keras Callbacks"
      ]
    },
    {
      "cell_type": "markdown",
      "metadata": {
        "id": "VNvQpXOMkfPu",
        "colab_type": "text"
      },
      "source": [
        "## Callbacks"
      ]
    },
    {
      "cell_type": "markdown",
      "metadata": {
        "id": "cGPFvJOojQV7",
        "colab_type": "text"
      },
      "source": [
        "- A callback is an object (a class instance implementing specific methods) that is passed to the model in the call to fit and that is called by the model at various points during training. \n",
        "- It has access to all the available data about the state of the model and its performance, and it can take action: interrupt training, save a model, load a different weight set, or otherwise alter the state of the model.\n",
        "- Here are some examples of ways you can use callbacks:\n",
        "1. Model checkpointing — Saving the current weights of the model at different points during training.\n",
        "2. Early stopping — Interrupting training when the validation loss is no longer\n",
        "improving (and of course, saving the best model obtained during training).\n",
        "3. Dynamically adjusting the value of certain parameters during training—Such as the learning rate of the optimizer.\n",
        "4. Logging training and validation metrics during training, or visualizing the representations learned by the model as they’re updated"
      ]
    },
    {
      "cell_type": "markdown",
      "metadata": {
        "id": "9QOMpnB8kerW",
        "colab_type": "text"
      },
      "source": [
        "### ModelCheckpointing and EarlyStopping Callbacks"
      ]
    },
    {
      "cell_type": "markdown",
      "metadata": {
        "id": "iDRD0Pmikmuq",
        "colab_type": "text"
      },
      "source": [
        "- You can use the EarlyStopping callback to interrupt training once a target metric being monitored has stopped improving for a fixed number of epochs. \n",
        "- For instance, this callback allows you to interrupt training as soon as you start overfitting, thus avoiding having to retrain your model for a smaller number of epochs. \n",
        "- This callback is typically used in combination with ModelCheckpoint, which lets you continually save the model during training (and, optionally, save only the current best model so far)"
      ]
    },
    {
      "cell_type": "code",
      "metadata": {
        "id": "izNlsw7OiLAl",
        "colab_type": "code",
        "colab": {
          "base_uri": "https://localhost:8080/",
          "height": 54
        },
        "outputId": "f32dce9c-f7ca-489c-eb26-dfd045c9df3f"
      },
      "source": [
        "%tensorflow_version 2.x\n",
        "from keras.callbacks import ReduceLROnPlateau\n",
        "from keras.callbacks import EarlyStopping\n",
        "from keras.callbacks import ModelCheckpoint"
      ],
      "execution_count": 1,
      "outputs": [
        {
          "output_type": "stream",
          "text": [
            "TensorFlow 2.x selected.\n"
          ],
          "name": "stdout"
        },
        {
          "output_type": "stream",
          "text": [
            "Using TensorFlow backend.\n"
          ],
          "name": "stderr"
        }
      ]
    },
    {
      "cell_type": "code",
      "metadata": {
        "id": "ZrFXb5Gek6sb",
        "colab_type": "code",
        "colab": {}
      },
      "source": [
        "callbacks_list = [EarlyStopping(monitor = 'val_acc', patience = 1, ), ModelCheckpoint('best_model.h5', monitor = 'val_acc', save_best_only=True)]  \n",
        "# Interrupts training when accuracy has stopped improving for more than one epoch (that is, two epochs)"
      ],
      "execution_count": 0,
      "outputs": []
    },
    {
      "cell_type": "code",
      "metadata": {
        "id": "F3tnj5FIl52w",
        "colab_type": "code",
        "colab": {}
      },
      "source": [
        "model.compile(optimizer='rmsprop', loss='binary_crossentropy', metrics=['acc'])\n",
        "model.fit(x, y, epochs = 10, batch_size = 32, callbacks = callbacks_list, validation_data = (x_val, y_val))\n",
        "# Note that because the callback will monitor validation loss and validation accuracy, you need to pass validation_data to the call to fit."
      ],
      "execution_count": 0,
      "outputs": []
    },
    {
      "cell_type": "markdown",
      "metadata": {
        "id": "t3oudRMrm5De",
        "colab_type": "text"
      },
      "source": [
        "### ReduceLROnPlateau Callback"
      ]
    },
    {
      "cell_type": "markdown",
      "metadata": {
        "id": "W7lUOWArdvhM",
        "colab_type": "text"
      },
      "source": [
        "- Reducing the learning when the model is not able to push loss lower is a good idea.\n",
        "- Divides the learning rate by 10 when triggered\n",
        "The callback is triggered after the validation\n",
        "loss has stopped improving for 10 epochs."
      ]
    },
    {
      "cell_type": "code",
      "metadata": {
        "id": "wFxO0E0smYT1",
        "colab_type": "code",
        "colab": {}
      },
      "source": [
        "callbacks_list = [(keras.callbacks.ReduceLROnPlateau(monitor = 'val_loss', factor = 0.1, patience = 10)]"
      ],
      "execution_count": 0,
      "outputs": []
    }
  ]
}