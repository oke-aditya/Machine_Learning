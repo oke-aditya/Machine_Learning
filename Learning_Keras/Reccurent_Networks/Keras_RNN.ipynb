{
  "nbformat": 4,
  "nbformat_minor": 0,
  "metadata": {
    "colab": {
      "name": "Keras-RNN.ipynb",
      "version": "0.3.2",
      "provenance": []
    },
    "kernelspec": {
      "name": "python3",
      "display_name": "Python 3"
    },
    "accelerator": "GPU"
  },
  "cells": [
    {
      "cell_type": "code",
      "metadata": {
        "id": "XlC1hl_1gHMT",
        "colab_type": "code",
        "colab": {}
      },
      "source": [
        "import tensorflow as tf"
      ],
      "execution_count": 0,
      "outputs": []
    },
    {
      "cell_type": "code",
      "metadata": {
        "id": "Bn4uP9a6eeFO",
        "colab_type": "code",
        "colab": {}
      },
      "source": [
        "from keras.models import Sequential\n",
        "from keras import layers\n",
        "from keras import optimizers"
      ],
      "execution_count": 0,
      "outputs": []
    },
    {
      "cell_type": "code",
      "metadata": {
        "id": "FvZdV8OtgiaN",
        "colab_type": "code",
        "colab": {}
      },
      "source": [
        "from sklearn.model_selection import train_test_split"
      ],
      "execution_count": 0,
      "outputs": []
    },
    {
      "cell_type": "code",
      "metadata": {
        "id": "SSoeQ7sVf05d",
        "colab_type": "code",
        "colab": {}
      },
      "source": [
        "mnist = tf.keras.datasets.mnist"
      ],
      "execution_count": 0,
      "outputs": []
    },
    {
      "cell_type": "code",
      "metadata": {
        "id": "CVB2RMjUgE5O",
        "colab_type": "code",
        "colab": {}
      },
      "source": [
        "(X_train, Y_train), (X_test, Y_test) = mnist.load_data()"
      ],
      "execution_count": 0,
      "outputs": []
    },
    {
      "cell_type": "code",
      "metadata": {
        "id": "s-mehbFYgWtF",
        "colab_type": "code",
        "colab": {
          "base_uri": "https://localhost:8080/",
          "height": 36
        },
        "outputId": "8119816e-a0c7-4b4e-bd08-7f102bd82593"
      },
      "source": [
        "print(X_train.shape, Y_train.shape)"
      ],
      "execution_count": 108,
      "outputs": [
        {
          "output_type": "stream",
          "text": [
            "(60000, 28, 28) (60000,)\n"
          ],
          "name": "stdout"
        }
      ]
    },
    {
      "cell_type": "code",
      "metadata": {
        "id": "SPJuyWFwgbjb",
        "colab_type": "code",
        "colab": {}
      },
      "source": [
        "X_train = X_train / 255.0\n",
        "X_test = X_test / 255.0"
      ],
      "execution_count": 0,
      "outputs": []
    },
    {
      "cell_type": "markdown",
      "metadata": {
        "id": "-4Bjj9eshGqV",
        "colab_type": "text"
      },
      "source": [
        "* We are trying to model here rows. \n",
        "* What we are saying is we are asking the Recurrent Net to learn the pattern of  rows and then predict what is the pixel in the row. \n",
        "* This mapping is done based on the information of the previous known rows for the images."
      ]
    },
    {
      "cell_type": "code",
      "metadata": {
        "id": "yhJ-TAp_g3Oc",
        "colab_type": "code",
        "colab": {}
      },
      "source": [
        "model = Sequential()"
      ],
      "execution_count": 0,
      "outputs": []
    },
    {
      "cell_type": "code",
      "metadata": {
        "id": "no-GAA2ynJHv",
        "colab_type": "code",
        "colab": {}
      },
      "source": [
        "model = Sequential()\n",
        "model.add(layers.LSTM(128, input_shape=(X_train.shape[1:]), activation='relu', return_sequences=True))\n",
        "model.add(layers.Dropout(0.2))\n",
        "\n",
        "model.add(layers.LSTM(128, activation='relu'))\n",
        "model.add(layers.Dropout(0.1))\n",
        "\n",
        "model.add(layers.Dense(32, activation='relu'))\n",
        "model.add(layers.Dropout(0.2))\n",
        "\n",
        "model.add(layers.Dense(10, activation='softmax'))"
      ],
      "execution_count": 0,
      "outputs": []
    },
    {
      "cell_type": "code",
      "metadata": {
        "id": "QP4AHMTli4wI",
        "colab_type": "code",
        "colab": {}
      },
      "source": [
        "optim = optimizers.Adam(lr = 0.001, decay = 0.01)"
      ],
      "execution_count": 0,
      "outputs": []
    },
    {
      "cell_type": "code",
      "metadata": {
        "id": "FzNUtlSAigz5",
        "colab_type": "code",
        "colab": {}
      },
      "source": [
        "model.compile(optimizer = optim, loss = \"sparse_categorical_crossentropy\", metrics = ['accuracy'])"
      ],
      "execution_count": 0,
      "outputs": []
    },
    {
      "cell_type": "code",
      "metadata": {
        "id": "HwBwm2SAjrLV",
        "colab_type": "code",
        "colab": {}
      },
      "source": [
        "epochs = 5"
      ],
      "execution_count": 0,
      "outputs": []
    },
    {
      "cell_type": "code",
      "metadata": {
        "id": "zGMvjZALjlGa",
        "colab_type": "code",
        "colab": {
          "base_uri": "https://localhost:8080/",
          "height": 240
        },
        "outputId": "72914d6c-0b56-4e6e-b192-35936260f905"
      },
      "source": [
        "model.fit(X_train, Y_train, epochs = epochs, validation_data=(X_test, Y_test))"
      ],
      "execution_count": 115,
      "outputs": [
        {
          "output_type": "stream",
          "text": [
            "Train on 60000 samples, validate on 10000 samples\n",
            "Epoch 1/5\n",
            "60000/60000 [==============================] - 173s 3ms/step - loss: 0.8862 - acc: 0.6921 - val_loss: 0.3785 - val_acc: 0.8757\n",
            "Epoch 2/5\n",
            "60000/60000 [==============================] - 172s 3ms/step - loss: 0.4566 - acc: 0.8556 - val_loss: 0.2847 - val_acc: 0.9090\n",
            "Epoch 3/5\n",
            "60000/60000 [==============================] - 172s 3ms/step - loss: 0.3796 - acc: 0.8832 - val_loss: 0.2448 - val_acc: 0.9235\n",
            "Epoch 4/5\n",
            "60000/60000 [==============================] - 172s 3ms/step - loss: 0.3395 - acc: 0.8962 - val_loss: 0.2269 - val_acc: 0.9305\n",
            "Epoch 5/5\n",
            "60000/60000 [==============================] - 171s 3ms/step - loss: 0.3203 - acc: 0.9027 - val_loss: 0.2125 - val_acc: 0.9331\n"
          ],
          "name": "stdout"
        },
        {
          "output_type": "execute_result",
          "data": {
            "text/plain": [
              "<keras.callbacks.History at 0x7fbc640bfd30>"
            ]
          },
          "metadata": {
            "tags": []
          },
          "execution_count": 115
        }
      ]
    },
    {
      "cell_type": "code",
      "metadata": {
        "id": "3QPasv6njYDs",
        "colab_type": "code",
        "colab": {}
      },
      "source": [
        "model.summary()"
      ],
      "execution_count": 0,
      "outputs": []
    },
    {
      "cell_type": "code",
      "metadata": {
        "id": "w6WmeaSznrXQ",
        "colab_type": "code",
        "colab": {
          "base_uri": "https://localhost:8080/",
          "height": 36
        },
        "outputId": "2316ec3e-3915-4bf2-8177-b17e3c79c82c"
      },
      "source": [
        "X_test.shape"
      ],
      "execution_count": 117,
      "outputs": [
        {
          "output_type": "execute_result",
          "data": {
            "text/plain": [
              "(10000, 28, 28)"
            ]
          },
          "metadata": {
            "tags": []
          },
          "execution_count": 117
        }
      ]
    },
    {
      "cell_type": "code",
      "metadata": {
        "id": "1G8EjJ28o8Gn",
        "colab_type": "code",
        "colab": {}
      },
      "source": [
        "model = Sequential()\n",
        "model.add(layers.CuDNNLSTM(128, input_shape=(X_train.shape[1:]), return_sequences=True))\n",
        "model.add(layers.Dropout(0.2))\n",
        "\n",
        "model.add(layers.CuDNNLSTM(128))\n",
        "model.add(layers.Dropout(0.1))\n",
        "\n",
        "model.add(layers.Dense(32, activation='relu'))\n",
        "model.add(layers.Dropout(0.2))\n",
        "\n",
        "model.add(layers.Dense(10, activation='softmax'))"
      ],
      "execution_count": 0,
      "outputs": []
    },
    {
      "cell_type": "code",
      "metadata": {
        "id": "X_MpuCgL4qba",
        "colab_type": "code",
        "colab": {}
      },
      "source": [
        "model.compile(optimizer = optim, loss = \"sparse_categorical_crossentropy\", metrics = ['accuracy'])"
      ],
      "execution_count": 0,
      "outputs": []
    },
    {
      "cell_type": "code",
      "metadata": {
        "id": "HqYldBds6LcA",
        "colab_type": "code",
        "colab": {}
      },
      "source": [
        "optim = optimizers.SGD(lr = 0.01, momentum = 0.09, nesterov=True)"
      ],
      "execution_count": 0,
      "outputs": []
    },
    {
      "cell_type": "code",
      "metadata": {
        "id": "ERz5t65M5QU0",
        "colab_type": "code",
        "colab": {}
      },
      "source": [
        "epochs = 25"
      ],
      "execution_count": 0,
      "outputs": []
    },
    {
      "cell_type": "code",
      "metadata": {
        "id": "n_qg5Squ4sZq",
        "colab_type": "code",
        "colab": {
          "base_uri": "https://localhost:8080/",
          "height": 982
        },
        "outputId": "83d07ec8-7e51-437f-9892-3bd32365f471"
      },
      "source": [
        "model.fit(X_train, Y_train, epochs = epochs, validation_data=(X_test, Y_test))"
      ],
      "execution_count": 137,
      "outputs": [
        {
          "output_type": "stream",
          "text": [
            "Train on 60000 samples, validate on 10000 samples\n",
            "Epoch 1/25\n",
            "60000/60000 [==============================] - 17s 285us/step - loss: 1.7521 - acc: 0.3810 - val_loss: 1.0559 - val_acc: 0.6505\n",
            "Epoch 2/25\n",
            "60000/60000 [==============================] - 15s 244us/step - loss: 0.8160 - acc: 0.7263 - val_loss: 0.4972 - val_acc: 0.8450\n",
            "Epoch 3/25\n",
            "60000/60000 [==============================] - 15s 245us/step - loss: 0.4552 - acc: 0.8636 - val_loss: 0.2910 - val_acc: 0.9121\n",
            "Epoch 4/25\n",
            "60000/60000 [==============================] - 15s 244us/step - loss: 0.2925 - acc: 0.9171 - val_loss: 0.1819 - val_acc: 0.9463\n",
            "Epoch 5/25\n",
            "60000/60000 [==============================] - 15s 246us/step - loss: 0.2168 - acc: 0.9399 - val_loss: 0.1820 - val_acc: 0.9444\n",
            "Epoch 6/25\n",
            "60000/60000 [==============================] - 15s 246us/step - loss: 0.1797 - acc: 0.9514 - val_loss: 0.1159 - val_acc: 0.9659\n",
            "Epoch 7/25\n",
            "60000/60000 [==============================] - 15s 246us/step - loss: 0.1539 - acc: 0.9575 - val_loss: 0.1007 - val_acc: 0.9696\n",
            "Epoch 8/25\n",
            "60000/60000 [==============================] - 15s 252us/step - loss: 0.1387 - acc: 0.9627 - val_loss: 0.1206 - val_acc: 0.9629\n",
            "Epoch 9/25\n",
            "60000/60000 [==============================] - 15s 245us/step - loss: 0.1242 - acc: 0.9663 - val_loss: 0.0940 - val_acc: 0.9718\n",
            "Epoch 10/25\n",
            "60000/60000 [==============================] - 15s 244us/step - loss: 0.1136 - acc: 0.9693 - val_loss: 0.0829 - val_acc: 0.9751\n",
            "Epoch 11/25\n",
            "60000/60000 [==============================] - 15s 249us/step - loss: 0.1051 - acc: 0.9706 - val_loss: 0.0863 - val_acc: 0.9756\n",
            "Epoch 12/25\n",
            "60000/60000 [==============================] - 15s 242us/step - loss: 0.0972 - acc: 0.9733 - val_loss: 0.0704 - val_acc: 0.9797\n",
            "Epoch 13/25\n",
            "60000/60000 [==============================] - 15s 246us/step - loss: 0.0913 - acc: 0.9749 - val_loss: 0.0686 - val_acc: 0.9804\n",
            "Epoch 14/25\n",
            "60000/60000 [==============================] - 15s 244us/step - loss: 0.0854 - acc: 0.9767 - val_loss: 0.0672 - val_acc: 0.9811\n",
            "Epoch 15/25\n",
            "60000/60000 [==============================] - 15s 246us/step - loss: 0.0803 - acc: 0.9788 - val_loss: 0.0631 - val_acc: 0.9811\n",
            "Epoch 16/25\n",
            "60000/60000 [==============================] - 15s 247us/step - loss: 0.0767 - acc: 0.9796 - val_loss: 0.0631 - val_acc: 0.9826\n",
            "Epoch 17/25\n",
            "60000/60000 [==============================] - 15s 248us/step - loss: 0.0718 - acc: 0.9799 - val_loss: 0.0584 - val_acc: 0.9831\n",
            "Epoch 18/25\n",
            "60000/60000 [==============================] - 15s 245us/step - loss: 0.0673 - acc: 0.9815 - val_loss: 0.0679 - val_acc: 0.9799\n",
            "Epoch 19/25\n",
            "60000/60000 [==============================] - 15s 244us/step - loss: 0.0637 - acc: 0.9826 - val_loss: 0.0568 - val_acc: 0.9842\n",
            "Epoch 20/25\n",
            "60000/60000 [==============================] - 14s 240us/step - loss: 0.0613 - acc: 0.9825 - val_loss: 0.0642 - val_acc: 0.9819\n",
            "Epoch 21/25\n",
            "60000/60000 [==============================] - 14s 241us/step - loss: 0.0595 - acc: 0.9835 - val_loss: 0.0591 - val_acc: 0.9827\n",
            "Epoch 22/25\n",
            "60000/60000 [==============================] - 14s 241us/step - loss: 0.0570 - acc: 0.9846 - val_loss: 0.0574 - val_acc: 0.9845\n",
            "Epoch 23/25\n",
            "60000/60000 [==============================] - 14s 240us/step - loss: 0.0522 - acc: 0.9853 - val_loss: 0.0505 - val_acc: 0.9852\n",
            "Epoch 24/25\n",
            "60000/60000 [==============================] - 14s 239us/step - loss: 0.0514 - acc: 0.9855 - val_loss: 0.0539 - val_acc: 0.9849\n",
            "Epoch 25/25\n",
            "60000/60000 [==============================] - 14s 238us/step - loss: 0.0475 - acc: 0.9872 - val_loss: 0.0559 - val_acc: 0.9844\n"
          ],
          "name": "stdout"
        },
        {
          "output_type": "execute_result",
          "data": {
            "text/plain": [
              "<keras.callbacks.History at 0x7fbc4ac57f98>"
            ]
          },
          "metadata": {
            "tags": []
          },
          "execution_count": 137
        }
      ]
    },
    {
      "cell_type": "code",
      "metadata": {
        "id": "3t3rgZ4_4sR2",
        "colab_type": "code",
        "colab": {}
      },
      "source": [
        ""
      ],
      "execution_count": 0,
      "outputs": []
    }
  ]
}