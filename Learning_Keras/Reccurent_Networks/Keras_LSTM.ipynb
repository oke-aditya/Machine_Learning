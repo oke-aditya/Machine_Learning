{
  "nbformat": 4,
  "nbformat_minor": 0,
  "metadata": {
    "colab": {
      "name": "Keras-LSTM.ipynb",
      "provenance": []
    },
    "kernelspec": {
      "name": "python3",
      "display_name": "Python 3"
    },
    "accelerator": "GPU"
  },
  "cells": [
    {
      "cell_type": "code",
      "metadata": {
        "id": "AO4y4OHTR_Lo",
        "colab_type": "code",
        "colab": {
          "base_uri": "https://localhost:8080/",
          "height": 110
        },
        "outputId": "3027de2c-2124-4ce5-fe14-96df70f87d47"
      },
      "source": [
        "from keras.layers import SimpleRNN\n",
        "# It takes input of shapes (batch_size, timestamp, input_features)\n",
        "# It has two output modes it can return either the full sequence of successive outputs as 3D tensor\n",
        "# (batch_size, timestamp, output_features)\n",
        "# Or last output can be of the shape 2D tensor\n",
        "# (batch_size, features)\n",
        "# These two modes are controlled by the return sequences argument\n",
        "\n",
        "from keras.models import Sequential\n",
        "from keras import layers\n",
        "from keras.datasets import imdb\n",
        "from keras.preprocessing import sequence\n",
        "\n",
        "max_features = 1000\n",
        "maxlen = 500\n",
        "batch_size = 32\n",
        "(x_train, y_train), (x_test, y_test) = imdb.load_data(num_words = max_features)\n",
        "print(\"Train sequences\",len(x_train))\n",
        "print(\"Test sequences\",len(x_test))\n",
        "\n"
      ],
      "execution_count": 1,
      "outputs": [
        {
          "output_type": "stream",
          "text": [
            "Using TensorFlow backend.\n"
          ],
          "name": "stderr"
        },
        {
          "output_type": "stream",
          "text": [
            "Downloading data from https://s3.amazonaws.com/text-datasets/imdb.npz\n",
            "17465344/17464789 [==============================] - 1s 0us/step\n",
            "Train sequences 25000\n",
            "Test sequences 25000\n"
          ],
          "name": "stdout"
        }
      ]
    },
    {
      "cell_type": "code",
      "metadata": {
        "id": "eKI_OUIqSFd2",
        "colab_type": "code",
        "colab": {
          "base_uri": "https://localhost:8080/",
          "height": 128
        },
        "outputId": "496af554-bad1-4d12-fb32-d9dd9d9d9366"
      },
      "source": [
        "print(x_train.shape)\n",
        "print(x_test.shape)\n",
        "# print(x_train)\n",
        "\n",
        "input_train = sequence.pad_sequences(x_train, maxlen = maxlen)\n",
        "input_test = sequence.pad_sequences(x_test, maxlen = maxlen)\n",
        "\n",
        "print(\"Input shape\", input_train.shape)\n",
        "print(\"Input labels\",y_train.shape)\n",
        "print(\"Input test\", input_test.shape)\n",
        "print(\"Test labels\",y_test.shape)\n",
        "# print(input_train)"
      ],
      "execution_count": 2,
      "outputs": [
        {
          "output_type": "stream",
          "text": [
            "(25000,)\n",
            "(25000,)\n",
            "Input shape (25000, 500)\n",
            "Input labels (25000,)\n",
            "Input test (25000, 500)\n",
            "Test labels (25000,)\n"
          ],
          "name": "stdout"
        }
      ]
    },
    {
      "cell_type": "code",
      "metadata": {
        "id": "wCdyhJHASDsI",
        "colab_type": "code",
        "colab": {
          "base_uri": "https://localhost:8080/",
          "height": 407
        },
        "outputId": "8a716d80-a628-4fa1-b184-0d77f978d2c2"
      },
      "source": [
        "\n",
        "model = Sequential()\n",
        "model.add(layers.Embedding(max_features, 32))\n",
        "model.add(layers.CuDNNLSTM(32))\n",
        "model.add(layers.Dense(1, activation = 'sigmoid'))\n",
        "\n",
        "model.compile(optimizer = 'Adam', loss = 'binary_crossentropy', metrics=['acc'])\n",
        "history = model.fit(input_train, y_train, batch_size=32, epochs = 10, verbose = 1, validation_split=0.2)\n",
        "\n"
      ],
      "execution_count": 5,
      "outputs": [
        {
          "output_type": "stream",
          "text": [
            "Train on 20000 samples, validate on 5000 samples\n",
            "Epoch 1/10\n",
            "20000/20000 [==============================] - 51s 3ms/step - loss: 0.4950 - acc: 0.7531 - val_loss: 0.4285 - val_acc: 0.8112\n",
            "Epoch 2/10\n",
            "20000/20000 [==============================] - 48s 2ms/step - loss: 0.3694 - acc: 0.8425 - val_loss: 0.3689 - val_acc: 0.8488\n",
            "Epoch 3/10\n",
            "20000/20000 [==============================] - 48s 2ms/step - loss: 0.3946 - acc: 0.8313 - val_loss: 0.3759 - val_acc: 0.8442\n",
            "Epoch 4/10\n",
            "20000/20000 [==============================] - 48s 2ms/step - loss: 0.3435 - acc: 0.8563 - val_loss: 0.3826 - val_acc: 0.8392\n",
            "Epoch 5/10\n",
            "20000/20000 [==============================] - 47s 2ms/step - loss: 0.3219 - acc: 0.8657 - val_loss: 0.3468 - val_acc: 0.8578\n",
            "Epoch 6/10\n",
            "20000/20000 [==============================] - 48s 2ms/step - loss: 0.3087 - acc: 0.8726 - val_loss: 0.3551 - val_acc: 0.8510\n",
            "Epoch 7/10\n",
            "20000/20000 [==============================] - 48s 2ms/step - loss: 0.3372 - acc: 0.8517 - val_loss: 0.4422 - val_acc: 0.7890\n",
            "Epoch 8/10\n",
            "20000/20000 [==============================] - 48s 2ms/step - loss: 0.5444 - acc: 0.7206 - val_loss: 0.6079 - val_acc: 0.6658\n",
            "Epoch 9/10\n",
            "20000/20000 [==============================] - 48s 2ms/step - loss: 0.5091 - acc: 0.7524 - val_loss: 0.4777 - val_acc: 0.7706\n",
            "Epoch 10/10\n",
            "20000/20000 [==============================] - 47s 2ms/step - loss: 0.3404 - acc: 0.8572 - val_loss: 0.3384 - val_acc: 0.8612\n"
          ],
          "name": "stdout"
        }
      ]
    },
    {
      "cell_type": "code",
      "metadata": {
        "id": "79nNbWKuSPTb",
        "colab_type": "code",
        "colab": {
          "base_uri": "https://localhost:8080/",
          "height": 545
        },
        "outputId": "b6f16577-cf71-41d3-eb7f-6c9a0a3458e2"
      },
      "source": [
        "import matplotlib.pyplot as plt\n",
        "acc = history.history['acc']\n",
        "val_acc = history.history['val_acc']\n",
        "loss = history.history['loss']\n",
        "val_loss = history.history['val_loss']\n",
        "epochs = range(1, len(acc) + 1)\n",
        "plt.plot(epochs, acc, 'bo', label='Training acc')\n",
        "plt.plot(epochs, val_acc, 'b', label='Validation acc')\n",
        "plt.title('Training and validation accuracy')\n",
        "plt.legend()\n",
        "plt.figure()\n",
        "plt.plot(epochs, loss, 'bo', label='Training loss')\n",
        "plt.plot(epochs, val_loss, 'b', label='Validation loss')\n",
        "plt.title('Training and validation loss')\n",
        "plt.legend()\n",
        "plt.show()"
      ],
      "execution_count": 6,
      "outputs": [
        {
          "output_type": "display_data",
          "data": {
            "image/png": "[encoded data removed]",
            "text/plain": [
              "<Figure size 432x288 with 1 Axes>"
            ]
          },
          "metadata": {
            "tags": []
          }
        },
        {
          "output_type": "display_data",
          "data": {
            "image/png": "[encoded data removed]",
            "text/plain": [
              "<Figure size 432x288 with 1 Axes>"
            ]
          },
          "metadata": {
            "tags": []
          }
        }
      ]
    },
    {
      "cell_type": "code",
      "metadata": {
        "id": "WADYYtLvZrKN",
        "colab_type": "code",
        "colab": {}
      },
      "source": [
        ""
      ],
      "execution_count": 0,
      "outputs": []
    }
  ]
}