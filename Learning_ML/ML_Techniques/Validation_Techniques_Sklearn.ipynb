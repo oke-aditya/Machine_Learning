{
  "nbformat": 4,
  "nbformat_minor": 0,
  "metadata": {
    "colab": {
      "name": "Validation-Techniques-Sklearn.ipynb",
      "provenance": []
    },
    "kernelspec": {
      "name": "python3",
      "display_name": "Python 3"
    }
  },
  "cells": [
    {
      "cell_type": "markdown",
      "metadata": {
        "id": "kwRqiIqPHIH4",
        "colab_type": "text"
      },
      "source": [
        "# Validation Techniques"
      ]
    },
    {
      "cell_type": "markdown",
      "metadata": {
        "id": "rxAocIDfHL6R",
        "colab_type": "text"
      },
      "source": [
        "## Overview"
      ]
    },
    {
      "cell_type": "markdown",
      "metadata": {
        "id": "dgLNAyPWH1sG",
        "colab_type": "text"
      },
      "source": [
        "https://scikit-learn.org/stable/modules/cross_validation.html"
      ]
    },
    {
      "cell_type": "markdown",
      "metadata": {
        "id": "9mpZYGWwHjkY",
        "colab_type": "text"
      },
      "source": [
        "* Learning the parameters of a prediction function and testing it on the same data is a methodological mistake: a model that would just repeat the labels of the samples that it has just seen would have a perfect score but would fail to predict anything useful on yet-unseen data. \n",
        "* This situation is called **overfitting.** \n",
        "* To avoid it, it is common practice when performing a (supervised) machine learning experiment to hold out part of the available data as a test set `X_test, y_test`"
      ]
    },
    {
      "cell_type": "markdown",
      "metadata": {
        "id": "h6KYGi2SH3nU",
        "colab_type": "text"
      },
      "source": [
        "## Train-Test-Split"
      ]
    },
    {
      "cell_type": "markdown",
      "metadata": {
        "id": "w2FyjLUPH98I",
        "colab_type": "text"
      },
      "source": [
        "* In scikit-learn a random split into training and test sets can be quickly computed with the train_test_split helper function."
      ]
    },
    {
      "cell_type": "code",
      "metadata": {
        "id": "SyZ932M4GmaD",
        "colab_type": "code",
        "colab": {}
      },
      "source": [
        "import numpy as np\n",
        "from sklearn.model_selection import train_test_split\n",
        "from sklearn import datasets\n",
        "from sklearn import svm"
      ],
      "execution_count": 0,
      "outputs": []
    },
    {
      "cell_type": "code",
      "metadata": {
        "id": "vClUMtMqIMl_",
        "colab_type": "code",
        "colab": {}
      },
      "source": [
        "iris = datasets.load_iris()\n",
        "X = iris.data\n",
        "Y = iris.target"
      ],
      "execution_count": 0,
      "outputs": []
    },
    {
      "cell_type": "code",
      "metadata": {
        "id": "z6MKL6CsIcsp",
        "colab_type": "code",
        "colab": {}
      },
      "source": [
        "X_train, X_test, Y_train, Y_test = train_test_split(X,Y, stratify = None, random_state = 31, test_size = 0.4)"
      ],
      "execution_count": 0,
      "outputs": []
    },
    {
      "cell_type": "code",
      "metadata": {
        "id": "gocSOSUPIlRE",
        "colab_type": "code",
        "outputId": "264fac74-8b99-48ce-bfa8-10aadb17c548",
        "colab": {
          "base_uri": "https://localhost:8080/",
          "height": 148
        }
      },
      "source": [
        "clf = svm.SVC(kernel = 'rbf', C = 0.9)\n",
        "clf.fit(X_train, Y_train)"
      ],
      "execution_count": 0,
      "outputs": [
        {
          "output_type": "stream",
          "text": [
            "/usr/local/lib/python3.6/dist-packages/sklearn/svm/base.py:193: FutureWarning: The default value of gamma will change from 'auto' to 'scale' in version 0.22 to account better for unscaled features. Set gamma explicitly to 'auto' or 'scale' to avoid this warning.\n",
            "  \"avoid this warning.\", FutureWarning)\n"
          ],
          "name": "stderr"
        },
        {
          "output_type": "execute_result",
          "data": {
            "text/plain": [
              "SVC(C=0.9, cache_size=200, class_weight=None, coef0=0.0,\n",
              "    decision_function_shape='ovr', degree=3, gamma='auto_deprecated',\n",
              "    kernel='rbf', max_iter=-1, probability=False, random_state=None,\n",
              "    shrinking=True, tol=0.001, verbose=False)"
            ]
          },
          "metadata": {
            "tags": []
          },
          "execution_count": 8
        }
      ]
    },
    {
      "cell_type": "code",
      "metadata": {
        "id": "PM0Wv3EIIw5L",
        "colab_type": "code",
        "outputId": "0630bcb2-27e2-4826-90f4-c4b1aa7cd873",
        "colab": {
          "base_uri": "https://localhost:8080/",
          "height": 36
        }
      },
      "source": [
        "clf.score(X_test, Y_test)"
      ],
      "execution_count": 0,
      "outputs": [
        {
          "output_type": "execute_result",
          "data": {
            "text/plain": [
              "0.9833333333333333"
            ]
          },
          "metadata": {
            "tags": []
          },
          "execution_count": 9
        }
      ]
    },
    {
      "cell_type": "markdown",
      "metadata": {
        "id": "zJOlLbdZI5n4",
        "colab_type": "text"
      },
      "source": [
        "* When evaluating different settings (“hyperparameters”) for estimators, such as the C setting that must be manually set for an SVM, there is still a risk of overfitting on the test set because the parameters can be tweaked until the estimator performs optimally. \n",
        "\n",
        "* This way, knowledge about the test set can “leak” into the model and evaluation metrics no longer report on generalization performance. \n",
        "\n",
        "* To solve this problem, yet another part of the dataset can be held out as a so-called “validation set”: training proceeds on the training set, after which evaluation is done on the validation set, and when the experiment seems to be successful, final evaluation can be done on the test set.\n",
        "\n",
        "* However, by partitioning the available data into three sets, we drastically reduce the number of samples which can be used for learning the model, and the results can depend on a particular random choice for the pair of (train, validation) sets."
      ]
    },
    {
      "cell_type": "markdown",
      "metadata": {
        "id": "IiL6zUvrJGRW",
        "colab_type": "text"
      },
      "source": [
        "## Cross-validation"
      ]
    },
    {
      "cell_type": "markdown",
      "metadata": {
        "id": "vTIhAGo_JNX9",
        "colab_type": "text"
      },
      "source": [
        "* A solution to this problem is a procedure called cross-validation (CV for short).\n",
        "* A test set should still be held out for final evaluation, but the validation set is no longer needed when doing CV. In the basic approach, called k-fold CV, the training set is split into k smaller sets (other approaches are described below, but generally follow the same principles). \n",
        "\n",
        "* The following procedure is followed for each of the k “folds”:"
      ]
    },
    {
      "cell_type": "markdown",
      "metadata": {
        "id": "LDKLirtqJymo",
        "colab_type": "text"
      },
      "source": [
        "* A model is trained using $ k - 1 $\n",
        "of the folds as training data.\n",
        "* The resulting model is validated on the remaining part of the data (i.e., it is used as a test set to compute a performance measure such as accuracy)"
      ]
    },
    {
      "cell_type": "markdown",
      "metadata": {
        "id": "J1OfB61pJ73r",
        "colab_type": "text"
      },
      "source": [
        "* The performance measure reported by k-fold cross-validation is then the average of the values computed in the loop. \n",
        "\n",
        "* This approach can be computationally expensive, but does not waste too much data (as is the case when fixing an arbitrary validation set), which is a major advantage in problems such as inverse inference where the number of samples is very small."
      ]
    },
    {
      "cell_type": "markdown",
      "metadata": {
        "id": "8YYojPXxtHiD",
        "colab_type": "text"
      },
      "source": [
        "## Cross_val_score"
      ]
    },
    {
      "cell_type": "code",
      "metadata": {
        "id": "s-PZwXs1I072",
        "colab_type": "code",
        "colab": {}
      },
      "source": [
        "from sklearn.model_selection import cross_val_score"
      ],
      "execution_count": 0,
      "outputs": []
    },
    {
      "cell_type": "code",
      "metadata": {
        "id": "-oz_UI8wtYaU",
        "colab_type": "code",
        "outputId": "aadeb250-baa2-42fc-82d8-7426bf27bccb",
        "colab": {
          "base_uri": "https://localhost:8080/",
          "height": 93
        }
      },
      "source": [
        "clf = svm.SVC(kernel = 'linear', C = 1)\n",
        "scores = cross_val_score(clf, iris.data, iris.target)\n",
        "print(scores)"
      ],
      "execution_count": 0,
      "outputs": [
        {
          "output_type": "stream",
          "text": [
            "[1.         0.96078431 0.97916667]\n"
          ],
          "name": "stdout"
        },
        {
          "output_type": "stream",
          "text": [
            "/usr/local/lib/python3.6/dist-packages/sklearn/model_selection/_split.py:1978: FutureWarning: The default value of cv will change from 3 to 5 in version 0.22. Specify it explicitly to silence this warning.\n",
            "  warnings.warn(CV_WARNING, FutureWarning)\n"
          ],
          "name": "stderr"
        }
      ]
    },
    {
      "cell_type": "code",
      "metadata": {
        "id": "BLh8ivkZtY8p",
        "colab_type": "code",
        "outputId": "1ab8b614-376a-401a-b43d-ca28f3a13db0",
        "colab": {
          "base_uri": "https://localhost:8080/",
          "height": 36
        }
      },
      "source": [
        "print(\"Accuracy: %0.2f (+/- %0.2f)\" %(scores.mean(), scores.std()*2))"
      ],
      "execution_count": 0,
      "outputs": [
        {
          "output_type": "stream",
          "text": [
            "Accuracy: 0.98 (+/- 0.03)\n"
          ],
          "name": "stdout"
        }
      ]
    },
    {
      "cell_type": "code",
      "metadata": {
        "id": "1-JwUjxQtmP7",
        "colab_type": "code",
        "colab": {}
      },
      "source": [
        "from sklearn import metrics\n",
        "scores = cross_val_score(clf, iris.data, iris.target, cv=5, scoring = 'f1_micro')"
      ],
      "execution_count": 0,
      "outputs": []
    },
    {
      "cell_type": "code",
      "metadata": {
        "id": "1Bz_Z9xot_4P",
        "colab_type": "code",
        "outputId": "80f810fa-0909-499f-f8bb-9722300411c6",
        "colab": {
          "base_uri": "https://localhost:8080/",
          "height": 36
        }
      },
      "source": [
        "print(scores)"
      ],
      "execution_count": 0,
      "outputs": [
        {
          "output_type": "stream",
          "text": [
            "[0.96666667 1.         0.96666667 0.96666667 1.        ]\n"
          ],
          "name": "stdout"
        }
      ]
    },
    {
      "cell_type": "markdown",
      "metadata": {
        "id": "xnvgwSFPuK_s",
        "colab_type": "text"
      },
      "source": [
        "* When the cv argument is an integer, cross_val_score uses the KFold or StratifiedKFold strategies by default, the latter being used if the estimator derives from ClassifierMixin.\n",
        "\n",
        "* It is also possible to use other cross validation strategies by passing a cross validation iterator instead, for instance:"
      ]
    },
    {
      "cell_type": "code",
      "metadata": {
        "id": "edACEw_duCbz",
        "colab_type": "code",
        "outputId": "a905cce3-ea77-49a6-de3a-ff3d7712c010",
        "colab": {
          "base_uri": "https://localhost:8080/",
          "height": 36
        }
      },
      "source": [
        "from sklearn.model_selection import ShuffleSplit\n",
        "n_samples = iris.data.shape[0]\n",
        "cv = ShuffleSplit(n_splits = 5, test_size = 0.3, random_state = 31)\n",
        "cross_val_score(clf, iris.data, iris.target, cv = cv)"
      ],
      "execution_count": 0,
      "outputs": [
        {
          "output_type": "execute_result",
          "data": {
            "text/plain": [
              "array([0.95555556, 0.97777778, 1.        , 1.        , 1.        ])"
            ]
          },
          "metadata": {
            "tags": []
          },
          "execution_count": 19
        }
      ]
    },
    {
      "cell_type": "markdown",
      "metadata": {
        "id": "rJNfdESFuoyy",
        "colab_type": "text"
      },
      "source": [
        "## Cross-validate function"
      ]
    },
    {
      "cell_type": "markdown",
      "metadata": {
        "id": "o365Q3cjusGw",
        "colab_type": "text"
      },
      "source": [
        "The cross_validate function differs from cross_val_score in two ways:\n",
        "\n",
        "* It allows specifying multiple metrics for evaluation.\n",
        "* It returns a dict containing fit-times, score-times (and optionally training scores as well as fitted estimators) in addition to the test score.\n"
      ]
    },
    {
      "cell_type": "code",
      "metadata": {
        "id": "-M8av2Pfuf8T",
        "colab_type": "code",
        "colab": {}
      },
      "source": [
        "from sklearn.model_selection import cross_validate\n",
        "from sklearn.metrics import recall_score"
      ],
      "execution_count": 0,
      "outputs": []
    },
    {
      "cell_type": "code",
      "metadata": {
        "id": "sJajgJMEvZII",
        "colab_type": "code",
        "colab": {}
      },
      "source": [
        "scoring = ['precision_macro', 'recall_macro']\n",
        "clf = svm.SVC(C=1, kernel = 'rbf', random_state=31)\n",
        "scores = cross_validate(clf, iris.data, iris.target, cv = 5, scoring = scoring)"
      ],
      "execution_count": 0,
      "outputs": []
    },
    {
      "cell_type": "code",
      "metadata": {
        "id": "cAoW-m88vbEf",
        "colab_type": "code",
        "outputId": "24038ea0-7025-4ae9-f8e0-02ff8dc6a746",
        "colab": {
          "base_uri": "https://localhost:8080/",
          "height": 36
        }
      },
      "source": [
        "print(sorted(scores.keys()))"
      ],
      "execution_count": 0,
      "outputs": [
        {
          "output_type": "stream",
          "text": [
            "['fit_time', 'score_time', 'test_precision_macro', 'test_recall_macro']\n"
          ],
          "name": "stdout"
        }
      ]
    },
    {
      "cell_type": "code",
      "metadata": {
        "id": "IcWC8XyxvfCU",
        "colab_type": "code",
        "outputId": "107bee0c-2f74-45f3-c326-868ed67b867c",
        "colab": {
          "base_uri": "https://localhost:8080/",
          "height": 36
        }
      },
      "source": [
        "scores['test_recall_macro']"
      ],
      "execution_count": 0,
      "outputs": [
        {
          "output_type": "execute_result",
          "data": {
            "text/plain": [
              "array([0.96666667, 1.        , 0.96666667, 0.96666667, 1.        ])"
            ]
          },
          "metadata": {
            "tags": []
          },
          "execution_count": 24
        }
      ]
    },
    {
      "cell_type": "markdown",
      "metadata": {
        "id": "J9u1fnodvt59",
        "colab_type": "text"
      },
      "source": [
        "## Cross-validation iterators"
      ]
    },
    {
      "cell_type": "markdown",
      "metadata": {
        "id": "nJD-JPUxvzIf",
        "colab_type": "text"
      },
      "source": [
        "* Assuming that some data is Independent and Identically Distributed (i.i.d.) is making the assumption that all samples stem from the same generative process and that the generative process is assumed to have no memory of past generated samples."
      ]
    },
    {
      "cell_type": "markdown",
      "metadata": {
        "id": "-qSz5shFv8Vy",
        "colab_type": "text"
      },
      "source": [
        "* While i.i.d. data is a common assumption in machine learning theory, it rarely holds in practice. If one knows that the samples have been generated using a time-dependent process, it’s safer to use a time-series aware cross-validation scheme Similarly if we know that the generative process has a group structure (samples from collected from different subjects, experiments, measurement devices) it safer to use group-wise cross-validation."
      ]
    },
    {
      "cell_type": "markdown",
      "metadata": {
        "id": "u5E_FTMNwyv8",
        "colab_type": "text"
      },
      "source": [
        "### K-Fold"
      ]
    },
    {
      "cell_type": "markdown",
      "metadata": {
        "id": "oJRq29ncw2_q",
        "colab_type": "text"
      },
      "source": [
        "* K-fold divides the samples in k-groups of samples called folds of equal sizes.\n",
        "* The prediction is learned using $ k - 1 $ folds, and fold left out is used to test."
      ]
    },
    {
      "cell_type": "code",
      "metadata": {
        "id": "uJsg9p4AvjFf",
        "colab_type": "code",
        "colab": {}
      },
      "source": [
        "import numpy as np\n",
        "from sklearn.model_selection import KFold"
      ],
      "execution_count": 0,
      "outputs": []
    },
    {
      "cell_type": "code",
      "metadata": {
        "id": "lButaVBoy9kA",
        "colab_type": "code",
        "colab": {}
      },
      "source": [
        "X = [\"a\",\"b\",\"c\",\"d\"]\n",
        "kf = KFold(n_splits = 2)"
      ],
      "execution_count": 0,
      "outputs": []
    },
    {
      "cell_type": "code",
      "metadata": {
        "id": "XFtEzZ6NzEkQ",
        "colab_type": "code",
        "outputId": "982b2806-727d-426c-e176-5e17fab7a846",
        "colab": {
          "base_uri": "https://localhost:8080/",
          "height": 54
        }
      },
      "source": [
        "for train, test in kf.split(X):\n",
        "    print(\"%s %s\" %(train, test))"
      ],
      "execution_count": 0,
      "outputs": [
        {
          "output_type": "stream",
          "text": [
            "[2 3] [0 1]\n",
            "[0 1] [2 3]\n"
          ],
          "name": "stdout"
        }
      ]
    },
    {
      "cell_type": "markdown",
      "metadata": {
        "id": "NQjWB2AvzTQq",
        "colab_type": "text"
      },
      "source": [
        "![image.png](data:image/png;base64,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)"
      ]
    },
    {
      "cell_type": "markdown",
      "metadata": {
        "id": "RzetxhkHzjh0",
        "colab_type": "text"
      },
      "source": [
        "### Repeated K-Fold"
      ]
    },
    {
      "cell_type": "markdown",
      "metadata": {
        "id": "EYio8mPIzqjp",
        "colab_type": "text"
      },
      "source": [
        "* This repeats K-Fold n times. It can be used when one requires to run `KFold` n times."
      ]
    },
    {
      "cell_type": "code",
      "metadata": {
        "id": "4fKTZYh1zODc",
        "colab_type": "code",
        "colab": {}
      },
      "source": [
        "import numpy as np\n",
        "from sklearn.model_selection import RepeatedKFold"
      ],
      "execution_count": 0,
      "outputs": []
    },
    {
      "cell_type": "code",
      "metadata": {
        "id": "8MQ97ijGz_XL",
        "colab_type": "code",
        "outputId": "97e3e25d-bdba-4099-dee2-ace556231abb",
        "colab": {
          "base_uri": "https://localhost:8080/",
          "height": 91
        }
      },
      "source": [
        "X = np.array([[1,2], [3, 4], [1, 2], [3, 4]])\n",
        "rkf = RepeatedKFold(n_splits = 2, n_repeats=2, random_state = 31)\n",
        "for train, test in (rkf.split(X)):\n",
        "    print(\"%s %s\" %(train, test))"
      ],
      "execution_count": 0,
      "outputs": [
        {
          "output_type": "stream",
          "text": [
            "[0 2] [1 3]\n",
            "[1 3] [0 2]\n",
            "[2 3] [0 1]\n",
            "[0 1] [2 3]\n"
          ],
          "name": "stdout"
        }
      ]
    },
    {
      "cell_type": "markdown",
      "metadata": {
        "id": "5uJhtwSg0XAl",
        "colab_type": "text"
      },
      "source": [
        "### Leave One Out"
      ]
    },
    {
      "cell_type": "markdown",
      "metadata": {
        "id": "KOeqGoiB0cBd",
        "colab_type": "text"
      },
      "source": [
        "* LeaveOneOut (or LOO) is a simple cross-validation. Each learning set is created by taking all the samples except one, the test set being the sample left out. \n",
        "\n",
        "* Thus, for $n$ samples, we have different training sets and different tests set. This cross-validation procedure does not waste much data as only one sample is removed from the training set:"
      ]
    },
    {
      "cell_type": "code",
      "metadata": {
        "id": "cdXnVO7G0NpD",
        "colab_type": "code",
        "colab": {}
      },
      "source": [
        "from sklearn.model_selection import LeaveOneOut"
      ],
      "execution_count": 0,
      "outputs": []
    },
    {
      "cell_type": "code",
      "metadata": {
        "id": "XAYKMS4t0rQM",
        "colab_type": "code",
        "colab": {}
      },
      "source": [
        "X = [1,2,3,4]\n",
        "loo = LeaveOneOut()"
      ],
      "execution_count": 0,
      "outputs": []
    },
    {
      "cell_type": "code",
      "metadata": {
        "id": "WhzmfJ0i0uuJ",
        "colab_type": "code",
        "outputId": "f1030d0d-f128-428f-d047-7b7f368c1d09",
        "colab": {
          "base_uri": "https://localhost:8080/",
          "height": 91
        }
      },
      "source": [
        "for train, test in loo.split(X):\n",
        "    print(\"%s %s\" %(train, test))\n",
        "    "
      ],
      "execution_count": 0,
      "outputs": [
        {
          "output_type": "stream",
          "text": [
            "[1 2 3] [0]\n",
            "[0 2 3] [1]\n",
            "[0 1 3] [2]\n",
            "[0 1 2] [3]\n"
          ],
          "name": "stdout"
        }
      ]
    },
    {
      "cell_type": "markdown",
      "metadata": {
        "id": "oIrZNE4Y7hpg",
        "colab_type": "text"
      },
      "source": [
        "* However, if the learning curve is steep for the training size in question, then 5- or 10- fold cross validation can overestimate the generalization error.\n",
        "\n",
        "* As a general rule, most authors, and empirical evidence, suggest that 5- or 10- fold cross validation should be preferred to LOO."
      ]
    },
    {
      "cell_type": "markdown",
      "metadata": {
        "id": "yNmbVobzzbAq",
        "colab_type": "text"
      },
      "source": [
        "### Leave P Out"
      ]
    },
    {
      "cell_type": "markdown",
      "metadata": {
        "id": "RJdQrTrc7gNB",
        "colab_type": "text"
      },
      "source": [
        "* LeavePOut is very similar to LeaveOneOut as it creates all the possible training/test sets by removing $p$ samples from the complete set. \n",
        "\n",
        "* For samples, this produces $ n \\choose p $ train-test pairs. Unlike LeaveOneOut and KFold"
      ]
    },
    {
      "cell_type": "code",
      "metadata": {
        "id": "a8dyvQ9f00OU",
        "colab_type": "code",
        "colab": {}
      },
      "source": [
        "from sklearn.model_selection import LeavePOut\n",
        "import numpy as np"
      ],
      "execution_count": 0,
      "outputs": []
    },
    {
      "cell_type": "code",
      "metadata": {
        "id": "zG5BNGvf77cr",
        "colab_type": "code",
        "outputId": "66cdd167-43ba-4d43-97c6-276c56638ce9",
        "colab": {
          "base_uri": "https://localhost:8080/",
          "height": 128
        }
      },
      "source": [
        "X = np.ones(4)\n",
        "lpo = LeavePOut(p = 2)\n",
        "for train, test in lpo.split(X):\n",
        "    print(\"%s %s\" % (train, test))"
      ],
      "execution_count": 0,
      "outputs": [
        {
          "output_type": "stream",
          "text": [
            "[2 3] [0 1]\n",
            "[1 3] [0 2]\n",
            "[1 2] [0 3]\n",
            "[0 3] [1 2]\n",
            "[0 2] [1 3]\n",
            "[0 1] [2 3]\n"
          ],
          "name": "stdout"
        }
      ]
    },
    {
      "cell_type": "markdown",
      "metadata": {
        "id": "9cM6BLPw8YJ9",
        "colab_type": "text"
      },
      "source": [
        "### ShuffleSplit"
      ]
    },
    {
      "cell_type": "markdown",
      "metadata": {
        "id": "otadieY28cIK",
        "colab_type": "text"
      },
      "source": [
        "* The ShuffleSplit iterator will generate a user defined number of independent train / test dataset splits. Samples are first shuffled and then split into a pair of train and test sets.\n",
        "\n",
        "* It is possible to control the randomness for reproducibility of the results by explicitly seeding the random_state pseudo random number generator."
      ]
    },
    {
      "cell_type": "markdown",
      "metadata": {
        "id": "rRs9w9Qt80Ig",
        "colab_type": "text"
      },
      "source": [
        "* Note: contrary to other cross-validation strategies, random splits do not guarantee that all folds will be different, although this is still very likely for sizeable datasets."
      ]
    },
    {
      "cell_type": "code",
      "metadata": {
        "id": "deIvUth48Gm4",
        "colab_type": "code",
        "colab": {}
      },
      "source": [
        "from sklearn.model_selection import ShuffleSplit"
      ],
      "execution_count": 0,
      "outputs": []
    },
    {
      "cell_type": "code",
      "metadata": {
        "id": "ESH23pdK8jPw",
        "colab_type": "code",
        "colab": {}
      },
      "source": [
        "X = np.arange(10)\n",
        "ss = ShuffleSplit(n_splits = 5, test_size = 0.25, random_state = 31)"
      ],
      "execution_count": 0,
      "outputs": []
    },
    {
      "cell_type": "code",
      "metadata": {
        "id": "ZOyBmTRz83eI",
        "colab_type": "code",
        "outputId": "b805014b-8940-4894-a493-4cdb2ce669e9",
        "colab": {
          "base_uri": "https://localhost:8080/",
          "height": 110
        }
      },
      "source": [
        "for train,test in ss.split(X):\n",
        "    print(\"%s %s\" %(train, test))"
      ],
      "execution_count": 0,
      "outputs": [
        {
          "output_type": "stream",
          "text": [
            "[8 5 9 6 0 7 2] [4 1 3]\n",
            "[3 5 1 7 2 9 6] [8 4 0]\n",
            "[6 5 3 8 2 4 1] [9 0 7]\n",
            "[0 3 2 1 9 8 7] [6 5 4]\n",
            "[2 5 6 7 8 9 1] [4 3 0]\n"
          ],
          "name": "stdout"
        }
      ]
    },
    {
      "cell_type": "markdown",
      "metadata": {
        "id": "NzTAEkrd9LUe",
        "colab_type": "text"
      },
      "source": [
        "* ShuffleSplit is thus a good alternative to KFold cross validation that allows a finer control on the number of iterations and the proportion of samples on each side of the train / test split."
      ]
    },
    {
      "cell_type": "markdown",
      "metadata": {
        "id": "b1myiz4-9Gtc",
        "colab_type": "text"
      },
      "source": [
        "![image.png](data:image/png;base64,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)"
      ]
    },
    {
      "cell_type": "markdown",
      "metadata": {
        "id": "rdN7OcqB9X3j",
        "colab_type": "text"
      },
      "source": [
        "## Cross-validation with stratification on Class Labels"
      ]
    },
    {
      "cell_type": "markdown",
      "metadata": {
        "id": "ogLWFtLh9laX",
        "colab_type": "text"
      },
      "source": [
        "* Some classification problems can exhibit a large imbalance in the distribution of the target classes: for instance there could be several times more negative samples than positive samples. \n",
        "\n",
        "* In such cases it is recommended to use stratified sampling as implemented in `StratifiedKFold` and `StratifiedShuffleSplit` to ensure that relative class frequencies is approximately preserved in each train and validation fold."
      ]
    },
    {
      "cell_type": "markdown",
      "metadata": {
        "id": "lEXfRlwl-GZr",
        "colab_type": "text"
      },
      "source": [
        "### Stratified K-Fold"
      ]
    },
    {
      "cell_type": "markdown",
      "metadata": {
        "id": "4gn5T2_C-KPt",
        "colab_type": "text"
      },
      "source": [
        "* `StratifiedKFold` is a variation of k-fold which returns stratified folds: each set contains approximately the same percentage of samples of each target class as the complete set.\n",
        "\n",
        "* Example of stratified 3-fold cross-validation on a dataset with 10 samples from three slightly unbalanced classes:"
      ]
    },
    {
      "cell_type": "code",
      "metadata": {
        "id": "C-2XksJe9BpT",
        "colab_type": "code",
        "colab": {}
      },
      "source": [
        "from sklearn.model_selection import StratifiedKFold"
      ],
      "execution_count": 0,
      "outputs": []
    },
    {
      "cell_type": "code",
      "metadata": {
        "id": "XB8kup-W-VRh",
        "colab_type": "code",
        "colab": {}
      },
      "source": [
        "X = np.ones(10)\n",
        "y = [0,0,0,0,1,1,1,2,2,2]\n",
        "skf = StratifiedKFold(n_splits = 3, shuffle = False, random_state=1)"
      ],
      "execution_count": 0,
      "outputs": []
    },
    {
      "cell_type": "code",
      "metadata": {
        "id": "pbwfgKkA-mGP",
        "colab_type": "code",
        "outputId": "be9c7de8-af5b-47e9-a711-8702e2e9105f",
        "colab": {
          "base_uri": "https://localhost:8080/",
          "height": 73
        }
      },
      "source": [
        "for train, test in skf.split(X,y):\n",
        "    print(\"%s %s\" %(train, test))"
      ],
      "execution_count": 0,
      "outputs": [
        {
          "output_type": "stream",
          "text": [
            "[2 3 5 6 8 9] [0 1 4 7]\n",
            "[0 1 3 4 6 7 9] [2 5 8]\n",
            "[0 1 2 4 5 7 8] [3 6 9]\n"
          ],
          "name": "stdout"
        }
      ]
    },
    {
      "cell_type": "markdown",
      "metadata": {
        "id": "ORpircaZ-6Gn",
        "colab_type": "text"
      },
      "source": [
        "* `RepeatedStratifiedKFold` can be used to repeat Stratified K-Fold n times with different randomization in each repetition."
      ]
    },
    {
      "cell_type": "markdown",
      "metadata": {
        "id": "BvpoKEzc_IJs",
        "colab_type": "text"
      },
      "source": [
        "### Stratified Shuffle Split"
      ]
    },
    {
      "cell_type": "markdown",
      "metadata": {
        "id": "ROqG9WxhBC_F",
        "colab_type": "text"
      },
      "source": [
        "* `StratifiedShuffleSplit` is a variation of ShuffleSplit, which returns stratified splits, i.e which creates splits by preserving the same percentage for each target class as in the complete set.\n",
        "\n",
        "* Here is a visualization of the cross-validation behavior."
      ]
    },
    {
      "cell_type": "markdown",
      "metadata": {
        "id": "FUIm8MotBHgn",
        "colab_type": "text"
      },
      "source": [
        "![image.png](data:image/png;base64,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)"
      ]
    },
    {
      "cell_type": "markdown",
      "metadata": {
        "id": "DnSfYHfVBTxR",
        "colab_type": "text"
      },
      "source": [
        "## Cross-validation For Grouped Data"
      ]
    },
    {
      "cell_type": "code",
      "metadata": {
        "id": "odSFwacb-t_R",
        "colab_type": "code",
        "colab": {}
      },
      "source": [
        ""
      ],
      "execution_count": 0,
      "outputs": []
    },
    {
      "cell_type": "markdown",
      "metadata": {
        "id": "bE-Sol0hBat1",
        "colab_type": "text"
      },
      "source": [
        "## Cross Validating Time-Series Data"
      ]
    },
    {
      "cell_type": "markdown",
      "metadata": {
        "id": "cQJjsBVhBhPU",
        "colab_type": "text"
      },
      "source": [
        "* Times Series data is characterised by the correlation between observation that are near in time (autocorrelation).\n",
        "* However, classical cross-validation techniques such as `KFold` and `ShuffleSpilt` assume that samples are indenpendent and identically distributed.\n",
        "* It would result in unreasonable correlation between training and testing instances (yielding poor estimates of generalisation error) on time series data\n",
        "* Therefore, it is very important to evaluate our model for time series data on the “future” observations least like those that are used to train the model. To achieve this, one solution is provided by `TimeSeriesSplit`."
      ]
    },
    {
      "cell_type": "markdown",
      "metadata": {
        "id": "xxudT58PCEkp",
        "colab_type": "text"
      },
      "source": [
        "### Time-Series-Split"
      ]
    },
    {
      "cell_type": "markdown",
      "metadata": {
        "id": "xZBYVOasCarF",
        "colab_type": "text"
      },
      "source": [
        "* TimeSeriesSplit is a variation of k-fold which returns first $k$ folds as train set and the next $ (k + 1) $ th fold as test set. \n",
        "\n",
        "* Note that unlike standard cross-validation methods, successive training sets are supersets of those that come before them. \n",
        "\n",
        "* Also, it adds all surplus data to the first training partition, which is always used to train the model.\n",
        "\n",
        "* This class can be used to cross-validate time series data samples that are observed at fixed time intervals.\n",
        "\n",
        "- Example of 3-split time series cross-validation on a dataset with 6 samples:"
      ]
    },
    {
      "cell_type": "code",
      "metadata": {
        "id": "nFNEM2zBBcKy",
        "colab_type": "code",
        "colab": {}
      },
      "source": [
        "from sklearn.model_selection import TimeSeriesSplit\n",
        "import numpy as np\n",
        "import matplotlib.pyplot as plt"
      ],
      "execution_count": 0,
      "outputs": []
    },
    {
      "cell_type": "code",
      "metadata": {
        "id": "rPLfBLjdC1Sw",
        "colab_type": "code",
        "colab": {}
      },
      "source": [
        "X = np.array([[1, 2], [3, 4], [1, 2], [3, 4], [1, 2], [3, 4]])\n",
        "y = np.array([1,2,3,4,5,6])"
      ],
      "execution_count": 0,
      "outputs": []
    },
    {
      "cell_type": "code",
      "metadata": {
        "id": "a6GLCwqLDIaL",
        "colab_type": "code",
        "outputId": "8ad58d64-bbc7-4420-f942-f87e70f6f2c4",
        "colab": {
          "base_uri": "https://localhost:8080/",
          "height": 269
        }
      },
      "source": [
        "plt.plot(X[:,0], X[:,1], c  = 'g')\n",
        "plt.show()"
      ],
      "execution_count": 0,
      "outputs": [
        {
          "output_type": "display_data",
          "data": {
            "image/png": "[encoded data removed]",
            "text/plain": [
              "<Figure size 432x288 with 1 Axes>"
            ]
          },
          "metadata": {
            "tags": []
          }
        }
      ]
    },
    {
      "cell_type": "code",
      "metadata": {
        "id": "IfTjEDAoDPJS",
        "colab_type": "code",
        "colab": {}
      },
      "source": [
        "tscv = TimeSeriesSplit(n_splits = 3)"
      ],
      "execution_count": 0,
      "outputs": []
    },
    {
      "cell_type": "code",
      "metadata": {
        "id": "vqbVVakGEyCl",
        "colab_type": "code",
        "outputId": "bc0f0ec1-436c-47f6-f467-6f1a2e67a156",
        "colab": {
          "base_uri": "https://localhost:8080/",
          "height": 73
        }
      },
      "source": [
        "for train, test in tscv.split(X):\n",
        "    print(\"%s %s\" % (train, test))"
      ],
      "execution_count": 0,
      "outputs": [
        {
          "output_type": "stream",
          "text": [
            "[0 1 2] [3]\n",
            "[0 1 2 3] [4]\n",
            "[0 1 2 3 4] [5]\n"
          ],
          "name": "stdout"
        }
      ]
    },
    {
      "cell_type": "markdown",
      "metadata": {
        "id": "nihWPKOeFKTq",
        "colab_type": "text"
      },
      "source": [
        "![image.png](data:image/png;base64,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)"
      ]
    },
    {
      "cell_type": "markdown",
      "metadata": {
        "id": "7yd2GCm6FjvQ",
        "colab_type": "text"
      },
      "source": [
        "## Notes"
      ]
    },
    {
      "cell_type": "markdown",
      "metadata": {
        "id": "Jl_CaD3tFmBr",
        "colab_type": "text"
      },
      "source": [
        "* If the data ordering is not arbitrary (e.g. samples with the same class label are contiguous), shuffling it first may be essential to get a meaningful cross- validation result. \n",
        "\n",
        "* However, the opposite may be true if the samples are not independently and identically distributed. \n",
        "\n",
        "* For example, if samples correspond to news articles, and are ordered by their time of publication, then shuffling the data will likely lead to a model that is overfit and an inflated validation score: it will be tested on samples that are artificially similar (close in time) to training samples.\n",
        "\n",
        "* Some cross validation iterators, such as KFold, have an inbuilt option to shuffle the data indices before splitting them. \n",
        "\n",
        "Note that:\n",
        "\n",
        "* This consumes less memory than shuffling the data directly.\n",
        "By default no shuffling occurs, including for the (stratified) K fold cross- validation performed by specifying cv=some_integer to cross_val_score, grid search, etc. \n",
        "\n",
        "* Keep in mind that train_test_split still returns a random split.\n",
        "\n",
        "* The random_state parameter defaults to None, meaning that the shuffling will be different every time KFold(..., shuffle=True) is iterated. However, GridSearchCV will use the same shuffling for each set of parameters validated by a single call to its fit method.\n",
        "\n",
        "* To get identical results for each split, set random_state to an integer.\n"
      ]
    }
  ]
}